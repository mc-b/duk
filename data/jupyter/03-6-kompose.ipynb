{
 "cells": [
  {
   "cell_type": "markdown",
   "id": "a6fff8eb-f23b-433f-9a82-3d67fe1cd66d",
   "metadata": {},
   "source": [
    "Übung: kompose\n",
    "--------------\n",
    "\n",
    "Docker Compose ist ein leistungsfähiges Werkzeug, das die Orchestrierung von Multi-Container-Docker-Anwendungen vereinfacht. \n",
    "\n",
    "Anstatt mühsam einzelne Container manuell zu starten und zu konfigurieren, ermöglicht Docker Compose die Definition und Verwaltung von komplexen Anwendungen in einem einzigen YAML-Datei-Format.\n",
    "\n",
    "- - - \n",
    "[kompose](https://kompose.io/) ist ein benutzerfreundliches und leistungsstarkes Werkzeug, das die Konvertierung von Docker Compose-Dateien in Kubernetes-Manifestdateien vereinfacht. Es wurde entwickelt, um Entwicklern den Übergang von Docker-basierten Entwicklungsumgebungen zu Kubernetes-Produktionsumgebungen zu erleichtern.\n",
    "\n",
    "Zu Übungszwecken wandeln wir eine Docker Compose Datei nach Kubernetes.\n",
    "\n",
    "Zuerst erstellen wir eine Docker Compose YAML-Datei:\n"
   ]
  },
  {
   "cell_type": "code",
   "execution_count": null,
   "id": "a44f7a00-3f22-4cdd-a676-bafd3f8b6d28",
   "metadata": {},
   "outputs": [],
   "source": [
    "%%bash\n",
    "cat <<%EOF% >docker-compose.yaml\n",
    "services:\n",
    "  customer:\n",
    "    container_name: customer\n",
    "    image: registry.gitlab.com/ch-mc-b/autoshop-ms/app/shop/customer:2.0.0\n",
    "    ports:\n",
    "      - \"8080\"      \n",
    "  catalog:\n",
    "    container_name: catalog\n",
    "    image: registry.gitlab.com/ch-mc-b/autoshop-ms/app/shop/catalog:2.0.0\n",
    "    ports:\n",
    "      - \"8080\"       \n",
    "  order:\n",
    "    container_name: order\n",
    "    image: registry.gitlab.com/ch-mc-b/autoshop-ms/app/shop/order:2.0.0\n",
    "    ports:\n",
    "      - \"8080\"            \n",
    "  webshop:\n",
    "    container_name: shop\n",
    "    image: registry.gitlab.com/ch-mc-b/autoshop-ms/app/shop/shop:2.0.0\n",
    "    ports:\n",
    "      - \"8080:8080\"\n",
    "%EOF%\n"
   ]
  },
  {
   "cell_type": "markdown",
   "id": "4349a6f5-867f-45e4-a99d-b7338baab778",
   "metadata": {},
   "source": [
    "Diese Datei wandeln wir mittels `kompose` nach Kubernetes um"
   ]
  },
  {
   "cell_type": "code",
   "execution_count": null,
   "id": "523e8626-1dd1-4bff-b106-8892afe10b16",
   "metadata": {},
   "outputs": [],
   "source": [
    "%%bash\n",
    "rm -rf kompose\n",
    "mkdir kompose\n",
    "cd kompose && kompose -f ../docker-compose.yaml convert \n",
    "ls -l"
   ]
  },
  {
   "cell_type": "markdown",
   "id": "09bda8de-726a-466a-a4d6-264b8f246bb7",
   "metadata": {},
   "source": [
    "Die mittels `kompose` erstellen Dateien übergeben wir an Kubernetes"
   ]
  },
  {
   "cell_type": "code",
   "execution_count": null,
   "id": "55b29a22-3e12-4f8d-9b28-4b50bc994617",
   "metadata": {},
   "outputs": [],
   "source": [
    "! kubectl create namespace kompose\n",
    "! kubectl apply -f kompose --namespace kompose"
   ]
  },
  {
   "cell_type": "markdown",
   "id": "c8db3b5a-8bd7-4292-94a9-c1fc4c92a551",
   "metadata": {},
   "source": [
    "Überprüfen die wrstellen Kubernetes Ressourcen und stellen fest, dass der Port von `webshop` nicht gegen aussen (LoadBalancer) geöffnet wurde."
   ]
  },
  {
   "cell_type": "code",
   "execution_count": null,
   "id": "5ef2b680-b2ce-4013-bad3-7cda4c6fdf75",
   "metadata": {},
   "outputs": [],
   "source": [
    "! kubectl get pods,services --namespace kompose"
   ]
  },
  {
   "cell_type": "markdown",
   "id": "9ee87bb6-b225-4a3d-a49e-6b5c599aee8d",
   "metadata": {},
   "source": [
    "Dies korrigieren wir mittels eines kleinen Shellscripts und unsere Microservices sind nun ansprechbar"
   ]
  },
  {
   "cell_type": "code",
   "execution_count": null,
   "id": "f124fff2-809b-4bb0-9059-ef3c97933221",
   "metadata": {},
   "outputs": [],
   "source": [
    "! kubectl get service --namespace kompose -l io.kompose.service=webshop -o yaml | sed 's/ClusterIP/LoadBalancer/g' | kubectl apply -f -\n",
    "! echo \"http://\"$(cat ~/work/server-ip)\":\"$(kubectl get service --namespace kompose webshop -o=jsonpath='{ .spec.ports[0].nodePort }')"
   ]
  },
  {
   "cell_type": "markdown",
   "id": "fadf31e4-b492-4116-a3cd-bc5f1f33b599",
   "metadata": {},
   "source": [
    "- - -\n",
    "Aufräumen"
   ]
  },
  {
   "cell_type": "code",
   "execution_count": null,
   "id": "1c7fa5a0-95e6-451f-b9dc-f0baf7d19c28",
   "metadata": {},
   "outputs": [],
   "source": [
    "! kubectl delete namespace kompose"
   ]
  },
  {
   "cell_type": "code",
   "execution_count": null,
   "id": "983b7bf1-047f-4bb6-854d-69e8278e9f5c",
   "metadata": {},
   "outputs": [],
   "source": []
  }
 ],
 "metadata": {
  "kernelspec": {
   "display_name": "Python 3 (ipykernel)",
   "language": "python",
   "name": "python3"
  },
  "language_info": {
   "codemirror_mode": {
    "name": "ipython",
    "version": 3
   },
   "file_extension": ".py",
   "mimetype": "text/x-python",
   "name": "python",
   "nbconvert_exporter": "python",
   "pygments_lexer": "ipython3",
   "version": "3.10.12"
  }
 },
 "nbformat": 4,
 "nbformat_minor": 5
}
