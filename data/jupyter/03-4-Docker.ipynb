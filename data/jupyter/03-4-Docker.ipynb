{
 "cells": [
  {
   "cell_type": "markdown",
   "metadata": {},
   "source": [
    "Übung: Dedizierte Docker Image-Stände bauen und verwalten\n",
    "----------------------------------------------------------------------------------------\n",
    "\n",
    "Nun wollen wir ein Docker Image erstellen, dazu brauchen wir ein Dockerfile:"
   ]
  },
  {
   "cell_type": "code",
   "execution_count": null,
   "metadata": {},
   "outputs": [],
   "source": [
    "%%bash\n",
    "cat <<%EOF% >Dockerfile\n",
    "#\n",
    "#   Einfache MySQL Umgebung - veraltet nur zu Schulungszwecken!\n",
    "#\n",
    "FROM ubuntu:14.04\n",
    "\n",
    "# root Password setzen, damit kein Dialog erscheint und die Installation haengt!\n",
    "# Security Problem, besser: https://12factor.net/de/config\n",
    "RUN echo 'mysql-server mysql-server/root_password password S3cr3tp4ssw0rd' | debconf-set-selections \n",
    "RUN echo 'mysql-server mysql-server/root_password_again password S3cr3tp4ssw0rd' | debconf-set-selections \n",
    "\n",
    "# Installation\n",
    "RUN apt-get update && apt-get install -y mysql-server\n",
    "\n",
    "# mysql config - Port fuer alle Hosts oeffnen \n",
    "# Wiederspricht Linux Logik alle Ports zu schliessen. Geht aber nicht anders weil jeder Container seine eigene IP-Adresse hat.\n",
    "RUN sed -i -e\"s/^bind-address\\s*=\\s*127.0.0.1/bind-address = 0.0.0.0/\" /etc/mysql/my.cnf\n",
    "\n",
    "# Obsolet, siehe Kubernetes Health Probe Pattern\n",
    "HEALTHCHECK --interval=5m --timeout=3s CMD curl -f localhost:3306 || exit 1\n",
    "\n",
    "# Obsolet, siehe Kubernetes Ressource: Service\n",
    "EXPOSE 3306\n",
    "\n",
    "# Obsolet, siehe Kubernetes PersistenVolumeClaims\n",
    "VOLUME /var/lib/mysql\n",
    "\n",
    "CMD [\"mysqld\"]\n",
    "%EOF%"
   ]
  },
  {
   "cell_type": "markdown",
   "metadata": {},
   "source": [
    "Um das Anschliessend das Docker Image zu bilden"
   ]
  },
  {
   "cell_type": "code",
   "execution_count": null,
   "metadata": {},
   "outputs": [],
   "source": [
    "! docker build -t mysql ."
   ]
  },
  {
   "cell_type": "markdown",
   "metadata": {},
   "source": [
    "Das Ergebnis können wir uns mit `docker image ls` anschauen"
   ]
  },
  {
   "cell_type": "code",
   "execution_count": null,
   "metadata": {},
   "outputs": [],
   "source": [
    "! docker image ls"
   ]
  },
  {
   "cell_type": "markdown",
   "metadata": {},
   "source": [
    "Ebenfalls können die einzelnen Buildschritte sichtbar gemacht werden"
   ]
  },
  {
   "cell_type": "code",
   "execution_count": null,
   "metadata": {},
   "outputs": [],
   "source": [
    "! docker history mysql"
   ]
  },
  {
   "cell_type": "markdown",
   "metadata": {},
   "source": [
    "***\n",
    "Fragen\n",
    "======\n",
    "\n",
    "Beantwortet die Fragen einzeln oder in der Gruppe und vergleicht diese mit den Antworten\n",
    "\n",
    "\n",
    "Wie erstelle ich ein Container Image\n",
    "<details><summary>Antwort</summary>\n",
    "    docker build \n",
    "</p></details>\n",
    "\n",
    "---\n",
    "\n",
    "In welcher Datei steht welche Inhalte sich im Container Image befinden?\n",
    "<details><summary>Antwort</summary>\n",
    "    Dockerfile \n",
    "</p></details>\n",
    "\n",
    "---\n",
    "\n",
    "Welche Aussage ist besser (siehe auch [The Twelve-Factor App](https://12factor.net/))?\n",
    "* a) Dockerfile sollten möglichst das Builden (CI) und Ausführen von Services beinhalten, so ist alles an einem Ort und der Entwickler kann alles erledigen.\n",
    "* b) Das Builden und Ausführen von Services ist strikt zu trennen. Damit saubere und nachvollziehbare Services mittels CI/CD Prozess entstehen. \n",
    "<details><summary>Antwort</summary>\n",
    "    b)\n",
    "</p></details>\n",
    "\n",
    "---\n",
    "\n",
    "Warum sollten Versionen `tag` von Images immer angegeben werden?\n",
    "<details><summary>Antwort</summary>\n",
    "\t \tAnsonsten wird `latest` verwendet und so nicht sicher welche Version wirklich verwendet wird.\n",
    "</p></details>\n",
    "\n",
    "---\n",
    "\n",
    "Was ist der Unterschied zwischen `docker save`/`docker load` und `docker export`/`docker import`?\n",
    "<details><summary>Antwort</summary>\n",
    "        save/load ist für Images, export/import für Container.\n",
    "        So ist es möglich auch ohne Docker Registry Container Images auszutauschen, z.B. in einer Bank.\n",
    "</p></details>\n",
    "\n",
    "---"
   ]
  },
  {
   "cell_type": "code",
   "execution_count": null,
   "metadata": {},
   "outputs": [],
   "source": []
  }
 ],
 "metadata": {
  "kernelspec": {
   "display_name": "Python 3",
   "language": "python",
   "name": "python3"
  },
  "language_info": {
   "codemirror_mode": {
    "name": "ipython",
    "version": 3
   },
   "file_extension": ".py",
   "mimetype": "text/x-python",
   "name": "python",
   "nbconvert_exporter": "python",
   "pygments_lexer": "ipython3",
   "version": "3.7.3"
  }
 },
 "nbformat": 4,
 "nbformat_minor": 2
}
