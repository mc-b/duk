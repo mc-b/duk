{
 "cells": [
  {
   "cell_type": "markdown",
   "id": "9b30ef11-8b72-4996-82bc-f6f1c6c9d6ed",
   "metadata": {},
   "source": [
    "Übung: Memory Limits\n",
    "--------------------\n",
    "\n",
    "Das Begrenzen des Arbeitsspeichers (Memory) eines Docker-Containers ist ein wichtiger Aspekt der Ressourcenverwaltung und hilft sicherzustellen, dass einzelne Container die Systemressourcen nicht überbeanspruchen. \n",
    "\n",
    "- - -\n",
    "\n",
    "Zuerst starten wir einen Container ohne Begrenzung des Speichers"
   ]
  },
  {
   "cell_type": "code",
   "execution_count": 17,
   "id": "552767fc-99b1-4023-bd29-e99fcb9ebe5f",
   "metadata": {},
   "outputs": [
    {
     "name": "stdout",
     "output_type": "stream",
     "text": [
      "c3ef74cd7f58d36a4862a1d03d834b9174bbeb83dd3a20592f972db62e6d7642\n",
      "CONTAINER ID   NAME          CPU %     MEM USAGE / LIMIT     MEM %     NET I/O     BLOCK I/O     PIDS\n",
      "c3ef74cd7f58   webshop-mem   25.58%    24.47MiB / 7.755GiB   0.31%     606B / 0B   77.8kB / 0B   1\n"
     ]
    }
   ],
   "source": [
    "! docker run --rm --name webshop-mem -d registry.gitlab.com/ch-mc-b/autoshop/shop:2.0.0\n",
    "! docker stats --no-stream webshop-mem"
   ]
  },
  {
   "cell_type": "markdown",
   "id": "6444aab5-9824-46b9-aead-247fbeeb1d19",
   "metadata": {},
   "source": [
    "Dann starten wir den Container nochmals mit Begrenzung des Speichers:"
   ]
  },
  {
   "cell_type": "code",
   "execution_count": 18,
   "id": "0ad318c0-14ec-4e84-a8e8-364784bb3cab",
   "metadata": {},
   "outputs": [
    {
     "name": "stdout",
     "output_type": "stream",
     "text": [
      "7a95453c87ae22764fe18774003ee8a35deb3e1b60bb3e4705c0aa9da582f65b\n",
      "CONTAINER ID   NAME             CPU %     MEM USAGE / LIMIT   MEM %     NET I/O     BLOCK I/O   PIDS\n",
      "7a95453c87ae   webshop-mem200   25.39%    24.41MiB / 200MiB   12.20%    306B / 0B   0B / 0B     1\n"
     ]
    }
   ],
   "source": [
    "! docker run --rm --name webshop-mem200 --memory=200m -d registry.gitlab.com/ch-mc-b/autoshop/shop:2.0.0\n",
    "! docker stats --no-stream webshop-mem200 "
   ]
  },
  {
   "cell_type": "markdown",
   "id": "379abc70-d82e-47b9-a8ee-ad1c39762089",
   "metadata": {},
   "source": [
    "- - -\n",
    "Aufräumen"
   ]
  },
  {
   "cell_type": "code",
   "execution_count": 19,
   "id": "52fa8b35-bf96-415e-94ff-a8987d571baa",
   "metadata": {},
   "outputs": [
    {
     "name": "stdout",
     "output_type": "stream",
     "text": [
      "webshop-mem\n",
      "webshop-mem200\n"
     ]
    }
   ],
   "source": [
    "%%bash\n",
    "docker stop webshop-mem\n",
    "docker stop webshop-mem200"
   ]
  },
  {
   "cell_type": "code",
   "execution_count": null,
   "id": "3511eb90-496b-434b-b508-74e88db023d5",
   "metadata": {},
   "outputs": [],
   "source": []
  }
 ],
 "metadata": {
  "kernelspec": {
   "display_name": "Python 3 (ipykernel)",
   "language": "python",
   "name": "python3"
  },
  "language_info": {
   "codemirror_mode": {
    "name": "ipython",
    "version": 3
   },
   "file_extension": ".py",
   "mimetype": "text/x-python",
   "name": "python",
   "nbconvert_exporter": "python",
   "pygments_lexer": "ipython3",
   "version": "3.12.3"
  }
 },
 "nbformat": 4,
 "nbformat_minor": 5
}
