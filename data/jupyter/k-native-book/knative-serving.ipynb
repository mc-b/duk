{
 "cells": [
  {
   "cell_type": "markdown",
   "id": "70245bd0",
   "metadata": {},
   "source": [
    "# Introducing Knative Serving\n"
   ]
  },
  {
   "cell_type": "code",
   "execution_count": null,
   "id": "4f2dd455",
   "metadata": {},
   "outputs": [],
   "source": [
    "%%bash\n",
    "kn service create hello-example \\\n",
    "--image gcr.io/knative-samples/helloworld-go \\\n",
    "--env TARGET=\"First\""
   ]
  },
  {
   "cell_type": "code",
   "execution_count": null,
   "id": "4c8809b0",
   "metadata": {},
   "outputs": [],
   "source": [
    "%%bash\n",
    "echo \"nameserver 10.152.183.10\" | sudo tee -a /etc/resolv.conf\n",
    "curl hello-example.default.svc.cluster.local"
   ]
  },
  {
   "cell_type": "code",
   "execution_count": null,
   "id": "35b11603",
   "metadata": {},
   "outputs": [],
   "source": [
    "%%bash\n",
    "kn service update hello-example --env TARGET=Second"
   ]
  },
  {
   "cell_type": "code",
   "execution_count": null,
   "id": "93650b9b",
   "metadata": {},
   "outputs": [],
   "source": [
    "%%bash\n",
    "echo \"nameserver 10.152.183.10\" | sudo tee -a /etc/resolv.conf\n",
    "curl hello-example.default.svc.cluster.local"
   ]
  },
  {
   "cell_type": "code",
   "execution_count": null,
   "id": "24aa4099",
   "metadata": {},
   "outputs": [],
   "source": [
    "! kn service ls \n",
    "! kn revision list"
   ]
  },
  {
   "cell_type": "code",
   "execution_count": null,
   "id": "3c3c0837",
   "metadata": {},
   "outputs": [],
   "source": [
    "# Split Traffic\n",
    "! kn service update hello-example --traffic hello-example-00001=50 --traffic hello-example-00002=50"
   ]
  },
  {
   "cell_type": "code",
   "execution_count": null,
   "id": "8ec61fa4",
   "metadata": {},
   "outputs": [],
   "source": [
    "%%bash\n",
    "for i in {1..10}\n",
    "do\n",
    "    echo \"nameserver 10.152.183.10\" | sudo tee -a /etc/resolv.conf >/dev/null\n",
    "    curl -s hello-example.default.svc.cluster.local\n",
    "done    "
   ]
  },
  {
   "cell_type": "code",
   "execution_count": null,
   "id": "63b33ae6",
   "metadata": {},
   "outputs": [],
   "source": [
    "%%bash\n",
    "# Split Traffic\n",
    "kn service update hello-example --traffic hello-example-00001=90 --traffic hello-example-00002=10\n",
    "\n",
    "for i in {1..10}\n",
    "do\n",
    "   c\n",
    "    curl -s hello-example.default.svc.cluster.local\n",
    "done    "
   ]
  },
  {
   "cell_type": "code",
   "execution_count": null,
   "id": "d2880f1a",
   "metadata": {},
   "outputs": [],
   "source": [
    "%%bash\n",
    "# Split Traffic\n",
    "kn service update hello-example --traffic @latest=100\n",
    "for i in {1..10}\n",
    "do\n",
    "    echo \"nameserver 10.152.183.10\" | sudo tee -a /etc/resolv.conf >/dev/null\n",
    "    curl -s hello-example.default.svc.cluster.local\n",
    "done  \n"
   ]
  },
  {
   "cell_type": "code",
   "execution_count": null,
   "id": "64d40eb4",
   "metadata": {},
   "outputs": [],
   "source": [
    "! kubectl get service.serving.knative.dev -o yaml | kubectl-neat"
   ]
  },
  {
   "cell_type": "code",
   "execution_count": null,
   "id": "218aa619",
   "metadata": {},
   "outputs": [],
   "source": [
    "! kn route describe hello-example"
   ]
  },
  {
   "cell_type": "code",
   "execution_count": null,
   "id": "58c96749",
   "metadata": {},
   "outputs": [],
   "source": [
    "! kn service update hello-example --scale 2..5"
   ]
  },
  {
   "cell_type": "code",
   "execution_count": null,
   "id": "d2c15de2",
   "metadata": {},
   "outputs": [],
   "source": [
    "! kn service update --help"
   ]
  },
  {
   "cell_type": "code",
   "execution_count": null,
   "id": "c6f8c6ba",
   "metadata": {},
   "outputs": [],
   "source": []
  },
  {
   "cell_type": "code",
   "execution_count": null,
   "id": "96d0c473",
   "metadata": {},
   "outputs": [],
   "source": []
  },
  {
   "cell_type": "code",
   "execution_count": null,
   "id": "15bb8301",
   "metadata": {},
   "outputs": [],
   "source": [
    "! kn service delete hello-example"
   ]
  },
  {
   "cell_type": "code",
   "execution_count": null,
   "id": "dfa0c83b",
   "metadata": {},
   "outputs": [],
   "source": []
  }
 ],
 "metadata": {
  "kernelspec": {
   "display_name": "Python 3 (ipykernel)",
   "language": "python",
   "name": "python3"
  },
  "language_info": {
   "codemirror_mode": {
    "name": "ipython",
    "version": 3
   },
   "file_extension": ".py",
   "mimetype": "text/x-python",
   "name": "python",
   "nbconvert_exporter": "python",
   "pygments_lexer": "ipython3",
   "version": "3.12.3"
  }
 },
 "nbformat": 4,
 "nbformat_minor": 5
}
