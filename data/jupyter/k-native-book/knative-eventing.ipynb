{
 "cells": [
  {
   "cell_type": "markdown",
   "id": "cec093a2",
   "metadata": {},
   "source": [
    "# K-native Eventing"
   ]
  },
  {
   "cell_type": "code",
   "execution_count": null,
   "id": "2fd518a3",
   "metadata": {},
   "outputs": [],
   "source": [
    "! kn trigger list && kn source list && kn broker list"
   ]
  },
  {
   "cell_type": "code",
   "execution_count": null,
   "id": "e512ad38",
   "metadata": {},
   "outputs": [],
   "source": [
    "! kn broker create default"
   ]
  },
  {
   "cell_type": "code",
   "execution_count": null,
   "id": "49018919",
   "metadata": {},
   "outputs": [],
   "source": [
    "! kn broker list"
   ]
  },
  {
   "cell_type": "code",
   "execution_count": null,
   "id": "1eab050f",
   "metadata": {
    "scrolled": true
   },
   "outputs": [],
   "source": [
    "! kn service create cloudevents-player --image ruromero/cloudevents-player:latest --env BROKER_URL=http://default"
   ]
  },
  {
   "cell_type": "code",
   "execution_count": null,
   "id": "ddb86daa",
   "metadata": {},
   "outputs": [],
   "source": [
    "%%bash    \n",
    "echo \"nameserver 10.152.183.10\" | sudo tee -a /etc/resolv.conf >/dev/null\n",
    "curl -s cloudevents-player.default.svc.cluster.local"
   ]
  },
  {
   "cell_type": "code",
   "execution_count": null,
   "id": "01d7bc5d",
   "metadata": {},
   "outputs": [],
   "source": [
    "%%bash\n",
    "kn trigger create cloudevents-player --sink cloudevents-player"
   ]
  },
  {
   "cell_type": "code",
   "execution_count": null,
   "id": "b8c3de54",
   "metadata": {},
   "outputs": [],
   "source": [
    "! kn trigger list\n",
    "! kn trigger describe cloudevents-player"
   ]
  },
  {
   "cell_type": "code",
   "execution_count": null,
   "id": "bce3a286",
   "metadata": {},
   "outputs": [],
   "source": [
    "%%bash\n",
    "curl -s -X POST http://broker-ingress.knative-eventing.svc.cluster.local/default/default \\\n",
    "-H \"Ce-Id: say-hello\" \\\n",
    "-H \"Ce-Specversion: 1.0\" \\\n",
    "-H \"Ce-Type: shipment\" \\\n",
    "-H \"Ce-Source: curl\" \\\n",
    "-H \"Content-Type: application/json\" \\\n",
    "-d '{\"key\":\"shipment\"}'"
   ]
  },
  {
   "cell_type": "code",
   "execution_count": null,
   "id": "fbaaf799",
   "metadata": {},
   "outputs": [],
   "source": [
    "! kn source list\n"
   ]
  },
  {
   "cell_type": "code",
   "execution_count": null,
   "id": "5b6c4780",
   "metadata": {},
   "outputs": [],
   "source": []
  }
 ],
 "metadata": {
  "kernelspec": {
   "display_name": "Python 3 (ipykernel)",
   "language": "python",
   "name": "python3"
  },
  "language_info": {
   "codemirror_mode": {
    "name": "ipython",
    "version": 3
   },
   "file_extension": ".py",
   "mimetype": "text/x-python",
   "name": "python",
   "nbconvert_exporter": "python",
   "pygments_lexer": "ipython3",
   "version": "3.12.3"
  }
 },
 "nbformat": 4,
 "nbformat_minor": 5
}
