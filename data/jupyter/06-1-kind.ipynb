{
 "cells": [
  {
   "cell_type": "markdown",
   "id": "95033081-4f46-4915-b81f-eb0ddcf4cbde",
   "metadata": {},
   "source": [
    "Übung: kind\n",
    "-----------\n",
    "\n",
    "![](https://kind.sigs.k8s.io/logo/logo.png)\n",
    "\n",
    "Quelle: https://kind.sigs.k8s.io/\n",
    "\n",
    "- - -\n",
    "\n",
    "Kind (Kubernetes IN Docker) ist ein leistungsstarkes Werkzeug, das Entwicklern und Administratoren hilft, Kubernetes-Cluster auf einfache und schnelle Weise lokal zu erstellen und zu verwalten. \n",
    "\n",
    "Kind wurde speziell entwickelt, um Kubernetes-Cluster in Docker-Containern zu betreiben, was es ideal für Entwicklungs-, Test- und CI/CD-Umgebungen macht.\n",
    "\n",
    "* Einfache Installation und Nutzung: Da Kind Docker-Container verwendet, kann ein Kubernetes-Cluster mit nur wenigen Befehlen eingerichtet werden. Dies ermöglicht eine schnelle Bereitstellung und einen unkomplizierten Start.\n",
    "\n",
    "* Portabilität: Durch die Nutzung von Docker-Containern sind die erstellten Kubernetes-Cluster plattformunabhängig und können auf verschiedenen Betriebssystemen wie Linux, macOS und Windows ausgeführt werden.\n",
    "\n",
    "* Schnelle Iteration: Kind ermöglicht schnelle Iterationen bei der Entwicklung und beim Testen von Kubernetes-Anwendungen. Cluster können in Minuten erstellt und gelöscht werden, was eine flexible und dynamische Entwicklungsumgebung unterstützt.\n",
    "\n",
    "* CI/CD-Integration: Kind eignet sich hervorragend für die Integration in Continuous Integration und Continuous Deployment (CI/CD)-Pipelines. Entwickler können ihre Anwendungen in einer realistischen Kubernetes-Umgebung testen, bevor sie in die Produktion überführt werden.\n",
    "\n",
    "* Leichtgewichtig: Im Gegensatz zu herkömmlichen Kubernetes-Installationen benötigt Kind weniger Ressourcen, da es auf Docker-Containern basiert. Dies macht es zu einer idealen Wahl für Entwickler, die auf Laptops oder in begrenzten Entwicklungsumgebungen arbeiten.\n",
    "\n",
    "- - -\n",
    "\n",
    "In der Übung erstellen wir einen Kubernetes Cluster in einem Container. \n",
    "\n",
    "Dazu benötigen wir zuerst eine Konfigurationsdatei welche die Anzahl Master und Worker Nodes festlegt. Hier ein Master und drei Worker Nodes\n"
   ]
  },
  {
   "cell_type": "code",
   "execution_count": null,
   "id": "cbb0a909-80dd-446a-9b32-55ed2a0f013b",
   "metadata": {},
   "outputs": [],
   "source": [
    "%%bash\n",
    "cat <<%EOF% >kind-config.yaml\n",
    "# kind-config.yaml\n",
    "kind: Cluster\n",
    "apiVersion: kind.x-k8s.io/v1alpha4\n",
    "nodes:\n",
    "  - role: control-plane\n",
    "  - role: worker\n",
    "  - role: worker\n",
    "  - role: worker\n",
    "%EOF%"
   ]
  },
  {
   "cell_type": "markdown",
   "id": "645c074a-8e58-4e71-a631-32f18fd4664c",
   "metadata": {},
   "source": [
    "Mit dieser Konfiguration können wir einen Kubernetes Cluster erstellen, wo jede Node als Container läuft."
   ]
  },
  {
   "cell_type": "code",
   "execution_count": null,
   "id": "1d1ffbfd-c775-4614-ab2c-090017f7a27d",
   "metadata": {},
   "outputs": [],
   "source": [
    "! kind create cluster --config kind-config.yaml --name docker-kind"
   ]
  },
  {
   "cell_type": "markdown",
   "id": "674a9839-252b-4c5f-832e-5d29daa3049a",
   "metadata": {},
   "source": [
    "Der Kubernetes Cluster muss als Docker Container sichtbar und via kubectl ansprechbar sein:"
   ]
  },
  {
   "cell_type": "code",
   "execution_count": null,
   "id": "5d35f95a-a0fd-49de-856d-866d2a7a27d4",
   "metadata": {},
   "outputs": [],
   "source": [
    "! docker container ps\n",
    "! kubectl get nodes"
   ]
  },
  {
   "cell_type": "markdown",
   "id": "8de380b0-cc9a-4076-a7b8-f7fba5079857",
   "metadata": {},
   "source": [
    "Intressant sind die gestartet Kubernetes Dienste, welche bei `kind` den Kubernetes Standards entsprechen"
   ]
  },
  {
   "cell_type": "code",
   "execution_count": null,
   "id": "53a1ee89-8432-4eae-bfb4-5cbb0907b604",
   "metadata": {},
   "outputs": [],
   "source": [
    "! kubectl get pods -A -o wide"
   ]
  },
  {
   "cell_type": "markdown",
   "id": "67656e6e-f49e-49ad-9947-2f277a5d764f",
   "metadata": {},
   "source": [
    "- - -\n",
    "\n",
    "Zum Vergleich die Kubernetes Dienste von der [microk8s](https://microk8s.io/) Kubernetes Distribution.\n",
    "\n",
    "Dazu brauchen wir zuerst die Context Namen unserer laufenden Kubernetes Clusters"
   ]
  },
  {
   "cell_type": "code",
   "execution_count": null,
   "id": "96963782-6db8-4d71-88ec-460ef151dcea",
   "metadata": {},
   "outputs": [],
   "source": [
    "! kubectl config get-contexts"
   ]
  },
  {
   "cell_type": "markdown",
   "id": "f0878b8a-1dba-4a24-acb0-8e9a0f3b2ad0",
   "metadata": {},
   "source": [
    "Mit diesem Context Namen können wir nun den Kubernetes Cluster wechseln"
   ]
  },
  {
   "cell_type": "code",
   "execution_count": null,
   "id": "88f6d780-38f7-4f62-8477-787d6ea3b864",
   "metadata": {},
   "outputs": [],
   "source": [
    "%%bash\n",
    "kubectl config use-context microk8s\n",
    "kubectl get pods -A\n",
    "echo \"--------------------------------\"\n",
    "pgrep -l dqlite\n",
    "pgrep -l kubelite\n",
    "#pstree -npTA"
   ]
  },
  {
   "cell_type": "markdown",
   "id": "1808a7c4-0870-4d3e-9d47-6d14e69e0a2c",
   "metadata": {},
   "source": [
    "Wir stellen fest, dass sich die Kubernetes Distributionen hauptsächlich \n",
    "* in der Art der verwendeteten Produkte (z.B. für Netzwerk kindnet vs. calico, Key-Value Server etcd vs. dqlite)\n",
    "* ob die System Prozesse als Container oder Linux System Dienste laufen\n",
    "  \n",
    "unterscheiden."
   ]
  },
  {
   "cell_type": "markdown",
   "id": "874c09d1-d72a-49cf-b284-b46382df551e",
   "metadata": {},
   "source": [
    "- - -\n",
    "\n",
    "Aufräumen\n",
    "\n",
    "Dazu löschen wir den `kind` Kubernetes Cluster und wechseln auf unseren `microk8s` Kubernetes cluster"
   ]
  },
  {
   "cell_type": "code",
   "execution_count": null,
   "id": "ddc50946-b98c-4c59-ad1e-d47f4c6da547",
   "metadata": {},
   "outputs": [],
   "source": [
    "! kind delete cluster --name docker-cluster"
   ]
  },
  {
   "cell_type": "code",
   "execution_count": null,
   "id": "d034f91c-6ab6-4ed0-9b75-20dfdb81c838",
   "metadata": {},
   "outputs": [],
   "source": []
  }
 ],
 "metadata": {
  "kernelspec": {
   "display_name": "Python 3 (ipykernel)",
   "language": "python",
   "name": "python3"
  },
  "language_info": {
   "codemirror_mode": {
    "name": "ipython",
    "version": 3
   },
   "file_extension": ".py",
   "mimetype": "text/x-python",
   "name": "python",
   "nbconvert_exporter": "python",
   "pygments_lexer": "ipython3",
   "version": "3.10.12"
  }
 },
 "nbformat": 4,
 "nbformat_minor": 5
}
