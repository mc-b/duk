{
 "cells": [
  {
   "cell_type": "markdown",
   "metadata": {},
   "source": [
    "Exercise: Functional overview\n",
    "--------------------------------------------\n",
    "\n",
    "(Docker) Get container images and start them as containers.\n",
    "\n",
    "Because of the limitations of hub.docker.com (pull rate limits) we fetch the container images from other public registries."
   ]
  },
  {
   "cell_type": "code",
   "execution_count": null,
   "metadata": {},
   "outputs": [],
   "source": [
    "#! docker pull hello-world\n",
    "! docker pull public.ecr.aws/docker/library/hello-world"
   ]
  },
  {
   "cell_type": "code",
   "execution_count": null,
   "metadata": {},
   "outputs": [],
   "source": [
    "! docker run public.ecr.aws/docker/library/hello-world"
   ]
  },
  {
   "cell_type": "markdown",
   "metadata": {},
   "source": [
    "We start a container in the background (-d), map port 80 to 8081 (-p8081:80).\n",
    "\n",
    "Before the container is started, it is fetched (pull) from the registry and stored in the local cache.\n",
    "\n",
    "We can display the output of the container using the server IP and port 8081."
   ]
  },
  {
   "cell_type": "code",
   "execution_count": null,
   "metadata": {},
   "outputs": [],
   "source": [
    "! docker run --name hello-world -d -p 8081:80 registry.gitlab.com/mc-b/misegr/hello-world\n",
    "! echo \"http://$(cat ~/work/server-ip):8081\""
   ]
  },
  {
   "cell_type": "markdown",
   "metadata": {},
   "source": [
    "We start the same container again.\n",
    "\n",
    "There is no `docker pull` which fetches the container image from the cache."
   ]
  },
  {
   "cell_type": "code",
   "execution_count": null,
   "metadata": {},
   "outputs": [],
   "source": [
    "! docker run --name hello-world1 -d -p 8082:80 registry.gitlab.com/mc-b/misegr/hello-world\n",
    "! echo \"http://$(cat ~/work/server-ip):8082\""
   ]
  },
  {
   "cell_type": "markdown",
   "metadata": {},
   "source": [
    "View container images (in cache)."
   ]
  },
  {
   "cell_type": "code",
   "execution_count": null,
   "metadata": {},
   "outputs": [],
   "source": [
    "! docker image ls"
   ]
  },
  {
   "cell_type": "markdown",
   "metadata": {},
   "source": [
    "Containers (also show finished)"
   ]
  },
  {
   "cell_type": "code",
   "execution_count": null,
   "metadata": {},
   "outputs": [],
   "source": [
    "! docker container ps -a"
   ]
  },
  {
   "cell_type": "markdown",
   "metadata": {},
   "source": [
    "Clean up all containers, even those that are finished"
   ]
  },
  {
   "cell_type": "code",
   "execution_count": null,
   "metadata": {},
   "outputs": [],
   "source": [
    "! docker stop hello-world\n",
    "! docker stop hello-world1\n",
    "! docker container prune -f"
   ]
  },
  {
   "cell_type": "markdown",
   "metadata": {},
   "source": [
    "Containers may no longer exist"
   ]
  },
  {
   "cell_type": "code",
   "execution_count": null,
   "metadata": {},
   "outputs": [],
   "source": [
    "! docker container ps -a"
   ]
  },
  {
   "cell_type": "markdown",
   "metadata": {},
   "source": [
    "Docker images are all still there"
   ]
  },
  {
   "cell_type": "code",
   "execution_count": null,
   "metadata": {},
   "outputs": [],
   "source": [
    "! docker image ls"
   ]
  },
  {
   "cell_type": "markdown",
   "metadata": {},
   "source": [
    "***\n",
    "Pull-Raten-Limits\n",
    "=================\n",
    "Docker Hub uses IP addresses to authenticate users and pull rate limits are based on individual IP addresses.\n",
    "\n",
    "For **anonymous users** the rate limit is set to 100 calls per 6 hours per IP address.\n",
    "\n",
    "We can query the current access as follows:"
   ]
  },
  {
   "cell_type": "code",
   "execution_count": null,
   "metadata": {},
   "outputs": [],
   "source": [
    "%%bash\n",
    "TOKEN=$(curl -s \"https://auth.docker.io/token?service=registry.docker.io&scope=repository:ratelimitpreview/test:pull\" | jq -r .token)\n",
    "curl --head -H \"Authorization: Bearer $TOKEN\" https://registry-1.docker.io/v2/ratelimitpreview/test/manifests/latest"
   ]
  },
  {
   "cell_type": "markdown",
   "metadata": {},
   "source": [
    "For **authenticated users** with a Docker ID, the pull rate is fixed at 200 pulls per 6 hour period.\n",
    "\n",
    "For an authenticated user, create an account on https://hub.docker.com/.\n",
    "\n",
    "And then:\n",
    "* Set username and password as environment variables (as Python script)\n",
    "* `docker login` ausfÃ¼hren"
   ]
  },
  {
   "cell_type": "code",
   "execution_count": null,
   "metadata": {},
   "outputs": [],
   "source": [
    "import os\n",
    "name = input(\"Username: \")\n",
    "os.environ[\"USER\"] = name\n",
    "\n",
    "from getpass import getpass\n",
    "password = getpass(\"Password: \")\n",
    "os.environ[\"PW\"] = password"
   ]
  },
  {
   "cell_type": "code",
   "execution_count": null,
   "metadata": {},
   "outputs": [],
   "source": [
    "! docker login -u ${USER} -p ${PW}"
   ]
  },
  {
   "cell_type": "markdown",
   "metadata": {},
   "source": [
    "***\n",
    "Questions\n",
    "======\n",
    "\n",
    "Answer the questions individually or in groups and compare them with the answers\n",
    "\n",
    "Container\n",
    "---------\n",
    "\n",
    "What Linux kernel functionality do containers use?\n",
    "<details><summary>Answer</summary>\n",
    "Linux namespaces, see also [The Missing Introduction To Containerization](https://medium.com/faun/the-missing-introduction-to-containerization-de1fbb73efc5)\n",
    "</p></details>\n",
    "\n",
    "---\n",
    "\n",
    "What architectural pattern does the developer use when deploying containers?\n",
    "<details><summary>Answer</summary>\n",
    "Microservices\n",
    "</p></details>\n",
    "\n",
    "---\n",
    "\n",
    "What are the three main characteristics (derived from the original Unix) of microservices?\n",
    "<details><summary>Answer</summary>\n",
    "A program should only do one job, and it should do it well. Programs should be able to work together. Use a universal interface. In UNIX, these are text streams. For microservices, the Internet (REST).\n",
    "</p></details>\n",
    "\n",
    "---\n",
    "\n",
    "### Docker\n",
    "***\n",
    "\n",
    "What is the difference between a Docker image and a container?\n",
    "<details><summary>Answer</summary>\n",
    "Container Image = packaged application/microservices, readonly\n",
    "Container = active process running in a Linux namespace\n",
    "</p></details>\n",
    "\n",
    "---\n",
    "\n",
    "What is the difference between a virtual machine and a Docker container?\n",
    "<details><summary>Answer</summary>\n",
    "VM has the operating system running, Docker only has its own processes\n",
    "</p></details>"
   ]
  },
  {
   "cell_type": "code",
   "execution_count": null,
   "metadata": {},
   "outputs": [],
   "source": []
  }
 ],
 "metadata": {
  "kernelspec": {
   "display_name": "Python 3 (ipykernel)",
   "language": "python",
   "name": "python3"
  },
  "language_info": {
   "codemirror_mode": {
    "name": "ipython",
    "version": 3
   },
   "file_extension": ".py",
   "mimetype": "text/x-python",
   "name": "python",
   "nbconvert_exporter": "python",
   "pygments_lexer": "ipython3",
   "version": "3.10.6"
  }
 },
 "nbformat": 4,
 "nbformat_minor": 2
}
