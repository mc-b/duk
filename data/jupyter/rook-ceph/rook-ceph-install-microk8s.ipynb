{
 "cells": [
  {
   "cell_type": "markdown",
   "id": "23be5d99",
   "metadata": {},
   "source": [
    "# Rook und Ceph\n",
    "\n",
    "**Ceph** ist ein verteiltes, fehlertolerantes und hochskalierbares Speichersystem, das Objektspeicher, Blockspeicher (RBD) und verteilte Dateisysteme (CephFS) bereitstellt. Es nutzt das **CRUSH-Algorithmus**, um Daten effizient und ohne zentralen Flaschenhals auf Cluster-Knoten zu verteilen. Ceph wird häufig in Cloud- und Virtualisierungsumgebungen wie OpenStack oder Kubernetes eingesetzt.  \n",
    "\n",
    "**Rook** ist ein **Cloud-Native Storage Orchestrator**, der Ceph in Kubernetes-Clustern automatisiert bereitstellt, verwaltet und überwacht. Rook vereinfacht die Bereitstellung und Verwaltung von Ceph, indem es als Operator in Kubernetes fungiert und automatisch Storage-Pools, Monitore und OSDs (Object Storage Daemons) verwaltet.  \n",
    "\n",
    "**Vorteile von Rook und Ceph:**  \n",
    "- **Skalierbarer, verteilter Speicher** für Block-, Datei- und Objektdaten  \n",
    "- **Automatisches Self-Healing** und Fehlertoleranz  \n",
    "- **Nahtlose Kubernetes-Integration** für Stateful-Workloads  \n",
    "- **Open-Source & Software-Defined Storage**, unabhängig von proprietärer Hardware  "
   ]
  },
  {
   "cell_type": "markdown",
   "id": "2401f09c",
   "metadata": {},
   "source": [
    "### rbd Modul\n",
    "\n",
    "Das **rbd-Modul** des Linux-Kernels ist ein Treiber für das **RADOS Block Device (RBD)**, das in **Ceph**-Clustern verwendet wird. Es ermöglicht den Zugriff auf verteilte, skalierbare Speichergeräte, die über das Ceph-Cluster-Storage-System bereitgestellt werden. Das rbd-Modul stellt diese Speicher als reguläre Blockgeräte im System zur Verfügung, sodass sie wie lokale Festplatten verwendet werden können.  \n",
    "\n",
    "Zu den Hauptfunktionen gehören:  \n",
    "- Direkte Anbindung an Ceph-Cluster über das Netzwerk  \n",
    "- Unterstützung für Snapshots und Klone  \n",
    "- Dynamische Skalierung und hohe Verfügbarkeit  \n",
    "- Effiziente Lastverteilung durch verteilten Speicher  \n",
    "\n",
    "Das rbd-Modul wird typischerweise in Cloud-Umgebungen und Virtualisierungslösungen wie **OpenStack** oder **Kubernetes** genutzt, um hochverfügbaren und redundanten Speicher bereitzustellen.\n",
    "\n",
    "---\n",
    "\n",
    "Bevor wir rook-ceph enablen, muss rdb im Linux Kernel aktiviert sein:"
   ]
  },
  {
   "cell_type": "code",
   "execution_count": 1,
   "id": "476db0a6",
   "metadata": {},
   "outputs": [
    {
     "name": "stdout",
     "output_type": "stream",
     "text": [
      "Reading package lists...\n",
      "Building dependency tree...\n",
      "Reading state information...\n",
      "The following additional packages will be installed:\n",
      "  libboost-context1.83.0 libboost-filesystem1.83.0 libboost-iostreams1.83.0\n",
      "  libboost-program-options1.83.0 libboost-thread1.83.0 libboost-url1.83.0\n",
      "  libcephfs2 libdaxctl1 libgoogle-perftools4t64 libndctl6 liboath0t64 libpmem1\n",
      "  libpmemobj1 librabbitmq4 librados2 libradosstriper1 librbd1 librdmacm1t64\n",
      "  libtcmalloc-minimal4t64 python3-ceph-argparse python3-ceph-common\n",
      "  python3-cephfs python3-prettytable python3-rados python3-rbd\n",
      "Suggested packages:\n",
      "  ceph ceph-mds\n",
      "The following NEW packages will be installed:\n",
      "  ceph-common libboost-context1.83.0 libboost-filesystem1.83.0\n",
      "  libboost-iostreams1.83.0 libboost-program-options1.83.0\n",
      "  libboost-thread1.83.0 libboost-url1.83.0 libcephfs2 libdaxctl1\n",
      "  libgoogle-perftools4t64 libndctl6 liboath0t64 libpmem1 libpmemobj1\n",
      "  librabbitmq4 librados2 libradosstriper1 librbd1 librdmacm1t64\n",
      "  libtcmalloc-minimal4t64 python3-ceph-argparse python3-ceph-common\n",
      "  python3-cephfs python3-prettytable python3-rados python3-rbd\n",
      "0 upgraded, 26 newly installed, 0 to remove and 74 not upgraded.\n",
      "Need to get 37.2 MB of archives.\n",
      "After this operation, 152 MB of additional disk space will be used.\n",
      "Get:1 https://mirror.init7.net/ubuntu noble-updates/main amd64 libboost-iostreams1.83.0 amd64 1.83.0-2.1ubuntu3.1 [259 kB]\n",
      "Get:2 https://mirror.init7.net/ubuntu noble-updates/main amd64 libboost-thread1.83.0 amd64 1.83.0-2.1ubuntu3.1 [276 kB]\n",
      "Get:3 https://mirror.init7.net/ubuntu noble/main amd64 librdmacm1t64 amd64 50.0-2build2 [70.7 kB]\n",
      "Get:4 https://mirror.init7.net/ubuntu noble-updates/main amd64 librados2 amd64 19.2.0-0ubuntu0.24.04.2 [3972 kB]\n",
      "Get:5 https://mirror.init7.net/ubuntu noble/main amd64 libdaxctl1 amd64 77-2ubuntu2 [21.4 kB]\n",
      "Get:6 https://mirror.init7.net/ubuntu noble/main amd64 libndctl6 amd64 77-2ubuntu2 [62.8 kB]\n",
      "Get:7 https://mirror.init7.net/ubuntu noble/main amd64 libpmem1 amd64 1.13.1-1.1ubuntu2 [84.8 kB]\n",
      "Get:8 https://mirror.init7.net/ubuntu noble/main amd64 libpmemobj1 amd64 1.13.1-1.1ubuntu2 [116 kB]\n",
      "Get:9 https://mirror.init7.net/ubuntu noble-updates/main amd64 librbd1 amd64 19.2.0-0ubuntu0.24.04.2 [3351 kB]\n",
      "Get:10 https://mirror.init7.net/ubuntu noble-updates/main amd64 python3-ceph-argparse amd64 19.2.0-0ubuntu0.24.04.2 [45.7 kB]\n",
      "Get:11 https://mirror.init7.net/ubuntu noble-updates/main amd64 python3-ceph-common all 19.2.0-0ubuntu0.24.04.2 [80.5 kB]\n",
      "Get:12 https://mirror.init7.net/ubuntu noble-updates/main amd64 libcephfs2 amd64 19.2.0-0ubuntu0.24.04.2 [826 kB]\n",
      "Get:13 https://mirror.init7.net/ubuntu noble-updates/main amd64 python3-rados amd64 19.2.0-0ubuntu0.24.04.2 [332 kB]\n",
      "Get:14 https://mirror.init7.net/ubuntu noble-updates/main amd64 python3-cephfs amd64 19.2.0-0ubuntu0.24.04.2 [173 kB]\n",
      "Get:15 https://mirror.init7.net/ubuntu noble/main amd64 python3-prettytable all 3.6.0-2 [32.8 kB]\n",
      "Get:16 https://mirror.init7.net/ubuntu noble-updates/main amd64 python3-rbd amd64 19.2.0-0ubuntu0.24.04.2 [319 kB]\n",
      "Get:17 https://mirror.init7.net/ubuntu noble-updates/main amd64 libboost-context1.83.0 amd64 1.83.0-2.1ubuntu3.1 [237 kB]\n",
      "Get:18 https://mirror.init7.net/ubuntu noble-updates/main amd64 libboost-filesystem1.83.0 amd64 1.83.0-2.1ubuntu3.1 [283 kB]\n",
      "Get:19 https://mirror.init7.net/ubuntu noble-updates/main amd64 libboost-program-options1.83.0 amd64 1.83.0-2.1ubuntu3.1 [320 kB]\n",
      "Get:20 https://mirror.init7.net/ubuntu noble-updates/main amd64 libboost-url1.83.0 amd64 1.83.0-2.1ubuntu3.1 [343 kB]\n",
      "Get:21 https://mirror.init7.net/ubuntu noble/main amd64 libtcmalloc-minimal4t64 amd64 2.15-3build1 [89.5 kB]\n",
      "Get:22 https://mirror.init7.net/ubuntu noble/main amd64 libgoogle-perftools4t64 amd64 2.15-3build1 [212 kB]\n",
      "Get:23 https://mirror.init7.net/ubuntu noble-updates/main amd64 liboath0t64 amd64 2.6.11-2.1ubuntu0.1 [43.0 kB]\n",
      "Get:24 https://mirror.init7.net/ubuntu noble/main amd64 librabbitmq4 amd64 0.11.0-1build2 [37.4 kB]\n",
      "Get:25 https://mirror.init7.net/ubuntu noble-updates/main amd64 libradosstriper1 amd64 19.2.0-0ubuntu0.24.04.2 [540 kB]\n",
      "Get:26 https://mirror.init7.net/ubuntu noble-updates/main amd64 ceph-common amd64 19.2.0-0ubuntu0.24.04.2 [25.0 MB]\n"
     ]
    },
    {
     "name": "stderr",
     "output_type": "stream",
     "text": [
      "dpkg-preconfigure: unable to re-open stdin: No such file or directory\n"
     ]
    },
    {
     "name": "stdout",
     "output_type": "stream",
     "text": [
      "Fetched 37.2 MB in 1s (71.2 MB/s)\n",
      "Selecting previously unselected package libboost-iostreams1.83.0:amd64.\n",
      "(Reading database ... 116684 files and directories currently installed.)\n",
      "Preparing to unpack .../00-libboost-iostreams1.83.0_1.83.0-2.1ubuntu3.1_amd64.deb ...\n",
      "Unpacking libboost-iostreams1.83.0:amd64 (1.83.0-2.1ubuntu3.1) ...\n",
      "Selecting previously unselected package libboost-thread1.83.0:amd64.\n",
      "Preparing to unpack .../01-libboost-thread1.83.0_1.83.0-2.1ubuntu3.1_amd64.deb ...\n",
      "Unpacking libboost-thread1.83.0:amd64 (1.83.0-2.1ubuntu3.1) ...\n",
      "Selecting previously unselected package librdmacm1t64:amd64.\n",
      "Preparing to unpack .../02-librdmacm1t64_50.0-2build2_amd64.deb ...\n",
      "Unpacking librdmacm1t64:amd64 (50.0-2build2) ...\n",
      "Selecting previously unselected package librados2.\n",
      "Preparing to unpack .../03-librados2_19.2.0-0ubuntu0.24.04.2_amd64.deb ...\n",
      "Unpacking librados2 (19.2.0-0ubuntu0.24.04.2) ...\n",
      "Selecting previously unselected package libdaxctl1:amd64.\n",
      "Preparing to unpack .../04-libdaxctl1_77-2ubuntu2_amd64.deb ...\n",
      "Unpacking libdaxctl1:amd64 (77-2ubuntu2) ...\n",
      "Selecting previously unselected package libndctl6:amd64.\n",
      "Preparing to unpack .../05-libndctl6_77-2ubuntu2_amd64.deb ...\n",
      "Unpacking libndctl6:amd64 (77-2ubuntu2) ...\n",
      "Selecting previously unselected package libpmem1:amd64.\n",
      "Preparing to unpack .../06-libpmem1_1.13.1-1.1ubuntu2_amd64.deb ...\n",
      "Unpacking libpmem1:amd64 (1.13.1-1.1ubuntu2) ...\n",
      "Selecting previously unselected package libpmemobj1:amd64.\n",
      "Preparing to unpack .../07-libpmemobj1_1.13.1-1.1ubuntu2_amd64.deb ...\n",
      "Unpacking libpmemobj1:amd64 (1.13.1-1.1ubuntu2) ...\n",
      "Selecting previously unselected package librbd1.\n",
      "Preparing to unpack .../08-librbd1_19.2.0-0ubuntu0.24.04.2_amd64.deb ...\n",
      "Unpacking librbd1 (19.2.0-0ubuntu0.24.04.2) ...\n",
      "Selecting previously unselected package python3-ceph-argparse.\n",
      "Preparing to unpack .../09-python3-ceph-argparse_19.2.0-0ubuntu0.24.04.2_amd64.deb ...\n",
      "Unpacking python3-ceph-argparse (19.2.0-0ubuntu0.24.04.2) ...\n",
      "Selecting previously unselected package python3-ceph-common.\n",
      "Preparing to unpack .../10-python3-ceph-common_19.2.0-0ubuntu0.24.04.2_all.deb ...\n",
      "Unpacking python3-ceph-common (19.2.0-0ubuntu0.24.04.2) ...\n",
      "Selecting previously unselected package libcephfs2.\n",
      "Preparing to unpack .../11-libcephfs2_19.2.0-0ubuntu0.24.04.2_amd64.deb ...\n",
      "Unpacking libcephfs2 (19.2.0-0ubuntu0.24.04.2) ...\n",
      "Selecting previously unselected package python3-rados.\n",
      "Preparing to unpack .../12-python3-rados_19.2.0-0ubuntu0.24.04.2_amd64.deb ...\n",
      "Unpacking python3-rados (19.2.0-0ubuntu0.24.04.2) ...\n",
      "Selecting previously unselected package python3-cephfs.\n",
      "Preparing to unpack .../13-python3-cephfs_19.2.0-0ubuntu0.24.04.2_amd64.deb ...\n",
      "Unpacking python3-cephfs (19.2.0-0ubuntu0.24.04.2) ...\n",
      "Selecting previously unselected package python3-prettytable.\n",
      "Preparing to unpack .../14-python3-prettytable_3.6.0-2_all.deb ...\n",
      "Unpacking python3-prettytable (3.6.0-2) ...\n",
      "Selecting previously unselected package python3-rbd.\n",
      "Preparing to unpack .../15-python3-rbd_19.2.0-0ubuntu0.24.04.2_amd64.deb ...\n",
      "Unpacking python3-rbd (19.2.0-0ubuntu0.24.04.2) ...\n",
      "Selecting previously unselected package libboost-context1.83.0:amd64.\n",
      "Preparing to unpack .../16-libboost-context1.83.0_1.83.0-2.1ubuntu3.1_amd64.deb ...\n",
      "Unpacking libboost-context1.83.0:amd64 (1.83.0-2.1ubuntu3.1) ...\n",
      "Selecting previously unselected package libboost-filesystem1.83.0:amd64.\n",
      "Preparing to unpack .../17-libboost-filesystem1.83.0_1.83.0-2.1ubuntu3.1_amd64.deb ...\n",
      "Unpacking libboost-filesystem1.83.0:amd64 (1.83.0-2.1ubuntu3.1) ...\n",
      "Selecting previously unselected package libboost-program-options1.83.0:amd64.\n",
      "Preparing to unpack .../18-libboost-program-options1.83.0_1.83.0-2.1ubuntu3.1_amd64.deb ...\n",
      "Unpacking libboost-program-options1.83.0:amd64 (1.83.0-2.1ubuntu3.1) ...\n",
      "Selecting previously unselected package libboost-url1.83.0:amd64.\n",
      "Preparing to unpack .../19-libboost-url1.83.0_1.83.0-2.1ubuntu3.1_amd64.deb ...\n",
      "Unpacking libboost-url1.83.0:amd64 (1.83.0-2.1ubuntu3.1) ...\n",
      "Selecting previously unselected package libtcmalloc-minimal4t64:amd64.\n",
      "Preparing to unpack .../20-libtcmalloc-minimal4t64_2.15-3build1_amd64.deb ...\n",
      "Unpacking libtcmalloc-minimal4t64:amd64 (2.15-3build1) ...\n",
      "Selecting previously unselected package libgoogle-perftools4t64:amd64.\n",
      "Preparing to unpack .../21-libgoogle-perftools4t64_2.15-3build1_amd64.deb ...\n",
      "Unpacking libgoogle-perftools4t64:amd64 (2.15-3build1) ...\n",
      "Selecting previously unselected package liboath0t64:amd64.\n",
      "Preparing to unpack .../22-liboath0t64_2.6.11-2.1ubuntu0.1_amd64.deb ...\n",
      "Unpacking liboath0t64:amd64 (2.6.11-2.1ubuntu0.1) ...\n",
      "Selecting previously unselected package librabbitmq4:amd64.\n",
      "Preparing to unpack .../23-librabbitmq4_0.11.0-1build2_amd64.deb ...\n",
      "Unpacking librabbitmq4:amd64 (0.11.0-1build2) ...\n",
      "Selecting previously unselected package libradosstriper1.\n",
      "Preparing to unpack .../24-libradosstriper1_19.2.0-0ubuntu0.24.04.2_amd64.deb ...\n",
      "Unpacking libradosstriper1 (19.2.0-0ubuntu0.24.04.2) ...\n",
      "Selecting previously unselected package ceph-common.\n",
      "Preparing to unpack .../25-ceph-common_19.2.0-0ubuntu0.24.04.2_amd64.deb ...\n",
      "Unpacking ceph-common (19.2.0-0ubuntu0.24.04.2) ...\n",
      "Setting up libboost-program-options1.83.0:amd64 (1.83.0-2.1ubuntu3.1) ...\n",
      "Setting up librabbitmq4:amd64 (0.11.0-1build2) ...\n",
      "Setting up libboost-context1.83.0:amd64 (1.83.0-2.1ubuntu3.1) ...\n",
      "Setting up python3-ceph-argparse (19.2.0-0ubuntu0.24.04.2) ...\n",
      "Setting up libboost-thread1.83.0:amd64 (1.83.0-2.1ubuntu3.1) ...\n",
      "Setting up libboost-filesystem1.83.0:amd64 (1.83.0-2.1ubuntu3.1) ...\n",
      "Setting up libboost-url1.83.0:amd64 (1.83.0-2.1ubuntu3.1) ...\n",
      "Setting up libboost-iostreams1.83.0:amd64 (1.83.0-2.1ubuntu3.1) ...\n",
      "Setting up python3-ceph-common (19.2.0-0ubuntu0.24.04.2) ...\n",
      "Setting up libtcmalloc-minimal4t64:amd64 (2.15-3build1) ...\n",
      "Setting up libdaxctl1:amd64 (77-2ubuntu2) ...\n",
      "Setting up libndctl6:amd64 (77-2ubuntu2) ...\n",
      "Setting up librdmacm1t64:amd64 (50.0-2build2) ...\n",
      "Setting up liboath0t64:amd64 (2.6.11-2.1ubuntu0.1) ...\n",
      "Setting up python3-prettytable (3.6.0-2) ...\n",
      "Setting up libpmem1:amd64 (1.13.1-1.1ubuntu2) ...\n",
      "Setting up librados2 (19.2.0-0ubuntu0.24.04.2) ...\n",
      "Setting up libgoogle-perftools4t64:amd64 (2.15-3build1) ...\n",
      "Setting up libcephfs2 (19.2.0-0ubuntu0.24.04.2) ...\n",
      "Setting up libradosstriper1 (19.2.0-0ubuntu0.24.04.2) ...\n",
      "Setting up libpmemobj1:amd64 (1.13.1-1.1ubuntu2) ...\n",
      "Setting up librbd1 (19.2.0-0ubuntu0.24.04.2) ...\n",
      "Setting up python3-rados (19.2.0-0ubuntu0.24.04.2) ...\n",
      "Setting up python3-rbd (19.2.0-0ubuntu0.24.04.2) ...\n",
      "Setting up python3-cephfs (19.2.0-0ubuntu0.24.04.2) ...\n",
      "Setting up ceph-common (19.2.0-0ubuntu0.24.04.2) ...\n",
      "Adding group ceph....done\n",
      "Adding system user ceph....done\n",
      "Setting system user ceph properties..usermod: unlocking the user's password would result in a passwordless account.\n",
      "You should set a password with usermod -p to unlock this user's password.\n",
      "..done\n",
      "chown: cannot access '/var/log/ceph/*.log*': No such file or directory\n",
      "Created symlink /etc/systemd/system/multi-user.target.wants/ceph.target → /usr/lib/systemd/system/ceph.target.\n",
      "Created symlink /etc/systemd/system/multi-user.target.wants/rbdmap.service → /usr/lib/systemd/system/rbdmap.service.\n",
      "Processing triggers for man-db (2.12.0-4build2) ...\n",
      "Processing triggers for libc-bin (2.39-0ubuntu8.4) ...\n"
     ]
    },
    {
     "name": "stderr",
     "output_type": "stream",
     "text": [
      "\n",
      "Running kernel seems to be up-to-date.\n",
      "\n",
      "Restarting services...\n",
      "\n",
      "Service restarts being deferred:\n",
      " systemctl restart unattended-upgrades.service\n",
      "\n",
      "No containers need to be restarted.\n",
      "\n",
      "No user sessions are running outdated binaries.\n",
      "\n",
      "No VM guests are running outdated hypervisor (qemu) binaries on this host.\n"
     ]
    },
    {
     "name": "stdout",
     "output_type": "stream",
     "text": [
      "rbd                   126976  0\n",
      "libceph               544768  2 ceph,rbd\n"
     ]
    }
   ],
   "source": [
    "%%bash\n",
    "sudo apt-get install ceph-common -y\n",
    "lsmod | grep ceph\n",
    "sudo modprobe ceph\n",
    "\n",
    "sudo modprobe rbd\n",
    "lsmod | grep rbd"
   ]
  },
  {
   "cell_type": "code",
   "execution_count": 2,
   "id": "e3525516",
   "metadata": {},
   "outputs": [
    {
     "name": "stderr",
     "output_type": "stream",
     "text": [
      "Infer repository core for addon rook-ceph\n"
     ]
    },
    {
     "name": "stdout",
     "output_type": "stream",
     "text": [
      "Add Rook Helm repository https://charts.rook.io/release\n",
      "\"rook-release\" has been added to your repositories\n",
      "Hang tight while we grab the latest from your chart repositories...\n",
      "...Successfully got an update from the \"rook-release\" chart repository\n",
      "Update Complete. ⎈Happy Helming!⎈\n",
      "Install Rook version v1.11.9\n",
      "NAME: rook-ceph\n",
      "LAST DEPLOYED: Sat Feb  8 19:13:34 2025\n",
      "NAMESPACE: rook-ceph\n",
      "STATUS: deployed\n",
      "REVISION: 1\n",
      "TEST SUITE: None\n",
      "NOTES:\n",
      "The Rook Operator has been installed. Check its status by running:\n",
      "  kubectl --namespace rook-ceph get pods -l \"app=rook-ceph-operator\"\n",
      "\n",
      "Visit https://rook.io/docs/rook/latest for instructions on how to create and configure Rook clusters\n",
      "\n",
      "Important Notes:\n",
      "- You must customize the 'CephCluster' resource in the sample manifests for your cluster.\n",
      "- Each CephCluster must be deployed to its own namespace, the samples use `rook-ceph` for the namespace.\n",
      "- The sample manifests assume you also installed the rook-ceph operator in the `rook-ceph` namespace.\n",
      "- The helm chart includes all the RBAC required to create a CephCluster CRD in the same namespace.\n",
      "- Any disk devices you add to the cluster in the 'CephCluster' must be empty (no filesystem and no partitions).\n",
      "Creating 'microk8s connect-external-ceph' command\n",
      "\n",
      "=================================================\n",
      "\n",
      "Rook Ceph operator v1.11.9 is now deployed in your MicroK8s cluster and\n",
      "will shortly be available for use.\n",
      "\n",
      "As a next step, you can either deploy Ceph on MicroK8s, or connect MicroK8s with an\n",
      "existing Ceph cluster.\n",
      "\n",
      "To connect MicroK8s with an existing Ceph cluster, you can use the helper command\n",
      "'microk8s connect-external-ceph'. If you are running MicroCeph on the same node, then\n",
      "you can use the following command:\n",
      "\n",
      "    sudo microk8s connect-external-ceph\n",
      "\n",
      "Alternatively, you can connect MicroK8s with any external Ceph cluster using:\n",
      "\n",
      "    sudo microk8s connect-external-ceph \\\n",
      "        --ceph-conf /path/to/cluster/ceph.conf \\\n",
      "        --keyring /path/to/cluster/ceph.keyring \\\n",
      "        --rbd-pool microk8s-rbd\n",
      "\n",
      "For a list of all supported options, use 'microk8s connect-external-ceph --help'.\n",
      "\n",
      "To deploy Ceph on the MicroK8s cluster using storage from your Kubernetes nodes, refer\n",
      "to https://rook.io/docs/rook/latest-release/CRDs/Cluster/ceph-cluster-crd/\n",
      "\n",
      "\n"
     ]
    }
   ],
   "source": [
    "%%bash\n",
    "sudo microk8s enable rook-ceph"
   ]
  },
  {
   "cell_type": "markdown",
   "id": "5eac17d6",
   "metadata": {},
   "source": [
    "Dann können wir rook-ceph enablen"
   ]
  },
  {
   "cell_type": "code",
   "execution_count": 3,
   "id": "c433958a",
   "metadata": {},
   "outputs": [
    {
     "name": "stdout",
     "output_type": "stream",
     "text": [
      "NAME                                  READY   STATUS              RESTARTS   AGE\r\n",
      "rook-ceph-operator-6fcdbf47f9-f2tvd   0/1     ContainerCreating   0          1s\r\n"
     ]
    }
   ],
   "source": [
    "! kubectl get pods -n rook-ceph"
   ]
  },
  {
   "cell_type": "markdown",
   "id": "952c0253",
   "metadata": {},
   "source": [
    "### Host Storage Cluster\n",
    "\n",
    "Um rook-ceph auszuprobieren, verwenden wir die Variante \"Host Storage Cluster\".\n",
    "\n",
    "In einem \"Host Storage Cluster\" konfiguriert Rook Ceph so, dass Daten direkt auf dem Host gespeichert werden. \n",
    "\n",
    "Der `allowMultiplePerNode: true` sollte `false` sein, damit die Daten über die drei Hosts verteilt werden."
   ]
  },
  {
   "cell_type": "code",
   "execution_count": 4,
   "id": "ac43c39a",
   "metadata": {},
   "outputs": [
    {
     "name": "stdout",
     "output_type": "stream",
     "text": [
      "configmap/rook-config-override created\n",
      "cephcluster.ceph.rook.io/my-cluster created\n",
      "cephblockpool.ceph.rook.io/builtin-mgr created\n"
     ]
    }
   ],
   "source": [
    "%%bash\n",
    "kubectl apply -f https://raw.githubusercontent.com/rook/rook/refs/heads/release-1.11/deploy/examples/cluster-test.yaml"
   ]
  },
  {
   "cell_type": "markdown",
   "id": "43ddc964",
   "metadata": {},
   "source": [
    "Dieser Eintrag triggert den Rook Operator welcher die weiteren Storage Driver aktiviert.\n",
    "\n",
    "Am Schluss muss HEALTH_OK erscheinen."
   ]
  },
  {
   "cell_type": "code",
   "execution_count": 11,
   "id": "188aa2ee",
   "metadata": {},
   "outputs": [
    {
     "name": "stdout",
     "output_type": "stream",
     "text": [
      "NAME                                              READY   STATUS      RESTARTS   AGE\n",
      "csi-cephfsplugin-provisioner-cfcb697c6-svxtx      5/5     Running     0          119s\n",
      "csi-cephfsplugin-wdpx5                            2/2     Running     0          119s\n",
      "csi-rbdplugin-provisioner-78d9798cb-bl7sb         5/5     Running     0          119s\n",
      "csi-rbdplugin-qs22q                               2/2     Running     0          2m\n",
      "rook-ceph-mgr-a-7b9999d8f4-c8wv5                  1/1     Running     0          111s\n",
      "rook-ceph-mon-a-dd58bc4df-7wb9m                   1/1     Running     0          2m25s\n",
      "rook-ceph-operator-6fcdbf47f9-f2tvd               1/1     Running     0          3m25s\n",
      "rook-ceph-osd-prepare-cna-cloud-hf-08-cp1-jbrjm   0/1     Completed   0          89s\n",
      "NAME         DATADIRHOSTPATH   MONCOUNT   AGE     PHASE   MESSAGE                        HEALTH        EXTERNAL   FSID\n",
      "my-cluster   /var/lib/rook     1          2m58s   Ready   Cluster created successfully   HEALTH_WARN              49ba77c9-ddc6-4fbf-b31d-c4d8ca5fe482\n"
     ]
    }
   ],
   "source": [
    "%%bash\n",
    "kubectl get pods --namespace rook-ceph\n",
    "kubectl -n rook-ceph get CephCluster"
   ]
  },
  {
   "cell_type": "markdown",
   "id": "cbacdc6f",
   "metadata": {},
   "source": [
    "### Links\n",
    "\n",
    "* [Host Storage Cluster](https://rook.io/docs/rook/v1.11/CRDs/Cluster/host-cluster/)"
   ]
  },
  {
   "cell_type": "code",
   "execution_count": null,
   "id": "9df0c85d",
   "metadata": {},
   "outputs": [],
   "source": []
  }
 ],
 "metadata": {
  "kernelspec": {
   "display_name": "Python 3 (ipykernel)",
   "language": "python",
   "name": "python3"
  },
  "language_info": {
   "codemirror_mode": {
    "name": "ipython",
    "version": 3
   },
   "file_extension": ".py",
   "mimetype": "text/x-python",
   "name": "python",
   "nbconvert_exporter": "python",
   "pygments_lexer": "ipython3",
   "version": "3.12.3"
  }
 },
 "nbformat": 4,
 "nbformat_minor": 5
}
