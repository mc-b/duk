{
 "cells": [
  {
   "cell_type": "markdown",
   "id": "23be5d99",
   "metadata": {},
   "source": [
    "# Rook und Ceph\n",
    "\n",
    "**Ceph** ist ein verteiltes, fehlertolerantes und hochskalierbares Speichersystem, das Objektspeicher, Blockspeicher (RBD) und verteilte Dateisysteme (CephFS) bereitstellt. Es nutzt das **CRUSH-Algorithmus**, um Daten effizient und ohne zentralen Flaschenhals auf Cluster-Knoten zu verteilen. Ceph wird häufig in Cloud- und Virtualisierungsumgebungen wie OpenStack oder Kubernetes eingesetzt.  \n",
    "\n",
    "**Rook** ist ein **Cloud-Native Storage Orchestrator**, der Ceph in Kubernetes-Clustern automatisiert bereitstellt, verwaltet und überwacht. Rook vereinfacht die Bereitstellung und Verwaltung von Ceph, indem es als Operator in Kubernetes fungiert und automatisch Storage-Pools, Monitore und OSDs (Object Storage Daemons) verwaltet.  \n",
    "\n",
    "**Vorteile von Rook und Ceph:**  \n",
    "- **Skalierbarer, verteilter Speicher** für Block-, Datei- und Objektdaten  \n",
    "- **Automatisches Self-Healing** und Fehlertoleranz  \n",
    "- **Nahtlose Kubernetes-Integration** für Stateful-Workloads  \n",
    "- **Open-Source & Software-Defined Storage**, unabhängig von proprietärer Hardware  "
   ]
  },
  {
   "cell_type": "markdown",
   "id": "2401f09c",
   "metadata": {},
   "source": [
    "### rbd Modul\n",
    "\n",
    "Das **rbd-Modul** des Linux-Kernels ist ein Treiber für das **RADOS Block Device (RBD)**, das in **Ceph**-Clustern verwendet wird. Es ermöglicht den Zugriff auf verteilte, skalierbare Speichergeräte, die über das Ceph-Cluster-Storage-System bereitgestellt werden. Das rbd-Modul stellt diese Speicher als reguläre Blockgeräte im System zur Verfügung, sodass sie wie lokale Festplatten verwendet werden können.  \n",
    "\n",
    "Zu den Hauptfunktionen gehören:  \n",
    "- Direkte Anbindung an Ceph-Cluster über das Netzwerk  \n",
    "- Unterstützung für Snapshots und Klone  \n",
    "- Dynamische Skalierung und hohe Verfügbarkeit  \n",
    "- Effiziente Lastverteilung durch verteilten Speicher  \n",
    "\n",
    "Das rbd-Modul wird typischerweise in Cloud-Umgebungen und Virtualisierungslösungen wie **OpenStack** oder **Kubernetes** genutzt, um hochverfügbaren und redundanten Speicher bereitzustellen.\n",
    "\n",
    "---\n",
    "\n",
    "Bevor wir rook-ceph enablen, muss rdb im Linux Kernel aktiviert sein:"
   ]
  },
  {
   "cell_type": "code",
   "execution_count": 1,
   "id": "476db0a6",
   "metadata": {},
   "outputs": [
    {
     "name": "stdout",
     "output_type": "stream",
     "text": [
      "rbd                   126976  0\n",
      "libceph               544768  2 ceph,rbd\n"
     ]
    }
   ],
   "source": [
    "%%bash\n",
    "sudo apt-get install ceph-common -y\n",
    "lsmod | grep ceph\n",
    "sudo modprobe ceph\n",
    "\n",
    "sudo modprobe rbd\n",
    "lsmod | grep rbd"
   ]
  },
  {
   "cell_type": "code",
   "execution_count": 10,
   "id": "9e748237",
   "metadata": {},
   "outputs": [
    {
     "name": "stderr",
     "output_type": "stream",
     "text": [
      "Cloning into 'rook'...\n",
      "Note: switching to 'fd9e649070e2ed0500eb2e5d8690664eae7cf90b'.\n",
      "\n",
      "You are in 'detached HEAD' state. You can look around, make experimental\n",
      "changes and commit them, and you can discard any commits you make in this\n",
      "state without impacting any branches by switching back to a branch.\n",
      "\n",
      "If you want to create a new branch to retain commits you create, you may\n",
      "do so (now or later) by using -c with the switch command. Example:\n",
      "\n",
      "  git switch -c <new-branch-name>\n",
      "\n",
      "Or undo this operation with:\n",
      "\n",
      "  git switch -\n",
      "\n",
      "Turn off this advice by setting config variable advice.detachedHead to false\n",
      "\n"
     ]
    },
    {
     "name": "stdout",
     "output_type": "stream",
     "text": [
      "customresourcedefinition.apiextensions.k8s.io/cephblockpoolradosnamespaces.ceph.rook.io created\n",
      "customresourcedefinition.apiextensions.k8s.io/cephblockpools.ceph.rook.io created\n",
      "customresourcedefinition.apiextensions.k8s.io/cephbucketnotifications.ceph.rook.io created\n",
      "customresourcedefinition.apiextensions.k8s.io/cephbuckettopics.ceph.rook.io created\n",
      "customresourcedefinition.apiextensions.k8s.io/cephclients.ceph.rook.io created\n",
      "customresourcedefinition.apiextensions.k8s.io/cephclusters.ceph.rook.io created\n",
      "customresourcedefinition.apiextensions.k8s.io/cephcosidrivers.ceph.rook.io created\n",
      "customresourcedefinition.apiextensions.k8s.io/cephfilesystemmirrors.ceph.rook.io created\n",
      "customresourcedefinition.apiextensions.k8s.io/cephfilesystems.ceph.rook.io created\n",
      "customresourcedefinition.apiextensions.k8s.io/cephfilesystemsubvolumegroups.ceph.rook.io created\n",
      "customresourcedefinition.apiextensions.k8s.io/cephnfses.ceph.rook.io created\n",
      "customresourcedefinition.apiextensions.k8s.io/cephobjectrealms.ceph.rook.io created\n",
      "customresourcedefinition.apiextensions.k8s.io/cephobjectstores.ceph.rook.io created\n",
      "customresourcedefinition.apiextensions.k8s.io/cephobjectstoreusers.ceph.rook.io created\n",
      "customresourcedefinition.apiextensions.k8s.io/cephobjectzonegroups.ceph.rook.io created\n",
      "customresourcedefinition.apiextensions.k8s.io/cephobjectzones.ceph.rook.io created\n",
      "customresourcedefinition.apiextensions.k8s.io/cephrbdmirrors.ceph.rook.io created\n",
      "customresourcedefinition.apiextensions.k8s.io/objectbucketclaims.objectbucket.io created\n",
      "customresourcedefinition.apiextensions.k8s.io/objectbuckets.objectbucket.io created\n",
      "namespace/rook-ceph created\n",
      "clusterrole.rbac.authorization.k8s.io/cephfs-csi-nodeplugin created\n",
      "clusterrole.rbac.authorization.k8s.io/cephfs-external-provisioner-runner created\n",
      "clusterrole.rbac.authorization.k8s.io/objectstorage-provisioner-role created\n",
      "clusterrole.rbac.authorization.k8s.io/rbd-csi-nodeplugin created\n",
      "clusterrole.rbac.authorization.k8s.io/rbd-external-provisioner-runner created\n",
      "clusterrole.rbac.authorization.k8s.io/rook-ceph-cluster-mgmt created\n",
      "clusterrole.rbac.authorization.k8s.io/rook-ceph-global created\n",
      "clusterrole.rbac.authorization.k8s.io/rook-ceph-mgr-cluster created\n",
      "clusterrole.rbac.authorization.k8s.io/rook-ceph-mgr-system created\n",
      "clusterrole.rbac.authorization.k8s.io/rook-ceph-object-bucket created\n",
      "clusterrole.rbac.authorization.k8s.io/rook-ceph-osd created\n",
      "clusterrole.rbac.authorization.k8s.io/rook-ceph-system created\n",
      "clusterrolebinding.rbac.authorization.k8s.io/cephfs-csi-nodeplugin-role created\n",
      "clusterrolebinding.rbac.authorization.k8s.io/cephfs-csi-provisioner-role created\n",
      "clusterrolebinding.rbac.authorization.k8s.io/objectstorage-provisioner-role-binding created\n",
      "clusterrolebinding.rbac.authorization.k8s.io/rbd-csi-nodeplugin created\n",
      "clusterrolebinding.rbac.authorization.k8s.io/rbd-csi-provisioner-role created\n",
      "clusterrolebinding.rbac.authorization.k8s.io/rook-ceph-global created\n",
      "clusterrolebinding.rbac.authorization.k8s.io/rook-ceph-mgr-cluster created\n",
      "clusterrolebinding.rbac.authorization.k8s.io/rook-ceph-object-bucket created\n",
      "clusterrolebinding.rbac.authorization.k8s.io/rook-ceph-osd created\n",
      "clusterrolebinding.rbac.authorization.k8s.io/rook-ceph-system created\n",
      "role.rbac.authorization.k8s.io/cephfs-external-provisioner-cfg created\n",
      "role.rbac.authorization.k8s.io/rbd-csi-nodeplugin created\n",
      "role.rbac.authorization.k8s.io/rbd-external-provisioner-cfg created\n",
      "role.rbac.authorization.k8s.io/rook-ceph-cmd-reporter created\n",
      "role.rbac.authorization.k8s.io/rook-ceph-mgr created\n",
      "role.rbac.authorization.k8s.io/rook-ceph-osd created\n",
      "role.rbac.authorization.k8s.io/rook-ceph-purge-osd created\n",
      "role.rbac.authorization.k8s.io/rook-ceph-system created\n",
      "rolebinding.rbac.authorization.k8s.io/cephfs-csi-provisioner-role-cfg created\n",
      "rolebinding.rbac.authorization.k8s.io/rbd-csi-nodeplugin-role-cfg created\n",
      "rolebinding.rbac.authorization.k8s.io/rbd-csi-provisioner-role-cfg created\n",
      "rolebinding.rbac.authorization.k8s.io/rook-ceph-cluster-mgmt created\n",
      "rolebinding.rbac.authorization.k8s.io/rook-ceph-cmd-reporter created\n",
      "rolebinding.rbac.authorization.k8s.io/rook-ceph-mgr created\n",
      "rolebinding.rbac.authorization.k8s.io/rook-ceph-mgr-system created\n",
      "rolebinding.rbac.authorization.k8s.io/rook-ceph-osd created\n",
      "rolebinding.rbac.authorization.k8s.io/rook-ceph-purge-osd created\n",
      "rolebinding.rbac.authorization.k8s.io/rook-ceph-system created\n",
      "serviceaccount/objectstorage-provisioner created\n",
      "serviceaccount/rook-ceph-cmd-reporter created\n",
      "serviceaccount/rook-ceph-default created\n",
      "serviceaccount/rook-ceph-mgr created\n",
      "serviceaccount/rook-ceph-osd created\n",
      "serviceaccount/rook-ceph-purge-osd created\n",
      "serviceaccount/rook-ceph-rgw created\n",
      "serviceaccount/rook-ceph-system created\n",
      "serviceaccount/rook-csi-cephfs-plugin-sa created\n",
      "serviceaccount/rook-csi-cephfs-provisioner-sa created\n",
      "serviceaccount/rook-csi-rbd-plugin-sa created\n",
      "serviceaccount/rook-csi-rbd-provisioner-sa created\n",
      "configmap/rook-ceph-operator-config created\n",
      "deployment.apps/rook-ceph-operator created\n",
      "cephcluster.ceph.rook.io/rook-ceph created\n"
     ]
    }
   ],
   "source": [
    "%%bash\n",
    "git clone --single-branch --branch v1.16.3 https://github.com/rook/rook.git\n",
    "cd rook/deploy/examples\n",
    "kubectl create -f crds.yaml -f common.yaml -f operator.yaml"
   ]
  },
  {
   "cell_type": "markdown",
   "id": "5eac17d6",
   "metadata": {},
   "source": [
    "Dann können wir rook-ceph enablen"
   ]
  },
  {
   "cell_type": "code",
   "execution_count": null,
   "id": "f6f9dd91",
   "metadata": {},
   "outputs": [],
   "source": [
    "%%bash\n",
    "#sudo microk8s enable rook-ceph"
   ]
  },
  {
   "cell_type": "code",
   "execution_count": null,
   "id": "c433958a",
   "metadata": {},
   "outputs": [],
   "source": [
    "! kubectl get pods -n rook-ceph"
   ]
  },
  {
   "cell_type": "markdown",
   "id": "952c0253",
   "metadata": {},
   "source": [
    "### Host Storage Cluster\n",
    "\n",
    "Um rook-ceph auszuprobieren, verwenden wir die Variante \"Host Storage Cluster\".\n",
    "\n",
    "In einem \"Host Storage Cluster\" konfiguriert Rook Ceph so, dass Daten direkt auf dem Host gespeichert werden. \n",
    "\n",
    "Der `allowMultiplePerNode: true` sollte `false` sein, damit die Daten über die drei Hosts verteilt werden."
   ]
  },
  {
   "cell_type": "code",
   "execution_count": null,
   "id": "23790de7",
   "metadata": {},
   "outputs": [
    {
     "name": "stdout",
     "output_type": "stream",
     "text": [
      "cephcluster.ceph.rook.io \"my-cluster\" deleted\n",
      "cephblockpool.ceph.rook.io \"builtin-mgr\" deleted\n"
     ]
    }
   ],
   "source": [
    "%%bash\n",
    "kubectl delete -f - <<EOF\n",
    "#################################################################################################################\n",
    "# Define the settings for the rook-ceph cluster with common settings for a small test cluster.\n",
    "# All nodes with available raw devices will be used for the Ceph cluster. One node is sufficient\n",
    "# in this example.\n",
    "\n",
    "# For example, to create the cluster:\n",
    "#   kubectl create -f crds.yaml -f common.yaml -f operator.yaml\n",
    "#   kubectl create -f cluster-test.yaml\n",
    "#################################################################################################################\n",
    "apiVersion: ceph.rook.io/v1\n",
    "kind: CephCluster\n",
    "metadata:\n",
    "  name: my-cluster\n",
    "  namespace: rook-ceph # namespace:cluster\n",
    "spec:\n",
    "  dataDirHostPath: /var/lib/rook\n",
    "  cephVersion:\n",
    "    image: quay.io/ceph/ceph:v19\n",
    "    allowUnsupported: true\n",
    "  mon:\n",
    "    count: 1\n",
    "    allowMultiplePerNode: true\n",
    "  mgr:\n",
    "    count: 1\n",
    "    allowMultiplePerNode: true\n",
    "    modules:\n",
    "      - name: rook\n",
    "        enabled: true\n",
    "  dashboard:\n",
    "    enabled: true\n",
    "  crashCollector:\n",
    "    disable: true\n",
    "  storage:\n",
    "    useAllNodes: true\n",
    "    useAllDevices: true\n",
    "    allowDeviceClassUpdate: true\n",
    "    allowOsdCrushWeightUpdate: false\n",
    "    #deviceFilter:\n",
    "    #config:\n",
    "    #  deviceClass: testclass\n",
    "  monitoring:\n",
    "    enabled: false\n",
    "  healthCheck:\n",
    "    daemonHealth:\n",
    "      mon:\n",
    "        interval: 45s\n",
    "        timeout: 600s\n",
    "  priorityClassNames:\n",
    "    all: system-node-critical\n",
    "    mgr: system-cluster-critical\n",
    "  disruptionManagement:\n",
    "    managePodBudgets: true\n",
    "  cephConfig:\n",
    "    global:\n",
    "      osd_pool_default_size: \"1\"\n",
    "      mon_warn_on_pool_no_redundancy: \"false\"\n",
    "      bdev_flock_retry: \"20\"\n",
    "      bluefs_buffered_io: \"false\"\n",
    "      mon_data_avail_warn: \"10\"\n",
    "---\n",
    "apiVersion: ceph.rook.io/v1\n",
    "kind: CephBlockPool\n",
    "metadata:\n",
    "  name: builtin-mgr\n",
    "  namespace: rook-ceph # namespace:cluster\n",
    "spec:\n",
    "  name: .mgr\n",
    "  replicated:\n",
    "    size: 1\n",
    "    requireSafeReplicaSize: false\n",
    "EOF"
   ]
  },
  {
   "cell_type": "code",
   "execution_count": null,
   "id": "9a4f8e2d",
   "metadata": {},
   "outputs": [],
   "source": []
  },
  {
   "cell_type": "code",
   "execution_count": null,
   "id": "63101aee",
   "metadata": {},
   "outputs": [],
   "source": [
    "%%bash\n",
    "kubectl apply -f - <<EOF\n",
    "apiVersion: ceph.rook.io/v1\n",
    "kind: CephCluster\n",
    "metadata:\n",
    "  name: rook-ceph\n",
    "  namespace: rook-ceph\n",
    "spec:\n",
    "  cephVersion:\n",
    "    # see the \"Cluster Settings\" section below for more details on which image of ceph to run\n",
    "    image: quay.io/ceph/ceph:v17.2.6\n",
    "  dataDirHostPath: /var/lib/rook\n",
    "  mon:\n",
    "    count: 3\n",
    "    allowMultiplePerNode: true\n",
    "  storage:\n",
    "    useAllNodes: true\n",
    "    useAllDevices: true\n",
    "EOF\n"
   ]
  },
  {
   "cell_type": "markdown",
   "id": "43ddc964",
   "metadata": {},
   "source": [
    "Dieser Eintrag triggert den Rook Operator welcher die weiteren Storage Driver aktiviert"
   ]
  },
  {
   "cell_type": "code",
   "execution_count": null,
   "id": "188aa2ee",
   "metadata": {},
   "outputs": [],
   "source": [
    "%%bash\n",
    "kubectl get pods --namespace rook-ceph\n"
   ]
  },
  {
   "cell_type": "markdown",
   "id": "cbacdc6f",
   "metadata": {},
   "source": [
    "### Links\n",
    "\n",
    "* [Host Storage Cluster](https://rook.io/docs/rook/v1.11/CRDs/Cluster/host-cluster/)"
   ]
  },
  {
   "cell_type": "code",
   "execution_count": null,
   "id": "9df0c85d",
   "metadata": {},
   "outputs": [],
   "source": []
  }
 ],
 "metadata": {
  "kernelspec": {
   "display_name": "Python 3 (ipykernel)",
   "language": "python",
   "name": "python3"
  },
  "language_info": {
   "codemirror_mode": {
    "name": "ipython",
    "version": 3
   },
   "file_extension": ".py",
   "mimetype": "text/x-python",
   "name": "python",
   "nbconvert_exporter": "python",
   "pygments_lexer": "ipython3",
   "version": "3.12.3"
  }
 },
 "nbformat": 4,
 "nbformat_minor": 5
}
