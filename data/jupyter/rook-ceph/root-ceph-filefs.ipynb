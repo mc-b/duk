{
 "cells": [
  {
   "cell_type": "markdown",
   "id": "78736536",
   "metadata": {},
   "source": [
    "CephFS verwendet csi-cephfsplugin\n",
    "\n",
    "Überprüfe, ob die CephFS-CSI-Plugins korrekt laufen:\n"
   ]
  },
  {
   "cell_type": "code",
   "execution_count": null,
   "id": "56c51436",
   "metadata": {},
   "outputs": [],
   "source": [
    "%%bash\n",
    "sudo microk8s enable hostpath-storage"
   ]
  },
  {
   "cell_type": "code",
   "execution_count": null,
   "id": "d3d1d50c",
   "metadata": {},
   "outputs": [],
   "source": [
    "%%bash\n",
    "kubectl -n rook-ceph delete pod -l app=csi-cephfsplugin-provisioner\n"
   ]
  },
  {
   "cell_type": "code",
   "execution_count": null,
   "id": "897d0565",
   "metadata": {},
   "outputs": [],
   "source": [
    "%%bash\n",
    "kubectl -n rook-ceph get pods -l app=csi-cephfsplugin"
   ]
  },
  {
   "cell_type": "markdown",
   "id": "f07ae5cb",
   "metadata": {},
   "source": [
    "Zuerst brauchen wie ein Filesystem"
   ]
  },
  {
   "cell_type": "code",
   "execution_count": null,
   "id": "964fbadc",
   "metadata": {},
   "outputs": [],
   "source": [
    "%%bash\n",
    "kubectl apply -f - <<EOF\n",
    "apiVersion: ceph.rook.io/v1\n",
    "kind: CephFilesystem\n",
    "metadata:\n",
    "  name: myfs\n",
    "  namespace: rook-ceph\n",
    "spec:\n",
    "  metadataPool:\n",
    "    replicated:\n",
    "      size: 3\n",
    "  dataPools:\n",
    "    - replicated:\n",
    "        size: 3\n",
    "  preserveFilesystemOnDelete: true\n",
    "  metadataServer:\n",
    "    activeCount: 1\n",
    "    activeStandby: true\n",
    "EOF"
   ]
  },
  {
   "cell_type": "markdown",
   "id": "002036e3",
   "metadata": {},
   "source": [
    "Prüfen, ob CephFS korrekt eingerichtet ist\n",
    "Überprüfe, ob CephFS bereits läuft:"
   ]
  },
  {
   "cell_type": "code",
   "execution_count": null,
   "id": "378257d4",
   "metadata": {},
   "outputs": [],
   "source": [
    "! kubectl -n rook-ceph get CephCluster,cephfilesystems\n"
   ]
  },
  {
   "cell_type": "code",
   "execution_count": null,
   "id": "bc975f8f",
   "metadata": {},
   "outputs": [],
   "source": []
  },
  {
   "cell_type": "code",
   "execution_count": null,
   "id": "bf126153",
   "metadata": {},
   "outputs": [],
   "source": [
    "%%bash\n",
    "kubectl apply -f - <<EOF\n",
    "apiVersion: rbac.authorization.k8s.io/v1\n",
    "kind: ClusterRole\n",
    "metadata:\n",
    "  name: ceph-csi-provisioner\n",
    "rules:\n",
    "  - apiGroups: [\"\"]\n",
    "    resources: [\"persistentvolumes\"]\n",
    "    verbs: [\"get\", \"list\", \"watch\", \"create\", \"delete\", \"patch\", \"update\"]\n",
    "  - apiGroups: [\"storage.k8s.io\"]\n",
    "    resources: [\"storageclasses\"]\n",
    "    verbs: [\"get\", \"list\", \"watch\"]\n",
    "  - apiGroups: [\"storage.k8s.io\"]\n",
    "    resources: [\"volumeattachments\"]\n",
    "    verbs: [\"get\", \"list\", \"watch\", \"patch\", \"update\"]\n",
    "---\n",
    "apiVersion: rbac.authorization.k8s.io/v1\n",
    "kind: ClusterRoleBinding\n",
    "metadata:\n",
    "  name: ceph-csi-provisioner-binding\n",
    "roleRef:\n",
    "  apiGroup: rbac.authorization.k8s.io\n",
    "  kind: ClusterRole\n",
    "  name: ceph-csi-provisioner\n",
    "subjects:\n",
    "  - kind: ServiceAccount\n",
    "    name: rook-csi-cephfs-provisioner\n",
    "    namespace: rook-ceph\n",
    "EOF\n"
   ]
  },
  {
   "cell_type": "markdown",
   "id": "97cf613b",
   "metadata": {},
   "source": [
    "StorageClass für Rook-Ceph erstellen"
   ]
  },
  {
   "cell_type": "code",
   "execution_count": null,
   "id": "6758701f",
   "metadata": {},
   "outputs": [],
   "source": [
    "! kubectl -n rook-ceph delete pod -l app=csi-cephfsplugin-provisioner\n"
   ]
  },
  {
   "cell_type": "code",
   "execution_count": null,
   "id": "d41cb0e7",
   "metadata": {},
   "outputs": [],
   "source": [
    "%%bash\n",
    "kubectl apply -f - <<EOF\n",
    "apiVersion: storage.k8s.io/v1\n",
    "kind: StorageClass\n",
    "metadata:\n",
    "  name: rook-cephfs\n",
    "provisioner: rook-ceph.cephfs.csi.ceph.com\n",
    "parameters:\n",
    "  clusterID: rook-ceph\n",
    "  fsName: myfs\n",
    "  pool: myfs-data0\n",
    "  csi.storage.k8s.io/provisioner-secret-name: rook-csi-cephfs-provisioner\n",
    "  csi.storage.k8s.io/provisioner-secret-namespace: rook-ceph\n",
    "  csi.storage.k8s.io/node-stage-secret-name: rook-csi-cephfs-node\n",
    "  csi.storage.k8s.io/node-stage-secret-namespace: rook-ceph\n",
    "  csi.storage.k8s.io/fstype: ext4\n",
    "reclaimPolicy: Delete\n",
    "EOF\n"
   ]
  },
  {
   "cell_type": "markdown",
   "id": "b68b5c6d",
   "metadata": {},
   "source": [
    "Persistent Volume Claim (PVC) für Ceph RBD erstellen"
   ]
  },
  {
   "cell_type": "code",
   "execution_count": null,
   "id": "2fce9ed0",
   "metadata": {},
   "outputs": [],
   "source": [
    "%%bash\n",
    "kubectl apply -f - <<EOF\n",
    "apiVersion: v1\n",
    "kind: PersistentVolumeClaim\n",
    "metadata:\n",
    "  name: ceph-pvc\n",
    "spec:\n",
    "  accessModes:\n",
    "    - ReadWriteOnce\n",
    "  resources:\n",
    "    requests:\n",
    "      storage: 5Gi\n",
    "  storageClassName: rook-cephfs\n",
    "EOF"
   ]
  },
  {
   "cell_type": "markdown",
   "id": "6eb502ea",
   "metadata": {},
   "source": [
    "Pod mit Ceph-Speicher starten"
   ]
  },
  {
   "cell_type": "code",
   "execution_count": null,
   "id": "e1d077f0",
   "metadata": {},
   "outputs": [],
   "source": [
    "%%bash\n",
    "kubectl apply -f - <<EOF\n",
    "apiVersion: v1\n",
    "kind: Pod\n",
    "metadata:\n",
    "  name: ceph-test-pod\n",
    "spec:\n",
    "  containers:\n",
    "  - name: busybox\n",
    "    image: busybox\n",
    "    command: [\"/bin/sh\", \"-c\", \"while true; do echo 'Ceph läuft!' >> /mnt/test/data.txt; sleep 10; done\"]\n",
    "    volumeMounts:\n",
    "    - mountPath: \"/mnt/test\"\n",
    "      name: ceph-storage\n",
    "  volumes:\n",
    "  - name: ceph-storage\n",
    "    persistentVolumeClaim:\n",
    "      claimName: ceph-pvc\n",
    "EOF"
   ]
  },
  {
   "cell_type": "code",
   "execution_count": null,
   "id": "782cc20c",
   "metadata": {},
   "outputs": [],
   "source": [
    "%%bash\n",
    "kubectl describe pvc ceph-pvc\n"
   ]
  },
  {
   "cell_type": "code",
   "execution_count": null,
   "id": "359e48de",
   "metadata": {},
   "outputs": [],
   "source": [
    "%%bash\n",
    "kubectl delete pod ceph-test-pod\n",
    "kubectl delete sc rook-ceph-block\n",
    "kubectl delete pvc ceph-pvc"
   ]
  },
  {
   "cell_type": "code",
   "execution_count": null,
   "id": "0593b2d2",
   "metadata": {},
   "outputs": [],
   "source": []
  }
 ],
 "metadata": {
  "kernelspec": {
   "display_name": "Python 3 (ipykernel)",
   "language": "python",
   "name": "python3"
  },
  "language_info": {
   "codemirror_mode": {
    "name": "ipython",
    "version": 3
   },
   "file_extension": ".py",
   "mimetype": "text/x-python",
   "name": "python",
   "nbconvert_exporter": "python",
   "pygments_lexer": "ipython3",
   "version": "3.12.3"
  }
 },
 "nbformat": 4,
 "nbformat_minor": 5
}
