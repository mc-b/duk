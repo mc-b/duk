{
 "cells": [
  {
   "cell_type": "markdown",
   "id": "78736536",
   "metadata": {},
   "source": [
    "CephFS verwendet csi-cephfsplugin\n",
    "\n",
    "Überprüfe, ob die CephFS-CSI-Plugins korrekt laufen:\n"
   ]
  },
  {
   "cell_type": "code",
   "execution_count": 1,
   "id": "897d0565",
   "metadata": {},
   "outputs": [
    {
     "name": "stdout",
     "output_type": "stream",
     "text": [
      "NAME                     READY   STATUS    RESTARTS   AGE\n",
      "csi-cephfsplugin-2g6j8   2/2     Running   0          61m\n",
      "csi-cephfsplugin-rxw6p   2/2     Running   0          61m\n",
      "csi-cephfsplugin-wndpl   2/2     Running   0          61m\n"
     ]
    }
   ],
   "source": [
    "%%bash\n",
    "kubectl -n rook-ceph get pods -l app=csi-cephfsplugin"
   ]
  },
  {
   "cell_type": "markdown",
   "id": "f07ae5cb",
   "metadata": {},
   "source": [
    "Zuerst brauchen wie ein Filesystem"
   ]
  },
  {
   "cell_type": "code",
   "execution_count": 6,
   "id": "964fbadc",
   "metadata": {},
   "outputs": [
    {
     "name": "stdout",
     "output_type": "stream",
     "text": [
      "cephfilesystem.ceph.rook.io/myfs configured\n"
     ]
    }
   ],
   "source": [
    "%%bash\n",
    "kubectl apply -f - <<EOF\n",
    "apiVersion: ceph.rook.io/v1\n",
    "kind: CephFilesystem\n",
    "metadata:\n",
    "  name: myfs\n",
    "  namespace: rook-ceph\n",
    "spec:\n",
    "  metadataPool:\n",
    "    replicated:\n",
    "      size: 3\n",
    "  dataPools:\n",
    "    - replicated:\n",
    "        size: 3\n",
    "  preserveFilesystemOnDelete: true\n",
    "  metadataServer:\n",
    "    activeCount: 1\n",
    "    activeStandby: true\n",
    "EOF"
   ]
  },
  {
   "cell_type": "markdown",
   "id": "002036e3",
   "metadata": {},
   "source": [
    "Prüfen, ob CephFS korrekt eingerichtet ist\n",
    "Überprüfe, ob CephFS bereits läuft:"
   ]
  },
  {
   "cell_type": "code",
   "execution_count": 12,
   "id": "378257d4",
   "metadata": {},
   "outputs": [
    {
     "name": "stdout",
     "output_type": "stream",
     "text": [
      "NAME                                 DATADIRHOSTPATH   MONCOUNT   AGE   PHASE   MESSAGE                        HEALTH        EXTERNAL   FSID\r\n",
      "cephcluster.ceph.rook.io/rook-ceph   /var/lib/rook     3          65m   Ready   Cluster created successfully   HEALTH_WARN              c5f66240-bb19-4ee0-97b4-e024c80c54e1\r\n",
      "\r\n",
      "NAME                               ACTIVEMDS   AGE     PHASE\r\n",
      "cephfilesystem.ceph.rook.io/myfs   1           2m17s   Ready\r\n"
     ]
    }
   ],
   "source": [
    "! kubectl -n rook-ceph get CephCluster,cephfilesystems\n"
   ]
  },
  {
   "cell_type": "code",
   "execution_count": null,
   "id": "3ab36122",
   "metadata": {},
   "outputs": [],
   "source": []
  }
 ],
 "metadata": {
  "kernelspec": {
   "display_name": "Python 3 (ipykernel)",
   "language": "python",
   "name": "python3"
  },
  "language_info": {
   "codemirror_mode": {
    "name": "ipython",
    "version": 3
   },
   "file_extension": ".py",
   "mimetype": "text/x-python",
   "name": "python",
   "nbconvert_exporter": "python",
   "pygments_lexer": "ipython3",
   "version": "3.12.3"
  }
 },
 "nbformat": 4,
 "nbformat_minor": 5
}
