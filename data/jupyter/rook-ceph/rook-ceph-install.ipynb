{
 "cells": [
  {
   "cell_type": "markdown",
   "id": "23be5d99",
   "metadata": {},
   "source": [
    "# Rook und Ceph\n",
    "\n",
    "**Ceph** ist ein verteiltes, fehlertolerantes und hochskalierbares Speichersystem, das Objektspeicher, Blockspeicher (RBD) und verteilte Dateisysteme (CephFS) bereitstellt. Es nutzt das **CRUSH-Algorithmus**, um Daten effizient und ohne zentralen Flaschenhals auf Cluster-Knoten zu verteilen. Ceph wird häufig in Cloud- und Virtualisierungsumgebungen wie OpenStack oder Kubernetes eingesetzt.  \n",
    "\n",
    "**Rook** ist ein **Cloud-Native Storage Orchestrator**, der Ceph in Kubernetes-Clustern automatisiert bereitstellt, verwaltet und überwacht. Rook vereinfacht die Bereitstellung und Verwaltung von Ceph, indem es als Operator in Kubernetes fungiert und automatisch Storage-Pools, Monitore und OSDs (Object Storage Daemons) verwaltet.  \n",
    "\n",
    "**Vorteile von Rook und Ceph:**  \n",
    "- **Skalierbarer, verteilter Speicher** für Block-, Datei- und Objektdaten  \n",
    "- **Automatisches Self-Healing** und Fehlertoleranz  \n",
    "- **Nahtlose Kubernetes-Integration** für Stateful-Workloads  \n",
    "- **Open-Source & Software-Defined Storage**, unabhängig von proprietärer Hardware  "
   ]
  },
  {
   "cell_type": "markdown",
   "id": "2401f09c",
   "metadata": {},
   "source": [
    "### rbd Modul\n",
    "\n",
    "Das **rbd-Modul** des Linux-Kernels ist ein Treiber für das **RADOS Block Device (RBD)**, das in **Ceph**-Clustern verwendet wird. Es ermöglicht den Zugriff auf verteilte, skalierbare Speichergeräte, die über das Ceph-Cluster-Storage-System bereitgestellt werden. Das rbd-Modul stellt diese Speicher als reguläre Blockgeräte im System zur Verfügung, sodass sie wie lokale Festplatten verwendet werden können.  \n",
    "\n",
    "Zu den Hauptfunktionen gehören:  \n",
    "- Direkte Anbindung an Ceph-Cluster über das Netzwerk  \n",
    "- Unterstützung für Snapshots und Klone  \n",
    "- Dynamische Skalierung und hohe Verfügbarkeit  \n",
    "- Effiziente Lastverteilung durch verteilten Speicher  \n",
    "\n",
    "Das rbd-Modul wird typischerweise in Cloud-Umgebungen und Virtualisierungslösungen wie **OpenStack** oder **Kubernetes** genutzt, um hochverfügbaren und redundanten Speicher bereitzustellen.\n",
    "\n",
    "---\n",
    "\n",
    "Bevor wir rook-ceph enablen, muss rdb im Linux Kernel aktiviert sein:"
   ]
  },
  {
   "cell_type": "code",
   "execution_count": 2,
   "id": "476db0a6",
   "metadata": {},
   "outputs": [
    {
     "name": "stdout",
     "output_type": "stream",
     "text": [
      "rbd                   126976  0\n",
      "libceph               544768  1 rbd\n"
     ]
    }
   ],
   "source": [
    "%%bash\n",
    "sudo modprobe rbd\n",
    "lsmod | grep rbd"
   ]
  },
  {
   "cell_type": "markdown",
   "id": "5eac17d6",
   "metadata": {},
   "source": [
    "Dann können wir rook-ceph enablen"
   ]
  },
  {
   "cell_type": "code",
   "execution_count": null,
   "id": "f6f9dd91",
   "metadata": {},
   "outputs": [],
   "source": [
    "%%bash\n",
    "microk8s enable rook-ceph"
   ]
  },
  {
   "cell_type": "markdown",
   "id": "952c0253",
   "metadata": {},
   "source": [
    "### Host Storage Cluster\n",
    "\n",
    "Um rook-ceph auszuprobieren, verwenden wir die Variante \"Host Storage Cluster\".\n",
    "\n",
    "In einem \"Host Storage Cluster\" konfiguriert Rook Ceph so, dass Daten direkt auf dem Host gespeichert werden. "
   ]
  },
  {
   "cell_type": "code",
   "execution_count": 2,
   "id": "63101aee",
   "metadata": {},
   "outputs": [
    {
     "name": "stdout",
     "output_type": "stream",
     "text": [
      "cephcluster.ceph.rook.io/rook-ceph created\n"
     ]
    }
   ],
   "source": [
    "%%bash\n",
    "kubectl apply -f - <<EOF\n",
    "apiVersion: ceph.rook.io/v1\n",
    "kind: CephCluster\n",
    "metadata:\n",
    "  name: rook-ceph\n",
    "  namespace: rook-ceph\n",
    "spec:\n",
    "  cephVersion:\n",
    "    # see the \"Cluster Settings\" section below for more details on which image of ceph to run\n",
    "    image: quay.io/ceph/ceph:v17.2.6\n",
    "  dataDirHostPath: /var/lib/rook\n",
    "  mon:\n",
    "    count: 3\n",
    "    allowMultiplePerNode: false\n",
    "  storage:\n",
    "    useAllNodes: true\n",
    "    useAllDevices: true\n",
    "EOF\n"
   ]
  },
  {
   "cell_type": "markdown",
   "id": "cbacdc6f",
   "metadata": {},
   "source": [
    "### Links\n",
    "\n",
    "* [Host Storage Cluster](https://rook.io/docs/rook/v1.11/CRDs/Cluster/host-cluster/)"
   ]
  }
 ],
 "metadata": {
  "kernelspec": {
   "display_name": "Python 3 (ipykernel)",
   "language": "python",
   "name": "python3"
  },
  "language_info": {
   "codemirror_mode": {
    "name": "ipython",
    "version": 3
   },
   "file_extension": ".py",
   "mimetype": "text/x-python",
   "name": "python",
   "nbconvert_exporter": "python",
   "pygments_lexer": "ipython3",
   "version": "3.12.3"
  }
 },
 "nbformat": 4,
 "nbformat_minor": 5
}
