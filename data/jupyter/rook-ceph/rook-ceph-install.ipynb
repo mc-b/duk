{
 "cells": [
  {
   "cell_type": "markdown",
   "id": "23be5d99",
   "metadata": {},
   "source": [
    "# Rook und Ceph\n",
    "\n",
    "**Ceph** ist ein verteiltes, fehlertolerantes und hochskalierbares Speichersystem, das Objektspeicher, Blockspeicher (RBD) und verteilte Dateisysteme (CephFS) bereitstellt. Es nutzt das **CRUSH-Algorithmus**, um Daten effizient und ohne zentralen Flaschenhals auf Cluster-Knoten zu verteilen. Ceph wird häufig in Cloud- und Virtualisierungsumgebungen wie OpenStack oder Kubernetes eingesetzt.  \n",
    "\n",
    "**Rook** ist ein **Cloud-Native Storage Orchestrator**, der Ceph in Kubernetes-Clustern automatisiert bereitstellt, verwaltet und überwacht. Rook vereinfacht die Bereitstellung und Verwaltung von Ceph, indem es als Operator in Kubernetes fungiert und automatisch Storage-Pools, Monitore und OSDs (Object Storage Daemons) verwaltet.  \n",
    "\n",
    "**Vorteile von Rook und Ceph:**  \n",
    "- **Skalierbarer, verteilter Speicher** für Block-, Datei- und Objektdaten  \n",
    "- **Automatisches Self-Healing** und Fehlertoleranz  \n",
    "- **Nahtlose Kubernetes-Integration** für Stateful-Workloads  \n",
    "- **Open-Source & Software-Defined Storage**, unabhängig von proprietärer Hardware  "
   ]
  },
  {
   "cell_type": "markdown",
   "id": "2401f09c",
   "metadata": {},
   "source": [
    "### rbd Modul\n",
    "\n",
    "Das **rbd-Modul** des Linux-Kernels ist ein Treiber für das **RADOS Block Device (RBD)**, das in **Ceph**-Clustern verwendet wird. Es ermöglicht den Zugriff auf verteilte, skalierbare Speichergeräte, die über das Ceph-Cluster-Storage-System bereitgestellt werden. Das rbd-Modul stellt diese Speicher als reguläre Blockgeräte im System zur Verfügung, sodass sie wie lokale Festplatten verwendet werden können.  \n",
    "\n",
    "Zu den Hauptfunktionen gehören:  \n",
    "- Direkte Anbindung an Ceph-Cluster über das Netzwerk  \n",
    "- Unterstützung für Snapshots und Klone  \n",
    "- Dynamische Skalierung und hohe Verfügbarkeit  \n",
    "- Effiziente Lastverteilung durch verteilten Speicher  \n",
    "\n",
    "Das rbd-Modul wird typischerweise in Cloud-Umgebungen und Virtualisierungslösungen wie **OpenStack** oder **Kubernetes** genutzt, um hochverfügbaren und redundanten Speicher bereitzustellen.\n",
    "\n",
    "---\n",
    "\n",
    "Bevor wir rook-ceph enablen, muss rdb im Linux Kernel aktiviert sein:"
   ]
  },
  {
   "cell_type": "code",
   "execution_count": 1,
   "id": "476db0a6",
   "metadata": {},
   "outputs": [
    {
     "name": "stdout",
     "output_type": "stream",
     "text": [
      "rbd                   126976  0\n",
      "libceph               544768  1 rbd\n"
     ]
    }
   ],
   "source": [
    "%%bash\n",
    "sudo modprobe rbd\n",
    "lsmod | grep rbd"
   ]
  },
  {
   "cell_type": "markdown",
   "id": "5eac17d6",
   "metadata": {},
   "source": [
    "Dann können wir rook-ceph enablen"
   ]
  },
  {
   "cell_type": "code",
   "execution_count": 3,
   "id": "f6f9dd91",
   "metadata": {},
   "outputs": [
    {
     "name": "stderr",
     "output_type": "stream",
     "text": [
      "Infer repository core for addon rook-ceph\n"
     ]
    },
    {
     "name": "stdout",
     "output_type": "stream",
     "text": [
      "Add Rook Helm repository https://charts.rook.io/release\n",
      "\"rook-release\" has been added to your repositories\n",
      "Hang tight while we grab the latest from your chart repositories...\n",
      "...Successfully got an update from the \"rook-release\" chart repository\n",
      "Update Complete. ⎈Happy Helming!⎈\n",
      "Install Rook version v1.11.9\n",
      "NAME: rook-ceph\n",
      "LAST DEPLOYED: Fri Feb  7 16:03:36 2025\n",
      "NAMESPACE: rook-ceph\n",
      "STATUS: deployed\n",
      "REVISION: 1\n",
      "TEST SUITE: None\n",
      "NOTES:\n",
      "The Rook Operator has been installed. Check its status by running:\n",
      "  kubectl --namespace rook-ceph get pods -l \"app=rook-ceph-operator\"\n",
      "\n",
      "Visit https://rook.io/docs/rook/latest for instructions on how to create and configure Rook clusters\n",
      "\n",
      "Important Notes:\n",
      "- You must customize the 'CephCluster' resource in the sample manifests for your cluster.\n",
      "- Each CephCluster must be deployed to its own namespace, the samples use `rook-ceph` for the namespace.\n",
      "- The sample manifests assume you also installed the rook-ceph operator in the `rook-ceph` namespace.\n",
      "- The helm chart includes all the RBAC required to create a CephCluster CRD in the same namespace.\n",
      "- Any disk devices you add to the cluster in the 'CephCluster' must be empty (no filesystem and no partitions).\n",
      "Creating 'microk8s connect-external-ceph' command\n",
      "\n",
      "=================================================\n",
      "\n",
      "Rook Ceph operator v1.11.9 is now deployed in your MicroK8s cluster and\n",
      "will shortly be available for use.\n",
      "\n",
      "As a next step, you can either deploy Ceph on MicroK8s, or connect MicroK8s with an\n",
      "existing Ceph cluster.\n",
      "\n",
      "To connect MicroK8s with an existing Ceph cluster, you can use the helper command\n",
      "'microk8s connect-external-ceph'. If you are running MicroCeph on the same node, then\n",
      "you can use the following command:\n",
      "\n",
      "    sudo microk8s connect-external-ceph\n",
      "\n",
      "Alternatively, you can connect MicroK8s with any external Ceph cluster using:\n",
      "\n",
      "    sudo microk8s connect-external-ceph \\\n",
      "        --ceph-conf /path/to/cluster/ceph.conf \\\n",
      "        --keyring /path/to/cluster/ceph.keyring \\\n",
      "        --rbd-pool microk8s-rbd\n",
      "\n",
      "For a list of all supported options, use 'microk8s connect-external-ceph --help'.\n",
      "\n",
      "To deploy Ceph on the MicroK8s cluster using storage from your Kubernetes nodes, refer\n",
      "to https://rook.io/docs/rook/latest-release/CRDs/Cluster/ceph-cluster-crd/\n",
      "\n",
      "\n"
     ]
    }
   ],
   "source": [
    "%%bash\n",
    "sudo microk8s enable rook-ceph"
   ]
  },
  {
   "cell_type": "code",
   "execution_count": 4,
   "id": "c433958a",
   "metadata": {},
   "outputs": [
    {
     "name": "stdout",
     "output_type": "stream",
     "text": [
      "NAME                                  READY   STATUS    RESTARTS   AGE\r\n",
      "rook-ceph-operator-6fcdbf47f9-7lq4w   1/1     Running   0          25s\r\n"
     ]
    }
   ],
   "source": [
    "! kubectl get pods -n rook-ceph"
   ]
  },
  {
   "cell_type": "markdown",
   "id": "952c0253",
   "metadata": {},
   "source": [
    "### Host Storage Cluster\n",
    "\n",
    "Um rook-ceph auszuprobieren, verwenden wir die Variante \"Host Storage Cluster\".\n",
    "\n",
    "In einem \"Host Storage Cluster\" konfiguriert Rook Ceph so, dass Daten direkt auf dem Host gespeichert werden. "
   ]
  },
  {
   "cell_type": "code",
   "execution_count": 7,
   "id": "63101aee",
   "metadata": {},
   "outputs": [
    {
     "name": "stdout",
     "output_type": "stream",
     "text": [
      "cephcluster.ceph.rook.io/rook-ceph configured\n"
     ]
    }
   ],
   "source": [
    "%%bash\n",
    "kubectl apply -f - <<EOF\n",
    "apiVersion: ceph.rook.io/v1\n",
    "kind: CephCluster\n",
    "metadata:\n",
    "  name: rook-ceph\n",
    "  namespace: rook-ceph\n",
    "spec:\n",
    "  cephVersion:\n",
    "    # see the \"Cluster Settings\" section below for more details on which image of ceph to run\n",
    "    image: quay.io/ceph/ceph:v17.2.6\n",
    "  dataDirHostPath: /var/lib/rook\n",
    "  mon:\n",
    "    count: 3\n",
    "    allowMultiplePerNode: true\n",
    "  storage:\n",
    "    useAllNodes: true\n",
    "    useAllDevices: true\n",
    "EOF\n"
   ]
  },
  {
   "cell_type": "markdown",
   "id": "cbacdc6f",
   "metadata": {},
   "source": [
    "### Links\n",
    "\n",
    "* [Host Storage Cluster](https://rook.io/docs/rook/v1.11/CRDs/Cluster/host-cluster/)"
   ]
  }
 ],
 "metadata": {
  "kernelspec": {
   "display_name": "Python 3 (ipykernel)",
   "language": "python",
   "name": "python3"
  },
  "language_info": {
   "codemirror_mode": {
    "name": "ipython",
    "version": 3
   },
   "file_extension": ".py",
   "mimetype": "text/x-python",
   "name": "python",
   "nbconvert_exporter": "python",
   "pygments_lexer": "ipython3",
   "version": "3.12.3"
  }
 },
 "nbformat": 4,
 "nbformat_minor": 5
}
