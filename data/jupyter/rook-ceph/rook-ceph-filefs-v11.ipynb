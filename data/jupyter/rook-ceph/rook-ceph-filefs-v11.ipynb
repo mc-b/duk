{
 "cells": [
  {
   "cell_type": "markdown",
   "id": "78736536",
   "metadata": {},
   "source": [
    "### CephFS \n",
    "\n",
    "Wir verwenden [Host Storage Cluster](https://rook.io/docs/rook/v1.11/CRDs/Cluster/host-cluster/)\n",
    "\n",
    "Überprüfen, ob die CephFS-CSI-Plugins korrekt laufen:"
   ]
  },
  {
   "cell_type": "code",
   "execution_count": null,
   "id": "897d0565",
   "metadata": {},
   "outputs": [],
   "source": [
    "%%bash\n",
    "kubectl -n rook-ceph get pods -l app=csi-cephfsplugin"
   ]
  },
  {
   "cell_type": "markdown",
   "id": "f07ae5cb",
   "metadata": {},
   "source": [
    "Zuerst brauchen wie ein Filesystem"
   ]
  },
  {
   "cell_type": "code",
   "execution_count": 3,
   "id": "f51a155f",
   "metadata": {},
   "outputs": [
    {
     "name": "stdout",
     "output_type": "stream",
     "text": [
      "cephfilesystem.ceph.rook.io/myfs created\n"
     ]
    }
   ],
   "source": [
    "%%bash\n",
    "kubectl apply -f https://raw.githubusercontent.com/rook/rook/refs/heads/release-1.11/deploy/examples/filesystem-test.yaml"
   ]
  },
  {
   "cell_type": "markdown",
   "id": "002036e3",
   "metadata": {},
   "source": [
    "Prüfen, ob CephFS korrekt eingerichtet ist\n",
    "Überprüfe, ob CephFS bereits läuft:"
   ]
  },
  {
   "cell_type": "code",
   "execution_count": 4,
   "id": "378257d4",
   "metadata": {},
   "outputs": [
    {
     "name": "stdout",
     "output_type": "stream",
     "text": [
      "NAME                                  DATADIRHOSTPATH   MONCOUNT   AGE     PHASE         MESSAGE                 HEALTH   EXTERNAL   FSID\n",
      "cephcluster.ceph.rook.io/my-cluster   /var/lib/rook     1          7m29s   Progressing   Configuring Ceph Mons                       \n",
      "\n",
      "NAME                               ACTIVEMDS   AGE   PHASE\n",
      "cephfilesystem.ceph.rook.io/myfs   1           4s    Progressing\n",
      "Name:         my-cluster\n",
      "Namespace:    rook-ceph\n",
      "Labels:       <none>\n",
      "Annotations:  <none>\n",
      "API Version:  ceph.rook.io/v1\n",
      "Kind:         CephCluster\n",
      "Metadata:\n",
      "  Creation Timestamp:  2025-02-08T18:50:37Z\n",
      "  Finalizers:\n",
      "    cephcluster.ceph.rook.io\n",
      "  Generation:        2\n",
      "  Resource Version:  2560\n",
      "  UID:               1771db5a-70aa-44dc-ab08-88dcd025deee\n",
      "Spec:\n",
      "  Ceph Version:\n",
      "    Allow Unsupported:  true\n",
      "    Image:              quay.io/ceph/ceph:v17\n",
      "  Cleanup Policy:\n",
      "    Sanitize Disks:\n",
      "  Crash Collector:\n",
      "    Disable:  true\n",
      "  Dashboard:\n",
      "    Enabled:           true\n",
      "  Data Dir Host Path:  /var/lib/rook\n",
      "  Disruption Management:\n",
      "    Manage Pod Budgets:  true\n",
      "  External:\n",
      "  Health Check:\n",
      "    Daemon Health:\n",
      "      Mon:\n",
      "        Interval:  45s\n",
      "        Timeout:   600s\n",
      "      Osd:\n",
      "      Status:\n",
      "  Log Collector:\n",
      "  Mgr:\n",
      "    Allow Multiple Per Node:  true\n",
      "    Count:                    1\n",
      "  Mon:\n",
      "    Allow Multiple Per Node:  true\n",
      "    Count:                    1\n",
      "  Monitoring:\n",
      "  Network:\n",
      "    Multi Cluster Service:\n",
      "  Priority Class Names:\n",
      "    All:  system-node-critical\n",
      "    Mgr:  system-cluster-critical\n",
      "  Security:\n",
      "    Key Rotation:\n",
      "      Enabled:  false\n",
      "    Kms:\n",
      "  Storage:\n",
      "    Use All Devices:  true\n",
      "    Use All Nodes:    true\n",
      "Status:\n",
      "  Conditions:\n",
      "    Last Heartbeat Time:   2025-02-08T18:56:35Z\n",
      "    Last Transition Time:  2025-02-08T18:56:35Z\n",
      "    Message:               Configuring Ceph Mons\n",
      "    Reason:                ClusterProgressing\n",
      "    Status:                True\n",
      "    Type:                  Progressing\n",
      "  Message:                 Configuring Ceph Mons\n",
      "  Phase:                   Progressing\n",
      "  State:                   Creating\n",
      "  Version:\n",
      "    Image:    quay.io/ceph/ceph:v17\n",
      "    Version:  17.2.8-0\n",
      "Events:\n",
      "  Type     Reason           Age   From                          Message\n",
      "  ----     ------           ----  ----                          -------\n",
      "  Warning  ReconcileFailed  92s   rook-ceph-cluster-controller  failed to reconcile CephCluster \"rook-ceph/my-cluster\". failed to reconcile cluster \"my-cluster\": failed to configure local ceph cluster: failed to create cluster: failed to start ceph monitors: failed to start mon pods: failed to check mon quorum a: failed to wait for mon quorum: exceeded max retry count waiting for monitors to reach quorum\n"
     ]
    }
   ],
   "source": [
    "%%bash\n",
    "kubectl -n rook-ceph get CephCluster,cephfilesystems,CephFilesystemSubVolumeGroup\n",
    "kubectl -n rook-ceph describe CephCluster"
   ]
  },
  {
   "cell_type": "markdown",
   "id": "9656cae2",
   "metadata": {},
   "source": [
    "*Evtl. könnten die Zugriffsberechtigungen RBAC nicht vorhanden sein, deshalb setzen wir diese*"
   ]
  },
  {
   "cell_type": "code",
   "execution_count": null,
   "id": "bf126153",
   "metadata": {},
   "outputs": [],
   "source": [
    "%%bash\n",
    "kubectl apply -f - <<EOF\n",
    "apiVersion: rbac.authorization.k8s.io/v1\n",
    "kind: ClusterRole\n",
    "metadata:\n",
    "  name: ceph-csi-provisioner\n",
    "rules:\n",
    "  - apiGroups: [\"\"]\n",
    "    resources: [\"persistentvolumes\"]\n",
    "    verbs: [\"get\", \"list\", \"watch\", \"create\", \"delete\", \"patch\", \"update\"]\n",
    "  - apiGroups: [\"storage.k8s.io\"]\n",
    "    resources: [\"storageclasses\"]\n",
    "    verbs: [\"get\", \"list\", \"watch\"]\n",
    "  - apiGroups: [\"storage.k8s.io\"]\n",
    "    resources: [\"volumeattachments\"]\n",
    "    verbs: [\"get\", \"list\", \"watch\", \"patch\", \"update\"]\n",
    "---\n",
    "apiVersion: rbac.authorization.k8s.io/v1\n",
    "kind: ClusterRoleBinding\n",
    "metadata:\n",
    "  name: ceph-csi-provisioner-binding\n",
    "roleRef:\n",
    "  apiGroup: rbac.authorization.k8s.io\n",
    "  kind: ClusterRole\n",
    "  name: ceph-csi-provisioner\n",
    "subjects:\n",
    "  - kind: ServiceAccount\n",
    "    name: rook-csi-cephfs-provisioner\n",
    "    namespace: rook-ceph\n",
    "EOF\n",
    "# braucht Restart\n",
    "kubectl -n rook-ceph delete pod -l app=csi-cephfsplugin-provisioner"
   ]
  },
  {
   "cell_type": "markdown",
   "id": "97cf613b",
   "metadata": {},
   "source": [
    "### StorageClass für Rook-Ceph erstellen.\n",
    "\n",
    "Mit dieser werden keine PV erstellt.\n",
    "\n",
    "Alternative microk8s-hostpath vom Addon hostpath-storage verwenden"
   ]
  },
  {
   "cell_type": "code",
   "execution_count": 2,
   "id": "3bd5fc6f",
   "metadata": {},
   "outputs": [
    {
     "name": "stdout",
     "output_type": "stream",
     "text": [
      "cephblockpool.ceph.rook.io/replicapool created\n",
      "storageclass.storage.k8s.io/rook-ceph-block created\n"
     ]
    }
   ],
   "source": [
    "%%bash\n",
    "kubectl apply -f https://raw.githubusercontent.com/rook/rook/refs/heads/release-1.11/deploy/examples/csi/rbd/storageclass-test.yaml"
   ]
  },
  {
   "cell_type": "code",
   "execution_count": null,
   "id": "d41cb0e7",
   "metadata": {},
   "outputs": [],
   "source": [
    "%%bash\n",
    "kubectl apply -f - <<EOF\n",
    "apiVersion: storage.k8s.io/v1\n",
    "kind: StorageClass\n",
    "metadata:\n",
    "  name: rook-cephfs \n",
    "provisioner: rook-ceph.cephfs.csi.ceph.com\n",
    "parameters:\n",
    "  clusterID: rook-ceph\n",
    "  fsName: myfs\n",
    "  pool: myfs-data0\n",
    "  csi.storage.k8s.io/provisioner-secret-name: rook-csi-cephfs-provisioner\n",
    "  csi.storage.k8s.io/provisioner-secret-namespace: rook-ceph\n",
    "  csi.storage.k8s.io/node-stage-secret-name: rook-csi-cephfs-node\n",
    "  csi.storage.k8s.io/node-stage-secret-namespace: rook-ceph\n",
    "  csi.storage.k8s.io/fstype: ext4\n",
    "reclaimPolicy: Delete\n",
    "EOF"
   ]
  },
  {
   "cell_type": "markdown",
   "id": "b68b5c6d",
   "metadata": {},
   "source": [
    "### PersistentVolume und Persistent Volume Claim (PVC) für Ceph RBD erstellen\n",
    "\n",
    "**Hinweis** PersistentVolume sollte eigentlich automatisch erstellt werden."
   ]
  },
  {
   "cell_type": "markdown",
   "id": "877e7e37",
   "metadata": {},
   "source": [
    "### Hole die benötigten Informationen für das PV\n",
    "\n",
    "Die Ceph-Monitor-Adressen"
   ]
  },
  {
   "cell_type": "code",
   "execution_count": null,
   "id": "9cd0a7ef",
   "metadata": {},
   "outputs": [],
   "source": [
    "%%bash\n",
    "kubectl -n rook-ceph get cm rook-ceph-mon-endpoints -o jsonpath='{.data.data}'"
   ]
  },
  {
   "cell_type": "code",
   "execution_count": null,
   "id": "f9ada34e",
   "metadata": {},
   "outputs": [],
   "source": [
    "%%bash\n",
    "kubectl apply -f - <<EOF\n",
    "apiVersion: v1\n",
    "kind: PersistentVolume\n",
    "metadata:\n",
    "  name: cephfs-pv\n",
    "spec:\n",
    "  capacity:\n",
    "    storage: 5Gi  # Größe des Volumes anpassen\n",
    "  accessModes:\n",
    "    - ReadWriteMany  # CephFS unterstützt RWX\n",
    "  persistentVolumeReclaimPolicy: Retain\n",
    "  storageClassName: rook-cephfs   # Muss mit deiner StorageClass übereinstimmen\n",
    "  csi:\n",
    "    driver: rook-ceph.cephfs.csi.ceph.com\n",
    "    volumeHandle: myfs  # Name des CephFS-Dateisystems\n",
    "    volumeAttributes:\n",
    "      clusterID: rook-ceph\n",
    "      fsName: myfs\n",
    "      pool: myfs-data0\n",
    "      provisionVolume: \"true\" \n",
    "      monitors: \"10.152.183.133:6789\"\n",
    "    nodeStageSecretRef:\n",
    "      name: rook-csi-cephfs-node\n",
    "      namespace: rook-ceph\n",
    "EOF\n"
   ]
  },
  {
   "cell_type": "code",
   "execution_count": null,
   "id": "25cf9255",
   "metadata": {},
   "outputs": [],
   "source": [
    "%%bash\n",
    "kubectl apply -f - <<EOF\n",
    "apiVersion: v1\n",
    "kind: PersistentVolumeClaim\n",
    "metadata:\n",
    "  name: ceph-pvc\n",
    "\n",
    "spec:\n",
    "  accessModes:\n",
    "    - ReadWriteMany\n",
    "  resources:\n",
    "    requests:\n",
    "      storage: 5Gi\n",
    "  storageClassName: rook-cephfs\n",
    "  # volumeName: cephfs-pv  # Name des vorher erstellten PVs\n",
    "EOF"
   ]
  },
  {
   "cell_type": "markdown",
   "id": "d143d53a",
   "metadata": {},
   "source": [
    "Wir kontrollieren ob alles sauber erstellt wurde"
   ]
  },
  {
   "cell_type": "code",
   "execution_count": null,
   "id": "d5505871",
   "metadata": {},
   "outputs": [],
   "source": [
    "%%bash\n",
    "kubectl describe pvc ceph-pvc"
   ]
  },
  {
   "cell_type": "markdown",
   "id": "6eb502ea",
   "metadata": {},
   "source": [
    "Pod mit Ceph-Speicher starten"
   ]
  },
  {
   "cell_type": "code",
   "execution_count": null,
   "id": "e1d077f0",
   "metadata": {},
   "outputs": [],
   "source": [
    "%%bash\n",
    "kubectl apply -f - <<EOF\n",
    "apiVersion: v1\n",
    "kind: Pod\n",
    "metadata:\n",
    "  name: ceph-test-pod\n",
    "\n",
    "spec:\n",
    "  containers:\n",
    "  - name: busybox\n",
    "    image: busybox\n",
    "    command: [\"/bin/sh\", \"-c\", \"while true; do echo 'Ceph läuft!' >> /mnt/test/data.txt; sleep 10; done\"]\n",
    "    volumeMounts:\n",
    "    - mountPath: \"/mnt/test\"\n",
    "      name: ceph-storage\n",
    "  volumes:\n",
    "  - name: ceph-storage\n",
    "    persistentVolumeClaim:\n",
    "      claimName: ceph-pvc\n",
    "EOF"
   ]
  },
  {
   "cell_type": "code",
   "execution_count": null,
   "id": "6e764f97",
   "metadata": {},
   "outputs": [],
   "source": [
    "%%bash\n",
    "kubectl describe pod ceph-test-pod"
   ]
  },
  {
   "cell_type": "markdown",
   "id": "13aa4719",
   "metadata": {},
   "source": [
    "---\n",
    "\n",
    "### Aufräumen"
   ]
  },
  {
   "cell_type": "code",
   "execution_count": 1,
   "id": "359e48de",
   "metadata": {},
   "outputs": [
    {
     "name": "stderr",
     "output_type": "stream",
     "text": [
      "Error from server (NotFound): pods \"ceph-test-pod\" not found\n",
      "Error from server (NotFound): persistentvolumeclaims \"ceph-pvc\" not found\n",
      "Error from server (NotFound): persistentvolumes \"cephfs-pv\" not found\n",
      "Error from server (NotFound): storageclasses.storage.k8s.io \"rook-cephfs\" not found\n"
     ]
    },
    {
     "ename": "CalledProcessError",
     "evalue": "Command 'b'kubectl delete pod ceph-test-pod \\nkubectl delete pvc ceph-pvc\\nkubectl delete pv cephfs-pv \\nkubectl delete sc rook-cephfs\\n'' returned non-zero exit status 1.",
     "output_type": "error",
     "traceback": [
      "\u001b[0;31m---------------------------------------------------------------------------\u001b[0m",
      "\u001b[0;31mCalledProcessError\u001b[0m                        Traceback (most recent call last)",
      "Cell \u001b[0;32mIn[1], line 1\u001b[0m\n\u001b[0;32m----> 1\u001b[0m \u001b[43mget_ipython\u001b[49m\u001b[43m(\u001b[49m\u001b[43m)\u001b[49m\u001b[38;5;241;43m.\u001b[39;49m\u001b[43mrun_cell_magic\u001b[49m\u001b[43m(\u001b[49m\u001b[38;5;124;43m'\u001b[39;49m\u001b[38;5;124;43mbash\u001b[39;49m\u001b[38;5;124;43m'\u001b[39;49m\u001b[43m,\u001b[49m\u001b[43m \u001b[49m\u001b[38;5;124;43m'\u001b[39;49m\u001b[38;5;124;43m'\u001b[39;49m\u001b[43m,\u001b[49m\u001b[43m \u001b[49m\u001b[38;5;124;43m'\u001b[39;49m\u001b[38;5;124;43mkubectl delete pod ceph-test-pod \u001b[39;49m\u001b[38;5;130;43;01m\\n\u001b[39;49;00m\u001b[38;5;124;43mkubectl delete pvc ceph-pvc\u001b[39;49m\u001b[38;5;130;43;01m\\n\u001b[39;49;00m\u001b[38;5;124;43mkubectl delete pv cephfs-pv \u001b[39;49m\u001b[38;5;130;43;01m\\n\u001b[39;49;00m\u001b[38;5;124;43mkubectl delete sc rook-cephfs\u001b[39;49m\u001b[38;5;130;43;01m\\n\u001b[39;49;00m\u001b[38;5;124;43m'\u001b[39;49m\u001b[43m)\u001b[49m\n",
      "File \u001b[0;32m/usr/lib/python3/dist-packages/IPython/core/interactiveshell.py:2517\u001b[0m, in \u001b[0;36mInteractiveShell.run_cell_magic\u001b[0;34m(self, magic_name, line, cell)\u001b[0m\n\u001b[1;32m   2515\u001b[0m \u001b[38;5;28;01mwith\u001b[39;00m \u001b[38;5;28mself\u001b[39m\u001b[38;5;241m.\u001b[39mbuiltin_trap:\n\u001b[1;32m   2516\u001b[0m     args \u001b[38;5;241m=\u001b[39m (magic_arg_s, cell)\n\u001b[0;32m-> 2517\u001b[0m     result \u001b[38;5;241m=\u001b[39m \u001b[43mfn\u001b[49m\u001b[43m(\u001b[49m\u001b[38;5;241;43m*\u001b[39;49m\u001b[43margs\u001b[49m\u001b[43m,\u001b[49m\u001b[43m \u001b[49m\u001b[38;5;241;43m*\u001b[39;49m\u001b[38;5;241;43m*\u001b[39;49m\u001b[43mkwargs\u001b[49m\u001b[43m)\u001b[49m\n\u001b[1;32m   2519\u001b[0m \u001b[38;5;66;03m# The code below prevents the output from being displayed\u001b[39;00m\n\u001b[1;32m   2520\u001b[0m \u001b[38;5;66;03m# when using magics with decorator @output_can_be_silenced\u001b[39;00m\n\u001b[1;32m   2521\u001b[0m \u001b[38;5;66;03m# when the last Python token in the expression is a ';'.\u001b[39;00m\n\u001b[1;32m   2522\u001b[0m \u001b[38;5;28;01mif\u001b[39;00m \u001b[38;5;28mgetattr\u001b[39m(fn, magic\u001b[38;5;241m.\u001b[39mMAGIC_OUTPUT_CAN_BE_SILENCED, \u001b[38;5;28;01mFalse\u001b[39;00m):\n",
      "File \u001b[0;32m/usr/lib/python3/dist-packages/IPython/core/magics/script.py:154\u001b[0m, in \u001b[0;36mScriptMagics._make_script_magic.<locals>.named_script_magic\u001b[0;34m(line, cell)\u001b[0m\n\u001b[1;32m    152\u001b[0m \u001b[38;5;28;01melse\u001b[39;00m:\n\u001b[1;32m    153\u001b[0m     line \u001b[38;5;241m=\u001b[39m script\n\u001b[0;32m--> 154\u001b[0m \u001b[38;5;28;01mreturn\u001b[39;00m \u001b[38;5;28;43mself\u001b[39;49m\u001b[38;5;241;43m.\u001b[39;49m\u001b[43mshebang\u001b[49m\u001b[43m(\u001b[49m\u001b[43mline\u001b[49m\u001b[43m,\u001b[49m\u001b[43m \u001b[49m\u001b[43mcell\u001b[49m\u001b[43m)\u001b[49m\n",
      "File \u001b[0;32m/usr/lib/python3/dist-packages/IPython/core/magics/script.py:314\u001b[0m, in \u001b[0;36mScriptMagics.shebang\u001b[0;34m(self, line, cell)\u001b[0m\n\u001b[1;32m    309\u001b[0m \u001b[38;5;28;01mif\u001b[39;00m args\u001b[38;5;241m.\u001b[39mraise_error \u001b[38;5;129;01mand\u001b[39;00m p\u001b[38;5;241m.\u001b[39mreturncode \u001b[38;5;241m!=\u001b[39m \u001b[38;5;241m0\u001b[39m:\n\u001b[1;32m    310\u001b[0m     \u001b[38;5;66;03m# If we get here and p.returncode is still None, we must have\u001b[39;00m\n\u001b[1;32m    311\u001b[0m     \u001b[38;5;66;03m# killed it but not yet seen its return code. We don't wait for it,\u001b[39;00m\n\u001b[1;32m    312\u001b[0m     \u001b[38;5;66;03m# in case it's stuck in uninterruptible sleep. -9 = SIGKILL\u001b[39;00m\n\u001b[1;32m    313\u001b[0m     rc \u001b[38;5;241m=\u001b[39m p\u001b[38;5;241m.\u001b[39mreturncode \u001b[38;5;129;01mor\u001b[39;00m \u001b[38;5;241m-\u001b[39m\u001b[38;5;241m9\u001b[39m\n\u001b[0;32m--> 314\u001b[0m     \u001b[38;5;28;01mraise\u001b[39;00m CalledProcessError(rc, cell)\n",
      "\u001b[0;31mCalledProcessError\u001b[0m: Command 'b'kubectl delete pod ceph-test-pod \\nkubectl delete pvc ceph-pvc\\nkubectl delete pv cephfs-pv \\nkubectl delete sc rook-cephfs\\n'' returned non-zero exit status 1."
     ]
    }
   ],
   "source": [
    "%%bash\n",
    "kubectl delete pod ceph-test-pod \n",
    "kubectl delete pvc ceph-pvc\n",
    "kubectl delete pv cephfs-pv \n",
    "kubectl delete sc rook-cephfs\n"
   ]
  },
  {
   "cell_type": "markdown",
   "id": "fc497463",
   "metadata": {},
   "source": [
    "### Tests"
   ]
  },
  {
   "cell_type": "code",
   "execution_count": null,
   "id": "68ecb844",
   "metadata": {},
   "outputs": [],
   "source": [
    "%%bash\n",
    "kubectl -n rook-ceph exec deploy/rook-ceph-tools -- ceph status\n"
   ]
  },
  {
   "cell_type": "code",
   "execution_count": null,
   "id": "b139eacc",
   "metadata": {},
   "outputs": [],
   "source": []
  }
 ],
 "metadata": {
  "kernelspec": {
   "display_name": "Python 3 (ipykernel)",
   "language": "python",
   "name": "python3"
  },
  "language_info": {
   "codemirror_mode": {
    "name": "ipython",
    "version": 3
   },
   "file_extension": ".py",
   "mimetype": "text/x-python",
   "name": "python",
   "nbconvert_exporter": "python",
   "pygments_lexer": "ipython3",
   "version": "3.12.3"
  }
 },
 "nbformat": 4,
 "nbformat_minor": 5
}
