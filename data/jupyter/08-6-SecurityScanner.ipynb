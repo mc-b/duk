{
 "cells": [
  {
   "cell_type": "markdown",
   "id": "a1f1ab00",
   "metadata": {},
   "source": [
    "Kubescape\n",
    "=========\n",
    "\n",
    "[Kubescape](https://kubescape.io/) ist ein leistungsstarkes Open-Source-Tool zur Sicherheitsbewertung und Compliance-Überprüfung von Kubernetes-Clustern.\n",
    "\n",
    "Es hilft Administratoren und Entwicklern, Sicherheitslücken und Konfigurationsfehler in ihren Kubernetes-Umgebungen zu identifizieren und zu beheben. \n",
    "\n",
    "Mit Kubescape können Sie Ihre Cluster gegen verschiedene Sicherheitsstandards und Best Practices prüfen, einschliesslich der [MITRE ATT&CK-Frameworks](https://attack.mitre.org/) und der [NSA-CISA-Richtlinien](https://www.nsa.gov/Press-Room/News-Highlights/Article/Article/2716980/nsa-cisa-release-kubernetes-hardening-guidance/).\n",
    "\n",
    "Das Tool bietet detaillierte Berichte und Empfehlungen, um die Sicherheit und Compliance Ihrer Kubernetes-Cluster zu verbessern.\n",
    "\n",
    "- - -\n",
    "\n",
    "Zuerst führen wir einen einfachen Scan unseres Cluster aus:"
   ]
  },
  {
   "cell_type": "code",
   "execution_count": null,
   "id": "a2532114",
   "metadata": {},
   "outputs": [],
   "source": [
    "! kubescape scan"
   ]
  },
  {
   "cell_type": "markdown",
   "id": "f0307662",
   "metadata": {},
   "source": [
    "### [NSA-CISA-Richtlinien](https://www.nsa.gov/Press-Room/News-Highlights/Article/Article/2716980/nsa-cisa-release-kubernetes-hardening-guidance/)"
   ]
  },
  {
   "cell_type": "code",
   "execution_count": null,
   "id": "75454741",
   "metadata": {},
   "outputs": [],
   "source": [
    "! kubescape scan framework nsa"
   ]
  },
  {
   "cell_type": "markdown",
   "id": "cfc30ce3",
   "metadata": {},
   "source": [
    "### [MITRE ATT&CK-Frameworks](https://attack.mitre.org/)"
   ]
  },
  {
   "cell_type": "code",
   "execution_count": null,
   "id": "e0a59664",
   "metadata": {},
   "outputs": [],
   "source": [
    "! kubescape scan framework mitre"
   ]
  },
  {
   "cell_type": "markdown",
   "id": "c4e49f6c",
   "metadata": {},
   "source": [
    "- - -\n",
    "\n",
    "## Images überprüfen\n",
    "\n",
    "Mit der Einführung von Kubescape 3.0 wurde die Funktion zur Image-Überprüfung hinzugefügt. \n",
    "\n",
    "Diese Funktion ermöglicht es, Container-Images auf Sicherheitslücken zu scannen, bevor sie in die Produktion gelangen\n"
   ]
  },
  {
   "cell_type": "code",
   "execution_count": null,
   "id": "5bfafc5e",
   "metadata": {},
   "outputs": [],
   "source": [
    "! kubescape scan image registry.gitlab.com/ch-mc-b/autoshop/shop:2.0.0"
   ]
  },
  {
   "cell_type": "markdown",
   "id": "10f5e1b9",
   "metadata": {},
   "source": [
    "Patchen funktioniert leider nicht, weil buildx fehlt."
   ]
  },
  {
   "cell_type": "code",
   "execution_count": null,
   "id": "4a1dced4",
   "metadata": {},
   "outputs": [],
   "source": [
    "! kubescape patch -i registry.gitlab.com/ch-mc-b/autoshop/shop:2.0.0"
   ]
  },
  {
   "cell_type": "code",
   "execution_count": null,
   "id": "fd2c3d97",
   "metadata": {},
   "outputs": [],
   "source": []
  }
 ],
 "metadata": {
  "kernelspec": {
   "display_name": "Python 3 (ipykernel)",
   "language": "python",
   "name": "python3"
  },
  "language_info": {
   "codemirror_mode": {
    "name": "ipython",
    "version": 3
   },
   "file_extension": ".py",
   "mimetype": "text/x-python",
   "name": "python",
   "nbconvert_exporter": "python",
   "pygments_lexer": "ipython3",
   "version": "3.12.3"
  }
 },
 "nbformat": 4,
 "nbformat_minor": 5
}
