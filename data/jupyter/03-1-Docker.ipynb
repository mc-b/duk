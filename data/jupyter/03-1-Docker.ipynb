{
 "cells": [
  {
   "cell_type": "markdown",
   "metadata": {},
   "source": [
    "Übung: Funktionaler Überblick\n",
    "--------------------------------------------\n",
    "\n",
    "(Docker) Container Images holen und als Container starten.\n",
    "\n",
    "Wegen den Einschränkungen von hub.docker.com (Pull-Raten-Limits) holen wir die Container Images von anderen öffentlichen Registries."
   ]
  },
  {
   "cell_type": "code",
   "execution_count": null,
   "metadata": {},
   "outputs": [],
   "source": [
    "#! docker pull hello-world\n",
    "! docker pull public.ecr.aws/docker/library/hello-world"
   ]
  },
  {
   "cell_type": "code",
   "execution_count": null,
   "metadata": {},
   "outputs": [],
   "source": [
    "! docker run public.ecr.aws/docker/library/hello-world"
   ]
  },
  {
   "cell_type": "markdown",
   "metadata": {},
   "source": [
    "Wir starten einen Container im Hintergrund (-d), mappen den Port 80 auf 8081 (-p8081:80).\n",
    "\n",
    "Bevor der Container gestartet wird, wird er aus der Registry geholt (pull) und im lokalen Cache abgelegt.\n",
    "\n",
    "Die Ausgabe des Containers können wir uns mittels Server-IP und Port 8081 anzeigen lassen."
   ]
  },
  {
   "cell_type": "code",
   "execution_count": null,
   "metadata": {},
   "outputs": [],
   "source": [
    "! docker run --name hello-world -d -p 8081:80 registry.gitlab.com/mc-b/misegr/hello-world\n",
    "! echo \"http://$(cat ~/work/server-ip):8081\""
   ]
  },
  {
   "cell_type": "markdown",
   "metadata": {},
   "source": [
    "Den gleichen Container starten wir nochmals. \n",
    "\n",
    "Es erfolgt kein `docker pull` was das Container Image aus dem Cache geholt wird."
   ]
  },
  {
   "cell_type": "code",
   "execution_count": null,
   "metadata": {},
   "outputs": [],
   "source": [
    "! docker run --name hello-world1 -d -p 8082:80 registry.gitlab.com/mc-b/misegr/hello-world\n",
    "! echo \"http://$(cat ~/work/server-ip):8082\""
   ]
  },
  {
   "cell_type": "markdown",
   "metadata": {},
   "source": [
    "Container Images (im Cache) anzeigen"
   ]
  },
  {
   "cell_type": "code",
   "execution_count": null,
   "metadata": {},
   "outputs": [],
   "source": [
    "! docker image ls"
   ]
  },
  {
   "cell_type": "markdown",
   "metadata": {},
   "source": [
    "Container (auch beendete anzeigen)"
   ]
  },
  {
   "cell_type": "code",
   "execution_count": null,
   "metadata": {},
   "outputs": [],
   "source": [
    "! docker container ps -a"
   ]
  },
  {
   "cell_type": "markdown",
   "metadata": {},
   "source": [
    "Alle Container, auch die beendet sind, aufräumen"
   ]
  },
  {
   "cell_type": "code",
   "execution_count": null,
   "metadata": {},
   "outputs": [],
   "source": [
    "! docker stop hello-world\n",
    "! docker stop hello-world1\n",
    "! docker container prune -f"
   ]
  },
  {
   "cell_type": "markdown",
   "metadata": {},
   "source": [
    "Container dürfen keine mehr vorhanden sein"
   ]
  },
  {
   "cell_type": "code",
   "execution_count": null,
   "metadata": {},
   "outputs": [],
   "source": [
    "! docker container ps -a"
   ]
  },
  {
   "cell_type": "markdown",
   "metadata": {},
   "source": [
    "Docker Images sind alle noch vorhanden"
   ]
  },
  {
   "cell_type": "code",
   "execution_count": null,
   "metadata": {},
   "outputs": [],
   "source": [
    "! docker image ls"
   ]
  },
  {
   "cell_type": "markdown",
   "metadata": {},
   "source": [
    "***\n",
    "Pull-Raten-Limits\n",
    "=================\n",
    "Docker Hub verwendet IP-Adressen, um die Benutzer zu authentifizieren, und Pull-Raten-Limits basieren auf einzelnen IP-Adressen. \n",
    "\n",
    "Für **anonyme Benutzer** ist das Ratenlimit auf 100 Abrufe pro 6 Stunden pro IP-Adresse festgelegt.\n",
    "\n",
    "Die aktuellen Zugriff können wir wie folgt abfragen:"
   ]
  },
  {
   "cell_type": "code",
   "execution_count": null,
   "metadata": {},
   "outputs": [],
   "source": [
    "%%bash\n",
    "TOKEN=$(curl -s \"https://auth.docker.io/token?service=registry.docker.io&scope=repository:ratelimitpreview/test:pull\" | jq -r .token)\n",
    "curl --head -H \"Authorization: Bearer $TOKEN\" https://registry-1.docker.io/v2/ratelimitpreview/test/manifests/latest"
   ]
  },
  {
   "cell_type": "markdown",
   "metadata": {},
   "source": [
    "Für **authentifizierte Benutzer** mit einer Docker-ID ist die Pull-Rate auf 200 Pulls pro 6-Stunden-Zeitraum festgelegt.\n",
    "\n",
    "Für einen authentifizierten Benutzer erstellt einen Account auf https://hub.docker.com/.\n",
    "\n",
    "Und dann:\n",
    "* Username und Password als Umgebungsvariablen setzen (als Python Script)\n",
    "* `docker login` ausführen"
   ]
  },
  {
   "cell_type": "code",
   "execution_count": null,
   "metadata": {},
   "outputs": [],
   "source": [
    "import os\n",
    "name = input(\"Username: \")\n",
    "os.environ[\"USER\"] = name\n",
    "\n",
    "from getpass import getpass\n",
    "password = getpass(\"Password: \")\n",
    "os.environ[\"PW\"] = password"
   ]
  },
  {
   "cell_type": "code",
   "execution_count": null,
   "metadata": {},
   "outputs": [],
   "source": [
    "! docker login -u ${USER} -p ${PW}"
   ]
  },
  {
   "cell_type": "markdown",
   "metadata": {},
   "source": [
    "***\n",
    "Fragen\n",
    "======\n",
    "\n",
    "Beantwortet die Fragen einzeln oder in der Gruppe und vergleicht diese mit den Antworten\n",
    "\n",
    "Container\n",
    "---------\n",
    "\n",
    "Welche Linux Kernel Funktionalität verwenden Container?\n",
    "<details><summary>Antwort</summary>  \n",
    "        Linux Namespaces, siehe auch [The Missing Introduction To Containerization](https://medium.com/faun/the-missing-introduction-to-containerization-de1fbb73efc5)\n",
    "</p></details>\n",
    "\n",
    "---\n",
    "\n",
    "Welches Architekturmuster verwendet der Entwickler wenn er Container einsetzt?\n",
    "<details><summary>Antwort</summary>  \n",
    "        Microservices\n",
    "</p></details>\n",
    "\n",
    "---\n",
    "\n",
    "Welches sind die drei Hauptmerkmale (abgeleitet vom Ur-Unix) von Microservices?\n",
    "<details><summary>Antwort</summary>  \n",
    "        Ein Programm soll nur eine Aufgabe erledigen, und das soll es gut machen. Programme sollen zusammenarbeiten können. Nutze eine universelle Schnittstelle. In UNIX sind das Textströme. Bei Microservices das Internet (REST).\n",
    "</p></details>\n",
    "\n",
    "---\n",
    "\n",
    "### Docker\n",
    "***\n",
    "\n",
    "Was ist der Unterschied zwischen einem Docker Image und einem Container?\n",
    "<details><summary>Antwort</summary>\n",
    "\t \tContainer Image = paketierte Applikation/Microservices, readonly\n",
    "Container = aktiver Prozess, in einem Linux Namespace ausgeführt\n",
    "</p></details>\n",
    "\n",
    "---\n",
    "\n",
    "Was ist der Unterschied zwischen einer Virtuellen Maschine und einem Docker Container?\n",
    "<details><summary>Antwort</summary>\n",
    "\t \tVM hat Betriebssystem mit am laufen, Docker nur die eigenen Prozesse\n",
    "</p></details>"
   ]
  },
  {
   "cell_type": "code",
   "execution_count": null,
   "metadata": {},
   "outputs": [],
   "source": []
  }
 ],
 "metadata": {
  "kernelspec": {
   "display_name": "Python 3 (ipykernel)",
   "language": "python",
   "name": "python3"
  },
  "language_info": {
   "codemirror_mode": {
    "name": "ipython",
    "version": 3
   },
   "file_extension": ".py",
   "mimetype": "text/x-python",
   "name": "python",
   "nbconvert_exporter": "python",
   "pygments_lexer": "ipython3",
   "version": "3.10.6"
  }
 },
 "nbformat": 4,
 "nbformat_minor": 2
}
