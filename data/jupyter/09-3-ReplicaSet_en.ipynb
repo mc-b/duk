{
 "cells": [
  {
   "cell_type": "markdown",
   "metadata": {},
   "source": [
    "Exercise: distribution\n",
    "-----------------\n",
    "\n",
    "In this exercise we will create multiple Pods (instances) from the same Image (application) each with a ReplicaSet, Deployment and Service.\n",
    "\n",
    "This happens in a separate namespace to be able to display the results in a targeted manner:"
   ]
  },
  {
   "cell_type": "code",
   "execution_count": null,
   "metadata": {},
   "outputs": [],
   "source": [
    "! kubectl create namespace rs"
   ]
  },
  {
   "cell_type": "markdown",
   "metadata": {},
   "source": [
    "Creating a deployment, here the example of Docker with a web server that outputs the current IP address."
   ]
  },
  {
   "cell_type": "code",
   "execution_count": null,
   "metadata": {},
   "outputs": [],
   "source": [
    "! # kubectl run apache --image=registry.gitlab.com/mc-b/misegr/hello-world --namespace rs\",\n",
    "! kubectl create deployment apache --image=registry.gitlab.com/mc-b/misegr/hello-world --namespace rs"
   ]
  },
  {
   "cell_type": "markdown",
   "metadata": {},
   "source": [
    "Output of the YAML file that describes the generated resources.\n",
    "\n",
    "The pod comes first after `spec.containers`."
   ]
  },
  {
   "cell_type": "code",
   "execution_count": null,
   "metadata": {},
   "outputs": [],
   "source": [
    "! kubectl get deployment apache -o yaml --namespace rs | kubectl-neat"
   ]
  },
  {
   "cell_type": "markdown",
   "metadata": {},
   "source": [
    "To demonstrate the ReplicaSet functionality, let's set the number of running pods to 3 and look at the result"
   ]
  },
  {
   "cell_type": "code",
   "execution_count": null,
   "metadata": {},
   "outputs": [],
   "source": [
    "! kubectl --namespace rs scale --replicas=3 deployment/apache  \n",
    "# ! kubectl get pod,deployment,replicaset,service --namespace rs\n",
    "! kube-lineage --namespace rs deployment apache -d 2 --exclude-types events "
   ]
  },
  {
   "cell_type": "markdown",
   "metadata": {},
   "source": [
    "For the **Deployment** `apache` we create a service. This makes the web server visible from the outside.\n",
    "\n",
    "Port 80 is automatically mapped by Kubernetes to the next free port.\n",
    "\n",
    "Let's look at the result again."
   ]
  },
  {
   "cell_type": "code",
   "execution_count": null,
   "metadata": {},
   "outputs": [],
   "source": [
    "! kubectl expose deployment/apache --type=\"LoadBalancer\" --port 80 --namespace rs\n",
    "# ! kubectl get pod,deployment,replicaset,service,endpoints -o wide --namespace rs\n",
    "! kube-lineage --namespace rs deployment apache -d 2 --exclude-types events && echo \"\"\n",
    "! kubectl get service -o wide --namespace rs"
   ]
  },
  {
   "cell_type": "markdown",
   "metadata": {},
   "source": [
    "Since we don't have a load balancer, we have to prepare the IP of the cluster and the mapped port (port-based-routing) as a URL using a small shell script."
   ]
  },
  {
   "cell_type": "code",
   "execution_count": null,
   "metadata": {},
   "outputs": [],
   "source": [
    "! echo \"http://\"$(cat ~/work/server-ip)\":\"$(kubectl get service --namespace rs apache -o=jsonpath='{ .spec.ports[0].nodePort }')"
   ]
  },
  {
   "cell_type": "markdown",
   "metadata": {},
   "source": [
    "If the link above is opened in multiple browsers, a different hostname should appear in each case.\n",
    "\n",
    "**Explanation**: Kubernetes distributes the requests to the running pods."
   ]
  },
  {
   "cell_type": "markdown",
   "metadata": {},
   "source": [
    "- - -\n",
    "\n",
    "To clean it up, just delete the namespace"
   ]
  },
  {
   "cell_type": "code",
   "execution_count": null,
   "metadata": {},
   "outputs": [],
   "source": [
    "! kubectl delete namespace rs"
   ]
  },
  {
   "cell_type": "code",
   "execution_count": null,
   "metadata": {},
   "outputs": [],
   "source": []
  }
 ],
 "metadata": {
  "kernelspec": {
   "display_name": "Python 3 (ipykernel)",
   "language": "python",
   "name": "python3"
  },
  "language_info": {
   "codemirror_mode": {
    "name": "ipython",
    "version": 3
   },
   "file_extension": ".py",
   "mimetype": "text/x-python",
   "name": "python",
   "nbconvert_exporter": "python",
   "pygments_lexer": "ipython3",
   "version": "3.10.6"
  }
 },
 "nbformat": 4,
 "nbformat_minor": 2
}
