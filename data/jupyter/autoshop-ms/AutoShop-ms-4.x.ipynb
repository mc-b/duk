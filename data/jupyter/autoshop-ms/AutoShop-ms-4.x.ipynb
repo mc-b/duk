{
 "cells": [
  {
   "cell_type": "markdown",
   "id": "0a12a845",
   "metadata": {},
   "source": [
    "AutoShop ab Version 4.x\n",
    "---------------------\n",
    "\n",
    "![](../demo/images/BigBallofMud.png)\n",
    "\n",
    "- - -\n",
    "\n",
    "Die Kommunikation wurde immer chaotischer, deshalb war eine Umstellung auf Asynchrone Kommunikation für die Microservices\n",
    "* **invoicing** - Rechnungstellung\n",
    "* **shipment** - Versand\n",
    "notwendig.\n",
    "\n",
    "Zusätzlich wurde festgestellt, dass der Microservice \n",
    "* **sales** - Management Dashboards mit Umsatzzahlen.\n",
    "nur einmal im Monat angewählt wird und ansonsten nur Prozessorzeit braucht.\n",
    "\n",
    "Deshalb war ein Redesign angezeigt.\n",
    "\n",
    "Die nachfolgenden Übungen zeigen die verschiedenen Schritte:\n",
    "* [Umstellung 2.x auf Kubernetes](../demo/Microservices-REST.ipynb)\n",
    "* [Umstellung 3.x auf Kubernetes](../demo/Microservices-BBuM.ipynb)\n",
    "* [Umstellung 3.2.0 auf Serverless](../k-native/K-native-Serving.ipynb)\n",
    "* [Versuche mit 3.2.0 und Eventing](../k-native/K-native-Eventing.ipynb)\n",
    "* [Versuche mit 3.2.0 und Channels](../k-native/K-native-Channel.ipynb)\n",
    "* [Die Lösung 3.2.0 mit Broker und Filter](../k-native/K-native-Broker.ipynb)\n"
   ]
  },
  {
   "cell_type": "code",
   "execution_count": null,
   "id": "20b2242b",
   "metadata": {},
   "outputs": [],
   "source": []
  }
 ],
 "metadata": {
  "kernelspec": {
   "display_name": "Python 3 (ipykernel)",
   "language": "python",
   "name": "python3"
  },
  "language_info": {
   "codemirror_mode": {
    "name": "ipython",
    "version": 3
   },
   "file_extension": ".py",
   "mimetype": "text/x-python",
   "name": "python",
   "nbconvert_exporter": "python",
   "pygments_lexer": "ipython3",
   "version": "3.12.3"
  }
 },
 "nbformat": 4,
 "nbformat_minor": 5
}
