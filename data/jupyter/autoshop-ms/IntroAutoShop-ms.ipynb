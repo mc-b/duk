{
 "cells": [
  {
   "cell_type": "markdown",
   "id": "0a12a845",
   "metadata": {},
   "source": [
    "Autoshop Microservices \n",
    "========\n",
    "\n",
    "Einfacher WebShop implementiert als Microservice-Applikation.\n",
    "\n",
    "Die Applikation besteht aus mehreren Microservices deshalb lohnt sich der Umstieg auf Podman Compose.\n",
    "\n",
    "Versionen\n",
    "---------\n",
    "* [Bis Version 2.x](AutoShop-ms-2.x.ipynb) - einfache Applikation aus vier Microservices\n",
    "* [Ab Version 3.x](AutoShop-ms-3.x.ipynb) - es kommen drei Microservices hinzu. Die Übersichtlichkeit leidet.\n",
    "* [Ab Version 4.x](AutoShop-ms-4.x.ipynb) - Umstellung auf Asynchrone Kommunikation und Kubernetes Erweiterungen (K-native) kommen hinzu. Ab hier beschränken sich Container Tools wie `docker` und `podman` auf das Builden von Container Images.\n"
   ]
  },
  {
   "cell_type": "code",
   "execution_count": null,
   "id": "20b2242b",
   "metadata": {},
   "outputs": [],
   "source": []
  }
 ],
 "metadata": {
  "kernelspec": {
   "display_name": "Python 3 (ipykernel)",
   "language": "python",
   "name": "python3"
  },
  "language_info": {
   "codemirror_mode": {
    "name": "ipython",
    "version": 3
   },
   "file_extension": ".py",
   "mimetype": "text/x-python",
   "name": "python",
   "nbconvert_exporter": "python",
   "pygments_lexer": "ipython3",
   "version": "3.12.3"
  }
 },
 "nbformat": 4,
 "nbformat_minor": 5
}
