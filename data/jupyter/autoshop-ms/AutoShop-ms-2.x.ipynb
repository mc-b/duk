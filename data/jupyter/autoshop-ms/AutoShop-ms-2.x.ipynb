{
 "cells": [
  {
   "cell_type": "markdown",
   "id": "0a12a845",
   "metadata": {},
   "source": [
    "AutoShop bis Version 2.x\n",
    "---------------------\n",
    "\n",
    "Handelt es sich um eine einfache Applikation bestehend aus den Microservices\n",
    "* **customer** - Kundenverwaltung\n",
    "* **catalog** - Produkteverwaltung\n",
    "* **order** - Bestelleingang\n",
    "* **webshop** - Menu und zentraler Einstiegspunkt.\n",
    "\n",
    "Mittels `podman-compose` lassen sich die Microservices einfach builden\n",
    "\n",
    "- - -\n",
    "Zuerst holen wir die Sourcen"
   ]
  },
  {
   "cell_type": "code",
   "execution_count": null,
   "id": "be9e94fa",
   "metadata": {},
   "outputs": [],
   "source": [
    "! git clone https://gitlab.com/ch-mc-b/autoshop-ms/app/shop.git"
   ]
  },
  {
   "cell_type": "markdown",
   "id": "8caab720",
   "metadata": {},
   "source": [
    "Und builden die Container Images"
   ]
  },
  {
   "cell_type": "code",
   "execution_count": null,
   "id": "f19b3591",
   "metadata": {},
   "outputs": [],
   "source": [
    "%%bash\n",
    "cd shop\n",
    "git switch v2.1.0\n",
    "podman-compose build"
   ]
  },
  {
   "cell_type": "markdown",
   "id": "3388b423",
   "metadata": {},
   "source": [
    "Als Ergebnis werden vier Container Images erstellt"
   ]
  },
  {
   "cell_type": "code",
   "execution_count": null,
   "id": "81576ea2",
   "metadata": {},
   "outputs": [],
   "source": [
    "! podman image ls | grep autoshop-ms"
   ]
  },
  {
   "cell_type": "markdown",
   "id": "09aa1096",
   "metadata": {},
   "source": [
    "Nach dem Build können die Microservices startet werden"
   ]
  },
  {
   "cell_type": "code",
   "execution_count": null,
   "id": "619a9bef",
   "metadata": {},
   "outputs": [],
   "source": [
    "%%bash\n",
    "cd shop\n",
    "git switch v2.1.0\n",
    "podman-compose up --detach "
   ]
  },
  {
   "cell_type": "markdown",
   "id": "0aa54629",
   "metadata": {},
   "source": [
    "Testen mittels"
   ]
  },
  {
   "cell_type": "code",
   "execution_count": null,
   "id": "5122fdd8",
   "metadata": {},
   "outputs": [],
   "source": [
    "! echo \"http://$(cat ~/work/server-ip):8080\""
   ]
  },
  {
   "cell_type": "markdown",
   "id": "1e4f5252",
   "metadata": {},
   "source": [
    "**Stoppen und Aufräumen**"
   ]
  },
  {
   "cell_type": "code",
   "execution_count": null,
   "id": "9d315ab8",
   "metadata": {},
   "outputs": [],
   "source": [
    "%%bash\n",
    "cd shop\n",
    "git switch v2.1.0\n",
    "podman-compose stop -t 0"
   ]
  },
  {
   "cell_type": "code",
   "execution_count": null,
   "id": "20b2242b",
   "metadata": {},
   "outputs": [],
   "source": []
  }
 ],
 "metadata": {
  "kernelspec": {
   "display_name": "Python 3 (ipykernel)",
   "language": "python",
   "name": "python3"
  },
  "language_info": {
   "codemirror_mode": {
    "name": "ipython",
    "version": 3
   },
   "file_extension": ".py",
   "mimetype": "text/x-python",
   "name": "python",
   "nbconvert_exporter": "python",
   "pygments_lexer": "ipython3",
   "version": "3.12.3"
  }
 },
 "nbformat": 4,
 "nbformat_minor": 5
}
