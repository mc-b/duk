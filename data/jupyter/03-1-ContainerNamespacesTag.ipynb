{
 "cells": [
  {
   "cell_type": "markdown",
   "metadata": {},
   "source": [
    "Übung: Container Namespaces Tags\n",
    "--------------------------------------------\n",
    "\n",
    "Ein Image-Namespace dient als eindeutiger Bezeichner, der es ermöglicht, spezifische Container-Images in Repositories zu identifizieren und darauf zuzugreifen. \n",
    "\n",
    "Der Aufbau eines Image-Namens folgt einem klaren Schema, das typischerweise aus mehreren Teilen besteht: \n",
    "* Registry-Hostnamen\n",
    "* Repository-Namen \n",
    "* Tag.\n",
    "\n",
    "Der **Registry-Hostname** gibt an, wo das Image gespeichert ist, beispielsweise in einer öffentlichen Registry wie Docker Hub oder in einer privaten Registry. \n",
    "\n",
    "Der **Repository-Name** beschreibt die Anwendung oder den Dienst, den das Image enthält, und organisiert die Images innerhalb der Registry. \n",
    "\n",
    "Der **Tag** dient der Versionierung und ermöglicht es, verschiedene Versionen eines Images zu unterscheiden und gezielt zu verwenden.\n",
    "\n",
    "- - -\n",
    "\n",
    "Wir starten gezielt die Version 1.0.0"
   ]
  },
  {
   "cell_type": "code",
   "execution_count": null,
   "metadata": {},
   "outputs": [],
   "source": [
    "! docker run --name webshop-v1 -d -p 8081:8080 registry.gitlab.com/ch-mc-b/autoshop/shop:1.0.0\n",
    "! echo \"http://$(cat ~/work/server-ip):8081\""
   ]
  },
  {
   "cell_type": "markdown",
   "metadata": {},
   "source": [
    "Dann die Version 2.0.0"
   ]
  },
  {
   "cell_type": "code",
   "execution_count": null,
   "metadata": {},
   "outputs": [],
   "source": [
    "! docker run --name webshop-v2 -d -p 8082:8080 registry.gitlab.com/ch-mc-b/autoshop/shop:2.0.0\n",
    "! echo \"http://$(cat ~/work/server-ip):8082\""
   ]
  },
  {
   "cell_type": "markdown",
   "metadata": {},
   "source": [
    "Und jetzt die `latest` Version"
   ]
  },
  {
   "cell_type": "code",
   "execution_count": null,
   "metadata": {},
   "outputs": [],
   "source": [
    "! docker run --name webshop-latest -d -p 8083:8080 registry.gitlab.com/ch-mc-b/autoshop/shop\n",
    "! echo \"http://$(cat ~/work/server-ip):8083\""
   ]
  },
  {
   "cell_type": "markdown",
   "metadata": {},
   "source": [
    "Je nach dem wie der Container erstellt wurde, gibt nicht einmal der Hashcode darüber Aufschluss um welche Version es sich bei `lastest`handelt.\n",
    "\n",
    "**Deshalb immer ein Tag verwenden!**"
   ]
  },
  {
   "cell_type": "code",
   "execution_count": null,
   "metadata": {},
   "outputs": [],
   "source": [
    "! docker image ls"
   ]
  },
  {
   "cell_type": "markdown",
   "metadata": {},
   "source": [
    "- - -\n",
    "Aufräumen"
   ]
  },
  {
   "cell_type": "code",
   "execution_count": null,
   "metadata": {},
   "outputs": [],
   "source": [
    "! docker stop webshop-v1\n",
    "! docker stop webshop-v2\n",
    "! docker stop webshop-latest\n",
    "! docker container prune -f"
   ]
  },
  {
   "cell_type": "code",
   "execution_count": null,
   "metadata": {},
   "outputs": [],
   "source": []
  }
 ],
 "metadata": {
  "kernelspec": {
   "display_name": "Python 3 (ipykernel)",
   "language": "python",
   "name": "python3"
  },
  "language_info": {
   "codemirror_mode": {
    "name": "ipython",
    "version": 3
   },
   "file_extension": ".py",
   "mimetype": "text/x-python",
   "name": "python",
   "nbconvert_exporter": "python",
   "pygments_lexer": "ipython3",
   "version": "3.12.3"
  }
 },
 "nbformat": 4,
 "nbformat_minor": 2
}
