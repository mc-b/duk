{
 "cells": [
  {
   "cell_type": "markdown",
   "id": "ed4a8578",
   "metadata": {},
   "source": [
    "# Harbor\n",
    "\n",
    "---\n",
    "\n",
    "Installation"
   ]
  },
  {
   "cell_type": "code",
   "execution_count": null,
   "id": "e07a6c02",
   "metadata": {},
   "outputs": [],
   "source": [
    "%%bash\n",
    "wget https://github.com/goharbor/harbor/releases/download/v2.12.2/harbor-offline-installer-v2.12.2.tgz\n",
    "tar xzf harbor-offline-installer-v2.12.2.tgz\n",
    "sudo apt-get install docker-compose -y"
   ]
  },
  {
   "cell_type": "markdown",
   "id": "c7df1078",
   "metadata": {},
   "source": [
    "harbor.yaml patchen\n",
    "\n",
    "    5c5\n",
    "    < hostname: cna-cloud-hf-08-cp1.maas\n",
    "    ---\n",
    "    > hostname: reg.mydomain.com\n",
    "    15c15\n",
    "    <   #port: 443\n",
    "    ---\n",
    "    >   port: 443\n",
    "    17,18c17,18\n",
    "    <   #certificate: /your/certificate/path\n",
    "    <   #private_key: /your/private/key/path\n",
    "    ---\n",
    "    >   certificate: /your/certificate/path\n",
    "    >   private_key: /your/private/key/path"
   ]
  },
  {
   "cell_type": "code",
   "execution_count": null,
   "id": "481cbb05",
   "metadata": {},
   "outputs": [],
   "source": [
    "%%bash\n",
    "cd harbor\n",
    "cp harbor.yml.tmpl harbor.yml\n",
    "# Hostname setzen\n",
    "# https 443 deaktivieren, Zertifikate deaktivieren\n",
    "#\n",
    "sudo ./install.sh --with-trivy"
   ]
  },
  {
   "cell_type": "markdown",
   "id": "5b22c53c",
   "metadata": {},
   "source": [
    "### Anmelden im UI\n",
    "\n",
    "User: admin\n",
    "Password: Harbor12345\n",
    "\n",
    "**Links**\n",
    "* [Harbor Installer](https://goharbor.io/docs/2.12.0/install-config/run-installer-script/)"
   ]
  },
  {
   "cell_type": "code",
   "execution_count": null,
   "id": "80e90685",
   "metadata": {},
   "outputs": [],
   "source": []
  }
 ],
 "metadata": {
  "kernelspec": {
   "display_name": "Python 3 (ipykernel)",
   "language": "python",
   "name": "python3"
  },
  "language_info": {
   "codemirror_mode": {
    "name": "ipython",
    "version": 3
   },
   "file_extension": ".py",
   "mimetype": "text/x-python",
   "name": "python",
   "nbconvert_exporter": "python",
   "pygments_lexer": "ipython3",
   "version": "3.12.3"
  }
 },
 "nbformat": 4,
 "nbformat_minor": 5
}
