{
 "cells": [
  {
   "cell_type": "markdown",
   "id": "a6fff8eb-f23b-433f-9a82-3d67fe1cd66d",
   "metadata": {},
   "source": [
    "Microservices und docker-compose\n",
    "--------------\n",
    "\n",
    "Docker Compose ist ein leistungsfähiges Werkzeug, das die Orchestrierung von Multi-Container-Docker-Anwendungen vereinfacht. \n",
    "\n",
    "Anstatt mühsam einzelne Container manuell zu starten und zu konfigurieren, ermöglicht Docker Compose die Definition und Verwaltung von komplexen Anwendungen in einem einzigen YAML-Datei-Format.\n",
    "\n",
    "Zuerst erstellen wir eine Docker Compose YAML-Datei:\n"
   ]
  },
  {
   "cell_type": "code",
   "execution_count": null,
   "id": "a44f7a00-3f22-4cdd-a676-bafd3f8b6d28",
   "metadata": {},
   "outputs": [],
   "source": [
    "%%bash\n",
    "cat <<%EOF% >docker-compose.yaml\n",
    "services:\n",
    "  customer:\n",
    "    container_name: customer\n",
    "    image: registry.gitlab.com/ch-mc-b/autoshop-ms/app/shop/customer:2.0.0\n",
    "    ports:\n",
    "      - \"8080\"      \n",
    "  catalog:\n",
    "    container_name: catalog\n",
    "    image: registry.gitlab.com/ch-mc-b/autoshop-ms/app/shop/catalog:2.0.0\n",
    "    ports:\n",
    "      - \"8080\"       \n",
    "  order:\n",
    "    container_name: order\n",
    "    image: registry.gitlab.com/ch-mc-b/autoshop-ms/app/shop/order:2.0.0\n",
    "    ports:\n",
    "      - \"8080\"            \n",
    "  webshop:\n",
    "    container_name: shop\n",
    "    image: registry.gitlab.com/ch-mc-b/autoshop-ms/app/shop/shop:2.0.0\n",
    "    ports:\n",
    "      - \"8090:8080\"\n",
    "%EOF%\n"
   ]
  },
  {
   "cell_type": "markdown",
   "id": "09ee4ab9",
   "metadata": {},
   "source": [
    "Installieren `docker-compose`"
   ]
  },
  {
   "cell_type": "code",
   "execution_count": null,
   "id": "1491b2d6",
   "metadata": {},
   "outputs": [],
   "source": [
    "%%bash\n",
    "sudo apt-get install -y docker-compose"
   ]
  },
  {
   "cell_type": "markdown",
   "id": "4349a6f5-867f-45e4-a99d-b7338baab778",
   "metadata": {},
   "source": [
    "Und starten die vier Container mittels `docker-compose`"
   ]
  },
  {
   "cell_type": "code",
   "execution_count": null,
   "id": "523e8626-1dd1-4bff-b106-8892afe10b16",
   "metadata": {},
   "outputs": [],
   "source": [
    "%%bash\n",
    "docker-compose up -d"
   ]
  },
  {
   "cell_type": "markdown",
   "id": "09bda8de-726a-466a-a4d6-264b8f246bb7",
   "metadata": {},
   "source": [
    "Mittels eines kleines Shellscripts geben wir den URL der Applikation aus:"
   ]
  },
  {
   "cell_type": "code",
   "execution_count": null,
   "id": "55b29a22-3e12-4f8d-9b28-4b50bc994617",
   "metadata": {},
   "outputs": [],
   "source": [
    "%%bash\n",
    "echo http://$(cat ~/work/server-ip):8090"
   ]
  },
  {
   "cell_type": "markdown",
   "id": "fadf31e4-b492-4116-a3cd-bc5f1f33b599",
   "metadata": {},
   "source": [
    "- - -\n",
    "Aufräumen"
   ]
  },
  {
   "cell_type": "code",
   "execution_count": null,
   "id": "1c7fa5a0-95e6-451f-b9dc-f0baf7d19c28",
   "metadata": {},
   "outputs": [],
   "source": [
    "%%bash\n",
    "docker-compose down"
   ]
  },
  {
   "cell_type": "code",
   "execution_count": null,
   "id": "983b7bf1-047f-4bb6-854d-69e8278e9f5c",
   "metadata": {},
   "outputs": [],
   "source": []
  }
 ],
 "metadata": {
  "kernelspec": {
   "display_name": "Python 3 (ipykernel)",
   "language": "python",
   "name": "python3"
  },
  "language_info": {
   "codemirror_mode": {
    "name": "ipython",
    "version": 3
   },
   "file_extension": ".py",
   "mimetype": "text/x-python",
   "name": "python",
   "nbconvert_exporter": "python",
   "pygments_lexer": "ipython3",
   "version": "3.12.3"
  }
 },
 "nbformat": 4,
 "nbformat_minor": 5
}
