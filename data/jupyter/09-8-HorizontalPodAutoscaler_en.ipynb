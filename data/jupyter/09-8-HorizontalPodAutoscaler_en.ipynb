{
 "cells": [
  {
   "cell_type": "markdown",
   "metadata": {},
   "source": [
    "Exercise Horizontal Pod Autoscaler\n",
    "==================================\n",
    "\n",
    "![](https://d33wubrfki0l68.cloudfront.net/4fe1ef7265a93f5f564bd3fbb0269ebd10b73b4e/1775d/images/docs/horizontal-pod-autoscaler.svg)\n",
    "\n",
    "Quelle [Horizontal Pod Autoscaler](https://kubernetes.io/docs/tasks/run-application/horizontal-pod-autoscale/)\n",
    "- - -\n",
    "\n",
    "The horizontal pod autoscaler automatically scales the number of pods in a ReplicaSet, Deployment, or StatefulSet.\n",
    "\n",
    "Scaling can be based on observed CPU utilization or using custom metrics. See [hier](https://kubernetes.io/docs/tasks/run-application/horizontal-pod-autoscale/#algorithm-details) for details.\n",
    "\n",
    "The metrics come from a separately started [Metric Server](https://github.com/kubernetes-sigs/metrics-server)."
   ]
  },
  {
   "cell_type": "code",
   "execution_count": null,
   "metadata": {},
   "outputs": [],
   "source": [
    "! kubectl get pods --namespace metrics"
   ]
  },
  {
   "cell_type": "markdown",
   "metadata": {},
   "source": [
    "***\n",
    "Test Image\n",
    "---------------\n",
    "\n",
    "To demonstrate the horizontal pod autoscaler, we'll use a custom Docker image based on the PHP Apache image. The Docker file has the following content:\n",
    "\n",
    "    FROM php:5-apache\n",
    "    COPY index.php /var/www/html/index.php\n",
    "    RUN chmod a+rx index.php\n",
    "    \n",
    "It defines an index.php page that does some CPU intensive calculations:\n",
    "\n",
    "    <?php\n",
    "      $x = 0.0001;\n",
    "      for ($i = 0; $i <= 1000000; $i++) {\n",
    "        $x += sqrt($x);\n",
    "      }\n",
    "      echo \"OK!\";\n",
    "    ?>\n",
    "    \n",
    "First, let's start the pod running the image and deploy it as a service:"
   ]
  },
  {
   "cell_type": "code",
   "execution_count": null,
   "metadata": {},
   "outputs": [],
   "source": [
    "%%bash\n",
    "cat <<%EOF% | kubectl apply -f -\n",
    "apiVersion: v1\n",
    "kind: Namespace\n",
    "metadata:\n",
    "  name: hpa\n",
    "%EOF%\n",
    "\n",
    "cat <<%EOF% | kubectl apply --namespace hpa -f -\n",
    "apiVersion: apps/v1\n",
    "kind: Deployment\n",
    "metadata:\n",
    "  name: php-apache\n",
    "spec:\n",
    "  selector:\n",
    "    matchLabels:\n",
    "      run: php-apache\n",
    "  replicas: 1\n",
    "  template:\n",
    "    metadata:\n",
    "      labels:\n",
    "        run: php-apache\n",
    "    spec:\n",
    "      containers:\n",
    "      - name: php-apache\n",
    "        image: k8s.gcr.io/hpa-example\n",
    "        ports:\n",
    "        - containerPort: 80\n",
    "        resources:\n",
    "          limits:\n",
    "            cpu: 500m\n",
    "          requests:\n",
    "            cpu: 200m\n",
    "---\n",
    "apiVersion: v1\n",
    "kind: Service\n",
    "metadata:\n",
    "  name: php-apache\n",
    "  labels:\n",
    "    run: php-apache\n",
    "spec:\n",
    "  ports:\n",
    "  - port: 80\n",
    "  selector:\n",
    "    run: php-apache\n",
    "%EOF%\n"
   ]
  },
  {
   "cell_type": "markdown",
   "metadata": {},
   "source": [
    "### Creation of horizontal pod autoscaler\n",
    "\n",
    "After the server is running, let's build the autoscaler.\n",
    "\n",
    "The following command creates a horizontal pod autoscaler that manages between 1 and 10 instances of the above pod.\n",
    "\n",
    "Broadly speaking, the HPA will increase and decrease the number of replicas (via deployment) to maintain an average CPU utilization across all pods of 50%."
   ]
  },
  {
   "cell_type": "code",
   "execution_count": null,
   "metadata": {},
   "outputs": [],
   "source": [
    "! kubectl autoscale deployment php-apache --namespace hpa --cpu-percent=50 --min=1 --max=10"
   ]
  },
  {
   "cell_type": "markdown",
   "metadata": {},
   "source": [
    "We look at the current status of our resources:"
   ]
  },
  {
   "cell_type": "code",
   "execution_count": null,
   "metadata": {},
   "outputs": [],
   "source": [
    "! kubectl get pods --namespace hpa --show-kind=true\n",
    "! kubectl get hpa  --namespace hpa --show-kind=true "
   ]
  },
  {
   "cell_type": "markdown",
   "metadata": {},
   "source": [
    "### Increase load\n",
    "\n",
    "Now we will see how the autoscaler reacts to increased load. We're going to start a container and send an infinite loop of queries to the PHP Apache service."
   ]
  },
  {
   "cell_type": "code",
   "execution_count": null,
   "metadata": {},
   "outputs": [],
   "source": [
    "%%bash\n",
    "cat <<%EOF% | kubectl apply --namespace hpa -f -\n",
    "apiVersion: v1\n",
    "kind: Pod\n",
    "metadata:\n",
    "  labels:\n",
    "    app.kubernetes.io/name: load-generator\n",
    "  name: load-generator\n",
    "spec:\n",
    "  containers:\n",
    "  - image: busybox\n",
    "    name: busybox\n",
    "    command: [ \"/bin/sh\", \"-c\", \"--\" ]\n",
    "    args: [ \"while true; do wget -q -O- http://php-apache; done\" ]\n",
    "%EOF%\n"
   ]
  },
  {
   "cell_type": "markdown",
   "metadata": {},
   "source": [
    "With the Horizontal Pod Autoscaler, we should now see Load > 50%. The displayed `Last / 50` gives the number of pods that have to run at the end."
   ]
  },
  {
   "cell_type": "code",
   "execution_count": null,
   "metadata": {},
   "outputs": [],
   "source": [
    "! kubectl get pods --namespace hpa --show-kind=true\n",
    "! kubectl get hpa  --namespace hpa --show-kind=true "
   ]
  },
  {
   "cell_type": "markdown",
   "metadata": {},
   "source": [
    "If the pod `load-generator` is deleted, the load is reduced and the number of `php-apache` pods is reduced again."
   ]
  },
  {
   "cell_type": "code",
   "execution_count": null,
   "metadata": {},
   "outputs": [],
   "source": [
    "! kubectl delete --namespace hpa pod/load-generator"
   ]
  },
  {
   "cell_type": "code",
   "execution_count": null,
   "metadata": {},
   "outputs": [],
   "source": [
    "! kubectl get pods --namespace hpa --show-kind=true\n",
    "! kubectl get hpa  --namespace hpa --show-kind=true "
   ]
  },
  {
   "cell_type": "markdown",
   "metadata": {},
   "source": [
    "***\n",
    "Clean up"
   ]
  },
  {
   "cell_type": "code",
   "execution_count": null,
   "metadata": {},
   "outputs": [],
   "source": [
    "! kubectl delete namespace hpa"
   ]
  },
  {
   "cell_type": "code",
   "execution_count": null,
   "metadata": {},
   "outputs": [],
   "source": []
  }
 ],
 "metadata": {
  "kernelspec": {
   "display_name": "Python 3",
   "language": "python",
   "name": "python3"
  },
  "language_info": {
   "codemirror_mode": {
    "name": "ipython",
    "version": 3
   },
   "file_extension": ".py",
   "mimetype": "text/x-python",
   "name": "python",
   "nbconvert_exporter": "python",
   "pygments_lexer": "ipython3",
   "version": "3.8.5"
  }
 },
 "nbformat": 4,
 "nbformat_minor": 4
}
