{
 "cells": [
  {
   "cell_type": "markdown",
   "id": "1d927b9a",
   "metadata": {},
   "source": [
    "Verzeichnis der Übungen\n",
    "======================="
   ]
  },
  {
   "cell_type": "markdown",
   "id": "9e317979",
   "metadata": {},
   "source": [
    "## 01 - Container Basics\n",
    "\n",
    "* [Übung 01-1: Container Standards](01-1-Container-Standards.ipynb)"
   ]
  },
  {
   "cell_type": "markdown",
   "id": "81b6b799",
   "metadata": {},
   "source": [
    "## 02 - Container Technology\n",
    "\n",
    "* [Übung 02-1: Linux Namespaces - nsenter](02-1-linuxns-nsenter.ipynb)\n",
    "* [Übung 02-2: Linux Namespaces - unshare](02-2-linuxns-unshare.ipynb)"
   ]
  },
  {
   "cell_type": "markdown",
   "id": "b5bafb4f",
   "metadata": {},
   "source": [
    "## 03 - Microservices\n",
    "\n",
    "* [Übung: Einfacher Webshop (REST)](demo/Microservices-REST.ipynb)\n",
    "* [Übung: Einfacher Webshop (docker-compose)](dukmaster-10-default.mshome.net:32188/notebooks/duk/data/jupyter/03-6-docker-compose.ipynb)\n",
    "* [Übung: Big Ball of Mud (BBoM)](demo/Microservices-BBuM.ipynb)\n",
    "* [Übung: Asynchrone Microservices (Messaging)](k-native/K-native-Broker.ipynb)\n",
    "* [Übung: Applikationen deployen (ArgoCD)](argo/ArgoCD.ipynb)\n"
   ]
  },
  {
   "cell_type": "markdown",
   "id": "2e986b72",
   "metadata": {},
   "source": [
    "## 04 - Container Runtimes\n",
    "\n",
    "* [Übung: Funktionaler Überblick](03-1-Docker.ipynb)\n",
    "* [Übung: Container Image Tags](03-1-ContainerNamespacesTag.ipynb)\n",
    "* [Übung: Container Image Layers](03-1-ContainerLayers.ipynb)\n",
    "* [Übung: Container Images bauen](03-4-Docker-new.ipynb)\n",
    "* [Übung: Container Images bauen und verwalten – veraltet!](03-4-Docker.ipynb)\n",
    "* [Übung: Container Life-cycle (traditionell)](03-5-Docker-Life-cycle.ipynb)\n",
    "* [Übung: Container Life-cycle (mit skaffold – interaktiv)](skaffold/AutoShop-ms-2.1.ipynb)\n",
    "* [Übung: kompose](03-6-kompose.ipynb)\n"
   ]
  },
  {
   "cell_type": "markdown",
   "id": "f3d0a7d3",
   "metadata": {},
   "source": [
    "## 05 - Container Security\n",
    "\n",
    "* [Übung 05-1: Container-Instanzen Limitieren](05-1-MemoryLimits.ipynb)\n",
    "* [Übung 05-2: Vulnerability Scanner](05-2-Scanner.ipynb)\n",
    "* [Übung 05-3: Rootless Containers](05-3-rootless.ipynb)\n",
    "\n"
   ]
  },
  {
   "cell_type": "markdown",
   "id": "6ee27529",
   "metadata": {},
   "source": [
    "## 06 - Kubernetes\n",
    "\n",
    "* [Übung 06-1: Kubernetes Installation mit kind](06-1-kind.ipynb)\n",
    "* [Übung 06-2: 3 VMs zu einem K8s Cluster verbinden](06-2-Cluster.ipynb)\n",
    "* [Übung 06-3: Overlay Netzwerk](06-2-OverlayNetwork.ipynb)\n",
    "* [Übung 06-3: K8s Namespace und Mandanten](06-3-KubernetesNamespaces.ipynb)"
   ]
  },
  {
   "cell_type": "markdown",
   "id": "818943ba",
   "metadata": {},
   "source": [
    "## 07 - Kubernetes Ressourcen\n",
    "\n",
    "* [Übung: api-resources](07-1-api-resources.ipynb)\n",
    "* [Übung: Basis Ressourcen (1)](09-1-kubectl.ipynb)\n",
    "* [Übung: Basis Ressourcen (2)](09-2-YAML.ipynb)\n",
    "* [Übung: Ingress Ressource](09-2-Ingress.ipynb)\n",
    "* [Übung: Gateway API](09-2-GatewayAPI.ipynb)\n",
    "* [Übung: Verteilung (ReplicaSet)](09-3-ReplicaSet.ipynb)\n",
    "* [Übung: Rolling Update](09-4-Deployment.ipynb)\n",
    "* [Übung: Blue/Green Deployment](09-4-Deployment-BlueGreen.ipynb)\n",
    "* [Übung: Canary Deployment](09-4-Deployment-Canary.ipynb)\n",
    "* [Übung: Volumes und Claims](09-5-hostPath.ipynb)\n",
    "* [Übung: Volumes und Container](09-6-Volume.ipynb)\n",
    "* [Übung: Secrets (09-7-secrets)](09-7-Secrets.ipynb)\n",
    "* [Übung: ConfigMap](09-8-ConfigMap.ipynb)\n",
    "* [Übung: Health Probe Pattern (09-9-Tests)](09-9-Tests.ipynb)"
   ]
  },
  {
   "cell_type": "markdown",
   "id": "88597a85",
   "metadata": {},
   "source": [
    "## 08 - Kubernetes im Einsatz\n",
    "\n",
    "* [Übung: Installation Wordpress](dukmaster-10-default.mshome.net:8443/)\n",
    "* [Übung: Operator Pattern](custom/)\n",
    "* [Übung: Monitoring](demo/Prometheus.ipynb)\n",
    "* [Übung 08-6: Security Scanner Kubescape](08-6-SecurityScanner.ipynb)\n"
   ]
  },
  {
   "cell_type": "code",
   "execution_count": null,
   "id": "7399a9b3",
   "metadata": {},
   "outputs": [],
   "source": []
  }
 ],
 "metadata": {
  "kernelspec": {
   "display_name": "Python 3 (ipykernel)",
   "language": "python",
   "name": "python3"
  },
  "language_info": {
   "codemirror_mode": {
    "name": "ipython",
    "version": 3
   },
   "file_extension": ".py",
   "mimetype": "text/x-python",
   "name": "python",
   "nbconvert_exporter": "python",
   "pygments_lexer": "ipython3",
   "version": "3.12.3"
  }
 },
 "nbformat": 4,
 "nbformat_minor": 5
}
