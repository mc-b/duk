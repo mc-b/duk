{
 "cells": [
  {
   "cell_type": "markdown",
   "metadata": {},
   "source": [
    "Exercise: kubectl CLI and base resources (YAML variant)\n",
    "-------------------------------------------------------\n",
    "\n",
    "The `kubectl` command represents one of the control centers of the K8s cluster for the administration of resources.\n",
    "\n",
    "The `YAML` describe the resources and thus simplify the use of the `kubectl` command.\n",
    "\n",
    "In this exercise we use the `kubectl` command with `YAML` files to create a pod and service.\n",
    "\n",
    "This happens in a separate namespace to be able to display the results in a targeted manner:"
   ]
  },
  {
   "cell_type": "code",
   "execution_count": null,
   "metadata": {},
   "outputs": [],
   "source": [
    "! kubectl create namespace yaml"
   ]
  },
  {
   "cell_type": "markdown",
   "metadata": {},
   "source": [
    "### Pod\n",
    "\n",
    "For the pod, we took the output of `kubectl get pod apache -o test` from the previous exercise and created a YAML file from it:"
   ]
  },
  {
   "cell_type": "code",
   "execution_count": null,
   "metadata": {},
   "outputs": [],
   "source": [
    "%%bash\n",
    "cat <<%EOF% | kubectl apply -f -\n",
    "apiVersion: v1\n",
    "kind: Pod\n",
    "metadata:\n",
    "  labels:\n",
    "    app.kubernetes.io/name: apache\n",
    "  name: apache\n",
    "  namespace: yaml\n",
    "spec:\n",
    "  containers:\n",
    "  - image: registry.gitlab.com/mc-b/misegr/httpd\n",
    "    name: apache\n",
    "%EOF%"
   ]
  },
  {
   "cell_type": "markdown",
   "metadata": {},
   "source": [
    "- - -\n",
    "### Service\n",
    "\n",
    "For the service we are same procedures.\n",
    "\n",
    "It is important to set the selector correctly:\n",
    "\n",
    "\n",
    "`\n",
    "  selector:\n",
    "    app.kubernetes.io/name: apache\n",
    "`    "
   ]
  },
  {
   "cell_type": "code",
   "execution_count": null,
   "metadata": {},
   "outputs": [],
   "source": [
    "%%bash\n",
    "cat <<%EOF% | kubectl apply -f -\n",
    "apiVersion: v1\n",
    "kind: Service\n",
    "metadata:\n",
    "  labels:\n",
    "    app.kubernetes.io/name: apache\n",
    "  name: apache\n",
    "  namespace: yaml\n",
    "spec:\n",
    "  ports:\n",
    "  - port: 80\n",
    "    protocol: TCP\n",
    "    targetPort: 80\n",
    "  selector:\n",
    "    app.kubernetes.io/name: apache\n",
    "  type: LoadBalancer\n",
    "%EOF%"
   ]
  },
  {
   "cell_type": "markdown",
   "metadata": {},
   "source": [
    "To check, we output the created resources:"
   ]
  },
  {
   "cell_type": "code",
   "execution_count": null,
   "metadata": {},
   "outputs": [],
   "source": [
    "! kubectl get pods,services --namespace yaml"
   ]
  },
  {
   "cell_type": "markdown",
   "metadata": {},
   "source": [
    "We should now have a pod and a service apache"
   ]
  },
  {
   "cell_type": "markdown",
   "metadata": {},
   "source": [
    "Since we don't have a load balancer, we have to prepare the IP of the cluster and the mapped port (port-based-routing) as a URL using a small shell script.\n",
    "\n",
    "If this URL is opened in a new tab (right mouse button), `It works!` is displayed.\n",
    "\n",
    "**Before**: replace \"replace-with-server-ip\" with the IP address of this VM."
   ]
  },
  {
   "cell_type": "code",
   "execution_count": null,
   "metadata": {},
   "outputs": [],
   "source": [
    "! [ ! -f ~/work/server-ip ] && { echo \"replace-with-server-ip\" >~/work/server-ip; }\n",
    "! echo \"http://\"$(cat ~/work/server-ip)\":\"$(kubectl get service --namespace yaml apache -o=jsonpath='{ .spec.ports[0].nodePort }')"
   ]
  },
  {
   "cell_type": "markdown",
   "metadata": {},
   "source": [
    "- - -\n",
    "\n",
    "To clean it up, just delete the namespace"
   ]
  },
  {
   "cell_type": "code",
   "execution_count": null,
   "metadata": {},
   "outputs": [],
   "source": [
    "! kubectl delete namespace yaml"
   ]
  },
  {
   "cell_type": "markdown",
   "metadata": {},
   "source": [
    "Delete the file with the server IP to be able to correct an incorrect value"
   ]
  },
  {
   "cell_type": "markdown",
   "metadata": {},
   "source": [
    "***\n",
    "Questions\n",
    "======\n",
    "\n",
    "Answer the questions individually or in groups and compare them with the answers\n",
    "\n",
    "---\n",
    "\n",
    "What are pods?\n",
    "<details><summary>Answer</summary><p>\n",
    "Small group of containers which are tightly connected. Smallest unit for replication and placement (on node). Logical host for containers. Each pod gets exactly one IP address\n",
    "</p></details>\n",
    "\n",
    "---\n",
    "\n",
    "What are Services?\n",
    "<details><summary>Answer</summary><p>\n",
    "A group of pods working together, grouped using a label selector. Allows to access the service using different methods, e.g. DNS name. Define access policies, e.g. port remapping for access from outside the cluster.\n",
    "</p></details>\n",
    "\n",
    "---\n",
    "\n",
    "Kubernetes objects (resources) are described in which file format?\n",
    "<details><summary>Answer</summary><p>\n",
    "YAML\n",
    "</p></details>\n",
    "\n",
    "---\n",
    "\n",
    "Kubernetes objects (resources) can be managed using dashboard and which CLI tool?\n",
    "<details><summary>Answer</summary><p>\n",
    "kubectl\n",
    "</p></details>\n",
    "\n",
    "---\n",
    "\n",
    "With what can Kubernetes objects (resources) be grouped?\n",
    "<details><summary>Answer</summary><p>\n",
    "Labels\n",
    "</p></details>\n",
    "\n",
    "---\n",
    "\n",
    "What are namespaces and what is their purpose?\n",
    "<details><summary>Answer</summary><p>\n",
    "They subdivide the entire K8s cluster into logical partitions or areas. Comparable to subdomains.\n",
    "</p></details>\n",
    "\n",
    "---"
   ]
  },
  {
   "cell_type": "code",
   "execution_count": null,
   "metadata": {},
   "outputs": [],
   "source": []
  }
 ],
 "metadata": {
  "kernelspec": {
   "display_name": "Python 3 (ipykernel)",
   "language": "python",
   "name": "python3"
  },
  "language_info": {
   "codemirror_mode": {
    "name": "ipython",
    "version": 3
   },
   "file_extension": ".py",
   "mimetype": "text/x-python",
   "name": "python",
   "nbconvert_exporter": "python",
   "pygments_lexer": "ipython3",
   "version": "3.9.6"
  }
 },
 "nbformat": 4,
 "nbformat_minor": 2
}
