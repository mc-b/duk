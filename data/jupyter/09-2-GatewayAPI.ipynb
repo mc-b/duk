{
 "cells": [
  {
   "cell_type": "markdown",
   "metadata": {},
   "source": [
    "Übung:  09-2 Gateway API\n",
    "-------------------\n",
    "\n",
    "Gateway API ist ein offizielles Kubernetes-Projekt, das sich auf L4- und L7-Routing in Kubernetes konzentriert. Dieses Projekt stellt die nächste Generation von Kubernetes Ingress-, Load Balancing- und Service Mesh-APIs dar. Es war von Anfang an generisch, ausdrucksstark und rollenorientiert konzipiert.\n",
    "\n",
    "Das Gesamtressourcenmodell konzentriert sich auf drei separate [Personas](https://gateway-api.sigs.k8s.io/concepts/roles-and-personas) (Infrastructur, Cluster, Application) und entsprechende Ressourcen, die von ihnen verwaltet werden sollen:\n",
    "\n",
    "![](https://gateway-api.sigs.k8s.io/images/resource-model.png)\n",
    "\n",
    "Quelle: [Gateway API](https://gateway-api.sigs.k8s.io/)\n",
    "- - -\n",
    "\n",
    "Um die Gateway-Ressourcen verwenden zu können, müssen diese zunächst erstellt werden, da sie nicht Teil des Standard-Kubernetes sind. \n",
    "\n",
    "Anschliessend muss ein Gateway-fähiger Ingress-Controller, hier [projectcontour](https://projectcontour.io/getting-started/), installiert werden. \n",
    "\n",
    "Weitere Informationen zur Erstellung der Ressourcen findest man [hier](https://gateway-api.sigs.k8s.io/guides/#installing-a-gateway-controller)."
   ]
  },
  {
   "cell_type": "code",
   "execution_count": null,
   "metadata": {},
   "outputs": [],
   "source": [
    "! kubectl apply -f https://projectcontour.io/quickstart/contour-gateway-provisioner.yaml"
   ]
  },
  {
   "cell_type": "markdown",
   "metadata": {},
   "source": [
    "Beim Installieren des Cluster haben die Persona **\"Infrastructure Provider\"** die GatewayClass erstellt:"
   ]
  },
  {
   "cell_type": "code",
   "execution_count": null,
   "metadata": {},
   "outputs": [],
   "source": [
    "%%bash\n",
    "kubectl apply -f - <<EOF\n",
    "kind: GatewayClass\n",
    "apiVersion: gateway.networking.k8s.io/v1\n",
    "metadata:\n",
    "  name: contour\n",
    "spec:\n",
    "  controllerName: projectcontour.io/gateway-controller\n",
    "EOF"
   ]
  },
  {
   "cell_type": "markdown",
   "metadata": {},
   "source": [
    "Und die Persona **\"Cluster Operators\"** die Gateways:"
   ]
  },
  {
   "cell_type": "code",
   "execution_count": null,
   "metadata": {},
   "outputs": [],
   "source": [
    "%%bash\n",
    "kubectl apply -f - <<EOF\n",
    "kind: Gateway\n",
    "apiVersion: gateway.networking.k8s.io/v1\n",
    "metadata:\n",
    "  name: contour\n",
    "  namespace: projectcontour\n",
    "spec:\n",
    "  gatewayClassName: contour\n",
    "  listeners:\n",
    "    - name: http\n",
    "      protocol: HTTP\n",
    "      port: 80\n",
    "      allowedRoutes:\n",
    "        namespaces:\n",
    "          from: All\n",
    "EOF"
   ]
  },
  {
   "cell_type": "markdown",
   "metadata": {},
   "source": [
    "Nach dem Einrichten der benötigten Ressourcen, für das Gateway API, kontrollieren wir ob `GatewayClass` und `Gateways` auf \"True\" stehen. Dann war die Konfiguration erfolgreich."
   ]
  },
  {
   "cell_type": "code",
   "execution_count": null,
   "metadata": {},
   "outputs": [],
   "source": [
    "%%bash\n",
    "kubectl get gatewayclass\n",
    "echo \"\"\n",
    "kubectl -n projectcontour get gateways\n",
    "echo \"\"\n",
    "kubectl -n projectcontour get all"
   ]
  },
  {
   "cell_type": "markdown",
   "metadata": {},
   "source": [
    "- - -\n",
    "\n",
    "## Microservices\n",
    "\n",
    "Das Beispiel besteht aus drei Microservices: **Order**, **Customer** und **Catalog**. \n",
    "\n",
    "**Order** nutzt **Catalog** und **Customer** mit der REST-Schnittstelle. Ausserdem bietet jeder Microservice einige HTML-Seiten an.\n",
    "\n",
    "Statt des ersten Microservices **Webshop**, der als Reverse Proxy konfiguriert ist, wird das Kubernetes Gateway API verwendet.\n",
    "\n",
    "- - -\n",
    "\n",
    "Wir Starten die Microservices wie zuvor. Dabei ist zu Beachten, dass die Persona **\"Application Developers\"** für die Services zuständig sind."
   ]
  },
  {
   "cell_type": "code",
   "execution_count": null,
   "metadata": {},
   "outputs": [],
   "source": [
    "%%bash\n",
    "kubectl create namespace ms-gateway\n",
    "kubectl apply -f https://gitlab.com/ch-mc-b/autoshop-ms/infra/kubernetes-templates/-/raw/main/2.1.0-pod/catalog-pod.yaml -n ms-gateway\n",
    "kubectl apply -f https://gitlab.com/ch-mc-b/autoshop-ms/infra/kubernetes-templates/-/raw/main/2.1.0-pod/customer-pod.yaml -n ms-gateway\n",
    "kubectl apply -f https://gitlab.com/ch-mc-b/autoshop-ms/infra/kubernetes-templates/-/raw/main/2.1.0-pod/order-pod.yaml -n ms-gateway\n",
    "kubectl apply -f https://gitlab.com/ch-mc-b/autoshop-ms/infra/kubernetes-templates/-/raw/main/catalog-service.yaml -n ms-gateway\n",
    "kubectl apply -f https://gitlab.com/ch-mc-b/autoshop-ms/infra/kubernetes-templates/-/raw/main/customer-service.yaml -n ms-gateway\n",
    "kubectl apply -f https://gitlab.com/ch-mc-b/autoshop-ms/infra/kubernetes-templates/-/raw/main/order-service.yaml -n ms-gateway"
   ]
  },
  {
   "cell_type": "markdown",
   "metadata": {},
   "source": [
    "Und als letzten Schritt die Persona **\"Application Developer\"** die HTTP Routen\n",
    "\n",
    "**ACHTUNG**: läuft diese Notebook nicht in einer Hyper-V Umgebung, muss der Eintrag `hostname` angepasst werden."
   ]
  },
  {
   "cell_type": "code",
   "execution_count": null,
   "metadata": {},
   "outputs": [],
   "source": [
    "%%bash\n",
    "cat <<%EOF% | kubectl apply -f -\n",
    "apiVersion: gateway.networking.k8s.io/v1\n",
    "kind: HTTPRoute\n",
    "metadata:\n",
    "  name: ms-gateway-order\n",
    "  namespace: ms-gateway  \n",
    "spec:\n",
    "  parentRefs:\n",
    "  - group: gateway.networking.k8s.io\n",
    "    kind: Gateway\n",
    "    name: contour\n",
    "    namespace: projectcontour\n",
    "  hostnames:\n",
    "  - \"$(hostname).mshome.net\"\n",
    "  rules:\n",
    "  - matches:\n",
    "    - path:\n",
    "        type: PathPrefix\n",
    "        value: /order\n",
    "    backendRefs:\n",
    "    - name: order\n",
    "      port: 8080\n",
    "%EOF%"
   ]
  },
  {
   "cell_type": "code",
   "execution_count": null,
   "metadata": {},
   "outputs": [],
   "source": [
    "%%bash\n",
    "cat <<%EOF% | kubectl apply -f -\n",
    "apiVersion: gateway.networking.k8s.io/v1\n",
    "kind: HTTPRoute\n",
    "metadata:\n",
    "  name: ms-gateway-customer\n",
    "  namespace: ms-gateway  \n",
    "spec:\n",
    "  parentRefs:\n",
    "  - group: gateway.networking.k8s.io\n",
    "    kind: Gateway\n",
    "    name: contour\n",
    "    namespace: projectcontour\n",
    "  hostnames:\n",
    "  - \"$(hostname).mshome.net\"\n",
    "  rules:\n",
    "  - matches:\n",
    "    - path:\n",
    "        type: PathPrefix\n",
    "        value: /customer\n",
    "    backendRefs:\n",
    "    - name: customer\n",
    "      port: 8080\n",
    "%EOF%"
   ]
  },
  {
   "cell_type": "code",
   "execution_count": null,
   "metadata": {},
   "outputs": [],
   "source": [
    "%%bash\n",
    "cat <<%EOF% | kubectl apply -f -\n",
    "apiVersion: gateway.networking.k8s.io/v1\n",
    "kind: HTTPRoute\n",
    "metadata:\n",
    "  name: ms-gateway-catalog\n",
    "  namespace: ms-gateway  \n",
    "spec:\n",
    "  parentRefs:\n",
    "  - group: gateway.networking.k8s.io\n",
    "    kind: Gateway\n",
    "    name: contour\n",
    "    namespace: projectcontour\n",
    "  hostnames:\n",
    "  - \"$(hostname).mshome.net\"\n",
    "  rules:\n",
    "  - matches:\n",
    "    - path:\n",
    "        type: PathPrefix\n",
    "        value: /catalog\n",
    "    backendRefs:\n",
    "    - name: catalog\n",
    "      port: 8080\n",
    "%EOF%"
   ]
  },
  {
   "cell_type": "markdown",
   "metadata": {},
   "source": [
    "Überprüfen der erstellen Ressourcen"
   ]
  },
  {
   "cell_type": "code",
   "execution_count": null,
   "metadata": {},
   "outputs": [],
   "source": [
    "! kubectl get pod,services,gatewayclass,gateway,httproute -n ms-gateway"
   ]
  },
  {
   "cell_type": "markdown",
   "metadata": {},
   "source": [
    "Alle Microservices sind jetzt mittels gleichem DNS erreichbar."
   ]
  },
  {
   "cell_type": "code",
   "execution_count": null,
   "metadata": {},
   "outputs": [],
   "source": [
    "%%bash\n",
    "export PORT=$(kubectl get service --namespace projectcontour envoy-contour -o=jsonpath='{ .spec.ports[0].nodePort }')\n",
    "export SERVER=http://$(hostname).mshome.net:${PORT}\n",
    "echo \"Kunden      : ${SERVER}/customer\"\n",
    "echo \"Produkte    : ${SERVER}/catalog\"\n",
    "echo \"Bestellungen: ${SERVER}/order\""
   ]
  },
  {
   "cell_type": "markdown",
   "metadata": {},
   "source": [
    "- - -\n",
    "\n",
    "Aufräumen"
   ]
  },
  {
   "cell_type": "code",
   "execution_count": null,
   "metadata": {},
   "outputs": [],
   "source": [
    "! kubectl delete namespace ms-gateway"
   ]
  },
  {
   "cell_type": "code",
   "execution_count": null,
   "metadata": {},
   "outputs": [],
   "source": []
  }
 ],
 "metadata": {
  "kernelspec": {
   "display_name": "Python 3 (ipykernel)",
   "language": "python",
   "name": "python3"
  },
  "language_info": {
   "codemirror_mode": {
    "name": "ipython",
    "version": 3
   },
   "file_extension": ".py",
   "mimetype": "text/x-python",
   "name": "python",
   "nbconvert_exporter": "python",
   "pygments_lexer": "ipython3",
   "version": "3.12.3"
  }
 },
 "nbformat": 4,
 "nbformat_minor": 2
}
