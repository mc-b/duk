{
 "cells": [
  {
   "cell_type": "markdown",
   "metadata": {},
   "source": [
    "Übung:  09-2 Gateway API\n",
    "-------------------\n",
    "\n",
    "![](demo/images/Microservices-REST.png)\n",
    "\n",
    "Quelle: Buch Microservices Rezepte\n",
    "- - -\n",
    "\n",
    "Das Beispiel besteht aus drei Microservices: **Order**, **Customer** und **Catalog**. \n",
    "\n",
    "**Order** nutzt **Catalog** und **Customer** mit der REST-Schnittstelle. Ausserdem bietet jeder Microservice einige HTML-Seiten an.\n",
    "\n",
    "Statt des Apache-Webservers, der als [Reverse Proxy](https://github.com/ewolff/microservice-kubernetes/blob/master/microservice-kubernetes-demo/apache/000-default.conf) konfiguriert ist, wird die Kubernetes Ressource Ingress verwendet."
   ]
  },
  {
   "cell_type": "markdown",
   "metadata": {},
   "source": [
    "Das Gateway API\n",
    "---\n",
    "\n",
    "Gateway API ist ein offizielles Kubernetes-Projekt, das sich auf L4- und L7-Routing in Kubernetes konzentriert. Dieses Projekt stellt die nächste Generation von Kubernetes Ingress-, Load Balancing- und Service Mesh-APIs dar. Es war von Anfang an generisch, ausdrucksstark und rollenorientiert konzipiert.\n",
    "\n",
    "Das Gesamtressourcenmodell konzentriert sich auf drei separate [Personas](https://gateway-api.sigs.k8s.io/concepts/roles-and-personas) (Infrastructur, Cluster, Application) und entsprechende Ressourcen, die von ihnen verwaltet werden sollen:\n",
    "\n",
    "![](https://gateway-api.sigs.k8s.io/images/resource-model.png)\n",
    "\n",
    "Quelle: [Gateway API](https://gateway-api.sigs.k8s.io/)\n",
    "- - -\n",
    "\n",
    "Da die Gateway Ressourcen nicht Bestandteil vom Standard Kubernetes sind, sind zuerst die [Ressourcen zu erstellen](https://gateway-api.sigs.k8s.io/guides/#installing-a-gateway-controller):"
   ]
  },
  {
   "cell_type": "code",
   "execution_count": null,
   "metadata": {},
   "outputs": [],
   "source": [
    "! kubectl apply -f https://github.com/kubernetes-sigs/gateway-api/releases/download/v1.0.0/standard-install.yaml"
   ]
  },
  {
   "cell_type": "markdown",
   "metadata": {},
   "source": [
    "Wir Starten die Microservices wie zuvor. Dabei ist zu Beachten, dass die Persona **\"Application Developers\"** für die Services zuständig sind."
   ]
  },
  {
   "cell_type": "code",
   "execution_count": null,
   "metadata": {},
   "outputs": [],
   "source": [
    "%%bash\n",
    "kubectl create namespace ms-rest\n",
    "# ! kubectl apply -f https://raw.githubusercontent.com/mc-b/misegr/master/ewolff/ms-kubernetes/apache.yaml (obsolet!)\n",
    "kubectl apply -f https://raw.githubusercontent.com/mc-b/misegr/master/ewolff/ms-kubernetes/catalog.yaml\n",
    "kubectl apply -f https://raw.githubusercontent.com/mc-b/misegr/master/ewolff/ms-kubernetes/customer.yaml\n",
    "kubectl apply -f https://raw.githubusercontent.com/mc-b/misegr/master/ewolff/ms-kubernetes/order.yaml\n",
    "kubectl apply -f https://raw.githubusercontent.com/mc-b/misegr/master/ewolff/ms-kubernetes/postgres.yaml"
   ]
  },
  {
   "cell_type": "markdown",
   "metadata": {},
   "source": [
    "Beim erstellen des Cluster haben die Persona **\"Infrastructure Provider\"** die GatewayClass erstellt:"
   ]
  },
  {
   "cell_type": "code",
   "execution_count": null,
   "metadata": {},
   "outputs": [],
   "source": [
    "%%bash\n",
    "cat <<%EOF% | kubectl apply -f -\n",
    "apiVersion: gateway.networking.k8s.io/v1\n",
    "kind: GatewayClass\n",
    "metadata:\n",
    "  name: cluster-gateway\n",
    "  namespace: ms-rest  \n",
    "spec:\n",
    "  controllerName: \"ms-rest/gateway-controller\"\n",
    "%EOF%\n"
   ]
  },
  {
   "cell_type": "markdown",
   "metadata": {},
   "source": [
    "Nach dem Starten erstellen die Persona **\"Cluster Operators\"** die Gateways:"
   ]
  },
  {
   "cell_type": "code",
   "execution_count": null,
   "metadata": {},
   "outputs": [],
   "source": [
    "%%bash\n",
    "cat <<%EOF% | kubectl apply -f -\n",
    "apiVersion: gateway.networking.k8s.io/v1\n",
    "kind: Gateway\n",
    "metadata:\n",
    "  name: ms-rest-gateway\n",
    "spec:\n",
    "  gatewayClassName: cluster-gateway\n",
    "  listeners:\n",
    "  - protocol: HTTP\n",
    "    port: 80\n",
    "    name: ms-rest-gw\n",
    "%EOF%\n"
   ]
  },
  {
   "cell_type": "markdown",
   "metadata": {},
   "source": [
    "Und als letzten Schritt die Persona **\"Application Developer\"** die HTTP Routen"
   ]
  },
  {
   "cell_type": "code",
   "execution_count": null,
   "metadata": {},
   "outputs": [],
   "source": [
    "%%bash\n",
    "cat <<%EOF% | kubectl apply -f -\n",
    "apiVersion: gateway.networking.k8s.io/v1\n",
    "kind: HTTPRoute\n",
    "metadata:\n",
    "  name: ms-rest-route\n",
    "  namespace: ms-rest  \n",
    "spec:\n",
    "  parentRefs:\n",
    "  - name: ms-rest-gateway\n",
    "  rules:\n",
    "  - matches:\n",
    "    - path:\n",
    "        type: PathPrefix\n",
    "        value: /order/(.*)\n",
    "    backendRefs:\n",
    "    - name: order\n",
    "      port: 8080\n",
    "    - path:\n",
    "        type: PathPrefix\n",
    "        value: /customer\n",
    "    backendRefs:\n",
    "    - name: customer\n",
    "      port: 8080  \n",
    "    - path:\n",
    "        type: PathPrefix\n",
    "        value: /catalog\n",
    "    backendRefs:\n",
    "    - name: catalog\n",
    "      port: 8080         \n",
    "%EOF%\n"
   ]
  },
  {
   "cell_type": "markdown",
   "metadata": {},
   "source": [
    "Überprüfen der erstellen Ressourcen"
   ]
  },
  {
   "cell_type": "code",
   "execution_count": null,
   "metadata": {},
   "outputs": [],
   "source": [
    "! kubectl get pod,services,gatewayclass,gateway,httproute -n ms-rest"
   ]
  },
  {
   "cell_type": "markdown",
   "metadata": {},
   "source": [
    "Alle Microservices sind jetzt mittels `https` und gleichem DNS bzw. IP-Adresse erreichbar."
   ]
  },
  {
   "cell_type": "code",
   "execution_count": null,
   "metadata": {},
   "outputs": [],
   "source": [
    "%%bash\n",
    "export SERVER=http://$(cat ~/work/server-ip)\n",
    "echo \"Kunden    : ${SERVER}/customer\"\n",
    "echo \"Produkte  : ${SERVER}/catalog\"\n",
    "echo \"Bestellung: ${SERVER}/order/index.html\""
   ]
  },
  {
   "cell_type": "markdown",
   "metadata": {},
   "source": [
    "***\n",
    "### Ingress Service (nginx Server)\n",
    "\n",
    "In der aktuellen Umgebung übernimmt ein nginx Server die Ingress Funktionalität. Dieser Server läuft als Pods im Namespace ingress-nginx.\n",
    "\n",
    "Von dem nginx Server können wir uns die Konfigurationsdatei ausgeben:"
   ]
  },
  {
   "cell_type": "code",
   "execution_count": null,
   "metadata": {},
   "outputs": [],
   "source": [
    "! kubectl exec daemonset/nginx-ingress-microk8s-controller -n ingress -- cat /etc/nginx/nginx.conf | grep location"
   ]
  },
  {
   "cell_type": "markdown",
   "metadata": {},
   "source": [
    "Zum Testen kann der `kubectl apply -f -` welche die Ingress Ressourcen anlegt, durch `kubectl delete -f -` ersetzt werden und dann der obige Befehl wieder ausgeführt werden.\n",
    "\n",
    "Dann sollten die `location` Einträge für `customer`, `catalog` und `order` nicht mehr vorhanden sein."
   ]
  },
  {
   "cell_type": "markdown",
   "metadata": {},
   "source": [
    "- - -\n",
    "\n",
    "Aufräumen"
   ]
  },
  {
   "cell_type": "code",
   "execution_count": null,
   "metadata": {},
   "outputs": [],
   "source": [
    "! kubectl delete namespace ms-rest"
   ]
  },
  {
   "cell_type": "markdown",
   "metadata": {},
   "source": [
    "***\n",
    "Fragen\n",
    "======\n",
    "\n",
    "Beantwortet die Fragen einzeln oder in der Gruppe und vergleicht diese mit den Antworten\n",
    "\n",
    "\n",
    "Was ein Ingress?\n",
    "<details><summary>Antwort</summary><p>    \n",
    "    Ein API-Objekt, das den externen Zugriff auf die Dienste in einem Cluster verwaltet, in der Regel mittels HTTP. \n",
    "    Grob entspricht der Ingress Dienst dem Reverse Proxy Muster. \n",
    "</p></details>\n",
    "\n",
    "---\n",
    "\n",
    "Was für eine Netzwerkstruktur verwendet Kubernetes?\n",
    "<details><summary>Antwort</summary><p>    \n",
    "     Kubernetes verwendet im Unterschied zu Docker eine flache Netzwerkstruktur. \n",
    "* Jeder Container kann mit jedem anderen ohne NAT kommunizieren.\n",
    "* Alle Kubernetes Nodes können mit allen Containern (und in die andere Richtung) ohne NAT kommunizieren.\n",
    "* Die IP, die ein Container von sich selbst sieht, ist auch die, die jeder andere Node oder Container im Netz von ihm sieht.\n",
    "</p></details>\n",
    "\n",
    "---"
   ]
  },
  {
   "cell_type": "code",
   "execution_count": null,
   "metadata": {},
   "outputs": [],
   "source": []
  }
 ],
 "metadata": {
  "kernelspec": {
   "display_name": "Python 3 (ipykernel)",
   "language": "python",
   "name": "python3"
  },
  "language_info": {
   "codemirror_mode": {
    "name": "ipython",
    "version": 3
   },
   "file_extension": ".py",
   "mimetype": "text/x-python",
   "name": "python",
   "nbconvert_exporter": "python",
   "pygments_lexer": "ipython3",
   "version": "3.10.6"
  }
 },
 "nbformat": 4,
 "nbformat_minor": 2
}
