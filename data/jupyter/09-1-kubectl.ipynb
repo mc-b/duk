{
 "cells": [
  {
   "cell_type": "markdown",
   "metadata": {},
   "source": [
    "Übung: kubectl-CLI und Basis Ressourcen\n",
    "-------------------------------------------------------------\n",
    "\n",
    "Das `kubectl`-Kommando stellt, eine der Schaltzentralen des K8s Clusters zur Administration der Ressourcen dar.\n",
    "\n",
    "In dieser Übung verwenden wir das `kubectl`-Kommando zur Erstellen eines Pods und Services.\n",
    "\n",
    "Das passiert in einer eigenen Namespace um die Resultate gezielt Darstellen zu können:"
   ]
  },
  {
   "cell_type": "code",
   "execution_count": 37,
   "metadata": {},
   "outputs": [
    {
     "name": "stdout",
     "output_type": "stream",
     "text": [
      "namespace/test created\r\n"
     ]
    }
   ],
   "source": [
    "! kubectl create namespace test"
   ]
  },
  {
   "cell_type": "markdown",
   "metadata": {},
   "source": [
    "Erzeugen eines Pod's, hier der Apache Web Server.\n",
    "\n",
    "Die Option `--restart=Never` erzeugt nur einen Pod. Ansonsten wird ein Deployment erzeugt."
   ]
  },
  {
   "cell_type": "code",
   "execution_count": 38,
   "metadata": {},
   "outputs": [
    {
     "name": "stdout",
     "output_type": "stream",
     "text": [
      "pod/apache created\r\n"
     ]
    }
   ],
   "source": [
    "! kubectl run apache --image=httpd --restart=Never --namespace test"
   ]
  },
  {
   "cell_type": "markdown",
   "metadata": {},
   "source": [
    "Ausgabe der Erzeugten Ergebnisse und die YAML Datei welche den Pod beschreibt:"
   ]
  },
  {
   "cell_type": "code",
   "execution_count": 39,
   "metadata": {},
   "outputs": [
    {
     "name": "stdout",
     "output_type": "stream",
     "text": [
      "NAME     READY   STATUS              RESTARTS   AGE\r\n",
      "apache   0/1     ContainerCreating   0          2s\r\n"
     ]
    }
   ],
   "source": [
    "! kubectl get pods,services --namespace test"
   ]
  },
  {
   "cell_type": "code",
   "execution_count": 40,
   "metadata": {},
   "outputs": [
    {
     "name": "stdout",
     "output_type": "stream",
     "text": [
      "apiVersion: v1\r\n",
      "kind: Pod\r\n",
      "metadata:\r\n",
      "  creationTimestamp: 2018-10-25T08:47:03Z\r\n",
      "  labels:\r\n",
      "    run: apache\r\n",
      "  name: apache\r\n",
      "  namespace: test\r\n",
      "  resourceVersion: \"830513\"\r\n",
      "  selfLink: /api/v1/namespaces/test/pods/apache\r\n",
      "  uid: 8bb19949-d832-11e8-9739-02fba84c29d0\r\n",
      "spec:\r\n",
      "  containers:\r\n",
      "  - image: httpd\r\n",
      "    imagePullPolicy: Always\r\n",
      "    name: apache\r\n",
      "    resources: {}\r\n",
      "    terminationMessagePath: /dev/termination-log\r\n",
      "    terminationMessagePolicy: File\r\n"
     ]
    }
   ],
   "source": [
    "! kubectl get pod apache -o yaml --namespace test | head -19"
   ]
  },
  {
   "cell_type": "markdown",
   "metadata": {},
   "source": [
    "Zu dem Pod `apache` Erzeugen wir einen Service. Dadurch wird der Web Server von aussen sichtbar.\n",
    "\n",
    "Der Port 80 wird von Kubernetes automatisch auf den nächsten freien Port gemappt."
   ]
  },
  {
   "cell_type": "code",
   "execution_count": 41,
   "metadata": {},
   "outputs": [
    {
     "name": "stdout",
     "output_type": "stream",
     "text": [
      "service/apache exposed\r\n"
     ]
    }
   ],
   "source": [
    "! kubectl expose pod/apache --type=\"LoadBalancer\" --port 80 --namespace test"
   ]
  },
  {
   "cell_type": "code",
   "execution_count": 42,
   "metadata": {},
   "outputs": [
    {
     "name": "stdout",
     "output_type": "stream",
     "text": [
      "apiVersion: v1\r\n",
      "kind: Service\r\n",
      "metadata:\r\n",
      "  creationTimestamp: 2018-10-25T08:47:36Z\r\n",
      "  labels:\r\n",
      "    run: apache\r\n",
      "  name: apache\r\n",
      "  namespace: test\r\n",
      "  resourceVersion: \"830551\"\r\n",
      "  selfLink: /api/v1/namespaces/test/services/apache\r\n",
      "  uid: 9f395faa-d832-11e8-9739-02fba84c29d0\r\n",
      "spec:\r\n",
      "  clusterIP: 10.111.144.164\r\n",
      "  externalTrafficPolicy: Cluster\r\n",
      "  ports:\r\n",
      "  - nodePort: 32243\r\n",
      "    port: 80\r\n",
      "    protocol: TCP\r\n",
      "    targetPort: 80\r\n",
      "  selector:\r\n",
      "    run: apache\r\n",
      "  sessionAffinity: None\r\n",
      "  type: LoadBalancer\r\n",
      "status:\r\n",
      "  loadBalancer: {}\r\n"
     ]
    }
   ],
   "source": [
    "! kubectl get service apache -o yaml --namespace test | head -29"
   ]
  },
  {
   "cell_type": "markdown",
   "metadata": {},
   "source": [
    "Wir sollten jetzt einen Pod und einen Service apache haben"
   ]
  },
  {
   "cell_type": "code",
   "execution_count": 43,
   "metadata": {},
   "outputs": [
    {
     "name": "stdout",
     "output_type": "stream",
     "text": [
      "NAME         READY   STATUS    RESTARTS   AGE\n",
      "pod/apache   1/1     Running   0          43s\n",
      "\n",
      "NAME             TYPE           CLUSTER-IP       EXTERNAL-IP   PORT(S)        AGE\n",
      "service/apache   LoadBalancer   10.111.144.164   <pending>     80:32243/TCP   10s\n"
     ]
    }
   ],
   "source": [
    "! kubectl get pods,service apache --namespace test"
   ]
  },
  {
   "cell_type": "markdown",
   "metadata": {},
   "source": [
    "Da wir keinen LoadBalancer haben müssen wir mit einem kleinen Shellscript selber die IP des Clusters und der gemappte Port als URL aufbereiten.\n",
    "\n",
    "Diese Shellscript ist im Script `startsvc` hinterlegt."
   ]
  },
  {
   "cell_type": "code",
   "execution_count": 44,
   "metadata": {},
   "outputs": [
    {
     "name": "stdout",
     "output_type": "stream",
     "text": [
      "http://192.168.178.200:32243"
     ]
    }
   ],
   "source": [
    "! kubectl config view -o=jsonpath='{ .clusters[0].cluster.server }' | sed -e 's/https:/http:/' -e \"s/6443/$(kubectl get service --namespace test apache -o=jsonpath='{ .spec.ports[0].nodePort }')/\"\n"
   ]
  },
  {
   "cell_type": "markdown",
   "metadata": {},
   "source": [
    "Zum Aufräumen genügt es den Namespace zu löschen"
   ]
  },
  {
   "cell_type": "code",
   "execution_count": 45,
   "metadata": {},
   "outputs": [
    {
     "name": "stdout",
     "output_type": "stream",
     "text": [
      "namespace \"test\" deleted\n"
     ]
    }
   ],
   "source": [
    "! kubectl delete namespace test"
   ]
  },
  {
   "cell_type": "code",
   "execution_count": null,
   "metadata": {},
   "outputs": [],
   "source": []
  }
 ],
 "metadata": {
  "kernelspec": {
   "display_name": "Python 3",
   "language": "python",
   "name": "python3"
  },
  "language_info": {
   "codemirror_mode": {
    "name": "ipython",
    "version": 3
   },
   "file_extension": ".py",
   "mimetype": "text/x-python",
   "name": "python",
   "nbconvert_exporter": "python",
   "pygments_lexer": "ipython3",
   "version": "3.6.5"
  }
 },
 "nbformat": 4,
 "nbformat_minor": 2
}
