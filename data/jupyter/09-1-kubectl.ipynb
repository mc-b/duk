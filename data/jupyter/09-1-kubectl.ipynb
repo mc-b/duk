{
 "cells": [
  {
   "cell_type": "markdown",
   "metadata": {},
   "source": [
    "Übung: kubectl-CLI und Basis Ressourcen\n",
    "-------------------------------------------------------------\n",
    "\n",
    "Das `kubectl`-Kommando stellt, eine der Schaltzentralen des K8s Clusters zur Administration der Ressourcen dar.\n",
    "\n",
    "In dieser Übung verwenden wir das `kubectl`-Kommando zur Erstellen eines Pods und Services.\n",
    "\n",
    "Das passiert in einer eigenen Namespace um die Resultate gezielt Darstellen zu können:"
   ]
  },
  {
   "cell_type": "code",
   "execution_count": null,
   "metadata": {},
   "outputs": [],
   "source": [
    "! kubectl create namespace test"
   ]
  },
  {
   "cell_type": "markdown",
   "metadata": {},
   "source": [
    "Erzeugen eines Pod's, hier unsere Webshop.\n",
    "\n",
    "Die Option `--restart=Never` erzeugt nur einen Pod. Ansonsten wird ein Deployment erzeugt."
   ]
  },
  {
   "cell_type": "code",
   "execution_count": null,
   "metadata": {},
   "outputs": [],
   "source": [
    "! kubectl run webshop --image=registry.gitlab.com/ch-mc-b/autoshop/shop:2.0.0 --restart=Never --namespace test"
   ]
  },
  {
   "cell_type": "markdown",
   "metadata": {},
   "source": [
    "Ausgabe der Erzeugten Ergebnisse und die YAML Datei welche den Pod beschreibt:"
   ]
  },
  {
   "cell_type": "code",
   "execution_count": null,
   "metadata": {},
   "outputs": [],
   "source": [
    "! kubectl get pods,services --namespace test"
   ]
  },
  {
   "cell_type": "code",
   "execution_count": null,
   "metadata": {},
   "outputs": [],
   "source": [
    "! kubectl get pod webshop -o yaml --namespace test | kubectl-neat"
   ]
  },
  {
   "cell_type": "markdown",
   "metadata": {},
   "source": [
    "Zu dem Pod `webshop` Erzeugen wir einen Service. Dadurch wird der Web Server von aussen sichtbar.\n",
    "\n",
    "Der Port 80 wird von Kubernetes automatisch auf den nächsten freien Port gemappt."
   ]
  },
  {
   "cell_type": "code",
   "execution_count": null,
   "metadata": {},
   "outputs": [],
   "source": [
    "! kubectl expose pod/webshop --type=\"LoadBalancer\" --port 80 --namespace test"
   ]
  },
  {
   "cell_type": "code",
   "execution_count": null,
   "metadata": {},
   "outputs": [],
   "source": [
    "! kubectl get service webshop -o yaml --namespace test | kubectl-neat"
   ]
  },
  {
   "cell_type": "markdown",
   "metadata": {},
   "source": [
    "Wir sollten jetzt einen Pod und einen Service webshop haben"
   ]
  },
  {
   "cell_type": "code",
   "execution_count": null,
   "metadata": {},
   "outputs": [],
   "source": [
    "! kubectl get pods,service webshop --namespace test"
   ]
  },
  {
   "cell_type": "markdown",
   "metadata": {},
   "source": [
    "Da wir keinen LoadBalancer haben müssen wir mit einem kleinen Shellscript selber die IP des Clusters und der gemappte Port (port-based-routing) als URL aufbereiten.\n",
    "\n",
    "Wird dieser URL in einem neuen Tab (rechte Maustaste) geöffnet, wird `It works!` angezeigt.\n",
    "\n",
    "**Vorher**: ist \"replace-with-server-ip\" durch die IP-Adresse dieser VM zu ersetzen."
   ]
  },
  {
   "cell_type": "code",
   "execution_count": null,
   "metadata": {},
   "outputs": [],
   "source": [
    "! [ ! -f ~/work/server-ip ] && { echo \"replace-with-server-ip\" >~/work/server-ip; }\n",
    "! echo \"http://\"$(cat ~/work/server-ip)\":\"$(kubectl get service --namespace test webshop -o=jsonpath='{ .spec.ports[0].nodePort }')"
   ]
  },
  {
   "cell_type": "markdown",
   "metadata": {},
   "source": [
    "- - -\n",
    "Zum Aufräumen genügt es den Namespace zu löschen"
   ]
  },
  {
   "cell_type": "code",
   "execution_count": null,
   "metadata": {},
   "outputs": [],
   "source": [
    "! kubectl delete namespace test"
   ]
  },
  {
   "cell_type": "markdown",
   "metadata": {},
   "source": [
    "***\n",
    "Fragen\n",
    "======\n",
    "\n",
    "Beantwortet die Fragen einzeln oder in der Gruppe und vergleicht diese mit den Antworten\n",
    "\n",
    "Was ist Kubernetes?\n",
    "<details><summary>Antwort</summary><p>    \n",
    "\t Das im Juli 2014 gestartete Kubernetes (griechisch: Steuermann) stellt die derzeit populärste Container-Cluster-/Orchestrierungs-Lösung dar.\n",
    "</p></details>\n",
    "\n",
    "---\n",
    "\n",
    "Was ist die Hauptaufgabe von Kubernetes?\n",
    "<details><summary>Antwort</summary><p>    \n",
    "     Kubernetes Hauptaufgabe ist die Verwaltung und Orchestrierung der Container innerhalb eines Clusters, der üblicherweise aus mindestens einem Kubernetes Master und multiplen Worker Nodes besteht.\n",
    "</p></details>\n",
    "\n",
    "---\n",
    "\n",
    "Wer ist der Eigentümer von Kubernetes?\n",
    "<details><summary>Antwort</summary><p>    \n",
    "     Kubernetes ist mittlerweile bei der Cloud Native Computing Foundation (http://cncf.io) gehostet.\n",
    "</p></details>\n",
    "\n",
    "---"
   ]
  },
  {
   "cell_type": "code",
   "execution_count": null,
   "metadata": {},
   "outputs": [],
   "source": []
  }
 ],
 "metadata": {
  "kernelspec": {
   "display_name": "Python 3 (ipykernel)",
   "language": "python",
   "name": "python3"
  },
  "language_info": {
   "codemirror_mode": {
    "name": "ipython",
    "version": 3
   },
   "file_extension": ".py",
   "mimetype": "text/x-python",
   "name": "python",
   "nbconvert_exporter": "python",
   "pygments_lexer": "ipython3",
   "version": "3.9.6"
  }
 },
 "nbformat": 4,
 "nbformat_minor": 2
}
