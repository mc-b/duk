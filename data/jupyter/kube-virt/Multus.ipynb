{
 "cells": [
  {
   "cell_type": "markdown",
   "id": "3f30e898",
   "metadata": {},
   "source": [
    "# Multus\n",
    "\n",
    "![](https://github.com/k8snetworkplumbingwg/multus-cni/raw/master/docs/images/Multus.png)\n",
    "\n",
    "![](https://github.com/k8snetworkplumbingwg/multus-cni/raw/master/docs/images/multus-pod-image.svg)\n",
    "\n",
    "Quelle: https://github.com/k8snetworkplumbingwg/multus-cni\n",
    "- - -\n",
    "\n",
    "Multus CNI ist ein Container Network Interface (CNI)-Plugin für Kubernetes, das das Anfügen mehrerer Netzwerkschnittstellen an Pods ermöglicht.\n"
   ]
  },
  {
   "cell_type": "code",
   "execution_count": null,
   "id": "bbfad22f",
   "metadata": {},
   "outputs": [],
   "source": [
    "# microk8s Variante\n",
    "! sudo microk8s enable community\n",
    "! sudo microk8s enable multus\n",
    "# Multus Variante\n",
    "! # kubectl apply -f https://raw.githubusercontent.com/k8snetworkplumbingwg/multus-cni/master/deployments/multus-daemonset-thick.yml"
   ]
  },
  {
   "cell_type": "markdown",
   "id": "fb2def51",
   "metadata": {},
   "source": [
    "Netzwerke hinzufügen"
   ]
  },
  {
   "cell_type": "code",
   "execution_count": null,
   "id": "1bc6ca59",
   "metadata": {},
   "outputs": [],
   "source": [
    "%%bash\n",
    "cat <<EOF | kubectl apply -f -\n",
    "---\n",
    "apiVersion: \"k8s.cni.cncf.io/v1\"\n",
    "kind: NetworkAttachmentDefinition\n",
    "metadata:\n",
    "  name: home-network\n",
    "spec:\n",
    "  config: '{\n",
    "    \"cniVersion\": \"0.3.1\",\n",
    "    \"name\": \"home-network\",\n",
    "    \"type\": \"bridge\",\n",
    "    \"bridge\": \"br100\",\n",
    "    \"isDefaultGateway\": false,\n",
    "    \"forceAddress\": false,\n",
    "    \"ipMasq\": false,\n",
    "    \"hairpinMode\": false,\n",
    "    \"ipam\": {\n",
    "      \"type\": \"host-local\",\n",
    "      \"subnet\": \"192.168.1.0/24\",\n",
    "      \"rangeStart\": \"192.168.1.201\",\n",
    "      \"rangeEnd\": \"192.168.1.250\",\n",
    "      \"routes\": [\n",
    "        { \"dst\": \"0.0.0.0/0\" }\n",
    "      ],\n",
    "      \"gateway\": \"192.168.1.1\"\n",
    "    }\n",
    "  }'\n",
    "---\n",
    "apiVersion: \"k8s.cni.cncf.io/v1\"\n",
    "kind: NetworkAttachmentDefinition\n",
    "metadata:\n",
    "  name: work-network\n",
    "spec:\n",
    "  config: '{\n",
    "    \"cniVersion\": \"0.3.1\",\n",
    "    \"name\": \"work-network\",\n",
    "    \"type\": \"bridge\",\n",
    "    \"bridge\": \"br200\",\n",
    "    \"isDefaultGateway\": false,\n",
    "    \"forceAddress\": false,\n",
    "    \"ipMasq\": false,\n",
    "    \"hairpinMode\": false,\n",
    "    \"ipam\": {\n",
    "      \"type\": \"host-local\",\n",
    "      \"subnet\": \"192.168.2.0/24\",\n",
    "      \"rangeStart\": \"192.168.2.201\",\n",
    "      \"rangeEnd\": \"192.168.2.250\",\n",
    "      \"routes\": [\n",
    "        { \"dst\": \"0.0.0.0/0\" }\n",
    "      ],\n",
    "      \"gateway\": \"192.168.2.1\"\n",
    "    }\n",
    "  }'\n",
    "EOF"
   ]
  },
  {
   "cell_type": "code",
   "execution_count": null,
   "id": "285b2776",
   "metadata": {},
   "outputs": [],
   "source": [
    "! kubectl describe network-attachment-definitions home-network\n",
    "! kubectl describe network-attachment-definitions work-network"
   ]
  },
  {
   "cell_type": "markdown",
   "id": "e724b187",
   "metadata": {},
   "source": [
    "Erstellen eines Pods mit drei Netzwerk Schnittstellen (exkl. loopback)"
   ]
  },
  {
   "cell_type": "code",
   "execution_count": null,
   "id": "31250091",
   "metadata": {},
   "outputs": [],
   "source": [
    "%%bash\n",
    "cat <<EOF | kubectl apply -f -\n",
    "---\n",
    "apiVersion: v1\n",
    "kind: Pod\n",
    "metadata:\n",
    "  labels:\n",
    "    app: multus-alpine\n",
    "  name: multus-alpine\n",
    "  namespace: default\n",
    "  annotations:\n",
    "    k8s.v1.cni.cncf.io/networks: '[\n",
    "      {\n",
    "         \"name\" : \"home-network\",\n",
    "         \"interface\": \"eth1\",\n",
    "         \"ips\": [\"192.168.3.205\"]\n",
    "      },\n",
    "      {\n",
    "         \"name\" : \"work-network\",\n",
    "         \"interface\": \"eth2\",\n",
    "         \"ips\": [\"192.168.2.210\"]\n",
    "      }\n",
    "    ]'\n",
    "spec:\n",
    "  containers:\n",
    "    - name: multus-alpine\n",
    "      image: alpine:latest\n",
    "      command: [\"sh\"]\n",
    "      args: [\"-c\", \"while [ true ]; do ifconfig; sleep 3; done\"]\n",
    "  restartPolicy: Always\n",
    "EOF"
   ]
  },
  {
   "cell_type": "code",
   "execution_count": null,
   "id": "4bb15435",
   "metadata": {},
   "outputs": [],
   "source": [
    "! kubectl exec -it multus-alpine -- ip a"
   ]
  },
  {
   "cell_type": "markdown",
   "id": "45197458",
   "metadata": {},
   "source": [
    "- - -\n",
    "\n",
    "### Aufräumen"
   ]
  },
  {
   "cell_type": "code",
   "execution_count": null,
   "id": "45873aac",
   "metadata": {},
   "outputs": [],
   "source": [
    "! kubectl delete pod multus-alpine\n",
    "! kubectl delete network-attachment-definitions home-network\n",
    "! kubectl delete network-attachment-definitions work-network"
   ]
  },
  {
   "cell_type": "code",
   "execution_count": null,
   "id": "c18cf113",
   "metadata": {},
   "outputs": [],
   "source": []
  },
  {
   "cell_type": "code",
   "execution_count": null,
   "id": "ea733d44",
   "metadata": {},
   "outputs": [],
   "source": []
  }
 ],
 "metadata": {
  "kernelspec": {
   "display_name": "Python 3 (ipykernel)",
   "language": "python",
   "name": "python3"
  },
  "language_info": {
   "codemirror_mode": {
    "name": "ipython",
    "version": 3
   },
   "file_extension": ".py",
   "mimetype": "text/x-python",
   "name": "python",
   "nbconvert_exporter": "python",
   "pygments_lexer": "ipython3",
   "version": "3.12.3"
  }
 },
 "nbformat": 4,
 "nbformat_minor": 5
}
