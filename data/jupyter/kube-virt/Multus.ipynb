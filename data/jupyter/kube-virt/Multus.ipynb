{
 "cells": [
  {
   "cell_type": "markdown",
   "id": "3f30e898",
   "metadata": {},
   "source": [
    "# Multus\n",
    "\n",
    "![](https://github.com/k8snetworkplumbingwg/multus-cni/raw/master/docs/images/Multus.png)\n",
    "\n",
    "![](https://github.com/k8snetworkplumbingwg/multus-cni/raw/master/docs/images/multus-pod-image.svg)\n",
    "\n",
    "Quelle: https://github.com/k8snetworkplumbingwg/multus-cni\n",
    "- - -\n",
    "\n",
    "Multus CNI ist ein Container Network Interface (CNI)-Plugin für Kubernetes, das das Anfügen mehrerer Netzwerkschnittstellen an Pods ermöglicht.\n"
   ]
  },
  {
   "cell_type": "code",
   "execution_count": null,
   "id": "bbfad22f",
   "metadata": {},
   "outputs": [],
   "source": [
    "# microk8s Variante\n",
    "! sudo microk8s enable community\n",
    "! sudo microk8s enable multus\n",
    "# Multus Variante\n",
    "! # kubectl apply -f https://raw.githubusercontent.com/k8snetworkplumbingwg/multus-cni/master/deployments/multus-daemonset-thick.yml"
   ]
  },
  {
   "cell_type": "markdown",
   "id": "983995be",
   "metadata": {},
   "source": [
    "- - -\n",
    "\n",
    "## Netzwerk mit Bridge-Plugin\n",
    "\n",
    "Mit dem Bridge-Plugin werden alle Container (auf demselben Host) an eine Bridge (virtueller Switch) angeschlossen, die sich im Namespace des Hostnetzwerks befindet. \n",
    "\n",
    "Die Container erhalten ein Ende des Veth-Paares (Virtual Ethernet Device), während das andere Ende mit der Bridge verbunden ist.\n",
    "\n",
    "Der Bridge selbst wird ebenfalls eine IP-Adresse zugewiesen werden, wodurch sie zu einem Gateway für die Container wird. \n",
    "\n",
    "Quelle: https://www.cni.dev/plugins/current/main/bridge/"
   ]
  },
  {
   "cell_type": "code",
   "execution_count": null,
   "id": "2a9687a0",
   "metadata": {},
   "outputs": [],
   "source": [
    "%%bash\n",
    "cat <<EOF | kubectl apply -f -\n",
    "---\n",
    "apiVersion: \"k8s.cni.cncf.io/v1\"\n",
    "kind: NetworkAttachmentDefinition\n",
    "metadata:\n",
    "  name: bridge-network\n",
    "spec:\n",
    "  config: '{\n",
    "    \"cniVersion\": \"0.3.1\",\n",
    "    \"name\": \"mynet\",\n",
    "    \"type\": \"bridge\",\n",
    "    \"bridge\": \"mynet0\",\n",
    "    \"isDefaultGateway\": true,\n",
    "    \"forceAddress\": false,\n",
    "    \"ipMasq\": true,\n",
    "    \"hairpinMode\": true,\n",
    "    \"ipam\": {\n",
    "        \"type\": \"host-local\",\n",
    "        \"subnet\": \"10.10.0.0/16\"\n",
    "        }\n",
    "    }'\n",
    "EOF"
   ]
  },
  {
   "cell_type": "markdown",
   "id": "21ade966",
   "metadata": {},
   "source": [
    "Zum Testen erstellen wir einen Pod mit zwei Netzwerk Adapter (ohne loopback)."
   ]
  },
  {
   "cell_type": "code",
   "execution_count": null,
   "id": "793af374",
   "metadata": {},
   "outputs": [],
   "source": [
    "%%bash\n",
    "cat <<EOF | kubectl create -f -\n",
    "apiVersion: v1\n",
    "kind: Pod\n",
    "metadata:\n",
    "  name: multus-autoshop\n",
    "  annotations:\n",
    "    k8s.v1.cni.cncf.io/networks: bridge-network\n",
    "spec:\n",
    "  containers:\n",
    "  - name: multus-autoshop\n",
    "    image: registry.gitlab.com/ch-mc-b/autoshop/shop:2.0.0\n",
    "EOF"
   ]
  },
  {
   "cell_type": "code",
   "execution_count": null,
   "id": "62c0e8f3",
   "metadata": {},
   "outputs": [],
   "source": [
    "! kubectl exec -it multus-autoshop -- ip a\n",
    "! kubectl exec -it multus-autoshop -- route"
   ]
  },
  {
   "cell_type": "markdown",
   "id": "14428dae",
   "metadata": {},
   "source": [
    "Der Container ist nun über das Default Pod Netzwerk und über das 10.10.0.0/16 Netzwerk erreichbar"
   ]
  },
  {
   "cell_type": "code",
   "execution_count": null,
   "id": "060e5868",
   "metadata": {},
   "outputs": [],
   "source": [
    "! curl http://10.10.0.3:8080"
   ]
  },
  {
   "cell_type": "markdown",
   "id": "45197458",
   "metadata": {},
   "source": [
    "- - -\n",
    "\n",
    "### Aufräumen"
   ]
  },
  {
   "cell_type": "code",
   "execution_count": null,
   "id": "45873aac",
   "metadata": {},
   "outputs": [],
   "source": [
    "! kubectl delete pod multus-autoshop\n",
    "! kubectl delete network-attachment-definitions bridge-network"
   ]
  },
  {
   "cell_type": "markdown",
   "id": "37c8c655",
   "metadata": {},
   "source": [
    "- - -\n",
    "\n",
    "### Quellen:\n",
    "\n",
    "* [Auto Shop](https://gitlab.com/ch-mc-b/autoshop/shop)\n",
    "* [CNI - Die Container-Netzwerkschnittstelle](https://www.cni.dev/)"
   ]
  },
  {
   "cell_type": "code",
   "execution_count": null,
   "id": "89a2ca90",
   "metadata": {},
   "outputs": [],
   "source": []
  }
 ],
 "metadata": {
  "kernelspec": {
   "display_name": "Python 3 (ipykernel)",
   "language": "python",
   "name": "python3"
  },
  "language_info": {
   "codemirror_mode": {
    "name": "ipython",
    "version": 3
   },
   "file_extension": ".py",
   "mimetype": "text/x-python",
   "name": "python",
   "nbconvert_exporter": "python",
   "pygments_lexer": "ipython3",
   "version": "3.12.3"
  }
 },
 "nbformat": 4,
 "nbformat_minor": 5
}
