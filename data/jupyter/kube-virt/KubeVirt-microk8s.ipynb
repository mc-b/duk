{
 "cells": [
  {
   "cell_type": "markdown",
   "id": "5fdc4f9f",
   "metadata": {},
   "source": [
    "# KubeVirt\n",
    "\n",
    "KubeVirt ist ein Open-Source-Projekt, das es ermöglicht, virtuelle Maschinen auf Kubernetes bereitzustellen, zu nutzen und zu verwalten – ähnlich wie Container. \n",
    "\n",
    "Durch eine einheitliche Bereitstellungs- und Verwaltungsebene für sowohl Container als auch virtuelle Maschinen entsteht eine vereinheitlichte Plattform für cloud-native Anwendungen, unabhängig von den Anforderungen.\n",
    "\n",
    "Quelle: Unterhaltung mit Copilot, 18.8.2024\n",
    "* (1) Getting Started with KubeVirt Containers and Virtual Machines Together. https://www.redhat.com/en/blog/getting-started-with-kubevirt.\n",
    "* (2) Introduction | KubeVirt.io. https://kubevirt.io/docs/.\n",
    "* (3) GitHub - kubevirt/kubevirt: Kubernetes Virtualization API and runtime .... https://github.com/kubevirt/kubevirt.\n",
    "* (4) Overview of KubeVirt | Kube by Example. https://kubebyexample.com/learning-paths/kubevirt-fundamentals/overview-kubevirt.\n",
    "\n",
    "- - -\n",
    "\n",
    "Reset Kubernetes (microk8s)"
   ]
  },
  {
   "cell_type": "code",
   "execution_count": 11,
   "id": "8ed6f458",
   "metadata": {},
   "outputs": [
    {
     "name": "stdout",
     "output_type": "stream",
     "text": [
      "microk8s removed\n",
      "microk8s (1.31/stable) v1.31.3 from Canonical** installed\n"
     ]
    },
    {
     "name": "stderr",
     "output_type": "stream",
     "text": [
      "snap \"kubectl\" is already installed, see 'snap help refresh'\n",
      "snap \"helm\" is already installed, see 'snap help refresh'\n",
      "Infer repository core for addon dns\n"
     ]
    },
    {
     "name": "stdout",
     "output_type": "stream",
     "text": [
      "Enabling DNS\n",
      "Using host configuration from /run/systemd/resolve/resolv.conf\n",
      "Applying manifest\n",
      "serviceaccount/coredns created\n",
      "configmap/coredns created\n",
      "deployment.apps/coredns created\n",
      "service/kube-dns created\n",
      "clusterrole.rbac.authorization.k8s.io/coredns created\n",
      "clusterrolebinding.rbac.authorization.k8s.io/coredns created\n",
      "CoreDNS service deployed with IP address 10.152.183.10\n",
      "DNS is enabled\n",
      "poddisruptionbudget.policy/calico-kube-controllers configured\n",
      "serviceaccount/calico-kube-controllers unchanged\n",
      "serviceaccount/calico-node unchanged\n",
      "configmap/calico-config unchanged\n",
      "customresourcedefinition.apiextensions.k8s.io/bgpconfigurations.crd.projectcalico.org configured\n",
      "customresourcedefinition.apiextensions.k8s.io/bgppeers.crd.projectcalico.org configured\n",
      "customresourcedefinition.apiextensions.k8s.io/blockaffinities.crd.projectcalico.org configured\n",
      "customresourcedefinition.apiextensions.k8s.io/caliconodestatuses.crd.projectcalico.org configured\n",
      "customresourcedefinition.apiextensions.k8s.io/clusterinformations.crd.projectcalico.org configured\n",
      "customresourcedefinition.apiextensions.k8s.io/felixconfigurations.crd.projectcalico.org configured\n",
      "customresourcedefinition.apiextensions.k8s.io/globalnetworkpolicies.crd.projectcalico.org configured\n",
      "customresourcedefinition.apiextensions.k8s.io/globalnetworksets.crd.projectcalico.org configured\n",
      "customresourcedefinition.apiextensions.k8s.io/hostendpoints.crd.projectcalico.org configured\n",
      "customresourcedefinition.apiextensions.k8s.io/ipamblocks.crd.projectcalico.org configured\n",
      "customresourcedefinition.apiextensions.k8s.io/ipamconfigs.crd.projectcalico.org configured\n",
      "customresourcedefinition.apiextensions.k8s.io/ipamhandles.crd.projectcalico.org configured\n",
      "customresourcedefinition.apiextensions.k8s.io/ippools.crd.projectcalico.org configured\n",
      "customresourcedefinition.apiextensions.k8s.io/ipreservations.crd.projectcalico.org configured\n",
      "customresourcedefinition.apiextensions.k8s.io/kubecontrollersconfigurations.crd.projectcalico.org configured\n",
      "customresourcedefinition.apiextensions.k8s.io/networkpolicies.crd.projectcalico.org configured\n",
      "customresourcedefinition.apiextensions.k8s.io/networksets.crd.projectcalico.org configured\n",
      "clusterrole.rbac.authorization.k8s.io/calico-kube-controllers unchanged\n",
      "clusterrole.rbac.authorization.k8s.io/calico-node unchanged\n",
      "clusterrolebinding.rbac.authorization.k8s.io/calico-kube-controllers unchanged\n",
      "clusterrolebinding.rbac.authorization.k8s.io/calico-node unchanged\n",
      "daemonset.apps/calico-node configured\n",
      "deployment.apps/calico-kube-controllers configured\n",
      "apiVersion: v1\n",
      "clusters:\n",
      "- cluster:\n",
      "    certificate-authority-data: LS0tLS1CRUdJTiBDRVJUSUZJQ0FURS0tLS0tCk1JSUREekNDQWZlZ0F3SUJBZ0lVZHRkTG9zYVUxZ3JDRzh1VGwvRWJWWEhwaHc0d0RRWUpLb1pJaHZjTkFRRUwKQlFBd0Z6RVZNQk1HQTFVRUF3d01NVEF1TVRVeUxqRTRNeTR4TUI0WERUSTBNVEl5T0RFMk5UUXdNVm9YRFRNMApNVEl5TmpFMk5UUXdNVm93RnpFVk1CTUdBMVVFQXd3TU1UQXVNVFV5TGpFNE15NHhNSUlCSWpBTkJna3Foa2lHCjl3MEJBUUVGQUFPQ0FROEFNSUlCQ2dLQ0FRRUF4YjZSckNxam5qd0M4NWR5c1A2YS85bFRPNUFOd1JkMGFlZmYKRkozUTBJVC9JSVFOcWNHZkxkc1F3RkhMdTNTZmZub29MZHRkV0R0SVRHNmJDUUtYQmNSd0dOem9zQksyakUyQQpoQjZGbFlsbXllWlFqNnRHc1BEZEh3RTVYb3ltd0ttQ0Q0eUNoeGN2N2Jub1FxY3RUR1lPMk8vM0xTVFpZeTB1CjJCb1o4K04vSjNtRlRCa3U2TTVWb0tPNmdXOExnemRiZXArU2dnUlRVZ3NlSTZhaHNlTCtQdVVzNjNFdURwVWoKN0NuOWQxeTZwbnFpWkJlbHhBbk9qaG1Dc2JLMW5yNkxLNXVCTGE3cVJyQUF0aFFQVm1DeG5OdUovRzVoSVRZKwo4V2xlUys0c09wQ3hFeHkyaTFSSTA5c3draGd1bWx0UXhxdkJ5WWNYd0tQQksxYTdWUUlEQVFBQm8xTXdVVEFkCkJnTlZIUTRFRmdRVW5VL0hrRUFUL080cHFLS2lUTzNzSXdpN1dOOHdId1lEVlIwakJCZ3dGb0FVblUvSGtFQVQKL080cHFLS2lUTzNzSXdpN1dOOHdEd1lEVlIwVEFRSC9CQVV3QXdFQi96QU5CZ2txaGtpRzl3MEJBUXNGQUFPQwpBUUVBVXE3YWo2MTdmS1VCamYyL3dTNEN3dlU4dGhZY2laZGxseTZUVW5qcThVeTd6dEVwLzlCMlFFdGRxUXRyCndFajJBVkNlNDV4eVlyWnZkbGVqSjFrYVA4SldVWTEzZ0R0ZXFocVo3WnN5eDBFUUhnbEk4MGl5OHZZWS9meG4KWXBuT1ZjQjl3VzV1bVIrWU1XbkZFWVJ1aGNqazhCcWk1Skp5cDBEVkVvUkVKajJyZEtXOUpYYlNRNWpybXlZdgpaK2NnU0c4MlYyZitUb0thNnZBTmtxajcyRTR3RXVtMmdUYTl4cWE3aXlHTTdvVXBTbGZub1ZkVjhYMXZVck9lCk5KOE10dW9LTDUyamJOR1FrWktleW82dTlqbW9GbFc5NGVmUFJhZStraTJBWkpWUi9IMTZGV3RVSDh6ZUw2a1QKcE5mZWJCS2Z2VXQvS3lKOWNQbXl5RmVqSWc9PQotLS0tLUVORCBDRVJUSUZJQ0FURS0tLS0tCg==\n",
      "    server: https://10.0.24.76:16443\n",
      "  name: microk8s-cluster\n",
      "contexts:\n",
      "- context:\n",
      "    cluster: microk8s-cluster\n",
      "    user: admin\n",
      "  name: microk8s\n",
      "current-context: microk8s\n",
      "kind: Config\n",
      "preferences: {}\n",
      "users:\n",
      "- name: admin\n",
      "  user:\n",
      "    client-certificate-data: LS0tLS1CRUdJTiBDRVJUSUZJQ0FURS0tLS0tCk1JSUN6RENDQWJTZ0F3SUJBZ0lVQmJCa09TRjJRejBvaUNzUmR4cEhUSFpJRGpZd0RRWUpLb1pJaHZjTkFRRUwKQlFBd0Z6RVZNQk1HQTFVRUF3d01NVEF1TVRVeUxqRTRNeTR4TUI0WERUSTBNVEl5T0RFMk5UUXdNVm9YRFRNMApNVEl5TmpFMk5UUXdNVm93S1RFT01Bd0dBMVVFQXd3RllXUnRhVzR4RnpBVkJnTlZCQW9NRG5ONWMzUmxiVHB0CllYTjBaWEp6TUlJQklqQU5CZ2txaGtpRzl3MEJBUUVGQUFPQ0FROEFNSUlCQ2dLQ0FRRUEzaHd1TEthZEZta1UKRWxoQ1FmQlZsZnl2a0NQUEdmZUJvaHBlTnM2TmJyR3RReW1iZ2NFWWFVU1JBcmJBS0VnNFF2WU51Smp5aEFpZQorU2hpZzU2V0FnOHhDaHJBWmFPdG9Ia2NKMmtQOHhSSDlzUmx6d3N2TGs2bDRjWkZQSkcxUXVSY3JNUHdSSnMzCllaY1ZiNXhFbVcxSnFyc0xad0ZFUU85RW1hN2ZSbjVONTh0emk0S24zUDdPUVFudm0zbkFWa1E3NXBDTlg5aHYKdEVIOFNNSDcwRUp0MkhWOW9DdmM5QkNZcWllYTFOV1VDMDBtMHR2NTBJcGp5c3g4a3lHZTNTd0VtT2dab2RFbQpHdTRwMzVrTlpibFdmZVJUNmJqc08wTGdlTHpxYVFTYlBlSnZkbG54ZWNWbHhacHBjRGhyVGZjVENNVFJHa1pqCmRMSzZ6WVNLZFFJREFRQUJNQTBHQ1NxR1NJYjNEUUVCQ3dVQUE0SUJBUUJEdWJiNnoxTEdFU0NmM1BMRmF0OHAKWGVWZjNiTXQzQVh5bDJwbnM2bUlVMUMxekhaakZZL3NKR3oyNnZCTFg0aUtzZVgwZ1Vvby9PaVVDalRkZnZTeApzTjRKUndHV0JaME5hNEhyYVVjaDJadjZiaGp0MkN0Vjd4U2EwcTFocnY1TzVYMVZ6Z08xVFA0ZGhLVHc2L2YyCmNpalNIYXMxeW4vS3dFa0ptYXM4cnQ4bWR5OWVKWStCT3dSSTIxSGFJVTd4UDZDWDk1cTVLZWpacnBFSUF6ZE8KaXpwSTE1MndlRkw3VEg0ditCMGkrWWR5ajhEZm1zajBmM3pPcUtvUjVZOEdGZ291WTRUL1FFbmRzN3VSSnA1VQpnSHh4OUptbHpjd1cveXZWa0FpN21SWjNJQ3RNZENLV2JJQ3B2TVRkMTdGZHZiVkJXWS9wTWdtZHRQSU1EQ0V6Ci0tLS0tRU5EIENFUlRJRklDQVRFLS0tLS0K\n",
      "    client-key-data: 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\n",
      "\n",
      "storageclass.storage.k8s.io/local-storage created\n",
      "persistentvolume/rwm-volume created\n",
      "persistentvolumeclaim/data-claim created\n",
      "    \n",
      "### microk8s Kubernetes\n",
      "\n",
      "[![](https://img.youtube.com/vi/v9KI2BAF5QU/0.jpg)](https://www.youtube.com/watch?v=v9KI2BAF5QU)\n"
     ]
    },
    {
     "name": "stdout",
     "output_type": "stream",
     "text": [
      "\n",
      "What is MicroK8s?\n",
      "- - -\n",
      "\n",
      "Weitere Informationen: [https://microk8s.io/](https://microk8s.io/)\n",
      "  \n"
     ]
    },
    {
     "name": "stderr",
     "output_type": "stream",
     "text": [
      "Infer repository core for addon ingress\n",
      "Infer repository core for addon metrics-server\n"
     ]
    },
    {
     "name": "stdout",
     "output_type": "stream",
     "text": [
      "WARNING: Do not enable or disable multiple addons in one command.\n",
      "         This form of chained operations on addons will be DEPRECATED in the future.\n",
      "         Please, enable one addon at a time: 'microk8s enable <addon>'\n",
      "Enabling Ingress\n",
      "ingressclass.networking.k8s.io/public created\n",
      "ingressclass.networking.k8s.io/nginx created\n",
      "namespace/ingress created\n",
      "serviceaccount/nginx-ingress-microk8s-serviceaccount created\n",
      "clusterrole.rbac.authorization.k8s.io/nginx-ingress-microk8s-clusterrole created\n",
      "role.rbac.authorization.k8s.io/nginx-ingress-microk8s-role created\n",
      "clusterrolebinding.rbac.authorization.k8s.io/nginx-ingress-microk8s created\n",
      "rolebinding.rbac.authorization.k8s.io/nginx-ingress-microk8s created\n",
      "configmap/nginx-load-balancer-microk8s-conf created\n",
      "configmap/nginx-ingress-tcp-microk8s-conf created\n",
      "configmap/nginx-ingress-udp-microk8s-conf created\n",
      "daemonset.apps/nginx-ingress-microk8s-controller created\n",
      "Ingress is enabled\n",
      "Enabling Metrics-Server\n",
      "serviceaccount/metrics-server created\n",
      "clusterrole.rbac.authorization.k8s.io/system:aggregated-metrics-reader created\n",
      "clusterrole.rbac.authorization.k8s.io/system:metrics-server created\n",
      "rolebinding.rbac.authorization.k8s.io/metrics-server-auth-reader created\n",
      "clusterrolebinding.rbac.authorization.k8s.io/metrics-server:system:auth-delegator created\n",
      "clusterrolebinding.rbac.authorization.k8s.io/system:metrics-server created\n",
      "service/metrics-server created\n",
      "deployment.apps/metrics-server created\n",
      "apiservice.apiregistration.k8s.io/v1beta1.metrics.k8s.io created\n",
      "clusterrolebinding.rbac.authorization.k8s.io/microk8s-admin created\n",
      "Metrics-Server is enabled\n",
      "namespace/kubernetes-dashboard created\n",
      "serviceaccount/kubernetes-dashboard created\n",
      "service/kubernetes-dashboard created\n",
      "secret/kubernetes-dashboard-certs created\n",
      "secret/kubernetes-dashboard-csrf created\n",
      "secret/kubernetes-dashboard-key-holder created\n",
      "configmap/kubernetes-dashboard-settings created\n",
      "role.rbac.authorization.k8s.io/kubernetes-dashboard created\n",
      "clusterrole.rbac.authorization.k8s.io/kubernetes-dashboard created\n",
      "rolebinding.rbac.authorization.k8s.io/kubernetes-dashboard created\n",
      "clusterrolebinding.rbac.authorization.k8s.io/kubernetes-dashboard created\n",
      "deployment.apps/kubernetes-dashboard created\n",
      "service/dashboard-metrics-scraper created\n",
      "deployment.apps/dashboard-metrics-scraper created\n"
     ]
    }
   ],
   "source": [
    "%%bash\n",
    "sudo snap remove microk8s\n",
    "# neu Installation\n",
    "curl -sfL https://raw.githubusercontent.com/mc-b/lerncloud/main/services/microk8s.sh | bash -\n",
    "curl -sfL https://raw.githubusercontent.com/mc-b/lerncloud/main/services/microk8saddons.sh | bash -"
   ]
  },
  {
   "cell_type": "code",
   "execution_count": 2,
   "id": "356eedc5",
   "metadata": {},
   "outputs": [
    {
     "name": "stdout",
     "output_type": "stream",
     "text": [
      "Infer repository core for addon storage\n",
      "DEPRECATION WARNING: 'storage' is deprecated and will soon be removed. Please use 'hostpath-storage' instead.\n",
      "\n",
      "Infer repository core for addon hostpath-storage\n",
      "Enabling default storage class.\n",
      "WARNING: Hostpath storage is not suitable for production environments.\n",
      "         A hostpath volume can grow beyond the size limit set in the volume claim manifest.\n",
      "\n",
      "deployment.apps/hostpath-provisioner created\n",
      "storageclass.storage.k8s.io/microk8s-hostpath created\n",
      "serviceaccount/microk8s-hostpath created\n",
      "clusterrole.rbac.authorization.k8s.io/microk8s-hostpath created\n",
      "clusterrolebinding.rbac.authorization.k8s.io/microk8s-hostpath created\n",
      "Storage will be available soon.\n"
     ]
    }
   ],
   "source": [
    "! sudo microk8s enable storage"
   ]
  },
  {
   "cell_type": "code",
   "execution_count": null,
   "id": "984bb3e4",
   "metadata": {
    "scrolled": true
   },
   "outputs": [],
   "source": [
    "%%bash\n",
    "# Funktion zum Hinzufügen der Option --allow-privileged=true zu einer Datei\n",
    "add_allow_privileged() {\n",
    "    local file=$1\n",
    "    if ! grep -q -- \"--allow-privileged=true\" \"$file\"; then\n",
    "        echo \"--allow-privileged=true\" | sudo tee -a \"$file\"\n",
    "        echo \"Option --allow-privileged=true zu $file hinzugefügt.\"\n",
    "    else\n",
    "        echo \"Option --allow-privileged=true ist bereits in $file vorhanden.\"\n",
    "    fi\n",
    "}\n",
    "\n",
    "# Pfade zu den Konfigurationsdateien\n",
    "kubelet_config=\"/var/snap/microk8s/current/args/kubelet\"\n",
    "kube_apiserver_config=\"/var/snap/microk8s/current/args/kube-apiserver\"\n",
    "\n",
    "# Option zu den Konfigurationsdateien hinzufügen\n",
    "add_allow_privileged \"$kubelet_config\"\n",
    "add_allow_privileged \"$kube_apiserver_config\"\n",
    "\n",
    "microk8s stop\n",
    "microk8s start"
   ]
  },
  {
   "cell_type": "markdown",
   "id": "b4fe674b",
   "metadata": {},
   "source": [
    "### Validate Hardware Virtualization Support\n",
    "Hardware with virtualization support is recommended. You can use virt-host-validate to ensure that your hosts are capable of running virtualization workloads:"
   ]
  },
  {
   "cell_type": "code",
   "execution_count": null,
   "id": "060f862e",
   "metadata": {},
   "outputs": [],
   "source": [
    "! sudo usermod -aG kvm $USER\n",
    "! sudo chmod 666 /dev/kvm\n"
   ]
  },
  {
   "cell_type": "code",
   "execution_count": 3,
   "id": "931923f4",
   "metadata": {},
   "outputs": [
    {
     "name": "stdout",
     "output_type": "stream",
     "text": [
      "  QEMU: Checking for hardware virtualization                                 : \u001b[32mPASS\u001b[0m\r\n",
      "  QEMU: Checking if device /dev/kvm exists                                   : \u001b[32mPASS\u001b[0m\r\n",
      "  QEMU: Checking if device /dev/kvm is accessible                            : \u001b[32mPASS\u001b[0m\r\n",
      "  QEMU: Checking if device /dev/vhost-net exists                             : \u001b[32mPASS\u001b[0m\r\n",
      "  QEMU: Checking if device /dev/net/tun exists                               : \u001b[32mPASS\u001b[0m\r\n",
      "  QEMU: Checking for cgroup 'cpu' controller support                         : \u001b[32mPASS\u001b[0m\r\n",
      "  QEMU: Checking for cgroup 'cpuacct' controller support                     : \u001b[32mPASS\u001b[0m\r\n",
      "  QEMU: Checking for cgroup 'cpuset' controller support                      : \u001b[32mPASS\u001b[0m\r\n",
      "  QEMU: Checking for cgroup 'memory' controller support                      : \u001b[32mPASS\u001b[0m\r\n",
      "  QEMU: Checking for cgroup 'devices' controller support                     : \u001b[33mWARN\u001b[0m (Enable 'devices' in kernel Kconfig file or mount/enable cgroup controller in your system)\r\n",
      "  QEMU: Checking for cgroup 'blkio' controller support                       : \u001b[32mPASS\u001b[0m\r\n",
      "  QEMU: Checking for device assignment IOMMU support                         : \u001b[33mWARN\u001b[0m (No ACPI DMAR table found, IOMMU either disabled in BIOS or not supported by this hardware platform)\r\n",
      "  QEMU: Checking for secure guest support                                    : \u001b[33mWARN\u001b[0m (Unknown if this platform has Secure Guest support)\r\n"
     ]
    }
   ],
   "source": [
    "! virt-host-validate qemu"
   ]
  },
  {
   "cell_type": "markdown",
   "id": "66455a92",
   "metadata": {},
   "source": [
    "Und Installieren KubeVirt mittels Operators"
   ]
  },
  {
   "cell_type": "code",
   "execution_count": 6,
   "id": "5a368fdf",
   "metadata": {},
   "outputs": [
    {
     "name": "stdout",
     "output_type": "stream",
     "text": [
      "v1.4.0\n",
      "namespace/kubevirt unchanged\n",
      "customresourcedefinition.apiextensions.k8s.io/kubevirts.kubevirt.io unchanged\n",
      "priorityclass.scheduling.k8s.io/kubevirt-cluster-critical configured\n",
      "clusterrole.rbac.authorization.k8s.io/kubevirt.io:operator unchanged\n",
      "serviceaccount/kubevirt-operator unchanged\n",
      "role.rbac.authorization.k8s.io/kubevirt-operator unchanged\n",
      "rolebinding.rbac.authorization.k8s.io/kubevirt-operator-rolebinding unchanged\n",
      "clusterrole.rbac.authorization.k8s.io/kubevirt-operator unchanged\n",
      "clusterrolebinding.rbac.authorization.k8s.io/kubevirt-operator unchanged\n",
      "deployment.apps/virt-operator configured\n",
      "kubevirt.kubevirt.io/kubevirt configured\n",
      "kubevirt.kubevirt.io/kubevirt patched\n"
     ]
    }
   ],
   "source": [
    "%%bash\n",
    "export VERSION=$(curl -s https://storage.googleapis.com/kubevirt-prow/release/kubevirt/kubevirt/stable.txt)\n",
    "echo $VERSION\n",
    "\n",
    "kubectl apply -f https://github.com/kubevirt/kubevirt/releases/download/${VERSION}/kubevirt-operator.yaml\n",
    "kubectl apply -f https://github.com/kubevirt/kubevirt/releases/download/${VERSION}/kubevirt-cr.yaml\n",
    "\n",
    "# kubectl -n kubevirt wait kv kubevirt --for condition=Available\n",
    "\n",
    "# enabling nested virtualization\n",
    "kubectl -n kubevirt patch kubevirt kubevirt --type=merge --patch '{\"spec\":{\"configuration\":{\"developerConfiguration\":{\"useEmulation\":true}}}}'"
   ]
  },
  {
   "cell_type": "markdown",
   "id": "23597453",
   "metadata": {},
   "source": [
    "Kontrollieren, bzw. warten bis alles läuft.\n",
    "\n",
    "Es sollten 6 Pods laufen"
   ]
  },
  {
   "cell_type": "code",
   "execution_count": 10,
   "id": "81258374",
   "metadata": {},
   "outputs": [
    {
     "name": "stdout",
     "output_type": "stream",
     "text": [
      "DeployingNAME                                                              READY   STATUS    RESTARTS   AGE\n",
      "kubevirt-181122bb566b78f3958f071886d59e622871f649-jobk9nmcttq7b   0/1     Pending   0          5m46s\n",
      "virt-operator-79456d8689-ntj2f                                    1/1     Running   0          6m11s\n",
      "virt-operator-79456d8689-xxjnz                                    1/1     Running   0          6m11s\n"
     ]
    }
   ],
   "source": [
    "! kubectl get kubevirt.kubevirt.io/kubevirt -n kubevirt -o=jsonpath=\"{.status.phase}\"\n",
    "! kubectl get pods -n kubevirt"
   ]
  },
  {
   "cell_type": "code",
   "execution_count": null,
   "id": "3cf220e4",
   "metadata": {},
   "outputs": [],
   "source": [
    "! kubectl logs -n kubevirt kubevirt-181122bb566b78f3958f071886d59e622871f649-job46m4nd8c4d "
   ]
  },
  {
   "cell_type": "markdown",
   "id": "2a448fad",
   "metadata": {},
   "source": [
    "Wir brauchen zusätzlich das CLI `virtctl` um VMs zu starten, stoppen oder sich mit diesen zu verbinden:"
   ]
  },
  {
   "cell_type": "code",
   "execution_count": null,
   "id": "6871e7df",
   "metadata": {},
   "outputs": [],
   "source": [
    "%%bash\n",
    "export VERSION=$(curl -s https://api.github.com/repos/kubevirt/kubevirt/releases/latest | jq -r .tag_name)\n",
    "echo ${VERSION}\n",
    "wget https://github.com/kubevirt/kubevirt/releases/download/$VERSION/virtctl-$VERSION-linux-amd64\n",
    "chmod +x virtctl-$VERSION-linux-amd64\n",
    "sudo mv virtctl-$VERSION-linux-amd64 /usr/local/bin/virtctl\n",
    "virtctl"
   ]
  },
  {
   "cell_type": "markdown",
   "id": "e141734e",
   "metadata": {},
   "source": [
    "- - -\n",
    "\n",
    "### Erstellen von VMs\n",
    "\n",
    "Zuerst brauchen wir eine Deklaration im YAML Format"
   ]
  },
  {
   "cell_type": "code",
   "execution_count": null,
   "id": "c62f0e6e",
   "metadata": {},
   "outputs": [],
   "source": [
    "%%bash\n",
    "cat <<%EOF% | kubectl apply -f - \n",
    "apiVersion: kubevirt.io/v1\n",
    "kind: VirtualMachine\n",
    "metadata:\n",
    "  name: ubuntu-vm\n",
    "  namespace: default\n",
    "spec:\n",
    "  running: false\n",
    "  template:\n",
    "    metadata:\n",
    "      labels:\n",
    "        kubevirt.io/domain: ubuntu-vm\n",
    "    spec:\n",
    "      domain:\n",
    "        cpu:\n",
    "          cores: 2\n",
    "        devices:\n",
    "          disks:\n",
    "          - disk:\n",
    "              bus: virtio\n",
    "            name: containerdisk\n",
    "          - disk:\n",
    "              bus: virtio\n",
    "            name: cloudinitdisk\n",
    "          interfaces:  # Netzwerkschnittstellen hier definieren\n",
    "          - name: default\n",
    "            masquerade: {}  # Verwende das Masquerade-Netzwerk für NAT\n",
    "        memory:\n",
    "          guest: 4Gi\n",
    "      networks:\n",
    "      - name: default\n",
    "        pod: {}  # Verweist auf das Standard-Pod-Netzwerk\n",
    "      volumes:\n",
    "      - name: containerdisk\n",
    "        containerDisk:\n",
    "          image: quay.io/containerdisks/ubuntu:24.04\n",
    "      - name: cloudinitdisk\n",
    "        cloudInitNoCloud:\n",
    "          userData: |\n",
    "            #cloud-config\n",
    "            users:\n",
    "              - name: ubuntu\n",
    "                passwd: insecure\n",
    "                lock_passwd: false\n",
    "                sudo: ALL=(ALL) NOPASSWD:ALL\n",
    "                ssh_pwauth: true\n",
    "            ssh_pwauth: true\n",
    "%EOF%\n"
   ]
  },
  {
   "cell_type": "code",
   "execution_count": null,
   "id": "67bca5d0",
   "metadata": {},
   "outputs": [],
   "source": [
    "! virtctl start ubuntu-vm"
   ]
  },
  {
   "cell_type": "code",
   "execution_count": null,
   "id": "6055df0d",
   "metadata": {},
   "outputs": [],
   "source": [
    "! kubectl get vm"
   ]
  },
  {
   "cell_type": "code",
   "execution_count": null,
   "id": "eebab576",
   "metadata": {},
   "outputs": [],
   "source": []
  },
  {
   "cell_type": "markdown",
   "id": "8016f24b",
   "metadata": {},
   "source": [
    "- - -\n",
    "\n",
    "### Aufräumen"
   ]
  },
  {
   "cell_type": "code",
   "execution_count": null,
   "id": "778e1e0f",
   "metadata": {},
   "outputs": [],
   "source": [
    "! kind delete cluster \n",
    "! kubectl config use-context microk8s"
   ]
  },
  {
   "cell_type": "code",
   "execution_count": null,
   "id": "5668e51a",
   "metadata": {},
   "outputs": [],
   "source": []
  }
 ],
 "metadata": {
  "kernelspec": {
   "display_name": "Python 3 (ipykernel)",
   "language": "python",
   "name": "python3"
  },
  "language_info": {
   "codemirror_mode": {
    "name": "ipython",
    "version": 3
   },
   "file_extension": ".py",
   "mimetype": "text/x-python",
   "name": "python",
   "nbconvert_exporter": "python",
   "pygments_lexer": "ipython3",
   "version": "3.12.3"
  }
 },
 "nbformat": 4,
 "nbformat_minor": 5
}
