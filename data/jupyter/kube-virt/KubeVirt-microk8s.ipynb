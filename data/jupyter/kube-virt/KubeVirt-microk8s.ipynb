{
 "cells": [
  {
   "cell_type": "markdown",
   "id": "5fdc4f9f",
   "metadata": {},
   "source": [
    "# KubeVirt\n",
    "\n",
    "KubeVirt ist ein Open-Source-Projekt, das es ermöglicht, virtuelle Maschinen auf Kubernetes bereitzustellen, zu nutzen und zu verwalten – ähnlich wie Container. \n",
    "\n",
    "Durch eine einheitliche Bereitstellungs- und Verwaltungsebene für sowohl Container als auch virtuelle Maschinen entsteht eine vereinheitlichte Plattform für cloud-native Anwendungen, unabhängig von den Anforderungen.\n",
    "\n",
    "Quelle: Unterhaltung mit Copilot, 18.8.2024\n",
    "* (1) Getting Started with KubeVirt Containers and Virtual Machines Together. https://www.redhat.com/en/blog/getting-started-with-kubevirt.\n",
    "* (2) Introduction | KubeVirt.io. https://kubevirt.io/docs/.\n",
    "* (3) GitHub - kubevirt/kubevirt: Kubernetes Virtualization API and runtime .... https://github.com/kubevirt/kubevirt.\n",
    "* (4) Overview of KubeVirt | Kube by Example. https://kubebyexample.com/learning-paths/kubevirt-fundamentals/overview-kubevirt."
   ]
  },
  {
   "cell_type": "markdown",
   "id": "b4fe674b",
   "metadata": {},
   "source": [
    "### Validate Hardware Virtualization Support\n",
    "Hardware with virtualization support is recommended. You can use virt-host-validate to ensure that your hosts are capable of running virtualization workloads:"
   ]
  },
  {
   "cell_type": "code",
   "execution_count": null,
   "id": "060f862e",
   "metadata": {},
   "outputs": [],
   "source": [
    "! sudo usermod -aG kvm $USER\n",
    "! sudo chmod 666 /dev/kvm\n"
   ]
  },
  {
   "cell_type": "code",
   "execution_count": null,
   "id": "931923f4",
   "metadata": {},
   "outputs": [],
   "source": [
    "! virt-host-validate qemu"
   ]
  },
  {
   "cell_type": "markdown",
   "id": "66455a92",
   "metadata": {},
   "source": [
    "Und Installieren KubeVirt mittels Operators"
   ]
  },
  {
   "cell_type": "code",
   "execution_count": null,
   "id": "5a368fdf",
   "metadata": {},
   "outputs": [],
   "source": [
    "%%bash\n",
    "export VERSION=$(curl -s https://storage.googleapis.com/kubevirt-prow/release/kubevirt/kubevirt/stable.txt)\n",
    "echo $VERSION\n",
    "\n",
    "kubectl apply -f https://github.com/kubevirt/kubevirt/releases/download/${VERSION}/kubevirt-operator.yaml\n",
    "kubectl apply -f https://github.com/kubevirt/kubevirt/releases/download/${VERSION}/kubevirt-cr.yaml\n",
    "\n",
    "# kubectl -n kubevirt wait kv kubevirt --for condition=Available\n",
    "\n",
    "# enabling nested virtualization\n",
    "kubectl -n kubevirt patch kubevirt kubevirt --type=merge --patch '{\"spec\":{\"configuration\":{\"developerConfiguration\":{\"useEmulation\":true}}}}'"
   ]
  },
  {
   "cell_type": "markdown",
   "id": "23597453",
   "metadata": {},
   "source": [
    "Kontrollieren, bzw. warten bis alles läuft.\n",
    "\n",
    "Es sollten 6 Pods laufen"
   ]
  },
  {
   "cell_type": "code",
   "execution_count": null,
   "id": "81258374",
   "metadata": {},
   "outputs": [],
   "source": [
    "! kubectl get kubevirt.kubevirt.io/kubevirt -n kubevirt -o=jsonpath=\"{.status.phase}\"\n",
    "! kubectl get pods -n kubevirt"
   ]
  },
  {
   "cell_type": "markdown",
   "id": "2a448fad",
   "metadata": {},
   "source": [
    "Wir brauchen zusätzlich das CLI `virtctl` um VMs zu starten, stoppen oder sich mit diesen zu verbinden:"
   ]
  },
  {
   "cell_type": "code",
   "execution_count": null,
   "id": "6871e7df",
   "metadata": {},
   "outputs": [],
   "source": [
    "%%bash\n",
    "export VERSION=$(curl -s https://api.github.com/repos/kubevirt/kubevirt/releases/latest | jq -r .tag_name)\n",
    "echo ${VERSION}\n",
    "wget https://github.com/kubevirt/kubevirt/releases/download/$VERSION/virtctl-$VERSION-linux-amd64\n",
    "chmod +x virtctl-$VERSION-linux-amd64\n",
    "sudo mv virtctl-$VERSION-linux-amd64 /usr/local/bin/virtctl\n",
    "virtctl"
   ]
  },
  {
   "cell_type": "markdown",
   "id": "e141734e",
   "metadata": {},
   "source": [
    "- - -\n",
    "\n",
    "### Erstellen von VMs\n",
    "\n",
    "Zuerst brauchen wir eine Deklaration im YAML Format"
   ]
  },
  {
   "cell_type": "code",
   "execution_count": null,
   "id": "c62f0e6e",
   "metadata": {},
   "outputs": [],
   "source": [
    "%%bash\n",
    "cat <<%EOF% | kubectl apply -f - \n",
    "apiVersion: kubevirt.io/v1\n",
    "kind: VirtualMachine\n",
    "metadata:\n",
    "  name: ubuntu-vm\n",
    "  namespace: default\n",
    "spec:\n",
    "  running: false\n",
    "  template:\n",
    "    metadata:\n",
    "      labels:\n",
    "        kubevirt.io/domain: ubuntu-vm\n",
    "    spec:\n",
    "      domain:\n",
    "        cpu:\n",
    "          cores: 2\n",
    "        devices:\n",
    "          disks:\n",
    "          - disk:\n",
    "              bus: virtio\n",
    "            name: containerdisk\n",
    "          - disk:\n",
    "              bus: virtio\n",
    "            name: cloudinitdisk\n",
    "          interfaces:  # Netzwerkschnittstellen hier definieren\n",
    "          - name: default\n",
    "            masquerade: {}  # Verwende das Masquerade-Netzwerk für NAT\n",
    "        memory:\n",
    "          guest: 4Gi\n",
    "      networks:\n",
    "      - name: default\n",
    "        pod: {}  # Verweist auf das Standard-Pod-Netzwerk\n",
    "      volumes:\n",
    "      - name: containerdisk\n",
    "        containerDisk:\n",
    "          image: quay.io/containerdisks/ubuntu:24.04\n",
    "      - name: cloudinitdisk\n",
    "        cloudInitNoCloud:\n",
    "          userData: |\n",
    "            #cloud-config\n",
    "            users:\n",
    "              - name: ubuntu\n",
    "                passwd: insecure\n",
    "                lock_passwd: false\n",
    "                sudo: ALL=(ALL) NOPASSWD:ALL\n",
    "                ssh_pwauth: true\n",
    "            ssh_pwauth: true\n",
    "%EOF%\n"
   ]
  },
  {
   "cell_type": "code",
   "execution_count": null,
   "id": "67bca5d0",
   "metadata": {},
   "outputs": [],
   "source": [
    "! virtctl start ubuntu-vm"
   ]
  },
  {
   "cell_type": "code",
   "execution_count": null,
   "id": "6055df0d",
   "metadata": {},
   "outputs": [],
   "source": [
    "! kubectl get vm"
   ]
  },
  {
   "cell_type": "code",
   "execution_count": null,
   "id": "eebab576",
   "metadata": {},
   "outputs": [],
   "source": []
  },
  {
   "cell_type": "markdown",
   "id": "8016f24b",
   "metadata": {},
   "source": [
    "- - -\n",
    "\n",
    "### Aufräumen"
   ]
  },
  {
   "cell_type": "code",
   "execution_count": null,
   "id": "778e1e0f",
   "metadata": {},
   "outputs": [],
   "source": [
    "! kind delete cluster \n",
    "! kubectl config use-context microk8s"
   ]
  },
  {
   "cell_type": "code",
   "execution_count": null,
   "id": "5668e51a",
   "metadata": {},
   "outputs": [],
   "source": []
  }
 ],
 "metadata": {
  "kernelspec": {
   "display_name": "Python 3 (ipykernel)",
   "language": "python",
   "name": "python3"
  },
  "language_info": {
   "codemirror_mode": {
    "name": "ipython",
    "version": 3
   },
   "file_extension": ".py",
   "mimetype": "text/x-python",
   "name": "python",
   "nbconvert_exporter": "python",
   "pygments_lexer": "ipython3",
   "version": "3.12.3"
  }
 },
 "nbformat": 4,
 "nbformat_minor": 5
}
