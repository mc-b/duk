{
 "cells": [
  {
   "cell_type": "markdown",
   "id": "da93bb39",
   "metadata": {},
   "source": [
    "# Server-IP\n",
    "\n",
    "Die nachfolgende Zeile ermittelt die öffentliche IP-Adresse eines Servers, der in einer Cloud-Umgebung betrieben wird, und speichert diese in einer Datei. \n",
    "\n",
    "Das Skript unterstützt verschiedene Cloud-Anbieter wie AWS, Azure und MAAS. \n",
    "\n",
    "Abhängig vom erkannten Cloud-Anbieter wird die jeweilige Methode zur Abfrage der öffentlichen IP-Adresse genutzt. Sollte der Cloud-Anbieter nicht erkannt werden, wird die IP-Adresse basierend auf der Netzwerkschnittstelle des Servers ermittelt. \n",
    "\n",
    "Die ermittelte IP-Adresse wird dann in der Datei server-ip im Verzeichnis ~/work/ gespeichert, wo sie die anderen Notebooks wieder ansprechen."
   ]
  },
  {
   "cell_type": "code",
   "execution_count": null,
   "id": "937a58ab",
   "metadata": {},
   "outputs": [],
   "source": [
    "%%bash\n",
    "# Public IP anhand Cloud Provider setzen, WireGuard ueberschreibt alle\n",
    "cloud_provider=$(cloud-init query v1.cloud_name 2>/dev/null) \n",
    "case \"$cloud_provider\" in\n",
    "    \"aws\")\n",
    "        public_ip=$(cloud-init query ds.meta_data.public_ipv4 2>/dev/null)\n",
    "        ;;\n",
    "    \"azure\")\n",
    "        public_ip=$(cloud-init query ds.meta_data.network.interface.0.ipv4.ipAddress.0.publicIpAddress 2>/dev/null)\n",
    "        ;;\n",
    "    \"maas\")\n",
    "        public_ip=$(hostname).maas\n",
    "        ;;   \n",
    "    \"multipass\")\n",
    "        public_ip=$(hostname).mshome.net\n",
    "        ;;   \n",
    "    *)\n",
    "        public_ip=$(hostname -I | cut -d ' ' -f 1) \n",
    "        ;;\n",
    "esac\n",
    "echo $public_ip >~/work/server-ip\n",
    "\n",
    "# aktivieren wenn mit WireGuard gearbeitet wird\n",
    "# wg_ip=$(ip -f inet addr show wg0 2>/dev/null | grep -Po 'inet \\K[\\d.]+') \n",
    "# [ \"$wg_ip\" != \"\" ] && { echo $wg_ip >~/work/server-ip; }\n",
    "\n",
    "echo $public_ip"
   ]
  },
  {
   "cell_type": "markdown",
   "id": "50199514",
   "metadata": {},
   "source": [
    "- - -\n",
    "\n",
    "# UUID\n",
    "\n",
    "Die nachfolgende Zeile generiert eine eindeutige UUID (Universally Unique Identifier).\n",
    "\n",
    "Die UUID dient als unverwechselbare Kennung, die sicherstellt, dass jede Installation eindeutig identifiziert werden kann. \n",
    "\n",
    "Damit kann, z.B. für die IoT Übungen ein eindeutiges MQTT Topic bereitgestellt werden.\n",
    "\n",
    "Die generierte UUID wird im Python-Dateiformat uuid.py im Verzeichnis ~/work/ gespeichert und wird in den Python-Skripten weiterverwendet."
   ]
  },
  {
   "cell_type": "code",
   "execution_count": null,
   "id": "151bbaad",
   "metadata": {},
   "outputs": [],
   "source": [
    "! echo \"UUID=\\\"$(uuid)\\\"\" >~/work/uuid.py"
   ]
  },
  {
   "cell_type": "code",
   "execution_count": null,
   "id": "39830471",
   "metadata": {},
   "outputs": [],
   "source": []
  }
 ],
 "metadata": {
  "kernelspec": {
   "display_name": "Python 3 (ipykernel)",
   "language": "python",
   "name": "python3"
  },
  "language_info": {
   "codemirror_mode": {
    "name": "ipython",
    "version": 3
   },
   "file_extension": ".py",
   "mimetype": "text/x-python",
   "name": "python",
   "nbconvert_exporter": "python",
   "pygments_lexer": "ipython3",
   "version": "3.12.3"
  }
 },
 "nbformat": 4,
 "nbformat_minor": 5
}
