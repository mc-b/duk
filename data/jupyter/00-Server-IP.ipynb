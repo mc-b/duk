{
 "cells": [
  {
   "cell_type": "markdown",
   "id": "da93bb39",
   "metadata": {},
   "source": [
    "# Server-IP\n",
    "\n",
    "Die nachfolgende Zeile ermittelt die öffentliche IP-Adresse eines Servers, der in einer Cloud-Umgebung betrieben wird, und speichert diese in einer Datei. \n",
    "\n",
    "Das Skript unterstützt verschiedene Cloud-Anbieter wie AWS, Azure und MAAS. \n",
    "\n",
    "Abhängig vom erkannten Cloud-Anbieter wird die jeweilige Methode zur Abfrage der öffentlichen IP-Adresse genutzt. Sollte der Cloud-Anbieter nicht erkannt werden, wird die IP-Adresse basierend auf der Netzwerkschnittstelle des Servers ermittelt. \n",
    "\n",
    "Die ermittelte IP-Adresse wird dann in der Datei server-ip im Verzeichnis ~/work/ gespeichert, wo sie die anderen Notebooks wieder ansprechen."
   ]
  },
  {
   "cell_type": "code",
   "execution_count": null,
   "id": "937a58ab",
   "metadata": {},
   "outputs": [],
   "source": [
    "%%bash\n",
    "# Public IP anhand Cloud Provider setzen, WireGuard ueberschreibt alle\n",
    "cloud_provider=$(cloud-init query v1.cloud_name 2>/dev/null) \n",
    "case \"$cloud_provider\" in\n",
    "      \"aws\")\n",
    "        public_ip=$(sudo cloud-init query ds.meta_data.public_hostname)\n",
    "        ;;\n",
    "      \"gce\" | \"gcloud\")\n",
    "        public_ip=$(curl -s \"http://metadata.google.internal/computeMetadata/v1/instance/network-interfaces/0/access-configs/0/external-ip\" -H \"Metadata-Flavor: Google\")\n",
    "        ;;  \n",
    "    \"azure\")\n",
    "        public_ip=$(jq -r '.ds.meta_data.imds.network.interface[0].ipv4.ipAddress[0].publicIpAddress' /run/cloud-init/instance-data.json 2>/dev/null)\n",
    "        ;;\n",
    "    \"maas\")\n",
    "        public_ip=$(hostname).maas\n",
    "        ;;        \n",
    "    *)\n",
    "        public_ip=$(hostname -I | cut -d ' ' -f 1) \n",
    "        ;;\n",
    "esac\n",
    "echo $public_ip >~/work/server-ip\n",
    "\n",
    "# aktivieren wenn mit WireGuard gearbeitet wird\n",
    "# wg_ip=$(ip -f inet addr show wg0 2>/dev/null | grep -Po 'inet \\K[\\d.]+') \n",
    "# [ \"$wg_ip\" != \"\" ] && { echo $wg_ip >~/work/server-ip; }\n",
    "\n",
    "echo $public_ip"
   ]
  },
  {
   "cell_type": "markdown",
   "id": "50199514",
   "metadata": {},
   "source": [
    "- - -\n",
    "\n",
    "# UUID\n",
    "\n",
    "Die nachfolgende Zeile generiert eine eindeutige UUID (Universally Unique Identifier).\n",
    "\n",
    "Die UUID dient als unverwechselbare Kennung, die sicherstellt, dass jede Installation eindeutig identifiziert werden kann. \n",
    "\n",
    "Damit kann, z.B. für die IoT Übungen ein eindeutiges MQTT Topic bereitgestellt werden.\n",
    "\n",
    "Die generierte UUID wird im Python-Dateiformat uuid.py im Verzeichnis ~/work/ gespeichert und wird in den Python-Skripten weiterverwendet."
   ]
  },
  {
   "cell_type": "code",
   "execution_count": null,
   "id": "151bbaad",
   "metadata": {},
   "outputs": [],
   "source": [
    "! echo \"UUID=\\\"$(uuid)\\\"\" >~/work/uuid.py"
   ]
  },
  {
   "cell_type": "markdown",
   "id": "3442cda5",
   "metadata": {},
   "source": [
    "---\n",
    "\n",
    "# Neuinstallation microk8s inkl. Layer 7 Tools (istio, knative etc.)\n",
    "\n",
    "Wenn sich die IP-Adresse der VM geändert hat und MicroK8s aufgrund eines ungültigen X.509-Zertifikats nicht mehr funktioniert, können Sie das Problem beheben, indem microk8s gelöscht und neu installiert wird.\n"
   ]
  },
  {
   "cell_type": "code",
   "execution_count": null,
   "id": "92c637f8",
   "metadata": {},
   "outputs": [],
   "source": [
    "%%bash\n",
    "sudo snap remove microk8s\n",
    "# neu Installation\n",
    "curl -sfL https://raw.githubusercontent.com/mc-b/lerncloud/main/services/microk8s.sh | bash -\n",
    "curl -sfL https://raw.githubusercontent.com/mc-b/lerncloud/main/services/microk8saddons.sh | bash -\n",
    "curl -sfL https://raw.githubusercontent.com/mc-b/lerncloud/main/services/istio.sh | bash -\n",
    "curl -sfL https://raw.githubusercontent.com/mc-b/lerncloud/main/services/knative.sh | bash -"
   ]
  },
  {
   "cell_type": "markdown",
   "id": "f6345829",
   "metadata": {},
   "source": [
    "## Neuinstallation microk8s auf den Worker Nodes\n",
    "\n",
    "Muss einzeln erfolgen"
   ]
  },
  {
   "cell_type": "code",
   "execution_count": null,
   "id": "13a2d037",
   "metadata": {},
   "outputs": [],
   "source": [
    "! ssh dukworker-11-default -- sudo snap remove microk8s"
   ]
  },
  {
   "cell_type": "code",
   "execution_count": null,
   "id": "a86259c9",
   "metadata": {},
   "outputs": [],
   "source": [
    "! ssh dukworker-11-default -- sudo snap install microk8s --classic"
   ]
  },
  {
   "cell_type": "code",
   "execution_count": null,
   "id": "f171557a",
   "metadata": {},
   "outputs": [],
   "source": [
    "! ssh dukworker-12-default -- sudo snap remove microk8s"
   ]
  },
  {
   "cell_type": "code",
   "execution_count": null,
   "id": "245b7817",
   "metadata": {},
   "outputs": [],
   "source": [
    "! ssh dukworker-12-default -- sudo snap install microk8s --classic"
   ]
  },
  {
   "cell_type": "code",
   "execution_count": null,
   "id": "fd6bd572",
   "metadata": {},
   "outputs": [],
   "source": []
  }
 ],
 "metadata": {
  "kernelspec": {
   "display_name": "Python 3 (ipykernel)",
   "language": "python",
   "name": "python3"
  },
  "language_info": {
   "codemirror_mode": {
    "name": "ipython",
    "version": 3
   },
   "file_extension": ".py",
   "mimetype": "text/x-python",
   "name": "python",
   "nbconvert_exporter": "python",
   "pygments_lexer": "ipython3",
   "version": "3.12.3"
  }
 },
 "nbformat": 4,
 "nbformat_minor": 5
}
