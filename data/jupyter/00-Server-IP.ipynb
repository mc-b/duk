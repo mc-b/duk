{
 "cells": [
  {
   "cell_type": "markdown",
   "id": "da93bb39",
   "metadata": {},
   "source": [
    "# Server-IP\n",
    "\n",
    "Die nachfolgende Zeile ermittelt die öffentliche IP-Adresse eines Servers, der in einer Cloud-Umgebung betrieben wird, und speichert diese in einer Datei. \n",
    "\n",
    "Das Skript unterstützt verschiedene Cloud-Anbieter wie AWS, Azure und MAAS. \n",
    "\n",
    "Abhängig vom erkannten Cloud-Anbieter wird die jeweilige Methode zur Abfrage der öffentlichen IP-Adresse genutzt. Sollte der Cloud-Anbieter nicht erkannt werden, wird die IP-Adresse basierend auf der Netzwerkschnittstelle des Servers ermittelt. \n",
    "\n",
    "Die ermittelte IP-Adresse wird dann in der Datei server-ip im Verzeichnis ~/work/ gespeichert, wo sie die anderen Notebooks wieder ansprechen."
   ]
  },
  {
   "cell_type": "code",
   "execution_count": null,
   "id": "937a58ab",
   "metadata": {},
   "outputs": [],
   "source": [
    "%%bash\n",
    "# Public IP anhand Cloud Provider setzen, WireGuard ueberschreibt alle\n",
    "cloud_provider=$(cloud-init query v1.cloud_name 2>/dev/null) \n",
    "case \"$cloud_provider\" in\n",
    "      \"aws\")\n",
    "        public_ip=$(sudo cloud-init query ds.meta_data.public_hostname)\n",
    "        ;;\n",
    "      \"gce\" | \"gcloud\")\n",
    "        public_ip=$(curl -s \"http://metadata.google.internal/computeMetadata/v1/instance/network-interfaces/0/access-configs/0/external-ip\" -H \"Metadata-Flavor: Google\")\n",
    "        ;;  \n",
    "    \"azure\")\n",
    "        public_ip=$(jq -r '.ds.meta_data.imds.network.interface[0].ipv4.ipAddress[0].publicIpAddress' /run/cloud-init/instance-data.json 2>/dev/null)\n",
    "        ;;\n",
    "    \"maas\")\n",
    "        public_ip=$(hostname).maas\n",
    "        ;;        \n",
    "    *)\n",
    "        public_ip=$(hostname -I | cut -d ' ' -f 1) \n",
    "        ;;\n",
    "esac\n",
    "echo $public_ip >~/work/server-ip\n",
    "\n",
    "# aktivieren wenn mit WireGuard gearbeitet wird\n",
    "# wg_ip=$(ip -f inet addr show wg0 2>/dev/null | grep -Po 'inet \\K[\\d.]+') \n",
    "# [ \"$wg_ip\" != \"\" ] && { echo $wg_ip >~/work/server-ip; }\n",
    "\n",
    "echo $public_ip"
   ]
  },
  {
   "cell_type": "markdown",
   "id": "50199514",
   "metadata": {},
   "source": [
    "- - -\n",
    "\n",
    "# UUID\n",
    "\n",
    "Die nachfolgende Zeile generiert eine eindeutige UUID (Universally Unique Identifier).\n",
    "\n",
    "Die UUID dient als unverwechselbare Kennung, die sicherstellt, dass jede Installation eindeutig identifiziert werden kann. \n",
    "\n",
    "Damit kann, z.B. für die IoT Übungen ein eindeutiges MQTT Topic bereitgestellt werden.\n",
    "\n",
    "Die generierte UUID wird im Python-Dateiformat uuid.py im Verzeichnis ~/work/ gespeichert und wird in den Python-Skripten weiterverwendet."
   ]
  },
  {
   "cell_type": "code",
   "execution_count": null,
   "id": "151bbaad",
   "metadata": {},
   "outputs": [],
   "source": [
    "! echo \"UUID=\\\"$(uuid)\\\"\" >~/work/uuid.py"
   ]
  },
  {
   "cell_type": "markdown",
   "id": "fd6bd572",
   "metadata": {},
   "source": [
    "- - -\n",
    "\n",
    "# Docker.io Login \n",
    "\n",
    "Um die Pull-Raten-Limits von Docker zu umgeben, Melden wir uns bei Docker.io an und hinterlegen die Anmeldeinformationen in Kubernetes.\n"
   ]
  },
  {
   "cell_type": "code",
   "execution_count": null,
   "id": "57ea035b",
   "metadata": {},
   "outputs": [],
   "source": [
    "%%bash\n",
    "for ns in $(microk8s kubectl get ns --no-headers -o custom-columns=\":metadata.name\"); do\n",
    "  microk8s kubectl create secret docker-registry regcred \\\n",
    "    --docker-server=https://index.docker.io/v1/ \\\n",
    "    --docker-username=misegr \\\n",
    "    --docker-password='dckr_pat_Su9Wt8rqpxC2Wixm7_token1234' \\\n",
    "    --namespace $ns\n",
    "done\n",
    "for ns in $(microk8s kubectl get ns --no-headers -o custom-columns=\":metadata.name\"); do\n",
    "  microk8s kubectl patch serviceaccount default \\\n",
    "    -p '{\"imagePullSecrets\":[{\"name\":\"regcred\"}]}' \\\n",
    "    -n $ns\n",
    "done\n"
   ]
  },
  {
   "cell_type": "markdown",
   "id": "3bb1746b",
   "metadata": {},
   "source": [
    "- - - \n",
    "\n",
    "Pull-Raten-Limits\n",
    "=================\n",
    "Docker Hub verwendet IP-Adressen, um die Benutzer zu authentifizieren, und Pull-Raten-Limits basieren auf einzelnen IP-Adressen. \n",
    "\n",
    "Für **anonyme Benutzer** ist das Ratenlimit auf 100 Abrufe pro 6 Stunden pro IP-Adresse festgelegt.\n",
    "\n",
    "Die aktuellen Zugriff können wir wie folgt abfragen:"
   ]
  },
  {
   "cell_type": "code",
   "execution_count": null,
   "id": "5014de52",
   "metadata": {},
   "outputs": [],
   "source": [
    "%%bash\n",
    "TOKEN=$(curl -s \"https://auth.docker.io/token?service=registry.docker.io&scope=repository:ratelimitpreview/test:pull\" | jq -r .token)\n",
    "curl --head -H \"Authorization: Bearer $TOKEN\" https://registry-1.docker.io/v2/ratelimitpreview/test/manifests/latest"
   ]
  },
  {
   "cell_type": "markdown",
   "id": "4026cd03",
   "metadata": {},
   "source": [
    "Holen der Container Images von einer Alternativen Container Registry\n",
    "=="
   ]
  },
  {
   "cell_type": "code",
   "execution_count": null,
   "id": "c765b806",
   "metadata": {},
   "outputs": [],
   "source": [
    "%%bash\n",
    "#!/bin/bash\n",
    "# pull-alternative-images.sh\n",
    "# Lädt alternative Images, taggt sie als Ersatz für docker.io\n",
    "\n",
    "declare -A map=(\n",
    "  [\"docker.io/calico/cni:v3.28.1\"]=\"quay.io/calico/cni:v3.28.1\"\n",
    "  [\"docker.io/calico/kube-controllers:v3.28.1\"]=\"quay.io/calico/kube-controllers:v3.28.1\"\n",
    "  [\"docker.io/calico/node:v3.28.1\"]=\"quay.io/calico/node:v3.28.1\"\n",
    "  [\"docker.io/coredns/coredns:1.10.1\"]=\"registry.k8s.io/coredns/coredns:1.10.1\"\n",
    "  [\"docker.io/istio/pilot:1.24.2\"]=\"gcr.io/istio-release/pilot:1.24.2\"\n",
    "  [\"docker.io/istio/proxyv2:1.24.2\"]=\"gcr.io/istio-release/proxyv2:1.24.2\"\n",
    "  [\"docker.io/kubernetesui/dashboard:v2.7.0\"]=\"registry.gitlab.com/mc-b/misegr/kubernetesui/dashboard:v2.7.0\"\n",
    "  [\"docker.io/openzipkin/zipkin-slim:3.4.0\"]=\"ghcr.io/openzipkin/zipkin-slim:3.4.0\"\n",
    ")\n",
    "\n",
    "for orig in \"${!map[@]}\"; do\n",
    "  alt=\"${map[$orig]}\"\n",
    "  echo \"Pulling alternative: $alt\"\n",
    "  microk8s ctr images pull \"$alt\"\n",
    "  echo \"Tagging as $orig\"\n",
    "  microk8s ctr images tag \"$alt\" \"$orig\" || true\n",
    "done\n"
   ]
  },
  {
   "cell_type": "code",
   "execution_count": null,
   "id": "0443e5ea",
   "metadata": {},
   "outputs": [],
   "source": []
  }
 ],
 "metadata": {
  "kernelspec": {
   "display_name": "Python 3 (ipykernel)",
   "language": "python",
   "name": "python3"
  },
  "language_info": {
   "codemirror_mode": {
    "name": "ipython",
    "version": 3
   },
   "file_extension": ".py",
   "mimetype": "text/x-python",
   "name": "python",
   "nbconvert_exporter": "python",
   "pygments_lexer": "ipython3",
   "version": "3.12.3"
  }
 },
 "nbformat": 4,
 "nbformat_minor": 5
}
