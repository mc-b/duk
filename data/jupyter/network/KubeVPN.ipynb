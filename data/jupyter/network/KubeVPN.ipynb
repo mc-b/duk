{
 "cells": [
  {
   "cell_type": "markdown",
   "id": "29cc04a8",
   "metadata": {},
   "source": [
    "# Kube VPN\n",
    "\n",
    "KubeVPN bietet eine Cloud Native Dev-Umgebung und stellt eine Verbindung zum Kubernetes-Clusternetzwerk her.\n",
    "\n",
    "Sie können auf das Remote-Kubernetes-Clusternetzwerk zugreifen, der Remote-Kubernetes-Clusterdienst kann auch auf Ihren lokalen Dienst zugreifen und mehr noch.\n",
    "\n",
    "Sie können Ihren Kubernetes-Pod auf einem lokalen Docker-Container mit derselben Umgebung, demselben Volume und demselben Netzwerk ausführen. \n",
    "\n",
    "Sie können Ihre Anwendung vollständig auf einem lokalen PC entwickeln.\n",
    "\n",
    "- - -\n",
    "\n",
    "Serverdienste installieren, mittels `helm`"
   ]
  },
  {
   "cell_type": "code",
   "execution_count": null,
   "id": "73d88a7a",
   "metadata": {},
   "outputs": [],
   "source": [
    "%%bash\n",
    "helm repo add kubevpn https://raw.githubusercontent.com/kubenetworks/kubevpn/master/charts\n",
    "helm install kubevpn kubevpn/kubevpn"
   ]
  },
  {
   "cell_type": "markdown",
   "id": "a37b1a14",
   "metadata": {},
   "source": [
    "Auf dem Client ist das CLI `kubevpn` zu installieren:\n",
    "\n",
    "* [Link auf GitHub](https://github.com/kubenetworks/kubevpn/releases/latest)"
   ]
  },
  {
   "cell_type": "markdown",
   "id": "b9c48352",
   "metadata": {},
   "source": [
    "Wir brauchen eine Demo Applikation um uns direkt via DNS und Original Port mit dieser zu Verbinden:"
   ]
  },
  {
   "cell_type": "code",
   "execution_count": null,
   "id": "9607afce",
   "metadata": {},
   "outputs": [],
   "source": [
    "%%bash\n",
    "export MANDANT=ms-demo\n",
    "kubectl create namespace ${MANDANT}\n",
    "kubectl apply --namespace ${MANDANT} -f https://gitlab.com/ch-mc-b/autoshop-ms/infra/kubernetes-templates/-/raw/main/2.1.0-pod/catalog-pod.yaml\n",
    "kubectl apply --namespace ${MANDANT} -f https://gitlab.com/ch-mc-b/autoshop-ms/infra/kubernetes-templates/-/raw/main/2.1.0-pod/customer-pod.yaml\n",
    "kubectl apply --namespace ${MANDANT} -f https://gitlab.com/ch-mc-b/autoshop-ms/infra/kubernetes-templates/-/raw/main/2.1.0-pod/order-pod.yaml\n",
    "kubectl apply --namespace ${MANDANT} -f https://gitlab.com/ch-mc-b/autoshop-ms/infra/kubernetes-templates/-/raw/main/2.1.0-pod/webshop-pod.yaml \n",
    "kubectl apply --namespace ${MANDANT} -f https://gitlab.com/ch-mc-b/autoshop-ms/infra/kubernetes-templates/-/raw/main/catalog-service.yaml\n",
    "kubectl apply --namespace ${MANDANT} -f https://gitlab.com/ch-mc-b/autoshop-ms/infra/kubernetes-templates/-/raw/main/customer-service.yaml\n",
    "kubectl apply --namespace ${MANDANT} -f https://gitlab.com/ch-mc-b/autoshop-ms/infra/kubernetes-templates/-/raw/main/order-service.yaml\n",
    "kubectl apply --namespace ${MANDANT} -f https://gitlab.com/ch-mc-b/autoshop-ms/infra/kubernetes-templates/-/raw/main/webshop-service.yaml\n",
    "kubectl get all --namespace ${MANDANT} -o wide"
   ]
  },
  {
   "cell_type": "markdown",
   "id": "741ab620",
   "metadata": {},
   "source": [
    "Als nächstes ist auf dem Client [kubectl](https://kubernetes.io/de/docs/tasks/tools/install-kubectl/) zu installieren und die nachfolgende Konfiguration in einer Datei im HOME-Verzeichnis/.kube/config zu speichern."
   ]
  },
  {
   "cell_type": "code",
   "execution_count": null,
   "id": "d1b156c3",
   "metadata": {},
   "outputs": [],
   "source": [
    "! microk8s config"
   ]
  },
  {
   "cell_type": "markdown",
   "id": "3b503dc6",
   "metadata": {},
   "source": [
    "- - -\n",
    "\n",
    "### Verbinden mit dem Kubernetes Cluster\n",
    "\n",
    "Dazu `kubevpn connect` lokal auf dem PC ausführen. Die Ausgabe sieht wie folgt aus:\n",
    "\n",
    "    $ kubevpn connect\n",
    "        Starting connect\n",
    "        Got network CIDR from cache\n",
    "        Use exist traffic manager\n",
    "        Forwarding port...\n",
    "        Connected tunnel\n",
    "        Adding route...\n",
    "        Configured DNS service\n",
    "        +----------------------------------------------------------+\n",
    "        | Now you can access resources in the kubernetes cluster ! |\n",
    "        +----------------------------------------------------------+\n",
    "        \n",
    "Jetzt sind die vorher gestarteten Pods via IP-Adresse oder DNS-Name erreichbar:\n",
    "\n",
    "* http://catalog.ms-demo.svc.cluster.local:8080/catalog\n",
    "* http://customer.ms-demo.svc.cluster.local:8080/customer   \n",
    "* http://order.ms-demo.svc.cluster.local:8080/order\n",
    "* http://webshop.ms-demo.svc.cluster.local:8080/webshop"
   ]
  },
  {
   "cell_type": "code",
   "execution_count": null,
   "id": "f17a82a8",
   "metadata": {},
   "outputs": [],
   "source": []
  },
  {
   "cell_type": "code",
   "execution_count": null,
   "id": "0745bc64",
   "metadata": {},
   "outputs": [],
   "source": []
  }
 ],
 "metadata": {
  "kernelspec": {
   "display_name": "Python 3 (ipykernel)",
   "language": "python",
   "name": "python3"
  },
  "language_info": {
   "codemirror_mode": {
    "name": "ipython",
    "version": 3
   },
   "file_extension": ".py",
   "mimetype": "text/x-python",
   "name": "python",
   "nbconvert_exporter": "python",
   "pygments_lexer": "ipython3",
   "version": "3.12.3"
  }
 },
 "nbformat": 4,
 "nbformat_minor": 5
}
