{
 "cells": [
  {
   "attachments": {},
   "cell_type": "markdown",
   "metadata": {},
   "source": [
    "Liveness-, Readiness- und Startup-Tests\n",
    "=================================\n",
    "\n",
    "Liveness-Probes (dt: Lebendigkeitstests) helfen, um zu wissen, wann ein Container neu gestartet werden muss. Zum Beispiel könnten Liveness-Probes einen Deadlock abfangen, wenn eine Anwendung ausgeführt wird, aber keine Fortschritte erzielen kann (z.B. abhängige Datenbank startet nicht).\n",
    "\n",
    "Das nachfolgende Beispiel startet einen Pods welcher nach 15 Sekunden abstürzt, weil die überwachte Datei nicht mehr vorhanden ist:"
   ]
  },
  {
   "cell_type": "code",
   "execution_count": null,
   "metadata": {},
   "outputs": [],
   "source": [
    "%%bash\n",
    "cat <<%EOF% | kubectl apply -f -\n",
    "apiVersion: v1\n",
    "kind: Pod\n",
    "metadata:\n",
    "  labels:\n",
    "    test: liveness\n",
    "  name: liveness-exec\n",
    "spec:\n",
    "  containers:\n",
    "  - name: liveness\n",
    "    image: k8s.gcr.io/busybox\n",
    "    imagePullPolicy: IfNotPresent\n",
    "    args:\n",
    "    - /bin/sh\n",
    "    - -c\n",
    "    - touch /tmp/healthy; sleep 30; rm -rf /tmp/healthy; sleep 600\n",
    "    livenessProbe:\n",
    "      exec:\n",
    "        command:\n",
    "        - cat\n",
    "        - /tmp/healthy\n",
    "      initialDelaySeconds: 5\n",
    "      periodSeconds: 5\n",
    "%EOF%"
   ]
  },
  {
   "cell_type": "markdown",
   "metadata": {},
   "source": [
    "Das können wir Überprüfen durch mehrmaliges Ausführen von:"
   ]
  },
  {
   "cell_type": "code",
   "execution_count": null,
   "metadata": {},
   "outputs": [],
   "source": [
    "! kubectl describe pod liveness-exec"
   ]
  },
  {
   "cell_type": "markdown",
   "metadata": {},
   "source": [
    "Ebenfalls, sollte bei der Anzeige des Pods die mehrmaligen Restarts sichtbar sein:"
   ]
  },
  {
   "cell_type": "code",
   "execution_count": null,
   "metadata": {},
   "outputs": [],
   "source": [
    "! kubectl get pods liveness-exec"
   ]
  },
  {
   "cell_type": "markdown",
   "metadata": {},
   "source": [
    "Aufräumen"
   ]
  },
  {
   "cell_type": "code",
   "execution_count": null,
   "metadata": {},
   "outputs": [],
   "source": [
    "! kubectl delete pod/liveness-exec"
   ]
  },
  {
   "cell_type": "markdown",
   "metadata": {},
   "source": [
    "***\n",
    "### Liveness-Tests HTTP Variante\n",
    "\n",
    "Das gleiche funktioniert auch mit HTTP Ports:\n"
   ]
  },
  {
   "cell_type": "code",
   "execution_count": null,
   "metadata": {},
   "outputs": [],
   "source": [
    "%%bash\n",
    "cat <<%EOF% | kubectl apply -f - \n",
    "apiVersion: v1\n",
    "kind: Pod\n",
    "metadata:\n",
    "  labels:\n",
    "    test: liveness\n",
    "  name: liveness-http\n",
    "spec:\n",
    "  containers:\n",
    "  - name: liveness\n",
    "    image: k8s.gcr.io/liveness\n",
    "    imagePullPolicy: IfNotPresent    \n",
    "    args:\n",
    "    - /server\n",
    "    livenessProbe:\n",
    "      httpGet:\n",
    "        path: /healthz\n",
    "        port: 8080\n",
    "        httpHeaders:\n",
    "        - name: Custom-Header\n",
    "          value: Awesome\n",
    "      initialDelaySeconds: 3\n",
    "      periodSeconds: 3\n",
    "%EOF%\n"
   ]
  },
  {
   "cell_type": "markdown",
   "metadata": {},
   "source": [
    "Das Programm im Pod ist so geschrieben, dass es die ersten 10 Sekunden eine HTTP Antwort 200 und dann eine HTTP Antwort 500 liefert.\n",
    "\n",
    "    http.HandleFunc(\"/healthz\", func(w http.ResponseWriter, r *http.Request) {\n",
    "      duration := time.Now().Sub(started)\n",
    "      if duration.Seconds() > 10 {\n",
    "          w.WriteHeader(500)\n",
    "          w.Write([]byte(fmt.Sprintf(\"error: %v\", duration.Seconds())))\n",
    "      } else {\n",
    "          w.WriteHeader(200)\n",
    "          w.Write([]byte(\"ok\"))\n",
    "      }\n",
    "    })\n",
    "    \n",
    "    "
   ]
  },
  {
   "cell_type": "code",
   "execution_count": null,
   "metadata": {},
   "outputs": [],
   "source": [
    "! kubectl describe pod liveness-http\n",
    "! kubectl get pods liveness-http"
   ]
  },
  {
   "cell_type": "markdown",
   "metadata": {},
   "source": [
    "Aufräumen"
   ]
  },
  {
   "cell_type": "code",
   "execution_count": null,
   "metadata": {},
   "outputs": [],
   "source": [
    "! kubectl delete pods liveness-http"
   ]
  },
  {
   "attachments": {},
   "cell_type": "markdown",
   "metadata": {},
   "source": [
    "***\n",
    "Startup-Tests\n",
    "-------------------\n",
    "\n",
    "Startup-Probes (dt: Startstests) helfen, um festzustellen, wann eine Containeranwendung gestartet wurde. Wenn eine solche Tests konfiguriert ist, werden die Lebendigkeits- und Bereitschaftsprüfungen deaktiviert, bis sie erfolgreich ist, um sicherzustellen, dass diese Tests den Anwendungsstart nicht stören.\n",
    "\n",
    "Nehmen wir eine Legacy Anwendung welche einfach eine gewisse Zeit zum Starten braucht. Ein Liveness-Test könnte dazu führen, dass die Anwendung gekillt wird bevor sie überhaupt in einen `ready` Zustand kommen kann.\n",
    "\n",
    "Das Problem kann mit `startupProbe` Umgangen werden. Dieser stellt sicher, dass `livenessProbe` erst nach `failureThreshold * periodSeconds` ausgeführt wird."
   ]
  },
  {
   "cell_type": "code",
   "execution_count": null,
   "metadata": {},
   "outputs": [],
   "source": [
    "%%bash\n",
    "cat <<%EOF% | kubectl apply -f - \n",
    "apiVersion: v1\n",
    "kind: Pod\n",
    "metadata:\n",
    "  labels:\n",
    "    test: liveness\n",
    "  name: liveness-http\n",
    "spec:\n",
    "  containers:\n",
    "  - name: liveness\n",
    "    image: k8s.gcr.io/liveness\n",
    "    imagePullPolicy: IfNotPresent    \n",
    "    args:\n",
    "    - /server\n",
    "    \n",
    "    ports:\n",
    "    - name: liveness-port\n",
    "      containerPort: 8080\n",
    "      hostPort: 8080\n",
    "    \n",
    "    livenessProbe:\n",
    "     httpGet:\n",
    "       path: /healthz\n",
    "       port: liveness-port\n",
    "     failureThreshold: 1\n",
    "     periodSeconds: 10\n",
    "\n",
    "    startupProbe:\n",
    "     httpGet:\n",
    "       path: /healthz\n",
    "       port: liveness-port\n",
    "     failureThreshold: 30\n",
    "     periodSeconds: 10\n",
    "%EOF%"
   ]
  },
  {
   "cell_type": "code",
   "execution_count": null,
   "metadata": {},
   "outputs": [],
   "source": [
    "! kubectl describe pod liveness-http\n",
    "! kubectl get pods liveness-http"
   ]
  },
  {
   "cell_type": "markdown",
   "metadata": {},
   "source": [
    "Aufräumen"
   ]
  },
  {
   "cell_type": "code",
   "execution_count": null,
   "metadata": {},
   "outputs": [],
   "source": [
    "! kubectl delete pods liveness-http"
   ]
  },
  {
   "cell_type": "markdown",
   "metadata": {},
   "source": [
    "***\n",
    "Readiness-Tests\n",
    "---------------\n",
    "\n",
    "Readiness-Probes (dt: Bereitschaftstests) helfen, um festzustellen, wann ein Container bereit ist, Datenverkehr anzunehmen. Ein Pod gilt als bereit, wenn alle seine Container bereit sind. Wenn ein Pod nicht bereit ist, wird er aus den Service Load Balancern entfernt.\n",
    "\n",
    "Manchmal können Anwendungen den Datenverkehr vorübergehend nicht bedienen, z.B. weil die Anwendung gerade eine grosse Menge Daten verarbeiten muss. \n",
    "\n",
    "Kubernetes soll diese Situtation erkennen und die Anwendung nicht restarten, sondern dafür sorgen, dass sie keine neue Daten empfängt.\n",
    "\n",
    "Dafür gibt es Readiness-Tests, welche die Anwendung vom Service trennen und so Sicherstellen, dass keine Daten empfangen werden.\n"
   ]
  },
  {
   "cell_type": "code",
   "execution_count": null,
   "metadata": {},
   "outputs": [],
   "source": [
    "%%bash\n",
    "cat <<%EOF% | kubectl apply -f -\n",
    "apiVersion: v1\n",
    "kind: Pod\n",
    "metadata:\n",
    "  labels:\n",
    "    test: liveness\n",
    "  name: liveness-exec\n",
    "spec:\n",
    "  containers:\n",
    "  - name: liveness\n",
    "    image: k8s.gcr.io/busybox\n",
    "    imagePullPolicy: IfNotPresent\n",
    "    args:\n",
    "    - /bin/sh\n",
    "    - -c\n",
    "    - touch /tmp/healthy; sleep 30; rm -rf /tmp/healthy; sleep 600\n",
    "    readinessProbe:\n",
    "      exec:\n",
    "        command:\n",
    "        - cat\n",
    "        - /tmp/healthy\n",
    "      initialDelaySeconds: 5\n",
    "      periodSeconds: 5\n",
    "%EOF%"
   ]
  },
  {
   "cell_type": "code",
   "execution_count": null,
   "metadata": {},
   "outputs": [],
   "source": [
    "! kubectl describe pod liveness-exec\n",
    "! kubectl get pods/liveness-exec"
   ]
  },
  {
   "cell_type": "markdown",
   "metadata": {},
   "source": [
    "Aufräumen"
   ]
  },
  {
   "cell_type": "code",
   "execution_count": null,
   "metadata": {},
   "outputs": [],
   "source": [
    "! kubectl delete pod/liveness-exec"
   ]
  },
  {
   "cell_type": "code",
   "execution_count": null,
   "metadata": {},
   "outputs": [],
   "source": []
  }
 ],
 "metadata": {
  "kernelspec": {
   "display_name": "Python 3",
   "language": "python",
   "name": "python3"
  },
  "language_info": {
   "codemirror_mode": {
    "name": "ipython",
    "version": 3
   },
   "file_extension": ".py",
   "mimetype": "text/x-python",
   "name": "python",
   "nbconvert_exporter": "python",
   "pygments_lexer": "ipython3",
   "version": "3.7.3"
  }
 },
 "nbformat": 4,
 "nbformat_minor": 2
}
