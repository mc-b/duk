{
 "cells": [
  {
   "cell_type": "markdown",
   "metadata": {},
   "source": [
    "Übung : Container Life-Cycle\n",
    "-----------------------------------------\n",
    "\n",
    "\n",
    "\n",
    "### Auswahl der Image Registry\n",
    "\n",
    "Wählt eine Image Registry aus, in unserem Bespiel ist es https://demo.goharbor.io/.\n",
    "\n",
    "[![IMAGE ALT TEXT HERE](https://img.youtube.com/vi/4zZiBcvZmgQ/0.jpg)](https://www.youtube.com/watch?v=4zZiBcvZmgQ)\n",
    "\n",
    "\n",
    "- - - \n",
    "\n",
    "Erstellt einen Account auf https://demo.goharbor.io/\n",
    "\n",
    "Meldet Euch mit Eurem Account auf https://demo.goharbor.io/ und erstellt ein neues Projekt.\n",
    "\n",
    "- - -\n",
    "\n",
    "Meldet Euch mittels Docker CLI bei Harbor an."
   ]
  },
  {
   "cell_type": "code",
   "execution_count": null,
   "metadata": {},
   "outputs": [],
   "source": [
    "import os\n",
    "name = input(\"Username: \")\n",
    "os.environ[\"USER\"] = name\n",
    "\n",
    "from getpass import getpass\n",
    "password = getpass(\"Password: \")\n",
    "os.environ[\"PW\"] = password\n",
    "\n",
    "project = input(\"Projekt: \")\n",
    "os.environ[\"PROJECT\"] = project"
   ]
  },
  {
   "cell_type": "code",
   "execution_count": null,
   "metadata": {},
   "outputs": [],
   "source": [
    "! docker login demo.goharbor.io -u ${USER} -p ${PW}"
   ]
  },
  {
   "cell_type": "markdown",
   "metadata": {},
   "source": [
    "- - -\n",
    "### Erstellung des Images\n",
    "\n",
    "Erstellt ein neues Container Image mit `docker build`. "
   ]
  },
  {
   "cell_type": "code",
   "execution_count": null,
   "metadata": {},
   "outputs": [],
   "source": [
    "%%bash\n",
    "cat <<%EOF% >Dockerfile\n",
    "FROM alpine:latest\n",
    "CMD \"echo\" \"mein Container\"\n",
    "%EOF%\n",
    "\n",
    "docker build -t demo.goharbor.io/${PROJECT}/myimage .\n",
    "docker image ls "
   ]
  },
  {
   "cell_type": "markdown",
   "metadata": {},
   "source": [
    "- - - \n",
    "### Testen des Images"
   ]
  },
  {
   "cell_type": "code",
   "execution_count": null,
   "metadata": {},
   "outputs": [],
   "source": [
    "! docker run demo.goharbor.io/${PROJECT}/myimage"
   ]
  },
  {
   "cell_type": "markdown",
   "metadata": {},
   "source": [
    "- - -\n",
    "### Speichern des Images in der Registry"
   ]
  },
  {
   "cell_type": "code",
   "execution_count": null,
   "metadata": {},
   "outputs": [],
   "source": [
    "! docker push demo.goharbor.io/${PROJECT}/myimage"
   ]
  },
  {
   "cell_type": "code",
   "execution_count": null,
   "metadata": {},
   "outputs": [],
   "source": []
  }
 ],
 "metadata": {
  "kernelspec": {
   "display_name": "Python 3",
   "language": "python",
   "name": "python3"
  },
  "language_info": {
   "codemirror_mode": {
    "name": "ipython",
    "version": 3
   },
   "file_extension": ".py",
   "mimetype": "text/x-python",
   "name": "python",
   "nbconvert_exporter": "python",
   "pygments_lexer": "ipython3",
   "version": "3.7.3"
  }
 },
 "nbformat": 4,
 "nbformat_minor": 2
}
