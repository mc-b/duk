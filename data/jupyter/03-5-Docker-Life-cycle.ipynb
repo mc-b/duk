{
 "cells": [
  {
   "cell_type": "markdown",
   "metadata": {},
   "source": [
    "Übung : Container Life-Cycle\n",
    "-----------------------------------------\n",
    "\n",
    "\n",
    "### Auswahl der Image Registry (Dev + Ops)\n",
    "\n",
    "Wählt eine Image Registry aus, in unserem Beispiel verwenden wir wieder https://hub.docker.com/.\n",
    "\n",
    "Falls, noch nicht erfolgt, Erstellt einen Accounts auf https://hub.docker.com/.\n",
    "\n",
    "Und dann:\n",
    "* Username und Password als Umgebungsvariablen setzen (als Python Script)\n",
    "* `docker login` ausführen"
   ]
  },
  {
   "cell_type": "code",
   "execution_count": null,
   "metadata": {},
   "outputs": [],
   "source": [
    "import os\n",
    "name = input(\"Username: \")\n",
    "os.environ[\"USER\"] = name\n",
    "\n",
    "from getpass import getpass\n",
    "password = getpass(\"Password: \")\n",
    "os.environ[\"PW\"] = password"
   ]
  },
  {
   "cell_type": "code",
   "execution_count": null,
   "metadata": {},
   "outputs": [],
   "source": [
    "! docker login -u ${USER} -p ${PW}"
   ]
  },
  {
   "cell_type": "markdown",
   "metadata": {},
   "source": [
    "- - -\n",
    "### Erstellung des Images (Dev)\n",
    "\n",
    "Dazu erstellen wir zuerst unseren (Python) Microservice `order`"
   ]
  },
  {
   "cell_type": "code",
   "execution_count": null,
   "metadata": {},
   "outputs": [],
   "source": [
    "%%bash\n",
    "cat <<'EOF' > order.py\n",
    "from flask import Flask, jsonify, render_template_string\n",
    "import socket\n",
    "\n",
    "app = Flask(__name__)\n",
    "\n",
    "orders = [\n",
    "    {\"id\": 1, \"customer\": \"Alice\", \"product\": \"Book\", \"quantity\": 2, \"price\": 10},\n",
    "    {\"id\": 2, \"customer\": \"Bob\", \"product\": \"Pen\", \"quantity\": 5, \"price\": 2},\n",
    "    {\"id\": 3, \"customer\": \"Charlie\", \"product\": \"Notebook\", \"quantity\": 1, \"price\": 5}\n",
    "]\n",
    "\n",
    "@app.route('/order')\n",
    "def order_page():\n",
    "    total = sum(o[\"quantity\"] * o[\"price\"] for o in orders)\n",
    "    html = \"\"\"\n",
    "    <html><body>\n",
    "    <h2>Orders on {{host}}</h2>\n",
    "    <table border=1>\n",
    "      <tr><th>ID</th><th>Customer</th><th>Product</th><th>Qty</th><th>Price</th><th>Total</th></tr>\n",
    "      {% for o in orders %}\n",
    "        <tr><td>{{o.id}}</td><td>{{o.customer}}</td><td>{{o.product}}</td>\n",
    "        <td>{{o.quantity}}</td><td>${{o.price}}</td><td>${{o.quantity*o.price}}</td></tr>\n",
    "      {% endfor %}\n",
    "      <tr><td colspan=5><b>Sum</b></td><td><b>${{total}}</b></td></tr>\n",
    "    </table>\n",
    "    </body></html>\n",
    "    \"\"\"\n",
    "    return render_template_string(html, orders=orders, total=total, host=socket.gethostname())\n",
    "\n",
    "if __name__ == '__main__':\n",
    "    app.run(host='0.0.0.0', port=8080)\n",
    "EOF"
   ]
  },
  {
   "cell_type": "markdown",
   "metadata": {},
   "source": [
    "Und für die Paketierung des Microservices, als Container Image, ein Dockerfile"
   ]
  },
  {
   "cell_type": "code",
   "execution_count": null,
   "metadata": {},
   "outputs": [],
   "source": [
    "%%bash\n",
    "cat <<%EOF% >Dockerfile\n",
    "FROM python:3.9-slim\n",
    "\n",
    "# Set the working directory in the container\n",
    "WORKDIR /app\n",
    "\n",
    "# Copy the current directory contents into the container at /app\n",
    "COPY order.py /app\n",
    "\n",
    "# Install any needed packages specified in requirements.txt\n",
    "RUN pip install Flask setproctitle requests prometheus_client\n",
    "\n",
    "USER 1001:100\n",
    "\n",
    "# Run order_service.py when the container launches\n",
    "CMD [\"python\", \"order.py\"]\n",
    "%EOF%"
   ]
  },
  {
   "cell_type": "markdown",
   "metadata": {},
   "source": [
    "Beides zusammen ergibt mit `docker build` unser Container Image."
   ]
  },
  {
   "cell_type": "code",
   "execution_count": null,
   "metadata": {},
   "outputs": [],
   "source": [
    "%%bash\n",
    "docker build -t index.docker.io/${USER}/order-k8s ."
   ]
  },
  {
   "cell_type": "markdown",
   "metadata": {},
   "source": [
    "Das Resultat ist ein neues Image und das, dass Base Image (php) heruntergeladen wurde:"
   ]
  },
  {
   "cell_type": "code",
   "execution_count": null,
   "metadata": {},
   "outputs": [],
   "source": [
    "! docker image ls"
   ]
  },
  {
   "cell_type": "markdown",
   "metadata": {},
   "source": [
    "- - -\n",
    "### Speichern des Images in der Registry (Dev)\n",
    "\n",
    "Wenn wir sicher, sind das alles läuft Pushen wir das Container Image in unsere Registry."
   ]
  },
  {
   "cell_type": "code",
   "execution_count": null,
   "metadata": {},
   "outputs": [],
   "source": [
    "! docker push index.docker.io/${USER}/order-k8s"
   ]
  },
  {
   "cell_type": "markdown",
   "metadata": {},
   "source": [
    "***\n",
    "# Produktion (Ops)\n",
    "\n",
    "Das Operation, holt das Container Image von der Registry und startet dieses mittels Kubernetes."
   ]
  },
  {
   "cell_type": "code",
   "execution_count": null,
   "metadata": {},
   "outputs": [],
   "source": [
    "! kubectl run order-k8s --image=${USER}/order-k8s --restart=Never\n",
    "! kubectl expose pod/order-k8s --type=\"LoadBalancer\" --port 8080\n",
    "! echo \"http://\"$(cat ~/work/server-ip)\":$(kubectl get service order-k8s -o=jsonpath='{ .spec.ports[0].nodePort }')/order\""
   ]
  },
  {
   "cell_type": "markdown",
   "metadata": {},
   "source": [
    "***\n",
    "Aufräumen"
   ]
  },
  {
   "cell_type": "code",
   "execution_count": null,
   "metadata": {},
   "outputs": [],
   "source": [
    "! kubectl delete pod/order-k8s\n",
    "! kubectl delete service/order-k8s"
   ]
  },
  {
   "cell_type": "code",
   "execution_count": null,
   "metadata": {},
   "outputs": [],
   "source": []
  }
 ],
 "metadata": {
  "kernelspec": {
   "display_name": "Python 3 (ipykernel)",
   "language": "python",
   "name": "python3"
  },
  "language_info": {
   "codemirror_mode": {
    "name": "ipython",
    "version": 3
   },
   "file_extension": ".py",
   "mimetype": "text/x-python",
   "name": "python",
   "nbconvert_exporter": "python",
   "pygments_lexer": "ipython3",
   "version": "3.12.3"
  }
 },
 "nbformat": 4,
 "nbformat_minor": 2
}
