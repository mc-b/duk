{
 "cells": [
  {
   "cell_type": "markdown",
   "metadata": {},
   "source": [
    "Übung : Container Life-Cycle\n",
    "-----------------------------------------\n",
    "\n",
    "\n",
    "\n",
    "### Auswahl der Image Registry\n",
    "\n",
    "Wählt eine Image Registry aus.\n",
    "\n",
    "[![IMAGE ALT TEXT HERE](https://img.youtube.com/vi/4zZiBcvZmgQ/0.jpg)](https://www.youtube.com/watch?v=4zZiBcvZmgQ)\n",
    "\n",
    "\n",
    "- - - \n",
    "\n",
    "Erstellt einen Account auf https://demo.goharbor.io/\n",
    "\n",
    "Meldet Euch mit Eurem Account auf https://demo.goharbor.io/ und erstellt ein neues Projekt.\n",
    "\n",
    "- - -\n",
    "\n",
    "Meldet Euch mittels Docker CLI bei Harbor an.\n",
    "\n",
    "Ersetzt `<user>` und `<password>` mit Euren Werten oder erstellt, auf http://localhost:32188/ ein neues `Terminal` rechts oben mit `New` und führt dort den Befehl aus."
   ]
  },
  {
   "cell_type": "code",
   "execution_count": null,
   "metadata": {},
   "outputs": [],
   "source": [
    "! docker login demo.goharbor.io -u <user> -p <password>"
   ]
  },
  {
   "cell_type": "markdown",
   "metadata": {},
   "source": [
    "### Erstellt Eurer Image\n",
    "\n",
    "Erstellt ein neues Container Image mit `docker build`. \n",
    "\n",
    "`<project>` ist mit dem Namen Eures Projektes zu ersetzen."
   ]
  },
  {
   "cell_type": "code",
   "execution_count": null,
   "metadata": {},
   "outputs": [],
   "source": [
    "%%bash\n",
    "cat <<%EOF% >Dockerfile\n",
    "FROM alpine:latest\n",
    "CMD \"echo\" \"mein Container\"\n",
    "%EOF%\n",
    "\n",
    "docker build -t demo.goharbor.io/<project>/myimage .\n",
    "docker image ls "
   ]
  },
  {
   "cell_type": "markdown",
   "metadata": {},
   "source": [
    "### Testet das neu erstellte Image"
   ]
  },
  {
   "cell_type": "code",
   "execution_count": null,
   "metadata": {},
   "outputs": [],
   "source": [
    "! docker run demo.goharbor.io/<project>/myimage"
   ]
  },
  {
   "cell_type": "markdown",
   "metadata": {},
   "source": [
    "### Push das Image in die Registry\n",
    "\n",
    "Vervollständigt den nachfolgenden Befehl, um das neu erstellte Image nach `demo.goharbor.io` zu pushen:"
   ]
  },
  {
   "cell_type": "code",
   "execution_count": null,
   "metadata": {},
   "outputs": [],
   "source": [
    "! docker push demo.goharbor.io/<project>/hello-world"
   ]
  },
  {
   "cell_type": "code",
   "execution_count": null,
   "metadata": {},
   "outputs": [],
   "source": []
  }
 ],
 "metadata": {
  "kernelspec": {
   "display_name": "Python 3",
   "language": "python",
   "name": "python3"
  },
  "language_info": {
   "codemirror_mode": {
    "name": "ipython",
    "version": 3
   },
   "file_extension": ".py",
   "mimetype": "text/x-python",
   "name": "python",
   "nbconvert_exporter": "python",
   "pygments_lexer": "ipython3",
   "version": "3.7.3"
  }
 },
 "nbformat": 4,
 "nbformat_minor": 2
}
