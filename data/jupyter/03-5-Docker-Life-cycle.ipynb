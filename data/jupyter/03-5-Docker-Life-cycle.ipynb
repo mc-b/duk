{
 "cells": [
  {
   "cell_type": "markdown",
   "metadata": {},
   "source": [
    "Übung : Container Life-Cycle\n",
    "-----------------------------------------\n",
    "\n",
    "\n",
    "### Auswahl der Image Registry (Dev + Ops)\n",
    "\n",
    "Wählt eine Image Registry aus, in unserem Beispiel verwenden wir wieder https://hub.docker.com/.\n",
    "\n",
    "Falls, noch nicht erfolgt, Erstellt einen Accounts auf https://hub.docker.com/.\n",
    "\n",
    "Und dann:\n",
    "* Username und Password als Umgebungsvariablen setzen (als Python Script)\n",
    "* `docker login` ausführen"
   ]
  },
  {
   "cell_type": "code",
   "execution_count": null,
   "metadata": {},
   "outputs": [],
   "source": [
    "import os\n",
    "name = input(\"Username: \")\n",
    "os.environ[\"USER\"] = name\n",
    "\n",
    "from getpass import getpass\n",
    "password = getpass(\"Password: \")\n",
    "os.environ[\"PW\"] = password"
   ]
  },
  {
   "cell_type": "code",
   "execution_count": null,
   "metadata": {},
   "outputs": [],
   "source": [
    "! docker login -u ${USER} -p ${PW}"
   ]
  },
  {
   "cell_type": "markdown",
   "metadata": {},
   "source": [
    "- - -\n",
    "### Erstellung des Images (Dev)\n",
    "\n",
    "Dazu erstellen wir zuerst unseren (PHP) Microservice"
   ]
  },
  {
   "cell_type": "code",
   "execution_count": null,
   "metadata": {},
   "outputs": [],
   "source": [
    "%%bash\n",
    "cat <<%EOF% >index.php\n",
    " <?php echo '<p>Hallo Welt</p>'; ?>\n",
    "%EOF%"
   ]
  },
  {
   "cell_type": "markdown",
   "metadata": {},
   "source": [
    "Und für die Paketierung des Microservices, als Container Image, ein Dockerfile"
   ]
  },
  {
   "cell_type": "code",
   "execution_count": null,
   "metadata": {},
   "outputs": [],
   "source": [
    "%%bash\n",
    "cat <<%EOF% >Dockerfile\n",
    "FROM php:7.0-apache  \n",
    "COPY index.php /var/www/html/\n",
    "%EOF%"
   ]
  },
  {
   "cell_type": "markdown",
   "metadata": {},
   "source": [
    "Beides zusammen ergibt mit `docker build` unser Container Image."
   ]
  },
  {
   "cell_type": "code",
   "execution_count": null,
   "metadata": {},
   "outputs": [],
   "source": [
    "%%bash\n",
    "docker build -t index.docker.io/${USER}/myservice ."
   ]
  },
  {
   "cell_type": "markdown",
   "metadata": {},
   "source": [
    "Das Resultat ist ein neues Image und das, dass Base Image (php) heruntergeladen wurde:"
   ]
  },
  {
   "cell_type": "code",
   "execution_count": null,
   "metadata": {},
   "outputs": [],
   "source": [
    "! docker image ls"
   ]
  },
  {
   "cell_type": "markdown",
   "metadata": {},
   "source": [
    "- - - \n",
    "### Testen des Images (Dev)\n",
    "\n",
    "Um das Image zu Testen führen wir es aus und kontrollieren die Ausgabe.\n",
    "\n",
    "**Hinweis**: Statt eines manuellen Tests würde sich hier [Continuous Integration](https://de.wikipedia.org/wiki/Kontinuierliche_Integration) mit einem Unit Test anbieten."
   ]
  },
  {
   "cell_type": "code",
   "execution_count": null,
   "metadata": {},
   "outputs": [],
   "source": [
    "! docker run -d --rm --name myservice index.docker.io/${USER}/myservice \n",
    "! docker logs myservice"
   ]
  },
  {
   "cell_type": "code",
   "execution_count": null,
   "metadata": {},
   "outputs": [],
   "source": [
    "! docker kill myservice"
   ]
  },
  {
   "cell_type": "markdown",
   "metadata": {},
   "source": [
    "- - -\n",
    "### Speichern des Images in der Registry (Dev)\n",
    "\n",
    "Wenn wir sicher, sind das alles läuft Pushen wir das Container Image in unsere Registry."
   ]
  },
  {
   "cell_type": "code",
   "execution_count": null,
   "metadata": {},
   "outputs": [],
   "source": [
    "! docker push index.docker.io/${USER}/myservice"
   ]
  },
  {
   "cell_type": "markdown",
   "metadata": {},
   "source": [
    "***\n",
    "# Produktion (Ops)\n",
    "\n",
    "Das Operation, holt das Container Image von der Registry und startet dieses mittels Kubernetes."
   ]
  },
  {
   "cell_type": "code",
   "execution_count": null,
   "metadata": {},
   "outputs": [],
   "source": [
    "! kubectl run myservice --image=${USER}/myservice --restart=Never\n",
    "! kubectl expose pod/myservice --type=\"LoadBalancer\" --port 80 \n",
    "! kubectl config view -o=jsonpath='{ .clusters[0].cluster.server }' | sed -e 's/https:/http:/' -e \"s/6443/$(kubectl get service myservice -o=jsonpath='{ .spec.ports[0].nodePort }')/\""
   ]
  },
  {
   "cell_type": "markdown",
   "metadata": {},
   "source": [
    "***\n",
    "Aufräumen"
   ]
  },
  {
   "cell_type": "code",
   "execution_count": null,
   "metadata": {},
   "outputs": [],
   "source": [
    "! kubectl delete pod/myservice\n",
    "! kubectl delete service/myservice"
   ]
  },
  {
   "cell_type": "code",
   "execution_count": null,
   "metadata": {},
   "outputs": [],
   "source": []
  }
 ],
 "metadata": {
  "kernelspec": {
   "display_name": "Python 3",
   "language": "python",
   "name": "python3"
  },
  "language_info": {
   "codemirror_mode": {
    "name": "ipython",
    "version": 3
   },
   "file_extension": ".py",
   "mimetype": "text/x-python",
   "name": "python",
   "nbconvert_exporter": "python",
   "pygments_lexer": "ipython3",
   "version": "3.8.6"
  }
 },
 "nbformat": 4,
 "nbformat_minor": 2
}
