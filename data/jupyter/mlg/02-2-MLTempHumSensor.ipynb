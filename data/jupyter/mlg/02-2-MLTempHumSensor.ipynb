{
 "cells": [
  {
   "cell_type": "markdown",
   "metadata": {},
   "source": [
    "## Machine Learning mit IoT Testdaten\n",
    "\n",
    "Basierend auf den Daten vom Temperatur und Luftfeuchtigssensor.\n",
    "\n",
    "Zuerst holen wir alle Libraries wo benötigt werden"
   ]
  },
  {
   "cell_type": "code",
   "execution_count": 1,
   "metadata": {},
   "outputs": [
    {
     "name": "stdout",
     "output_type": "stream",
     "text": [
      "%pylab is deprecated, use %matplotlib inline and import the required libraries.\n",
      "Populating the interactive namespace from numpy and matplotlib\n",
      "1.4.1.post1\n"
     ]
    }
   ],
   "source": [
    "import warnings\n",
    "warnings.filterwarnings('ignore')\n",
    "%matplotlib inline\n",
    "%pylab inline\n",
    "import matplotlib.pylab as plt\n",
    "import numpy as np\n",
    "from distutils.version import StrictVersion\n",
    "import sklearn\n",
    "print(sklearn.__version__)\n",
    "\n",
    "#assert StrictVersion(sklearn.__version__ ) >= StrictVersion('0.18.1')"
   ]
  },
  {
   "cell_type": "markdown",
   "metadata": {},
   "source": [
    "Daten einlesen und evtl. Schmutz entfernen"
   ]
  },
  {
   "cell_type": "code",
   "execution_count": 2,
   "metadata": {},
   "outputs": [],
   "source": [
    "import pandas as pd\n",
    "\n",
    "df = pd.read_csv('data.csv', header=None, names=['sensor', 'temp', 'hum', 'class'] )\n",
    "df = df.drop( df.index[[0]] )\n",
    "df = df.drop( df.index[[0]] )\n",
    "df = df.drop( df.index[[0]] )\n",
    "df = df.drop( df.index[[0]] )\n",
    "df = df.drop( df.index[[0]] )\n",
    "df = df.drop( df.index[[0]] )\n",
    "df = df.drop( df.index[[0]] )"
   ]
  },
  {
   "cell_type": "code",
   "execution_count": 3,
   "metadata": {},
   "outputs": [
    {
     "data": {
      "text/html": [
       "<div>\n",
       "<style scoped>\n",
       "    .dataframe tbody tr th:only-of-type {\n",
       "        vertical-align: middle;\n",
       "    }\n",
       "\n",
       "    .dataframe tbody tr th {\n",
       "        vertical-align: top;\n",
       "    }\n",
       "\n",
       "    .dataframe thead th {\n",
       "        text-align: right;\n",
       "    }\n",
       "</style>\n",
       "<table border=\"1\" class=\"dataframe\">\n",
       "  <thead>\n",
       "    <tr style=\"text-align: right;\">\n",
       "      <th></th>\n",
       "      <th>sensor</th>\n",
       "      <th>temp</th>\n",
       "      <th>hum</th>\n",
       "      <th>class</th>\n",
       "    </tr>\n",
       "  </thead>\n",
       "  <tbody>\n",
       "    <tr>\n",
       "      <th>7</th>\n",
       "      <td>0xBC</td>\n",
       "      <td>25.5</td>\n",
       "      <td>51.3</td>\n",
       "      <td>middle</td>\n",
       "    </tr>\n",
       "    <tr>\n",
       "      <th>8</th>\n",
       "      <td>0xBC</td>\n",
       "      <td>30.4</td>\n",
       "      <td>51.2</td>\n",
       "      <td>high</td>\n",
       "    </tr>\n",
       "    <tr>\n",
       "      <th>9</th>\n",
       "      <td>0xBC</td>\n",
       "      <td>20.4</td>\n",
       "      <td>51.4</td>\n",
       "      <td>low</td>\n",
       "    </tr>\n",
       "    <tr>\n",
       "      <th>10</th>\n",
       "      <td>0xBC</td>\n",
       "      <td>25.4</td>\n",
       "      <td>51.2</td>\n",
       "      <td>middle</td>\n",
       "    </tr>\n",
       "    <tr>\n",
       "      <th>11</th>\n",
       "      <td>0xBC</td>\n",
       "      <td>30.5</td>\n",
       "      <td>51.3</td>\n",
       "      <td>high</td>\n",
       "    </tr>\n",
       "  </tbody>\n",
       "</table>\n",
       "</div>"
      ],
      "text/plain": [
       "   sensor  temp   hum   class\n",
       "7    0xBC  25.5  51.3  middle\n",
       "8    0xBC  30.4  51.2    high\n",
       "9    0xBC  20.4  51.4     low\n",
       "10   0xBC  25.4  51.2  middle\n",
       "11   0xBC  30.5  51.3    high"
      ]
     },
     "execution_count": 3,
     "metadata": {},
     "output_type": "execute_result"
    }
   ],
   "source": [
    "df.head()"
   ]
  },
  {
   "cell_type": "code",
   "execution_count": 4,
   "metadata": {},
   "outputs": [
    {
     "data": {
      "text/html": [
       "<div>\n",
       "<style scoped>\n",
       "    .dataframe tbody tr th:only-of-type {\n",
       "        vertical-align: middle;\n",
       "    }\n",
       "\n",
       "    .dataframe tbody tr th {\n",
       "        vertical-align: top;\n",
       "    }\n",
       "\n",
       "    .dataframe thead th {\n",
       "        text-align: right;\n",
       "    }\n",
       "</style>\n",
       "<table border=\"1\" class=\"dataframe\">\n",
       "  <thead>\n",
       "    <tr style=\"text-align: right;\">\n",
       "      <th></th>\n",
       "      <th>sensor</th>\n",
       "      <th>temp</th>\n",
       "      <th>hum</th>\n",
       "    </tr>\n",
       "    <tr>\n",
       "      <th>class</th>\n",
       "      <th></th>\n",
       "      <th></th>\n",
       "      <th></th>\n",
       "    </tr>\n",
       "  </thead>\n",
       "  <tbody>\n",
       "    <tr>\n",
       "      <th>high</th>\n",
       "      <td>112</td>\n",
       "      <td>112</td>\n",
       "      <td>112</td>\n",
       "    </tr>\n",
       "    <tr>\n",
       "      <th>low</th>\n",
       "      <td>112</td>\n",
       "      <td>112</td>\n",
       "      <td>112</td>\n",
       "    </tr>\n",
       "    <tr>\n",
       "      <th>middle</th>\n",
       "      <td>113</td>\n",
       "      <td>113</td>\n",
       "      <td>113</td>\n",
       "    </tr>\n",
       "  </tbody>\n",
       "</table>\n",
       "</div>"
      ],
      "text/plain": [
       "        sensor  temp  hum\n",
       "class                    \n",
       "high       112   112  112\n",
       "low        112   112  112\n",
       "middle     113   113  113"
      ]
     },
     "execution_count": 4,
     "metadata": {},
     "output_type": "execute_result"
    }
   ],
   "source": [
    "df.groupby('class').count()"
   ]
  },
  {
   "cell_type": "code",
   "execution_count": 5,
   "metadata": {},
   "outputs": [
    {
     "data": {
      "text/plain": [
       "<seaborn.axisgrid.JointGrid at 0x790a4b574920>"
      ]
     },
     "execution_count": 5,
     "metadata": {},
     "output_type": "execute_result"
    },
    {
     "data": {
      "image/png": "[encoded data removed]",
      "text/plain": [
       "<Figure size 600x600 with 3 Axes>"
      ]
     },
     "metadata": {},
     "output_type": "display_data"
    }
   ],
   "source": [
    "import seaborn as sns\n",
    "sns.jointplot(x=df['temp'], y=df['hum'])"
   ]
  },
  {
   "cell_type": "code",
   "execution_count": 6,
   "metadata": {},
   "outputs": [
    {
     "data": {
      "text/plain": [
       "1.0"
      ]
     },
     "execution_count": 6,
     "metadata": {},
     "output_type": "execute_result"
    }
   ],
   "source": [
    "from sklearn import neighbors\n",
    "clf = neighbors.KNeighborsClassifier(1)\n",
    "X = df[['temp', 'hum']]\n",
    "y = df[['class']]\n",
    "y = ravel( y )\n",
    "clf.fit( X, y )\n",
    "clf.score( X, y )"
   ]
  },
  {
   "cell_type": "markdown",
   "metadata": {},
   "source": [
    "## Gegenprüfung mit Testdaten"
   ]
  },
  {
   "cell_type": "code",
   "execution_count": 7,
   "metadata": {},
   "outputs": [
    {
     "data": {
      "text/html": [
       "<div>\n",
       "<style scoped>\n",
       "    .dataframe tbody tr th:only-of-type {\n",
       "        vertical-align: middle;\n",
       "    }\n",
       "\n",
       "    .dataframe tbody tr th {\n",
       "        vertical-align: top;\n",
       "    }\n",
       "\n",
       "    .dataframe thead th {\n",
       "        text-align: right;\n",
       "    }\n",
       "</style>\n",
       "<table border=\"1\" class=\"dataframe\">\n",
       "  <thead>\n",
       "    <tr style=\"text-align: right;\">\n",
       "      <th></th>\n",
       "      <th>sensor</th>\n",
       "      <th>temp</th>\n",
       "      <th>hum</th>\n",
       "      <th>class</th>\n",
       "    </tr>\n",
       "  </thead>\n",
       "  <tbody>\n",
       "    <tr>\n",
       "      <th>0</th>\n",
       "      <td>0xBC</td>\n",
       "      <td>20.4</td>\n",
       "      <td>51.6</td>\n",
       "      <td>low</td>\n",
       "    </tr>\n",
       "    <tr>\n",
       "      <th>1</th>\n",
       "      <td>0xBC</td>\n",
       "      <td>25.4</td>\n",
       "      <td>51.6</td>\n",
       "      <td>middle</td>\n",
       "    </tr>\n",
       "    <tr>\n",
       "      <th>2</th>\n",
       "      <td>0xBC</td>\n",
       "      <td>30.4</td>\n",
       "      <td>51.5</td>\n",
       "      <td>high</td>\n",
       "    </tr>\n",
       "    <tr>\n",
       "      <th>3</th>\n",
       "      <td>0xBC</td>\n",
       "      <td>20.4</td>\n",
       "      <td>51.4</td>\n",
       "      <td>low</td>\n",
       "    </tr>\n",
       "    <tr>\n",
       "      <th>4</th>\n",
       "      <td>0xBC</td>\n",
       "      <td>25.4</td>\n",
       "      <td>51.5</td>\n",
       "      <td>middle</td>\n",
       "    </tr>\n",
       "  </tbody>\n",
       "</table>\n",
       "</div>"
      ],
      "text/plain": [
       "  sensor  temp   hum   class\n",
       "0   0xBC  20.4  51.6     low\n",
       "1   0xBC  25.4  51.6  middle\n",
       "2   0xBC  30.4  51.5    high\n",
       "3   0xBC  20.4  51.4     low\n",
       "4   0xBC  25.4  51.5  middle"
      ]
     },
     "execution_count": 7,
     "metadata": {},
     "output_type": "execute_result"
    }
   ],
   "source": [
    "test = pd.read_csv('test.csv', header=None, names=['sensor', 'temp', 'hum', 'class'] )\n",
    "test.head()"
   ]
  },
  {
   "cell_type": "code",
   "execution_count": 8,
   "metadata": {},
   "outputs": [
    {
     "data": {
      "text/plain": [
       "0.9912790697674418"
      ]
     },
     "execution_count": 8,
     "metadata": {},
     "output_type": "execute_result"
    }
   ],
   "source": [
    "X = test[['temp', 'hum']]\n",
    "y = test[['class']]\n",
    "y = ravel( y )\n",
    "clf.score( X, y )"
   ]
  },
  {
   "cell_type": "markdown",
   "metadata": {},
   "source": [
    "## Um zu verstehen wie die Abweichungen liegen, zeichen wir einen Plot\n",
    "\n",
    "* Dazu brauchen wir nachfolgenden Hilfscode.\n",
    "* Müssen die Daten als Array aufbereiten\n",
    "* Müssen die Labels 'low', 'middle', 'high' in 0 - 2 Umwandeln"
   ]
  },
  {
   "cell_type": "code",
   "execution_count": 9,
   "metadata": {},
   "outputs": [],
   "source": [
    "# ignore this, it is just technical code\n",
    "# should come from a lib, consider it to appear magically \n",
    "# http://scikit-learn.org/stable/auto_examples/neighbors/plot_classification.html\n",
    "\n",
    "import matplotlib.pyplot as plt\n",
    "from matplotlib.colors import ListedColormap\n",
    "\n",
    "cmap_bold = ListedColormap(['#FF0000', '#00FF00', '#0000FF'])\n",
    "cmap_light = ListedColormap(['#FFAAAA', '#AAFFAA', '#AAAAFF'])\n",
    "font_size=25\n",
    "\n",
    "def meshGrid(x_data, y_data):\n",
    "    h = .02  # step size in the mesh\n",
    "    x_min, x_max = x_data.min() - 1, x_data.max() + 1\n",
    "    y_min, y_max = y_data.min() - 1, y_data.max() + 1\n",
    "    xx, yy = np.meshgrid(np.arange(x_min, x_max, h),\n",
    "                         np.arange(y_min, y_max, h))\n",
    "    return (xx,yy)\n",
    "    \n",
    "def plotPrediction(clf, x_data, y_data, x_label, y_label, colors, title=\"\", mesh=True):\n",
    "    xx,yy = meshGrid(x_data, y_data)\n",
    "    Z = clf.predict(np.c_[xx.ravel(), yy.ravel()])\n",
    "\n",
    "    # Put the result into a color plot\n",
    "    Z = Z.reshape(xx.shape)\n",
    "    plt.figure(figsize=(20,10))\n",
    "    if mesh:\n",
    "        plt.pcolormesh(xx, yy, Z, cmap=cmap_light)\n",
    "    plt.xlim(xx.min(), xx.max())\n",
    "    plt.ylim(yy.min(), yy.max())\n",
    "    plt.scatter(x_data, y_data, c=colors, cmap=cmap_bold, s=80, marker='o')\n",
    "    plt.xlabel(x_label, fontsize=font_size)\n",
    "    plt.ylabel(y_label, fontsize=font_size)\n",
    "    plt.title(title, fontsize=font_size)"
   ]
  },
  {
   "cell_type": "code",
   "execution_count": 10,
   "metadata": {},
   "outputs": [],
   "source": [
    "t = test[['temp']]\n",
    "h = test[['hum']]\n",
    "t = ravel( t )\n",
    "h = ravel( h )\n",
    "l = test[['class']]\n",
    "l = l.replace( 'low', 0 )\n",
    "l = l.replace( 'middle', 1 )\n",
    "l = l.replace( 'high', 2 )\n",
    "l = ravel( l )"
   ]
  },
  {
   "cell_type": "code",
   "execution_count": 11,
   "metadata": {},
   "outputs": [
    {
     "data": {
      "image/png": "[encoded data removed]",
      "text/plain": [
       "<Figure size 2000x1000 with 1 Axes>"
      ]
     },
     "metadata": {},
     "output_type": "display_data"
    }
   ],
   "source": [
    "plotPrediction(clf, t, h, 'temp', 'hum', l,mesh=False, title=\"Visualisierung der Abweichenden Werte\")"
   ]
  },
  {
   "cell_type": "code",
   "execution_count": null,
   "metadata": {},
   "outputs": [],
   "source": []
  }
 ],
 "metadata": {
  "kernelspec": {
   "display_name": "Python 3 (ipykernel)",
   "language": "python",
   "name": "python3"
  },
  "language_info": {
   "codemirror_mode": {
    "name": "ipython",
    "version": 3
   },
   "file_extension": ".py",
   "mimetype": "text/x-python",
   "name": "python",
   "nbconvert_exporter": "python",
   "pygments_lexer": "ipython3",
   "version": "3.12.3"
  }
 },
 "nbformat": 4,
 "nbformat_minor": 2
}
