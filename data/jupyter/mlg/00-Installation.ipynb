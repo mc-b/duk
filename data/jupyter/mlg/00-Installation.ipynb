{
 "cells": [
  {
   "cell_type": "markdown",
   "id": "b253bcfc",
   "metadata": {},
   "source": [
    "# Installation der Python Machine Learning Libraries\n",
    "\n",
    "U.a.\n",
    "* MQTT \n",
    "* Grafiken erstellen\n",
    "* Machine Learning\n",
    "* Import CSV Dateien\n"
   ]
  },
  {
   "cell_type": "code",
   "execution_count": null,
   "id": "48ebad55",
   "metadata": {},
   "outputs": [],
   "source": [
    "%%bash\n",
    "sudo apt-get install -y python3-paho-mqtt \\\n",
    "                        python3-matplotlib \\\n",
    "                        python3-numpy \\\n",
    "                        python3-sklearn \\\n",
    "                        python3-pandas \\\n",
    "                        python3-seaborn "
   ]
  },
  {
   "cell_type": "markdown",
   "id": "7657465b",
   "metadata": {},
   "source": [
    "Testen"
   ]
  },
  {
   "cell_type": "code",
   "execution_count": null,
   "id": "4270393e",
   "metadata": {},
   "outputs": [],
   "source": [
    "import warnings\n",
    "warnings.filterwarnings('ignore')\n",
    "%matplotlib inline\n",
    "%pylab inline\n",
    "import matplotlib.pylab as plt\n",
    "import numpy as np\n",
    "from distutils.version import StrictVersion\n",
    "import sklearn\n",
    "print(sklearn.__version__)\n",
    "import pandas as pd"
   ]
  },
  {
   "cell_type": "markdown",
   "id": "553cee47",
   "metadata": {},
   "source": [
    "### Beispiel und Übungen\n",
    "\n",
    "* [Einführung in Machine Learning - Schnelldurchgang](02-1-QuickStart.ipynb)\n",
    "* [Machine Learning mit IoT Testdaten](02-2-MLTempHumSensor.ipynb)"
   ]
  },
  {
   "cell_type": "code",
   "execution_count": null,
   "id": "af9d1993",
   "metadata": {},
   "outputs": [],
   "source": []
  },
  {
   "cell_type": "markdown",
   "id": "cfedfde8",
   "metadata": {},
   "source": [
    "###"
   ]
  }
 ],
 "metadata": {
  "kernelspec": {
   "display_name": "Python 3 (ipykernel)",
   "language": "python",
   "name": "python3"
  },
  "language_info": {
   "codemirror_mode": {
    "name": "ipython",
    "version": 3
   },
   "file_extension": ".py",
   "mimetype": "text/x-python",
   "name": "python",
   "nbconvert_exporter": "python",
   "pygments_lexer": "ipython3",
   "version": "3.12.3"
  }
 },
 "nbformat": 4,
 "nbformat_minor": 5
}
