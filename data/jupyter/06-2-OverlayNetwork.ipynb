{
 "cells": [
  {
   "cell_type": "markdown",
   "id": "9d7e1c06-fd3a-46ee-926d-0d3dd73de6ea",
   "metadata": {},
   "source": [
    "Übung: 3a Overlay Netzwerk\n",
    "------------------------------------------\n",
    "\n",
    "![](https://kubernetes.io/docs/images/kubernetes-cluster-network.svg)\n",
    "\n",
    "Quelle: Kubernetes\n",
    "- - -\n",
    "\n",
    "Ein Kubernetes Overlay Network ist eine Netzwerktechnologie, die es ermöglicht, Container in einem Kubernetes-Cluster über verschiedene physische oder virtuelle Netzwerke hinweg zu verbinden. \n",
    "\n",
    "Diese Netzwerke abstrahieren die physische Netzwerkstruktur und bieten eine einheitliche Kommunikationsschicht für die Pods innerhalb des Clusters.\n",
    "\n",
    "- - - \n",
    "\n",
    "### Nodes (nodes)\n",
    "\n",
    "Zuerst schauen wir uns das Netzwerk, inkl. der IP-Adressen, der Kubernetes Nodes an:"
   ]
  },
  {
   "cell_type": "code",
   "execution_count": null,
   "id": "7600892f-24a8-4711-969b-867724f02d62",
   "metadata": {},
   "outputs": [],
   "source": [
    "! kubectl get nodes -o custom-columns=NAME:.metadata.name,STATUS:.status.conditions[-1].type,IPS:.status.addresses[*].address,OS:.status.nodeInfo.osImage"
   ]
  },
  {
   "cell_type": "markdown",
   "id": "fbd7c5ef",
   "metadata": {},
   "source": [
    "### Subnets pro Nodes (pods)\n",
    "\n",
    "In einem Kubernetes-Cluster hat jede Node in der Regel ein eigenes IP-Subnetz, um die Netzwerkkommunikation zu optimieren und zu isolieren. \n",
    "\n",
    "Folgende Ausgabe mit Pod Name, IP-Adresse und ausführende Node macht dies sichtbar"
   ]
  },
  {
   "cell_type": "code",
   "execution_count": null,
   "id": "57b57924",
   "metadata": {},
   "outputs": [],
   "source": [
    "! kubectl get pods --all-namespaces -o custom-columns=NAME:.metadata.name,IP:.status.podIP,NODE:.spec.nodeName | sort -k3"
   ]
  },
  {
   "cell_type": "markdown",
   "id": "df247f32",
   "metadata": {},
   "source": [
    "### Service Netzwerk - Node übergreifend (services)\n",
    "\n",
    "Das Service-Netzwerk ermöglicht die nahtlose Interaktion zwischen verschiedenen Komponenten innerhalb und ausserhalb des Clusters. \n",
    "\n",
    "Ein Service in Kubernetes ist eine Abstraktion, die eine Gruppe von Pods über ein Netzwerk zugänglich macht.\n",
    "\n",
    "Die Services in Kubernetes sind in einem Subnet zusammengefasst:"
   ]
  },
  {
   "cell_type": "code",
   "execution_count": null,
   "id": "d72be497-735f-403c-9a4d-4f911da5d062",
   "metadata": {},
   "outputs": [],
   "source": [
    "! kubectl get services --all-namespaces -o custom-columns=NAME:.metadata.name,IP:.spec.clusterIP,PORT:.spec.ports[*].port"
   ]
  },
  {
   "cell_type": "markdown",
   "id": "3b4ab250",
   "metadata": {},
   "source": [
    "### Ein Pod und zwei Container\n",
    "\n",
    "Innerhalb eines Pods teilen sich die Container dieselbe IP-Adresse.\n",
    "\n",
    "Ein Pod mit zwei Containern, die beide auf Port 8080 lauschen, wird fehlschlagen:"
   ]
  },
  {
   "cell_type": "code",
   "execution_count": null,
   "id": "a19610d6",
   "metadata": {},
   "outputs": [],
   "source": [
    "%%bash\n",
    "cat <<EOF | kubectl apply -f -\n",
    "apiVersion: v1\n",
    "kind: Pod\n",
    "metadata:\n",
    "  name: webshop-fail\n",
    "spec:\n",
    "  containers:\n",
    "  - name: catalog\n",
    "    image: registry.gitlab.com/ch-mc-b/autoshop-ms/app/shop/catalog:2.1.0\n",
    "    ports:\n",
    "    - containerPort: 8080    \n",
    "  - name: order\n",
    "    image: registry.gitlab.com/ch-mc-b/autoshop-ms/app/shop/order:2.1.0\n",
    "    ports:\n",
    "    - containerPort: 8080    \n",
    "EOF\n",
    "echo \"------------- Logs ------------------\"\n",
    "kubectl logs pod/webshop-fail -c catalog\n",
    "kubectl logs pod/webshop-fail -c order"
   ]
  },
  {
   "cell_type": "code",
   "execution_count": null,
   "id": "c7bce543",
   "metadata": {},
   "outputs": [],
   "source": [
    "! kubectl delete pod/webshop-fail"
   ]
  },
  {
   "cell_type": "code",
   "execution_count": null,
   "id": "abae12a0",
   "metadata": {},
   "outputs": [],
   "source": []
  }
 ],
 "metadata": {
  "kernelspec": {
   "display_name": "Python 3 (ipykernel)",
   "language": "python",
   "name": "python3"
  },
  "language_info": {
   "codemirror_mode": {
    "name": "ipython",
    "version": 3
   },
   "file_extension": ".py",
   "mimetype": "text/x-python",
   "name": "python",
   "nbconvert_exporter": "python",
   "pygments_lexer": "ipython3",
   "version": "3.12.3"
  }
 },
 "nbformat": 4,
 "nbformat_minor": 5
}
