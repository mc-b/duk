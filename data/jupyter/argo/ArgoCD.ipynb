{
 "cells": [
  {
   "cell_type": "markdown",
   "id": "14b8563a",
   "metadata": {},
   "source": [
    "ArgoCD\n",
    "======\n",
    "\n",
    "![](https://argo-cd.readthedocs.io/en/stable/assets/argocd-ui.gif)\n",
    "\n",
    "Quelle: [ArgoCD](https://argo-cd.readthedocs.io/)\n",
    "\n",
    "- - -\n",
    "\n",
    "[ArgoCD](https://argo-cd.readthedocs.io/) CD ist ein deklaratives GitOps-Continuous-Delivery-Tool für Kubernetes.\n",
    "\n",
    "- - - \n",
    "\n",
    "### Installation\n"
   ]
  },
  {
   "cell_type": "code",
   "execution_count": null,
   "id": "f5a59cf2",
   "metadata": {},
   "outputs": [],
   "source": [
    "%%bash\n",
    "kubectl create namespace argocd\n",
    "kubectl apply -n argocd -f https://raw.githubusercontent.com/argoproj/argo-cd/stable/manifests/install.yaml\n",
    "kubectl patch svc argocd-server -n argocd -p '{\"spec\": {\"type\": \"LoadBalancer\"}}'"
   ]
  },
  {
   "cell_type": "code",
   "execution_count": null,
   "id": "f9cadfbf",
   "metadata": {},
   "outputs": [],
   "source": [
    "%%bash\n",
    "while ! kubectl -n argocd get secret argocd-initial-admin-secret >/dev/null 2>&1; do echo \".\"; sleep 2; done\n",
    "\n",
    "echo \"\"\n",
    "echo \"ArgoCD UI: http://\"$(cat ~/work/server-ip)\":\"$(kubectl get -n argocd service/argocd-server -o=jsonpath='{ .spec.ports[0].nodePort }')\n",
    "echo \"User     : admin\"\n",
    "echo \"Password : $(kubectl -n argocd get secret argocd-initial-admin-secret -o jsonpath=\"{.data.password}\" | base64 -d; echo)\""
   ]
  },
  {
   "cell_type": "markdown",
   "id": "62b0dbea",
   "metadata": {},
   "source": [
    "- - -\n",
    "\n",
    "Microservices - REST Deployen\n",
    "----------------------------------------\n",
    "\n",
    "Dazu müssen wir zuerst eine YAML Datei für ArgoCD erstellen und dann diese Kubernetes übergeben"
   ]
  },
  {
   "cell_type": "code",
   "execution_count": null,
   "id": "599918ca",
   "metadata": {},
   "outputs": [],
   "source": [
    "%%bash\n",
    "cat <<%EOF% | kubectl apply -f -\n",
    "apiVersion: argoproj.io/v1alpha1\n",
    "kind: Application\n",
    "metadata:\n",
    "  name: ms-rest\n",
    "  namespace: argocd\n",
    "spec:\n",
    "  destination:\n",
    "    namespace: ms-rest\n",
    "    server: https://kubernetes.default.svc\n",
    "  project: default\n",
    "  source:\n",
    "    path: 3-0-0-deployment\n",
    "    repoURL: https://gitlab.com/ch-mc-b/autoshop-ms/infra/kubernetes-templates.git\n",
    "    targetRevision: HEAD\n",
    "  syncPolicy:\n",
    "    automated:\n",
    "      prune: true\n",
    "      selfHeal: true\n",
    "    syncOptions:\n",
    "      - CreateNamespace=true\n",
    "%EOF%\n",
    "\n",
    "while ! kubectl get namespace ms-rest >/dev/null 2>&1; do echo \".\"; sleep 2; done\n",
    "kubectl get pods,services --namespace ms-rest\n",
    "\n",
    "echo \"\"\n",
    "echo \"http://\"$(cat ~/work/server-ip)\":\"$(kubectl get service --namespace ms-rest webshop -o=jsonpath='{ .spec.ports[0].nodePort }')/webshop"
   ]
  },
  {
   "cell_type": "markdown",
   "id": "fa5c3a38",
   "metadata": {},
   "source": [
    "- - -\n",
    "\n",
    "Microservices - Big Ball of Mud Deployen\n",
    "-----------------------------------------------------------\n",
    "\n",
    "Dazu müssen wir zuerst eine YAML Datei für ArgoCD erstellen und dann diese Kubernetes übergeben\n"
   ]
  },
  {
   "cell_type": "code",
   "execution_count": null,
   "id": "6485b59a",
   "metadata": {},
   "outputs": [],
   "source": [
    "%%bash\n",
    "cat <<%EOF% | kubectl apply -f -\n",
    "apiVersion: argoproj.io/v1alpha1\n",
    "kind: Application\n",
    "metadata:\n",
    "  name: ms-bbum\n",
    "  namespace: argocd\n",
    "spec:\n",
    "  destination:\n",
    "    namespace: ms-bbum\n",
    "    server: https://kubernetes.default.svc\n",
    "  project: default\n",
    "  source:\n",
    "    path: 3-2-0-deployment\n",
    "    repoURL: https://gitlab.com/ch-mc-b/autoshop-ms/infra/kubernetes-templates.git\n",
    "    targetRevision: HEAD\n",
    "  syncPolicy:\n",
    "    automated:\n",
    "      prune: true\n",
    "      selfHeal: true\n",
    "    syncOptions:\n",
    "      - CreateNamespace=true\n",
    "%EOF%\n",
    "\n",
    "while ! kubectl get namespace ms-bbum >/dev/null 2>&1; do echo \".\"; sleep 2; done\n",
    "kubectl get pods,services --namespace ms-rest\n",
    "\n",
    "echo \"\"\n",
    "echo \"http://\"$(cat ~/work/server-ip)\":\"$(kubectl get service --namespace ms-bbum webshop -o=jsonpath='{ .spec.ports[0].nodePort }')/webshop"
   ]
  },
  {
   "cell_type": "markdown",
   "id": "fcd5c255",
   "metadata": {},
   "source": [
    "- - -\n",
    "\n",
    "### Aufräumen\n",
    "\n",
    "Dazu sind die ArgoCD Ressourcen \"Application\" zu löschen und die erstellen Kubernetes Namespaces.\n",
    "\n",
    "Und zum Schluss ArgoCD selber.\n"
   ]
  },
  {
   "cell_type": "code",
   "execution_count": null,
   "id": "c651609b",
   "metadata": {},
   "outputs": [],
   "source": [
    "! kubectl delete --namespace argocd application/ms-rest\n",
    "! kubectl delete namespace ms-rest\n",
    "! kubectl delete --namespace argocd application/ms-bbum\n",
    "! kubectl delete namespace ms-bbum\n",
    "! kubectl delete namespace argocd"
   ]
  },
  {
   "cell_type": "markdown",
   "id": "e136dc4b",
   "metadata": {},
   "source": [
    "- - -\n",
    "### Quellen\n",
    "\n",
    "* [Argo CD](https://argo-cd.readthedocs.io/en/stable/)\n",
    "* Sourcecode: https://gitlab.com/ch-mc-b/autoshop-ms/app\n",
    "* Kubernetes Deklarationen: https://gitlab.com/ch-mc-b/autoshop-ms/infra/kubernetes-templates\n",
    "* Container Registry: https://gitlab.com/ch-mc-b/autoshop-ms/app/shop/container_registry"
   ]
  },
  {
   "cell_type": "code",
   "execution_count": null,
   "id": "8dad02ee",
   "metadata": {},
   "outputs": [],
   "source": []
  }
 ],
 "metadata": {
  "kernelspec": {
   "display_name": "Python 3 (ipykernel)",
   "language": "python",
   "name": "python3"
  },
  "language_info": {
   "codemirror_mode": {
    "name": "ipython",
    "version": 3
   },
   "file_extension": ".py",
   "mimetype": "text/x-python",
   "name": "python",
   "nbconvert_exporter": "python",
   "pygments_lexer": "ipython3",
   "version": "3.12.3"
  }
 },
 "nbformat": 4,
 "nbformat_minor": 5
}
