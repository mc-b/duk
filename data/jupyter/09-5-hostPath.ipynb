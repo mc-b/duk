{
 "cells": [
  {
   "cell_type": "markdown",
   "metadata": {},
   "source": [
    "Übung: Volume und Claims\n",
    "------------------------\n",
    "\n",
    "Zuerst brauchen wir ein `PersistentVolume` worauf die `Claims` zusteuern.\n",
    "\n",
    "Im nachfolgenden Beispiel wird der `hostPath` als Volume zur Verfügung gestellt:\n",
    "\n",
    "    kind: PersistentVolume\n",
    "    apiVersion: v1\n",
    "    metadata:\n",
    "      name: data-volume\n",
    "      labels:\n",
    "        type: local\n",
    "    spec:\n",
    "      storageClassName: manual\n",
    "      capacity:\n",
    "        storage: 10Gi\n",
    "      accessModes:\n",
    "        - ReadWriteMany\n",
    "      hostPath:\n",
    "        path: \"/data\"\n",
    "\n",
    "\n",
    "Anschliessend folgen die `Claims`:\n",
    "\n",
    "    kind: PersistentVolumeClaim\n",
    "    apiVersion: v1\n",
    "    metadata:\n",
    "      name: data-claim\n",
    "    spec:\n",
    "      storageClassName: manual\n",
    "      accessModes:\n",
    "        - ReadWriteMany\n",
    "      resources:\n",
    "        requests:\n",
    "          storage: 10Gi\n",
    "\n",
    "Die Pod selber zeigen auf die `Claims`:\n",
    "\n",
    "      volumes:\n",
    "      - name: web-storage\n",
    "        persistentVolumeClaim:\n",
    "        claimName: data-claim    \n",
    "\n",
    "Der Pod, muss zuerst aber noch, mittels `volumeMounts` seine Verzeichnisse freigeben:\n",
    "\n",
    "    volumeMounts:\n",
    "    - mountPath: \"/usr/local/apache2/htdocs\"\n",
    "      subPath: htdocs       \n",
    "      name: \"web-storage\"\n",
    "\n",
    "Das komplette Beispiel eines Web Server welche seine Dateien auf dem Host ablegt sieht wie folgt aus:\n"
   ]
  },
  {
   "cell_type": "code",
   "execution_count": null,
   "metadata": {},
   "outputs": [],
   "source": [
    "! cat 09-5-Volume/apache.yaml "
   ]
  },
  {
   "cell_type": "code",
   "execution_count": null,
   "metadata": {},
   "outputs": [],
   "source": [
    "! kubectl apply -f 09-5-Volume/apache.yaml"
   ]
  },
  {
   "cell_type": "markdown",
   "metadata": {},
   "source": [
    "Um mehr als eine leere Seite anzuzeigen, muss jetzt im Verzeichnis `/data/htdocs` auf dem **in der VM** eine Datei `index.html` angelegt werden. \n",
    "\n",
    "Der Inhalt kann wir folgt erstellt werden:\n",
    "\n",
    "    cat <<%EOF% >/data/htdocs/index.html\n",
    "        <html>\n",
    "            <body>\n",
    "                <h1>Hallo Host</h1>\n",
    "            </body>\n",
    "        </html>\n",
    "    %EOF%\n",
    "    ls -l /data/htdocs\n"
   ]
  },
  {
   "cell_type": "code",
   "execution_count": null,
   "metadata": {},
   "outputs": [],
   "source": [
    "! kubectl get service/apache"
   ]
  },
  {
   "cell_type": "markdown",
   "metadata": {},
   "source": [
    "Da wir keinen LoadBalancer haben müssen wir mit einem kleinen Shellscript selber die IP des Clusters und der gemappte Port (port-based-routing) als URL aufbereiten\n",
    "\n",
    "Wird dieser URL in einem neuen Tab geöffnet, wird `Hallo Host` angezeigt."
   ]
  },
  {
   "cell_type": "code",
   "execution_count": null,
   "metadata": {},
   "outputs": [],
   "source": [
    "! echo \"http://\"$(cat ~/work/server-ip)\":\"$(kubectl get service apache -o=jsonpath='{ .spec.ports[0].nodePort }')"
   ]
  },
  {
   "cell_type": "markdown",
   "metadata": {},
   "source": [
    "- - -\n",
    "\n",
    "Aufräumen. \n",
    "\n",
    "Die Datei `lernkube/data/htdocs/index.html` bleibt erhalten, weil auf `PersistentVolume` gespeichert."
   ]
  },
  {
   "cell_type": "code",
   "execution_count": null,
   "metadata": {},
   "outputs": [],
   "source": [
    "! kubectl delete -f 09-5-Volume/apache.yaml"
   ]
  }
 ],
 "metadata": {
  "kernelspec": {
   "display_name": "Python 3 (ipykernel)",
   "language": "python",
   "name": "python3"
  },
  "language_info": {
   "codemirror_mode": {
    "name": "ipython",
    "version": 3
   },
   "file_extension": ".py",
   "mimetype": "text/x-python",
   "name": "python",
   "nbconvert_exporter": "python",
   "pygments_lexer": "ipython3",
   "version": "3.10.6"
  }
 },
 "nbformat": 4,
 "nbformat_minor": 2
}
