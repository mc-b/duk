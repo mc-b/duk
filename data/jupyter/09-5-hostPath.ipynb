{
 "cells": [
  {
   "cell_type": "markdown",
   "metadata": {},
   "source": [
    "Übung: Volume und Claims\n",
    "------------------------\n",
    "\n",
    "Zuerst brauchen wir ein `PersistentVolume` worauf die `Claims` zusteuern.\n",
    "\n",
    "Im nachfolgenden Beispiel wird der `hostPath` als Volume zur Verfügung gestellt:\n",
    "\n",
    "    kind: PersistentVolume\n",
    "    apiVersion: v1\n",
    "    metadata:\n",
    "      name: data-volume\n",
    "      labels:\n",
    "        type: local\n",
    "    spec:\n",
    "      storageClassName: manual\n",
    "      capacity:\n",
    "        storage: 10Gi\n",
    "      accessModes:\n",
    "        - ReadWriteMany\n",
    "      hostPath:\n",
    "        path: \"/data\"\n",
    "\n",
    "\n",
    "Anschliessend folgen die `Claims`:\n",
    "\n",
    "    kind: PersistentVolumeClaim\n",
    "    apiVersion: v1\n",
    "    metadata:\n",
    "      name: data-claim\n",
    "    spec:\n",
    "      storageClassName: manual\n",
    "      accessModes:\n",
    "        - ReadWriteMany\n",
    "      resources:\n",
    "        requests:\n",
    "          storage: 10Gi\n",
    "\n",
    "Die Pod selber zeigen auf die `Claims`:\n",
    "\n",
    "      volumes:\n",
    "      - name: web-storage\n",
    "        persistentVolumeClaim:\n",
    "        claimName: data-claim    \n",
    "\n",
    "Der Pod, muss zuerst aber noch, mittels `volumeMounts` seine Verzeichnisse freigeben:\n",
    "\n",
    "    volumeMounts:\n",
    "    - mountPath: \"/usr/local/apache2/htdocs\"\n",
    "      subPath: htdocs       \n",
    "      name: \"web-storage\"\n",
    "\n",
    "Das komplette Beispiel eines Web Server welche seine Dateien auf dem Host ablegt sieht wie folgt aus:\n"
   ]
  },
  {
   "cell_type": "code",
   "execution_count": 1,
   "metadata": {},
   "outputs": [
    {
     "name": "stdout",
     "output_type": "stream",
     "text": [
      "apiVersion: v1\r\n",
      "kind: Pod\r\n",
      "metadata:\r\n",
      "  labels:\r\n",
      "    app.kubernetes.io/name: apache\r\n",
      "  name: apache\r\n",
      "  namespace: yaml\r\n",
      "spec:\r\n",
      "  containers:\r\n",
      "  - image: httpd\r\n",
      "    name: apache\r\n",
      "    # Volumes im Container\r\n",
      "    volumeMounts:\r\n",
      "    - mountPath: \"/usr/local/apache2/htdocs\"\r\n",
      "      subPath: htdocs       \r\n",
      "      name: \"web-storage\"\r\n",
      "  # Volumes in Host\r\n",
      "  volumes:\r\n",
      "  - name: web-storage\r\n",
      "    persistentVolumeClaim:\r\n",
      "    claimName: data-claim        \r\n",
      "---\r\n",
      "apiVersion: v1\r\n",
      "kind: Service\r\n",
      "metadata:\r\n",
      "  labels:\r\n",
      "    app.kubernetes.io/name: apache\r\n",
      "  name: apache\r\n",
      "  namespace: yaml\r\n",
      "spec:\r\n",
      "  ports:\r\n",
      "  - port: 80\r\n",
      "    protocol: TCP\r\n",
      "    targetPort: 80\r\n",
      "  selector:\r\n",
      "    app.kubernetes.io/name: apache\r\n",
      "  type: LoadBalancer"
     ]
    }
   ],
   "source": [
    "! cat 09-5-Volume/apache.yaml "
   ]
  },
  {
   "cell_type": "code",
   "execution_count": 4,
   "metadata": {},
   "outputs": [
    {
     "name": "stdout",
     "output_type": "stream",
     "text": [
      "pod/apache created\n",
      "service/apache created\n"
     ]
    }
   ],
   "source": [
    "! kubectl apply -f 09-5-Volume/apache.yaml"
   ]
  },
  {
   "cell_type": "markdown",
   "metadata": {},
   "source": [
    "Um mehr als eine leere Seite anzuzeigen, muss jetzt im Verzeichnis `lernkube/data/htdocs` auf dem **lokalen Computer** eine Datei `index.html` angelegt werden. Verwendet dazu Notebook++ u.ä.\n",
    "\n",
    "Der Inhalt könnte z.B. wie folgt sein:\n",
    "\n",
    "    <html>\n",
    "        <body>\n",
    "            <h1>Hallo Host</h1>\n",
    "        </body>\n",
    "    </html>\n",
    "    "
   ]
  },
  {
   "cell_type": "code",
   "execution_count": 6,
   "metadata": {},
   "outputs": [
    {
     "name": "stdout",
     "output_type": "stream",
     "text": [
      "http://192.168.178.200:31998"
     ]
    }
   ],
   "source": [
    "! kubectl config view -o=jsonpath='{ .clusters[0].cluster.server }' | sed -e 's/https:/http:/' -e \"s/6443/$(kubectl get service apache -o=jsonpath='{ .spec.ports[0].nodePort }')/\""
   ]
  },
  {
   "cell_type": "markdown",
   "metadata": {},
   "source": [
    "Aufräumen. \n",
    "\n",
    "Die Datei `lernkube/data/htdocs/index.html` bleibt erhalten, weil auf `PersistentVolume` gespeichert."
   ]
  },
  {
   "cell_type": "code",
   "execution_count": 7,
   "metadata": {},
   "outputs": [
    {
     "name": "stdout",
     "output_type": "stream",
     "text": [
      "pod \"apache\" deleted\n",
      "service \"apache\" deleted\n"
     ]
    }
   ],
   "source": [
    "! kubectl delete -f 09-5-Volume/apache.yaml"
   ]
  },
  {
   "cell_type": "code",
   "execution_count": null,
   "metadata": {},
   "outputs": [],
   "source": []
  },
  {
   "cell_type": "code",
   "execution_count": null,
   "metadata": {},
   "outputs": [],
   "source": []
  },
  {
   "cell_type": "code",
   "execution_count": null,
   "metadata": {},
   "outputs": [],
   "source": []
  }
 ],
 "metadata": {
  "kernelspec": {
   "display_name": "Python 3",
   "language": "python",
   "name": "python3"
  },
  "language_info": {
   "codemirror_mode": {
    "name": "ipython",
    "version": 3
   },
   "file_extension": ".py",
   "mimetype": "text/x-python",
   "name": "python",
   "nbconvert_exporter": "python",
   "pygments_lexer": "ipython3",
   "version": "3.6.5"
  }
 },
 "nbformat": 4,
 "nbformat_minor": 2
}
