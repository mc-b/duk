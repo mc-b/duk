{
 "cells": [
  {
   "cell_type": "markdown",
   "id": "54106285-490f-4933-9e07-fa301c04b835",
   "metadata": {},
   "source": [
    "Übung: Container Standards und Container Umgebungen\n",
    "---------------------------------------------------\n",
    "\n",
    "Die [Open Container Initiative (OCI)](https://opencontainers.org/) ist eine gemeinnützige Organisation, die 2015 unter dem Dach der Linux Foundation gegründet wurde, um offene Industriestandards für Container-Formate und -Runtimes zu definieren und zu fördern. \n",
    "\n",
    "Diese Standards sind entscheidend für die Interoperabilität und Kompatibilität verschiedener Container-Technologien, wie Docker, Podman und Kubernetes.\n",
    "\n",
    "Durch das Starten desselben Containers in Docker, Podman und Kubernetes demonstrieren wir die Interoperabilität und Kompatibilität dieser Technologien.\n",
    "- - -\n",
    "Wir beginnen mit Docker:\n"
   ]
  },
  {
   "cell_type": "code",
   "execution_count": null,
   "id": "6e6f4019-a48b-4f32-a359-7634abec3291",
   "metadata": {},
   "outputs": [],
   "source": [
    "! docker run --name webshop-docker -d -p 8080:8080 registry.gitlab.com/ch-mc-b/autoshop/shop:2.0.0\n",
    "! echo \"http://$(cat ~/work/server-ip):8080\""
   ]
  },
  {
   "cell_type": "markdown",
   "id": "dd4b1e0d-bfaf-493c-b85e-b2581ef2ec05",
   "metadata": {},
   "source": [
    "- - -\n",
    "Gehen weiter zu Podman:"
   ]
  },
  {
   "cell_type": "code",
   "execution_count": null,
   "id": "13cf1b1f-4c99-49ed-9f9a-31d1666a51dd",
   "metadata": {},
   "outputs": [],
   "source": [
    "! podman run --name webshop-podman -d -p 9090:8080 registry.gitlab.com/ch-mc-b/autoshop/shop:2.0.0\n",
    "! echo \"http://$(cat ~/work/server-ip):9090\""
   ]
  },
  {
   "cell_type": "markdown",
   "id": "29a5a899-ca32-4279-9409-419b6d5ea110",
   "metadata": {},
   "source": [
    "- - -\n",
    "Und schliessen mit Kubernetes ab:\n"
   ]
  },
  {
   "cell_type": "code",
   "execution_count": null,
   "id": "f73973a9-ea34-4a41-8247-9e96ba377890",
   "metadata": {},
   "outputs": [],
   "source": [
    "%%bash\n",
    "kubectl run webshop-kubernetes --image registry.gitlab.com/ch-mc-b/autoshop/shop:2.0.0 --image-pull-policy=\"IfNotPresent\" --restart=Never \n",
    "kubectl expose pod/webshop-kubernetes --type=\"LoadBalancer\" --port 8080 \n",
    "echo \"http://\"$(cat ~/work/server-ip)\":$(kubectl get service webshop-kubernetes -o=jsonpath='{ .spec.ports[0].nodePort }')/\""
   ]
  },
  {
   "cell_type": "markdown",
   "id": "0804afd2-dcec-4a3c-aa7e-037a10842161",
   "metadata": {},
   "source": [
    "- - -\n",
    "Aufräumen (erst nach den Übungen!)\n"
   ]
  },
  {
   "cell_type": "code",
   "execution_count": null,
   "id": "b1521c49-c2c0-490d-8788-1628f3630b03",
   "metadata": {},
   "outputs": [],
   "source": [
    "%%bash\n",
    "docker stop webshop-docker && docker container prune -f\n",
    "docker rmi registry.gitlab.com/ch-mc-b/autoshop/shop:2.0.0\n",
    "podman stop webshop-podman && podman container prune -f\n",
    "podman rmi registry.gitlab.com/ch-mc-b/autoshop/shop:2.0.0\n",
    "kubectl delete pod/webshop-kubernetes \n",
    "kubectl delete service/webshop-kubernetes"
   ]
  },
  {
   "cell_type": "code",
   "execution_count": null,
   "id": "006087e0-ebfb-44fa-8d99-48b8ca5c8ddc",
   "metadata": {},
   "outputs": [],
   "source": []
  }
 ],
 "metadata": {
  "kernelspec": {
   "display_name": "Python 3 (ipykernel)",
   "language": "python",
   "name": "python3"
  },
  "language_info": {
   "codemirror_mode": {
    "name": "ipython",
    "version": 3
   },
   "file_extension": ".py",
   "mimetype": "text/x-python",
   "name": "python",
   "nbconvert_exporter": "python",
   "pygments_lexer": "ipython3",
   "version": "3.10.12"
  }
 },
 "nbformat": 4,
 "nbformat_minor": 5
}
