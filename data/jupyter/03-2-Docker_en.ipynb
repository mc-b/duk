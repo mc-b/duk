{
 "cells": [
  {
   "cell_type": "markdown",
   "metadata": {},
   "source": [
    "Exercise : Container images and layers\n",
    "------------------------------------------------------\n",
    "\n",
    "We want to find the Apache Web Server Image on docker.io.\n",
    "\n",
    "We pull this image from various registries onto our local machine and analyze the content.\n"
   ]
  },
  {
   "cell_type": "code",
   "execution_count": null,
   "metadata": {},
   "outputs": [],
   "source": [
    "! docker search apache"
   ]
  },
  {
   "cell_type": "markdown",
   "metadata": {},
   "source": [
    "Unfortunately, `docker search` does not work with other registries, so we have to search there via the web interface.\n",
    "\n",
    "Andere Ã¶ffentliche Registries sind u.a.\n",
    "* [AWS Public Registry](https://public.ecr.aws)\n",
    "* [RedHat](https://quay.io)\n",
    "\n",
    "If a [GitLab Umgebung](https://about.gitlab.com/) is available or the public one is used, the container images can be placed in the same repository as the source code.\n",
    "\n",
    "* [https://gitlab.com/mc-b/misegr/container_registry](https://gitlab.com/mc-b/misegr/container_registry)\n",
    "\n",
    "- - -\n",
    "\n",
    "### Container Images holen\n",
    "\n",
    "To get around the Docker \"pull rate limits\", we don't pull the Apache Web Server from `docker.io` but from the AWS Public Registry. There we find, with the prefix `docker/library`, practically all \"Docker Official Images\"."
   ]
  },
  {
   "cell_type": "code",
   "execution_count": null,
   "metadata": {},
   "outputs": [],
   "source": [
    "! docker pull public.ecr.aws/docker/library/httpd\n",
    "! docker image ls"
   ]
  },
  {
   "cell_type": "markdown",
   "metadata": {},
   "source": [
    "- - -\n",
    "\n",
    "### Save container image in `tar` format\n",
    "\n",
    "An image registry is not always available.\n",
    "\n",
    "Alternatively, container images can also be saved and loaded from/to the [tar](https://wiki.ubuntuusers.de/tar/) format"
   ]
  },
  {
   "cell_type": "code",
   "execution_count": null,
   "metadata": {},
   "outputs": [],
   "source": [
    "! docker save public.ecr.aws/docker/library/httpd -o httpd.tar\n",
    "! ls -ls *.tar"
   ]
  },
  {
   "cell_type": "markdown",
   "metadata": {},
   "source": [
    "The file can then be transported to our target environment, e.g. via a USB stick, and imported again there.\n",
    "\n",
    "To demonstrate this, we first delete the cached image and then import our [tar](https://wiki.ubuntuusers.de/tar/) export."
   ]
  },
  {
   "cell_type": "code",
   "execution_count": null,
   "metadata": {},
   "outputs": [],
   "source": [
    "%%bash\n",
    "docker rmi public.ecr.aws/docker/library/httpd\n",
    "docker image ls\n",
    "echo \"--------------------\"\n",
    "docker load -i httpd.tar\n",
    "docker image ls"
   ]
  },
  {
   "cell_type": "markdown",
   "metadata": {},
   "source": [
    "The created [tar](https://wiki.ubuntuusers.de/tar/) file can be extracted and the created layers can be analyzed."
   ]
  },
  {
   "cell_type": "code",
   "execution_count": null,
   "metadata": {},
   "outputs": [],
   "source": [
    "! tar xvf httpd.tar\n",
    "! cat manifest.json | jq"
   ]
  },
  {
   "cell_type": "markdown",
   "metadata": {},
   "source": [
    "Additional `tar xvf <uuid>/layer.tar` and `cat <uuid>/json provide more information about the image.\n",
    "\n",
    "Try it out by replacing `[uuid]` with a UUID from above:"
   ]
  },
  {
   "cell_type": "code",
   "execution_count": null,
   "metadata": {},
   "outputs": [],
   "source": [
    "! tar xvf [uuid]/layer.tar\n",
    "! cat [uuid]/json | jq"
   ]
  },
  {
   "cell_type": "markdown",
   "metadata": {},
   "source": [
    "- - -\n",
    "\n",
    "### Unpack container file system\n",
    "\n",
    "From time to time, you just want to explore the container's filesystem without starting the container itself.\n",
    "\n",
    "This works with `docker create` instead of `run` and exporting the file system:"
   ]
  },
  {
   "cell_type": "code",
   "execution_count": null,
   "metadata": {},
   "outputs": [],
   "source": [
    "! mkdir apache\n",
    "! docker export $(docker create public.ecr.aws/docker/library/httpd) | tar -C apache -xvf -"
   ]
  },
  {
   "cell_type": "markdown",
   "metadata": {},
   "source": [
    "This created an `apache` directory and extracted the contents of the container image from there.\n",
    "\n",
    "Using `cat` or `ls -l apache` we can analyze the content"
   ]
  },
  {
   "cell_type": "code",
   "execution_count": null,
   "metadata": {},
   "outputs": [],
   "source": [
    "! cat apache/etc/issue\n",
    "! echo \"-----httpd.conf -------\"\n",
    "! cat apache/usr/local/apache2/conf/httpd.conf"
   ]
  },
  {
   "cell_type": "markdown",
   "metadata": {},
   "source": [
    "***\n",
    "Questions\n",
    "======\n",
    "\n",
    "Answer the questions individually or in groups and compare them with the answers\n",
    "\n",
    "What is the difference between a Docker Registry and a repository\n",
    "<details><summary>Answer</summary>\n",
    "The container images are stored in the Docker Registry. A repository stores different versions of images per container image.\n",
    "</p></details>\n",
    "\n",
    "---\n",
    "\n",
    "What is Docker Hub?\n",
    "<details><summary>Answer</summary>\n",
    "A container registry where container images are stored. Docker Hub is provided by the Docker company.\n",
    "</p></details>\n",
    "\n",
    "---\n",
    "\n",
    "What are the alternatives?\n",
    "<details><summary>Answer</summary>\n",
    "Virtually every cloud provider provides a container registry. Providers for managing build artifacts (e.g. Sonatype Nexus) also provide Docker registries or have their functionality integrated.\n",
    "</p></details>\n",
    "\n",
    "---\n",
    "\n",
    "Why should the company use its own container registry?\n",
    "<details><summary>Answer</summary>\n",
    "Security, or the possible lack thereof. It cannot be guaranteed that all container images on Docker Hub are secure.\n",
    "</p></details>\n"
   ]
  },
  {
   "cell_type": "code",
   "execution_count": null,
   "metadata": {},
   "outputs": [],
   "source": []
  },
  {
   "cell_type": "code",
   "execution_count": null,
   "metadata": {},
   "outputs": [],
   "source": []
  }
 ],
 "metadata": {
  "kernelspec": {
   "display_name": "Python 3 (ipykernel)",
   "language": "python",
   "name": "python3"
  },
  "language_info": {
   "codemirror_mode": {
    "name": "ipython",
    "version": 3
   },
   "file_extension": ".py",
   "mimetype": "text/x-python",
   "name": "python",
   "nbconvert_exporter": "python",
   "pygments_lexer": "ipython3",
   "version": "3.10.6"
  }
 },
 "nbformat": 4,
 "nbformat_minor": 2
}
