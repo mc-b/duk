{
 "cells": [
  {
   "cell_type": "markdown",
   "id": "9c9c9bda",
   "metadata": {},
   "source": [
    "Service Mesh mit Istio (Infrastruktur)\n",
    "==============================\n",
    "\n",
    "Cloud-Plattformen bieten den Unternehmen, die sie verwenden, zahlreiche Vorteile.\n",
    "\n",
    "Dazu müssen Entwickler das Architekturmuster Microservices verwenden, was dazu führt das schnell Unterschiedliche Versionen von Microservices parallel betrieben werden müssen.\n",
    "\n",
    "Mit den vielfältigen Funktionen von [Istio](https://istio.io/) kann man eine verteilte Microservice-Architektur erfolgreich und effizient ausführen und auf einheitliche Weise Microservices absichern, verbinden und überwachen.\n",
    "\n",
    "Es ist ein vollständiger Open-Source-Service-Mesh, das auf vorhandenen verteilten Anwendungen aufbaut.\n",
    "\n",
    "Istio wurde bereits mittels dem Script [istio.sh](https://raw.githubusercontent.com/mc-b/lerncloud/main/services/istio.sh) installiert."
   ]
  },
  {
   "cell_type": "markdown",
   "id": "cef8e64d",
   "metadata": {},
   "source": [
    "Microservice Istio Sample\n",
    "-------------------------------------\n",
    "\n",
    "Das [Microservice Istio Sample](https://github.com/ewolff/microservice-istio) von \n",
    "Eberhard Wolff, ist eine vereinfachte Variante des Messaging Beispiels und gibt einen Einblick in Istio.\n",
    "\n",
    "Es kann wie folgt gestartet werden:\n"
   ]
  },
  {
   "cell_type": "code",
   "execution_count": null,
   "id": "2ebbd926",
   "metadata": {},
   "outputs": [],
   "source": [
    "! kubectl label namespace default istio-injection=enabled\n",
    "! kubectl apply -f https://raw.githubusercontent.com/ewolff/microservice-istio/master/microservice-istio-demo/infrastructure-dockerhub.yaml\n",
    "! kubectl apply -f https://raw.githubusercontent.com/ewolff/microservice-istio/master/microservice-istio-demo/microservices-native-dockerhub.yaml"
   ]
  },
  {
   "cell_type": "markdown",
   "id": "52df0b93",
   "metadata": {},
   "source": [
    "Da wir keinen LoadBalancer haben müssen wir mit einem kleinen Shellscript selber die IP des Clusters und der gemappte Port (port-based-routing) als URL aufbereiten.\n",
    "\n",
    "Wird dieser URL in einem neuen Tab geöffnet, wird ein Menu angezeigt."
   ]
  },
  {
   "cell_type": "code",
   "execution_count": null,
   "id": "2037f804",
   "metadata": {},
   "outputs": [],
   "source": [
    "%%bash\n",
    "[ ! -f ~/work/server-ip ] && { echo \"replace-with-server-ip\" >~/work/server-ip; }\n",
    "PORT=$(kubectl -n istio-system get service istio-ingressgateway -o jsonpath='{.spec.ports[?(@.name==\"http2\")].nodePort}')\n",
    "echo http://$(cat ~/work/server-ip):$PORT/"
   ]
  },
  {
   "cell_type": "markdown",
   "id": "2bd13d1d",
   "metadata": {},
   "source": [
    "- - - \n",
    "\n",
    "Tools\n",
    "=====\n",
    "\n",
    "Kiali — Observability\n",
    "------------------------------\n",
    "[Kiali]() ist eine Web UI für Istio. Es hilft Ihnen, die Struktur Ihres Servicenetzes und deren Topologie zu verstehen.\n",
    "\n",
    "Jaeger — Tracing\n",
    "-------------------------\n",
    "\n",
    "Die Ablaufinformationen für Kiali werden durch das verteiltes Tracing-System [Jaeger]() bereitgestellt.\n",
    "\n",
    "Beide Tools sind jedoch nur auf dem Cluster zugänglich. Deshalb müssen wir diese zuerst freischalten bzw. gegen NodePort öffnen:"
   ]
  },
  {
   "cell_type": "code",
   "execution_count": null,
   "id": "c39e9f79",
   "metadata": {},
   "outputs": [],
   "source": [
    "! kubectl get service -n istio-system -l app=kiali  -o yaml | sed 's/ClusterIP/NodePort/g' | kubectl apply -f -\n",
    "! kubectl get service -n istio-system -l app=jaeger -o yaml | sed 's/ClusterIP/NodePort/g' | kubectl apply -f -"
   ]
  },
  {
   "cell_type": "code",
   "execution_count": null,
   "id": "2f22e68d",
   "metadata": {},
   "outputs": [],
   "source": [
    "! echo \"Kiali   UI: http://\"$(cat ~/work/server-ip)\":\"$(kubectl get -n istio-system service -l app=kiali -o=jsonpath='{ .items[0].spec.ports[0].nodePort }')\n",
    "! echo \"Jaeger  UI: http://\"$(cat ~/work/server-ip)\":\"$(kubectl get -n istio-system service/tracing -o jsonpath='{.spec.ports[?(@.name==\"http-query\")].nodePort}')"
   ]
  },
  {
   "cell_type": "markdown",
   "id": "629e5c7d",
   "metadata": {},
   "source": [
    "Prometheus\n",
    "----------\n",
    "\n",
    "Istio enthält eine Installation von [Prometheus](https://prometheus.io/). \n",
    "\n",
    "Dieses Werkzeug sammelt Metriken von den Proxies ein, über welche die Microservices miteinander kommunizieren. Es stellt daher die Basis für\n",
    "das Monitoring dar. "
   ]
  },
  {
   "cell_type": "code",
   "execution_count": null,
   "id": "2ce9f3d0",
   "metadata": {},
   "outputs": [],
   "source": [
    "! kubectl get service -n istio-system -l app=prometheus -o yaml | sed 's/ClusterIP/NodePort/g' | kubectl apply -f -\n",
    "! echo \"Prometheus UI: http://\"$(cat ~/work/server-ip)\":\"$(kubectl get -n istio-system service -l app=prometheus -o=jsonpath='{ .items[0].spec.ports[0].nodePort }')"
   ]
  },
  {
   "cell_type": "markdown",
   "id": "a116b209",
   "metadata": {},
   "source": [
    "Grafana\n",
    "-------\n",
    "\n",
    "Prometheus bietet nur sehr limitierte Dashboards an. Deswegen hat Istio außerdem eine Installation von [Grafana](https://grafana.com/), das viel bessere Graphen und\n",
    "Dashboards anbietet."
   ]
  },
  {
   "cell_type": "code",
   "execution_count": null,
   "id": "efab1cee",
   "metadata": {},
   "outputs": [],
   "source": [
    "! kubectl get -n istio-system service/grafana -o yaml | sed 's/ClusterIP/NodePort/g' | kubectl apply -f -\n",
    "! echo \"Grafana UI: http://\"$(cat ~/work/server-ip)\":\"$(kubectl get -n istio-system service/grafana -o=jsonpath='{ .spec.ports[0].nodePort }')"
   ]
  },
  {
   "cell_type": "markdown",
   "id": "6d0dca61",
   "metadata": {},
   "source": [
    "Metriken sind nur sinnvoll, wenn das System unter Last ist. Das nachfolgende Shell-Skript nutzt curl, um Shipping und Order 1.000 mal aufzurufen."
   ]
  },
  {
   "cell_type": "code",
   "execution_count": null,
   "id": "75330824",
   "metadata": {},
   "outputs": [],
   "source": [
    "%%bash\n",
    "[ ! -f ~/work/server-ip ] && { echo \"replace-with-server-ip\" >~/work/server-ip; }\n",
    "PORT=$(kubectl -n istio-system get service istio-ingressgateway -o jsonpath='{.spec.ports[?(@.name==\"http2\")].nodePort}')\n",
    "\n",
    "for i in `seq 1 1000`;\n",
    "do\n",
    "    curl -s -o /dev/null -I -w \"%{http_code}\" http://shipping\n",
    "    curl -s -o /dev/null -I -w \"%{http_code}\" http://order\n",
    "    curl -s -o /dev/null -I -w \"%{http_code}\" http://invoicing    \n",
    "    echo\n",
    "done"
   ]
  },
  {
   "cell_type": "code",
   "execution_count": null,
   "id": "4c72a00f",
   "metadata": {},
   "outputs": [],
   "source": []
  }
 ],
 "metadata": {
  "kernelspec": {
   "display_name": "Python 3 (ipykernel)",
   "language": "python",
   "name": "python3"
  },
  "language_info": {
   "codemirror_mode": {
    "name": "ipython",
    "version": 3
   },
   "file_extension": ".py",
   "mimetype": "text/x-python",
   "name": "python",
   "nbconvert_exporter": "python",
   "pygments_lexer": "ipython3",
   "version": "3.9.6"
  }
 },
 "nbformat": 4,
 "nbformat_minor": 5
}
