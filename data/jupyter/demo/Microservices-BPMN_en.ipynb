{
 "cells": [
  {
   "cell_type": "markdown",
   "metadata": {},
   "source": [
    "BPMN Workflow (Microservices)\n",
    "----------------------------------------------\n",
    "\n",
    "![](images/Microservices-BPMN.png)\n",
    "\n",
    "- - -\n",
    "\n",
    "The [Business Process Model and Notation](https://de.wikipedia.org/wiki/Business_Process_Model_and_Notation) (BPMN, German business process model and notation) is a graphical specification language in business informatics and process management. It provides symbols that technical, method and IT specialists can use to model and document business processes and workflows.\n",
    "\n",
    "[Camunda BPM](https://camunda.com/de/) is a free workflow management system written in Java that allows business processes to be defined and executed in BPMN 2.0.\n",
    "\n",
    "The following BPMN example is based on the blog entry [Use Camunda without touching Java and get an easy-to-use REST-based orchestration and workflow engine](https://blog.bernd-ruecker.com/use-camunda-without-touching-java-and-get-an-easy-to-use-rest-based-orchestration-and-workflow-7bdf25ac198e) by Bernd Rücker.\n",
    "\n",
    "- - -\n",
    "The example consists of the following microservices\n",
    "\n",
    "* A BPMN **Workflow Engine** (Camunda) with an invoice approval process.\n",
    "* A **frontend** implemented in HTML and JS to start the above process.\n",
    "* A **backend** to post the invoices implemented in Java."
   ]
  },
  {
   "cell_type": "code",
   "execution_count": null,
   "metadata": {},
   "outputs": [],
   "source": [
    "! kubectl apply -f https://raw.githubusercontent.com/mc-b/misegr/master/bpmn/bpmn-backend.yaml\n",
    "! kubectl apply -f https://raw.githubusercontent.com/mc-b/misegr/master/bpmn/bpmn-frontend.yaml\n",
    "! kubectl apply -f https://raw.githubusercontent.com/mc-b/misegr/master/bpmn/camunda.yaml"
   ]
  },
  {
   "cell_type": "markdown",
   "metadata": {},
   "source": [
    "- - -\n",
    "After starting the microservices we need to publish the BPMN process in the workflow engine."
   ]
  },
  {
   "cell_type": "code",
   "execution_count": null,
   "metadata": {},
   "outputs": [],
   "source": [
    "! wget https://raw.githubusercontent.com/mc-b/bpmn-tutorial/master/RechnungStep3.bpmn\n",
    "! curl -w \"\\n\" -H \"Accept: application/json\" -F \"deployment-name=rechnung\" -F \"enable-duplicate-filtering=true\" -F \"deploy-changed-only=true\" -F \"RechnungStep3.bpmn=@RechnungStep3.bpmn\" http://camunda:8080/engine-rest/deployment/create    "
   ]
  },
  {
   "cell_type": "markdown",
   "metadata": {},
   "source": [
    "- - -\n",
    "Now we can enter new invoices via the frontend and view them in the workflow engine. The URLs are as follows:"
   ]
  },
  {
   "cell_type": "code",
   "execution_count": null,
   "metadata": {},
   "outputs": [],
   "source": [
    "! echo \"BPMN Workflow Engine: http://\"$(cat ~/work/server-ip)/camunda # User/Password: demo\"\n",
    "! echo \"Frontend            : http://\"$(cat ~/work/server-ip)/frontend/"
   ]
  },
  {
   "cell_type": "markdown",
   "metadata": {},
   "source": [
    "In the `Cockpit` under `Process Definitions` a process `InvoiceStep3` should be visible. If this is missing, run the command above again to publish the process.\n",
    "\n",
    "Using the frontend or following command we can start this process. The started process can then be seen under `Tasklist`.\n"
   ]
  },
  {
   "cell_type": "code",
   "execution_count": null,
   "metadata": {},
   "outputs": [],
   "source": [
    "%%bash\n",
    "curl \\\n",
    "-H \"Content-Type: application/json\" \\\n",
    "-X POST \\\n",
    "-d '{ \"variables\": { \"rnr\": {\"value\": \"123\", \"type\": \"long\"}, \"rbetrag\": {\"value\": \"200.00\", \"type\": \"String\"} } }' \\\n",
    "http://camunda:8080/engine-rest/process-definition/key/RechnungStep3/start"
   ]
  },
  {
   "cell_type": "markdown",
   "metadata": {},
   "source": [
    "- - -\n",
    "Clean up"
   ]
  },
  {
   "cell_type": "code",
   "execution_count": null,
   "metadata": {},
   "outputs": [],
   "source": [
    "! kubectl delete -f https://raw.githubusercontent.com/mc-b/misegr/master/bpmn/bpmn-backend.yaml\n",
    "! kubectl delete -f https://raw.githubusercontent.com/mc-b/misegr/master/bpmn/bpmn-frontend.yaml\n",
    "! kubectl delete -f https://raw.githubusercontent.com/mc-b/misegr/master/bpmn/camunda.yaml"
   ]
  },
  {
   "cell_type": "code",
   "execution_count": null,
   "metadata": {},
   "outputs": [],
   "source": []
  }
 ],
 "metadata": {
  "kernelspec": {
   "display_name": "Python 3 (ipykernel)",
   "language": "python",
   "name": "python3"
  },
  "language_info": {
   "codemirror_mode": {
    "name": "ipython",
    "version": 3
   },
   "file_extension": ".py",
   "mimetype": "text/x-python",
   "name": "python",
   "nbconvert_exporter": "python",
   "pygments_lexer": "ipython3",
   "version": "3.9.6"
  }
 },
 "nbformat": 4,
 "nbformat_minor": 2
}
