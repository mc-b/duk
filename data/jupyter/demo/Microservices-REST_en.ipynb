{
 "cells": [
  {
   "cell_type": "markdown",
   "metadata": {},
   "source": [
    "Microservices - REST (Synchron)\n",
    "-------------------------------\n",
    "\n",
    "![](images/Microservices-REST.png)\n",
    "\n",
    "Source: Book Microservices Recipes\n",
    "- - -\n",
    "\n",
    "The example consists of three microservices: **Order**, **Customer** and **Catalog**.\n",
    "\n",
    "**Order** uses **Catalog** and **Customer** with REST interface. In addition, each microservice offers some HTML pages.\n",
    "\n",
    "In addition, an Apache web server is installed in the example, which allows the user to easily access the system with a website.\n",
    "\n",
    "- - -\n",
    "\n",
    "First we create the Kubernetes namespace ms-rest and label it so that Kiali can collect information."
   ]
  },
  {
   "cell_type": "code",
   "execution_count": null,
   "metadata": {},
   "outputs": [],
   "source": [
    "! kubectl create namespace ms-rest\n",
    "! kubectl label  namespace ms-rest istio-injection=enabled"
   ]
  },
  {
   "cell_type": "markdown",
   "metadata": {},
   "source": [
    "Now is a good time to launch the Kubernetes Dashboard and select the \"ms-rest\" namespace there.\n",
    "\n",
    "Then we see how the next step is to create the microservices."
   ]
  },
  {
   "cell_type": "code",
   "execution_count": null,
   "metadata": {},
   "outputs": [],
   "source": [
    "%%bash\n",
    "kubectl apply -f https://raw.githubusercontent.com/mc-b/misegr/master/ewolff/ms-kubernetes/apache.yaml\n",
    "kubectl apply -f https://raw.githubusercontent.com/mc-b/misegr/master/ewolff/ms-kubernetes/catalog.yaml\n",
    "kubectl apply -f https://raw.githubusercontent.com/mc-b/misegr/master/ewolff/ms-kubernetes/customer.yaml\n",
    "kubectl apply -f https://raw.githubusercontent.com/mc-b/misegr/master/ewolff/ms-kubernetes/order.yaml\n",
    "kubectl apply -f https://raw.githubusercontent.com/mc-b/misegr/master/ewolff/ms-kubernetes/postgres.yaml\n",
    "kubectl get service/apache --namespace ms-rest"
   ]
  },
  {
   "cell_type": "markdown",
   "metadata": {},
   "source": [
    "Since we don't have a load balancer, we have to prepare the IP of the cluster and the mapped port (port-based-routing) as a URL using a small shell script."
   ]
  },
  {
   "cell_type": "code",
   "execution_count": null,
   "metadata": {},
   "outputs": [],
   "source": [
    "! [ ! -f ~/work/server-ip ] && { echo \"replace-with-server-ip\" >~/work/server-ip; }\n",
    "! echo \"http://\"$(cat ~/work/server-ip)\":\"$(kubectl get service --namespace ms-rest apache -o=jsonpath='{ .spec.ports[0].nodePort }')"
   ]
  },
  {
   "cell_type": "markdown",
   "metadata": {},
   "source": [
    "---\n",
    "## Kiali - Observability\n",
    "\n",
    "\n",
    "Kiali from the Istio project helps to understand the structure (= service mesh) of the application and its microservices and interfaces."
   ]
  },
  {
   "cell_type": "code",
   "execution_count": null,
   "metadata": {},
   "outputs": [],
   "source": [
    "! kubectl get service -n istio-system -l app=kiali  -o yaml | sed 's/ClusterIP/NodePort/g' | kubectl apply -f -\n",
    "! echo \"Kiali   UI: http://\"$(cat ~/work/server-ip)\":\"$(kubectl get -n istio-system service -l app=kiali -o=jsonpath='{ .items[0].spec.ports[0].nodePort }')"
   ]
  },
  {
   "cell_type": "markdown",
   "metadata": {},
   "source": [
    "- - -\n",
    "## Jaeger - Tracing\n",
    "\n",
    "Jaeger is a system to track calls between microservices."
   ]
  },
  {
   "cell_type": "code",
   "execution_count": null,
   "metadata": {},
   "outputs": [],
   "source": [
    "! kubectl get service -n istio-system -l app=jaeger -o yaml | sed 's/ClusterIP/NodePort/g' | kubectl apply -f -\n",
    "! echo \"Jaeger  UI: http://\"$(cat ~/work/server-ip)\":\"$(kubectl get -n istio-system service/tracing -o jsonpath='{.spec.ports[?(@.name==\"http-query\")].nodePort}')"
   ]
  },
  {
   "cell_type": "markdown",
   "metadata": {},
   "source": [
    "- - -\n",
    "## Lasttest\n",
    "\n",
    "In order to make the connections visible, we generate a little traffic."
   ]
  },
  {
   "cell_type": "code",
   "execution_count": null,
   "metadata": {},
   "outputs": [],
   "source": [
    "%%bash\n",
    "for i in `seq 1 1000`;\n",
    "do\n",
    "    curl -s -o /dev/null -I -w \"%{http_code}\" http://apache.ms-rest/order/order\n",
    "    echo\n",
    "done"
   ]
  },
  {
   "cell_type": "markdown",
   "metadata": {},
   "source": [
    "- - -\n",
    "### REST Paradigma\n",
    "\n",
    "Representational State Transfer (abbreviated REST, more rarely also ReST) describes a programming paradigm for distributed systems.\n",
    "\n",
    "REST is an abstraction of the structure and behavior of the World Wide Web (HTTP GET, PUT, POST, DELETE).\n",
    "\n",
    "REST aims to create an architectural style that better represents the needs of the modern web. REST differs from other architectural styles primarily in the requirement for a uniform communication interface.\n",
    "\n",
    "To illustrate the REST paradigm, we execute several API calls against our microservices using `curl` (Windows `Invoke-WebRequest`):"
   ]
  },
  {
   "cell_type": "code",
   "execution_count": null,
   "metadata": {},
   "outputs": [],
   "source": [
    "! curl http://apache.ms-rest/customer/customer"
   ]
  },
  {
   "cell_type": "code",
   "execution_count": null,
   "metadata": {},
   "outputs": [],
   "source": [
    "! curl http://apache.ms-rest/catalog/catalog"
   ]
  },
  {
   "cell_type": "code",
   "execution_count": null,
   "metadata": {},
   "outputs": [],
   "source": [
    "! curl http://apache.ms-rest/order/order/<Ersetzen mit order id>"
   ]
  },
  {
   "attachments": {},
   "cell_type": "markdown",
   "metadata": {},
   "source": [
    "- - -\n",
    "\n",
    "### Resilience\n",
    "\n",
    "If the called microservice is not available at the moment, the caller must deal with the failure in such a way that it does not also fail.\n",
    "\n",
    "That's why on Kubernetes, we can launch multiple instances of the dependent microservices!\n",
    "\n",
    "\n",
    "\n"
   ]
  },
  {
   "cell_type": "code",
   "execution_count": null,
   "metadata": {},
   "outputs": [],
   "source": [
    "! kubectl --namespace ms-rest scale --replicas=2 deployment/customer\n",
    "! kubectl --namespace ms-rest scale --replicas=2 deployment/order\n",
    "! kubectl --namespace ms-rest scale --replicas=2 deployment/catalog\n",
    "! kubectl --namespace ms-rest get pods -o wide"
   ]
  },
  {
   "cell_type": "markdown",
   "metadata": {},
   "source": [
    "- - -\n",
    "\n",
    "Clean up"
   ]
  },
  {
   "cell_type": "code",
   "execution_count": null,
   "metadata": {},
   "outputs": [],
   "source": [
    "! kubectl delete namespace ms-rest"
   ]
  },
  {
   "cell_type": "markdown",
   "metadata": {},
   "source": [
    "- - -\n",
    "## Grafana\n",
    "\n",
    "Grafana is an open-source, cross-platform application for graphing data from various data sources such as B. InfluxDB, MySQL, PostgreSQL, Prometheus and Graphite. The recorded raw data can then be output in various display formats"
   ]
  },
  {
   "cell_type": "code",
   "execution_count": null,
   "metadata": {},
   "outputs": [],
   "source": [
    "! kubectl get service -n istio-system -l app.kubernetes.io/instance=grafana -o yaml | sed 's/ClusterIP/NodePort/g' | kubectl apply -f -\n",
    "! echo \"Grafana  UI: http://\"$(cat ~/work/server-ip)\":\"$(kubectl get -n istio-system service -l app.kubernetes.io/instance=grafana -o=jsonpath='{ .items[0].spec.ports[0].nodePort }')                                                         "
   ]
  },
  {
   "cell_type": "code",
   "execution_count": null,
   "metadata": {},
   "outputs": [],
   "source": []
  }
 ],
 "metadata": {
  "kernelspec": {
   "display_name": "Python 3 (ipykernel)",
   "language": "python",
   "name": "python3"
  },
  "language_info": {
   "codemirror_mode": {
    "name": "ipython",
    "version": 3
   },
   "file_extension": ".py",
   "mimetype": "text/x-python",
   "name": "python",
   "nbconvert_exporter": "python",
   "pygments_lexer": "ipython3",
   "version": "3.10.6"
  }
 },
 "nbformat": 4,
 "nbformat_minor": 2
}
