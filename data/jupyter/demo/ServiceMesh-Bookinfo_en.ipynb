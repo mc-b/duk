{
 "cells": [
  {
   "cell_type": "markdown",
   "metadata": {},
   "source": [
    "Service Mesh - Istio\n",
    "--------------------\n",
    "\n",
    "![](https://istio.io/latest/docs/ops/deployment/architecture/arch.svg)\n",
    "\n",
    "Source: istio.io\n",
    "\n",
    "- - -\n",
    "\n",
    "Cloud platforms offer numerous advantages to the companies that use them.\n",
    "\n",
    "To do this, developers have to use the microservices architecture pattern, which means that different versions of microservices quickly have to be operated in parallel.\n",
    "\n",
    "With the rich capabilities of [Istio](http://istio.io), one can successfully and efficiently run a distributed microservices architecture and secure, connect, and monitor microservices in a unified way.\n",
    "\n",
    "It is a fully open source service mesh built on top of existing distributed applications."
   ]
  },
  {
   "cell_type": "markdown",
   "metadata": {},
   "source": [
    "***\n",
    "### What is a service mesh?\n",
    "\n",
    "The term service mesh describes the network of microservices and the interactions between them.\n",
    "\n",
    "The larger and more complex a service mesh becomes, the more difficult it is to understand and manage.\n",
    "\n",
    "Requirements include discovery, load balancing, troubleshooting, metrics, and monitoring.\n",
    "\n",
    "A service mesh often has more complex operational requirements, such as A/B testing (evaluating two variants), canary rollouts, restrictions, access control, and end-to-end authentication.\n",
    "\n",
    "More information: [Istio Homepage](https://istio.io/docs/concepts/what-is-istio/)"
   ]
  },
  {
   "cell_type": "markdown",
   "metadata": {},
   "source": [
    "***\n",
    "### Installation\n",
    "\n",
    "Istio is already installed in the [duk-demo](https://github.com/mc-b/duk-demo) environment. Otherwise see project [duk-demo](https://github.com/mc-b/duk-demo)."
   ]
  },
  {
   "cell_type": "markdown",
   "metadata": {},
   "source": [
    "***\n",
    "### Book info example\n",
    "\n",
    "The sample application displays information about a book, much like a single catalog listing from an online bookstore. The page shows a description of the book, book details (ISBN, page number, etc.), and some book reviews.\n",
    "\n",
    "See [Bookinfo Application](https://istio.io/docs/examples/bookinfo/) and the [Bookinfo Application](https://istio.io/docs/examples/bookinfo/) for details.\n",
    "\n",
    "The sample application is part of the Istio sources. Therefore we need to download this first, then we create our own namespace with istio enabled and inside it the Bookinfo sample application.\n"
   ]
  },
  {
   "cell_type": "code",
   "execution_count": null,
   "metadata": {},
   "outputs": [],
   "source": [
    "! kubectl create namespace bookinfo\n",
    "! kubectl label namespace bookinfo istio-injection=enabled\n",
    "! kubectl apply -f https://raw.githubusercontent.com/istio/istio/release-1.13/samples/bookinfo/platform/kube/bookinfo.yaml -n bookinfo\n",
    "! kubectl apply -f https://raw.githubusercontent.com/istio/istio/release-1.13/samples/bookinfo/networking/bookinfo-gateway.yaml -n bookinfo\n",
    "! kubectl apply -f https://raw.githubusercontent.com/istio/istio/release-1.13/samples/bookinfo/networking/destination-rule-all.yaml -n bookinfo"
   ]
  },
  {
   "cell_type": "markdown",
   "metadata": {},
   "source": [
    "In addition to pods, services, etc., other resources were also created such as:\n",
    "* [Gateway](https://istio.io/docs/concepts/traffic-management/#gateways) - for access from outside the cluster\n",
    "* [Virtual Service](https://istio.io/docs/concepts/traffic-management/#virtual-services) - mit den URL Paths\n",
    "* [Routing Rule](https://istio.io/docs/concepts/traffic-management/#routing-rules) - with the rules what is forwarded where.\n"
   ]
  },
  {
   "cell_type": "code",
   "execution_count": null,
   "metadata": {},
   "outputs": [],
   "source": [
    "! kubectl get all,gw,vs,dr -n bookinfo"
   ]
  },
  {
   "cell_type": "code",
   "execution_count": null,
   "metadata": {},
   "outputs": [],
   "source": [
    "! kubectl -n bookinfo get destinationrules -o yaml"
   ]
  },
  {
   "cell_type": "markdown",
   "metadata": {},
   "source": [
    "But let's look at the application first.\n",
    "\n",
    "![](https://istio.io/latest/docs/examples/bookinfo/noistio.svg)\n",
    "\n",
    "Source: istio.io\n",
    "\n",
    "- - -\n",
    "\n",
    "The Bookinfo application is divided into four separate microservices:\n",
    "\n",
    "* productpage: The productpage microservice calls the details and reviews microservices to populate the page.\n",
    "* details: The details microservice contains book information.\n",
    "* reviews: The reviews microservice contains book reviews. It also calls the ratings microservice.\n",
    "* ratings: The ratings microservice contains book rank information attached to a book review.\n",
    "\n",
    "There are 3 versions of the reviews microservice:\n",
    "* Version v1 does not call the ratings microservice.\n",
    "* Version v2 calls the ratings microservice and displays each rating as 1 to 5 black stars.\n",
    "* Version v3 calls the ratings microservice and displays each rating as 1 to 5 red stars.\n",
    "\n",
    "This application are implemented in several programming language.\n",
    "\n",
    "The microservices have no dependencies and are not aware of Istio. They have also not been specifically modified to work with Istio.\n",
    "\n",
    "The user interface can be selected as follows:"
   ]
  },
  {
   "cell_type": "code",
   "execution_count": null,
   "metadata": {},
   "outputs": [],
   "source": [
    "%%bash\n",
    "[ ! -f ~/work/server-ip ] && { echo \"replace-with-server-ip\" >~/work/server-ip; }\n",
    "PORT=$(kubectl -n istio-system get service istio-ingressgateway -o jsonpath='{.spec.ports[?(@.name==\"http2\")].nodePort}')\n",
    "echo http://$(cat ~/work/server-ip):$PORT/productpage"
   ]
  },
  {
   "cell_type": "markdown",
   "metadata": {},
   "source": [
    "If we select the page several times, one of the three versions of the `reviews` microservice is called up alternately.\n",
    "\n",
    "To target:\n",
    "\n",
    "* access only one version, version 1 or 3\n",
    "* Call version 2 and 3 analogous to a canary rollout 50/50 percent\n",
    "\n",
    "prepared YAML files are available. Run each one individually and test the effect in the UI. It can take 1-2 minutes for the rules to become active."
   ]
  },
  {
   "cell_type": "code",
   "execution_count": null,
   "metadata": {},
   "outputs": [],
   "source": [
    "! kubectl apply -f https://raw.githubusercontent.com/istio/istio/release-1.13/samples/bookinfo/networking/virtual-service-all-v1.yaml -n bookinfo"
   ]
  },
  {
   "cell_type": "code",
   "execution_count": null,
   "metadata": {},
   "outputs": [],
   "source": [
    "! kubectl apply -f https://raw.githubusercontent.com/istio/istio/release-1.13/samples/bookinfo/networking/virtual-service-reviews-v3.yaml -n bookinfo"
   ]
  },
  {
   "cell_type": "code",
   "execution_count": null,
   "metadata": {},
   "outputs": [],
   "source": [
    "! kubectl apply -f https://raw.githubusercontent.com/istio/istio/release-1.13/samples/bookinfo/networking/virtual-service-reviews-v2-v3.yaml -n bookinfo"
   ]
  },
  {
   "cell_type": "markdown",
   "metadata": {},
   "source": [
    "Clean up"
   ]
  },
  {
   "cell_type": "code",
   "execution_count": null,
   "metadata": {},
   "outputs": [],
   "source": [
    "! kubectl delete namespace bookinfo"
   ]
  },
  {
   "cell_type": "code",
   "execution_count": null,
   "metadata": {},
   "outputs": [],
   "source": []
  }
 ],
 "metadata": {
  "kernelspec": {
   "display_name": "Python 3 (ipykernel)",
   "language": "python",
   "name": "python3"
  },
  "language_info": {
   "codemirror_mode": {
    "name": "ipython",
    "version": 3
   },
   "file_extension": ".py",
   "mimetype": "text/x-python",
   "name": "python",
   "nbconvert_exporter": "python",
   "pygments_lexer": "ipython3",
   "version": "3.9.6"
  }
 },
 "nbformat": 4,
 "nbformat_minor": 2
}
