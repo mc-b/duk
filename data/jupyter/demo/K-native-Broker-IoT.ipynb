{
 "cells": [
  {
   "cell_type": "markdown",
   "id": "b774f43f",
   "metadata": {},
   "source": [
    "Übung: IoT Broker und Filter mit K-native\n",
    "-----------------------------\n",
    "\n",
    "![](https://user-images.githubusercontent.com/16281246/116248768-1fe56080-a73a-11eb-9a85-8bdccb82d16c.png)\n",
    "\n",
    "Quelle: K-native\n",
    "\n",
    "- - - \n",
    "\n",
    "**Broker**\n",
    "Ein Broker in Knative ist eine zentrale Komponente, die als Verteiler von Ereignissen (Events) fungiert. Er empfängt Ereignisse von verschiedenen Quellen und sorgt dafür, dass diese an die richtigen Abonnenten weitergeleitet werden. Ein Broker besteht aus zwei Hauptteilen:\n",
    "\n",
    "* Ingress: Hier kommen die Ereignisse an.\n",
    "* Channel: Ein internes Kommunikationssystem, das die Ereignisse an die Abonnenten weiterleitet.\n",
    "\n",
    "**Filter (Trigger)**\n",
    "Ein Filter, auch Trigger genannt, definiert eine Regel, die bestimmt, welche Ereignisse an eine bestimmte Knative-Services oder Endpunkte gesendet werden. Triggers filtern die Ereignisse basierend auf bestimmten Kriterien, wie z.B. dem Ereignistyp oder anderen Attributen, und leiten sie dann an den entsprechenden Empfänger weiter.\n",
    "\n",
    "**Zusammenspiel von Broker und Trigger**\n",
    "* Ereignisaufnahme: Der Broker empfängt Ereignisse von verschiedenen Quellen.\n",
    "* Verteilung: Der Broker verteilt die Ereignisse an die entsprechenden Triggers.\n",
    "* Filterung: Triggers filtern die Ereignisse gemäß den definierten Regeln.\n",
    "* Zustellung: Gefilterte Ereignisse werden an die entsprechenden Services oder Endpunkte zugestellt.\n",
    "\n",
    "Durch diese Architektur ermöglicht Knative eine lose Kopplung von Ereignisquellen und -empfängern, was die Skalierbarkeit und Flexibilität von serverlosen Anwendungen erhöht.\n",
    "\n",
    "- - -\n",
    "\n",
    "Zuerst erstellen wir den Kubernetes Namespace\n",
    "\n"
   ]
  },
  {
   "cell_type": "code",
   "execution_count": null,
   "id": "f14f856b",
   "metadata": {},
   "outputs": [],
   "source": [
    "import os\n",
    "os.environ['NS_IOT']='ms-iot'\n",
    "! kubectl create namespace ${NS_IOT}\n",
    "! # kubectl label  namespace ${NS_IOT} istio-injection=enabled"
   ]
  },
  {
   "cell_type": "markdown",
   "id": "551a0543",
   "metadata": {},
   "source": [
    "### Dashboard\n",
    "\n",
    "Jetzt ist ein guter Zeitpunkt um das Kubernetes Dashboard zu starten und dort im Pulldownmenu den Namespace \"ms-brkr\" auszuwählen.\n",
    "\n",
    "Wählt nachfolgenden Link an und aktzeptiert das Zertifikat um dann ohne Token, drückt \"Überspringen\" oder \"Skip\", ins Dashboard zu wechseln."
   ]
  },
  {
   "cell_type": "code",
   "execution_count": null,
   "id": "737bece3",
   "metadata": {},
   "outputs": [],
   "source": [
    "! echo \"https://\"$(cat ~/work/server-ip)\":8443\""
   ]
  },
  {
   "cell_type": "markdown",
   "id": "8459f2e4",
   "metadata": {},
   "source": [
    "Anschliessend folgen die Standard Microservices"
   ]
  },
  {
   "cell_type": "markdown",
   "id": "28e0b68d",
   "metadata": {},
   "source": [
    "Wir starten **kn-iot-consumer** und **kn-iot-pipe** mit genau einer Instanz."
   ]
  },
  {
   "cell_type": "code",
   "execution_count": null,
   "id": "696c6fc5",
   "metadata": {},
   "outputs": [],
   "source": [
    "%%bash\n",
    "kn service create kn-iot-consumer --scale 1 --image registry.gitlab.com/ch-mc-b/autoshop-ms/app/iot/iot-consumer:1.0.0 --namespace ${NS_IOT}\n",
    "kn service create kn-iot-pipe     --scale 1 --image registry.gitlab.com/ch-mc-b/autoshop-ms/app/iot/iot-pipe:1.0.0 --namespace ${NS_IOT}"
   ]
  },
  {
   "cell_type": "markdown",
   "id": "4f4d94e5",
   "metadata": {},
   "source": [
    "### Hack\n",
    "\n",
    "Damit die K-native Service wie normale Kubernetes Service ansprechbar sind, erzeugen wir Standard Services:"
   ]
  },
  {
   "cell_type": "code",
   "execution_count": null,
   "id": "906e36e6",
   "metadata": {},
   "outputs": [],
   "source": [
    "%%bash\n",
    "cat <<EOF | kubectl apply --namespace ${NS_IOT} -f - \n",
    "apiVersion: v1\n",
    "kind: Service\n",
    "metadata:\n",
    "  name: iot-alert\n",
    "spec:\n",
    "  selector:\n",
    "    serving.knative.dev/service: kn-iot-alert\n",
    "  ports:\n",
    "  - port: 8080\n",
    "    protocol: TCP\n",
    "    targetPort: 8080    \n",
    "---\n",
    "apiVersion: v1\n",
    "kind: Service\n",
    "metadata:\n",
    "  name: iot-consumer\n",
    "spec:\n",
    "  selector:\n",
    "    serving.knative.dev/service: kn-iot-consumer\n",
    "  ports:\n",
    "  - port: 8080\n",
    "    protocol: TCP\n",
    "    targetPort: 8080     \n",
    "---      \n",
    "apiVersion: v1\n",
    "kind: Service\n",
    "metadata:\n",
    "  name: iot-pipe\n",
    "spec:\n",
    "  selector:\n",
    "    serving.knative.dev/service: kn-iot-pipe\n",
    "  ports:\n",
    "  - port: 8080\n",
    "    protocol: TCP\n",
    "    targetPort: 8080     \n",
    "EOF"
   ]
  },
  {
   "cell_type": "markdown",
   "id": "7452d735",
   "metadata": {},
   "source": [
    "- - -\n",
    "### IoT-Services Menu\n",
    "\n",
    "Mittels des Menu können wir in die Microservices verzweigen und die empfangenen Nachrichten (Events) anschauen:"
   ]
  },
  {
   "cell_type": "code",
   "execution_count": null,
   "id": "824acacb",
   "metadata": {},
   "outputs": [],
   "source": [
    "%%bash\n",
    "cat <<%EOF% | kubectl --namespace ${NS_IOT} apply -f -\n",
    "apiVersion: v1\n",
    "kind: Pod\n",
    "metadata:\n",
    "  labels:\n",
    "    app.kubernetes.io/name: reverse-proxy\n",
    "  name: reverse-proxy\n",
    "spec:\n",
    "  containers:\n",
    "  - image: registry.gitlab.com/ch-mc-b/autoshop-ms/app/iot/reverse-proxy:1.0.0\n",
    "    name: reverse-proxy\n",
    "---    \n",
    "apiVersion: v1\n",
    "kind: Service\n",
    "metadata:\n",
    "  labels:\n",
    "    app.kubernetes.io/name: reverse-proxy\n",
    "  name: reverse-proxy\n",
    "spec:\n",
    "  ports:\n",
    "  - port: 8080\n",
    "    protocol: TCP\n",
    "    targetPort: 8080\n",
    "  selector:\n",
    "    app.kubernetes.io/name:  reverse-proxy\n",
    "  type: LoadBalancer\n",
    "%EOF%\n",
    "echo \"http://\"$(cat ~/work/server-ip)\":\"$(kubectl get service --namespace ${NS_IOT} reverse-proxy -o=jsonpath='{ .spec.ports[0].nodePort }')"
   ]
  },
  {
   "cell_type": "markdown",
   "id": "366d5d16",
   "metadata": {},
   "source": [
    "- - -\n",
    "### Broker\n",
    "\n",
    "Für die Kommunkation erstellen wir einen Default Broker und stellen sicher, dass der Brocker (Ingress) mittels Port von aussen erreichbar ist."
   ]
  },
  {
   "cell_type": "code",
   "execution_count": null,
   "id": "0a17382e",
   "metadata": {},
   "outputs": [],
   "source": [
    "! kn broker create default --namespace ${NS_IOT}\n",
    "! kubectl patch service broker-ingress -n knative-eventing -p '{\"spec\": {\"type\": \"LoadBalancer\"}}'"
   ]
  },
  {
   "cell_type": "markdown",
   "id": "08f5b950",
   "metadata": {},
   "source": [
    "- - -\n",
    "### Trigger\n",
    "\n",
    "Und drei Trigger welche gezielt die Nachrichten mit `type`: `alert`, `consumer` und `pipe` behandeln.\n",
    "\n",
    "`iot` wird an `consumer` und `pipe` gesendent die anderen nur an die entsprechenden Namensvetter."
   ]
  },
  {
   "cell_type": "code",
   "execution_count": null,
   "id": "f5efea10",
   "metadata": {},
   "outputs": [],
   "source": [
    "%%bash\n",
    "\n",
    "cat <<EOF | kubectl apply --namespace ${NS_IOT}  -f -\n",
    "apiVersion: eventing.knative.dev/v1\n",
    "kind: Trigger\n",
    "metadata:\n",
    "  name: iot-consumer-iot\n",
    "spec:\n",
    "  broker: default\n",
    "  filter:\n",
    "    attributes:\n",
    "      type: iot \n",
    "  subscriber:\n",
    "    ref:\n",
    "     apiVersion: serving.knative.dev/v1\n",
    "     kind: Service\n",
    "     name: kn-iot-consumer\n",
    "---\n",
    "apiVersion: eventing.knative.dev/v1\n",
    "kind: Trigger\n",
    "metadata:\n",
    "  name: iot-pipe-iot\n",
    "spec:\n",
    "  broker: default\n",
    "  filter:\n",
    "    attributes:\n",
    "      type: iot\n",
    "  subscriber:\n",
    "    ref:\n",
    "     apiVersion: serving.knative.dev/v1\n",
    "     kind: Service\n",
    "     name: kn-iot-pipe\n",
    "EOF"
   ]
  },
  {
   "cell_type": "code",
   "execution_count": null,
   "id": "49297a20",
   "metadata": {},
   "outputs": [],
   "source": [
    "%%bash\n",
    "cat <<EOF | kubectl apply --namespace ${NS_IOT} -f -\n",
    "apiVersion: eventing.knative.dev/v1\n",
    "kind: Trigger\n",
    "metadata:\n",
    "  name: iot-pipe\n",
    "spec:\n",
    "  broker: default\n",
    "  filter:\n",
    "    attributes:\n",
    "      type: iot-pipe \n",
    "  subscriber:\n",
    "    ref:\n",
    "     apiVersion: serving.knative.dev/v1\n",
    "     kind: Service\n",
    "     name: kn-iot-pipe\n",
    "EOF"
   ]
  },
  {
   "cell_type": "code",
   "execution_count": null,
   "id": "dacff6ec",
   "metadata": {},
   "outputs": [],
   "source": [
    "%%bash\n",
    "cat <<EOF | kubectl apply --namespace ${NS_IOT}  -f -\n",
    "apiVersion: eventing.knative.dev/v1\n",
    "kind: Trigger\n",
    "metadata:\n",
    "  name: iot-consumer\n",
    "spec:\n",
    "  broker: default\n",
    "  filter:\n",
    "    attributes:\n",
    "      type: iot-consumer\n",
    "  subscriber:\n",
    "    ref:\n",
    "     apiVersion: serving.knative.dev/v1\n",
    "     kind: Service\n",
    "     name: kn-iot-consumer\n",
    "EOF"
   ]
  },
  {
   "cell_type": "markdown",
   "id": "86b388a3",
   "metadata": {},
   "source": [
    "### Gesamtübersicht\n",
    "\n",
    "Die Subscriptions filtern `\"Ce-Type:` und leiten die Events weiter an die Microservices **consumer** und/oder **pipe**."
   ]
  },
  {
   "cell_type": "code",
   "execution_count": null,
   "id": "d0862729",
   "metadata": {},
   "outputs": [],
   "source": [
    "%%bash\n",
    "echo \"Broker URL (intern)\"\n",
    "kubectl get broker default -o jsonpath='{.status.address.url}' --namespace ${NS_IOT}\n",
    "echo \"\"\n",
    "echo \"------------------------\"\n",
    "echo \"Broker URL (extern)\"\n",
    "echo \"http://$(cat ~/work/server-ip):\"$(kubectl get svc broker-ingress -n knative-eventing -o jsonpath='{.spec.ports[?(@.port==80)].nodePort}')/${NS_IOT}/default\n",
    "echo \"------------------------\"\n",
    "echo \"Triggers\"\n",
    "kn trigger list --namespace ${NS_IOT}\n",
    "echo \"------------------------\"\n",
    "echo \"Microservice Menu\"\n",
    "echo \"http://$(cat ~/work/server-ip):\"$(kubectl get service --namespace ${NS_IOT} reverse-proxy -o=jsonpath='{ .spec.ports[0].nodePort }')"
   ]
  },
  {
   "cell_type": "markdown",
   "id": "1d4a1c27",
   "metadata": {},
   "source": [
    "- - -\n",
    "### Testen\n",
    "\n",
    "Wir senden zuerst an beide Microservices Daten **consumer** und **pipe**"
   ]
  },
  {
   "cell_type": "code",
   "execution_count": null,
   "id": "ef326f6d",
   "metadata": {},
   "outputs": [],
   "source": [
    "%%bash\n",
    "PORT=$(kubectl get svc broker-ingress -n knative-eventing -o jsonpath='{.spec.ports[?(@.port==80)].nodePort}')\n",
    "curl -s -X POST http://localhost:${PORT}/ms-iot/default \\\n",
    "-H \"Host: broker-ingress.knative-eventing.svc.cluster.local\" \\\n",
    "-H \"Ce-Id: iot-hello\" \\\n",
    "-H \"Ce-Specversion: 1.0\" \\\n",
    "-H \"Ce-Type: iot\" \\\n",
    "-H \"Ce-Source: curl\" \\\n",
    "-H \"Content-Type: text/plain\" \\\n",
    "-d '0xBC,25.0,30.0'"
   ]
  },
  {
   "cell_type": "markdown",
   "id": "5eb47f64",
   "metadata": {},
   "source": [
    "Dann senden wir einen Event an die Microservice **consumer**"
   ]
  },
  {
   "cell_type": "code",
   "execution_count": null,
   "id": "23275ecf",
   "metadata": {},
   "outputs": [],
   "source": [
    "%%bash\n",
    "PORT=$(kubectl get svc broker-ingress -n knative-eventing -o jsonpath='{.spec.ports[?(@.port==80)].nodePort}')\n",
    "curl -s -X POST http://localhost:${PORT}/ms-iot/default \\\n",
    "-H \"Host: broker-ingress.knative-eventing.svc.cluster.local\" \\\n",
    "-H \"Ce-Id: iot-hello\" \\\n",
    "-H \"Ce-Specversion: 1.0\" \\\n",
    "-H \"Ce-Type: iot-consumer\" \\\n",
    "-H \"Ce-Source: curl\" \\\n",
    "-H \"Content-Type: text/plain\" \\\n",
    "-d '0xBC,26.0,30.0'"
   ]
  },
  {
   "cell_type": "markdown",
   "id": "ab59a06f",
   "metadata": {},
   "source": [
    "Dann senden wir einen Event an den Microservice **pipe**"
   ]
  },
  {
   "cell_type": "code",
   "execution_count": null,
   "id": "83495e03",
   "metadata": {},
   "outputs": [],
   "source": [
    "%%bash\n",
    "curl -s -X POST http://10.152.183.194/ms-iot/default \\\n",
    "-H \"Ce-Id: iot-hello\" \\\n",
    "-H \"Host: broker-ingress.knative-eventing.svc.cluster.local\" \\\n",
    "-H \"Ce-Specversion: 1.0\" \\\n",
    "-H \"Ce-Type: iot-pipe\" \\\n",
    "-H \"Ce-Source: curl\" \\\n",
    "-H \"Content-Type: text/plain\" \\\n",
    "-d '0xBC,27.0,30.0'"
   ]
  },
  {
   "cell_type": "markdown",
   "id": "a531e041",
   "metadata": {},
   "source": [
    "- - -\n",
    "\n",
    "### Message Broker vs. K-native Eventing\n",
    "\n",
    "In einer Microservices-Architektur können Services direkt mit einem Message Broker wie Kafka kommunizieren, indem sie Nachrichten senden und empfangen. Dies ermöglicht eine robuste und skalierbare Kommunikation, erfordert jedoch, dass die Microservices die spezifischen APIs und Konfigurationen des Brokers kennen und verwalten.\n",
    "\n",
    "Mit K-native Eventing hingegen wird der Message Broker abstrahiert, wodurch die Microservices von den Details des Brokers entkoppelt werden. Knative Eventing bietet ein standardisiertes Eventing-Modell und erleichtert das Routing und Verwalten von Events. Dies ermöglicht eine flexiblere und einfacher zu verwaltende Architektur, da die Microservices sich auf das Verarbeiten von Events konzentrieren können, ohne sich um die Details der Broker-Implementierung kümmern zu müssen.\n",
    "\n",
    "Hier der gekürzte Code von **consumer** \n",
    "\n",
    "- - -\n",
    "\n",
    "    @app.route('/', methods=['POST'])\n",
    "    def receive_event():\n",
    "        if request.headers.get('Content-Type') == 'text/plain':\n",
    "            event_data = request.get_data(as_text=True)\n",
    "\n",
    "            if event_data and event_data.startswith(\"0x\"):\n",
    "                print(f\"value = {event_data}\")\n",
    "                sys.stdout.flush()\n",
    "                received_messages.append(event_data)\n",
    "                with open('/data/ml-data.csv', 'a', newline='') as csvfile:\n",
    "                    csvwriter = csv.writer(csvfile)\n",
    "                    csvwriter.writerow([event_data])\n",
    "\n",
    "            return jsonify({\"message\": \"Event received\"}), 200\n",
    "            \n",
    "- - -            \n",
    "und **pipe**\n",
    "\n",
    "    @app.route('/', methods=['POST'])\n",
    "    def receive_event():\n",
    "        if request.headers.get('Content-Type') == 'text/plain':\n",
    "            event_data = request.get_data(as_text=True)\n",
    "            values = event_data.split(',')\n",
    "\n",
    "            # Temperatur und Luftfeuchtigsensor\n",
    "            if values[0].strip() == \"0xBC\":\n",
    "                humtemp_data = {\n",
    "                    \"humtemp\": {\n",
    "                        \"temp\": values[1],\n",
    "                        \"hum\": values[2]\n",
    "                    }\n",
    "                }\n",
    "                received_messages.append(humtemp_data)\n",
    "                print(humtemp_data)\n",
    "                sys.stdout.flush()            \n",
    "                return jsonify(humtemp_data)"
   ]
  },
  {
   "cell_type": "markdown",
   "id": "67f12541",
   "metadata": {},
   "source": [
    "- - -\n",
    "\n",
    "Aufräumen\n"
   ]
  },
  {
   "cell_type": "code",
   "execution_count": null,
   "id": "2d7419ae",
   "metadata": {},
   "outputs": [],
   "source": [
    "! kubectl delete pod --all --namespace ${NS_IOT} --grace-period=0 --force\n",
    "! kubectl delete namespace ${NS_IOT} --force --grace-period=0"
   ]
  },
  {
   "cell_type": "code",
   "execution_count": null,
   "id": "7a3b2d01",
   "metadata": {},
   "outputs": [],
   "source": []
  },
  {
   "cell_type": "code",
   "execution_count": null,
   "id": "b80e6e4e",
   "metadata": {},
   "outputs": [],
   "source": []
  }
 ],
 "metadata": {
  "kernelspec": {
   "display_name": "Python 3 (ipykernel)",
   "language": "python",
   "name": "python3"
  },
  "language_info": {
   "codemirror_mode": {
    "name": "ipython",
    "version": 3
   },
   "file_extension": ".py",
   "mimetype": "text/x-python",
   "name": "python",
   "nbconvert_exporter": "python",
   "pygments_lexer": "ipython3",
   "version": "3.12.3"
  }
 },
 "nbformat": 4,
 "nbformat_minor": 5
}
