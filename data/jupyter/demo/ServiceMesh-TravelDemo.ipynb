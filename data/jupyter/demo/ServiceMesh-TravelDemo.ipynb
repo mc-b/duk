{
 "cells": [
  {
   "cell_type": "markdown",
   "id": "8d1810fd",
   "metadata": {},
   "source": [
    "# Travel Demo\n",
    "\n",
    "Diese Demoanwendung stellt mehrere Dienste bereit, die in drei Namespaces gruppiert sind.\n",
    "\n",
    "![](https://kiali.io/images/tutorial/02-02-travels-demo-design.png)\n",
    "\n",
    "Quelle: https://kiali.io/docs/tutorials/travels/02-install-travel-demo/\n",
    "- - - "
   ]
  },
  {
   "cell_type": "code",
   "execution_count": null,
   "id": "13a086b4",
   "metadata": {},
   "outputs": [],
   "source": [
    "%%bash\n",
    "kubectl create namespace travel-agency\n",
    "kubectl create namespace travel-portal\n",
    "kubectl create namespace travel-control\n",
    "kubectl label  namespace travel-agency istio-injection=enabled\n",
    "kubectl label  namespace travel-portal istio-injection=enabled\n",
    "kubectl label  namespace travel-control istio-injection=enabled\n",
    "kubectl apply -f https://raw.githubusercontent.com/kiali/demos/master/travels/travel_agency.yaml -n travel-agency\n",
    "kubectl apply -f https://raw.githubusercontent.com/kiali/demos/master/travels/travel_portal.yaml -n travel-portal\n",
    "kubectl apply -f https://raw.githubusercontent.com/kiali/demos/master/travels/travel_control.yaml -n travel-control"
   ]
  },
  {
   "cell_type": "markdown",
   "id": "5c75581f",
   "metadata": {},
   "source": [
    "##  Demo-Anwendung\n",
    "\n",
    "### Reiseportal-Namespace\n",
    "\n",
    "Die Travel Demo-Anwendung simuliert zwei Geschäftsdomänen, die in unterschiedlichen Namespaces organisiert sind.\n",
    "\n",
    "In einem ersten Namensraum namens Reiseportal werden mehrere Reiseshops bereitgestellt, in denen Benutzer Flüge, Hotels, Autos oder Versicherungen suchen und buchen können.\n",
    "\n",
    "Die Shop-Applikationen können sich je nach Anforderungsmerkmalen wie Kanal (Web oder Mobile) oder Benutzer (neu oder bestehend) unterschiedlich verhalten.\n",
    "\n",
    "Diese Workloads können unterschiedliche Arten von Datenverkehr erzeugen, um unterschiedliche reale Szenarien zu imitieren.\n",
    "\n",
    "Alle Portale verbrauchen einen Dienst namens travels , der im Reisebüro- Namespace bereitgestellt wird.\n",
    "\n",
    "### Reisebüro-Namespace\n",
    "\n",
    "Ein zweiter Namespace mit dem Namen Reisebüro hostet eine Reihe von Diensten, die erstellt wurden, um Angebote für Reisen bereitzustellen.\n",
    "\n",
    "Ein Hauptreisedienst wird der geschäftliche Einstiegspunkt für das Reisebüro sein. Es erhält einen Zielort und einen Benutzer als Parameter und berechnet alle Elemente, die ein Reisebudget ausmachen: Flugpreis, Unterkunft, Autoreservierung und Reiseversicherung.\n",
    "\n",
    "Jeder Dienst kann ein unabhängiges Angebot erstellen, und der Reisedienst muss diese dann zu einer einzigen Antwort zusammenfassen.\n",
    "\n",
    "Darüber hinaus können einige Benutzer, wie registrierte Benutzer, Zugang zu Sonderrabatten haben, die ebenfalls von einem externen Dienst verwaltet werden."
   ]
  },
  {
   "attachments": {},
   "cell_type": "markdown",
   "id": "01b22430",
   "metadata": {},
   "source": [
    "- - - \n",
    "## Öffnen Travel Demo für den Zugriff von Aussen\n",
    "\n",
    "### DNS Eintrag oder /etc/hosts\n",
    "\n",
    "Erstellt einen DNS Eintrag (z.B. in AWS Route 53) wenn der Server via IP-Adresse im Internet verfügbar ist.\n",
    "\n",
    "Ergänzt die Datei `/etc/hosts` wenn der Server nur im lokalen Netzwerk verfügbar ist.\n",
    "\n",
    "### Routing in Kubernetes\n",
    "\n",
    "Verwenden Sie den Anforderungs-Routing-Assistenten für den Steuerungsdienst , um eine Datenverkehrsregel zu generieren\n",
    "\n",
    "![](https://kiali.io/images/tutorial/03-03-service-actions.png)\n",
    "\n",
    "Verwenden Sie die Schaltfläche „Routing-Regel hinzufügen“, um eine Standardregel hinzuzufügen, bei der alle Anforderungen an die Kontroll- Workload weitergeleitet werden.\n",
    "\n",
    "![](https://kiali.io/images/tutorial/03-03-request-routing.png)\n",
    "\n",
    "Verwenden Sie die erweiterten Optionen, fügen Sie ein Gateway mit Host hinzu control.travel-control.istio-cluster.orgund erstellen Sie die Istio-Konfiguration.\n",
    "\n",
    "![](https://kiali.io/images/tutorial/03-03-create-gateway.png)\n",
    "\n",
    "Überprüfen Sie die generierte Istio-Konfiguration.\n",
    "\n",
    "![](https://kiali.io/images/tutorial/03-03-istio-config.png)\n",
    "\n",
    "[Original Dokumentation](https://kiali.io/docs/tutorials/travels/03-first-steps/)\n"
   ]
  },
  {
   "cell_type": "markdown",
   "id": "a4a65261",
   "metadata": {},
   "source": [
    "### Testen\n",
    "\n",
    "Testen Sie den Steuerungsdienst , in Ihrem Browser http://control.travel-control.istio-cluster.org (intern) oder bei einem externen DNS\n",
    "\n",
    "![](https://kiali.io/images/tutorial/03-03-test-gateway.png)"
   ]
  },
  {
   "cell_type": "code",
   "execution_count": null,
   "id": "8256d8fc",
   "metadata": {},
   "outputs": [],
   "source": [
    "%%bash\n",
    "PORT=$(kubectl -n istio-system get service istio-ingressgateway -o jsonpath='{.spec.ports[?(@.name==\"http2\")].nodePort}')\n",
    "echo http://travel.mc-b.ch:$PORT/"
   ]
  },
  {
   "cell_type": "markdown",
   "id": "61f70ab7",
   "metadata": {},
   "source": [
    "Sehen Sie sich den Reisesteuerungs - Namespace in Kiali an"
   ]
  },
  {
   "cell_type": "code",
   "execution_count": null,
   "id": "780f0852",
   "metadata": {},
   "outputs": [],
   "source": [
    "! kubectl get service -n istio-system -l app=kiali  -o yaml | sed 's/ClusterIP/NodePort/g' | kubectl apply -f -\n",
    "! echo \"Kiali   UI: http://\"$(cat ~/work/server-ip)\":\"$(kubectl get -n istio-system service -l app=kiali -o=jsonpath='{ .items[0].spec.ports[0].nodePort }')"
   ]
  },
  {
   "cell_type": "markdown",
   "id": "5a7c9ceb",
   "metadata": {},
   "source": [
    "![](https://kiali.io/images/tutorial/03-03-travel-control-graph.png)"
   ]
  },
  {
   "cell_type": "code",
   "execution_count": null,
   "id": "9ac340d0",
   "metadata": {},
   "outputs": [],
   "source": []
  }
 ],
 "metadata": {
  "kernelspec": {
   "display_name": "Python 3 (ipykernel)",
   "language": "python",
   "name": "python3"
  },
  "language_info": {
   "codemirror_mode": {
    "name": "ipython",
    "version": 3
   },
   "file_extension": ".py",
   "mimetype": "text/x-python",
   "name": "python",
   "nbconvert_exporter": "python",
   "pygments_lexer": "ipython3",
   "version": "3.9.6"
  }
 },
 "nbformat": 4,
 "nbformat_minor": 5
}
