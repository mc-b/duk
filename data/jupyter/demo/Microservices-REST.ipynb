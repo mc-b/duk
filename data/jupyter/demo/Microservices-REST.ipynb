{
 "cells": [
  {
   "cell_type": "markdown",
   "metadata": {},
   "source": [
    "Microservices - REST (Synchron)\n",
    "-------------------------------\n",
    "\n",
    "![](images/Microservices-REST.png)\n",
    "\n",
    "Quelle: Buch Microservices Rezepte\n",
    "- - -\n",
    "\n",
    "Das Beispiel besteht aus drei Microservices: **Order**, **Customer** und **Catalog**. \n",
    "\n",
    "**Order** nutzt **Catalog** und **Customer** mit der REST-Schnittstelle. Ausserdem bietet jeder Microservice einige HTML-Seiten an.\n",
    "\n",
    "Zusätzlich ist im Beispiel ein Apache-Webserver installiert, der dem Benutzer mit einer Webseite einen einfachen Einstieg in das System ermöglicht.\n",
    "\n",
    "Ebenso steht ein [Hystrix Dashboard](https://github.com/Netflix/Hystrix) als eigener Kubernetes-Pod zur Verfügung. Das Beispiel nutzt die Java-Library Hystrix22, um Resilience zu erreichen. Diese Bibliothek führt Aufrufe in einem anderen Thread Pool aus und implementiert unter anderem einen Timeout für die Aufrufe.\n",
    "\n"
   ]
  },
  {
   "cell_type": "code",
   "execution_count": null,
   "metadata": {},
   "outputs": [],
   "source": [
    "! kubectl apply -f https://raw.githubusercontent.com/mc-b/misegr/master/ewolff/ms-kubernetes/apache.yaml\n",
    "! kubectl apply -f https://raw.githubusercontent.com/mc-b/misegr/master/ewolff/ms-kubernetes/catalog.yaml\n",
    "! kubectl apply -f https://raw.githubusercontent.com/mc-b/misegr/master/ewolff/ms-kubernetes/customer.yaml\n",
    "! kubectl apply -f https://raw.githubusercontent.com/mc-b/misegr/master/ewolff/ms-kubernetes/hystrix.yaml\n",
    "! kubectl apply -f https://raw.githubusercontent.com/mc-b/misegr/master/ewolff/ms-kubernetes/order.yaml\n",
    "! kubectl apply -f https://raw.githubusercontent.com/mc-b/misegr/master/ewolff/ms-kubernetes/postgres.yaml\n",
    "! kubectl config view -o=jsonpath='{ .clusters[0].cluster.server }' | sed -e 's/https:/http:/' -e \"s/6443/$(kubectl get service apache --namespace ms-kubernetes -o=jsonpath='{ .spec.ports[0].nodePort }')/\"   \n"
   ]
  },
  {
   "cell_type": "markdown",
   "metadata": {},
   "source": [
    "Was Microservices zusammenspiel verfolgen wird in der Weave Scope Oberfläche.\n",
    "\n",
    "Mittels den nachfolgenden Befehlen wird die Weave Scope Oberfläche freigeschaltet."
   ]
  },
  {
   "cell_type": "code",
   "execution_count": null,
   "metadata": {},
   "outputs": [],
   "source": [
    "! kubectl get service weave-scope-app -n weave -o yaml | sed 's/ClusterIP/NodePort/' | kubectl apply -f -\n",
    "! echo $(kubectl config view -o=jsonpath='{ .clusters[0].cluster.server }' | sed -e 's/https:/http:/' -e \"s/6443/$(kubectl get service weave-scope-app --namespace weave -o=jsonpath='{ .spec.ports[0].nodePort }')/\")'/#!/state/{\"topologyId\":\"containers\",\"topologyOptions\":{\"containers\":{\"namespace\":[\"ms-kubernetes\"]}}}'"
   ]
  },
  {
   "cell_type": "markdown",
   "metadata": {},
   "source": [
    "- - -\n",
    "\n",
    "Aufräumen"
   ]
  },
  {
   "cell_type": "code",
   "execution_count": null,
   "metadata": {},
   "outputs": [],
   "source": [
    "! kubectl delete -f https://raw.githubusercontent.com/mc-b/misegr/master/ewolff/ms-kubernetes/apache.yaml\n",
    "! kubectl delete -f https://raw.githubusercontent.com/mc-b/misegr/master/ewolff/ms-kubernetes/catalog.yaml\n",
    "! kubectl delete -f https://raw.githubusercontent.com/mc-b/misegr/master/ewolff/ms-kubernetes/customer.yaml\n",
    "! kubectl delete -f https://raw.githubusercontent.com/mc-b/misegr/master/ewolff/ms-kubernetes/hystrix.yaml\n",
    "! kubectl delete -f https://raw.githubusercontent.com/mc-b/misegr/master/ewolff/ms-kubernetes/order.yaml\n",
    "! kubectl delete -f https://raw.githubusercontent.com/mc-b/misegr/master/ewolff/ms-kubernetes/postgres.yaml"
   ]
  },
  {
   "cell_type": "code",
   "execution_count": null,
   "metadata": {},
   "outputs": [],
   "source": []
  }
 ],
 "metadata": {
  "kernelspec": {
   "display_name": "Python 3",
   "language": "python",
   "name": "python3"
  },
  "language_info": {
   "codemirror_mode": {
    "name": "ipython",
    "version": 3
   },
   "file_extension": ".py",
   "mimetype": "text/x-python",
   "name": "python",
   "nbconvert_exporter": "python",
   "pygments_lexer": "ipython3",
   "version": "3.7.3"
  }
 },
 "nbformat": 4,
 "nbformat_minor": 2
}
