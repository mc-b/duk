{
 "cells": [
  {
   "cell_type": "markdown",
   "metadata": {},
   "source": [
    "Microservices - REST (Synchron)\n",
    "-------------------------------\n",
    "\n",
    "![](images/Microservices-REST.png)\n",
    "\n",
    "Quelle: Buch Microservices Rezepte\n",
    "- - -\n",
    "\n",
    "Das Beispiel besteht aus drei Microservices: **Order**, **Customer** und **Catalog**. \n",
    "\n",
    "**Order** nutzt **Catalog** und **Customer** mit der REST-Schnittstelle. Ausserdem bietet jeder Microservice einige HTML-Seiten an.\n",
    "\n",
    "Zusätzlich ist im Beispiel ein Apache-Webserver installiert, der dem Benutzer mit einer Webseite einen einfachen Einstieg in das System ermöglicht."
   ]
  },
  {
   "cell_type": "code",
   "execution_count": 3,
   "metadata": {},
   "outputs": [
    {
     "name": "stdout",
     "output_type": "stream",
     "text": [
      "service/apache unchanged\n",
      "deployment.apps/apache unchanged\n",
      "service/catalog unchanged\n",
      "deployment.apps/catalog unchanged\n",
      "service/customer unchanged\n",
      "deployment.apps/customer unchanged\n",
      "service/order unchanged\n",
      "deployment.apps/order unchanged\n",
      "service/postgres unchanged\n",
      "deployment.apps/postgres unchanged\n",
      "http://192.168.3.82:32280"
     ]
    }
   ],
   "source": [
    "! kubectl apply -f https://raw.githubusercontent.com/mc-b/misegr/master/ewolff/ms-kubernetes/apache.yaml\n",
    "! kubectl apply -f https://raw.githubusercontent.com/mc-b/misegr/master/ewolff/ms-kubernetes/catalog.yaml\n",
    "! kubectl apply -f https://raw.githubusercontent.com/mc-b/misegr/master/ewolff/ms-kubernetes/customer.yaml\n",
    "! kubectl apply -f https://raw.githubusercontent.com/mc-b/misegr/master/ewolff/ms-kubernetes/order.yaml\n",
    "! kubectl apply -f https://raw.githubusercontent.com/mc-b/misegr/master/ewolff/ms-kubernetes/postgres.yaml\n",
    "! kubectl config view -o=jsonpath='{ .clusters[0].cluster.server }' | sed -e 's/https:/http:/' -e \"s/6443/$(kubectl get service apache --namespace ms-kubernetes -o=jsonpath='{ .spec.ports[0].nodePort }')/\"   \n"
   ]
  },
  {
   "cell_type": "markdown",
   "metadata": {},
   "source": [
    "Das Microservices Zusammenspiel verfolgen wird in der Weave Scope Oberfläche.\n",
    "\n",
    "Mittels den nachfolgenden Befehlen wird der Port der Weave Scope Oberfläche gegen aussen (IP VM) freigeschaltet."
   ]
  },
  {
   "cell_type": "code",
   "execution_count": 4,
   "metadata": {},
   "outputs": [
    {
     "name": "stdout",
     "output_type": "stream",
     "text": [
      "service/weave-scope-app configured\n",
      "http://192.168.3.82:31799/#!/state/{\"topologyId\":\"containers\",\"topologyOptions\":{\"containers\":{\"namespace\":[\"ms-kubernetes\"]}}}\n"
     ]
    }
   ],
   "source": [
    "! kubectl get service weave-scope-app -n weave -o yaml | sed 's/ClusterIP/NodePort/' | kubectl apply -f -\n",
    "! echo $(kubectl config view -o=jsonpath='{ .clusters[0].cluster.server }' | sed -e 's/https:/http:/' -e \"s/6443/$(kubectl get service weave-scope-app --namespace weave -o=jsonpath='{ .spec.ports[0].nodePort }')/\")'/#!/state/{\"topologyId\":\"containers\",\"topologyOptions\":{\"containers\":{\"namespace\":[\"ms-kubernetes\"]}}}'"
   ]
  },
  {
   "cell_type": "markdown",
   "metadata": {},
   "source": [
    "***\n",
    "### REST Paradigma\n",
    "\n",
    "Representational State Transfer (abgekürzt REST, seltener auch ReST) bezeichnet ein Programmierparadigma für verteilte Systeme.\n",
    "\n",
    "REST ist eine Abstraktion der Struktur und des Verhaltens des World Wide Web (HTTP GET, PUT, POST, DELETE).\n",
    "\n",
    "REST hat das Ziel, einen Architekturstil zu schaffen, der die Anforderungen des modernen Web besser darstellt. Dabei unterscheidet sich REST vor allem in der Forderung nach einer einheitlichen Kommunikation Schnittstelle von anderen Architekturstilen.\n",
    "\n",
    "Um das REST Paradigma zu verdeutlichen, führen wir mittels `curl` (Windows `Invoke-WebRequest`) mehrere API Aufrufe gegen unsere Microservices aus:"
   ]
  },
  {
   "cell_type": "code",
   "execution_count": null,
   "metadata": {},
   "outputs": [],
   "source": [
    "! curl http://apache.ms-kubernetes/customer/customer"
   ]
  },
  {
   "cell_type": "code",
   "execution_count": null,
   "metadata": {},
   "outputs": [],
   "source": [
    "! curl http://apache.ms-kubernetes/catalog/catalog"
   ]
  },
  {
   "cell_type": "code",
   "execution_count": null,
   "metadata": {},
   "outputs": [],
   "source": [
    "! curl http://apache.ms-kubernetes/order/order/<Ersetzen mit order id>"
   ]
  },
  {
   "cell_type": "markdown",
   "metadata": {},
   "source": [
    "***\n",
    "### ReplicaSet\n",
    "\n",
    "Um die ReplicaSet Funktionalität zu Demonstrieren, setzen wir die Anzahl der Pods `customer, order, catalog` auf 3 und schauen uns das Ergebnis an."
   ]
  },
  {
   "cell_type": "code",
   "execution_count": 11,
   "metadata": {},
   "outputs": [
    {
     "name": "stdout",
     "output_type": "stream",
     "text": [
      "deployment.apps/customer scaled\n",
      "deployment.apps/order scaled\n",
      "deployment.apps/catalog scaled\n",
      "NAME                        READY   STATUS    RESTARTS   AGE\n",
      "apache-7857897746-ttw2l     1/1     Running   0          9m44s\n",
      "catalog-fb5d5cddd-fj5jw     1/1     Running   0          5m49s\n",
      "catalog-fb5d5cddd-hczld     1/1     Running   2          9m43s\n",
      "catalog-fb5d5cddd-qwdfl     1/1     Running   0          5m49s\n",
      "customer-564f7b76b9-47p48   1/1     Running   0          5m51s\n",
      "customer-564f7b76b9-bk2fk   1/1     Running   1          9m41s\n",
      "customer-564f7b76b9-j92rf   1/1     Running   0          5m51s\n",
      "order-84b7bfc75c-7kpfv      1/1     Running   1          9m40s\n",
      "order-84b7bfc75c-7kv2r      1/1     Running   0          5m50s\n",
      "order-84b7bfc75c-fff7m      1/1     Running   0          5m50s\n",
      "postgres-76f86d9567-dp65z   1/1     Running   0          9m38s\n"
     ]
    }
   ],
   "source": [
    "! kubectl --namespace rs scale --replicas=3 deployment/customer --namespace ms-kubernetes\n",
    "! kubectl --namespace rs scale --replicas=3 deployment/order --namespace ms-kubernetes\n",
    "! kubectl --namespace rs scale --replicas=3 deployment/catalog --namespace ms-kubernetes\n",
    "! kubectl get pods --namespace ms-kubernetes"
   ]
  },
  {
   "cell_type": "markdown",
   "metadata": {},
   "source": [
    "***\n",
    "### Deployments\n",
    "\n",
    "Das Menu vom `apache` Web Server zeigt immer noch das Hystrix Dashboard an. Dieses wird in einem Kubernetes Umfeld nicht mehr benötigt. Deshalb ersetzen wir das Container Image durch die neuste Version.\n"
   ]
  },
  {
   "cell_type": "code",
   "execution_count": 18,
   "metadata": {},
   "outputs": [
    {
     "name": "stdout",
     "output_type": "stream",
     "text": [
      "deployment.apps/apache image updated\r\n"
     ]
    }
   ],
   "source": [
    "! kubectl set image deployment/apache apache=ewolff/microservice-kubernetes-demo-apache:latest --namespace ms-kubernetes"
   ]
  },
  {
   "cell_type": "code",
   "execution_count": 19,
   "metadata": {},
   "outputs": [
    {
     "name": "stdout",
     "output_type": "stream",
     "text": [
      "Name:                   apache\r\n",
      "Namespace:              ms-kubernetes\r\n",
      "CreationTimestamp:      Mon, 25 Jan 2021 09:28:14 +0000\r\n",
      "Labels:                 <none>\r\n",
      "Annotations:            deployment.kubernetes.io/revision: 3\r\n",
      "Selector:               app=apache\r\n",
      "Replicas:               1 desired | 1 updated | 1 total | 1 available | 0 unavailable\r\n",
      "StrategyType:           RollingUpdate\r\n",
      "MinReadySeconds:        0\r\n",
      "RollingUpdateStrategy:  25% max unavailable, 25% max surge\r\n",
      "Pod Template:\r\n",
      "  Labels:  app=apache\r\n",
      "           group=web\r\n",
      "           tier=frontend\r\n",
      "  Containers:\r\n",
      "   apache:\r\n",
      "    Image:        ewolff/microservice-kubernetes-demo-apache:latest\r\n",
      "    Port:         80/TCP\r\n",
      "    Host Port:    0/TCP\r\n",
      "    Environment:  <none>\r\n",
      "    Mounts:       <none>\r\n",
      "  Volumes:        <none>\r\n",
      "Conditions:\r\n",
      "  Type           Status  Reason\r\n",
      "  ----           ------  ------\r\n",
      "  Available      True    MinimumReplicasAvailable\r\n",
      "  Progressing    True    NewReplicaSetAvailable\r\n",
      "OldReplicaSets:  <none>\r\n",
      "NewReplicaSet:   apache-cbb4bdff6 (1/1 replicas created)\r\n",
      "Events:\r\n",
      "  Type    Reason             Age   From                   Message\r\n",
      "  ----    ------             ----  ----                   -------\r\n",
      "  Normal  ScalingReplicaSet  17m   deployment-controller  Scaled up replica set apache-7857897746 to 1\r\n",
      "  Normal  ScalingReplicaSet  97s   deployment-controller  Scaled up replica set apache-5fbd45788d to 1\r\n",
      "  Normal  ScalingReplicaSet  94s   deployment-controller  Scaled down replica set apache-7857897746 to 0\r\n",
      "  Normal  ScalingReplicaSet  42s   deployment-controller  Scaled up replica set apache-cbb4bdff6 to 1\r\n",
      "  Normal  ScalingReplicaSet  32s   deployment-controller  Scaled down replica set apache-5fbd45788d to 0\r\n"
     ]
    }
   ],
   "source": [
    "! kubectl describe deployment/apache --namespace ms-kubernetes"
   ]
  },
  {
   "cell_type": "markdown",
   "metadata": {},
   "source": [
    "- - -\n",
    "\n",
    "Aufräumen"
   ]
  },
  {
   "cell_type": "code",
   "execution_count": null,
   "metadata": {},
   "outputs": [],
   "source": [
    "! kubectl delete -f https://raw.githubusercontent.com/mc-b/misegr/master/ewolff/ms-kubernetes/apache.yaml\n",
    "! kubectl delete -f https://raw.githubusercontent.com/mc-b/misegr/master/ewolff/ms-kubernetes/catalog.yaml\n",
    "! kubectl delete -f https://raw.githubusercontent.com/mc-b/misegr/master/ewolff/ms-kubernetes/customer.yaml\n",
    "! kubectl delete -f https://raw.githubusercontent.com/mc-b/misegr/master/ewolff/ms-kubernetes/hystrix.yaml\n",
    "! kubectl delete -f https://raw.githubusercontent.com/mc-b/misegr/master/ewolff/ms-kubernetes/order.yaml\n",
    "! kubectl delete -f https://raw.githubusercontent.com/mc-b/misegr/master/ewolff/ms-kubernetes/postgres.yaml"
   ]
  },
  {
   "cell_type": "code",
   "execution_count": null,
   "metadata": {},
   "outputs": [],
   "source": []
  }
 ],
 "metadata": {
  "kernelspec": {
   "display_name": "Python 3",
   "language": "python",
   "name": "python3"
  },
  "language_info": {
   "codemirror_mode": {
    "name": "ipython",
    "version": 3
   },
   "file_extension": ".py",
   "mimetype": "text/x-python",
   "name": "python",
   "nbconvert_exporter": "python",
   "pygments_lexer": "ipython3",
   "version": "3.8.6"
  }
 },
 "nbformat": 4,
 "nbformat_minor": 2
}
