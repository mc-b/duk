{
 "cells": [
  {
   "cell_type": "markdown",
   "metadata": {},
   "source": [
    "Asynchrone Microservices\n",
    "------------------------\n",
    "\n",
    "![](images/Microservices-Messaging.png)\n",
    "\n",
    "Quelle: Buch Microservices Rezepte\n",
    "- - -\n",
    "\n",
    "Das System besteht aus einem Microservice **order**, der eine Bestellung über die Weboberfläche entgegennimmt. \n",
    "\n",
    "Die Bestellung schickt der Bestellprozess dann als Record über Kafka an den Microservice für den Versand **shipping** und den Microservice für die Erstellung der Rechnung **invoicing**.\n",
    "\n",
    "Die Bestellung wird als JSON übertragen. So können der Rechnungs-Microservice und der Versand-Microservice aus der Datenstruktur jeweils die Daten auslesen, die für den jeweiligen Microservice relevant sind.\n",
    "\n",
    "Der Versand-Microservice und der Rechnungs-Microservice speichern die Informationen aus den Records in ihren eigenen Datenbank-Schemata. Alle Microservices nutzen eine gemeinsame Postgres-Datenbank.\n",
    "\n"
   ]
  },
  {
   "cell_type": "code",
   "execution_count": 1,
   "metadata": {},
   "outputs": [
    {
     "name": "stdout",
     "output_type": "stream",
     "text": [
      "service/apache created\n",
      "deployment.apps/apache created\n",
      "service/invoicing created\n",
      "deployment.apps/invoicing created\n",
      "service/kafka created\n",
      "deployment.apps/kafka created\n",
      "service/order created\n",
      "deployment.apps/order created\n",
      "service/postgres created\n",
      "deployment.apps/postgres created\n",
      "service/shipping created\n",
      "deployment.apps/shipping created\n",
      "service/zookeeper created\n",
      "deployment.apps/zookeeper created\n",
      "http://192.168.137.100:32180"
     ]
    }
   ],
   "source": [
    "! kubectl apply -f https://raw.githubusercontent.com/mc-b/misegr/master/ewolff/ms-kafka/apache.yaml\n",
    "! kubectl apply -f https://raw.githubusercontent.com/mc-b/misegr/master/ewolff/ms-kafka/invoicing.yaml\n",
    "! kubectl apply -f https://raw.githubusercontent.com/mc-b/misegr/master/ewolff/ms-kafka/kafka.yaml\n",
    "! kubectl apply -f https://raw.githubusercontent.com/mc-b/misegr/master/ewolff/ms-kafka/order.yaml\n",
    "! kubectl apply -f https://raw.githubusercontent.com/mc-b/misegr/master/ewolff/ms-kafka/postgres.yaml\n",
    "! kubectl apply -f https://raw.githubusercontent.com/mc-b/misegr/master/ewolff/ms-kafka/shipping.yaml\n",
    "! kubectl apply -f https://raw.githubusercontent.com/mc-b/misegr/master/ewolff/ms-kafka/zookeeper.yaml\n",
    "! kubectl config view -o=jsonpath='{ .clusters[0].cluster.server }' | sed -e 's/https:/http:/' -e \"s/6443/$(kubectl get service apache --namespace ms-kafka -o=jsonpath='{ .spec.ports[0].nodePort }')/\""
   ]
  },
  {
   "cell_type": "markdown",
   "metadata": {},
   "source": [
    "Was Microservices zusammenspiel verfolgen wird in der Weave Scope Oberfläche.\n",
    "\n",
    "Mittels den nachfolgenden Befehlen wird die Weave Scope Oberfläche freigeschaltet."
   ]
  },
  {
   "cell_type": "code",
   "execution_count": 2,
   "metadata": {},
   "outputs": [
    {
     "name": "stdout",
     "output_type": "stream",
     "text": [
      "service/weave-scope-app configured\n",
      "http://192.168.137.100:30230/#!/state/{\"topologyId\":\"containers\",\"topologyOptions\":{\"containers\":{\"namespace\":[\"scsesi\",\"ms-kafka\"]},\"pods\":{\"namespace\":[\"scsesi\"]}}}\n"
     ]
    }
   ],
   "source": [
    "! kubectl get service weave-scope-app -n weave -o yaml | sed 's/ClusterIP/NodePort/' | kubectl apply -f -\n",
    "! echo $(kubectl config view -o=jsonpath='{ .clusters[0].cluster.server }' | sed -e 's/https:/http:/' -e \"s/6443/$(kubectl get service weave-scope-app --namespace weave -o=jsonpath='{ .spec.ports[0].nodePort }')/\")'/#!/state/{\"topologyId\":\"containers\",\"topologyOptions\":{\"containers\":{\"namespace\":[\"scsesi\",\"ms-kafka\"]}}}'"
   ]
  },
  {
   "cell_type": "markdown",
   "metadata": {},
   "source": [
    "- -  -\n",
    "Nachdem wir ein paar Aufträge erfasst haben, können wir uns die Meldungen im Messaging Server (Kafka) anschauen.\n"
   ]
  },
  {
   "cell_type": "code",
   "execution_count": 7,
   "metadata": {},
   "outputs": [
    {
     "name": "stdout",
     "output_type": "stream",
     "text": [
      "{\"id\":7,\"customer\":{\"customerId\":1,\"name\":\"Wolff\",\"firstname\":\"Eberhard\",\"email\":\"eberhard.wolff@gmail.com\"},\"updated\":1572524890165,\"shippingAddress\":{\"street\":\"\",\"zip\":\"\",\"city\":\"\"},\"billingAddress\":{\"street\":\"\",\"zip\":\"\",\"city\":\"\"},\"orderLine\":[{\"count\":89,\"item\":{\"itemId\":3,\"name\":\"iPod\",\"price\":42.0}}],\"numberOfLines\":1}\r\n"
     ]
    }
   ],
   "source": [
    "! kubectl exec -n ms-kafka  $(kubectl get po -l app=kafka -n ms-kafka -o=jsonpath='{ .items[0].metadata.name }') -- bash /opt/kafka/bin/kafka-console-consumer.sh --bootstrap-server localhost:9092 --topic order --from-beginning --timeout-ms 2000 "
   ]
  },
  {
   "cell_type": "markdown",
   "metadata": {},
   "source": [
    "- - -\n",
    "\n",
    "Aufräumen"
   ]
  },
  {
   "cell_type": "code",
   "execution_count": 8,
   "metadata": {},
   "outputs": [
    {
     "name": "stdout",
     "output_type": "stream",
     "text": [
      "service \"apache\" deleted\n",
      "deployment.apps \"apache\" deleted\n",
      "service \"invoicing\" deleted\n",
      "deployment.apps \"invoicing\" deleted\n",
      "service \"kafka\" deleted\n",
      "deployment.apps \"kafka\" deleted\n",
      "service \"order\" deleted\n",
      "deployment.apps \"order\" deleted\n",
      "service \"postgres\" deleted\n",
      "deployment.apps \"postgres\" deleted\n",
      "service \"shipping\" deleted\n",
      "deployment.apps \"shipping\" deleted\n",
      "service \"zookeeper\" deleted\n",
      "deployment.apps \"zookeeper\" deleted\n"
     ]
    }
   ],
   "source": [
    "! kubectl delete -f https://raw.githubusercontent.com/mc-b/misegr/master/ewolff/ms-kafka/apache.yaml\n",
    "! kubectl delete -f https://raw.githubusercontent.com/mc-b/misegr/master/ewolff/ms-kafka/invoicing.yaml\n",
    "! kubectl delete -f https://raw.githubusercontent.com/mc-b/misegr/master/ewolff/ms-kafka/kafka.yaml\n",
    "! kubectl delete -f https://raw.githubusercontent.com/mc-b/misegr/master/ewolff/ms-kafka/order.yaml\n",
    "! kubectl delete -f https://raw.githubusercontent.com/mc-b/misegr/master/ewolff/ms-kafka/postgres.yaml\n",
    "! kubectl delete -f https://raw.githubusercontent.com/mc-b/misegr/master/ewolff/ms-kafka/shipping.yaml\n",
    "! kubectl delete -f https://raw.githubusercontent.com/mc-b/misegr/master/ewolff/ms-kafka/zookeeper.yaml"
   ]
  },
  {
   "cell_type": "code",
   "execution_count": null,
   "metadata": {},
   "outputs": [],
   "source": []
  }
 ],
 "metadata": {
  "kernelspec": {
   "display_name": "Python 3",
   "language": "python",
   "name": "python3"
  },
  "language_info": {
   "codemirror_mode": {
    "name": "ipython",
    "version": 3
   },
   "file_extension": ".py",
   "mimetype": "text/x-python",
   "name": "python",
   "nbconvert_exporter": "python",
   "pygments_lexer": "ipython3",
   "version": "3.7.3"
  }
 },
 "nbformat": 4,
 "nbformat_minor": 2
}
