{
 "cells": [
  {
   "cell_type": "markdown",
   "metadata": {},
   "source": [
    "Microservices - ESI\n",
    "-------------------\n",
    "\n",
    "![](images/Microservices-ESI.png)\n",
    "\n",
    "Quelle: Buch Microservices Rezepte\n",
    "- - -\n",
    "\n",
    "\n",
    "Das [ESI Beispiel](https://github.com/mc-b/scs-esi) zeigt mittels ESI-Integration, wie Fragmente eines Common-Microservices in andere Microservices integriert werden können.\n",
    "\n",
    "Das Beispiel besteht aus\n",
    "* **scs-demo-esi-common** stellt allgemeine Kopf- und Fusszeilen für Services bereit. Es ist in Go geschrieben.\n",
    "* **scs-demo-esi-order** erledigt die Auftragsbearbeitung. Es verwendet Spring-Boot und ist in Java geschrieben.\n",
    "* **Varnish** interpretiert die ESI-Befehle (Edge Side Includes)\n",
    "\n",
    "**ESI**\n",
    "\n",
    "[Edge Side Includes](https://de.wikipedia.org/wiki/Edge_Side_Includes) oder ESI genannt, ist eine Auszeichnungssprache um Webseiten-Komponenten dynamisch zusammenzubauen und diese als fertige Seite auszuliefern. \n",
    "\n"
   ]
  },
  {
   "cell_type": "markdown",
   "metadata": {},
   "source": [
    "- - -\n",
    "Als erstes starten wir alle drei Microservices und Schauen uns das Resultat mittels öffnen des angezeiten URLs an:"
   ]
  },
  {
   "cell_type": "code",
   "execution_count": 11,
   "metadata": {},
   "outputs": [
    {
     "name": "stdout",
     "output_type": "stream",
     "text": [
      "service/common unchanged\n",
      "deployment.apps/common unchanged\n",
      "service/order unchanged\n",
      "deployment.apps/order unchanged\n",
      "service/varnish unchanged\n",
      "deployment.apps/scsesi-varnish unchanged\n",
      "http://192.168.137.100:32080"
     ]
    }
   ],
   "source": [
    "! kubectl apply -f https://raw.githubusercontent.com/mc-b/misegr/master/ewolff/SCS-ESI.yaml\n",
    "! kubectl config view -o=jsonpath='{ .clusters[0].cluster.server }' | sed -e 's/https:/http:/' -e \"s/6443/$(kubectl get service varnish --namespace scsesi -o=jsonpath='{ .spec.ports[0].nodePort }')/\""
   ]
  },
  {
   "cell_type": "markdown",
   "metadata": {},
   "source": [
    "- - -\n",
    "\n",
    "Um zu Verstehen was genau passiert müssen wir uns den produzierten HTML Code der Fachapplikation **scs-demo-esi-order** anschauen.\n",
    "\n",
    "Deshalb starten wie diesen Microservices separat und schauen uns, im Browser, mittels `Seitenquelltext anzeigen` den produzierten HTML Code an\n"
   ]
  },
  {
   "cell_type": "code",
   "execution_count": 14,
   "metadata": {},
   "outputs": [
    {
     "name": "stdout",
     "output_type": "stream",
     "text": [
      "service/order-standalone unchanged\n",
      "deployment.apps/order-standalone unchanged\n",
      "http://192.168.137.100:32090"
     ]
    }
   ],
   "source": [
    "! kubectl apply -f https://raw.githubusercontent.com/mc-b/misegr/master/ewolff/SCS-ESI-order.yaml\n",
    "! kubectl config view -o=jsonpath='{ .clusters[0].cluster.server }' | sed -e 's/https:/http:/' -e \"s/6443/$(kubectl get service order-standalone --namespace scsesi -o=jsonpath='{ .spec.ports[0].nodePort }')/\""
   ]
  },
  {
   "cell_type": "markdown",
   "metadata": {},
   "source": [
    "Wie die Microservices zusammenspielen, lässt sich visuell in der Weave Scope Oberfläche verfolgen.\n",
    "\n",
    "Mittels den nachfolgenden Befehlen wird die Weave Scope Oberfläche freigeschaltet."
   ]
  },
  {
   "cell_type": "code",
   "execution_count": 23,
   "metadata": {},
   "outputs": [
    {
     "name": "stdout",
     "output_type": "stream",
     "text": [
      "service/weave-scope-app configured\n",
      "http://192.168.137.100:30230/#!/state/{\"topologyId\":\"containers\",\"topologyOptions\":{\"containers\":{\"namespace\":[\"scsesi\"]},\"pods\":{\"namespace\":[\"scsesi\"]}}}\n"
     ]
    }
   ],
   "source": [
    "! kubectl get service weave-scope-app -n weave -o yaml | sed 's/ClusterIP/NodePort/' | kubectl apply -f -\n",
    "! echo $(kubectl config view -o=jsonpath='{ .clusters[0].cluster.server }' | sed -e 's/https:/http:/' -e \"s/6443/$(kubectl get service weave-scope-app --namespace weave -o=jsonpath='{ .spec.ports[0].nodePort }')/\")'/#!/state/{\"topologyId\":\"containers\",\"topologyOptions\":{\"containers\":{\"namespace\":[\"scsesi\"]},\"pods\":{\"namespace\":[\"scsesi\"]}}}'"
   ]
  },
  {
   "cell_type": "markdown",
   "metadata": {},
   "source": [
    "Aufräumen"
   ]
  },
  {
   "cell_type": "code",
   "execution_count": 24,
   "metadata": {},
   "outputs": [
    {
     "name": "stdout",
     "output_type": "stream",
     "text": [
      "service \"order-standalone\" deleted\n",
      "deployment.apps \"order-standalone\" deleted\n",
      "service \"common\" deleted\n",
      "deployment.apps \"common\" deleted\n",
      "service \"order\" deleted\n",
      "deployment.apps \"order\" deleted\n",
      "service \"varnish\" deleted\n",
      "deployment.apps \"scsesi-varnish\" deleted\n"
     ]
    }
   ],
   "source": [
    "! kubectl delete -f https://raw.githubusercontent.com/mc-b/misegr/master/ewolff/SCS-ESI-order.yaml\n",
    "! kubectl delete -f https://raw.githubusercontent.com/mc-b/misegr/master/ewolff/SCS-ESI.yaml"
   ]
  },
  {
   "cell_type": "code",
   "execution_count": null,
   "metadata": {},
   "outputs": [],
   "source": []
  }
 ],
 "metadata": {
  "kernelspec": {
   "display_name": "Python 3",
   "language": "python",
   "name": "python3"
  },
  "language_info": {
   "codemirror_mode": {
    "name": "ipython",
    "version": 3
   },
   "file_extension": ".py",
   "mimetype": "text/x-python",
   "name": "python",
   "nbconvert_exporter": "python",
   "pygments_lexer": "ipython3",
   "version": "3.7.3"
  }
 },
 "nbformat": 4,
 "nbformat_minor": 2
}
