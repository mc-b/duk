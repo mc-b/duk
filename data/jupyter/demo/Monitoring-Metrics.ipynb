{
 "cells": [
  {
   "cell_type": "markdown",
   "metadata": {},
   "source": [
    "Metrics\n",
    "----------\n",
    "\n",
    "Der Begriff Metrik kommt aus dem griechischen und bedeutet Messung. Dabei handelt es sich nach allgemeinem Verständnis um ein System von Kennzahlen oder um Verfahren zur Messung von quantifizierbaren Werten.\n",
    "\n",
    "Für ein einfaches Beispiel starten wir unsere Applikation bestehend aus den Microservices **Order**, **Customer** und **Catalog**. \n"
   ]
  },
  {
   "cell_type": "code",
   "execution_count": null,
   "metadata": {},
   "outputs": [],
   "source": [
    "%%bash\n",
    "kubectl create namespace ms-rest\n",
    "kubectl apply -f https://raw.githubusercontent.com/mc-b/misegr/master/ewolff/ms-kubernetes/apache.yaml\n",
    "kubectl apply -f https://raw.githubusercontent.com/mc-b/misegr/master/ewolff/ms-kubernetes/catalog.yaml\n",
    "kubectl apply -f https://raw.githubusercontent.com/mc-b/misegr/master/ewolff/ms-kubernetes/customer.yaml\n",
    "kubectl apply -f https://raw.githubusercontent.com/mc-b/misegr/master/ewolff/ms-kubernetes/order.yaml\n",
    "kubectl apply -f https://raw.githubusercontent.com/mc-b/misegr/master/ewolff/ms-kubernetes/postgres.yaml"
   ]
  },
  {
   "cell_type": "markdown",
   "metadata": {},
   "source": [
    "\n",
    "Sobald die Microservices gestartet sind, können wir deren Metrics Daten mittels dem Prefix `/metrics` abfragen\n",
    "\n",
    "Es werden u.a. folgende Informationen ausgegeben:\n",
    "* `counter.status.200.metrics` - Anzahl Aufrufe von /metrics\n",
    "* `counter.status.200.list.html`- Anzahl Zugriff auf die HTML Seiten der Applikation "
   ]
  },
  {
   "cell_type": "code",
   "execution_count": null,
   "metadata": {},
   "outputs": [],
   "source": [
    "%%bash\n",
    "kubectl get pods --namespace ms-rest \n",
    "echo \"\n",
    "--- Metrics Daten: customer ---\"\n",
    "curl -s http://apache.ms-rest/customer/metrics | grep counter\n",
    "echo \"\n",
    "--- Metrics Daten: catalog ---\"\n",
    "curl -s http://apache.ms-rest/catalog/metrics | grep counter"
   ]
  },
  {
   "cell_type": "markdown",
   "metadata": {},
   "source": [
    "Für `counter.status.200.list.html` sehen wir noch keine Einträge, weil wir die Microservices, bzw. deren Web Oberflächen noch nicht aufgerufen haben.\n",
    "\n",
    "Deshalb holen wir uns die URLs, damit wir die Web Oberflächen aufrufen können."
   ]
  },
  {
   "cell_type": "code",
   "execution_count": null,
   "metadata": {},
   "outputs": [],
   "source": [
    "! echo \"http://\"$(cat ~/work/server-ip)\":\"$(kubectl get service --namespace ms-rest apache -o=jsonpath='{ .spec.ports[0].nodePort }'/customer/list.html)\n",
    "! echo \"http://\"$(cat ~/work/server-ip)\":\"$(kubectl get service --namespace ms-rest apache -o=jsonpath='{ .spec.ports[0].nodePort }'/catalog/list.html)"
   ]
  },
  {
   "cell_type": "markdown",
   "metadata": {},
   "source": [
    "Nachdem die Web Oberflächen angewählt wurde, sind die Einträge `counter.status.200.list.html` sichtbar und wir können damit bestimmen wie oft diese angewählt wurden."
   ]
  },
  {
   "cell_type": "code",
   "execution_count": null,
   "metadata": {},
   "outputs": [],
   "source": [
    "%%bash\n",
    "echo \"--- Metrics Daten: customer ---\"\n",
    "curl -s http://apache.ms-rest/customer/metrics | grep counter\n",
    "echo \"\n",
    "--- Metrics Daten: catalog ---\"\n",
    "curl -s http://apache.ms-rest/catalog/metrics | grep counter"
   ]
  },
  {
   "cell_type": "markdown",
   "metadata": {},
   "source": [
    "---\n",
    "\n",
    "Aufräumen"
   ]
  },
  {
   "cell_type": "code",
   "execution_count": null,
   "metadata": {},
   "outputs": [],
   "source": [
    "! kubectl delete namespace ms-rest"
   ]
  },
  {
   "cell_type": "code",
   "execution_count": null,
   "metadata": {},
   "outputs": [],
   "source": []
  }
 ],
 "metadata": {
  "kernelspec": {
   "display_name": "Python 3 (ipykernel)",
   "language": "python",
   "name": "python3"
  },
  "language_info": {
   "codemirror_mode": {
    "name": "ipython",
    "version": 3
   },
   "file_extension": ".py",
   "mimetype": "text/x-python",
   "name": "python",
   "nbconvert_exporter": "python",
   "pygments_lexer": "ipython3",
   "version": "3.10.6"
  }
 },
 "nbformat": 4,
 "nbformat_minor": 2
}
