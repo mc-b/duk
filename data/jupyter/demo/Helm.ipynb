{
 "cells": [
  {
   "cell_type": "markdown",
   "metadata": {},
   "source": [
    "Helm\n",
    "----\n",
    "\n",
    "![](https://helm.sh/img/chart-illustration.png)\n",
    "\n",
    "Quelle: https://helm.sh/\n",
    "- - - \n",
    "\n",
    "[Helm](https://helm.sh/) ist ein Werkzeug zur Verwaltung von Kubernetes-Charts. \n",
    "\n",
    "[Kubernetes-Charts](https://github.com/helm/charts) sind Pakete vorkonfigurierter Kubernetes-Ressourcen, welche wie Gesamthaft mittels eines Befehles installiert werden können\n",
    "\n",
    "Der [Helm Hub](https://hub.helm.sh) enthält Dokumentationen und Konfigurationenen für die von Helm gehosteten Charts.\n",
    "\n",
    "Helm Einsatzgebiete:\n",
    "* Suchen und verwenden Sie beliebte Software, die als Kubernetes-Charts verpackt ist\n",
    "* Teilen Sie Ihre eigenen Anwendungen als Kubernetes-Charts\n",
    "* Erstellen Sie reproduzierbare Builds Ihrer Kubernetes-Anwendungen\n",
    "* Verwalten Sie Ihre Kubernetes-Manifestdateien auf intelligente Weise\n",
    "* Verwalten Sie Releases von Helm-Paketen"
   ]
  },
  {
   "cell_type": "markdown",
   "metadata": {},
   "source": [
    "***\n",
    "### Installation\n",
    "\n",
    "Zuerst müssen wir `helm` Installieren. Ab Version 3.x braucht es dazu nur noch das CLI `helm` und keine Services mehr auf dem Kubernetes Cluster.\n",
    "\n",
    "Nach der Installation muss mindestens ein Repository hinzufügt werden, damit Charts gefunden werden.\n"
   ]
  },
  {
   "cell_type": "code",
   "execution_count": null,
   "metadata": {},
   "outputs": [],
   "source": [
    "! curl https://get.helm.sh/helm-v3.1.0-linux-amd64.tar.gz | tar xzf -\n",
    "! mv linux-amd64/helm .\n",
    "! ./helm repo add stable https://kubernetes-charts.storage.googleapis.com/"
   ]
  },
  {
   "cell_type": "markdown",
   "metadata": {},
   "source": [
    "***\n",
    "### Services starten\n",
    "\n",
    "Nun sind wir bereit und können Services, mittels [Kubernetes-Charts](https://github.com/helm/charts), installieren.\n",
    "\n",
    "Beginnen wollen wir mit [Jenkins](https://jenkins.io/):"
   ]
  },
  {
   "cell_type": "code",
   "execution_count": null,
   "metadata": {},
   "outputs": [],
   "source": [
    "! ./helm install myjenkins stable/jenkins --set master.serviceType=LoadBalancer"
   ]
  },
  {
   "cell_type": "markdown",
   "metadata": {},
   "source": [
    "Im Gegensatz zum Recht einfachen Beispiel [Jenkins mit Blueocean](https://github.com/mc-b/duk/tree/master/devops#jenkins-mit-blueocean) wurden einiges mehr an Ressourcen erstellt u.a.:\n",
    "\n",
    "* ConfigMap für die Konfiguration\n",
    "* PersistenVolumeClaim zur Ablage der Daten\n",
    "* Role und Service Account für Interation Agent - Jenkins?\n",
    "\n",
    "Ausserdem wurde Password generiert. Diese und den UI-Port können wir wie folgt abfragen:"
   ]
  },
  {
   "cell_type": "code",
   "execution_count": null,
   "metadata": {},
   "outputs": [],
   "source": [
    "! echo \"User    : admin\"\n",
    "! echo \"Password: \"$(kubectl get secret --namespace default myjenkins -o jsonpath=\"{.data.jenkins-admin-password}\" | base64 --decode)\n",
    "! echo \"UI      : \"$(kubectl config view -o=jsonpath='{ .clusters[0].cluster.server }' | sed -e 's/https:/http:/' -e \"s/6443/$(kubectl get service myjenkins -o=jsonpath='{ .spec.ports[0].nodePort }')/\")"
   ]
  },
  {
   "cell_type": "markdown",
   "metadata": {},
   "source": [
    "Wie bei [Jenkins mit Blueocean](https://github.com/mc-b/duk/tree/master/devops#jenkins-mit-blueocean) können wir mittels \"neues Projekt\" -> \"Multibranch Pipeline\" und Angabe eines Git Repositories, z.B. [https://github.com/mc-b/simple-java-maven-app](https://github.com/mc-b/simple-java-maven-app) im User Interface einen Job anlegen. Im [simple-java-maven-app](https://github.com/mc-b/simple-java-maven-app) Projekt steht auch eine [Jenkinsfile-k8s](https://github.com/mc-b/simple-java-maven-app/blob/master/Jenkinsfile-k8s) Datei zur Verfügung, welche mit dem [Kubernetes Jenkins plugin](https://plugins.jenkins.io/kubernetes/) zusammenspielt.\n",
    "\n",
    "Um den Job zu bauen müssen wir zuerst Secret File (kubeconfig file) von Kubernetes in den Einstellungen von Jenkins eintragen.\n",
    "\n",
    "Welche Schritte dazu nötig sind und alle weiteren Informationen stehen im [Kubernetes Jenkins plugin](https://plugins.jenkins.io/kubernetes/).\n",
    "\n",
    "\n",
    "- - - \n",
    "Wenn wir Jenkins nicht mehr brauchen, können wir den Service wieder löschen:\n"
   ]
  },
  {
   "cell_type": "code",
   "execution_count": null,
   "metadata": {},
   "outputs": [],
   "source": [
    "! ./helm uninstall myjenkins"
   ]
  }
 ],
 "metadata": {
  "kernelspec": {
   "display_name": "Python 3",
   "language": "python",
   "name": "python3"
  },
  "language_info": {
   "codemirror_mode": {
    "name": "ipython",
    "version": 3
   },
   "file_extension": ".py",
   "mimetype": "text/x-python",
   "name": "python",
   "nbconvert_exporter": "python",
   "pygments_lexer": "ipython3",
   "version": "3.7.3"
  }
 },
 "nbformat": 4,
 "nbformat_minor": 2
}
