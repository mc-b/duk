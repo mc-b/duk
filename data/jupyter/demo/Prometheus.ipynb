{
 "cells": [
  {
   "cell_type": "markdown",
   "metadata": {},
   "source": [
    "Prometheus\n",
    "----------\n",
    "\n",
    "![](https://prometheus.io/assets/architecture.png)\n",
    "\n",
    "Quelle: [Prometheus](https://prometheus.io) \n",
    "\n",
    "- - -\n",
    "\n",
    "[Prometheus](https://prometheus.io) ist ein Open-Source-Toolkit zur Systemüberwachung und -Alamierung, das ursprünglich bei SoundCloud entwickelt wurde.\n",
    "\n",
    "Prometheus trat der [Cloud Native Computing Foundation](https://www.cncf.io/) im Jahr 2016 als zweites gehostetes Projekt nach Kubernetes bei.\n",
    "\n",
    "Zusammen mit zwei weiteren Produkten ist der Monitoring Open Source Stack wie folgt:\n",
    "\n",
    "* **Prometheus** ist ein Zeitreihendatenbank- (time series database) und Überwachungstool, mit dem Metrik Endpunkte abgefragt und die von diesen Endpunkten bereitgestellten Daten abgeholt und verarbeitet werden. Daten können mit PromQL abgefragt werden.\n",
    "* **Grafana** ist ein Datenvisualisierungs- und Analysetool, mit dem Sie Dashboards und Diagramme für Ihre Metrikdaten erstellen können.\n",
    "* **Alertmanager**, der normalerweise zusammen mit Prometheus bereitgestellt wird, bildet die Warnschicht des Stapels. Er verarbeitet von Prometheus generierte Warnungen und dedupliziert (eliminieren von redundanten Daten), gruppiert und leitet sie z.B. via E-Mail weiter.\n"
   ]
  },
  {
   "cell_type": "markdown",
   "metadata": {},
   "source": [
    "***\n",
    "### Installation\n",
    "\n",
    "Prometheus ist am einfachsten mittels [helm](https://helm.io) installierbar.\n"
   ]
  },
  {
   "cell_type": "code",
   "execution_count": null,
   "metadata": {},
   "outputs": [],
   "source": [
    "%%bash\n",
    "helm repo add prometheus-community https://prometheus-community.github.io/helm-charts\n",
    "helm upgrade --install monitoring prometheus-community/kube-prometheus-stack -n monitoring --namespace monitoring --create-namespace"
   ]
  },
  {
   "cell_type": "markdown",
   "metadata": {},
   "source": [
    "Die Ports der User Interfaces\n",
    "\n",
    "* Grafana (Service: prometheus-operator-grafana) \n",
    "* Prometheus (Service: prometheus-operator-prometheus)\n",
    "* Alertmanager (Service: prometheus-operator-alertmanager)\n",
    "\n",
    "sind nur innerhalb des Cluster zugänglich. Deshalb müssen wir diese zuerst freischalten bzw. gegen Aussen öffnen:"
   ]
  },
  {
   "cell_type": "code",
   "execution_count": null,
   "metadata": {},
   "outputs": [],
   "source": [
    "! kubectl -n monitoring patch service monitoring-grafana                      -p '{\"spec\": {\"type\": \"LoadBalancer\"}}'\n",
    "! kubectl -n monitoring patch service monitoring-kube-prometheus-prometheus   -p '{\"spec\": {\"type\": \"LoadBalancer\"}}'\n",
    "! kubectl -n monitoring patch service monitoring-kube-prometheus-alertmanager -p '{\"spec\": {\"type\": \"LoadBalancer\"}}'"
   ]
  },
  {
   "cell_type": "markdown",
   "metadata": {},
   "source": [
    "Sind Sie freigeschaltet, können wir Sie wie andere Services via Cluster-IP und Port erreichen:"
   ]
  },
  {
   "cell_type": "code",
   "execution_count": null,
   "metadata": {},
   "outputs": [],
   "source": [
    "%%bash\n",
    "echo \"Grafana UI     : \" http://$(cat ~/work/server-ip):$(kubectl -n monitoring get service/monitoring-grafana -o=jsonpath='{ .spec.ports[0].nodePort }')\n",
    "echo \"- User         : admin\"\n",
    "echo \"- Password     : $(kubectl --namespace monitoring get secrets monitoring-grafana -o jsonpath=\"{.data.admin-password}\" | base64 -d ; echo)\"\n",
    "echo \"Prometheus UI  : \" http://$(cat ~/work/server-ip):$(kubectl -n monitoring get service/monitoring-kube-prometheus-prometheus -o=jsonpath='{ .spec.ports[0].nodePort }')\n",
    "echo \"Alertmanager UI: \" http://$(cat ~/work/server-ip):$(kubectl -n monitoring get service/monitoring-kube-prometheus-alertmanager -o=jsonpath='{ .spec.ports[0].nodePort }')"
   ]
  },
  {
   "cell_type": "markdown",
   "metadata": {},
   "source": [
    "**Grafana UI** Auf der linken Seite kann zwischen einer Reihe von vorbereitenden Dashboards ausgewählt werden, z.B. Nodes.\n",
    "\n",
    "In der **Prometheus** Oberfläche kann mittels der Abfragesprache [PromQL](https://prometheus.io/docs/prometheus/latest/querying/basics/) gezielt Ressourcen ausgewählt werden, z.B. durch Query von `apiserver_storage_objects`.\n",
    "\n",
    "Der **Alertmanager** dient zum Verarbeiten von Ausnahmen, z.B. \n"
   ]
  },
  {
   "cell_type": "markdown",
   "metadata": {},
   "source": [
    "- - -\n",
    "### Custom Ressourcen\n",
    "\n",
    "Der Prometheus [Operator](https://github.com/coreos/prometheus-operator/blob/master/README.md) stellt eine Reihe von [benutzerdefinierten Ressourcen (CRDs)](https://kubernetes.io/docs/tasks/access-kubernetes-api/extend-api-custom-resource-definitions/) für das Monitoring bereit.\n",
    "\n",
    "* **Prometheus**, für eine Prometheus Instanz.\n",
    "* **Alertmanager**, für eine Alertmanager Instanz\n",
    "* **ServiceMonitor**, für die Überwachung von Kubernetes-Diensten.\n",
    "* **PodMonitor**, für die Überwachung von Pods.\n"
   ]
  },
  {
   "cell_type": "code",
   "execution_count": null,
   "metadata": {},
   "outputs": [],
   "source": [
    "! kubectl api-resources | grep monitoring\n",
    "! echo \"---------------------------------\"\n",
    "! kubectl explain servicemonitors                   "
   ]
  },
  {
   "cell_type": "markdown",
   "metadata": {},
   "source": [
    "Services überwachen\n",
    "----------\n",
    "\n",
    "Damit eigene (Micro)Services überwacht werden können, müssen diese Metrics Informationen liefern.\n",
    "\n",
    "Dazu müssen die (Micro)Services Metrik Informationen liefern, wie der [Auto Shop GmbH](https://gitlab.com/ch-mc-b/autoshop-ms/app/shop/-/tree/v3.0.0)."
   ]
  },
  {
   "cell_type": "code",
   "execution_count": null,
   "metadata": {},
   "outputs": [],
   "source": [
    "%%bash\n",
    "kubectl create namespace ms-rest\n",
    "kubectl apply --namespace ms-rest -f https://gitlab.com/ch-mc-b/autoshop-ms/infra/kubernetes-templates/-/raw/main/3-0-0-deployment/catalog-deployment.yaml\n",
    "kubectl apply --namespace ms-rest -f https://gitlab.com/ch-mc-b/autoshop-ms/infra/kubernetes-templates/-/raw/main/3-0-0-deployment/customer-deployment.yaml\n",
    "kubectl apply --namespace ms-rest -f https://gitlab.com/ch-mc-b/autoshop-ms/infra/kubernetes-templates/-/raw/main/3-0-0-deployment/order-deployment.yaml\n",
    "kubectl apply --namespace ms-rest -f https://gitlab.com/ch-mc-b/autoshop-ms/infra/kubernetes-templates/-/raw/main/3-0-0-deployment/webshop-deployment.yaml\n",
    "kubectl apply --namespace ms-rest -f https://gitlab.com/ch-mc-b/autoshop-ms/infra/kubernetes-templates/-/raw/main/3-0-0-deployment/catalog-service.yaml\n",
    "kubectl apply --namespace ms-rest -f https://gitlab.com/ch-mc-b/autoshop-ms/infra/kubernetes-templates/-/raw/main/3-0-0-deployment/customer-service.yaml\n",
    "kubectl apply --namespace ms-rest -f https://gitlab.com/ch-mc-b/autoshop-ms/infra/kubernetes-templates/-/raw/main/3-0-0-deployment/order-service.yaml\n",
    "kubectl apply --namespace ms-rest -f https://gitlab.com/ch-mc-b/autoshop-ms/infra/kubernetes-templates/-/raw/main/3-0-0-deployment/webshop-service.yaml\n",
    "\n",
    "echo \"http://\"$(cat ~/work/server-ip)\":\"$(kubectl get service --namespace ms-rest webshop -o=jsonpath='{ .spec.ports[0].nodePort }')/webshop"
   ]
  },
  {
   "cell_type": "markdown",
   "metadata": {},
   "source": [
    "Für die nächsten Befehle müssen alle Container gestartet sein:"
   ]
  },
  {
   "cell_type": "code",
   "execution_count": null,
   "metadata": {},
   "outputs": [],
   "source": [
    "! kubectl get all,servicemonitors --namespace ms-rest -l tier=microservice"
   ]
  },
  {
   "cell_type": "markdown",
   "metadata": {},
   "source": [
    "Zu Testzwecken zeigen wir die Metrik Daten des Order Microserivces an.\n",
    "\n",
    "Damit mehr Daten angezeigt werden (z.B. die Anzahl HTTP Requests), vorher das UI des Webshop bzw. von Order anwählen.\n"
   ]
  },
  {
   "cell_type": "code",
   "execution_count": null,
   "metadata": {},
   "outputs": [],
   "source": [
    "%%bash\n",
    "curl -s \"http://\"$(cat ~/work/server-ip)\":\"$(kubectl get service --namespace ms-rest webshop -o=jsonpath='{ .spec.ports[0].nodePort }')/webshop/order/metrics"
   ]
  },
  {
   "cell_type": "markdown",
   "metadata": {},
   "source": [
    "- - -\n",
    "### Prometheus \n",
    "\n",
    "Die erstellten Microservices können wir nun mit Prometheus überwachen.\n",
    "\n",
    "Dazu brauchen wir die entsprechenden Rechte:   "
   ]
  },
  {
   "cell_type": "code",
   "execution_count": null,
   "metadata": {},
   "outputs": [],
   "source": [
    "%%bash\n",
    "cat <<%EOF% | kubectl apply --namespace ms-rest -f -\n",
    "apiVersion: v1\n",
    "kind: ServiceAccount\n",
    "metadata:\n",
    "  name: microservice\n",
    "---\n",
    "apiVersion: rbac.authorization.k8s.io/v1\n",
    "kind: ClusterRole\n",
    "metadata:\n",
    "  name: microservice\n",
    "rules:\n",
    "- apiGroups: [\"\"]\n",
    "  resources:\n",
    "  - nodes\n",
    "  - services\n",
    "  - endpoints\n",
    "  - pods\n",
    "  verbs: [\"get\", \"list\", \"watch\"]\n",
    "- apiGroups: [\"\"]\n",
    "  resources:\n",
    "  - configmaps\n",
    "  verbs: [\"get\"]\n",
    "- nonResourceURLs: [\"/metrics\"]\n",
    "  verbs: [\"get\"]\n",
    "---\n",
    "apiVersion: rbac.authorization.k8s.io/v1\n",
    "kind: ClusterRoleBinding\n",
    "metadata:\n",
    "  name: microservice\n",
    "roleRef:\n",
    "  apiGroup: rbac.authorization.k8s.io\n",
    "  kind: ClusterRole\n",
    "  name: microservice\n",
    "subjects:\n",
    "- kind: ServiceAccount\n",
    "  name: microservice\n",
    "  namespace: ms-kubernetes\n",
    "%EOF%\n"
   ]
  },
  {
   "cell_type": "markdown",
   "metadata": {},
   "source": [
    "Und eine eigene Prometheus Instanz.\n",
    "\n",
    "Im User Interface können wir dann die überwachten Targets und deren Status anschauen.\n",
    "\n",
    "Dazu ist als Query `up` einzugeben oder via Pulldown -> Status -> Targets die überwachten Microservices anzuzeigen."
   ]
  },
  {
   "cell_type": "code",
   "execution_count": null,
   "metadata": {},
   "outputs": [],
   "source": [
    "%%bash\n",
    "cat <<%EOF% | kubectl apply --namespace ms-rest -f -\n",
    "apiVersion: v1\n",
    "kind: Service\n",
    "metadata:\n",
    "  name: prometheus\n",
    "spec:\n",
    "  type: NodePort\n",
    "  ports:\n",
    "  - name: web\n",
    "    port: 9090\n",
    "    protocol: TCP\n",
    "    targetPort: web\n",
    "  selector:\n",
    "    prometheus: prometheus\n",
    "  type: LoadBalancer\n",
    "---\n",
    "apiVersion: monitoring.coreos.com/v1\n",
    "kind: Prometheus\n",
    "metadata:\n",
    "  name: prometheus\n",
    "spec:\n",
    "  serviceAccountName: microservice\n",
    "  serviceMonitorSelector:\n",
    "    matchLabels:\n",
    "      tier: microservice\n",
    "  resources:\n",
    "    requests:\n",
    "      memory: 400Mi\n",
    "  enableAdminAPI: true\n",
    "%EOF%\n",
    "\n",
    "echo \"http://$(cat ~/work/server-ip):$(kubectl get service --namespace ms-rest prometheus -o=jsonpath='{ .spec.ports[0].nodePort }')\""
   ]
  },
  {
   "cell_type": "markdown",
   "metadata": {},
   "source": [
    "- - -\n",
    "### Prometheus \n",
    "\n",
    "Die erstellten Microservices können wir nun mit einer eigenen Prometheus Instanz überwachen.\n",
    "\n",
    "Dazu brauchen wir die entsprechenden Rechte:   "
   ]
  },
  {
   "cell_type": "code",
   "execution_count": null,
   "metadata": {},
   "outputs": [],
   "source": [
    "%%bash\n",
    "cat <<%EOF% | kubectl apply --namespace ms-rest -f -\n",
    "apiVersion: v1\n",
    "kind: ServiceAccount\n",
    "metadata:\n",
    "  name: microservice\n",
    "---\n",
    "apiVersion: rbac.authorization.k8s.io/v1\n",
    "kind: ClusterRole\n",
    "metadata:\n",
    "  name: microservice\n",
    "rules:\n",
    "- apiGroups: [\"\"]\n",
    "  resources:\n",
    "  - nodes\n",
    "  - services\n",
    "  - endpoints\n",
    "  - pods\n",
    "  verbs: [\"get\", \"list\", \"watch\"]\n",
    "- apiGroups: [\"\"]\n",
    "  resources:\n",
    "  - configmaps\n",
    "  verbs: [\"get\"]\n",
    "- nonResourceURLs: [\"/metrics\"]\n",
    "  verbs: [\"get\"]\n",
    "---\n",
    "apiVersion: rbac.authorization.k8s.io/v1\n",
    "kind: ClusterRoleBinding\n",
    "metadata:\n",
    "  name: microservice\n",
    "roleRef:\n",
    "  apiGroup: rbac.authorization.k8s.io\n",
    "  kind: ClusterRole\n",
    "  name: microservice\n",
    "subjects:\n",
    "- kind: ServiceAccount\n",
    "  name: microservice\n",
    "  namespace: ms-rest\n",
    "%EOF%"
   ]
  },
  {
   "cell_type": "markdown",
   "metadata": {},
   "source": [
    "und eine eigene Prometheus Instanz."
   ]
  },
  {
   "cell_type": "code",
   "execution_count": null,
   "metadata": {},
   "outputs": [],
   "source": [
    "%%bash\n",
    "cat <<%EOF% | kubectl apply --namespace ms-rest -f -\n",
    "apiVersion: v1\n",
    "kind: Service\n",
    "metadata:\n",
    "  name: prometheus\n",
    "spec:\n",
    "  type: NodePort\n",
    "  ports:\n",
    "  - name: web\n",
    "    port: 9090\n",
    "    protocol: TCP\n",
    "    targetPort: web\n",
    "  selector:\n",
    "    prometheus: prometheus\n",
    "  type: NodePort\n",
    "---\n",
    "apiVersion: monitoring.coreos.com/v1\n",
    "kind: Prometheus\n",
    "metadata:\n",
    "  name: prometheus\n",
    "spec:\n",
    "  serviceAccountName: microservice\n",
    "  serviceMonitorSelector:\n",
    "    matchLabels:\n",
    "      tier: microservice\n",
    "  ruleSelector: {}  \n",
    "  ruleNamespaceSelector:\n",
    "    matchLabels:\n",
    "      kubernetes.io/metadata.name: ms-rest\n",
    "  resources:\n",
    "    requests:\n",
    "      memory: 400Mi\n",
    "  enableAdminAPI: true\n",
    "  alerting:\n",
    "    alertmanagers:\n",
    "      - namespace: ms-rest\n",
    "        name: alertmanager\n",
    "        port: web\n",
    "%EOF%"
   ]
  },
  {
   "cell_type": "markdown",
   "metadata": {},
   "source": [
    "### ServiceMonitor\n",
    "\n",
    "Zum Schluss, starten wir das Monitoring mittels `ServiceMonitor`.\n",
    "\n",
    "Welche Microservices überwacht werden sollen bestimmt der `selector` und welche Ports `endpoints` und `port:`."
   ]
  },
  {
   "cell_type": "code",
   "execution_count": null,
   "metadata": {},
   "outputs": [],
   "source": [
    "%%bash\n",
    "cat <<%EOF% | kubectl apply --namespace ms-rest -f -\n",
    "apiVersion: monitoring.coreos.com/v1\n",
    "kind: ServiceMonitor\n",
    "metadata:\n",
    "  name: microservice\n",
    "  labels:\n",
    "    tier: microservice\n",
    "spec:\n",
    "  selector:\n",
    "    matchLabels:\n",
    "      tier: microservice\n",
    "  endpoints:\n",
    "  - port: web\n",
    "    path: /metrics \n",
    "    interval: 30s  \n",
    "%EOF%"
   ]
  },
  {
   "cell_type": "markdown",
   "metadata": {},
   "source": [
    "---\n",
    "### Abfragen von Werten im Prometheus UI\n",
    "\n",
    "Im User Interface können wir die überwachten Targets und deren Status anschauen.\n",
    "\n",
    "Dazu ist als Query `up` einzugeben oder via Pulldown -> Status -> Targets die überwachten Microservices anzuzeigen.\n",
    "\n",
    "Ausserdem können folgende Werte ausgewertet werden:\n",
    "\n",
    "* http_requests_total{method=\"GET\"} - liefert Anzahl HTTP GET Aufrufe\n",
    "* process_memory_usage_bytes - den Speicherverbrauch pro Pod"
   ]
  },
  {
   "cell_type": "code",
   "execution_count": null,
   "metadata": {},
   "outputs": [],
   "source": [
    "%%bash\n",
    "echo \"Prometheus UI: http://$(cat ~/work/server-ip):$(kubectl get service --namespace ms-rest prometheus -o=jsonpath='{ .spec.ports[0].nodePort }')\""
   ]
  },
  {
   "cell_type": "markdown",
   "metadata": {},
   "source": [
    "---\n",
    "## Alert Manager\n",
    "\n",
    "Zur Prometheus Instanz erstellen wir eine Alert Manager Instanz"
   ]
  },
  {
   "cell_type": "code",
   "execution_count": null,
   "metadata": {},
   "outputs": [],
   "source": [
    "%%bash\n",
    "cat <<%EOF% | kubectl apply --namespace ms-rest -f -\n",
    "apiVersion: monitoring.coreos.com/v1\n",
    "kind: Alertmanager\n",
    "metadata:\n",
    "  name: alertmanager\n",
    "spec:\n",
    "  replicas: 1\n",
    "  resources:\n",
    "    requests:\n",
    "      memory: 200Mi\n",
    "---\n",
    "apiVersion: v1\n",
    "kind: Service\n",
    "metadata:\n",
    "  name: alertmanager\n",
    "spec:\n",
    "  ports:\n",
    "    - name: web\n",
    "      port: 9093\n",
    "      targetPort: 9093\n",
    "  type: NodePort      \n",
    "  selector:\n",
    "    alertmanager: alertmanager        \n",
    "%EOF%\n",
    "echo \"Alert Manager UI: http://$(cat ~/work/server-ip):$(kubectl get service --namespace ms-rest alertmanager -o=jsonpath='{ .spec.ports[0].nodePort }')\""
   ]
  },
  {
   "cell_type": "markdown",
   "metadata": {},
   "source": [
    "### Alert Rules \n",
    "\n",
    "Damit der Alert Manager etwas zu tun bekommt, übergeben wir diesem ein paar Aufgaben:\n",
    "\n",
    "**Speicherverbrauch pro Pod zu hoch**\n",
    "\n",
    "Diese Regel löst aus, wenn ein einzelner Pod mehr als 500 MB RAM verwendet.\n",
    "\n",
    "Was macht diese Regel?\n",
    "* Prüft, ob ein Pod mehr als 500 MB RAM nutzt (process_memory_usage_bytes > 500 * 1024 * 1024).\n",
    "* Löst aus, wenn das 2 Minuten lang anhält."
   ]
  },
  {
   "cell_type": "code",
   "execution_count": null,
   "metadata": {},
   "outputs": [],
   "source": [
    "%%bash\n",
    "cat <<%EOF% | kubectl apply --namespace ms-rest -f -\n",
    "apiVersion: monitoring.coreos.com/v1\n",
    "kind: PrometheusRule\n",
    "metadata:\n",
    "  name: memory-overflow\n",
    "  namespace: ms-rest\n",
    "spec:\n",
    "  groups:\n",
    "    - name: memory.rules\n",
    "      rules:\n",
    "        - alert: HighMemoryUsagePerPod\n",
    "          expr: process_memory_usage_bytes > 5 * 1024 * 1024\n",
    "          for: 2m\n",
    "          labels:\n",
    "            severity: critical\n",
    "          annotations:\n",
    "            summary: \"Hoher Speicherverbrauch erkannt\"\n",
    "            description: \"Ein Pod verbraucht mehr als 500 MB RAM.\"\n",
    "%EOF%"
   ]
  },
  {
   "cell_type": "markdown",
   "metadata": {},
   "source": [
    "Ändert die 500 auf 5 in der memory.rules und beobachtet die Regeln in Prometheus und dem Alert-Manager"
   ]
  },
  {
   "cell_type": "markdown",
   "metadata": {},
   "source": [
    "---\n",
    "\n",
    "### Aufräumen"
   ]
  },
  {
   "cell_type": "code",
   "execution_count": null,
   "metadata": {},
   "outputs": [],
   "source": [
    "%%bash\n",
    "kubectl delete --namespace ms-rest -f https://gitlab.com/ch-mc-b/autoshop-ms/infra/kubernetes-templates/-/raw/main/3-0-0-deployment/catalog-deployment.yaml\n",
    "kubectl delete --namespace ms-rest -f https://gitlab.com/ch-mc-b/autoshop-ms/infra/kubernetes-templates/-/raw/main/3-0-0-deployment/customer-deployment.yaml\n",
    "kubectl delete --namespace ms-rest -f https://gitlab.com/ch-mc-b/autoshop-ms/infra/kubernetes-templates/-/raw/main/3-0-0-deployment/order-deployment.yaml\n",
    "kubectl delete --namespace ms-rest -f https://gitlab.com/ch-mc-b/autoshop-ms/infra/kubernetes-templates/-/raw/main/3-0-0-deployment/webshop-deployment.yaml\n",
    "kubectl delete --namespace ms-rest -f https://gitlab.com/ch-mc-b/autoshop-ms/infra/kubernetes-templates/-/raw/main/catalog-service.yaml\n",
    "kubectl delete --namespace ms-rest -f https://gitlab.com/ch-mc-b/autoshop-ms/infra/kubernetes-templates/-/raw/main/customer-service.yaml\n",
    "kubectl delete --namespace ms-rest -f https://gitlab.com/ch-mc-b/autoshop-ms/infra/kubernetes-templates/-/raw/main/order-service.yaml\n",
    "kubectl delete --namespace ms-rest -f https://gitlab.com/ch-mc-b/autoshop-ms/infra/kubernetes-templates/-/raw/main/webshop-service.yaml\n",
    "kubectl delete ns ms-rest"
   ]
  }
 ],
 "metadata": {
  "kernelspec": {
   "display_name": "Python 3 (ipykernel)",
   "language": "python",
   "name": "python3"
  },
  "language_info": {
   "codemirror_mode": {
    "name": "ipython",
    "version": 3
   },
   "file_extension": ".py",
   "mimetype": "text/x-python",
   "name": "python",
   "nbconvert_exporter": "python",
   "pygments_lexer": "ipython3",
   "version": "3.12.3"
  }
 },
 "nbformat": 4,
 "nbformat_minor": 2
}
