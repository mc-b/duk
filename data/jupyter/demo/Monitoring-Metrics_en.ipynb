{
 "cells": [
  {
   "cell_type": "markdown",
   "metadata": {},
   "source": [
    "Metrics\n",
    "----------\n",
    "\n",
    "The term metric comes from the Greek and means measurement. According to the general understanding, this is a system of key figures or a method for measuring quantifiable values.\n",
    "\n",
    "For a simple example we start our application consisting of the microservices **Order**, **Customer** and **Catalog**.\n"
   ]
  },
  {
   "cell_type": "code",
   "execution_count": null,
   "metadata": {},
   "outputs": [],
   "source": [
    "%%bash\n",
    "kubectl create namespace ms-rest\n",
    "kubectl apply -f https://raw.githubusercontent.com/mc-b/misegr/master/ewolff/ms-kubernetes/apache.yaml\n",
    "kubectl apply -f https://raw.githubusercontent.com/mc-b/misegr/master/ewolff/ms-kubernetes/catalog.yaml\n",
    "kubectl apply -f https://raw.githubusercontent.com/mc-b/misegr/master/ewolff/ms-kubernetes/customer.yaml\n",
    "kubectl apply -f https://raw.githubusercontent.com/mc-b/misegr/master/ewolff/ms-kubernetes/order.yaml\n",
    "kubectl apply -f https://raw.githubusercontent.com/mc-b/misegr/master/ewolff/ms-kubernetes/postgres.yaml"
   ]
  },
  {
   "cell_type": "markdown",
   "metadata": {},
   "source": [
    "\n",
    "Once the microservices are started, we can query their metrics data using the prefix `/metrics`\n",
    "\n",
    "Among other things, the following information is output:\n",
    "* `counter.status.200.metrics` - number of views of /metrics\n",
    "* `counter.status.200.list.html`- Number of accesses to the HTML pages of the application"
   ]
  },
  {
   "cell_type": "code",
   "execution_count": null,
   "metadata": {},
   "outputs": [],
   "source": [
    "%%bash\n",
    "kubectl get pods --namespace ms-rest \n",
    "echo \"\n",
    "--- Metrics Daten: customer ---\"\n",
    "curl -s http://apache.ms-rest/customer/metrics | grep counter\n",
    "echo \"\n",
    "--- Metrics Daten: catalog ---\"\n",
    "curl -s http://apache.ms-rest/catalog/metrics | grep counter"
   ]
  },
  {
   "cell_type": "markdown",
   "metadata": {},
   "source": [
    "We don't see any entries for `counter.status.200.list.html` because we haven't called up the microservices or their web interfaces yet.\n",
    "\n",
    "That's why we get the URLs so that we can call up the web interfaces."
   ]
  },
  {
   "cell_type": "code",
   "execution_count": null,
   "metadata": {},
   "outputs": [],
   "source": [
    "! echo \"http://\"$(cat ~/work/server-ip)\":\"$(kubectl get service --namespace ms-rest apache -o=jsonpath='{ .spec.ports[0].nodePort }'/customer/list.html)\n",
    "! echo \"http://\"$(cat ~/work/server-ip)\":\"$(kubectl get service --namespace ms-rest apache -o=jsonpath='{ .spec.ports[0].nodePort }'/catalog/list.html)"
   ]
  },
  {
   "cell_type": "markdown",
   "metadata": {},
   "source": [
    "After the web interface has been selected, the entries `counter.status.200.list.html` are visible and we can use them to determine how often these have been selected."
   ]
  },
  {
   "cell_type": "code",
   "execution_count": null,
   "metadata": {},
   "outputs": [],
   "source": [
    "%%bash\n",
    "echo \"--- Metrics Daten: customer ---\"\n",
    "curl -s http://apache.ms-rest/customer/metrics | grep counter\n",
    "echo \"\n",
    "--- Metrics Daten: catalog ---\"\n",
    "curl -s http://apache.ms-rest/catalog/metrics | grep counter"
   ]
  },
  {
   "cell_type": "markdown",
   "metadata": {},
   "source": [
    "---\n",
    "\n",
    "Clean up"
   ]
  },
  {
   "cell_type": "code",
   "execution_count": null,
   "metadata": {},
   "outputs": [],
   "source": [
    "! kubectl delete namespace ms-rest"
   ]
  },
  {
   "cell_type": "code",
   "execution_count": null,
   "metadata": {},
   "outputs": [],
   "source": []
  }
 ],
 "metadata": {
  "kernelspec": {
   "display_name": "Python 3 (ipykernel)",
   "language": "python",
   "name": "python3"
  },
  "language_info": {
   "codemirror_mode": {
    "name": "ipython",
    "version": 3
   },
   "file_extension": ".py",
   "mimetype": "text/x-python",
   "name": "python",
   "nbconvert_exporter": "python",
   "pygments_lexer": "ipython3",
   "version": "3.10.6"
  }
 },
 "nbformat": 4,
 "nbformat_minor": 2
}
