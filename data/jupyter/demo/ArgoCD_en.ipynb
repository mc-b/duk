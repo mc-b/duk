{
 "cells": [
  {
   "cell_type": "markdown",
   "id": "14b8563a",
   "metadata": {},
   "source": [
    "ArgoCD\n",
    "======\n",
    "\n",
    "![](https://argo-cd.readthedocs.io/en/stable/assets/argocd-ui.gif)\n",
    "\n",
    "Quelle: [ArgoCD](https://argo-cd.readthedocs.io/)\n",
    "\n",
    "- - -\n",
    "\n",
    "[ArgoCD](https://argo-cd.readthedocs.io/) CD ist ein deklaratives GitOps-Continuous-Delivery-Tool für Kubernetes.\n",
    "\n",
    "- - -\n",
    "\n",
    "Installation\n"
   ]
  },
  {
   "cell_type": "code",
   "execution_count": null,
   "id": "f5a59cf2",
   "metadata": {},
   "outputs": [],
   "source": [
    "%%bash\n",
    "kubectl create namespace argocd\n",
    "kubectl apply -n argocd -f https://raw.githubusercontent.com/argoproj/argo-cd/stable/manifests/install.yaml\n",
    "kubectl patch svc argocd-server -n argocd -p '{\"spec\": {\"type\": \"LoadBalancer\"}}'"
   ]
  },
  {
   "cell_type": "code",
   "execution_count": null,
   "id": "f9cadfbf",
   "metadata": {},
   "outputs": [],
   "source": [
    "%%bash\n",
    "echo \"ArgoCD UI: http://\"$(cat ~/work/server-ip)\":\"$(kubectl get -n argocd service/argocd-server -o=jsonpath='{ .spec.ports[0].nodePort }')\n",
    "echo \"User     : admin\"\n",
    "echo \"Password : $(kubectl -n argocd get secret argocd-initial-admin-secret -o jsonpath=\"{.data.password}\" | base64 -d; echo)\""
   ]
  },
  {
   "cell_type": "markdown",
   "id": "ca98896d",
   "metadata": {},
   "source": [
    "- - -\n",
    "\n",
    "### Create application declaration\n",
    "\n",
    "Press `Create Application` and fill in the following values\n",
    "\n",
    "- - -\n",
    "* Application Name : ms-rest\n",
    "* Project Name     : default\n",
    "- - -\n",
    "* Repository URL   : https://github.com/mc-b/misegr\n",
    "* Path             : ewolff/ms-kubernetes\n",
    "- - -\n",
    "* Cluster URL      : https://kubernetes.default.svc\n",
    "* Namespace        : ms-rest\n",
    "\n"
   ]
  },
  {
   "cell_type": "markdown",
   "id": "0cd840b8",
   "metadata": {},
   "source": [
    "- - -\n",
    "\n",
    "### Deploy application (Deploy)\n",
    "\n",
    "Press `SYNC` and then `Synchronize`.\n",
    "\n",
    "The application is then available at the following URL:\n"
   ]
  },
  {
   "cell_type": "code",
   "execution_count": null,
   "id": "57e584a2",
   "metadata": {},
   "outputs": [],
   "source": [
    "! echo \"http://\"$(cat ~/work/server-ip)\":\"$(kubectl get service --namespace ms-rest apache -o=jsonpath='{ .spec.ports[0].nodePort }')"
   ]
  },
  {
   "cell_type": "markdown",
   "id": "fa5c3a38",
   "metadata": {},
   "source": [
    "- - -\n",
    "\n",
    "### Asynchronous application ms-kafka - create resource application\n",
    "\n",
    "We create the second resource using a declaration instead of using the UI.\n",
    "\n",
    "After creation, it can be deployed as before using `SYNC` and then `Synchronize` and activating `Auto Create Namespace`."
   ]
  },
  {
   "cell_type": "code",
   "execution_count": null,
   "id": "6485b59a",
   "metadata": {},
   "outputs": [],
   "source": [
    "%%bash\n",
    "cat <<%EOF% | kubectl apply -f -\n",
    "apiVersion: argoproj.io/v1alpha1\n",
    "kind: Application\n",
    "metadata:\n",
    "  name: ms-kafka\n",
    "  namespace: argocd\n",
    "spec:\n",
    "  destination:\n",
    "    namespace: ms-kafka\n",
    "    server: https://kubernetes.default.svc\n",
    "  project: default\n",
    "  source:\n",
    "    path: ewolff/ms-kafka\n",
    "    repoURL: https://github.com/mc-b/misegr\n",
    "    targetRevision: HEAD\n",
    "%EOF%\n",
    "\n",
    "echo \"http://\"$(cat ~/work/server-ip)\":\"$(kubectl get service --namespace ms-kafka apache -o=jsonpath='{ .spec.ports[0].nodePort }')"
   ]
  },
  {
   "cell_type": "code",
   "execution_count": null,
   "id": "2dd34b3a",
   "metadata": {},
   "outputs": [],
   "source": []
  }
 ],
 "metadata": {
  "kernelspec": {
   "display_name": "Python 3 (ipykernel)",
   "language": "python",
   "name": "python3"
  },
  "language_info": {
   "codemirror_mode": {
    "name": "ipython",
    "version": 3
   },
   "file_extension": ".py",
   "mimetype": "text/x-python",
   "name": "python",
   "nbconvert_exporter": "python",
   "pygments_lexer": "ipython3",
   "version": "3.10.6"
  }
 },
 "nbformat": 4,
 "nbformat_minor": 5
}
