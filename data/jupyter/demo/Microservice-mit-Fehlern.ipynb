{
 "cells": [
  {
   "cell_type": "markdown",
   "metadata": {},
   "source": [
    "### Hands-On: Fehlerbehebung bei einem fehlerhaften Microservice in Istio\n",
    "\n",
    "Dieses Hands-On führt dich Schritt für Schritt durch die Fehlerbehebung bei einem fehlerhaften Microservice in einer Istio-verwalteten Umgebung.\n",
    "\n",
    "---\n",
    "\n",
    "## **Ziel**\n",
    "- Identifiziere den fehlerhaften Microservice mithilfe von Istio Telemetry, Prometheus und Grafana.\n",
    "- Konfiguriere eine Retry-Policy, um die Auswirkung vorübergehender Fehler zu minimieren.\n",
    "- Optimiere Ressourcen oder Latenzzeiten des betroffenen Services.\n",
    "\n",
    "---\n",
    "\n",
    "### **Voraussetzungen**\n",
    "- Kubernetes-Cluster mit Istio installiert.\n",
    "- Prometheus und Grafana für Monitoring konfiguriert.\n",
    "- Eine Anwendung (autoshop-ms) bestehend aus mehreren Microservices, die über Istio verbunden sind.\n"
   ]
  },
  {
   "cell_type": "code",
   "execution_count": null,
   "metadata": {},
   "outputs": [],
   "source": [
    "! kubectl create namespace ms-rest\n",
    "! kubectl label  namespace ms-rest istio-injection=enabled"
   ]
  },
  {
   "cell_type": "code",
   "execution_count": null,
   "metadata": {},
   "outputs": [],
   "source": [
    "%%bash\n",
    "kubectl apply --namespace ms-rest -f https://gitlab.com/ch-mc-b/autoshop-ms/infra/kubernetes-templates/-/raw/main/3-0-0-deployment/catalog-deployment.yaml\n",
    "kubectl apply --namespace ms-rest -f https://gitlab.com/ch-mc-b/autoshop-ms/infra/kubernetes-templates/-/raw/main/3-0-0-deployment/customer-deployment.yaml\n",
    "kubectl apply --namespace ms-rest -f https://gitlab.com/ch-mc-b/autoshop-ms/infra/kubernetes-templates/-/raw/main/3-0-0-deployment/order-deployment.yaml\n",
    "kubectl apply --namespace ms-rest -f https://gitlab.com/ch-mc-b/autoshop-ms/infra/kubernetes-templates/-/raw/main/3-0-0-deployment/webshop-deployment.yaml \n",
    "kubectl apply --namespace ms-rest -f https://gitlab.com/ch-mc-b/autoshop-ms/infra/kubernetes-templates/-/raw/main/catalog-service.yaml\n",
    "kubectl apply --namespace ms-rest -f https://gitlab.com/ch-mc-b/autoshop-ms/infra/kubernetes-templates/-/raw/main/customer-service.yaml\n",
    "kubectl apply --namespace ms-rest -f https://gitlab.com/ch-mc-b/autoshop-ms/infra/kubernetes-templates/-/raw/main/order-service.yaml\n",
    "kubectl apply --namespace ms-rest -f https://gitlab.com/ch-mc-b/autoshop-ms/infra/kubernetes-templates/-/raw/main/webshop-service.yaml\n",
    "kubectl get pod,services --namespace ms-rest"
   ]
  },
  {
   "cell_type": "code",
   "execution_count": null,
   "metadata": {},
   "outputs": [],
   "source": [
    "! echo \"http://\"$(cat ~/work/server-ip)\":\"$(kubectl get service --namespace ms-rest webshop -o=jsonpath='{ .spec.ports[0].nodePort }')/webshop"
   ]
  },
  {
   "cell_type": "code",
   "execution_count": null,
   "metadata": {},
   "outputs": [],
   "source": []
  },
  {
   "cell_type": "code",
   "execution_count": null,
   "metadata": {},
   "outputs": [],
   "source": [
    "%%bash\n",
    "cat <<EOF | kubectl apply -f - \n",
    "apiVersion: networking.istio.io/v1beta1\n",
    "kind: VirtualService\n",
    "metadata:\n",
    "  name: customer-fault-injection\n",
    "  namespace: ms-rest\n",
    "spec:\n",
    "  hosts:\n",
    "  - customer.ms-rest.svc.cluster.local\n",
    "  http:\n",
    "  - match:\n",
    "    - sourceLabels:\n",
    "        app: order\n",
    "    fault:\n",
    "      delay:\n",
    "        percentage:\n",
    "          value: 50.0 # 50% der Anfragen verzögern\n",
    "        fixedDelay: 5s # Verzögerung um 5 Sekunden\n",
    "      abort:\n",
    "        percentage:\n",
    "          value: 20.0 # 20% der Anfragen abbrechen\n",
    "        httpStatus: 500 # Mit HTTP 500 abbrechen\n",
    "    route:\n",
    "    - destination:\n",
    "        host: customer\n",
    "        port:\n",
    "          number: 8080\n",
    "EOF\n"
   ]
  },
  {
   "cell_type": "markdown",
   "metadata": {},
   "source": [
    "---\n",
    "\n",
    "## **Schritt 1: Identifizierung des fehlerhaften Services**\n",
    "\n",
    "### **1.1. Zugriff auf Grafana Dashboard**\n",
    "1. Logge dich in dein Grafana-Interface ein.\n",
    "2. Öffne das Istio-Dashboard:\n",
    "   - Suche nach Dashboards mit Namen wie `Istio Service Dashboard`.\n",
    "3. Überprüfe die Metriken:\n",
    "   - **Request Duration**: Identifiziere Services mit ungewöhnlich hohen Antwortzeiten.\n",
    "   - **HTTP Errors**: Beachte Services mit hoher Fehlerrate (4xx, 5xx).\n",
    "   - **Request Volume**: Prüfe, ob der Service ungewöhnlich viele Anfragen erhält.\n"
   ]
  },
  {
   "cell_type": "code",
   "execution_count": null,
   "metadata": {},
   "outputs": [],
   "source": [
    "! kubectl get service -n istio-system -l app.kubernetes.io/instance=grafana -o yaml | sed 's/ClusterIP/NodePort/g' | kubectl apply -f -\n",
    "! echo \"Grafana  UI: http://\"$(cat ~/work/server-ip)\":\"$(kubectl get -n istio-system service -l app.kubernetes.io/instance=grafana -o=jsonpath='{ .items[0].spec.ports[0].nodePort }')                                                         "
   ]
  },
  {
   "cell_type": "markdown",
   "metadata": {},
   "source": [
    "---\n",
    "\n",
    "### **1.2. Nutzung von Prometheus**\n",
    "\n",
    "1. Öffne die Prometheus UI.\n",
    "\n",
    "2. Führe Queries aus, um spezifische Metriken zu überprüfen:\n",
    "   ```promql\n",
    "   istio_requests_total{destination_service=\"webshop.ms-rest.svc.cluster.local\"}\n",
    "   ```\n",
    "   - Ermittle, welcher Service viele Anfragen oder Fehler zeigt.\n",
    "   \n",
    "3. Beispiel für allgemeine Latenzabfragen\n",
    "   ```promql\n",
    "   rate(istio_requests_total{destination_service=\"order.ms-rest.svc.cluster.local\"}[5m])\n",
    "   ```\n",
    "   Dies zeigt die Anzahl der Anfragen pro Sekunde zum Service an.\n",
    "   "
   ]
  },
  {
   "cell_type": "code",
   "execution_count": null,
   "metadata": {},
   "outputs": [],
   "source": [
    "! kubectl get service -n istio-system -l app.kubernetes.io/name=prometheus -o yaml | sed 's/ClusterIP/NodePort/g' | kubectl apply -f -\n",
    "! echo \"Prometheus   UI: http://\"$(cat ~/work/server-ip)\":\"$(kubectl get -n istio-system service -l app.kubernetes.io/name=prometheus -o=jsonpath='{ .items[0].spec.ports[0].nodePort }')"
   ]
  },
  {
   "cell_type": "markdown",
   "metadata": {},
   "source": [
    "### 1.3 Jaeger — Tracing\n",
    "\n",
    "Jaeger ist ein System, um Aufrufe zwischen Microservices zu verfolgen.\n",
    "\n",
    "Wählt als Service \"order.ms-rest\" aus und drückt auf \"Find Traces\""
   ]
  },
  {
   "cell_type": "code",
   "execution_count": null,
   "metadata": {},
   "outputs": [],
   "source": [
    "! kubectl get service -n istio-system -l app=jaeger -o yaml | sed 's/ClusterIP/NodePort/g' | kubectl apply -f -\n",
    "! echo \"Jaeger  UI: http://\"$(cat ~/work/server-ip)\":\"$(kubectl get -n istio-system service/tracing -o jsonpath='{.spec.ports[?(@.name==\"http-query\")].nodePort}')"
   ]
  },
  {
   "cell_type": "markdown",
   "metadata": {},
   "source": [
    "### 1.4. Kiali für Visualisierung\n",
    "1. Öffne Kiali, wenn es installiert ist.\n",
    "2. Überprüfe die Service-Mesh-Topologie und finde Knoten mit hohen Fehlerraten oder Latenzen.\n",
    "\n",
    "In der Oberfläche wechselt rechts auf \"Graph\" und wählt als Namespace \"ms-rest\" aus.\n",
    "\n",
    "Mittels Aktivierung der Option \"Traffic Animation\" im Pulldown \"Display\" wird die Kommunkation sichtbar"
   ]
  },
  {
   "cell_type": "code",
   "execution_count": null,
   "metadata": {},
   "outputs": [],
   "source": [
    "! kubectl get service -n istio-system -l app=kiali  -o yaml | sed 's/ClusterIP/NodePort/g' | kubectl apply -f -\n",
    "! echo \"Kiali   UI: http://\"$(cat ~/work/server-ip)\":\"$(kubectl get -n istio-system service -l app=kiali -o=jsonpath='{ .items[0].spec.ports[0].nodePort }')"
   ]
  },
  {
   "cell_type": "markdown",
   "metadata": {},
   "source": [
    "### 1.5 Lasttest\n",
    "\n",
    "Für die Tools benötigen wir Daten, deshalb erzeugen wir ein wenig Traffic für 30 Sekunden"
   ]
  },
  {
   "cell_type": "code",
   "execution_count": null,
   "metadata": {},
   "outputs": [],
   "source": [
    "%%bash\n",
    "# LastTest mit 404\n",
    "URL=\"http://\"$(cat ~/work/server-ip)\":\"$(kubectl get service --namespace ms-rest webshop -o=jsonpath='{ .spec.ports[0].nodePort }')/webshop\n",
    "hey -z 60s -c 50  ${URL}/order/order"
   ]
  },
  {
   "cell_type": "markdown",
   "metadata": {},
   "source": [
    "---\n",
    "\n",
    "## **Schritt 2: Konfiguration einer Retry-Policy**\n",
    "\n",
    "### **2.1. Erstelle oder Bearbeite eine VirtualService-Konfiguration**\n",
    "1. Finde den betroffenen Service in deinem Namespace.\n",
    "2. Erstelle eine `VirtualService`-Konfiguration mit einer Retry-Policy:\n",
    "   ```yaml\n",
    "   apiVersion: networking.istio.io/v1beta1\n",
    "   kind: VirtualService\n",
    "   metadata:\n",
    "     name: service-name\n",
    "     namespace: your-namespace\n",
    "   spec:\n",
    "     hosts:\n",
    "     - service-name\n",
    "     http:\n",
    "     - retries:\n",
    "         attempts: 3\n",
    "         perTryTimeout: 2s\n",
    "         retryOn: 5xx\n",
    "       route:\n",
    "       - destination:\n",
    "           host: service-name\n",
    "           port:\n",
    "             number: 80\n",
    "   ```\n",
    "\n",
    "3. Wende die Konfiguration an:\n",
    "   ```bash\n",
    "   kubectl apply -f virtualservice-retry.yaml\n",
    "   ```\n",
    "\n"
   ]
  },
  {
   "cell_type": "markdown",
   "metadata": {},
   "source": [
    "---\n",
    "\n",
    "## **Schritt 3: Optimierung des fehlerhaften Services**\n",
    "\n",
    "### **3.1. Ressourcenlimits überprüfen und anpassen**\n",
    "1. Öffne die `Deployment`-Konfiguration des fehlerhaften Services:\n",
    "   ```bash\n",
    "   kubectl edit deployment service-name\n",
    "   ```\n",
    "2. Passe Ressourcenanforderungen an:\n",
    "   ```yaml\n",
    "   resources:\n",
    "     requests:\n",
    "       cpu: \"100m\"\n",
    "       memory: \"128Mi\"\n",
    "     limits:\n",
    "       cpu: \"500m\"\n",
    "       memory: \"512Mi\"\n",
    "   ```\n",
    "\n",
    "3. Wende die Änderungen an:\n",
    "   ```bash\n",
    "   kubectl apply -f deployment.yaml\n",
    "   ```\n",
    "\n",
    "---\n",
    "\n",
    "### **3.2. Readiness- und Liveness-Probes optimieren**\n",
    "1. Stelle sicher, dass der Service korrekt mit Probes überwacht wird:\n",
    "   ```yaml\n",
    "   livenessProbe:\n",
    "     httpGet:\n",
    "       path: /health\n",
    "       port: 80\n",
    "     initialDelaySeconds: 3\n",
    "     periodSeconds: 10\n",
    "   readinessProbe:\n",
    "     httpGet:\n",
    "       path: /ready\n",
    "       port: 80\n",
    "     initialDelaySeconds: 3\n",
    "     periodSeconds: 10\n",
    "   ```\n",
    "\n",
    "---\n",
    "\n",
    "### **3.3. Netzwerklatenz überprüfen**\n",
    "1. Überprüfe Istio-Mesh-Konfigurationen wie Sidecar-Proxys:\n",
    "   ```yaml\n",
    "   apiVersion: networking.istio.io/v1beta1\n",
    "   kind: Sidecar\n",
    "   metadata:\n",
    "     name: service-sidecar\n",
    "     namespace: your-namespace\n",
    "   spec:\n",
    "     egress:\n",
    "     - hosts:\n",
    "       - \"service-name.namespace.svc.cluster.local\"\n",
    "   ```\n",
    "\n",
    "2. Stelle sicher, dass keine unnötigen Regeln die Latenz erhöhen.\n"
   ]
  },
  {
   "cell_type": "code",
   "execution_count": null,
   "metadata": {},
   "outputs": [],
   "source": [
    "! kubectl -n ms-rest get sidecars"
   ]
  },
  {
   "cell_type": "markdown",
   "metadata": {},
   "source": [
    "---\n",
    "\n",
    "## **Schritt 4: Überprüfung der Änderungen**\n",
    "\n",
    "1. Überprüfe erneut die Metriken in Grafana und Prometheus.\n",
    "2. Führe Tests auf der Anwendung aus, um sicherzustellen, dass die Änderungen wirksam sind.\n",
    "3. Beobachte, ob die Latenzen und Fehlerraten gesenkt wurden.\n",
    "\n",
    "---\n",
    "\n",
    "### **Zusammenfassung**\n",
    "In diesem Hands-On hast du gelernt, wie du mit Istio und Monitoring-Tools wie Grafana und Prometheus einen fehlerhaften Microservice identifizierst, Retry-Policies konfigurierst und die Ressourcen und Latenzzeiten optimierst."
   ]
  },
  {
   "cell_type": "markdown",
   "metadata": {},
   "source": [
    "- - -\n",
    "\n",
    "Aufräumen"
   ]
  },
  {
   "cell_type": "code",
   "execution_count": null,
   "metadata": {},
   "outputs": [],
   "source": [
    "! kubectl delete namespace ms-rest"
   ]
  },
  {
   "cell_type": "markdown",
   "metadata": {},
   "source": [
    "- - -\n",
    "### Quellen\n",
    "\n",
    "* Sourcecode: https://gitlab.com/ch-mc-b/autoshop-ms/app/shop/-/tree/v2.1.0?ref_type=heads\n",
    "* Kubernetes Deklarationen: https://gitlab.com/ch-mc-b/autoshop-ms/infra/kubernetes-templates\n",
    "* Container Registry: https://gitlab.com/ch-mc-b/autoshop-ms/app/shop/container_registry"
   ]
  },
  {
   "cell_type": "code",
   "execution_count": null,
   "metadata": {},
   "outputs": [],
   "source": []
  }
 ],
 "metadata": {
  "kernelspec": {
   "display_name": "Python 3 (ipykernel)",
   "language": "python",
   "name": "python3"
  },
  "language_info": {
   "codemirror_mode": {
    "name": "ipython",
    "version": 3
   },
   "file_extension": ".py",
   "mimetype": "text/x-python",
   "name": "python",
   "nbconvert_exporter": "python",
   "pygments_lexer": "ipython3",
   "version": "3.12.3"
  }
 },
 "nbformat": 4,
 "nbformat_minor": 4
}
