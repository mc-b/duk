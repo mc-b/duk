{
 "cells": [
  {
   "cell_type": "markdown",
   "id": "b774f43f",
   "metadata": {},
   "source": [
    "Übung: Broker und Filter mit K-native\n",
    "-----------------------------\n",
    "\n",
    "![](https://user-images.githubusercontent.com/16281246/116248768-1fe56080-a73a-11eb-9a85-8bdccb82d16c.png)\n",
    "\n",
    "Quelle: K-native\n",
    "\n",
    "- - - \n",
    "\n",
    "**Broker**\n",
    "Ein Broker in Knative ist eine zentrale Komponente, die als Verteiler von Ereignissen (Events) fungiert. Er empfängt Ereignisse von verschiedenen Quellen und sorgt dafür, dass diese an die richtigen Abonnenten weitergeleitet werden. Ein Broker besteht aus zwei Hauptteilen:\n",
    "\n",
    "* Ingress: Hier kommen die Ereignisse an.\n",
    "* Channel: Ein internes Kommunikationssystem, das die Ereignisse an die Abonnenten weiterleitet.\n",
    "\n",
    "**Filter (Trigger)**\n",
    "Ein Filter, auch Trigger genannt, definiert eine Regel, die bestimmt, welche Ereignisse an eine bestimmte Knative-Services oder Endpunkte gesendet werden. Triggers filtern die Ereignisse basierend auf bestimmten Kriterien, wie z.B. dem Ereignistyp oder anderen Attributen, und leiten sie dann an den entsprechenden Empfänger weiter.\n",
    "\n",
    "**Zusammenspiel von Broker und Trigger**\n",
    "* Ereignisaufnahme: Der Broker empfängt Ereignisse von verschiedenen Quellen.\n",
    "* Verteilung: Der Broker verteilt die Ereignisse an die entsprechenden Triggers.\n",
    "* Filterung: Triggers filtern die Ereignisse gemäß den definierten Regeln.\n",
    "* Zustellung: Gefilterte Ereignisse werden an die entsprechenden Services oder Endpunkte zugestellt.\n",
    "\n",
    "Durch diese Architektur ermöglicht Knative eine lose Kopplung von Ereignisquellen und -empfängern, was die Skalierbarkeit und Flexibilität von serverlosen Anwendungen erhöht.\n",
    "\n",
    "- - -\n",
    "\n",
    "Zuerst erstellen wir den Kubernetes Namespace\n",
    "\n"
   ]
  },
  {
   "cell_type": "code",
   "execution_count": null,
   "id": "f14f856b",
   "metadata": {},
   "outputs": [],
   "source": [
    "import os\n",
    "os.environ['NS_BRKR']='ms-brkr'\n",
    "! kubectl create namespace ${NS_BRKR}\n",
    "! # kubectl label  namespace ${NS_BRKR} istio-injection=enabled"
   ]
  },
  {
   "cell_type": "markdown",
   "id": "551a0543",
   "metadata": {},
   "source": [
    "### Dashboard\n",
    "\n",
    "Jetzt ist ein guter Zeitpunkt um das Kubernetes Dashboard zu starten und dort im Pulldownmenu den Namespace \"ms-brkr\" auszuwählen.\n",
    "\n",
    "Wählt nachfolgenden Link an und aktzeptiert das Zertifikat um dann ohne Token, drückt \"Überspringen\" oder \"Skip\", ins Dashboard zu wechseln."
   ]
  },
  {
   "cell_type": "code",
   "execution_count": null,
   "id": "737bece3",
   "metadata": {},
   "outputs": [],
   "source": [
    "! echo \"https://\"$(cat ~/work/server-ip)\":8443\""
   ]
  },
  {
   "cell_type": "markdown",
   "id": "8459f2e4",
   "metadata": {},
   "source": [
    "Anschliessend folgen die Standard Microservices"
   ]
  },
  {
   "cell_type": "code",
   "execution_count": null,
   "id": "e9a7b941",
   "metadata": {
    "scrolled": true
   },
   "outputs": [],
   "source": [
    "%%bash\n",
    "kubectl apply --namespace ${NS_BRKR} -f https://gitlab.com/ch-mc-b/autoshop-ms/infra/kubernetes-templates/-/raw/main/3-2-0-deployment/catalog-deployment.yaml\n",
    "kubectl apply --namespace ${NS_BRKR} -f https://gitlab.com/ch-mc-b/autoshop-ms/infra/kubernetes-templates/-/raw/main/3-2-0-deployment/customer-deployment.yaml\n",
    "kubectl apply --namespace ${NS_BRKR} -f https://gitlab.com/ch-mc-b/autoshop-ms/infra/kubernetes-templates/-/raw/main/3-2-0-deployment/order-deployment.yaml\n",
    "kubectl apply --namespace ${NS_BRKR} -f https://gitlab.com/ch-mc-b/autoshop-ms/infra/kubernetes-templates/-/raw/main/3-2-0-deployment/webshop-deployment.yaml \n",
    "kubectl apply --namespace ${NS_BRKR} -f https://gitlab.com/ch-mc-b/autoshop-ms/infra/kubernetes-templates/-/raw/main/3-2-0-deployment/catalog-service.yaml\n",
    "kubectl apply --namespace ${NS_BRKR} -f https://gitlab.com/ch-mc-b/autoshop-ms/infra/kubernetes-templates/-/raw/main/3-2-0-deployment/customer-service.yaml\n",
    "kubectl apply --namespace ${NS_BRKR} -f https://gitlab.com/ch-mc-b/autoshop-ms/infra/kubernetes-templates/-/raw/main/3-2-0-deployment/order-service.yaml\n",
    "kubectl apply --namespace ${NS_BRKR} -f https://gitlab.com/ch-mc-b/autoshop-ms/infra/kubernetes-templates/-/raw/main/3-2-0-deployment/webshop-service.yaml\n",
    "kubectl get   --namespace ${NS_BRKR} pods,services"
   ]
  },
  {
   "cell_type": "code",
   "execution_count": null,
   "id": "ffb55aba",
   "metadata": {},
   "outputs": [],
   "source": [
    "! echo \"http://\"$(cat ~/work/server-ip)\":\"$(kubectl get service --namespace ${NS_BRKR} webshop -o=jsonpath='{ .spec.ports[0].nodePort }')/webshop"
   ]
  },
  {
   "cell_type": "markdown",
   "id": "28e0b68d",
   "metadata": {},
   "source": [
    "**Sales** starten wir im Serverless Modus und **Shipment** und **Invoicing** mit genau einer Instanz."
   ]
  },
  {
   "cell_type": "code",
   "execution_count": null,
   "id": "696c6fc5",
   "metadata": {},
   "outputs": [],
   "source": [
    "%%bash\n",
    "kubectl patch configmap/config-domain --namespace knative-serving --type merge --patch '{\"data\":{\"dukmaster-10-default.mshome.net\":\"\"}}' \n",
    "#kn service create invoicing --scale 1 --image registry.gitlab.com/ch-mc-b/autoshop-ms/app/backoffice/invoicing:4.0.0 --port 8080 --namespace ${NS_BRKR}\n",
    "#kn service create shipment  --scale 1 --image registry.gitlab.com/ch-mc-b/autoshop-ms/app/backoffice/shipment:4.0.0  --port 8080 --namespace ${NS_BRKR}\n",
    "kn service create invoicing --scale 1 --image registry.gitlab.com/ch-mc-b/autoshop-ms/infra/kubernetes-templates/cloudevents --port 8080 --namespace ${NS_BRKR}\n",
    "kn service create shipment  --scale 1 --image registry.gitlab.com/ch-mc-b/autoshop-ms/infra/kubernetes-templates/cloudevents --namespace ${NS_BRKR}\n",
    "\n",
    "kn service create sales               --image registry.gitlab.com/ch-mc-b/autoshop-ms/app/management/sales:3.2.0  --port 8080 --namespace ${NS_BRKR}"
   ]
  },
  {
   "cell_type": "markdown",
   "id": "4f4d94e5",
   "metadata": {},
   "source": [
    "Um die Services via Browser anzusprechen ist im Windows die Datei `C:\\Windows\\System32\\Drivers\\etc\\hosts` um folgende Einträge zu ergänzen."
   ]
  },
  {
   "cell_type": "code",
   "execution_count": null,
   "id": "fe1832e9",
   "metadata": {
    "scrolled": true
   },
   "outputs": [],
   "source": [
    "%%bash\n",
    "PORT=$(kubectl get service --namespace kourier-system kourier -o=jsonpath='{ .spec.ports[0].nodePort }')\n",
    "echo $(cat ~/work/server-ip) shipment.${NS_BRKR}.dukmaster-10-default.mshome.net\n",
    "echo $(cat ~/work/server-ip) invoicing.${NS_BRKR}.dukmaster-10-default.mshome.net\n",
    "echo $(cat ~/work/server-ip) sales.${NS_BRKR}.dukmaster-10-default.mshome.net\n",
    "\n",
    "echo \"\"\n",
    "echo \"Browser URLs\"\n",
    "# echo http://shipment.${NS_BRKR}.dukmaster-10-default.mshome.net:${PORT}/shipment\n",
    "# echo http://invoicing.${NS_BRKR}.dukmaster-10-default.mshome.net:${PORT}/invoicing\n",
    "echo http://shipment.${NS_BRKR}.dukmaster-10-default.mshome.net:${PORT}/\n",
    "echo http://invoicing.${NS_BRKR}.dukmaster-10-default.mshome.net:${PORT}/\n",
    "\n",
    "echo http://sales.${NS_BRKR}.dukmaster-10-default.mshome.net:${PORT}/sales"
   ]
  },
  {
   "cell_type": "markdown",
   "id": "366d5d16",
   "metadata": {},
   "source": [
    "- - -\n",
    "### Broker\n",
    "\n",
    "Für die Kommunkation erstellen wir einen Default Broker"
   ]
  },
  {
   "cell_type": "code",
   "execution_count": null,
   "id": "0a17382e",
   "metadata": {},
   "outputs": [],
   "source": [
    "! kn broker create default --namespace ${NS_BRKR}\n",
    "! kn broker list --namespace ${NS_BRKR}"
   ]
  },
  {
   "cell_type": "markdown",
   "id": "08f5b950",
   "metadata": {},
   "source": [
    "- - -\n",
    "### Trigger\n",
    "\n",
    "Und drei Trigger welche gezielt die Nachrichten mit `type`: `shipment`, `invoicing` und `order` behandeln.\n",
    "\n",
    "`order` wird an beide Microservices gesendent die anderen nur an die entsprechenden Namensvetter."
   ]
  },
  {
   "cell_type": "code",
   "execution_count": null,
   "id": "49297a20",
   "metadata": {},
   "outputs": [],
   "source": [
    "%%bash\n",
    "cat <<EOF | kubectl apply --namespace ${NS_BRKR} -f -\n",
    "apiVersion: eventing.knative.dev/v1\n",
    "kind: Trigger\n",
    "metadata:\n",
    "  name: invoicing\n",
    "spec:\n",
    "  broker: default\n",
    "  filter:\n",
    "    attributes:\n",
    "      type: invoicing \n",
    "  subscriber:\n",
    "    ref:\n",
    "     apiVersion: serving.knative.dev/v1\n",
    "     kind: Service\n",
    "     name: invoicing\n",
    "EOF"
   ]
  },
  {
   "cell_type": "code",
   "execution_count": null,
   "id": "dacff6ec",
   "metadata": {},
   "outputs": [],
   "source": [
    "%%bash\n",
    "cat <<EOF | kubectl apply --namespace ${NS_BRKR}  -f -\n",
    "apiVersion: eventing.knative.dev/v1\n",
    "kind: Trigger\n",
    "metadata:\n",
    "  name: shipment\n",
    "spec:\n",
    "  broker: default\n",
    "  filter:\n",
    "    attributes:\n",
    "      type: shipment\n",
    "  subscriber:\n",
    "    ref:\n",
    "     apiVersion: serving.knative.dev/v1\n",
    "     kind: Service\n",
    "     name: shipment\n",
    "EOF"
   ]
  },
  {
   "cell_type": "code",
   "execution_count": null,
   "id": "f5efea10",
   "metadata": {},
   "outputs": [],
   "source": [
    "%%bash\n",
    "\n",
    "cat <<EOF | kubectl apply --namespace ${NS_BRKR}  -f -\n",
    "apiVersion: eventing.knative.dev/v1\n",
    "kind: Trigger\n",
    "metadata:\n",
    "  name: invoicing-order\n",
    "spec:\n",
    "  broker: default\n",
    "  filter:\n",
    "    attributes:\n",
    "      type: order \n",
    "  subscriber:\n",
    "    ref:\n",
    "     apiVersion: serving.knative.dev/v1\n",
    "     kind: Service\n",
    "     name: invoicing\n",
    "---\n",
    "apiVersion: eventing.knative.dev/v1\n",
    "kind: Trigger\n",
    "metadata:\n",
    "  name: shipment-order\n",
    "spec:\n",
    "  broker: default\n",
    "  filter:\n",
    "    attributes:\n",
    "      type: order\n",
    "  subscriber:\n",
    "    ref:\n",
    "     apiVersion: serving.knative.dev/v1\n",
    "     kind: Service\n",
    "     name: shipment\n",
    "EOF"
   ]
  },
  {
   "cell_type": "markdown",
   "id": "86b388a3",
   "metadata": {},
   "source": [
    "### Gesamtübersicht\n",
    "\n",
    "Die Subscriptions filtern `\"Ce-Type:` und leiten die Events weiter an die Microservices **Shipment** und/oder **Invoicing**."
   ]
  },
  {
   "cell_type": "code",
   "execution_count": null,
   "id": "d0862729",
   "metadata": {},
   "outputs": [],
   "source": [
    "%%bash\n",
    "kubectl get broker default -o jsonpath='{.status.address.url}' --namespace ${NS_BRKR}\n",
    "echo \"\"\n",
    "echo \"\"\n",
    "kn trigger list --namespace ${NS_BRKR}"
   ]
  },
  {
   "cell_type": "markdown",
   "id": "d8e85001",
   "metadata": {},
   "source": [
    "Die Aufrufe zum Broker müssen innerhalb eines Containers abgesetzt werden. \n",
    "\n",
    "Deshalb starten wir unseren Testcontainer"
   ]
  },
  {
   "cell_type": "code",
   "execution_count": null,
   "id": "e0f3f24b",
   "metadata": {},
   "outputs": [],
   "source": [
    "%%bash\n",
    "kubectl run --image=registry.gitlab.com/ch-mc-b/autoshop-ms/infra/kubernetes-templates/cloudevents curler --namespace ${NS_BRKR}"
   ]
  },
  {
   "cell_type": "markdown",
   "id": "0235b797",
   "metadata": {},
   "source": [
    "Zuerst senden wir einen Event an den Container **shipment**"
   ]
  },
  {
   "cell_type": "code",
   "execution_count": null,
   "id": "44db7c59",
   "metadata": {},
   "outputs": [],
   "source": [
    "%%bash\n",
    "kubectl exec curler --namespace ${NS_BRKR} -- curl -s -X POST http://broker-ingress.knative-eventing.svc.cluster.local/ms-brkr/default \\\n",
    "-H \"Ce-Id: say-hello\" \\\n",
    "-H \"Ce-Specversion: 1.0\" \\\n",
    "-H \"Ce-Type: shipment\" \\\n",
    "-H \"Ce-Source: curl\" \\\n",
    "-H \"Content-Type: application/json\" \\\n",
    "-d '{\"key\":\"shipment\"}'"
   ]
  },
  {
   "cell_type": "markdown",
   "id": "42ed6648",
   "metadata": {},
   "source": [
    "Und kontrollieren, dass nur dieser die Meldung empfangen hat `\"Ce-Type: shipment\"`"
   ]
  },
  {
   "cell_type": "code",
   "execution_count": null,
   "id": "6c68005b",
   "metadata": {},
   "outputs": [],
   "source": [
    "! kubectl logs deployment/shipment-00001-deployment --namespace ${NS_BRKR} | tail -20\n",
    "! echo \"--------------------\"\n",
    "! kubectl logs deployment/invoicing-00001-deployment --namespace ${NS_BRKR} | tail -20"
   ]
  },
  {
   "cell_type": "markdown",
   "id": "5eb47f64",
   "metadata": {},
   "source": [
    "Dann senden wir einen Event an den Microservice **invoicing**"
   ]
  },
  {
   "cell_type": "code",
   "execution_count": null,
   "id": "23275ecf",
   "metadata": {},
   "outputs": [],
   "source": [
    "%%bash\n",
    "kubectl exec curler --namespace ${NS_BRKR} -- curl -s -X POST http://broker-ingress.knative-eventing.svc.cluster.local/ms-brkr/default \\\n",
    "-H \"Ce-Id: say-hello\" \\\n",
    "-H \"Ce-Specversion: 1.0\" \\\n",
    "-H \"Ce-Type: invoicing\" \\\n",
    "-H \"Ce-Source: curl\" \\\n",
    "-H \"Content-Type: application/json\" \\\n",
    "-d '{\"key\":\"invoicing\"}'\n",
    "\n",
    "kubectl logs deployment/shipment-00001-deployment --namespace ${NS_BRKR} | tail -20\n",
    "echo \"--------------------\"\n",
    "kubectl logs deployment/invoicing-00001-deployment --namespace ${NS_BRKR} | tail -20"
   ]
  },
  {
   "cell_type": "markdown",
   "id": "ab59a06f",
   "metadata": {},
   "source": [
    "Und zum Schluss an beide Microservices."
   ]
  },
  {
   "cell_type": "code",
   "execution_count": null,
   "id": "278495b2",
   "metadata": {},
   "outputs": [],
   "source": [
    "%%bash\n",
    "kubectl exec curler --namespace ${NS_BRKR} -- curl -s -X POST http://broker-ingress.knative-eventing.svc.cluster.local/ms-brkr/default \\\n",
    "-H \"Ce-Id: say-hello\" \\\n",
    "-H \"Ce-Specversion: 1.0\" \\\n",
    "-H \"Ce-Type: order\" \\\n",
    "-H \"Ce-Source: curl\" \\\n",
    "-H \"Content-Type: application/json\" \\\n",
    "-d '{\"key\":\"invoicing + shipment\"}'\n",
    "\n",
    "kubectl logs deployment/shipment-00001-deployment --namespace ${NS_BRKR} | tail -20\n",
    "echo \"--------------------\"\n",
    "kubectl logs deployment/invoicing-00001-deployment --namespace ${NS_BRKR} | tail -20"
   ]
  },
  {
   "cell_type": "markdown",
   "id": "67f12541",
   "metadata": {},
   "source": [
    "- - -\n",
    "\n",
    "Aufräumen\n"
   ]
  },
  {
   "cell_type": "code",
   "execution_count": null,
   "id": "2d7419ae",
   "metadata": {},
   "outputs": [],
   "source": [
    "! # kubectl delete pod --all --namespace ${NS_BRKR} --grace-period=0 --force\n",
    "! kn service delete shipment  --namespace ${NS_BRKR}\n",
    "! kn service delete invoicing --namespace ${NS_BRKR}\n",
    "! kn service delete sales --namespace ${NS_BRKR}\n",
    "! kubectl delete namespace ${NS_BRKR}"
   ]
  },
  {
   "cell_type": "code",
   "execution_count": null,
   "id": "7a3b2d01",
   "metadata": {},
   "outputs": [],
   "source": []
  },
  {
   "cell_type": "code",
   "execution_count": null,
   "id": "b80e6e4e",
   "metadata": {},
   "outputs": [],
   "source": []
  }
 ],
 "metadata": {
  "kernelspec": {
   "display_name": "Python 3 (ipykernel)",
   "language": "python",
   "name": "python3"
  },
  "language_info": {
   "codemirror_mode": {
    "name": "ipython",
    "version": 3
   },
   "file_extension": ".py",
   "mimetype": "text/x-python",
   "name": "python",
   "nbconvert_exporter": "python",
   "pygments_lexer": "ipython3",
   "version": "3.12.3"
  }
 },
 "nbformat": 4,
 "nbformat_minor": 5
}
