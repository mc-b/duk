{
 "cells": [
  {
   "cell_type": "markdown",
   "metadata": {},
   "source": [
    "### Prometheus Beispiel\n",
    "\n",
    "![](https://prometheus-operator.dev/img/architecture.png)\n",
    "\n",
    "Quelle: [Blogeintrag](https://prometheus-operator.dev/docs/user-guides/getting-started/)\n",
    "\n",
    "- - -\n",
    "\n",
    "Prometheus liefert ein Beispiel eines überwachten Services.\n",
    "\n",
    "Dieser ist in diesem [Blogeintrag](https://prometheus-operator.dev/docs/user-guides/getting-started/) beschrieben.\n",
    "\n",
    "Wir starten das Beispiel bzw. den Microservice und erstellen gleichzeitig einen `ServiceMonitor`"
   ]
  },
  {
   "cell_type": "code",
   "execution_count": null,
   "metadata": {},
   "outputs": [],
   "source": [
    "%%bash\n",
    "kubectl create namespace mon-app\n",
    "\n",
    "cat <<%EOF% | kubectl apply --namespace mon-app -f -\n",
    "apiVersion: apps/v1\n",
    "kind: Deployment\n",
    "metadata:\n",
    "  name: example-app\n",
    "  labels:\n",
    "    app: example-app\n",
    "    tier: microservice   \n",
    "spec:\n",
    "  replicas: 3\n",
    "  selector:\n",
    "    matchLabels:\n",
    "      app: example-app\n",
    "  template:\n",
    "    metadata:\n",
    "      labels:\n",
    "        app: example-app\n",
    "        tier: microservice        \n",
    "    spec:\n",
    "      containers:\n",
    "      - name: example-app\n",
    "        image: fabxc/instrumented_app\n",
    "        ports:\n",
    "        - name: web\n",
    "          containerPort: 8080\n",
    "---\n",
    "kind: Service\n",
    "apiVersion: v1\n",
    "metadata:\n",
    "  name: example-app\n",
    "  labels:\n",
    "    app: example-app\n",
    "    tier: microservice    \n",
    "spec:\n",
    "  selector:\n",
    "    app: example-app\n",
    "  ports:\n",
    "  - name: web\n",
    "    port: 8080\n",
    "  type:\n",
    "    LoadBalancer\n",
    "---    \n",
    "apiVersion: monitoring.coreos.com/v1\n",
    "kind: ServiceMonitor\n",
    "metadata:\n",
    "  name: microservice\n",
    "  labels:\n",
    "    tier: microservice\n",
    "spec:\n",
    "  selector:\n",
    "    matchLabels:\n",
    "      tier: microservice\n",
    "  endpoints:\n",
    "  - port: web\n",
    "%EOF%\n"
   ]
  },
  {
   "cell_type": "markdown",
   "metadata": {},
   "source": [
    "Und kontrollieren ob alle Pods gestartet wurden"
   ]
  },
  {
   "cell_type": "code",
   "execution_count": null,
   "metadata": {},
   "outputs": [],
   "source": [
    "! kubectl get all,servicemonitors --namespace mon-app -l tier=microservice"
   ]
  },
  {
   "cell_type": "markdown",
   "metadata": {},
   "source": [
    "Ist dies der Fall, können wir die Metrics Daten abfragen"
   ]
  },
  {
   "cell_type": "code",
   "execution_count": null,
   "metadata": {},
   "outputs": [],
   "source": [
    "! curl example-app.mon-app:8080/metrics"
   ]
  },
  {
   "cell_type": "markdown",
   "metadata": {},
   "source": [
    "- - -\n",
    "# Bereitstellen von Prometheus \n",
    "\n",
    "Die erstellten Microservices können wir nun mit Prometheus überwachen.\n",
    "\n",
    "Dazu brauchen wir die entsprechenden Rechte:   "
   ]
  },
  {
   "cell_type": "code",
   "execution_count": null,
   "metadata": {},
   "outputs": [],
   "source": [
    "%%bash\n",
    "cat <<%EOF% | kubectl apply --namespace mon-app -f -\n",
    "apiVersion: v1\n",
    "kind: ServiceAccount\n",
    "metadata:\n",
    "  name: microservice\n",
    "---\n",
    "apiVersion: rbac.authorization.k8s.io/v1\n",
    "kind: ClusterRole\n",
    "metadata:\n",
    "  name: microservice\n",
    "rules:\n",
    "- apiGroups: [\"\"]\n",
    "  resources:\n",
    "  - nodes\n",
    "  - services\n",
    "  - endpoints\n",
    "  - pods\n",
    "  verbs: [\"get\", \"list\", \"watch\"]\n",
    "- apiGroups: [\"\"]\n",
    "  resources:\n",
    "  - configmaps\n",
    "  verbs: [\"get\"]\n",
    "- nonResourceURLs: [\"/metrics\"]\n",
    "  verbs: [\"get\"]\n",
    "---\n",
    "apiVersion: rbac.authorization.k8s.io/v1\n",
    "kind: ClusterRoleBinding\n",
    "metadata:\n",
    "  name: microservice\n",
    "roleRef:\n",
    "  apiGroup: rbac.authorization.k8s.io\n",
    "  kind: ClusterRole\n",
    "  name: microservice\n",
    "subjects:\n",
    "- kind: ServiceAccount\n",
    "  name: microservice\n",
    "  namespace: mon-app\n",
    "%EOF%\n"
   ]
  },
  {
   "cell_type": "markdown",
   "metadata": {},
   "source": [
    "Und eine eigene Prometheus Instanz.\n",
    "\n",
    "Mittels \n",
    "\n",
    "      alerting:  \n",
    "        alertmanagers:\n",
    "        - apiVersion: v2\n",
    "          name: alertmanager-example\n",
    "          namespace: mon-app\n",
    "          pathPrefix: /\n",
    "          port: web\n",
    "          \n",
    "stellen wir die Verbindung zum Alertmanager her.          "
   ]
  },
  {
   "cell_type": "code",
   "execution_count": null,
   "metadata": {},
   "outputs": [],
   "source": [
    "%%bash\n",
    "cat <<%EOF% | kubectl apply --namespace mon-app -f -\n",
    "apiVersion: v1\n",
    "kind: Service\n",
    "metadata:\n",
    "  name: prometheus\n",
    "spec:\n",
    "  type: NodePort\n",
    "  ports:\n",
    "  - name: web\n",
    "    port: 9090\n",
    "    protocol: TCP\n",
    "    targetPort: web\n",
    "  selector:\n",
    "    prometheus: prometheus\n",
    "  type: LoadBalancer\n",
    "---\n",
    "apiVersion: monitoring.coreos.com/v1\n",
    "kind: Prometheus\n",
    "metadata:\n",
    "  name: prometheus\n",
    "spec:\n",
    "  serviceAccountName: microservice\n",
    "  alerting:  \n",
    "    alertmanagers:\n",
    "    - apiVersion: v2\n",
    "      name: alertmanager-example\n",
    "      namespace: mon-app\n",
    "      pathPrefix: /\n",
    "      port: web\n",
    "  ruleSelector:\n",
    "    matchLabels:\n",
    "      role: alert-rules\n",
    "      prometheus: prometheus      \n",
    "  serviceMonitorSelector:\n",
    "    matchLabels:\n",
    "      tier: microservice\n",
    "  resources:\n",
    "    requests:\n",
    "      memory: 400Mi\n",
    "  enableAdminAPI: true\n",
    "%EOF%"
   ]
  },
  {
   "cell_type": "markdown",
   "metadata": {},
   "source": [
    "Im User Interface können wir dann die überwachten Targets und deren Status anschauen.\n",
    "\n",
    "Dazu ist als Query `up` einzugeben oder via Pulldown -> Status -> Targets die überwachten Microservices anzuzeigen.\n",
    "\n",
    "Ausserdem können wir alle Werte vom Befehl `curl example-app.mon-app:8080/metrics`, ebenfall abfragen."
   ]
  },
  {
   "cell_type": "code",
   "execution_count": null,
   "metadata": {},
   "outputs": [],
   "source": [
    "! echo \"Prometheus UI  : http://$(cat ~/work/server-ip):$(kubectl get service --namespace mon-app prometheus -o=jsonpath='{ .spec.ports[0].nodePort }')\""
   ]
  },
  {
   "cell_type": "markdown",
   "metadata": {},
   "source": [
    "---\n",
    "\n",
    "# [Bereitstellung Alertmanager](https://prometheus-operator.dev/docs/user-guides/alerting/)\n",
    "\n",
    "Der Prometheus-Operator führt eine AlertmanagerRessource ein, die es Benutzern ermöglicht, einen Alertmanager-Cluster deklarativ zu beschreiben. Um einen Alertmanager-Cluster erfolgreich bereitzustellen, ist es wichtig, die Interaktion zwischen Prometheus und dem Alertmanager zu verstehen. \n",
    "\n",
    "Der Alertmanager wird verwendet für:\n",
    "* Von Prometheus empfangene Warnungen deduplizieren.\n",
    "* Warnungen stummschalten.\n",
    "* Weiterleiten von Benachrichtigungen an verschiedene Endpunkte (PagerDuty, OpsGenie, Mail, Chat, …).\n",
    "\n"
   ]
  },
  {
   "cell_type": "code",
   "execution_count": null,
   "metadata": {},
   "outputs": [],
   "source": [
    "%%bash\n",
    "cat <<%EOF% | kubectl apply --namespace mon-app -f -\n",
    "apiVersion: monitoring.coreos.com/v1\n",
    "kind: Alertmanager\n",
    "metadata:\n",
    "  name: example\n",
    "spec:\n",
    "  replicas: 1\n",
    "  alertmanagerConfigSelector:\n",
    "    matchLabels:\n",
    "      alertmanagerConfig: example\n",
    "---\n",
    "apiVersion: v1\n",
    "kind: Service\n",
    "metadata:\n",
    "  name: alertmanager-example\n",
    "spec:\n",
    "  type: NodePort\n",
    "  ports:\n",
    "  - name: web\n",
    "    port: 9093\n",
    "    protocol: TCP\n",
    "    targetPort: web\n",
    "  selector:\n",
    "    alertmanager: example\n",
    "%EOF%"
   ]
  },
  {
   "cell_type": "markdown",
   "metadata": {},
   "source": [
    "Mittels `AlertmanagerConfig` können wir dem Alertmanager mitteilen wie auf Alerts zu reagieren ist."
   ]
  },
  {
   "cell_type": "code",
   "execution_count": null,
   "metadata": {},
   "outputs": [],
   "source": [
    "%%bash\n",
    "cat <<%EOF% | kubectl apply --namespace mon-app -f -\n",
    "apiVersion: monitoring.coreos.com/v1alpha1\n",
    "kind: AlertmanagerConfig\n",
    "metadata:\n",
    "  name: config-example\n",
    "  labels:\n",
    "    alertmanagerConfig: example\n",
    "spec:\n",
    "  route:\n",
    "    groupBy: ['job']\n",
    "    groupWait: 30s\n",
    "    groupInterval: 5m\n",
    "    repeatInterval: 12h\n",
    "    receiver: 'webhook'\n",
    "  receivers:\n",
    "  - name: 'webhook'\n",
    "    webhookConfigs:\n",
    "    - url: 'http://example.com/'\n",
    "%EOF%"
   ]
  },
  {
   "cell_type": "markdown",
   "metadata": {},
   "source": [
    "Und mittels `PrometheusRule` wird in Prometheus die entsprechende Regel aktiviert"
   ]
  },
  {
   "cell_type": "code",
   "execution_count": null,
   "metadata": {},
   "outputs": [],
   "source": [
    "%%bash\n",
    "cat <<%EOF% | kubectl apply --namespace mon-app -f -\n",
    "apiVersion: monitoring.coreos.com/v1\n",
    "kind: PrometheusRule\n",
    "metadata:\n",
    "  creationTimestamp: null\n",
    "  labels:\n",
    "    prometheus: prometheus\n",
    "    role: alert-rules    \n",
    "  name: prometheus-example-rules\n",
    "spec:\n",
    "  groups:\n",
    "  - name: example-app\n",
    "    rules:\n",
    "    - alert: ExampleAlert\n",
    "      expr: vector(1)\n",
    "%EOF%\n"
   ]
  },
  {
   "cell_type": "markdown",
   "metadata": {},
   "source": [
    "## Kontrolle\n",
    "\n",
    "Im Prometheus UI sollte unter den Pulldowns\n",
    "* Status -> Runtime Information & Build Information ein Alertmanager Endpoint vorhanden sein.\n",
    "* Status -> Drei Instanzen der Example-App\n",
    "* Status -> Rules die Example-App Rule\n",
    "Und bei `Alerts` eine Benachrichtigung.\n",
    "\n",
    "Im Alertmanager UI ist ebenfalls eine Benachrichtung ersichtlich."
   ]
  },
  {
   "cell_type": "code",
   "execution_count": null,
   "metadata": {},
   "outputs": [],
   "source": [
    "! echo \"Prometheus   UI: http://$(cat ~/work/server-ip):$(kubectl get service --namespace mon-app prometheus -o=jsonpath='{ .spec.ports[0].nodePort }')\"\n",
    "! echo \"Alertmanager UI: http://$(cat ~/work/server-ip):$(kubectl -n mon-app get service alertmanager-example -o=jsonpath='{ .spec.ports[0].nodePort }')\""
   ]
  },
  {
   "cell_type": "markdown",
   "metadata": {},
   "source": [
    "---\n",
    "### Aufräumen"
   ]
  },
  {
   "cell_type": "code",
   "execution_count": null,
   "metadata": {},
   "outputs": [],
   "source": [
    "! kubectl delete namespace mon-app"
   ]
  },
  {
   "cell_type": "code",
   "execution_count": null,
   "metadata": {},
   "outputs": [],
   "source": []
  }
 ],
 "metadata": {
  "kernelspec": {
   "display_name": "Python 3 (ipykernel)",
   "language": "python",
   "name": "python3"
  },
  "language_info": {
   "codemirror_mode": {
    "name": "ipython",
    "version": 3
   },
   "file_extension": ".py",
   "mimetype": "text/x-python",
   "name": "python",
   "nbconvert_exporter": "python",
   "pygments_lexer": "ipython3",
   "version": "3.10.6"
  }
 },
 "nbformat": 4,
 "nbformat_minor": 2
}
