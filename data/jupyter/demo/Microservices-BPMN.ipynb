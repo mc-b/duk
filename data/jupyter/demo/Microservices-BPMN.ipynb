{
 "cells": [
  {
   "cell_type": "markdown",
   "metadata": {},
   "source": [
    "BPMN Workflow (Microservices)\n",
    "----------------------------------------------\n",
    "\n",
    "![](images/Microservices-BPMN.png)\n",
    "\n",
    "- - -\n",
    "\n",
    "Die [Business Process Model and Notation](https://de.wikipedia.org/wiki/Business_Process_Model_and_Notation) (BPMN, deutsch Geschäftsprozessmodell und -notation) ist eine grafische Spezifikationssprache in der Wirtschaftsinformatik und im Prozessmanagement. Sie stellt Symbole zur Verfügung, mit denen Fach-, Methoden- und Informatikspezialisten Geschäftsprozesse und Arbeitsabläufe modellieren und dokumentieren können.\n",
    "\n",
    "[Camunda BPM](https://camunda.com/de/) ist ein in Java geschriebenes freies Workflow-Management-System, mit dem Geschäftsprozesse in BPMN 2.0 definiert und ausgeführt werden können.\n",
    "\n",
    "Das nachfolgende BPMN Beispiel basiert auf dem Blog Eintrag [Use Camunda without touching Java and get an easy-to-use REST-based orchestration and workflow engine](https://blog.bernd-ruecker.com/use-camunda-without-touching-java-and-get-an-easy-to-use-rest-based-orchestration-and-workflow-7bdf25ac198e) von Bernd Rücker.\n",
    "\n",
    "- - -\n",
    "Das Beispiel besteht aus folgenen Microservices\n",
    "\n",
    "* Einer BPMN **Workflow Engine** (Camunda) mit einen Prozess zur Freigabe von Rechnungen.\n",
    "* Ein **Frontend** in HTML und JS implementiert zum starten des obigen Prozesses.\n",
    "* Ein **Backend** zum Verbuchen der Rechnungen implementiert in Java."
   ]
  },
  {
   "cell_type": "code",
   "execution_count": null,
   "metadata": {},
   "outputs": [],
   "source": [
    "! kubectl apply -f https://raw.githubusercontent.com/mc-b/misegr/master/bpmn/bpmn-backend.yaml\n",
    "! kubectl apply -f https://raw.githubusercontent.com/mc-b/misegr/master/bpmn/bpmn-frontend.yaml\n",
    "! kubectl apply -f https://raw.githubusercontent.com/mc-b/misegr/master/bpmn/camunda.yaml"
   ]
  },
  {
   "cell_type": "markdown",
   "metadata": {},
   "source": [
    "- - - \n",
    "Nach dem Starten der Microservices müssen wir den BPMN Prozess in der Workflow Engine veröffentlichen."
   ]
  },
  {
   "cell_type": "code",
   "execution_count": null,
   "metadata": {},
   "outputs": [],
   "source": [
    "! wget https://raw.githubusercontent.com/mc-b/bpmn-tutorial/master/RechnungStep3.bpmn\n",
    "! curl -w \"\\n\" -H \"Accept: application/json\" -F \"deployment-name=rechnung\" -F \"enable-duplicate-filtering=true\" -F \"deploy-changed-only=true\" -F \"RechnungStep3.bpmn=@RechnungStep3.bpmn\" http://camunda:8080/engine-rest/deployment/create    "
   ]
  },
  {
   "cell_type": "markdown",
   "metadata": {},
   "source": [
    "- - -\n",
    "Nun können wir neue Rechnungen über das Frontend erfassen und diese in der Workflow Engine anschauen. Die URLs sind wie folgt:"
   ]
  },
  {
   "cell_type": "code",
   "execution_count": null,
   "metadata": {},
   "outputs": [],
   "source": [
    "! echo \"BPMN Workflow Engine: http://\"$(cat ~/work/server-ip)/camunda # User/Password: demo\"\n",
    "! echo \"Frontend            : http://\"$(cat ~/work/server-ip)/frontend/"
   ]
  },
  {
   "cell_type": "markdown",
   "metadata": {},
   "source": [
    "Im `Cockpit` sollte unter `Process Definitions` ein Prozess `RechnungStep3` ersichtlich sein. Fehlt dieser, den Befehl oben für die Veröffentlichung des Prozesses nochmals ausführen.\n",
    "\n",
    "Mittels dem Frontend oder nachfolgenden Befehl können wir diesen Prozess starten. Der gestartete Prozess ist dann unter `Tasklist` ersichtlich.\n"
   ]
  },
  {
   "cell_type": "code",
   "execution_count": null,
   "metadata": {},
   "outputs": [],
   "source": [
    "%%bash\n",
    "curl \\\n",
    "-H \"Content-Type: application/json\" \\\n",
    "-X POST \\\n",
    "-d '{ \"variables\": { \"rnr\": {\"value\": \"123\", \"type\": \"long\"}, \"rbetrag\": {\"value\": \"200.00\", \"type\": \"String\"} } }' \\\n",
    "http://camunda:8080/engine-rest/process-definition/key/RechnungStep3/start"
   ]
  },
  {
   "cell_type": "markdown",
   "metadata": {},
   "source": [
    "- - -\n",
    "Aufräumen"
   ]
  },
  {
   "cell_type": "code",
   "execution_count": null,
   "metadata": {},
   "outputs": [],
   "source": [
    "! kubectl delete -f https://raw.githubusercontent.com/mc-b/misegr/master/bpmn/bpmn-backend.yaml\n",
    "! kubectl delete -f https://raw.githubusercontent.com/mc-b/misegr/master/bpmn/bpmn-frontend.yaml\n",
    "! kubectl delete -f https://raw.githubusercontent.com/mc-b/misegr/master/bpmn/camunda.yaml"
   ]
  },
  {
   "cell_type": "code",
   "execution_count": null,
   "metadata": {},
   "outputs": [],
   "source": []
  }
 ],
 "metadata": {
  "kernelspec": {
   "display_name": "Python 3 (ipykernel)",
   "language": "python",
   "name": "python3"
  },
  "language_info": {
   "codemirror_mode": {
    "name": "ipython",
    "version": 3
   },
   "file_extension": ".py",
   "mimetype": "text/x-python",
   "name": "python",
   "nbconvert_exporter": "python",
   "pygments_lexer": "ipython3",
   "version": "3.9.6"
  }
 },
 "nbformat": 4,
 "nbformat_minor": 2
}
