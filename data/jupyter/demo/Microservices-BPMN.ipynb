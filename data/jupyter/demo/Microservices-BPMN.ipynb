{
 "cells": [
  {
   "cell_type": "markdown",
   "metadata": {},
   "source": [
    "BPMN Workflow (Microservices)\n",
    "----------------------------------------------\n",
    "\n",
    "![](images/Microservices-BPMN.png)\n",
    "\n",
    "- - -\n",
    "\n",
    "Die [Business Process Model and Notation](https://de.wikipedia.org/wiki/Business_Process_Model_and_Notation) (BPMN, deutsch Geschäftsprozessmodell und -notation) ist eine grafische Spezifikationssprache in der Wirtschaftsinformatik und im Prozessmanagement. Sie stellt Symbole zur Verfügung, mit denen Fach-, Methoden- und Informatikspezialisten Geschäftsprozesse und Arbeitsabläufe modellieren und dokumentieren können.\n",
    "\n",
    "[Camunda BPM](https://camunda.com/de/) ist ein in Java geschriebenes freies Workflow-Management-System, mit dem Geschäftsprozesse in BPMN 2.0 definiert und ausgeführt werden können.\n",
    "\n",
    "Das nachfolgende BPMN Beispiel basiert auf dem Blog Eintrag [Use Camunda without touching Java and get an easy-to-use REST-based orchestration and workflow engine](https://blog.bernd-ruecker.com/use-camunda-without-touching-java-and-get-an-easy-to-use-rest-based-orchestration-and-workflow-7bdf25ac198e) von Bernd Rücker.\n",
    "\n",
    "- - -\n",
    "Das Beispiel besteht aus folgenen Microservices\n",
    "\n",
    "* Einer BPMN **Workflow Engine** (Camunda) mit einen Prozess zur Freigabe von Rechnungen.\n",
    "* Ein **Frontend** in HTML und JS implementiert zum starten des obigen Prozesses.\n",
    "* Ein **Backend** zum Verbuchen der Rechnungen implementiert in Java."
   ]
  },
  {
   "cell_type": "code",
   "execution_count": 11,
   "metadata": {},
   "outputs": [
    {
     "name": "stdout",
     "output_type": "stream",
     "text": [
      "service/bpmn-backend unchanged\n",
      "deployment.apps/bpmn-backend unchanged\n",
      "service/bpmn-frontend unchanged\n",
      "deployment.apps/bpmn-frontend unchanged\n",
      "ingress.extensions/bpmn-frontend unchanged\n",
      "service/camunda unchanged\n",
      "deployment.apps/camunda unchanged\n",
      "ingress.extensions/camunda unchanged\n",
      "ingress.extensions/engine-rest unchanged\n"
     ]
    }
   ],
   "source": [
    "! kubectl apply -f https://raw.githubusercontent.com/mc-b/misegr/master/bpmn/bpmn-backend.yaml\n",
    "! kubectl apply -f https://raw.githubusercontent.com/mc-b/misegr/master/bpmn/bpmn-frontend.yaml\n",
    "! kubectl apply -f https://raw.githubusercontent.com/mc-b/misegr/master/bpmn/camunda.yaml"
   ]
  },
  {
   "cell_type": "markdown",
   "metadata": {},
   "source": [
    "- - - \n",
    "Nach dem Starten der Microservices müssen wir den BPMN Prozess in der Workflow Engine veröffentlichen."
   ]
  },
  {
   "cell_type": "code",
   "execution_count": 10,
   "metadata": {},
   "outputs": [
    {
     "name": "stdout",
     "output_type": "stream",
     "text": [
      "--2019-10-31 13:20:07--  https://raw.githubusercontent.com/mc-b/bpmn-tutorial/master/RechnungStep3.bpmn\n",
      "Resolving raw.githubusercontent.com (raw.githubusercontent.com)... 151.101.112.133\n",
      "Connecting to raw.githubusercontent.com (raw.githubusercontent.com)|151.101.112.133|:443... connected.\n",
      "HTTP request sent, awaiting response... 200 OK\n",
      "Length: 9306 (9.1K) [text/plain]\n",
      "Saving to: ‘RechnungStep3.bpmn.4’\n",
      "\n",
      "RechnungStep3.bpmn. 100%[===================>]   9.09K  --.-KB/s    in 0.001s  \n",
      "\n",
      "2019-10-31 13:20:07 (12.5 MB/s) - ‘RechnungStep3.bpmn.4’ saved [9306/9306]\n",
      "\n",
      "{\"links\":[{\"method\":\"GET\",\"href\":\"http://camunda:8080/engine-rest/deployment/856908be-fbe0-11e9-acdd-4a42f437ea3c\",\"rel\":\"self\"}],\"id\":\"856908be-fbe0-11e9-acdd-4a42f437ea3c\",\"name\":\"rechnung\",\"source\":null,\"deploymentTime\":\"2019-10-31T13:15:34.065+0000\",\"tenantId\":null,\"deployedProcessDefinitions\":null,\"deployedCaseDefinitions\":null,\"deployedDecisionDefinitions\":null,\"deployedDecisionRequirementsDefinitions\":null}\n"
     ]
    }
   ],
   "source": [
    "! wget https://raw.githubusercontent.com/mc-b/bpmn-tutorial/master/RechnungStep3.bpmn\n",
    "! curl -w \"\\n\" -H \"Accept: application/json\" -F \"deployment-name=rechnung\" -F \"enable-duplicate-filtering=true\" -F \"deploy-changed-only=true\" -F \"RechnungStep3.bpmn=@RechnungStep3.bpmn\" http://camunda:8080/engine-rest/deployment/create    "
   ]
  },
  {
   "cell_type": "markdown",
   "metadata": {},
   "source": [
    "- - -\n",
    "Nun können wir neue Rechnungen über das Frontend erfassen und diese in der Workflow Engine anschauen. Die URLs sind wie folgt:\n",
    "* Frontend [https://localhost:30443/frontend/index.html](https://localhost:30443/frontend/index.html)\n",
    "* Workflow Engine [https://localhost:30443/camunda](https://localhost:30443/camunda) - User/Password demo/demo"
   ]
  },
  {
   "cell_type": "markdown",
   "metadata": {},
   "source": [
    "- - -\n",
    "Aufräumen"
   ]
  },
  {
   "cell_type": "code",
   "execution_count": 12,
   "metadata": {},
   "outputs": [
    {
     "name": "stdout",
     "output_type": "stream",
     "text": [
      "service \"bpmn-backend\" deleted\n",
      "deployment.apps \"bpmn-backend\" deleted\n",
      "service \"bpmn-frontend\" deleted\n",
      "deployment.apps \"bpmn-frontend\" deleted\n",
      "ingress.extensions \"bpmn-frontend\" deleted\n",
      "service \"camunda\" deleted\n",
      "deployment.apps \"camunda\" deleted\n",
      "ingress.extensions \"camunda\" deleted\n",
      "ingress.extensions \"engine-rest\" deleted\n"
     ]
    }
   ],
   "source": [
    "! kubectl delete -f https://raw.githubusercontent.com/mc-b/misegr/master/bpmn/bpmn-backend.yaml\n",
    "! kubectl delete -f https://raw.githubusercontent.com/mc-b/misegr/master/bpmn/bpmn-frontend.yaml\n",
    "! kubectl delete -f https://raw.githubusercontent.com/mc-b/misegr/master/bpmn/camunda.yaml"
   ]
  },
  {
   "cell_type": "code",
   "execution_count": null,
   "metadata": {},
   "outputs": [],
   "source": []
  }
 ],
 "metadata": {
  "kernelspec": {
   "display_name": "Python 3",
   "language": "python",
   "name": "python3"
  },
  "language_info": {
   "codemirror_mode": {
    "name": "ipython",
    "version": 3
   },
   "file_extension": ".py",
   "mimetype": "text/x-python",
   "name": "python",
   "nbconvert_exporter": "python",
   "pygments_lexer": "ipython3",
   "version": "3.7.3"
  }
 },
 "nbformat": 4,
 "nbformat_minor": 2
}
