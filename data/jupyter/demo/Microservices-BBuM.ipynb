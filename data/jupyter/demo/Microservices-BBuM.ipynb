{
 "cells": [
  {
   "cell_type": "markdown",
   "metadata": {},
   "source": [
    "Microservices - Big Ball of Mud (Synchron)\n",
    "-------------------------------\n",
    "\n",
    "![](images/BigBallofMud.png)\n",
    "\n",
    "- - -\n",
    "\n",
    "Das Beispiel besteht aus Microservices: **Order**, **Customer**, **Catalog**, **Shipment**, **Invoicing** und **Sales**.\n",
    "\n",
    "**Order** nutzt **Catalog** und **Customer** mittels deren REST-Schnittstelle. \n",
    "**Shipment**, **Invoicing** und **Sales** holen Daten von **Order**, **Catalog** und **Customer** mittels deren REST-Schnittstelle. \n",
    "\n",
    "Ausserdem bietet jeder Microservice einige HTML-Seiten an.\n",
    "\n",
    "Zusätzlich ist ein Service **Webshop** am laufen, der dem Benutzer mit einer Webseite einen einfachen Einstieg in das System ermöglicht.\n",
    "\n",
    "- - -\n",
    "\n",
    "Zuerst erstellen wir den Kubernetes Namespace ms-bbum und Labeln diesen, dass Kiali Informationen sammeln kann."
   ]
  },
  {
   "cell_type": "code",
   "execution_count": null,
   "metadata": {},
   "outputs": [],
   "source": [
    "! kubectl create namespace ms-bbum\n",
    "! kubectl label  namespace ms-bbum istio-injection=enabled"
   ]
  },
  {
   "cell_type": "markdown",
   "metadata": {},
   "source": [
    "Jetzt ist ein guter Zeitpunkt um das Kubernetes Dashboard zu starten und dort im Pulldownmenu den Namespace \"ms-bbum\" auszuwählen.\n",
    "\n",
    "Wählt nachfolgenden Link an und aktzeptiert das Zertifikat um dann ohne Token, drückt \"Überspringen\" oder \"Skip\", ins Dashboard zu wechseln."
   ]
  },
  {
   "cell_type": "code",
   "execution_count": null,
   "metadata": {},
   "outputs": [],
   "source": [
    "! echo \"https://\"$(cat ~/work/server-ip)\":30443\""
   ]
  },
  {
   "cell_type": "markdown",
   "metadata": {},
   "source": [
    "Der Webshop, aus den vorherigen Übungen, ist jetzt aufgeteilt in einzelne Microservices.\n",
    "\n",
    "Diese starten wir deklarativ mittels `kubectl apply -f <Deklaration>`"
   ]
  },
  {
   "cell_type": "code",
   "execution_count": null,
   "metadata": {},
   "outputs": [],
   "source": [
    "%%bash\n",
    "kubectl apply --namespace ms-bbum -f https://gitlab.com/ch-mc-b/autoshop-ms/infra/kubernetes-templates/-/raw/main/3-2-0-deployment/catalog-deployment.yaml\n",
    "kubectl apply --namespace ms-bbum -f https://gitlab.com/ch-mc-b/autoshop-ms/infra/kubernetes-templates/-/raw/main/3-2-0-deployment/customer-deployment.yaml\n",
    "kubectl apply --namespace ms-bbum -f https://gitlab.com/ch-mc-b/autoshop-ms/infra/kubernetes-templates/-/raw/main/3-2-0-deployment/order-deployment.yaml\n",
    "kubectl apply --namespace ms-bbum -f https://gitlab.com/ch-mc-b/autoshop-ms/infra/kubernetes-templates/-/raw/main/3-2-0-deployment/webshop-deployment.yaml \n",
    "kubectl apply --namespace ms-bbum -f https://gitlab.com/ch-mc-b/autoshop-ms/infra/kubernetes-templates/-/raw/main/3-2-0-deployment/catalog-service.yaml\n",
    "kubectl apply --namespace ms-bbum -f https://gitlab.com/ch-mc-b/autoshop-ms/infra/kubernetes-templates/-/raw/main/3-2-0-deployment/customer-service.yaml\n",
    "kubectl apply --namespace ms-bbum -f https://gitlab.com/ch-mc-b/autoshop-ms/infra/kubernetes-templates/-/raw/main/3-2-0-deployment/order-service.yaml\n",
    "kubectl apply --namespace ms-bbum -f https://gitlab.com/ch-mc-b/autoshop-ms/infra/kubernetes-templates/-/raw/main/3-2-0-deployment/webshop-service.yaml\n",
    "kubectl apply --namespace ms-bbum -f https://gitlab.com/ch-mc-b/autoshop-ms/infra/kubernetes-templates/-/raw/main/3-2-0-deployment/shipment-deployment.yaml\n",
    "kubectl apply --namespace ms-bbum -f https://gitlab.com/ch-mc-b/autoshop-ms/infra/kubernetes-templates/-/raw/main/3-2-0-deployment/invoicing-deployment.yaml\n",
    "kubectl apply --namespace ms-bbum -f https://gitlab.com/ch-mc-b/autoshop-ms/infra/kubernetes-templates/-/raw/main/3-2-0-deployment/sales-deployment.yaml\n",
    "kubectl apply --namespace ms-bbum -f https://gitlab.com/ch-mc-b/autoshop-ms/infra/kubernetes-templates/-/raw/main/3-2-0-deployment/shipment-service.yaml\n",
    "kubectl apply --namespace ms-bbum -f https://gitlab.com/ch-mc-b/autoshop-ms/infra/kubernetes-templates/-/raw/main/3-2-0-deployment/invoicing-service.yaml\n",
    "kubectl apply --namespace ms-bbum -f https://gitlab.com/ch-mc-b/autoshop-ms/infra/kubernetes-templates/-/raw/main/3-2-0-deployment/sales-service.yaml\n",
    "kubectl get pod,services --namespace ms-bbum"
   ]
  },
  {
   "cell_type": "markdown",
   "metadata": {},
   "source": [
    "Da wir keinen LoadBalancer haben müssen wir mit einem kleinen Shellscript selber die IP des Clusters und der gemappte Port (port-based-routing) als URL aufbereiten."
   ]
  },
  {
   "cell_type": "code",
   "execution_count": null,
   "metadata": {},
   "outputs": [],
   "source": [
    "! echo \"http://\"$(cat ~/work/server-ip)\":\"$(kubectl get service --namespace ms-bbum webshop -o=jsonpath='{ .spec.ports[0].nodePort }')/webshop"
   ]
  },
  {
   "cell_type": "markdown",
   "metadata": {},
   "source": [
    "---\n",
    "## Kiali — Observability\n",
    "\n",
    "\n",
    "Kiali vom, Projekt Istio, hilft die Struktur (= Service Mesh) der Applikation und deren Microservices und Schnittstellen zu verstehen.\n",
    "\n",
    "In der Oberfläche wechselt rechts auf \"Graph\" und wählt als Namespace \"ms-bbum\" aus.\n",
    "\n",
    "Mittels Aktivierung der Option \"Traffic Animation\" im Pulldown \"Display\" wird die Kommunkation sichtbar"
   ]
  },
  {
   "cell_type": "code",
   "execution_count": null,
   "metadata": {},
   "outputs": [],
   "source": [
    "! kubectl get service -n istio-system -l app=kiali  -o yaml | sed 's/ClusterIP/NodePort/g' | kubectl apply -f -\n",
    "! echo \"Kiali   UI: http://\"$(cat ~/work/server-ip)\":\"$(kubectl get -n istio-system service -l app=kiali -o=jsonpath='{ .items[0].spec.ports[0].nodePort }')"
   ]
  },
  {
   "cell_type": "markdown",
   "metadata": {},
   "source": [
    "- - - \n",
    "## Jaeger — Tracing\n",
    "\n",
    "Jaeger ist ein System, um Aufrufe zwischen Microservices zu verfolgen.\n",
    "\n",
    "Wählt als Service \"sales.bbum\" aus und drückt auf \"Find Traces\""
   ]
  },
  {
   "cell_type": "code",
   "execution_count": null,
   "metadata": {},
   "outputs": [],
   "source": [
    "! kubectl get service -n istio-system -l app=jaeger -o yaml | sed 's/ClusterIP/NodePort/g' | kubectl apply -f -\n",
    "! echo \"Jaeger  UI: http://\"$(cat ~/work/server-ip)\":\"$(kubectl get -n istio-system service/tracing -o jsonpath='{.spec.ports[?(@.name==\"http-query\")].nodePort}')"
   ]
  },
  {
   "cell_type": "markdown",
   "metadata": {},
   "source": [
    "- - -\n",
    "## Lasttest\n",
    "\n",
    "Um die Verbindungen sichtbar zu machen, erzeugen wir ein wenig Traffic."
   ]
  },
  {
   "cell_type": "code",
   "execution_count": null,
   "metadata": {},
   "outputs": [],
   "source": [
    "%%bash\n",
    "URL=\"http://\"$(cat ~/work/server-ip)\":\"$(kubectl get service --namespace ms-bbum webshop -o=jsonpath='{ .spec.ports[0].nodePort }')/webshop\n",
    "\n",
    "for i in `seq 1 1000`;\n",
    "do\n",
    "    curl -s -o /dev/null -w \"%{http_code}\" ${URL}/order/order\n",
    "    curl -s -o /dev/null -w \"%{http_code}\" ${URL}/shipment/shipment\n",
    "    curl -s -o /dev/null -w \"%{http_code}\" ${URL}/invoicing/invoicing\n",
    "    curl -s -o /dev/null -w \"%{http_code}\" ${URL}/sales/sales\n",
    "    echo\n",
    "done"
   ]
  },
  {
   "cell_type": "markdown",
   "metadata": {},
   "source": [
    "- - -\n",
    "\n",
    "Aufräumen"
   ]
  },
  {
   "cell_type": "code",
   "execution_count": null,
   "metadata": {},
   "outputs": [],
   "source": [
    "! kubectl delete namespace ms-bbum"
   ]
  },
  {
   "cell_type": "markdown",
   "metadata": {},
   "source": [
    "- - -\n",
    "### Quellen\n",
    "\n",
    "* Sourcecode: https://gitlab.com/ch-mc-b/autoshop-ms/app/shop/-/tree/v2.1.0?ref_type=heads\n",
    "* Kubernetes Deklarationen: https://gitlab.com/ch-mc-b/autoshop-ms/infra/kubernetes-templates\n",
    "* Container Registry: https://gitlab.com/ch-mc-b/autoshop-ms/app/shop/container_registry"
   ]
  },
  {
   "cell_type": "code",
   "execution_count": null,
   "metadata": {},
   "outputs": [],
   "source": []
  }
 ],
 "metadata": {
  "kernelspec": {
   "display_name": "Python 3 (ipykernel)",
   "language": "python",
   "name": "python3"
  },
  "language_info": {
   "codemirror_mode": {
    "name": "ipython",
    "version": 3
   },
   "file_extension": ".py",
   "mimetype": "text/x-python",
   "name": "python",
   "nbconvert_exporter": "python",
   "pygments_lexer": "ipython3",
   "version": "3.12.3"
  }
 },
 "nbformat": 4,
 "nbformat_minor": 4
}
