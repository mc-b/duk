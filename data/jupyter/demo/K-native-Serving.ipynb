{
 "cells": [
  {
   "cell_type": "markdown",
   "id": "b774f43f",
   "metadata": {},
   "source": [
    "Übung: Serverless Computing mit K-native\n",
    "-----------------------------\n",
    "\n",
    "**Serverless Computing**, auch bekannt als Function as a Service (FaaS), ist ein modernes Cloud-Computing-Modell, das es Entwicklern ermöglicht, Anwendungen zu erstellen und auszuführen, ohne sich um die Verwaltung von Servern kümmern zu müssen. Bei Serverless-Architekturen werden die Ressourcen dynamisch bereitgestellt und skaliert,\n",
    "\n",
    "**K-native** (Kubernetes-native) ist eine leistungsfähige und flexible Plattform für die Bereitstellung von serverlosen Anwendungen auf Kubernetes. \n",
    "\n",
    "Entwickelt von Google und der Open-Source-Community, ermöglicht K-native Entwicklern, sich auf das Schreiben von Code zu konzentrieren, ohne sich um die zugrunde liegende Infrastruktur kümmern zu müssen. \n",
    "\n",
    "Durch die Nutzung der bestehenden Kubernetes-Ökosystems bietet K-native \n",
    "* automatische Skalierung\n",
    "* einfache Bereitstellung und Verwaltung von Containern nach dem Serverless (FAAS) Muster\n",
    "* Unterstützung für ereignisgesteuerte Architekturen. \n",
    "\n",
    "- - -\n",
    "\n",
    "Zuerst erstellen wir den Kubernetes Namespace\n",
    "\n"
   ]
  },
  {
   "cell_type": "code",
   "execution_count": null,
   "id": "f14f856b",
   "metadata": {},
   "outputs": [],
   "source": [
    "import os\n",
    "os.environ['NS_FAAS']='ms-faas'\n",
    "! kubectl create namespace ${NS_FAAS}\n",
    "! kubectl label  namespace ${NS_FAAS} istio-injection=enabled"
   ]
  },
  {
   "cell_type": "code",
   "execution_count": null,
   "id": "e9a7b941",
   "metadata": {},
   "outputs": [],
   "source": [
    "%%bash\n",
    "kubectl apply --namespace ${NS_FAAS} -f https://gitlab.com/ch-mc-b/autoshop-ms/infra/kubernetes-templates/-/raw/main/3-2-0-deployment/catalog-deployment.yaml\n",
    "kubectl apply --namespace ${NS_FAAS} -f https://gitlab.com/ch-mc-b/autoshop-ms/infra/kubernetes-templates/-/raw/main/3-2-0-deployment/customer-deployment.yaml\n",
    "kubectl apply --namespace ${NS_FAAS} -f https://gitlab.com/ch-mc-b/autoshop-ms/infra/kubernetes-templates/-/raw/main/3-2-0-deployment/order-deployment.yaml\n",
    "kubectl apply --namespace ${NS_FAAS} -f https://gitlab.com/ch-mc-b/autoshop-ms/infra/kubernetes-templates/-/raw/main/3-2-0-deployment/webshop-deployment.yaml \n",
    "kubectl apply --namespace ${NS_FAAS} -f https://gitlab.com/ch-mc-b/autoshop-ms/infra/kubernetes-templates/-/raw/main/3-2-0-deployment/catalog-service.yaml\n",
    "kubectl apply --namespace ${NS_FAAS} -f https://gitlab.com/ch-mc-b/autoshop-ms/infra/kubernetes-templates/-/raw/main/3-2-0-deployment/customer-service.yaml\n",
    "kubectl apply --namespace ${NS_FAAS} -f https://gitlab.com/ch-mc-b/autoshop-ms/infra/kubernetes-templates/-/raw/main/3-2-0-deployment/order-service.yaml\n",
    "kubectl apply --namespace ${NS_FAAS} -f https://gitlab.com/ch-mc-b/autoshop-ms/infra/kubernetes-templates/-/raw/main/3-2-0-deployment/webshop-service.yaml\n",
    "kubectl apply --namespace ${NS_FAAS} -f https://gitlab.com/ch-mc-b/autoshop-ms/infra/kubernetes-templates/-/raw/main/3-2-0-deployment/shipment-deployment.yaml\n",
    "kubectl apply --namespace ${NS_FAAS} -f https://gitlab.com/ch-mc-b/autoshop-ms/infra/kubernetes-templates/-/raw/main/3-2-0-deployment/invoicing-deployment.yaml\n",
    "kubectl apply --namespace ${NS_FAAS} -f https://gitlab.com/ch-mc-b/autoshop-ms/infra/kubernetes-templates/-/raw/main/3-2-0-deployment/sales-deployment.yaml\n",
    "kubectl apply --namespace ${NS_FAAS} -f https://gitlab.com/ch-mc-b/autoshop-ms/infra/kubernetes-templates/-/raw/main/3-2-0-deployment/shipment-service.yaml\n",
    "kubectl apply --namespace ${NS_FAAS} -f https://gitlab.com/ch-mc-b/autoshop-ms/infra/kubernetes-templates/-/raw/main/3-2-0-deployment/invoicing-service.yaml\n",
    "kubectl apply --namespace ${NS_FAAS} -f https://gitlab.com/ch-mc-b/autoshop-ms/infra/kubernetes-templates/-/raw/main/3-2-0-deployment/sales-service.yaml\n",
    "kubectl get   --namespace ${NS_FAAS} pods,services"
   ]
  },
  {
   "cell_type": "code",
   "execution_count": null,
   "id": "ffb55aba",
   "metadata": {},
   "outputs": [],
   "source": [
    "! echo \"http://\"$(cat ~/work/server-ip)\":\"$(kubectl get service --namespace ${NS_FAAS} webshop -o=jsonpath='{ .spec.ports[0].nodePort }')/webshop"
   ]
  },
  {
   "cell_type": "markdown",
   "id": "d0749542",
   "metadata": {},
   "source": [
    "Nach einer gewissen Zeit stellen wir fest, dass einige Container immer laufen und Prozesszeit brauchen, aber praktisch nicht verwendet werden. \n",
    "\n",
    "Diese sind **Shipment**, **Invoicing** und **Sales**.\n",
    "\n",
    "Diese wollen wir mittels K-native zu konfigurieren, dass sie erst gestartet werden, wenn sie benötigt werden. \n",
    "\n",
    "Deshalb beenden wir diese und starten sie mittels K-native neu."
   ]
  },
  {
   "cell_type": "code",
   "execution_count": null,
   "id": "a21f5dd1",
   "metadata": {},
   "outputs": [],
   "source": [
    "%%bash\n",
    "kubectl delete --namespace ${NS_FAAS} -f https://gitlab.com/ch-mc-b/autoshop-ms/infra/kubernetes-templates/-/raw/main/3-2-0-deployment/shipment-deployment.yaml\n",
    "kubectl delete --namespace ${NS_FAAS} -f https://gitlab.com/ch-mc-b/autoshop-ms/infra/kubernetes-templates/-/raw/main/3-2-0-deployment/invoicing-deployment.yaml\n",
    "kubectl delete --namespace ${NS_FAAS} -f https://gitlab.com/ch-mc-b/autoshop-ms/infra/kubernetes-templates/-/raw/main/3-2-0-deployment/sales-deployment.yaml\n",
    "kubectl delete --namespace ${NS_FAAS} -f https://gitlab.com/ch-mc-b/autoshop-ms/infra/kubernetes-templates/-/raw/main/3-2-0-deployment/shipment-service.yaml\n",
    "kubectl delete --namespace ${NS_FAAS} -f https://gitlab.com/ch-mc-b/autoshop-ms/infra/kubernetes-templates/-/raw/main/3-2-0-deployment/invoicing-service.yaml\n",
    "kubectl delete --namespace ${NS_FAAS} -f https://gitlab.com/ch-mc-b/autoshop-ms/infra/kubernetes-templates/-/raw/main/3-2-0-deployment/sales-service.yaml\n",
    "kubectl get   --namespace ${NS_FAAS} pods,services"
   ]
  },
  {
   "cell_type": "markdown",
   "id": "5423b59a",
   "metadata": {},
   "source": [
    "Um sie mittels K-native starten zu können, müssen wir zuerst den FQDN definieren:"
   ]
  },
  {
   "cell_type": "code",
   "execution_count": null,
   "id": "c1e3fb65",
   "metadata": {},
   "outputs": [],
   "source": [
    "! kubectl patch configmap/config-domain --namespace knative-serving --type merge --patch '{\"data\":{\"dukmaster-10-default.mshome.net\":\"\"}}' "
   ]
  },
  {
   "cell_type": "markdown",
   "id": "6f1db6b9",
   "metadata": {},
   "source": [
    "Dann können wir die Container im Serverless Modus starten"
   ]
  },
  {
   "cell_type": "code",
   "execution_count": null,
   "id": "cb5096d2",
   "metadata": {},
   "outputs": [],
   "source": [
    "%%bash\n",
    "kn service create invoicing --image registry.gitlab.com/ch-mc-b/autoshop-ms/app/backoffice/invoicing:4.0.0 --port 8080 --namespace ${NS_FAAS}\n",
    "kn service create shipment  --image registry.gitlab.com/ch-mc-b/autoshop-ms/app/backoffice/shipment:4.0.0  --port 8080 --namespace ${NS_FAAS}\n",
    "kn service create sales  --image registry.gitlab.com/ch-mc-b/autoshop-ms/app/management/sales:3.2.0  --port 8080 --namespace ${NS_FAAS}"
   ]
  },
  {
   "cell_type": "markdown",
   "id": "1a46f315",
   "metadata": {},
   "source": [
    "Zuerst Überprüfen wir ob die Services \"Ready\" sind"
   ]
  },
  {
   "cell_type": "code",
   "execution_count": null,
   "id": "0aeb5607",
   "metadata": {},
   "outputs": [],
   "source": [
    "! kn service ls --namespace ${NS_FAAS} \n",
    "! kubectl --namespace ${NS_FAAS} get pods -l serving.knative.dev/configuration \n",
    "! # kubectl --namespace ${NS_FAAS} get services -l serving.knative.dev/configuration "
   ]
  },
  {
   "cell_type": "code",
   "execution_count": null,
   "id": "952de347",
   "metadata": {},
   "outputs": [],
   "source": [
    "%%bash\n",
    "PORT=$(kubectl get service --namespace kourier-system kourier -o=jsonpath='{ .spec.ports[0].nodePort }')\n",
    "curl -H \"Host: shipment.${NS_FAAS}.dukmaster-10-default.mshome.net\" http://localhost:${PORT}/shipment/api\n",
    "curl -H \"Host: invoicing.${NS_FAAS}.dukmaster-10-default.mshome.net\" http://localhost:${PORT}/invoicing/api\n",
    "curl -H \"Host: sales.${NS_FAAS}.dukmaster-10-default.mshome.net\" http://localhost:${PORT}/sales"
   ]
  },
  {
   "cell_type": "markdown",
   "id": "3271c374",
   "metadata": {},
   "source": [
    "Um die Services via Browser anzusprechen ist im Windows die Datei `C:\\Windows\\System32\\Drivers\\etc\\hosts` um folgende Einträge zu ergänzen."
   ]
  },
  {
   "cell_type": "code",
   "execution_count": null,
   "id": "8beea731",
   "metadata": {},
   "outputs": [],
   "source": [
    "%%bash\n",
    "PORT=$(kubectl get service --namespace kourier-system kourier -o=jsonpath='{ .spec.ports[0].nodePort }')\n",
    "echo $(cat ~/work/server-ip) shipment.${NS_FAAS}.dukmaster-10-default.mshome.net\n",
    "echo $(cat ~/work/server-ip) invoicing.${NS_FAAS}.dukmaster-10-default.mshome.net\n",
    "echo $(cat ~/work/server-ip) sales.${NS_FAAS}.dukmaster-10-default.mshome.net\n",
    "\n",
    "echo \"\"\n",
    "echo \"Browser URLs\"\n",
    "echo http://shipment.${NS_FAAS}.dukmaster-10-default.mshome.net:${PORT}/shipment\n",
    "echo http://invoicing.${NS_FAAS}.dukmaster-10-default.mshome.net:${PORT}/invoicing\n",
    "echo http://sales.${NS_FAAS}.dukmaster-10-default.mshome.net:${PORT}/sales\n"
   ]
  },
  {
   "cell_type": "markdown",
   "id": "a72679f7",
   "metadata": {},
   "source": [
    "Im Dashboard können wir das Verhalten beobachten. Nach einer gewissen Zeit werden die Pods **Shipment**, **Invoicing** und **Sales** beendet. Durch drücken von Refresh im Browser werden diese automatisch wieder gestartet."
   ]
  },
  {
   "cell_type": "code",
   "execution_count": null,
   "id": "737bece3",
   "metadata": {},
   "outputs": [],
   "source": [
    "! echo \"https://\"$(cat ~/work/server-ip)\":8443\""
   ]
  },
  {
   "cell_type": "markdown",
   "id": "79d0b734",
   "metadata": {},
   "source": [
    "---\n",
    "## Kiali — Observability\n",
    "\n",
    "\n",
    "Kiali vom, Projekt Istio, hilft die Struktur (= Service Mesh) der Applikation und deren Microservices und Schnittstellen zu verstehen.\n",
    "\n",
    "\n",
    "In der Oberfläche wechselt rechts auf \"Graph\" und wählt als Namespace **ms-faas** aus.\n",
    "\n",
    "Mittels Aktivierung der Option \"Traffic Animation\" im Pulldown \"Display\" wird die Kommunkation sichtbar"
   ]
  },
  {
   "cell_type": "code",
   "execution_count": null,
   "id": "321a5e2a",
   "metadata": {},
   "outputs": [],
   "source": [
    "! kubectl get service -n istio-system -l app=kiali  -o yaml | sed 's/ClusterIP/NodePort/g' | kubectl apply -f -\n",
    "! echo \"Kiali   UI: http://\"$(cat ~/work/server-ip)\":\"$(kubectl get -n istio-system service -l app=kiali -o=jsonpath='{ .items[0].spec.ports[0].nodePort }')"
   ]
  },
  {
   "cell_type": "markdown",
   "id": "fb34fb19",
   "metadata": {},
   "source": [
    "## Lasttest\n",
    "\n",
    "Um die Verbindungen sichtbar zu machen, erzeugen wir ein wenig Traffic.\n",
    "\n",
    "Dazu verwenden wir [hey](https://github.com/rakyll/hey) welche gleichzeitige parallele Request unterstützt."
   ]
  },
  {
   "cell_type": "code",
   "execution_count": null,
   "id": "fe739a74",
   "metadata": {},
   "outputs": [],
   "source": [
    "%%bash\n",
    "PORT=$(kubectl get service --namespace kourier-system kourier -o=jsonpath='{ .spec.ports[0].nodePort }')\n",
    "hey -n 10000 -c 10 -H \"Host: sales.${NS_FAAS}.dukmaster-10-default.mshome.net\" http://localhost:${PORT}/sales"
   ]
  },
  {
   "cell_type": "markdown",
   "id": "67f12541",
   "metadata": {},
   "source": [
    "- - -\n",
    "\n",
    "Aufräumen\n"
   ]
  },
  {
   "cell_type": "code",
   "execution_count": null,
   "id": "2d7419ae",
   "metadata": {},
   "outputs": [],
   "source": [
    "! # kubectl delete pod --all --namespace ${NS-FAAS} --grace-period=0 --force\n",
    "! kn service delete shipment  --namespace ${NS_FAAS}\n",
    "! kn service delete invoicing --namespace ${NS_FAAS}\n",
    "! kn service delete sales --namespace ${NS_FAAS}\n",
    "! kubectl delete namespace ${NS_FAAS}"
   ]
  },
  {
   "cell_type": "code",
   "execution_count": null,
   "id": "14b27223",
   "metadata": {},
   "outputs": [],
   "source": []
  }
 ],
 "metadata": {
  "kernelspec": {
   "display_name": "Python 3 (ipykernel)",
   "language": "python",
   "name": "python3"
  },
  "language_info": {
   "codemirror_mode": {
    "name": "ipython",
    "version": 3
   },
   "file_extension": ".py",
   "mimetype": "text/x-python",
   "name": "python",
   "nbconvert_exporter": "python",
   "pygments_lexer": "ipython3",
   "version": "3.12.3"
  }
 },
 "nbformat": 4,
 "nbformat_minor": 5
}
