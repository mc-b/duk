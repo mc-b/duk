{
 "cells": [
  {
   "cell_type": "markdown",
   "metadata": {},
   "source": [
    "Asynchrone Microservices\n",
    "------------------------\n",
    "\n",
    "![](images/Microservices-Messaging.png)\n",
    "\n",
    "Source: Book Microservices Recipes\n",
    "- - -\n",
    "\n",
    "The system consists of a microservice **order** that accepts an order via the web interface.\n",
    "\n",
    "The ordering process then sends the order as a record via Kafka to the microservice for shipping **shipping** and the microservice for creating the invoice **invoicing**.\n",
    "\n",
    "The order is transmitted as JSON. In this way, the billing microservice and the shipping microservice can each read the data from the data structure that is relevant for the respective microservice.\n",
    "\n",
    "The shipping microservice and the billing microservice store the information from the records in their own database schemas. All microservices use a common Postgres database.\n",
    "\n",
    "- - -\n",
    "\n",
    "First we create the ms-kafka Kubernetes namespace and label it so that Kiali can collect information."
   ]
  },
  {
   "cell_type": "code",
   "execution_count": null,
   "metadata": {},
   "outputs": [],
   "source": [
    "! kubectl create namespace ms-kafka\n",
    "! kubectl label  namespace ms-kafka istio-injection=enabled"
   ]
  },
  {
   "cell_type": "markdown",
   "metadata": {},
   "source": [
    "Now is a good time to launch the Kubernetes Dashboard and select the \"ms-rest\" namespace there.\n",
    "\n",
    "Then we see how the next step is to create the microservices."
   ]
  },
  {
   "cell_type": "code",
   "execution_count": null,
   "metadata": {},
   "outputs": [],
   "source": [
    "%%bash\n",
    "kubectl apply -f https://raw.githubusercontent.com/mc-b/misegr/master/ewolff/ms-kafka/apache.yaml\n",
    "kubectl apply -f https://raw.githubusercontent.com/mc-b/misegr/master/ewolff/ms-kafka/invoicing.yaml\n",
    "kubectl apply -f https://raw.githubusercontent.com/mc-b/misegr/master/ewolff/ms-kafka/kafka.yaml\n",
    "kubectl apply -f https://raw.githubusercontent.com/mc-b/misegr/master/ewolff/ms-kafka/order.yaml\n",
    "kubectl apply -f https://raw.githubusercontent.com/mc-b/misegr/master/ewolff/ms-kafka/postgres.yaml\n",
    "kubectl apply -f https://raw.githubusercontent.com/mc-b/misegr/master/ewolff/ms-kafka/shipping.yaml\n",
    "kubectl apply -f https://raw.githubusercontent.com/mc-b/misegr/master/ewolff/ms-kafka/zookeeper.yaml\n",
    "kubectl get service/apache --namespace ms-kafka"
   ]
  },
  {
   "cell_type": "markdown",
   "metadata": {},
   "source": [
    "Since we don't have a load balancer, we have to prepare the IP of the cluster and the mapped port (port-based-routing) as a URL using a small shell script.\n",
    "\n",
    "If this URL is opened in a new tab, a menu is displayed."
   ]
  },
  {
   "cell_type": "code",
   "execution_count": null,
   "metadata": {},
   "outputs": [],
   "source": [
    "! echo \"http://\"$(cat ~/work/server-ip)\":\"$(kubectl get service --namespace ms-kafka apache -o=jsonpath='{ .spec.ports[0].nodePort }')"
   ]
  },
  {
   "cell_type": "markdown",
   "metadata": {},
   "source": [
    "- -  -\n",
    "After we have entered a few orders, we can look at the messages in the messaging server (Kafka).\n"
   ]
  },
  {
   "cell_type": "code",
   "execution_count": null,
   "metadata": {},
   "outputs": [],
   "source": [
    "! kubectl exec -n ms-kafka  $(kubectl get po -l app=kafka -n ms-kafka -o=jsonpath='{ .items[0].metadata.name }') -- bash /opt/kafka/bin/kafka-console-consumer.sh --bootstrap-server localhost:9092 --topic order --from-beginning --timeout-ms 2000 | jq "
   ]
  },
  {
   "cell_type": "markdown",
   "metadata": {},
   "source": [
    "---\n",
    "## Kiali - Observability\n",
    "\n",
    "Kiali from the Istio project helps to understand the structure (= service mesh) of the application and its microservices and interfaces."
   ]
  },
  {
   "cell_type": "code",
   "execution_count": null,
   "metadata": {},
   "outputs": [],
   "source": [
    "! kubectl get service -n istio-system -l app=kiali  -o yaml | sed 's/ClusterIP/NodePort/g' | kubectl apply -f -\n",
    "! echo \"Kiali   UI: http://\"$(cat ~/work/server-ip)\":\"$(kubectl get -n istio-system service -l app=kiali -o=jsonpath='{ .items[0].spec.ports[0].nodePort }')"
   ]
  },
  {
   "cell_type": "markdown",
   "metadata": {},
   "source": [
    "- - -\n",
    "## Jaeger - Tracing\n",
    "\n",
    "Jaeger is a system to track calls between microservices."
   ]
  },
  {
   "cell_type": "code",
   "execution_count": null,
   "metadata": {},
   "outputs": [],
   "source": [
    "! kubectl get service -n istio-system -l app=jaeger -o yaml | sed 's/ClusterIP/NodePort/g' | kubectl apply -f -\n",
    "! echo \"Jaeger  UI: http://\"$(cat ~/work/server-ip)\":\"$(kubectl get -n istio-system service/tracing -o jsonpath='{.spec.ports[?(@.name==\"http-query\")].nodePort}')"
   ]
  },
  {
   "cell_type": "markdown",
   "metadata": {},
   "source": [
    "- - -\n",
    "## Lasttest\n",
    "\n",
    "In order to make the connections visible, we generate a little traffic."
   ]
  },
  {
   "cell_type": "code",
   "execution_count": null,
   "metadata": {},
   "outputs": [],
   "source": [
    "%%bash\n",
    "for i in `seq 1 1000`;\n",
    "do\n",
    "    curl -s -o /dev/null -I -w \"%{http_code}\" http://apache.ms-kafka/order/order\n",
    "    echo\n",
    "done"
   ]
  },
  {
   "cell_type": "markdown",
   "metadata": {},
   "source": [
    "- - -\n",
    "\n",
    "Clean up"
   ]
  },
  {
   "cell_type": "code",
   "execution_count": null,
   "metadata": {},
   "outputs": [],
   "source": [
    "! kubectl delete namespace ms-kafka"
   ]
  },
  {
   "cell_type": "markdown",
   "metadata": {},
   "source": [
    "- - -\n",
    "## Grafana\n",
    "\n",
    "Grafana is an open-source, cross-platform application for graphing data from various data sources such as B. InfluxDB, MySQL, PostgreSQL, Prometheus and Graphite. The recorded raw data can then be output in various display formats"
   ]
  },
  {
   "cell_type": "code",
   "execution_count": null,
   "metadata": {},
   "outputs": [],
   "source": [
    "! kubectl get service -n istio-system -l app.kubernetes.io/instance=grafana -o yaml | sed 's/ClusterIP/NodePort/g' | kubectl apply -f -\n",
    "! echo \"Grafana  UI: http://\"$(cat ~/work/server-ip)\":\"$(kubectl get -n istio-system service -l app.kubernetes.io/instance=grafana -o=jsonpath='{ .items[0].spec.ports[0].nodePort }')                                                         "
   ]
  },
  {
   "cell_type": "code",
   "execution_count": null,
   "metadata": {},
   "outputs": [],
   "source": []
  }
 ],
 "metadata": {
  "kernelspec": {
   "display_name": "Python 3 (ipykernel)",
   "language": "python",
   "name": "python3"
  },
  "language_info": {
   "codemirror_mode": {
    "name": "ipython",
    "version": 3
   },
   "file_extension": ".py",
   "mimetype": "text/x-python",
   "name": "python",
   "nbconvert_exporter": "python",
   "pygments_lexer": "ipython3",
   "version": "3.10.6"
  }
 },
 "nbformat": 4,
 "nbformat_minor": 2
}
