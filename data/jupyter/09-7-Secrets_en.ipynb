{
 "cells": [
  {
   "cell_type": "markdown",
   "metadata": {},
   "source": [
    "Exercise: Secrets\n",
    "----------------------\n",
    "\n",
    "The use of Secrets will be demonstrated using MySQL as an example.\n",
    "\n",
    "First, the secrets must be created using `kubectl`:"
   ]
  },
  {
   "cell_type": "code",
   "execution_count": null,
   "metadata": {},
   "outputs": [],
   "source": [
    "! kubectl create secret generic mysql-pass --from-literal=password=admin\n",
    "! kubectl create secret generic mysql-user-pass --from-literal=password=secret"
   ]
  },
  {
   "cell_type": "code",
   "execution_count": null,
   "metadata": {},
   "outputs": [],
   "source": [
    "! kubectl get secrets"
   ]
  },
  {
   "cell_type": "markdown",
   "metadata": {},
   "source": [
    "The environment variables in the YAML file must then be set in such a way that they access the secret values\n",
    "\n",
    "        env:\n",
    "        - name: MYSQL_ROOT_PASSWORD\n",
    "          valueFrom:\n",
    "           secretKeyRef:\n",
    "            name: mysql-pass\n",
    "            key: password\n",
    "            \n",
    "        - name: MYSQL_PASSWORD\n",
    "          valueFrom:\n",
    "           secretKeyRef:\n",
    "            name: mysql-user-pass\n",
    "            key: password\n",
    "\n",
    "The other values, such as username, can be set in the YAML file:\n",
    "\n",
    "        env:\n",
    "        - name: MYSQL_USER\n",
    "          value: test\n",
    "        - name: MYSQL_DATABASE\n",
    "          value: test \n",
    "          \n",
    "**Note**: The information about which environment variables we can set is in the documentation of the container image [mysql](https://hub.docker.com/_/mysql)"
   ]
  },
  {
   "cell_type": "code",
   "execution_count": null,
   "metadata": {},
   "outputs": [],
   "source": [
    "! kubectl apply -f 09-7-Secrets/mysql.yaml"
   ]
  },
  {
   "cell_type": "markdown",
   "metadata": {},
   "source": [
    "For testing we use [adminer](https://www.adminer.org/de/).\n",
    "\n",
    "The server (hostname) is `mysql`, username, password and database result from the previous configuration."
   ]
  },
  {
   "cell_type": "code",
   "execution_count": null,
   "metadata": {},
   "outputs": [],
   "source": [
    "! kubectl apply -f https://raw.githubusercontent.com/mc-b/duk/master/mysql/adminer.yaml\n",
    "! echo \"http://$(cat ~/work/server-ip):$(kubectl get service adminer -o=jsonpath='{ .spec.ports[0].nodePort }')/adminer\""
   ]
  },
  {
   "cell_type": "markdown",
   "metadata": {},
   "source": [
    "- - -\n",
    "\n",
    "### Security\n",
    "\n",
    "Since [Secrets](https://kubernetes.io/docs/concepts/configuration/secret/) is a separate resource, we can secure it separately. For example, the operating company is not allowed to see them, despite access to the dashbard.\n",
    "\n",
    "However, if the application/database needs these as plain text environment variables, security is no longer given, at the latest when changing to the container.\n"
   ]
  },
  {
   "cell_type": "code",
   "execution_count": null,
   "metadata": {},
   "outputs": [],
   "source": [
    "! kubectl exec deployment/mysql -- printenv | grep MYSQL"
   ]
  },
  {
   "attachments": {},
   "cell_type": "markdown",
   "metadata": {},
   "source": [
    "#### alternatives\n",
    "\n",
    "Then alternatives are required, e.g.\n",
    "\n",
    "* [Hashicorp Vault](https://www.vaultproject.io/)\n",
    "* [Bitnami Sealed Secrets](https://github.com/bitnami-labs/sealed-secrets)\n",
    "\n",
    "Quelle: [5 GitOps Best Practices](https://blog.argoproj.io/5-gitops-best-practices-d95cb0cbe9ff)"
   ]
  },
  {
   "cell_type": "markdown",
   "metadata": {},
   "source": [
    "- - -\n",
    "\n",
    "Clean up"
   ]
  },
  {
   "cell_type": "code",
   "execution_count": null,
   "metadata": {},
   "outputs": [],
   "source": [
    "! kubectl delete -f 09-7-Secrets/mysql.yaml\n",
    "! kubectl delete -f https://raw.githubusercontent.com/mc-b/duk/master/mysql/adminer.yaml\n",
    "! kubectl delete secret mysql-pass\n",
    "! kubectl delete secret mysql-user-pass"
   ]
  },
  {
   "cell_type": "code",
   "execution_count": null,
   "metadata": {},
   "outputs": [],
   "source": []
  }
 ],
 "metadata": {
  "kernelspec": {
   "display_name": "Python 3 (ipykernel)",
   "language": "python",
   "name": "python3"
  },
  "language_info": {
   "codemirror_mode": {
    "name": "ipython",
    "version": 3
   },
   "file_extension": ".py",
   "mimetype": "text/x-python",
   "name": "python",
   "nbconvert_exporter": "python",
   "pygments_lexer": "ipython3",
   "version": "3.10.6"
  }
 },
 "nbformat": 4,
 "nbformat_minor": 2
}
