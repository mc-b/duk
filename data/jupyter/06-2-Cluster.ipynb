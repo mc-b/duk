{
 "cells": [
  {
   "cell_type": "markdown",
   "id": "9d7e1c06-fd3a-46ee-926d-0d3dd73de6ea",
   "metadata": {},
   "source": [
    "Übung: 3 VMs zu einem Kubernetes Cluster verbinden\n",
    "--------------------------------------------------\n",
    "\n",
    "MicroK8s bietet eine einfache und effiziente Möglichkeit, Kubernetes-Cluster lokal oder in Produktionsumgebungen zu betreiben. \n",
    "\n",
    "Das Hinzufügen von Nodes zu einem bestehenden MicroK8s-Cluster erfolgt über den Befehl `microk8s add-node`. \n",
    "\n",
    "Dieser Befehl generiert die notwendigen Verbindungsinformationen und Token, die benötigt werden, um neue Nodes (Master oder Worker) sicher in den Cluster zu integrieren.\n",
    "\n",
    "- - -\n",
    "\n",
    "Um die Vorgänge zu visualisieren starten wird Kubernetes Dashboard und scrollen rechts herunter zu Cluster -> Nodes\n",
    "\n",
    "Wählt dazu nachfolgenden Link an und aktzeptiert das Zertifikat um dann ohne Token, drückt \"Überspringen\" oder \"Skip\", ins Dashboard zu wechseln.\n"
   ]
  },
  {
   "cell_type": "code",
   "execution_count": null,
   "id": "7600892f-24a8-4711-969b-867724f02d62",
   "metadata": {},
   "outputs": [],
   "source": [
    "! echo \"https://\"$(cat ~/work/server-ip)\":18443\""
   ]
  },
  {
   "cell_type": "code",
   "execution_count": null,
   "id": "d72be497-735f-403c-9a4d-4f911da5d062",
   "metadata": {},
   "outputs": [],
   "source": [
    "%%bash\n",
    "# Verbindungsinformationen und Token aufbereiten\n",
    "export JOIN=$(microk8s add-node | grep worker | tail -1)\n",
    "echo $JOIN\n",
    "# Knoten (Worker) 01 integrieren\n",
    "ssh dukworker-11-default -- ${JOIN}"
   ]
  },
  {
   "cell_type": "code",
   "execution_count": null,
   "id": "2797cc4f-618b-4627-976a-b5f3627d6d7d",
   "metadata": {},
   "outputs": [],
   "source": [
    "%%bash\n",
    "# Knoten (Worker) 02 integrieren\n",
    "export JOIN=$(microk8s add-node | grep worker | tail -1)\n",
    "ssh dukworker-12-default -- ${JOIN}"
   ]
  },
  {
   "cell_type": "code",
   "execution_count": null,
   "id": "44dc7f96-547b-49bc-adf1-1e44392f0d2d",
   "metadata": {},
   "outputs": [],
   "source": [
    "! kubectl get nodes "
   ]
  },
  {
   "cell_type": "markdown",
   "id": "106b7573",
   "metadata": {},
   "source": [
    "Mittels der Label (Unterschiedlich pro Distribution) können wir die Rollen: **Master** oder **Worker** anzeigen lassen"
   ]
  },
  {
   "cell_type": "code",
   "execution_count": null,
   "id": "da2346d9",
   "metadata": {},
   "outputs": [],
   "source": [
    "%%bash\n",
    "echo \"Master\"\n",
    "kubectl get nodes -l node.kubernetes.io/microk8s-controlplane=microk8s-controlplane\n",
    "echo \"--------------------------------------------------------\"\n",
    "echo \"Worker\"\n",
    "kubectl get nodes -l node.kubernetes.io/microk8s-worker=microk8s-worker"
   ]
  },
  {
   "cell_type": "markdown",
   "id": "8b18fe55-97af-40d9-8724-c2702acbfd25",
   "metadata": {},
   "source": [
    "- - -\n",
    "\n",
    "### Zentraler Persistenter Speicher\n",
    "\n",
    "Damit alle Kubernetes Nodes (Master + Worker) den gleichen zentralen Persistenten Speicher verwenden, wurder vorher auf dem Master ein NFS Share /data eingerichtet."
   ]
  },
  {
   "cell_type": "code",
   "execution_count": null,
   "id": "71a2434b-e162-42e1-8832-e052ca7e4491",
   "metadata": {},
   "outputs": [],
   "source": [
    "! cat /etc/exports"
   ]
  },
  {
   "cell_type": "markdown",
   "id": "77bba661-6bf2-44f3-a148-b0260801186e",
   "metadata": {},
   "source": [
    "Damit müssen sich jetzt noch die Worker Nodes verbinden"
   ]
  },
  {
   "cell_type": "code",
   "execution_count": null,
   "id": "4ecf5d8c-270c-47d4-af9e-71e73874f616",
   "metadata": {},
   "outputs": [],
   "source": [
    "! ssh dukworker-11-default -- \"sudo mount -t nfs dukmaster-10-default:/data /data; df -h | grep /data\""
   ]
  },
  {
   "cell_type": "code",
   "execution_count": null,
   "id": "bebbecc6-0f52-48bb-8cef-7f0df9078ddf",
   "metadata": {},
   "outputs": [],
   "source": [
    "! ssh dukworker-12-default -- \"sudo mount -t nfs dukmaster-10-default:/data /data; df -h | grep /data\""
   ]
  },
  {
   "cell_type": "markdown",
   "id": "8a0ab628",
   "metadata": {},
   "source": [
    "Die entsprechende Dateiablage, sogenannte PersistentVolumes (PV) in Kubernetes, wurde beim Installieren von Kubernetes eingerichtet. Das PersistentVolumes zeigt auf das Verzeichnis `/data`, siehe Eintrag `hostPath`.\n",
    "\n",
    "Diese Einrichtung ermöglicht die Trennung von Speicher und Container-Lebenszyklus, sodass Daten über Container-(Pod)-Neustarts und -Löschungen hinaus bestehen bleiben."
   ]
  },
  {
   "cell_type": "code",
   "execution_count": null,
   "id": "c8fd2a34",
   "metadata": {},
   "outputs": [],
   "source": [
    "! kubectl get persistentvolumes -o yaml | kubectl-neat"
   ]
  },
  {
   "cell_type": "markdown",
   "id": "cc81ee40",
   "metadata": {},
   "source": [
    "Im Kubernetes Dashboard finden wir den Eintrag in dem wir rechts herunterscrollen auf Cluster -> PersistentVolumes"
   ]
  },
  {
   "cell_type": "code",
   "execution_count": null,
   "id": "c030eb8b",
   "metadata": {},
   "outputs": [],
   "source": [
    "! echo \"https://\"$(cat ~/work/server-ip)\":18443\""
   ]
  },
  {
   "cell_type": "code",
   "execution_count": null,
   "id": "85d10d85",
   "metadata": {},
   "outputs": [],
   "source": []
  }
 ],
 "metadata": {
  "kernelspec": {
   "display_name": "Python 3 (ipykernel)",
   "language": "python",
   "name": "python3"
  },
  "language_info": {
   "codemirror_mode": {
    "name": "ipython",
    "version": 3
   },
   "file_extension": ".py",
   "mimetype": "text/x-python",
   "name": "python",
   "nbconvert_exporter": "python",
   "pygments_lexer": "ipython3",
   "version": "3.12.3"
  }
 },
 "nbformat": 4,
 "nbformat_minor": 5
}
