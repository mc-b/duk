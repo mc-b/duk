{
 "cells": [
  {
   "cell_type": "markdown",
   "id": "9d7e1c06-fd3a-46ee-926d-0d3dd73de6ea",
   "metadata": {},
   "source": [
    "Übung: 3 VMs zu einem Kubernetes Cluster verbinden\n",
    "--------------------------------------------------\n",
    "\n",
    "MicroK8s bietet eine einfache und effiziente Möglichkeit, Kubernetes-Cluster lokal oder in Produktionsumgebungen zu betreiben. \n",
    "\n",
    "Das Hinzufügen von Nodes zu einem bestehenden MicroK8s-Cluster erfolgt über den Befehl `microk8s add-node`. \n",
    "\n",
    "Dieser Befehl generiert die notwendigen Verbindungsinformationen und Token, die benötigt werden, um neue Nodes (Master oder Worker) sicher in den Cluster zu integrieren.\n",
    "\n",
    "- - -\n",
    "\n",
    "Um die Vorgänge zu visualisieren starten wird Kubernetes Dashboard und scrollen rechts herunter zu Cluster -> Nodes\n",
    "\n",
    "Wählt dazu nachfolgenden Link an und aktzeptiert das Zertifikat um dann ohne Token, drückt \"Überspringen\" oder \"Skip\", ins Dashboard zu wechseln.\n"
   ]
  },
  {
   "cell_type": "code",
   "execution_count": null,
   "id": "7600892f-24a8-4711-969b-867724f02d62",
   "metadata": {},
   "outputs": [],
   "source": [
    "! echo \"https://\"$(cat ~/work/server-ip)\":8443\""
   ]
  },
  {
   "cell_type": "code",
   "execution_count": null,
   "id": "d72be497-735f-403c-9a4d-4f911da5d062",
   "metadata": {},
   "outputs": [],
   "source": [
    "%%bash\n",
    "# falls nicht vorhanden SSH Key für die Verbindung mit den anderen VMs bereitstellen\n",
    "# curl https://raw.githubusercontent.com/mc-b/lerncloud/main/ssh/lerncloud >~/.ssh/id_rsa\n",
    "# chmod 600 ~/.ssh/id_rsa\n",
    "\n",
    "# Verbindungsinformationen und Token aufbereiten\n",
    "export JOIN=$(microk8s add-node | grep worker | tail -1)\n",
    "echo $JOIN\n",
    "\n",
    "# Knoten (Worker) 01 integrieren\n",
    "echo \"------ Join Worker 01 ------\"\n",
    "ssh -o StrictHostKeyChecking=no -o UserKnownHostsFile=/dev/null dukworker-11-default -- ${JOIN}\n",
    "kubectl get nodes\n",
    "\n",
    "\n",
    "\n"
   ]
  },
  {
   "cell_type": "code",
   "execution_count": null,
   "id": "2797cc4f-618b-4627-976a-b5f3627d6d7d",
   "metadata": {},
   "outputs": [],
   "source": [
    "%%bash\n",
    "# Knoten (Worker) 02 integrieren\n",
    "export JOIN=$(microk8s add-node | grep worker | tail -1)\n",
    "ssh -o StrictHostKeyChecking=no -o UserKnownHostsFile=/dev/null dukworker-12-default -- ${JOIN}"
   ]
  },
  {
   "cell_type": "code",
   "execution_count": null,
   "id": "44dc7f96-547b-49bc-adf1-1e44392f0d2d",
   "metadata": {},
   "outputs": [],
   "source": [
    "! kubectl get nodes"
   ]
  },
  {
   "cell_type": "markdown",
   "id": "8b18fe55-97af-40d9-8724-c2702acbfd25",
   "metadata": {},
   "source": [
    "Damit alle Kubernetes Nodes (Master + Worker) die gleiche Dateiablage verwenden, wurder vorher auf dem Master ein NFS Share /data eingerichtet.\n",
    "\n",
    "Damit müssen sich jetzt noch die Worker Nodes verbinden"
   ]
  },
  {
   "cell_type": "code",
   "execution_count": null,
   "id": "71a2434b-e162-42e1-8832-e052ca7e4491",
   "metadata": {},
   "outputs": [],
   "source": [
    "%%bash\n",
    "cat /etc/exports\n",
    "\n",
    "echo \"------ Mount Worker 01 ------\"\n",
    "ssh -o StrictHostKeyChecking=no -o UserKnownHostsFile=/dev/null dukworker-11-default -- sudo mount -t nfs dukmaster-10-default:/data /data\n",
    "\n",
    "echo \"------ Mount Worker 02 ------\"\n",
    "ssh -o StrictHostKeyChecking=no -o UserKnownHostsFile=/dev/null dukworker-12-default -- sudo mount -t nfs dukmaster-10-default:/data /data\n"
   ]
  },
  {
   "cell_type": "code",
   "execution_count": null,
   "id": "bebbecc6-0f52-48bb-8cef-7f0df9078ddf",
   "metadata": {},
   "outputs": [],
   "source": []
  }
 ],
 "metadata": {
  "kernelspec": {
   "display_name": "Python 3 (ipykernel)",
   "language": "python",
   "name": "python3"
  },
  "language_info": {
   "codemirror_mode": {
    "name": "ipython",
    "version": 3
   },
   "file_extension": ".py",
   "mimetype": "text/x-python",
   "name": "python",
   "nbconvert_exporter": "python",
   "pygments_lexer": "ipython3",
   "version": "3.12.3"
  }
 },
 "nbformat": 4,
 "nbformat_minor": 5
}
