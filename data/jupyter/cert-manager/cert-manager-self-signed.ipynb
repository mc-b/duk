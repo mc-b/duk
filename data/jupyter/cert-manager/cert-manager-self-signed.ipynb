{
 "cells": [
  {
   "cell_type": "markdown",
   "id": "40dd243e",
   "metadata": {},
   "source": [
    "# cert-manager und OpenSSL\n",
    "\n",
    "In modernen Kubernetes-Umgebungen ist die sichere Kommunikation über TLS-Zertifikate essenziell. Zwei weit verbreitete Werkzeuge zur Verwaltung und Erstellung von Zertifikaten sind **cert-manager** und **OpenSSL**.  \n",
    "\n",
    "#### **cert-manager**  \n",
    "cert-manager ist eine leistungsstarke Kubernetes-Erweiterung zur automatisierten Verwaltung von TLS-Zertifikaten. Es ermöglicht die dynamische Ausstellung, Erneuerung und Überprüfung von Zertifikaten von verschiedenen **Certificate Authorities (CAs)** wie Let's Encrypt oder internen PKI-Systemen. Der Hauptvorteil von cert-manager liegt in seiner nahtlosen Integration mit Kubernetes **Ingress- und Secret-Ressourcen**, wodurch eine automatische TLS-Verschlüsselung für Dienste ermöglicht wird.  \n",
    "\n",
    "#### **OpenSSL**  \n",
    "OpenSSL ist eine universelle Open-Source-Bibliothek für kryptografische Operationen und die Erstellung von TLS/SSL-Zertifikaten. Es wird häufig für manuelle Zertifikatsanforderungen, die Generierung von **Certificate Signing Requests (CSRs)** und die Verwaltung von **Public Key Infrastructures (PKI)** verwendet. OpenSSL ist besonders nützlich für Entwicklungs- und Testzwecke sowie für Umgebungen, in denen eine vollständige Automatisierung über Kubernetes nicht erforderlich ist.  \n",
    "\n",
    "Während **cert-manager** die Zertifikatsverwaltung in Kubernetes automatisiert, bleibt **OpenSSL** ein wertvolles Tool zur manuellen Zertifikatserstellung und -prüfung. Beide Werkzeuge ergänzen sich und sind essenziell für eine sichere Infrastruktur.\n",
    "\n",
    "---\n",
    "\n",
    "cert-manager steht als microk8s Addon zur Verfügung und muss nur enabled werden:"
   ]
  },
  {
   "cell_type": "code",
   "execution_count": null,
   "id": "0e4e565b",
   "metadata": {},
   "outputs": [],
   "source": [
    "%%bash\n",
    "microk8s enable cert-manager"
   ]
  },
  {
   "cell_type": "markdown",
   "id": "40f2b50c",
   "metadata": {},
   "source": [
    "### CA für interne Zertifikate einrichten\n",
    "Da es sich um eine interne DNS-Domain handelt, kann Let's Encrypt nicht genutzt werden. Stattdessen gibt es zwei Optionen:\n",
    "\n",
    "Option 1: Self-Signed Issuer (einfach)\n",
    "Falls du nur ein selbstsigniertes Zertifikat für interne Zwecke benötigst:"
   ]
  },
  {
   "cell_type": "code",
   "execution_count": null,
   "id": "f20f1f48",
   "metadata": {},
   "outputs": [],
   "source": [
    "%%bash\n",
    "kubectl apply -f - <<EOF\n",
    "apiVersion: cert-manager.io/v1\n",
    "kind: ClusterIssuer\n",
    "metadata:\n",
    "  name: selfsigned-cluster-issuer\n",
    "spec:\n",
    "  selfSigned: {}\n",
    "EOF\n"
   ]
  },
  {
   "cell_type": "markdown",
   "id": "392657c0",
   "metadata": {},
   "source": [
    "### Zertifikatsanfrage für die interne Domain erstellen\n",
    "\n",
    "Jetzt kann ein Zertifikat für die interne DNS-Domain (cna-cloud-hf-08-cp1.maas) erstellt werden:"
   ]
  },
  {
   "cell_type": "code",
   "execution_count": null,
   "id": "a1d57617",
   "metadata": {},
   "outputs": [],
   "source": [
    "%%bash\n",
    "kubectl apply -f - <<EOF\n",
    "apiVersion: cert-manager.io/v1\n",
    "kind: Certificate\n",
    "metadata:\n",
    "  name: selfsigned-cert\n",
    "  namespace: m01-at\n",
    "spec:\n",
    "  secretName: selfsigned-cert-secret\n",
    "  duration: 24h\n",
    "  renewBefore: 12h\n",
    "  issuerRef:\n",
    "    name: selfsigned-cluster-issuer\n",
    "    kind: ClusterIssuer\n",
    "  commonName: at.cloud-hf-08\n",
    "  dnsNames:\n",
    "    - at.cloud-hf-08\n",
    "EOF"
   ]
  },
  {
   "cell_type": "markdown",
   "id": "4554b4bc",
   "metadata": {},
   "source": [
    "### Verwendung des Zertifikats\n",
    "\n",
    "Das Zertifikat liegt nun als Kubernetes-Secret unter internal-cert-secret und kann z. B. für Ingress oder TLS-Services genutzt werden"
   ]
  },
  {
   "cell_type": "code",
   "execution_count": null,
   "id": "a246dc34",
   "metadata": {},
   "outputs": [],
   "source": [
    "%%bash\n",
    "kubectl delete -n m01-at ingress webshop\n",
    "kubectl apply -f - <<EOF\n",
    "apiVersion: networking.k8s.io/v1\n",
    "kind: Ingress\n",
    "metadata:\n",
    "  name: webshop \n",
    "  namespace: m01-at\n",
    "  annotations:\n",
    "    cert-manager.io/issuer: selfsigned-cluster-issuer\n",
    "spec:\n",
    "  rules:\n",
    "  - host: at.cloud-hf-08\n",
    "    http:\n",
    "      paths:\n",
    "      - path: /webshop\n",
    "        pathType: Prefix\n",
    "        backend:\n",
    "          service:\n",
    "            name: webshop\n",
    "            port:\n",
    "              number: 8080\n",
    "  tls:\n",
    "  - hosts:\n",
    "    - at.cloud-hf-08\n",
    "    secretName: selfsigned-cert-secret\n",
    "EOF\n"
   ]
  },
  {
   "cell_type": "markdown",
   "id": "687cfa36",
   "metadata": {},
   "source": [
    "Extrahieren der Zertifikate aus dem Secret und Ausgabe des Inhaltes"
   ]
  },
  {
   "cell_type": "code",
   "execution_count": null,
   "id": "08a90354",
   "metadata": {},
   "outputs": [],
   "source": [
    "%%bash\n",
    "kubectl describe secret selfsigned-cert-secret -n m01-at \n",
    "kubectl get secret selfsigned-cert-secret -n m01-at -o jsonpath=\"{.data.ca\\.crt}\" | base64 --decode > ca.crt\n",
    "kubectl get secret selfsigned-cert-secret -n m01-at -o jsonpath=\"{.data.tls\\.crt}\" | base64 --decode > tls.crt\n",
    "kubectl get secret selfsigned-cert-secret -n m01-at -o jsonpath=\"{.data.tls\\.key}\" | base64 --decode > tls.key"
   ]
  },
  {
   "cell_type": "code",
   "execution_count": null,
   "id": "74be5677",
   "metadata": {},
   "outputs": [],
   "source": [
    "%%bash\n",
    "openssl x509 -in ca.crt -text -noout"
   ]
  },
  {
   "cell_type": "code",
   "execution_count": null,
   "id": "818c9e8a",
   "metadata": {},
   "outputs": [],
   "source": [
    "%%bash\n",
    "openssl x509 -in tls.crt -text -noout"
   ]
  },
  {
   "cell_type": "code",
   "execution_count": null,
   "id": "d69d0a1b",
   "metadata": {},
   "outputs": [],
   "source": []
  }
 ],
 "metadata": {
  "kernelspec": {
   "display_name": "Python 3 (ipykernel)",
   "language": "python",
   "name": "python3"
  },
  "language_info": {
   "codemirror_mode": {
    "name": "ipython",
    "version": 3
   },
   "file_extension": ".py",
   "mimetype": "text/x-python",
   "name": "python",
   "nbconvert_exporter": "python",
   "pygments_lexer": "ipython3",
   "version": "3.12.3"
  }
 },
 "nbformat": 4,
 "nbformat_minor": 5
}
