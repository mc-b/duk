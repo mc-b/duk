{
 "cells": [
  {
   "cell_type": "markdown",
   "id": "40dd243e",
   "metadata": {},
   "source": [
    "# cert-manager\n",
    "\n",
    "---\n",
    "\n",
    "Installation"
   ]
  },
  {
   "cell_type": "code",
   "execution_count": null,
   "id": "0e4e565b",
   "metadata": {},
   "outputs": [],
   "source": [
    "%%bash\n",
    "microk8s enable cert-manager"
   ]
  },
  {
   "cell_type": "markdown",
   "id": "40f2b50c",
   "metadata": {},
   "source": [
    "### CA für interne Zertifikate einrichten\n",
    "Da es sich um eine interne DNS-Domain handelt, kann Let's Encrypt nicht genutzt werden. Stattdessen gibt es zwei Optionen:\n",
    "\n",
    "Option 1: Self-Signed Issuer (einfach)\n",
    "Falls du nur ein selbstsigniertes Zertifikat für interne Zwecke benötigst:"
   ]
  },
  {
   "cell_type": "code",
   "execution_count": null,
   "id": "f20f1f48",
   "metadata": {},
   "outputs": [],
   "source": [
    "%%bash\n",
    "kubectl apply -f - <<EOF\n",
    "apiVersion: cert-manager.io/v1\n",
    "kind: Issuer\n",
    "metadata:\n",
    "  name: selfsigned-issuer\n",
    "  namespace: default\n",
    "spec:\n",
    "  selfSigned: {}\n",
    "EOF\n"
   ]
  },
  {
   "cell_type": "markdown",
   "id": "392657c0",
   "metadata": {},
   "source": [
    "### Zertifikatsanfrage für die interne Domain erstellen\n",
    "\n",
    "Jetzt kann ein Zertifikat für die interne DNS-Domain (cna-cloud-hf-08-cp1.maas) erstellt werden:"
   ]
  },
  {
   "cell_type": "code",
   "execution_count": null,
   "id": "a1d57617",
   "metadata": {},
   "outputs": [],
   "source": [
    "%%bash\n",
    "kubectl apply -f - <<EOF\n",
    "apiVersion: cert-manager.io/v1\n",
    "kind: Certificate\n",
    "metadata:\n",
    "  name: internal-cert\n",
    "  namespace: default\n",
    "spec:\n",
    "  secretName: internal-cert-secret\n",
    "  issuerRef:\n",
    "    name: selfsigned-issuer\n",
    "    kind: ClusterIssuer\n",
    "  commonName: cna-cloud-hf-08-cp1.maas\n",
    "  dnsNames:\n",
    "    - cna-cloud-hf-08-cp1.maas\n",
    "EOF"
   ]
  },
  {
   "cell_type": "markdown",
   "id": "4554b4bc",
   "metadata": {},
   "source": [
    "### Verwendung des Zertifikats\n",
    "\n",
    "Das Zertifikat liegt nun als Kubernetes-Secret unter internal-cert-secret und kann z. B. für Ingress oder TLS-Services genutzt werden"
   ]
  },
  {
   "cell_type": "code",
   "execution_count": null,
   "id": "a246dc34",
   "metadata": {},
   "outputs": [],
   "source": [
    "%%bash\n",
    "kubectl apply -f - <<EOF\n",
    "apiVersion: networking.k8s.io/v1\n",
    "kind: Ingress\n",
    "metadata:\n",
    "  name: internal-ingress\n",
    "  annotations:\n",
    "    cert-manager.io/cluster-issuer: selfsigned-issuer\n",
    "spec:\n",
    "  tls:\n",
    "    - hosts:\n",
    "        - cna-cloud-hf-08-cp1.maas\n",
    "      secretName: internal-cert-7797l\n",
    "  rules:\n",
    "    - host: cna-cloud-hf-08-cp1.maas\n",
    "      http:\n",
    "        paths:\n",
    "          - path: /\n",
    "            pathType: Prefix\n",
    "            backend:\n",
    "              service:\n",
    "                name: my-service\n",
    "                port:\n",
    "                  number: 80\n",
    "                port:\n",
    "                  number: 443                  \n",
    "EOF\n"
   ]
  },
  {
   "cell_type": "code",
   "execution_count": null,
   "id": "08a90354",
   "metadata": {},
   "outputs": [],
   "source": [
    "%%bash\n",
    "kubectl describe certificate internal-cert -n default\n",
    "kubectl get secret internal-cert-7797l -n default\n"
   ]
  },
  {
   "cell_type": "code",
   "execution_count": null,
   "id": "74be5677",
   "metadata": {},
   "outputs": [],
   "source": []
  }
 ],
 "metadata": {
  "kernelspec": {
   "display_name": "Python 3 (ipykernel)",
   "language": "python",
   "name": "python3"
  },
  "language_info": {
   "codemirror_mode": {
    "name": "ipython",
    "version": 3
   },
   "file_extension": ".py",
   "mimetype": "text/x-python",
   "name": "python",
   "nbconvert_exporter": "python",
   "pygments_lexer": "ipython3",
   "version": "3.12.3"
  }
 },
 "nbformat": 4,
 "nbformat_minor": 5
}
