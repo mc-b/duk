{
 "cells": [
  {
   "cell_type": "markdown",
   "id": "3b91756e-7dc6-4d48-8a43-5e39198cdc20",
   "metadata": {},
   "source": [
    "Beispiel mit nsenter"
   ]
  },
  {
   "cell_type": "code",
   "execution_count": null,
   "id": "64803ff1-3983-47c9-b533-e6ec96e36bdf",
   "metadata": {},
   "outputs": [],
   "source": [
    "! kubectl run webshop --restart=Never --image=registry.gitlab.com/ch-mc-b/autoshop/shop:2.0.0"
   ]
  },
  {
   "cell_type": "code",
   "execution_count": null,
   "id": "bd8f0390-1a8b-43a8-837c-a616a78e7575",
   "metadata": {},
   "outputs": [],
   "source": [
    "! pstree -npTA"
   ]
  },
  {
   "cell_type": "code",
   "execution_count": null,
   "id": "279f0562-9dc5-433b-9eea-986c8cce489d",
   "metadata": {},
   "outputs": [],
   "source": [
    "! ip addr"
   ]
  },
  {
   "cell_type": "code",
   "execution_count": null,
   "id": "091c830e-ffaf-427c-ae40-4a1237338f9d",
   "metadata": {},
   "outputs": [],
   "source": [
    "! cat /etc/issue"
   ]
  },
  {
   "cell_type": "markdown",
   "id": "84d10afc-251b-43c1-a52b-d54b2cda6574",
   "metadata": {},
   "source": [
    "Jetzt die gleichen Befehle innerhalb unseres Containers `webshop`"
   ]
  },
  {
   "cell_type": "code",
   "execution_count": null,
   "id": "80d61bff-3187-4452-94b4-068f264a31b5",
   "metadata": {},
   "outputs": [],
   "source": [
    "! sudo nsenter -t $(pgrep -o -x webshop) --net ip addr"
   ]
  },
  {
   "cell_type": "code",
   "execution_count": null,
   "id": "03d96783-bbe2-405d-afea-8c8d613ee3af",
   "metadata": {},
   "outputs": [],
   "source": [
    "! sudo nsenter -t $(pgrep -o -x webshop) -a pstree -p"
   ]
  },
  {
   "cell_type": "code",
   "execution_count": null,
   "id": "ed347c75-e218-4cd6-8fcd-3d6f7fe5fcce",
   "metadata": {},
   "outputs": [],
   "source": [
    "! sudo nsenter -t $(pgrep -o -x webshop) -a cat /etc/issue"
   ]
  },
  {
   "cell_type": "code",
   "execution_count": null,
   "id": "ba1849c2-bfeb-46db-9d04-a946bfe61d6d",
   "metadata": {},
   "outputs": [],
   "source": [
    "! kubectl exec pod/webshop -- ip addr\n",
    "! echo \"----------------------------------\"\n",
    "! kubectl exec pod/webshop -- pstree -p\n",
    "! echo \"----------------------------------\"\n",
    "! kubectl exec pod/webshop -- cat /etc/issue"
   ]
  },
  {
   "cell_type": "markdown",
   "id": "234c30d9-7c72-4a68-a237-c52639575840",
   "metadata": {},
   "source": [
    "Anzeige der Images"
   ]
  },
  {
   "cell_type": "code",
   "execution_count": null,
   "id": "2739d6d9-2af8-4fab-aab8-c85ad43cce86",
   "metadata": {},
   "outputs": [],
   "source": [
    "! kubectl delete pod/webshop"
   ]
  },
  {
   "cell_type": "code",
   "execution_count": null,
   "id": "5d3a6d8e-6d02-4f7d-a8ea-4d729771e841",
   "metadata": {},
   "outputs": [],
   "source": [
    "! pgrep -o -x webshop"
   ]
  },
  {
   "cell_type": "code",
   "execution_count": null,
   "id": "74003ca1-49cb-46b7-8eb5-0ae079c83198",
   "metadata": {},
   "outputs": [],
   "source": [
    "! microk8s ctr image list | awk '{print $1, $4, $5, $6}' | grep shop"
   ]
  },
  {
   "cell_type": "code",
   "execution_count": null,
   "id": "890653f0-e310-4fdc-a514-b57584beb1f3",
   "metadata": {},
   "outputs": [],
   "source": []
  }
 ],
 "metadata": {
  "kernelspec": {
   "display_name": "Python 3 (ipykernel)",
   "language": "python",
   "name": "python3"
  },
  "language_info": {
   "codemirror_mode": {
    "name": "ipython",
    "version": 3
   },
   "file_extension": ".py",
   "mimetype": "text/x-python",
   "name": "python",
   "nbconvert_exporter": "python",
   "pygments_lexer": "ipython3",
   "version": "3.10.12"
  }
 },
 "nbformat": 4,
 "nbformat_minor": 5
}
