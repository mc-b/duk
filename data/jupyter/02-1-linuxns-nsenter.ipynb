{
 "cells": [
  {
   "cell_type": "markdown",
   "id": "3b91756e-7dc6-4d48-8a43-5e39198cdc20",
   "metadata": {},
   "source": [
    "Übung: Linux Namespaces - nsenter\n",
    "---------------------------------\n",
    "\n",
    "![](images/linuxns.png)\n",
    "\n",
    "- - -\n",
    "\n",
    "nsenter ist ein leistungsstarkes Kommandozeilen-Tool, das es ermöglicht, in die Namespaces eines laufenden Linux-Prozesses einzutreten. \n",
    "\n",
    "Namespaces sind eine zentrale Funktion der Linux-Kernel-Isolierung, die es ermöglicht, Systemressourcen wie Prozesslisten, Netzwerkstacks und Dateisysteme zwischen Prozessen zu trennen. \n",
    "\n",
    "Mit nsenter können Administratoren und Entwickler direkt in die isolierten Umgebungen eines Containers wechseln, um Debugging, Wartung oder Konfigurationsänderungen durchzuführen.\n",
    "\n",
    "- - -\n",
    "\n",
    "Um die Funktionalität von Linux Namespaces und nsenter zu demonstrieren, starten wir zunächst einen Container:\n"
   ]
  },
  {
   "cell_type": "code",
   "execution_count": null,
   "id": "64803ff1-3983-47c9-b533-e6ec96e36bdf",
   "metadata": {},
   "outputs": [],
   "source": [
    "! kubectl run webshop-nsenter --restart=Never --image=registry.gitlab.com/ch-mc-b/autoshop/shop:2.0.0"
   ]
  },
  {
   "cell_type": "markdown",
   "id": "ed9e4d83-3c77-47d3-9a93-024d633e3d93",
   "metadata": {},
   "source": [
    "Diesen Container sehen wir im Prozesstree mit Namen `webshop` als Subprozess von `containerd`"
   ]
  },
  {
   "cell_type": "code",
   "execution_count": null,
   "id": "bd8f0390-1a8b-43a8-837c-a616a78e7575",
   "metadata": {},
   "outputs": [],
   "source": [
    "! pstree -npTA"
   ]
  },
  {
   "cell_type": "markdown",
   "id": "84d10afc-251b-43c1-a52b-d54b2cda6574",
   "metadata": {},
   "source": [
    "Mittels der Prozess-Id `$(pgrep -o -x webshop)` wechseln wir mit `nsenter` in den Container und überprüfen ob dieser \n",
    "* einen eigenen Netzwerkadapter hat\n",
    "* nur seinen eigenen Prozess sieht\n",
    "* und sein Filesystem eine Alpine Linux Distribution beinhaltet"
   ]
  },
  {
   "cell_type": "code",
   "execution_count": null,
   "id": "80d61bff-3187-4452-94b4-068f264a31b5",
   "metadata": {},
   "outputs": [],
   "source": [
    "! sudo nsenter -t $(pgrep -o -x webshop) --net ip addr"
   ]
  },
  {
   "cell_type": "code",
   "execution_count": null,
   "id": "03d96783-bbe2-405d-afea-8c8d613ee3af",
   "metadata": {},
   "outputs": [],
   "source": [
    "! sudo nsenter -t $(pgrep -o -x webshop) --all pstree -p"
   ]
  },
  {
   "cell_type": "code",
   "execution_count": null,
   "id": "ed347c75-e218-4cd6-8fcd-3d6f7fe5fcce",
   "metadata": {},
   "outputs": [],
   "source": [
    "! sudo nsenter -t $(pgrep -o -x webshop) --all cat /etc/issue"
   ]
  },
  {
   "cell_type": "markdown",
   "id": "53934877-ea57-4d58-ab66-73091626042a",
   "metadata": {},
   "source": [
    "Zusatzübung:\n",
    "* ersetzt `--all` in den letzten zwei Befehlen durch `--net`\n",
    "* Was ist anders?\n",
    "\n",
    "Für weitere Varianten siehe Manuel von `nsenter`"
   ]
  },
  {
   "cell_type": "code",
   "execution_count": null,
   "id": "ac22dc5d-115c-4a63-bbd0-489b0bc02598",
   "metadata": {},
   "outputs": [],
   "source": [
    "! man nsenter"
   ]
  },
  {
   "cell_type": "markdown",
   "id": "1264bedb-f021-4f54-a451-88dcefe21980",
   "metadata": {},
   "source": [
    "- - -\n",
    "Zur Gegenprobe schauen wir uns Netzwerkadapter und Linux Distribution der **VM** an:"
   ]
  },
  {
   "cell_type": "code",
   "execution_count": null,
   "id": "279f0562-9dc5-433b-9eea-986c8cce489d",
   "metadata": {},
   "outputs": [],
   "source": [
    "! ip addr"
   ]
  },
  {
   "cell_type": "code",
   "execution_count": null,
   "id": "091c830e-ffaf-427c-ae40-4a1237338f9d",
   "metadata": {},
   "outputs": [],
   "source": [
    "! cat /etc/issue"
   ]
  },
  {
   "cell_type": "markdown",
   "id": "c0a7c6e4-86f3-4c96-9305-e99ba33f5503",
   "metadata": {},
   "source": [
    "- - -\n",
    "Die gleiche Funktionalität bietet auch `exec`, jedoch werden immer alle Linux Namespaces gewechselt:"
   ]
  },
  {
   "cell_type": "code",
   "execution_count": null,
   "id": "ba1849c2-bfeb-46db-9d04-a946bfe61d6d",
   "metadata": {},
   "outputs": [],
   "source": [
    "! kubectl exec pod/webshop-nsenter -- ip addr\n",
    "! echo \"----------------------------------\"\n",
    "! kubectl exec pod/webshop-nsenter -- pstree -p\n",
    "! echo \"----------------------------------\"\n",
    "! kubectl exec pod/webshop-nsenter -- cat /etc/issue"
   ]
  },
  {
   "cell_type": "markdown",
   "id": "234c30d9-7c72-4a68-a237-c52639575840",
   "metadata": {},
   "source": [
    "- - -\n",
    "Aufräumen"
   ]
  },
  {
   "cell_type": "code",
   "execution_count": null,
   "id": "2739d6d9-2af8-4fab-aab8-c85ad43cce86",
   "metadata": {},
   "outputs": [],
   "source": [
    "! kubectl delete pod/webshop-nsenter"
   ]
  }
 ],
 "metadata": {
  "kernelspec": {
   "display_name": "Python 3 (ipykernel)",
   "language": "python",
   "name": "python3"
  },
  "language_info": {
   "codemirror_mode": {
    "name": "ipython",
    "version": 3
   },
   "file_extension": ".py",
   "mimetype": "text/x-python",
   "name": "python",
   "nbconvert_exporter": "python",
   "pygments_lexer": "ipython3",
   "version": "3.10.12"
  }
 },
 "nbformat": 4,
 "nbformat_minor": 5
}
