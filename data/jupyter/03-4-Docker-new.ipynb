{
 "cells": [
  {
   "attachments": {},
   "cell_type": "markdown",
   "metadata": {},
   "source": [
    "Übung : Container Images bauen \n",
    "-----------------------------------------\n",
    "\n",
    "### Applikation erstellen\n",
    "\n",
    "Dazu erstellen wir zuerst unseren (PHP) Microservice\n"
   ]
  },
  {
   "cell_type": "code",
   "execution_count": null,
   "metadata": {},
   "outputs": [],
   "source": [
    "%%bash\n",
    "cat <<%EOF% >index.php\n",
    " <?php echo '<p>Ich bin ein Microservice</p>'; ?>\n",
    "%EOF%"
   ]
  },
  {
   "cell_type": "markdown",
   "metadata": {},
   "source": [
    "### Packetierung\n",
    "\n",
    "Und für die Paketierung des Microservices, als Container Image, ein Dockerfile.\n",
    "\n",
    "`CMD` können wir weglassen, weil im Base Image `php:7-apache` bereit vorhanden."
   ]
  },
  {
   "cell_type": "code",
   "execution_count": null,
   "metadata": {},
   "outputs": [],
   "source": [
    "%%bash\n",
    "cat <<%EOF% >Dockerfile\n",
    "FROM public.ecr.aws/docker/library/php:7.4-apache\n",
    "COPY index.php /var/www/html/\n",
    "USER 1000:100\n",
    "%EOF%"
   ]
  },
  {
   "cell_type": "markdown",
   "metadata": {},
   "source": [
    "Beides zusammen ergibt mit `docker build` unser Container Image."
   ]
  },
  {
   "cell_type": "code",
   "execution_count": null,
   "metadata": {},
   "outputs": [],
   "source": [
    "%%bash\n",
    "docker build -t myservice ."
   ]
  },
  {
   "cell_type": "markdown",
   "metadata": {},
   "source": [
    "Das Resultat ist ein neues Image und das, dass Base Image (php) heruntergeladen wurde:"
   ]
  },
  {
   "cell_type": "code",
   "execution_count": null,
   "metadata": {},
   "outputs": [],
   "source": [
    "! docker image ls"
   ]
  },
  {
   "cell_type": "markdown",
   "metadata": {},
   "source": [
    "### Container starten\n",
    "\n",
    "Das erstellte Container Image starten wir mittels `docker run`.\n",
    "\n",
    "Der gestartete Container ist mittels der IP-Adresse der VM und Port 8080 erreichbar."
   ]
  },
  {
   "cell_type": "code",
   "execution_count": null,
   "metadata": {},
   "outputs": [],
   "source": [
    "! docker run --rm -d -p8080:80 --name myservice myservice\n",
    "! docker container ps  \n",
    "! echo \"\" && echo \"Der Container ist erreichbar mittels: http://$(cat ~/work/server-ip)\":8080"
   ]
  },
  {
   "cell_type": "markdown",
   "metadata": {},
   "source": [
    "- - - \n",
    "\n",
    "Aufräumen"
   ]
  },
  {
   "cell_type": "code",
   "execution_count": null,
   "metadata": {},
   "outputs": [],
   "source": [
    "! docker container stop myservice"
   ]
  },
  {
   "cell_type": "markdown",
   "metadata": {},
   "source": [
    "- - -\n",
    "### Speichern des Images in der Registry (Dev) - optional\n",
    "\n",
    "Wenn wir sicher, sind das alles läuft Pushen wir das Container Image in unsere Registry.\n",
    "\n",
    "Dazu müssen wir zuerst eine User auf [hub.docker.com](https://hub.docker.com) anlegen.\n",
    "\n",
    "Uns in der Registry einloggen, dass Image mit unserem Usernamen versehen und es in die Registry pushen.\n"
   ]
  },
  {
   "cell_type": "markdown",
   "metadata": {},
   "source": [
    "import os\n",
    "name = input(\"Username: \")\n",
    "os.environ[\"USER\"] = name\n",
    "\n",
    "from getpass import getpass\n",
    "password = getpass(\"Password: \")\n",
    "os.environ[\"PW\"] = password"
   ]
  },
  {
   "cell_type": "code",
   "execution_count": null,
   "metadata": {},
   "outputs": [],
   "source": [
    "! docker login -u ${USER} -p ${PW}\n",
    "! docker tag myservice ${USER}/myservice\n",
    "! docker push ${USER}/myservice"
   ]
  },
  {
   "cell_type": "code",
   "execution_count": null,
   "metadata": {},
   "outputs": [],
   "source": []
  }
 ],
 "metadata": {
  "kernelspec": {
   "display_name": "Python 3 (ipykernel)",
   "language": "python",
   "name": "python3"
  },
  "language_info": {
   "codemirror_mode": {
    "name": "ipython",
    "version": 3
   },
   "file_extension": ".py",
   "mimetype": "text/x-python",
   "name": "python",
   "nbconvert_exporter": "python",
   "pygments_lexer": "ipython3",
   "version": "3.10.6"
  }
 },
 "nbformat": 4,
 "nbformat_minor": 2
}
