{
 "cells": [
  {
   "cell_type": "markdown",
   "metadata": {},
   "source": [
    "Übung : Container Images bauen \n",
    "-----------------------------------------\n",
    "\n",
    "### Applikation erstellen\n",
    "\n",
    "Dazu erstellen wir zuerst unseren (Python) Microservice `order`\n"
   ]
  },
  {
   "cell_type": "code",
   "execution_count": null,
   "metadata": {},
   "outputs": [],
   "source": [
    "%%bash\n",
    "cat <<'EOF' > order.py\n",
    "from flask import Flask, jsonify, render_template_string\n",
    "import socket\n",
    "\n",
    "app = Flask(__name__)\n",
    "\n",
    "orders = [\n",
    "    {\"id\": 1, \"customer\": \"Alice\", \"product\": \"Book\", \"quantity\": 2, \"price\": 10},\n",
    "    {\"id\": 2, \"customer\": \"Bob\", \"product\": \"Pen\", \"quantity\": 5, \"price\": 2},\n",
    "    {\"id\": 3, \"customer\": \"Charlie\", \"product\": \"Notebook\", \"quantity\": 1, \"price\": 5}\n",
    "]\n",
    "\n",
    "@app.route('/order')\n",
    "def order_page():\n",
    "    total = sum(o[\"quantity\"] * o[\"price\"] for o in orders)\n",
    "    html = \"\"\"\n",
    "    <html><body>\n",
    "    <h2>Orders on {{host}}</h2>\n",
    "    <table border=1>\n",
    "      <tr><th>ID</th><th>Customer</th><th>Product</th><th>Qty</th><th>Price</th><th>Total</th></tr>\n",
    "      {% for o in orders %}\n",
    "        <tr><td>{{o.id}}</td><td>{{o.customer}}</td><td>{{o.product}}</td>\n",
    "        <td>{{o.quantity}}</td><td>${{o.price}}</td><td>${{o.quantity*o.price}}</td></tr>\n",
    "      {% endfor %}\n",
    "      <tr><td colspan=5><b>Sum</b></td><td><b>${{total}}</b></td></tr>\n",
    "    </table>\n",
    "    </body></html>\n",
    "    \"\"\"\n",
    "    return render_template_string(html, orders=orders, total=total, host=socket.gethostname())\n",
    "\n",
    "if __name__ == '__main__':\n",
    "    app.run(host='0.0.0.0', port=8080)\n",
    "EOF\n"
   ]
  },
  {
   "cell_type": "markdown",
   "metadata": {},
   "source": [
    "### Packetierung\n",
    "\n",
    "Und für die Paketierung des Microservices, als Container Image, ein Dockerfile."
   ]
  },
  {
   "cell_type": "code",
   "execution_count": null,
   "metadata": {},
   "outputs": [],
   "source": [
    "%%bash\n",
    "cat <<%EOF% >Dockerfile\n",
    "FROM python:3.9-slim\n",
    "\n",
    "# Set the working directory in the container\n",
    "WORKDIR /app\n",
    "\n",
    "# Copy the current directory contents into the container at /app\n",
    "COPY order.py /app\n",
    "\n",
    "# Install any needed packages specified in requirements.txt\n",
    "RUN pip install Flask setproctitle requests prometheus_client\n",
    "\n",
    "USER 1001:100\n",
    "\n",
    "# Run order_service.py when the container launches\n",
    "CMD [\"python\", \"order.py\"]\n",
    "%EOF%"
   ]
  },
  {
   "cell_type": "markdown",
   "metadata": {},
   "source": [
    "Beides zusammen ergibt mit `docker build` unser Container Image."
   ]
  },
  {
   "cell_type": "code",
   "execution_count": null,
   "metadata": {},
   "outputs": [],
   "source": [
    "%%bash\n",
    "docker build -t order-docker ."
   ]
  },
  {
   "cell_type": "markdown",
   "metadata": {},
   "source": [
    "Das Resultat ist ein neues Image und das, dass Base Image (php) heruntergeladen wurde:"
   ]
  },
  {
   "cell_type": "code",
   "execution_count": null,
   "metadata": {},
   "outputs": [],
   "source": [
    "! docker image ls"
   ]
  },
  {
   "cell_type": "markdown",
   "metadata": {},
   "source": [
    "### Container starten\n",
    "\n",
    "Das erstellte Container Image starten wir mittels `docker run`.\n",
    "\n",
    "Der gestartete Container ist mittels der IP-Adresse der VM und Port 8080 erreichbar."
   ]
  },
  {
   "cell_type": "code",
   "execution_count": null,
   "metadata": {},
   "outputs": [],
   "source": [
    "! docker run --rm -d -p8080:8080 --name order-docker order-docker\n",
    "! docker container ps  \n",
    "! echo \"\" && echo \"Der Container ist erreichbar mittels: http://$(cat ~/work/server-ip)\":8080/order"
   ]
  },
  {
   "cell_type": "markdown",
   "metadata": {},
   "source": [
    "- - - \n",
    "\n",
    "Aufräumen"
   ]
  },
  {
   "cell_type": "code",
   "execution_count": null,
   "metadata": {},
   "outputs": [],
   "source": [
    "! docker container stop order-docker"
   ]
  },
  {
   "cell_type": "markdown",
   "metadata": {},
   "source": [
    "- - -\n",
    "### Speichern des Images in der Registry (Dev) - optional\n",
    "\n",
    "Wenn wir sicher, sind das alles läuft Pushen wir das Container Image in unsere Registry.\n",
    "\n",
    "Dazu müssen wir zuerst eine User auf [hub.docker.com](https://hub.docker.com) anlegen.\n",
    "\n",
    "Uns in der Registry einloggen, dass Image mit unserem Usernamen versehen und es in die Registry pushen.\n"
   ]
  },
  {
   "cell_type": "code",
   "execution_count": null,
   "metadata": {},
   "outputs": [],
   "source": [
    "import os\n",
    "name = input(\"Username: \")\n",
    "os.environ[\"USER\"] = name\n",
    "\n",
    "from getpass import getpass\n",
    "password = getpass(\"Password: \")\n",
    "os.environ[\"PW\"] = password"
   ]
  },
  {
   "cell_type": "code",
   "execution_count": null,
   "metadata": {},
   "outputs": [],
   "source": [
    "! docker login -u ${USER} -p ${PW}\n",
    "! docker tag order-docker ${USER}/order-docker\n",
    "! docker push ${USER}/order-docker"
   ]
  },
  {
   "cell_type": "code",
   "execution_count": null,
   "metadata": {},
   "outputs": [],
   "source": []
  }
 ],
 "metadata": {
  "kernelspec": {
   "display_name": "Python 3 (ipykernel)",
   "language": "python",
   "name": "python3"
  },
  "language_info": {
   "codemirror_mode": {
    "name": "ipython",
    "version": 3
   },
   "file_extension": ".py",
   "mimetype": "text/x-python",
   "name": "python",
   "nbconvert_exporter": "python",
   "pygments_lexer": "ipython3",
   "version": "3.12.3"
  }
 },
 "nbformat": 4,
 "nbformat_minor": 2
}
