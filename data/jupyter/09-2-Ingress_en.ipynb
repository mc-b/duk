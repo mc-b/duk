{
 "cells": [
  {
   "cell_type": "markdown",
   "metadata": {},
   "source": [
    "Exercise:  09-2 Ingress\n",
    "-------------------\n",
    "\n",
    "![](demo/images/Microservices-REST.png)\n",
    "\n",
    "Source: Book Microservices Recipes\n",
    "- - -\n",
    "\n",
    "The example consists of three microservices: **Order**, **Customer** and **Catalog**.\n",
    "\n",
    "**Order** uses **Catalog** and **Customer** with REST interface. In addition, each microservice offers some HTML pages.\n",
    "\n",
    "Instead of the Apache web server, which is configured as [Reverse Proxy](https://github.com/ewolff/microservice-kubernetes/blob/master/microservice-kubernetes-demo/apache/000-default.conf), the Kubernetes resource Ingress is used."
   ]
  },
  {
   "cell_type": "code",
   "execution_count": null,
   "metadata": {},
   "outputs": [],
   "source": [
    "%%bash\n",
    "kubectl create namespace ms-rest\n",
    "# ! kubectl apply -f https://raw.githubusercontent.com/mc-b/misegr/master/ewolff/ms-kubernetes/apache.yaml (obsolet!)\n",
    "kubectl apply -f https://raw.githubusercontent.com/mc-b/misegr/master/ewolff/ms-kubernetes/catalog.yaml\n",
    "kubectl apply -f https://raw.githubusercontent.com/mc-b/misegr/master/ewolff/ms-kubernetes/customer.yaml\n",
    "kubectl apply -f https://raw.githubusercontent.com/mc-b/misegr/master/ewolff/ms-kubernetes/order.yaml\n",
    "kubectl apply -f https://raw.githubusercontent.com/mc-b/misegr/master/ewolff/ms-kubernetes/postgres.yaml"
   ]
  },
  {
   "cell_type": "markdown",
   "metadata": {},
   "source": [
    "After starting the services, we create the Ingress resources:"
   ]
  },
  {
   "cell_type": "code",
   "execution_count": null,
   "metadata": {},
   "outputs": [],
   "source": [
    "%%bash\n",
    "cat <<%EOF% | kubectl apply -f -\n",
    "apiVersion: networking.k8s.io/v1\n",
    "kind: Ingress\n",
    "metadata:\n",
    "  annotations:\n",
    "    nginx.ingress.kubernetes.io/rewrite-target: /\\$2\n",
    "  name: order\n",
    "  namespace: ms-rest \n",
    "  labels:\n",
    "    app: order\n",
    "spec:\n",
    "  rules:\n",
    "  - http:\n",
    "      paths:\n",
    "      - path: /order/\n",
    "        pathType: Prefix\n",
    "        backend:\n",
    "          service:\n",
    "            name: order\n",
    "            port:\n",
    "              number: 8080\n",
    "---\n",
    "apiVersion: networking.k8s.io/v1\n",
    "kind: Ingress\n",
    "metadata:\n",
    "  name: catalog\n",
    "  namespace: ms-rest\n",
    "  labels:\n",
    "    app: catalog\n",
    "spec:\n",
    "  rules:\n",
    "  - http:\n",
    "      paths:\n",
    "      - path: /catalog\n",
    "        pathType: Prefix\n",
    "        backend:\n",
    "          service:\n",
    "            name: catalog\n",
    "            port:\n",
    "              number: 8080\n",
    "---\n",
    "apiVersion: networking.k8s.io/v1\n",
    "kind: Ingress\n",
    "metadata:\n",
    "  name: customer \n",
    "  namespace: ms-rest\n",
    "  labels:\n",
    "    app: customer \n",
    "spec:\n",
    "  rules:\n",
    "  - http:\n",
    "      paths:\n",
    "      - path: /customer\n",
    "        pathType: Prefix\n",
    "        backend:\n",
    "          service:\n",
    "            name: customer\n",
    "            port:\n",
    "              number: 8080  \n",
    "%EOF%\n"
   ]
  },
  {
   "cell_type": "markdown",
   "metadata": {},
   "source": [
    "Checking the created resources"
   ]
  },
  {
   "cell_type": "code",
   "execution_count": null,
   "metadata": {},
   "outputs": [],
   "source": [
    "! kubectl get all,ingress -n ms-rest"
   ]
  },
  {
   "cell_type": "markdown",
   "metadata": {},
   "source": [
    "All microservices can now be reached using `https` and the same DNS or IP address."
   ]
  },
  {
   "cell_type": "code",
   "execution_count": null,
   "metadata": {},
   "outputs": [],
   "source": [
    "%%bash\n",
    "export SERVER=https://$(cat ~/work/server-ip)\n",
    "echo \"Kunden    : ${SERVER}/customer\"\n",
    "echo \"Produkte  : ${SERVER}/catalog\"\n",
    "echo \"Bestellung: ${SERVER}/order/index.html\""
   ]
  },
  {
   "cell_type": "markdown",
   "metadata": {},
   "source": [
    "***\n",
    "### Ingress Service (nginx Server)\n",
    "\n",
    "In the current environment, an nginx server handles the ingress functionality. This server runs as pods in the ingress-nginx namespace.\n",
    "\n",
    "We can output the configuration file from the nginx server:"
   ]
  },
  {
   "cell_type": "code",
   "execution_count": null,
   "metadata": {},
   "outputs": [],
   "source": [
    "! kubectl exec daemonset/nginx-ingress-microk8s-controller -n ingress -- cat /etc/nginx/nginx.conf | grep location"
   ]
  },
  {
   "cell_type": "markdown",
   "metadata": {},
   "source": [
    "For testing, the `kubectl apply -f -` which creates the ingress resources can be replaced with `kubectl delete -f -` and then the above command can be run again.\n",
    "\n",
    "Then the `location` entries for `customer`, `catalog` and `order` should no longer exist."
   ]
  },
  {
   "cell_type": "markdown",
   "metadata": {},
   "source": [
    "- - -\n",
    "\n",
    "Clean up"
   ]
  },
  {
   "cell_type": "code",
   "execution_count": null,
   "metadata": {},
   "outputs": [],
   "source": [
    "! kubectl delete namespace ms-rest"
   ]
  },
  {
   "cell_type": "markdown",
   "metadata": {},
   "source": [
    "***\n",
    "Questions\n",
    "======\n",
    "\n",
    "Answer the questions individually or in groups and compare them with the answers\n",
    "\n",
    "\n",
    "What an ingress?\n",
    "<details><summary>Answer</summary><p>\n",
    "An API object that manages external access to the services in a cluster, typically using HTTP.\n",
    "The ingress service roughly corresponds to the reverse proxy pattern.\n",
    "</p></details>\n",
    "\n",
    "---\n",
    "\n",
    "What kind of network structure does Kubernetes use?\n",
    "<details><summary>Answer</summary><p>\n",
    "Unlike Docker, Kubernetes uses a flat network structure.\n",
    "* Each container can communicate with each other without NAT.\n",
    "* All Kubernetes nodes can communicate with all containers (and in the other direction) without NAT.\n",
    "* The IP that a container sees of itself is also the IP that every other node or container on the network sees of it.\n",
    "</p></details>\n",
    "\n",
    "---"
   ]
  },
  {
   "cell_type": "code",
   "execution_count": null,
   "metadata": {},
   "outputs": [],
   "source": []
  }
 ],
 "metadata": {
  "kernelspec": {
   "display_name": "Python 3 (ipykernel)",
   "language": "python",
   "name": "python3"
  },
  "language_info": {
   "codemirror_mode": {
    "name": "ipython",
    "version": 3
   },
   "file_extension": ".py",
   "mimetype": "text/x-python",
   "name": "python",
   "nbconvert_exporter": "python",
   "pygments_lexer": "ipython3",
   "version": "3.10.6"
  }
 },
 "nbformat": 4,
 "nbformat_minor": 2
}
