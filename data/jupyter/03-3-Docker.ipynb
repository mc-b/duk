{
 "cells": [
  {
   "cell_type": "markdown",
   "metadata": {},
   "source": [
    "Übung: Betrieb und Management von Docker-Containern\n",
    "---------------------------------------------------------------------------------\n",
    "\n",
    "Docker Container, im Hintergrund, mit Namen c1 starten"
   ]
  },
  {
   "cell_type": "code",
   "execution_count": null,
   "metadata": {},
   "outputs": [],
   "source": [
    "! docker container run --detach --name c1 ubuntu /bin/bash -c \"for i in {1..1000}; do echo \\$i; sleep 1; done\""
   ]
  },
  {
   "cell_type": "markdown",
   "metadata": {},
   "source": [
    "Laufende Container ausgeben"
   ]
  },
  {
   "cell_type": "code",
   "execution_count": null,
   "metadata": {},
   "outputs": [],
   "source": [
    "! docker container ps "
   ]
  },
  {
   "cell_type": "markdown",
   "metadata": {},
   "source": [
    "Container stoppen und Kontrolle ob nicht mehr vorhanden"
   ]
  },
  {
   "cell_type": "code",
   "execution_count": null,
   "metadata": {},
   "outputs": [],
   "source": [
    "! docker container stop c1\n",
    "! docker container ps"
   ]
  },
  {
   "cell_type": "markdown",
   "metadata": {},
   "source": [
    "Container ist nicht mehr ersichtlich, die Daten und das Log ist noch vorhanden:"
   ]
  },
  {
   "cell_type": "code",
   "execution_count": null,
   "metadata": {},
   "outputs": [],
   "source": [
    "! docker logs c1"
   ]
  },
  {
   "cell_type": "markdown",
   "metadata": {},
   "source": [
    "Gestoppten Container wieder starten und Kontrolle ob wieder vorhanden"
   ]
  },
  {
   "cell_type": "code",
   "execution_count": null,
   "metadata": {},
   "outputs": [],
   "source": [
    "! docker container start c1\n",
    "! docker container ps"
   ]
  },
  {
   "cell_type": "markdown",
   "metadata": {},
   "source": [
    "Der Container läuft wieder. Der Prozess innerhalb des Containers wurde neu gestartet. Der Zähler fängt wieder bei 1 zu zählen."
   ]
  },
  {
   "cell_type": "code",
   "execution_count": null,
   "metadata": {
    "scrolled": true
   },
   "outputs": [],
   "source": [
    "! docker logs c1"
   ]
  },
  {
   "cell_type": "markdown",
   "metadata": {},
   "source": [
    "### Änderungen im Dateisystem des Containers\n",
    "\n",
    "Erstellen einer Datei im Container "
   ]
  },
  {
   "cell_type": "code",
   "execution_count": null,
   "metadata": {},
   "outputs": [],
   "source": [
    "! docker container exec c1 /bin/bash -c \"echo 'Ein Test um `date`' >/test.txt\""
   ]
  },
  {
   "cell_type": "markdown",
   "metadata": {},
   "source": [
    "Ausgabe der geänderten Dateien `diff`, des Verzeichnisses `ls -l` und der Inhalt der Datei `cat`"
   ]
  },
  {
   "cell_type": "code",
   "execution_count": null,
   "metadata": {},
   "outputs": [],
   "source": [
    "! docker container diff c1\n",
    "! docker container exec c1 ls -l\n",
    "! docker container exec c1 cat /test.txt"
   ]
  },
  {
   "cell_type": "markdown",
   "metadata": {},
   "source": [
    "Stoppen des Containers. Die Datei test.txt und deren Inhalt bleibt erhalten.\n",
    "\n",
    "**Hinweis:** Neben dem regulären Stopp haben wir auch die Möglichkeit, eine (z. B. hängende)\n",
    "Container-Instanz per `docker container kill` zu killen. Default wird SIGTERM (-15)\n",
    "angenommen, aber natürlich stehen alle üblichen Signale per Schalter (-s/--signal)\n",
    "zur Verfügung."
   ]
  },
  {
   "cell_type": "code",
   "execution_count": null,
   "metadata": {},
   "outputs": [],
   "source": [
    "! docker container stop c1"
   ]
  },
  {
   "cell_type": "markdown",
   "metadata": {},
   "source": [
    "Löschen des Containers. Damit geht auch die Datei test.txt bzw. deren Inhalt verloren."
   ]
  },
  {
   "cell_type": "code",
   "execution_count": null,
   "metadata": {},
   "outputs": [],
   "source": [
    "! docker container rm c1"
   ]
  },
  {
   "cell_type": "markdown",
   "metadata": {},
   "source": [
    "### Prozessverwaltung im Container\n",
    "\n",
    "Wir starten wieder den Container von vorher"
   ]
  },
  {
   "cell_type": "code",
   "execution_count": null,
   "metadata": {},
   "outputs": [],
   "source": [
    "! docker container run --detach --name c1 ubuntu /bin/bash -c \"while true; do sleep 30000; done\""
   ]
  },
  {
   "cell_type": "code",
   "execution_count": null,
   "metadata": {},
   "outputs": [],
   "source": [
    "! docker container exec c1 ps ax"
   ]
  },
  {
   "cell_type": "markdown",
   "metadata": {},
   "source": [
    "Der erste Prozess im Container bekommt die **Id: 1**.\n"
   ]
  },
  {
   "cell_type": "markdown",
   "metadata": {},
   "source": [
    "Die Sichtweise auf die Prozesse des Containers ist von innen (innerhalb des Containers) und von aussen (Host), völlig unterschiedlich.\n",
    "\n",
    "Die externe Sicht kann wie folgt ausgegeben werden:"
   ]
  },
  {
   "cell_type": "code",
   "execution_count": null,
   "metadata": {},
   "outputs": [],
   "source": [
    "! docker container top c1"
   ]
  },
  {
   "cell_type": "markdown",
   "metadata": {},
   "source": [
    "Ausgabe weitere Informationen zum Container, wie Memory, CPU Verbrauch"
   ]
  },
  {
   "cell_type": "code",
   "execution_count": null,
   "metadata": {},
   "outputs": [],
   "source": [
    "! docker container stats --no-stream c1"
   ]
  },
  {
   "cell_type": "markdown",
   "metadata": {},
   "source": [
    "Aufräumen"
   ]
  },
  {
   "cell_type": "code",
   "execution_count": null,
   "metadata": {},
   "outputs": [],
   "source": [
    "! docker container stop c1\n",
    "! docker container rm c1"
   ]
  },
  {
   "cell_type": "markdown",
   "metadata": {},
   "source": [
    "### Docker logging\n",
    "\n",
    "Start eines fehlerhaften Containers"
   ]
  },
  {
   "cell_type": "code",
   "execution_count": null,
   "metadata": {},
   "outputs": [],
   "source": [
    "! docker container run --detach --name c3 ubuntu /bin/bash \"while true; do sleep 30000; done\"\n",
    "! docker container ps"
   ]
  },
  {
   "cell_type": "markdown",
   "metadata": {},
   "source": [
    "Ausgabe der Logging Informationen zum fehlerhalften Container"
   ]
  },
  {
   "cell_type": "code",
   "execution_count": null,
   "metadata": {},
   "outputs": [],
   "source": [
    "! docker container logs c3"
   ]
  },
  {
   "cell_type": "markdown",
   "metadata": {},
   "source": [
    "**Fehler:** die Option -c wurde nicht angegeben."
   ]
  },
  {
   "cell_type": "code",
   "execution_count": null,
   "metadata": {},
   "outputs": [],
   "source": [
    "! docker rm c3"
   ]
  },
  {
   "cell_type": "code",
   "execution_count": null,
   "metadata": {},
   "outputs": [],
   "source": []
  }
 ],
 "metadata": {
  "kernelspec": {
   "display_name": "Python 3",
   "language": "python",
   "name": "python3"
  },
  "language_info": {
   "codemirror_mode": {
    "name": "ipython",
    "version": 3
   },
   "file_extension": ".py",
   "mimetype": "text/x-python",
   "name": "python",
   "nbconvert_exporter": "python",
   "pygments_lexer": "ipython3",
   "version": "3.6.5"
  }
 },
 "nbformat": 4,
 "nbformat_minor": 2
}
