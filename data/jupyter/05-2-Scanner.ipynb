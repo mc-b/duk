{
 "cells": [
  {
   "cell_type": "markdown",
   "id": "051363e8-92f2-472a-bd06-87ac04061e77",
   "metadata": {},
   "source": [
    "Übung: Vulnerability Scanner\n",
    "----------------------------\n",
    "\n",
    "Container-basierte Umgebungen bestehen aus vielen Komponenten, darunter das Basis-Image, installierte Bibliotheken und Anwendungsabhängigkeiten. Jede dieser Komponenten kann potenzielle Schwachstellen enthalten, die von Angreifern ausgenutzt werden könnten. Ein Vulnerability Scanner durchsucht Container-Images nach bekannten Sicherheitslücken in den verwendeten Softwarepaketen und Konfigurationen und bietet Berichte und Empfehlungen zur Behebung dieser Schwachstellen.\n",
    "\n",
    "## Trivy\n",
    "\n",
    "Ist ein einfacher und schneller Scanner, der Open-Source- und kommerzielle Container-Images auf Schwachstellen überprüft.\n",
    "\n",
    "- - -\n",
    "\n",
    "Als erstes Überprüfen wir ein Container Image mit fehlendem `USER` Eintrag im [Dockerfile](https://gitlab.com/ch-mc-b/autoshop/shop/-/blob/main/Dockerfile)"
   ]
  },
  {
   "cell_type": "code",
   "execution_count": null,
   "id": "f0d3050b-f0cd-48af-b280-942944f2f3f1",
   "metadata": {},
   "outputs": [],
   "source": [
    "! trivy image --scanners misconfig registry.gitlab.com/ch-mc-b/autoshop/shop:2.0.0"
   ]
  },
  {
   "cell_type": "markdown",
   "id": "4d279923-e32e-4905-ab73-5df73143d45f",
   "metadata": {},
   "source": [
    "Und dann ein Container Image mit `USER` Eintrag"
   ]
  },
  {
   "cell_type": "code",
   "execution_count": null,
   "id": "3fc5d8c1-698f-47ad-97b4-4d270efac888",
   "metadata": {},
   "outputs": [],
   "source": [
    "! trivy image --scanners misconfig registry.gitlab.com/ch-mc-b/autoshop-ms/app/shop/shop:2.0.0"
   ]
  },
  {
   "cell_type": "code",
   "execution_count": null,
   "id": "d8549083-b1d6-41ab-ab13-3c09bbd149fc",
   "metadata": {},
   "outputs": [],
   "source": []
  }
 ],
 "metadata": {
  "kernelspec": {
   "display_name": "Python 3 (ipykernel)",
   "language": "python",
   "name": "python3"
  },
  "language_info": {
   "codemirror_mode": {
    "name": "ipython",
    "version": 3
   },
   "file_extension": ".py",
   "mimetype": "text/x-python",
   "name": "python",
   "nbconvert_exporter": "python",
   "pygments_lexer": "ipython3",
   "version": "3.12.3"
  }
 },
 "nbformat": 4,
 "nbformat_minor": 5
}
