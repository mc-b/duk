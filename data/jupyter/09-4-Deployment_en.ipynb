{
 "cells": [
  {
   "cell_type": "markdown",
   "metadata": {},
   "source": [
    "Exercise: Rolling Update\n",
    "-----------------\n",
    "\n",
    "In this exercise, we'll create multiple pods from the same image, each with a ReplicaSet, Deployment, Service, and **Ingress**.\n",
    "\n",
    "This happens in a separate namespace to be able to display the results in a targeted manner:"
   ]
  },
  {
   "cell_type": "code",
   "execution_count": null,
   "metadata": {},
   "outputs": [],
   "source": [
    "! kubectl create namespace depl"
   ]
  },
  {
   "cell_type": "markdown",
   "metadata": {},
   "source": [
    "We create the Pod, ReplicaSet, Deployment and Service.\n",
    "\n",
    "Specifying `replica: 5` is sufficient for the `Replica-Set`.\n",
    "\n",
    "The pods follow from `spec.containers`.\n",
    "\n",
    "Multiple resources can be combined into one file using `---`. Deployment and service here."
   ]
  },
  {
   "cell_type": "code",
   "execution_count": null,
   "metadata": {
    "scrolled": true
   },
   "outputs": [],
   "source": [
    "%%bash\n",
    "cat <<%EOF% | kubectl --namespace depl apply -f -\n",
    "apiVersion: v1\n",
    "kind: Service\n",
    "metadata:\n",
    "  name: bpmn-frontend\n",
    "  labels:\n",
    "    app: bpmn-frontend\n",
    "    group: web\n",
    "    tier: frontend\n",
    "spec:\n",
    "  ports:\n",
    "  - port: 80\n",
    "    targetPort: 80  \n",
    "    protocol: TCP\n",
    "  selector:\n",
    "    app: bpmn-frontend\n",
    "  type: LoadBalancer          \n",
    "---\n",
    "apiVersion: apps/v1\n",
    "kind: Deployment\n",
    "metadata:\n",
    "  name: bpmn-frontend\n",
    "spec:\n",
    "  replicas: 5\n",
    "  selector:\n",
    "    matchLabels:\n",
    "      app: bpmn-frontend\n",
    "  template:\n",
    "    metadata:\n",
    "      labels:\n",
    "        app: bpmn-frontend\n",
    "        group: web\n",
    "        tier: frontend\n",
    "    spec:\n",
    "      containers:\n",
    "      - name: bpmn-frontend\n",
    "        image: registry.gitlab.com/mc-b/misegr/bpmn-frontend:V0.2\n",
    "        imagePullPolicy: IfNotPresent        \n",
    "        ports:\n",
    "        - containerPort: 80\n",
    "          name: bpmn-frontend\n",
    "%EOF%"
   ]
  },
  {
   "cell_type": "markdown",
   "metadata": {},
   "source": [
    "To check, we output the generated resources:"
   ]
  },
  {
   "cell_type": "code",
   "execution_count": null,
   "metadata": {},
   "outputs": [],
   "source": [
    "# ! kubectl get pod,deployment,replicaset,service --namespace depl -o wide\n",
    "! kube-lineage --namespace depl deployment bpmn-frontend -d 2 --exclude-types events "
   ]
  },
  {
   "cell_type": "markdown",
   "metadata": {},
   "source": [
    "First, let's look at the output of the running pod, this time via the URL of the Kubernetes API server and the prefix attached via Ingress resources.\n",
    "\n",
    "The prefix `frontend` is permanently stored in the ingress resource, `index.html` results from how the container is structured (Apache server with an HTML file)."
   ]
  },
  {
   "cell_type": "code",
   "execution_count": null,
   "metadata": {},
   "outputs": [],
   "source": [
    "! echo \"BPMN Frontend: http://$(cat ~/work/server-ip):$(kubectl get service --namespace depl bpmn-frontend -o=jsonpath='{ .spec.ports[0].nodePort }')/frontend/index.html\""
   ]
  },
  {
   "cell_type": "markdown",
   "metadata": {},
   "source": [
    "However, we don't want the latest (`V0.2`) version of `bpmn-frontend` but version `V1.0`, so we are doing a rolling update, or changing the version number behind the image name."
   ]
  },
  {
   "cell_type": "code",
   "execution_count": null,
   "metadata": {},
   "outputs": [],
   "source": [
    "! kubectl set image deployment/bpmn-frontend bpmn-frontend=registry.gitlab.com/mc-b/misegr/bpmn-frontend:V1.0 --namespace depl"
   ]
  },
  {
   "cell_type": "markdown",
   "metadata": {},
   "source": [
    "We can display the changes:"
   ]
  },
  {
   "cell_type": "code",
   "execution_count": null,
   "metadata": {},
   "outputs": [],
   "source": [
    "#! kubectl get pod,deployment,replicaset,service --namespace depl -o wide   # Unuebersichtlich!\n",
    "#! kubectl describe deployment/bpmn-frontend --namespace depl\n",
    "! kube-lineage --namespace depl deployment bpmn-frontend -d 2  "
   ]
  },
  {
   "cell_type": "code",
   "execution_count": null,
   "metadata": {},
   "outputs": [],
   "source": [
    "! echo \"BPMN Frontend: http://$(cat ~/work/server-ip):$(kubectl get service --namespace depl bpmn-frontend -o=jsonpath='{ .spec.ports[0].nodePort }')/frontend/index.html\""
   ]
  },
  {
   "cell_type": "markdown",
   "metadata": {},
   "source": [
    "The version number `V1.0` should now be displayed in the title."
   ]
  },
  {
   "cell_type": "markdown",
   "metadata": {},
   "source": [
    "- - -\n",
    "\n",
    "RollOut\n",
    "-----------\n",
    "\n",
    "If the new version of the software doesn't work as expected, we can revert to the previous version.\n",
    "\n",
    "This is possible because Kubernetes stores deployment rollout history in the form of revisions.\n"
   ]
  },
  {
   "cell_type": "code",
   "execution_count": null,
   "metadata": {},
   "outputs": [],
   "source": [
    "! kubectl rollout history deployment/bpmn-frontend --namespace depl"
   ]
  },
  {
   "cell_type": "markdown",
   "metadata": {},
   "source": [
    "Two revisions should appear. The current one is revision 2.\n",
    "\n",
    "To revert to the previous revision, we use:"
   ]
  },
  {
   "cell_type": "code",
   "execution_count": null,
   "metadata": {},
   "outputs": [],
   "source": [
    "! kubectl rollout undo deployment/bpmn-frontend --namespace depl"
   ]
  },
  {
   "cell_type": "code",
   "execution_count": null,
   "metadata": {},
   "outputs": [],
   "source": [
    "! kubectl rollout history deployment/bpmn-frontend --namespace depl"
   ]
  },
  {
   "cell_type": "markdown",
   "metadata": {},
   "source": [
    "Clean up"
   ]
  },
  {
   "cell_type": "code",
   "execution_count": null,
   "metadata": {},
   "outputs": [],
   "source": [
    "! kubectl delete namespace depl"
   ]
  },
  {
   "cell_type": "markdown",
   "metadata": {},
   "source": [
    "***\n",
    "Questions\n",
    "======\n",
    "\n",
    "Answer the questions individually or in groups and compare them with the answers\n",
    "\n",
    "---\n",
    "\n",
    "What is the purpose of a ReplicaSet?\n",
    "<details><summary>Answer</summary><p>\n",
    "Ensures N pods are running, too few pods are started, too many pods are killed, grouped by label selector\n",
    "</p></details>\n",
    "\n",
    "---\n",
    "\n",
    "What can deployments be used for?\n",
    "<details><summary>Answer</summary><p>\n",
    "ErmÃ¶glichen Deklarative Updates von Container Images in Pods.\n",
    "</p></details>\n",
    "\n",
    "---"
   ]
  },
  {
   "cell_type": "code",
   "execution_count": null,
   "metadata": {},
   "outputs": [],
   "source": []
  }
 ],
 "metadata": {
  "kernelspec": {
   "display_name": "Python 3 (ipykernel)",
   "language": "python",
   "name": "python3"
  },
  "language_info": {
   "codemirror_mode": {
    "name": "ipython",
    "version": 3
   },
   "file_extension": ".py",
   "mimetype": "text/x-python",
   "name": "python",
   "nbconvert_exporter": "python",
   "pygments_lexer": "ipython3",
   "version": "3.10.6"
  }
 },
 "nbformat": 4,
 "nbformat_minor": 4
}
