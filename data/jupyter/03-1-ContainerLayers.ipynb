{
 "cells": [
  {
   "cell_type": "markdown",
   "metadata": {},
   "source": [
    "Übung: Container Layers\n",
    "------------------------------------\n",
    "\n",
    "Container Layers sind ein zentrales Konzept in der Welt der Containerisierung, das es ermöglicht, Anwendungen effizient und konsistent bereitzustellen. \n",
    "\n",
    "In der Container-Technologie, insbesondere in Docker, werden Container als eine Abfolge von schreibgeschützten und schreibbaren Layers aufgebaut, die zusammen das vollständige Dateisystem des Containers bilden. \n",
    "\n",
    "Jeder Layer repräsentiert eine Änderung oder einen Zustand, der auf den vorhergehenden Layers aufbaut, wodurch Änderungen leicht verfolgt und verwaltet werden können. \n",
    "\n",
    "Dieses Layersystem optimiert nicht nur den Speicherverbrauch, sondern erleichtert auch die Verteilung und Aktualisierung von Anwendungen, indem es redundante Layer minimiert und nur die Unterschiede zwischen den Layers speichert. \n",
    "\n",
    "- - -\n",
    "\n",
    "Wir versuchen in dieser Übung diese Layer sichtbar zu machen.\n",
    "\n",
    "Zuerst mit `docker`:"
   ]
  },
  {
   "cell_type": "code",
   "execution_count": null,
   "metadata": {},
   "outputs": [],
   "source": [
    "! docker pull registry.gitlab.com/ch-mc-b/autoshop/shop:2.0.0\n",
    "! docker inspect registry.gitlab.com/ch-mc-b/autoshop/shop:2.0.0"
   ]
  },
  {
   "cell_type": "markdown",
   "metadata": {},
   "source": [
    "Gleicher Versuch mit `podman`"
   ]
  },
  {
   "cell_type": "code",
   "execution_count": null,
   "metadata": {},
   "outputs": [],
   "source": [
    "! podman pull registry.gitlab.com/ch-mc-b/autoshop/shop:2.0.0\n",
    "! podman inspect registry.gitlab.com/ch-mc-b/autoshop/shop:2.0.0"
   ]
  },
  {
   "cell_type": "markdown",
   "metadata": {},
   "source": [
    "Mit Podman sehen wir nicht nur die Layer sondern auch die Befehle welche für diesen Layer ausgeführt worden sind.\n",
    "\n",
    "So können wir das `Dockerfile` des Containers rekonstruieren:"
   ]
  },
  {
   "cell_type": "code",
   "execution_count": null,
   "metadata": {},
   "outputs": [],
   "source": [
    "! podman inspect registry.gitlab.com/ch-mc-b/autoshop/shop:2.0.0 | grep created_by"
   ]
  },
  {
   "cell_type": "code",
   "execution_count": null,
   "metadata": {},
   "outputs": [],
   "source": []
  }
 ],
 "metadata": {
  "kernelspec": {
   "display_name": "Python 3 (ipykernel)",
   "language": "python",
   "name": "python3"
  },
  "language_info": {
   "codemirror_mode": {
    "name": "ipython",
    "version": 3
   },
   "file_extension": ".py",
   "mimetype": "text/x-python",
   "name": "python",
   "nbconvert_exporter": "python",
   "pygments_lexer": "ipython3",
   "version": "3.12.3"
  }
 },
 "nbformat": 4,
 "nbformat_minor": 2
}
