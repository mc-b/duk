{
 "cells": [
  {
   "attachments": {},
   "cell_type": "markdown",
   "metadata": {},
   "source": [
    "Liveness-, Readiness- und Startup-Tests\n",
    "=================================\n",
    "\n",
    "Liveness probes help to know when a container needs to be restarted. For example, liveness probes could catch a deadlock when an application is running but can't make any progress (eg current database does not start).\n",
    "\n",
    "The example below launches a pod which crashes after 15 seconds because the monitored file is no longer present:"
   ]
  },
  {
   "cell_type": "code",
   "execution_count": null,
   "metadata": {},
   "outputs": [],
   "source": [
    "%%bash\n",
    "cat <<%EOF% | kubectl apply -f -\n",
    "apiVersion: v1\n",
    "kind: Pod\n",
    "metadata:\n",
    "  labels:\n",
    "    test: liveness\n",
    "  name: liveness-exec\n",
    "spec:\n",
    "  containers:\n",
    "  - name: liveness\n",
    "    image: k8s.gcr.io/busybox\n",
    "    imagePullPolicy: IfNotPresent\n",
    "    args:\n",
    "    - /bin/sh\n",
    "    - -c\n",
    "    - touch /tmp/healthy; sleep 30; rm -rf /tmp/healthy; sleep 600\n",
    "    livenessProbe:\n",
    "      exec:\n",
    "        command:\n",
    "        - cat\n",
    "        - /tmp/healthy\n",
    "      initialDelaySeconds: 5\n",
    "      periodSeconds: 5\n",
    "%EOF%"
   ]
  },
  {
   "cell_type": "markdown",
   "metadata": {},
   "source": [
    "We can check this by running several times:"
   ]
  },
  {
   "cell_type": "code",
   "execution_count": null,
   "metadata": {},
   "outputs": [],
   "source": [
    "! kubectl describe pod liveness-exec"
   ]
  },
  {
   "cell_type": "markdown",
   "metadata": {},
   "source": [
    "Also, when displaying the pod, the multiple restarts should be visible:"
   ]
  },
  {
   "cell_type": "code",
   "execution_count": null,
   "metadata": {},
   "outputs": [],
   "source": [
    "! kubectl get pods liveness-exec"
   ]
  },
  {
   "cell_type": "markdown",
   "metadata": {},
   "source": [
    "Cleanup"
   ]
  },
  {
   "cell_type": "code",
   "execution_count": null,
   "metadata": {},
   "outputs": [],
   "source": [
    "! kubectl delete pod/liveness-exec"
   ]
  },
  {
   "cell_type": "markdown",
   "metadata": {},
   "source": [
    "***\n",
    "### Liveness-Tests HTTP Variante\n",
    "\n",
    "The same also works with HTTP ports:\n"
   ]
  },
  {
   "cell_type": "code",
   "execution_count": null,
   "metadata": {},
   "outputs": [],
   "source": [
    "%%bash\n",
    "cat <<%EOF% | kubectl apply -f - \n",
    "apiVersion: v1\n",
    "kind: Pod\n",
    "metadata:\n",
    "  labels:\n",
    "    test: liveness\n",
    "  name: liveness-http\n",
    "spec:\n",
    "  containers:\n",
    "  - name: liveness\n",
    "    image: k8s.gcr.io/liveness\n",
    "    imagePullPolicy: IfNotPresent    \n",
    "    args:\n",
    "    - /server\n",
    "    livenessProbe:\n",
    "      httpGet:\n",
    "        path: /healthz\n",
    "        port: 8080\n",
    "        httpHeaders:\n",
    "        - name: Custom-Header\n",
    "          value: Awesome\n",
    "      initialDelaySeconds: 3\n",
    "      periodSeconds: 3\n",
    "%EOF%\n"
   ]
  },
  {
   "cell_type": "markdown",
   "metadata": {},
   "source": [
    "The program in the pod is written to return an HTTP 200 response for the first 10 seconds and then an HTTP 500 response.\n",
    "\n",
    "    http.HandleFunc(\"/healthz\", func(w http.ResponseWriter, r *http.Request) {\n",
    "      duration := time.Now().Sub(started)\n",
    "      if duration.Seconds() > 10 {\n",
    "        w.WriteHeader(500)\n",
    "        w.Write([]byte(fmt.Sprintf(\"error: %v\", duration.Seconds())))\n",
    "      } else {\n",
    "        w.WriteHeader(200)\n",
    "        w.Write([]byte(\"ok\"))\n",
    "      }\n",
    "    })\n",
    "\n",
    ""
   ]
  },
  {
   "cell_type": "code",
   "execution_count": null,
   "metadata": {},
   "outputs": [],
   "source": [
    "! kubectl describe pod liveness-http\n",
    "! kubectl get pods liveness-http"
   ]
  },
  {
   "cell_type": "markdown",
   "metadata": {},
   "source": [
    "Clean up"
   ]
  },
  {
   "cell_type": "code",
   "execution_count": null,
   "metadata": {},
   "outputs": [],
   "source": [
    "! kubectl delete pods liveness-http"
   ]
  },
  {
   "attachments": {},
   "cell_type": "markdown",
   "metadata": {},
   "source": [
    "***\n",
    "Startup-Tests\n",
    "-------------------\n",
    "\n",
    "Startup probes help determine when a container application has started. If such a probe is configured, the aliveness and readiness checks are disabled until it succeeds to ensure that these probes do not interfere with application startup ören.\n",
    "\n",
    "Let's take a legacy application that simply takes a certain amount of time to start. A liveness test could result in the application being killed before it can even get into a `ready` state.\n",
    "\n",
    "The problem can be worked around with `startupProbe`. This ensures that `livenessProbe` is only executed after `failureThreshold * periodSeconds`."
   ]
  },
  {
   "cell_type": "code",
   "execution_count": null,
   "metadata": {},
   "outputs": [],
   "source": [
    "%%bash\n",
    "cat <<%EOF% | kubectl apply -f - \n",
    "apiVersion: v1\n",
    "kind: Pod\n",
    "metadata:\n",
    "  labels:\n",
    "    test: liveness\n",
    "  name: liveness-http\n",
    "spec:\n",
    "  containers:\n",
    "  - name: liveness\n",
    "    image: k8s.gcr.io/liveness\n",
    "    imagePullPolicy: IfNotPresent    \n",
    "    args:\n",
    "    - /server\n",
    "    \n",
    "    ports:\n",
    "    - name: liveness-port\n",
    "      containerPort: 8080\n",
    "      hostPort: 8080\n",
    "    \n",
    "    livenessProbe:\n",
    "     httpGet:\n",
    "       path: /healthz\n",
    "       port: liveness-port\n",
    "     failureThreshold: 1\n",
    "     periodSeconds: 10\n",
    "\n",
    "    startupProbe:\n",
    "     httpGet:\n",
    "       path: /healthz\n",
    "       port: liveness-port\n",
    "     failureThreshold: 30\n",
    "     periodSeconds: 10\n",
    "%EOF%"
   ]
  },
  {
   "cell_type": "code",
   "execution_count": null,
   "metadata": {},
   "outputs": [],
   "source": [
    "! kubectl describe pod liveness-http\n",
    "! kubectl get pods liveness-http"
   ]
  },
  {
   "cell_type": "markdown",
   "metadata": {},
   "source": [
    "Clean up"
   ]
  },
  {
   "cell_type": "code",
   "execution_count": null,
   "metadata": {},
   "outputs": [],
   "source": [
    "! kubectl delete pods liveness-http"
   ]
  },
  {
   "cell_type": "markdown",
   "metadata": {},
   "source": [
    "***\n",
    "Readiness-Tests\n",
    "---------------\n",
    "\n",
    "Readiness probes help determine when a container is ready to accept traffic. A pod is considered ready when all of its containers are ready. If a pod is not ready, it is removed from the Service Load balancers removed.\n",
    "\n",
    "Sometimes applications can temporarily not serve the data traffic, e.g. because the application has to process a large amount of data.\n",
    "\n",
    "Kubernetes should detect this situation and not start the application, but make sure that it doesn't receive any new data.\n",
    "\n",
    "There are readiness tests for this, which separate the application from the service and thus ensure that no data is received.\n"
   ]
  },
  {
   "cell_type": "code",
   "execution_count": null,
   "metadata": {},
   "outputs": [],
   "source": [
    "%%bash\n",
    "cat <<%EOF% | kubectl apply -f -\n",
    "apiVersion: v1\n",
    "kind: Pod\n",
    "metadata:\n",
    "  labels:\n",
    "    test: liveness\n",
    "  name: liveness-exec\n",
    "spec:\n",
    "  containers:\n",
    "  - name: liveness\n",
    "    image: k8s.gcr.io/busybox\n",
    "    imagePullPolicy: IfNotPresent\n",
    "    args:\n",
    "    - /bin/sh\n",
    "    - -c\n",
    "    - touch /tmp/healthy; sleep 30; rm -rf /tmp/healthy; sleep 600\n",
    "    readinessProbe:\n",
    "      exec:\n",
    "        command:\n",
    "        - cat\n",
    "        - /tmp/healthy\n",
    "      initialDelaySeconds: 5\n",
    "      periodSeconds: 5\n",
    "%EOF%"
   ]
  },
  {
   "cell_type": "code",
   "execution_count": null,
   "metadata": {},
   "outputs": [],
   "source": [
    "! kubectl describe pod liveness-exec\n",
    "! kubectl get pods/liveness-exec"
   ]
  },
  {
   "cell_type": "markdown",
   "metadata": {},
   "source": [
    "Clean up"
   ]
  },
  {
   "cell_type": "code",
   "execution_count": null,
   "metadata": {},
   "outputs": [],
   "source": [
    "! kubectl delete pod/liveness-exec"
   ]
  },
  {
   "cell_type": "code",
   "execution_count": null,
   "metadata": {},
   "outputs": [],
   "source": []
  }
 ],
 "metadata": {
  "kernelspec": {
   "display_name": "Python 3",
   "language": "python",
   "name": "python3"
  },
  "language_info": {
   "codemirror_mode": {
    "name": "ipython",
    "version": 3
   },
   "file_extension": ".py",
   "mimetype": "text/x-python",
   "name": "python",
   "nbconvert_exporter": "python",
   "pygments_lexer": "ipython3",
   "version": "3.7.3"
  }
 },
 "nbformat": 4,
 "nbformat_minor": 2
}
