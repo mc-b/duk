{
 "cells": [
  {
   "cell_type": "markdown",
   "id": "d11d2c97",
   "metadata": {},
   "source": [
    "# Rancher"
   ]
  },
  {
   "cell_type": "code",
   "execution_count": 6,
   "id": "9e395b98",
   "metadata": {},
   "outputs": [
    {
     "name": "stdout",
     "output_type": "stream",
     "text": [
      "ef9969405a6ddf7092837aed33e9900c6133d58b37a2c9b99f11b161938d521a\r\n"
     ]
    }
   ],
   "source": [
    "! sudo docker run --name rancher --privileged -d --restart=unless-stopped -p 80:80 -p 443:443 rancher/rancher"
   ]
  },
  {
   "cell_type": "markdown",
   "id": "c0a3e3e1",
   "metadata": {},
   "source": [
    "Warten bis der Container gestartet ist."
   ]
  },
  {
   "cell_type": "code",
   "execution_count": 10,
   "id": "16f3e549",
   "metadata": {},
   "outputs": [
    {
     "name": "stdout",
     "output_type": "stream",
     "text": [
      "2024/12/22 19:04:21 [INFO] Bootstrap Password: zggjbw75p7ncj6nnqwzrdttwk8t7qqb5s7xxchmvr2l2dnb9z8qzmf\n",
      "http://dukmaster-10-cloud-hf-08.maas:80\n"
     ]
    }
   ],
   "source": [
    "%%bash\n",
    "docker logs rancher 2>&1 | grep \"Bootstrap Password:\"\n",
    "echo \"http://dukmaster-10-cloud-hf-08.maas:80\""
   ]
  },
  {
   "cell_type": "markdown",
   "id": "8e65a595",
   "metadata": {},
   "source": [
    "Passwort rancher123456 setzen"
   ]
  },
  {
   "cell_type": "code",
   "execution_count": 2,
   "id": "58d7f011",
   "metadata": {},
   "outputs": [
    {
     "name": "stdout",
     "output_type": "stream",
     "text": [
      "clusterrole.rbac.authorization.k8s.io/proxy-clusterrole-kubeapiserver created\n",
      "clusterrolebinding.rbac.authorization.k8s.io/proxy-role-binding-kubernetes-master created\n",
      "namespace/cattle-system created\n",
      "serviceaccount/cattle created\n",
      "clusterrolebinding.rbac.authorization.k8s.io/cattle-admin-binding created\n",
      "secret/cattle-credentials-8a2a283 created\n",
      "clusterrole.rbac.authorization.k8s.io/cattle-admin created\n",
      "\u001b[33;1mWarning:\u001b[0m spec.template.spec.affinity.nodeAffinity.requiredDuringSchedulingIgnoredDuringExecution.nodeSelectorTerms[0].matchExpressions[0].key: beta.kubernetes.io/os is deprecated since v1.14; use \"kubernetes.io/os\" instead\n",
      "\u001b[33;1mWarning:\u001b[0m spec.template.spec.affinity.nodeAffinity.preferredDuringSchedulingIgnoredDuringExecution[2].preference.matchExpressions[0].key: node-role.kubernetes.io/master is use \"node-role.kubernetes.io/control-plane\" instead\n",
      "deployment.apps/cattle-cluster-agent created\n",
      "service/cattle-cluster-agent created\n"
     ]
    }
   ],
   "source": [
    "! curl --insecure -sfL https://10.1.24.10/v3/import/thq4dnhfr98mgjnwzc8t7zl98n8k7stv66t77wr2v4jqvc8p4kw7lv_c-m-k2k5vcvv.yaml | kubectl apply -f -"
   ]
  },
  {
   "cell_type": "code",
   "execution_count": 5,
   "id": "5c913514",
   "metadata": {},
   "outputs": [
    {
     "name": "stdout",
     "output_type": "stream",
     "text": [
      "rancher\r\n"
     ]
    }
   ],
   "source": [
    "! docker stop rancher"
   ]
  },
  {
   "cell_type": "code",
   "execution_count": null,
   "id": "af29916b",
   "metadata": {},
   "outputs": [],
   "source": []
  }
 ],
 "metadata": {
  "kernelspec": {
   "display_name": "Python 3 (ipykernel)",
   "language": "python",
   "name": "python3"
  },
  "language_info": {
   "codemirror_mode": {
    "name": "ipython",
    "version": 3
   },
   "file_extension": ".py",
   "mimetype": "text/x-python",
   "name": "python",
   "nbconvert_exporter": "python",
   "pygments_lexer": "ipython3",
   "version": "3.12.3"
  }
 },
 "nbformat": 4,
 "nbformat_minor": 5
}
