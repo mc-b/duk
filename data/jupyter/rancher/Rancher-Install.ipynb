{
 "cells": [
  {
   "cell_type": "markdown",
   "id": "d11d2c97",
   "metadata": {},
   "source": [
    "# Rancher\n",
    "\n",
    "![](https://www.rancher.com/assets/img/logos/screen2-thumbnail-suse.svg)\n",
    "\n",
    "Quelle: https://www.rancher.com/why-rancher\n",
    "- - -\n",
    "\n",
    "SUSE Rancher ist eine leistungsstarke Open-Source-Plattform für das Management und die Orchestrierung von Kubernetes-Clustern. \n",
    "\n",
    "Sie wurde entwickelt, um Unternehmen dabei zu unterstützen, die Verwaltung von Container-Infrastrukturen zu vereinfachen, unabhängig davon, ob diese in einer privaten Cloud, einer öffentlichen Cloud oder in hybriden Umgebungen betrieben werden.\n",
    "\n",
    "Rancher bietet eine zentrale Benutzeroberfläche, die es Teams ermöglicht, Kubernetes-Cluster effizient bereitzustellen, zu überwachen und zu verwalten. Darüber hinaus unterstützt die Plattform DevOps- und IT-Teams bei der Optimierung ihrer Arbeitsabläufe durch Tools für Continuous Integration/Continuous Delivery (CI/CD), Monitoring und Sicherheitsmanagement. \n",
    "\n",
    "- - -\n",
    "Um Rancher Auszuprobieren starten wir Rancher in einem Container"
   ]
  },
  {
   "cell_type": "code",
   "execution_count": null,
   "id": "9e395b98",
   "metadata": {},
   "outputs": [],
   "source": [
    "! sudo docker run --name rancher --privileged -d --restart=unless-stopped -p 80:80 -p 443:443 rancher/rancher"
   ]
  },
  {
   "cell_type": "markdown",
   "id": "c0a3e3e1",
   "metadata": {},
   "source": [
    "Nachdem der Container gestartet ist, können wir das Password auslesen und mit diesem uns in die Oberfläche von Rancher anmelden.\n",
    "\n",
    "Warten bis der Container gestartet ist."
   ]
  },
  {
   "cell_type": "code",
   "execution_count": null,
   "id": "16f3e549",
   "metadata": {},
   "outputs": [],
   "source": [
    "%%bash\n",
    "docker logs rancher 2>&1 | grep \"Bootstrap Password:\"\n",
    "echo \"http://$(cat ~/work/server-ip):80\""
   ]
  },
  {
   "cell_type": "markdown",
   "id": "8e65a595",
   "metadata": {},
   "source": [
    "Nach dem Anmelden können wir einen bestehenden Kubernetes Cluster zu Rancher hinzufügen.\n",
    "\n",
    "Dabei ist zuerst `Import Existing` -> dann `Generic` auszuwählen.\n",
    "\n",
    "Rancher stellt und dann ein Script zur Verfügung welches wir auf dem bestehenden Cluster ausführen müssen. Das sieht etwa wie folgt aus:\n",
    "\n",
    "\n",
    "    curl --insecure -sfL https://localhost/v3/import/zscwbx7qltrjngcxtscvwwrwmrt25q9lxcxhnhmqn46vmnp7ntrb59_c-m-pljbqnc8.yaml | kubectl apply -f - \n",
    "    \n",
    "\n",
    "Das Script von Rancher in die nächste Zeile einfügen und ausführen:"
   ]
  },
  {
   "cell_type": "code",
   "execution_count": null,
   "id": "0fdef0fb",
   "metadata": {},
   "outputs": [],
   "source": [
    "%%bash\n"
   ]
  },
  {
   "cell_type": "code",
   "execution_count": null,
   "id": "af29916b",
   "metadata": {},
   "outputs": [],
   "source": []
  }
 ],
 "metadata": {
  "kernelspec": {
   "display_name": "Python 3 (ipykernel)",
   "language": "python",
   "name": "python3"
  },
  "language_info": {
   "codemirror_mode": {
    "name": "ipython",
    "version": 3
   },
   "file_extension": ".py",
   "mimetype": "text/x-python",
   "name": "python",
   "nbconvert_exporter": "python",
   "pygments_lexer": "ipython3",
   "version": "3.12.3"
  }
 },
 "nbformat": 4,
 "nbformat_minor": 5
}
