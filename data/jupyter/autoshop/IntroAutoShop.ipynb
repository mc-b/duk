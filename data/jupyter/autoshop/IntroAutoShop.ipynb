{
 "cells": [
  {
   "cell_type": "markdown",
   "id": "2251fe72",
   "metadata": {},
   "source": [
    "Autoshop\n",
    "========\n",
    "\n",
    "Einfacher WebShop implementiert als monolithische Applikation.\n",
    "\n",
    "Die Applikation kann einfach gebuildet, gestartet und getestet werden. Ausser `podman` oder `docker` braucht es keine weiteren Tools.\n",
    "\n",
    "- - - \n",
    "Zuerst holen wir die Sourcen:"
   ]
  },
  {
   "cell_type": "code",
   "execution_count": null,
   "id": "7474a50d",
   "metadata": {},
   "outputs": [],
   "source": [
    "! git clone https://gitlab.com/ch-mc-b/autoshop/shop.git"
   ]
  },
  {
   "cell_type": "markdown",
   "id": "a7c65e72",
   "metadata": {},
   "source": [
    "- - - \n",
    "\n",
    "Version 1.0.0\n",
    "-------------\n",
    "\n",
    "Einfache, unsichere Variante. U.a.:\n",
    "* läuft innerhalb des Containers mit root-Rechten\n",
    "* keine Begrenzung Memory beim Starten\n",
    "\n",
    "**Image builden**"
   ]
  },
  {
   "cell_type": "code",
   "execution_count": null,
   "id": "58b1ed8d",
   "metadata": {},
   "outputs": [],
   "source": [
    "%%bash\n",
    "cd shop\n",
    "git switch v1.0.0\n",
    "podman build -t registry.gitlab.com/ch-mc-b/autoshop/shop:1.0.0 ."
   ]
  },
  {
   "cell_type": "markdown",
   "id": "9b952c96",
   "metadata": {},
   "source": [
    "**Applikation starten**\n",
    "\n",
    "Normaler Start"
   ]
  },
  {
   "cell_type": "code",
   "execution_count": null,
   "id": "43158e0a",
   "metadata": {},
   "outputs": [],
   "source": [
    "! podman run -d --rm -p 8080:8080 --name shop registry.gitlab.com/ch-mc-b/autoshop/shop:1.0.0 "
   ]
  },
  {
   "cell_type": "markdown",
   "id": "d84a3dd3",
   "metadata": {},
   "source": [
    "Testen mittels"
   ]
  },
  {
   "cell_type": "code",
   "execution_count": null,
   "id": "21de8f5f",
   "metadata": {},
   "outputs": [],
   "source": [
    "! echo \"http://$(cat ~/work/server-ip):8080\""
   ]
  },
  {
   "cell_type": "markdown",
   "id": "c9ba7a30",
   "metadata": {},
   "source": [
    "Memory Verbrauch beobachten"
   ]
  },
  {
   "cell_type": "markdown",
   "id": "8344f9f6",
   "metadata": {},
   "source": [
    "! podman stats --no-stream shop"
   ]
  },
  {
   "cell_type": "markdown",
   "id": "c0ced84a",
   "metadata": {},
   "source": [
    "**Stoppen und Aufräumen**\n",
    "\n",
    "**Hinweis*: `podman container prune` ist nicht nötig, weil `--rm` den Container automatisch aufräumt."
   ]
  },
  {
   "cell_type": "code",
   "execution_count": null,
   "id": "2f142d36",
   "metadata": {},
   "outputs": [],
   "source": [
    "! podman stop shop"
   ]
  },
  {
   "cell_type": "markdown",
   "id": "8a9f6100",
   "metadata": {},
   "source": [
    "- - -\n",
    "\n",
    "Version 2.0.0\n",
    "-------------\n",
    "\n",
    "Version 2.0.0 mit ansprechender Oberfläche.\n",
    "\n",
    "**Image builden**"
   ]
  },
  {
   "cell_type": "code",
   "execution_count": null,
   "id": "34530547",
   "metadata": {},
   "outputs": [],
   "source": [
    "%%bash\n",
    "cd shop\n",
    "git switch v2.0.0\n",
    "podman build -t registry.gitlab.com/ch-mc-b/autoshop/shop:2.0.0 ."
   ]
  },
  {
   "cell_type": "markdown",
   "id": "08238971",
   "metadata": {},
   "source": [
    "**Applikation starten**   "
   ]
  },
  {
   "cell_type": "code",
   "execution_count": null,
   "id": "9eb7e7f9",
   "metadata": {},
   "outputs": [],
   "source": [
    "! podman run -d --rm -p 8080:8080 --name shop registry.gitlab.com/ch-mc-b/autoshop/shop:2.0.0 "
   ]
  },
  {
   "cell_type": "markdown",
   "id": "c34e3faf",
   "metadata": {},
   "source": [
    "Testen mittels"
   ]
  },
  {
   "cell_type": "code",
   "execution_count": null,
   "id": "7252a7f8",
   "metadata": {},
   "outputs": [],
   "source": [
    "! echo \"http://$(cat ~/work/server-ip):8080\""
   ]
  },
  {
   "cell_type": "markdown",
   "id": "a816fd7e",
   "metadata": {},
   "source": [
    "**Stoppen und Aufräumen**"
   ]
  },
  {
   "cell_type": "code",
   "execution_count": null,
   "id": "a9063c43",
   "metadata": {},
   "outputs": [],
   "source": [
    "! podman stop shop"
   ]
  },
  {
   "cell_type": "markdown",
   "id": "452b12dc",
   "metadata": {},
   "source": [
    "- - -\n",
    "\n",
    "### Weitere Übungen\n",
    "\n",
    "* [Container-Standards](../01-1-Container-Standards.ipynb)\n",
    "\n",
    "- - - \n",
    "\n",
    "### Quellen\n",
    "\n",
    "* Sourcecode: https://gitlab.com/ch-mc-b/autoshop/shop\n",
    "* Container Registry: https://gitlab.com/ch-mc-b/autoshop/shop/container_registry"
   ]
  },
  {
   "cell_type": "code",
   "execution_count": null,
   "id": "b9498024",
   "metadata": {},
   "outputs": [],
   "source": []
  }
 ],
 "metadata": {
  "kernelspec": {
   "display_name": "Python 3 (ipykernel)",
   "language": "python",
   "name": "python3"
  },
  "language_info": {
   "codemirror_mode": {
    "name": "ipython",
    "version": 3
   },
   "file_extension": ".py",
   "mimetype": "text/x-python",
   "name": "python",
   "nbconvert_exporter": "python",
   "pygments_lexer": "ipython3",
   "version": "3.12.3"
  }
 },
 "nbformat": 4,
 "nbformat_minor": 5
}
