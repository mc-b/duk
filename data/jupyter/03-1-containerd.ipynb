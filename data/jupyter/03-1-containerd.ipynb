{
 "cells": [
  {
   "cell_type": "markdown",
   "metadata": {},
   "source": [
    "Übung: Funktionaler Überblick\n",
    "--------------------------------------------\n",
    "\n",
    "Bei cri-o oder containerd haben wir kein `docker` CLI, deshalb verwenden wir `kubectl` von Kubernetes.\n",
    "\n",
    "Container Image holen, wenn nicht bereits vorhanden, und starten."
   ]
  },
  {
   "cell_type": "code",
   "execution_count": null,
   "metadata": {},
   "outputs": [],
   "source": [
    "%%bash\n",
    "kubectl run hello-world --image registry.gitlab.com/mc-b/misegr/hello-world --image-pull-policy=\"IfNotPresent\" \\\n",
    "                        --restart=Never --labels=\"name=hello\""
   ]
  },
  {
   "cell_type": "markdown",
   "metadata": {},
   "source": [
    "Die kleinste Einheit bei Kubernetes ist ein [Pod](https://kubernetes.io/docs/concepts/workloads/pods/). Vereinfacht eine Gruppe von Containern.\n",
    "\n",
    "Diesen Pod können wir uns anzeigen lassen:"
   ]
  },
  {
   "cell_type": "code",
   "execution_count": null,
   "metadata": {},
   "outputs": [],
   "source": [
    "! kubectl get pod/hello-world "
   ]
  },
  {
   "cell_type": "markdown",
   "metadata": {},
   "source": [
    "Bei Kubernetes wird der Container im Hintergrund gestartet, weshalb wir keine Ausgabe sehen.\n",
    "\n",
    "Um diese zu sehen, müssen wir den Port des Containers nach aussen freischalten.\n",
    "\n",
    "Das geht mittels:"
   ]
  },
  {
   "cell_type": "code",
   "execution_count": null,
   "metadata": {},
   "outputs": [],
   "source": [
    "! kubectl expose pod/hello-world --type=\"LoadBalancer\" --port 80 "
   ]
  },
  {
   "cell_type": "markdown",
   "metadata": {},
   "source": [
    "Da wir keinen LoadBalancer haben müssen wir mit einem kleinen Shellscript selber die IP des Clusters und der gemappte Port als URL aufbereiten."
   ]
  },
  {
   "cell_type": "code",
   "execution_count": null,
   "metadata": {},
   "outputs": [],
   "source": [
    "! echo \"http://\"$(cat ~/work/server-ip)\":$(kubectl get service hello-world -o=jsonpath='{ .spec.ports[0].nodePort }')/\""
   ]
  },
  {
   "cell_type": "markdown",
   "metadata": {},
   "source": [
    "***\n",
    "\n",
    "Zu Testzwecken starten wir den Container, nochmals unter einem anderen Namen"
   ]
  },
  {
   "cell_type": "code",
   "execution_count": null,
   "metadata": {},
   "outputs": [],
   "source": [
    "! kubectl run hello-world1 --image registry.gitlab.com/mc-b/misegr/hello-world --image-pull-policy=\"IfNotPresent\" --restart=Never  --labels=\"name=hello\"\n",
    "! kubectl expose pod/hello-world1 --type=\"LoadBalancer\" --port 80\n",
    "! echo \"http://\"$(cat ~/work/server-ip)\":$(kubectl get service hello-world1 -o=jsonpath='{ .spec.ports[0].nodePort }')/\""
   ]
  },
  {
   "cell_type": "markdown",
   "metadata": {},
   "source": [
    "Wir haben jetzt zwei Container (Pods) am laufen, aber immer noch ein Image."
   ]
  },
  {
   "cell_type": "code",
   "execution_count": null,
   "metadata": {},
   "outputs": [],
   "source": [
    "! kubectl get pods -l name=hello"
   ]
  },
  {
   "cell_type": "code",
   "execution_count": null,
   "metadata": {
    "scrolled": true
   },
   "outputs": [],
   "source": [
    "! kubectl get pods -l name=hello -o jsonpath=\"{..image}\" | tr -s '[[:space:]]' '\\n' | sed 's/:latest//g' | sort | uniq -c"
   ]
  },
  {
   "cell_type": "markdown",
   "metadata": {},
   "source": [
    "***\n",
    "\n",
    "Aufräumen"
   ]
  },
  {
   "cell_type": "code",
   "execution_count": null,
   "metadata": {},
   "outputs": [],
   "source": [
    "! kubectl delete pod/hello-world\n",
    "! kubectl delete service/hello-world\n",
    "! kubectl delete pod/hello-world1\n",
    "! kubectl delete service/hello-world1"
   ]
  },
  {
   "cell_type": "markdown",
   "metadata": {},
   "source": [
    "Die Container (Pods) wurden beendet, das Image ist noch vorhanden. \n",
    "\n",
    "**Hinweis**: um die Image anzeigen zu lassen, ist in der VM `sudo crictl images` auszuführen."
   ]
  },
  {
   "cell_type": "code",
   "execution_count": null,
   "metadata": {},
   "outputs": [],
   "source": [
    "! kubectl get pods -l name=hello"
   ]
  },
  {
   "cell_type": "code",
   "execution_count": null,
   "metadata": {},
   "outputs": [],
   "source": []
  }
 ],
 "metadata": {
  "kernelspec": {
   "display_name": "Python 3 (ipykernel)",
   "language": "python",
   "name": "python3"
  },
  "language_info": {
   "codemirror_mode": {
    "name": "ipython",
    "version": 3
   },
   "file_extension": ".py",
   "mimetype": "text/x-python",
   "name": "python",
   "nbconvert_exporter": "python",
   "pygments_lexer": "ipython3",
   "version": "3.9.6"
  }
 },
 "nbformat": 4,
 "nbformat_minor": 2
}
