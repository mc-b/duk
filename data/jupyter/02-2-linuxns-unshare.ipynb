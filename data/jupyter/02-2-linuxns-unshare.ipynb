{
 "cells": [
  {
   "cell_type": "markdown",
   "id": "3b91756e-7dc6-4d48-8a43-5e39198cdc20",
   "metadata": {},
   "source": [
    "Übung: Linux Namespaces - unshare\n",
    "---------------------------------\n",
    "\n",
    "![](images/linuxns.png)\n",
    "\n",
    "- - -\n",
    "\n",
    "Das Kommandozeilen-Tool unshare spielt eine wesentliche Rolle in der Welt der Containerisierung, indem es die Isolation von Linux-Systemressourcen für Prozesse ermöglicht. \n",
    "\n",
    "Entwickelt, um die Funktionen der Linux Namespaces zu erweitern, erlaubt unshare es, dass ein Prozess bestimmte Namespaces von seinem Elternprozess unabhängig macht. \n",
    "\n",
    "Diese Funktionalität ist entscheidend für die Erstellung und Verwaltung von Containern, da sie es ermöglicht, dass Container ihre eigenen isolierten Umgebungen für Prozesse, Netzwerke, Dateisysteme und mehr haben können.\n",
    "\n",
    "- - -\n",
    "\n",
    "Mit den nachfolgenden Befehlen demonstrieren wir die Funktionalität wie sie ein Container Runtime (Engine) verwendet.\n",
    "\n",
    "Dazu holen \n",
    "* eine Original Alpine Distribution\n",
    "* entpacken diese ins Verzeichnis `alpine`\n",
    "* und wechseln die verschiedenen Linux (Unter-)Namespaces um jeweils eine Befehl zu Demonstrationszwecken zu starten\n"
   ]
  },
  {
   "cell_type": "code",
   "execution_count": null,
   "id": "ed347c75-e218-4cd6-8fcd-3d6f7fe5fcce",
   "metadata": {},
   "outputs": [],
   "source": [
    "%%bash\n",
    "wget -qqq -O alpine.tar.gz http://dl-cdn.alpinelinux.org/alpine/latest-stable/releases/x86_64/alpine-minirootfs-3.20.1-x86_64.tar.gz\n",
    "rm -rf alpine && mkdir -p alpine\n",
    "tar -C alpine -xvf alpine.tar.gz\n",
    "rm alpine.tar.gz\n",
    "# Netzwerk\n",
    "sudo cp /etc/resolv.conf alpine/etc/\n",
    "# zusätzliche SW installieren\n",
    "sudo unshare -p --fork --mount-proc --root alpine apk update \n",
    "sudo unshare -p --fork --mount-proc --root alpine apk add pstree iproute2 iputils iptables"
   ]
  },
  {
   "cell_type": "code",
   "execution_count": null,
   "id": "20e551f4-d6e6-4c16-8f68-76a6d490ee64",
   "metadata": {},
   "outputs": [],
   "source": [
    "# Filesystem\n",
    "! sudo unshare -p --fork --mount-proc --root alpine cat /etc/issue"
   ]
  },
  {
   "cell_type": "code",
   "execution_count": null,
   "id": "ba1849c2-bfeb-46db-9d04-a946bfe61d6d",
   "metadata": {},
   "outputs": [],
   "source": [
    "# Prozesse\n",
    "! sudo unshare -p --fork --mount-proc --root alpine pstree"
   ]
  },
  {
   "cell_type": "code",
   "execution_count": null,
   "id": "1d6914f3-ad82-42bb-acf6-058701e0e0b0",
   "metadata": {},
   "outputs": [],
   "source": [
    "# Netzwerk\n",
    "! sudo unshare -p --fork --mount-proc --net --root alpine ip addr"
   ]
  },
  {
   "cell_type": "markdown",
   "id": "4297d336-b8f1-4239-a5aa-e72d2cc258b3",
   "metadata": {},
   "source": [
    "Was noch fehlt, ist die Konfiguration eines Netzwerkadapters und das Routing ins Internet.\n",
    "\n",
    "Aufgrund ihrer Komplexität werden die Befehle hier nur aufgelistet.\n",
    "\n",
    "    # Erstellen eines veth-Paares\n",
    "    sudo ip link add veth0 type veth peer name veth1\n",
    "    \n",
    "    # Starten des unshare-Prozesses in einer neuen Shell und Ermitteln der PID\n",
    "    sudo unshare -p --fork --mount-proc --root alpine sh -c \"\n",
    "      sleep 120\n",
    "      ip addr add 192.168.100.2/24 dev veth1\n",
    "      ip link set veth1 up\n",
    "      ip route add default via 192.168.100.1\n",
    "    \" &\n",
    "    UNSHARE_PID=$!\n",
    "    \n",
    "    # Warten, bis der unshare-Prozess startet\n",
    "    sleep 1\n",
    "    \n",
    "    # Verschieben von veth1 in den neuen Netzwerk-Namespace\n",
    "    sudo ip link set veth1 netns $UNSHARE_PID\n",
    "    \n",
    "    # Konfiguration von veth0 auf dem Host\n",
    "    sudo ip addr add 192.168.200.1/24 dev veth0\n",
    "    sudo ip link set veth0 up\n",
    "    \n",
    "    # IP-Weiterleitung auf dem Host aktivieren\n",
    "    echo 1 | sudo tee /proc/sys/net/ipv4/ip_forward\n",
    "    \n",
    "    # Konfiguration von NAT auf dem Host\n",
    "    sudo iptables -t nat -A POSTROUTING -s 192.168.200.0/24 -o eth0 -j MASQUERADE\n",
    "    \n",
    "    # Warten Sie, bis der unshare-Prozess beendet ist (falls erforderlich)\n",
    "    wait $UNSHARE_PID\n"
   ]
  },
  {
   "cell_type": "markdown",
   "id": "28692490",
   "metadata": {},
   "source": [
    "Die Variante Filesystem funktioniert statt mit `unshare`, seit 1979 mit dem Befehl `chroot`."
   ]
  },
  {
   "cell_type": "code",
   "execution_count": null,
   "id": "06bf947e",
   "metadata": {},
   "outputs": [],
   "source": [
    "# Filesystem\n",
    "! sudo chroot alpine cat /etc/issue"
   ]
  },
  {
   "cell_type": "code",
   "execution_count": null,
   "id": "14d8beae",
   "metadata": {},
   "outputs": [],
   "source": []
  }
 ],
 "metadata": {
  "kernelspec": {
   "display_name": "Python 3 (ipykernel)",
   "language": "python",
   "name": "python3"
  },
  "language_info": {
   "codemirror_mode": {
    "name": "ipython",
    "version": 3
   },
   "file_extension": ".py",
   "mimetype": "text/x-python",
   "name": "python",
   "nbconvert_exporter": "python",
   "pygments_lexer": "ipython3",
   "version": "3.12.3"
  }
 },
 "nbformat": 4,
 "nbformat_minor": 5
}
