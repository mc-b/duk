{
 "cells": [
  {
   "cell_type": "markdown",
   "metadata": {},
   "source": [
    "WebGoat\n",
    "=======\n",
    "\n",
    "![](https://webgoat.github.io/WebGoat/img/portfolio/lesson.png)\n",
    "\n",
    "Quelle: https://owasp.org/www-project-webgoat/\n",
    "- - -\n",
    "\n",
    "WebGoat ist eine absichtlich unsichere Anwendung, mit der interessierte Entwickler Schwachstellen testen können, die häufig in Web Anwendungen auftreten.\n",
    "\n",
    "Die Sicherheit von Webanwendungen ist schwer zu erlernen und zu üben. Nicht viele Leute haben vollständige Webanwendungen wie Online-Buchhandlungen oder Online-Banken, mit denen nach Schwachstellen gesucht werden kann. Darüber hinaus müssen Sicherheitsexperten häufig Tools auf einer Plattform testen, von der bekannt ist, dass sie anfällig sind, um sicherzustellen, dass sie die angegebene Leistung erbringen. All dies muss in einem sicheren und legalen Umfeld geschehen.\n",
    "\n",
    "**Selbst wenn Ihre Absichten gut sind, sollten Sie niemals versuchen, Schwachstellen ohne Erlaubnis zu finden.**\n",
    "\n",
    "**WARNUNG 1:** Während Sie dieses Programm ausführen, ist Ihr Computer extrem anfällig für Angriffe. Sie sollten die Verbindung zum Internet trennen, während Sie dieses Programm verwenden.\n",
    "\n",
    "**WARNUNG 2:** Dieses Programm dient nur zu Bildungszwecken. Wenn Sie diese Techniken ohne Genehmigung versuchen, werden Sie sehr wahrscheinlich erwischt. Wenn Sie beim unbefugten Hacken erwischt werden, werden Sie von den meisten Unternehmen entlassen. Die Behauptung, dass Sie Sicherheitsforschung betrieben haben, funktioniert nicht, da dies das erste ist, was alle Hacker behaupten.\n"
   ]
  },
  {
   "cell_type": "markdown",
   "metadata": {},
   "source": [
    "***\n",
    "Starten der Applikation und Ausgabe URL User Interface.\n",
    "\n",
    "Im User Interface ist zuerst ein User anzulegen um dann mit den Tutorials beginnen zu können."
   ]
  },
  {
   "cell_type": "code",
   "execution_count": null,
   "metadata": {},
   "outputs": [],
   "source": [
    "! kubectl apply -f https://raw.githubusercontent.com/mc-b/duk/master/owasp/webgoat-deployment.yaml\n",
    "! kubectl apply -f https://raw.githubusercontent.com/mc-b/duk/master/owasp/webgoat-service.yaml\n",
    "! echo $(kubectl config view -o=jsonpath='{ .clusters[0].cluster.server }' | sed -e 's/https:/http:/' -e \"s/6443/$(kubectl get service webgoat -o=jsonpath='{ .spec.ports[0].nodePort }')/\")/WebGoat/start.mvc"
   ]
  },
  {
   "cell_type": "markdown",
   "metadata": {},
   "source": [
    "***\n",
    "* [Lösungen](https://github.com/WebGoat/WebGoat/wiki/(Almost)-Fully-Documented-Solution-(en))\n",
    "\n"
   ]
  },
  {
   "cell_type": "code",
   "execution_count": null,
   "metadata": {},
   "outputs": [],
   "source": []
  }
 ],
 "metadata": {
  "kernelspec": {
   "display_name": "Python 3",
   "language": "python",
   "name": "python3"
  },
  "language_info": {
   "codemirror_mode": {
    "name": "ipython",
    "version": 3
   },
   "file_extension": ".py",
   "mimetype": "text/x-python",
   "name": "python",
   "nbconvert_exporter": "python",
   "pygments_lexer": "ipython3",
   "version": "3.7.3"
  }
 },
 "nbformat": 4,
 "nbformat_minor": 2
}
