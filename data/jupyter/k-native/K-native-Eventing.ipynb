{
 "cells": [
  {
   "cell_type": "markdown",
   "id": "b774f43f",
   "metadata": {},
   "source": [
    "Übung: Eventing mit K-native\n",
    "-----------------------------\n",
    "\n",
    "**Eventing** bietet eine flexible und erweiterbare Möglichkeit, Anwendungen zu entwickeln, die auf eine Vielzahl von Ereignissen reagieren können. \n",
    "\n",
    "**Eventing** entkoppelt Produzenten und Konsumenten von Ereignissen, was zu einer verbesserten Skalierbarkeit und Wartbarkeit führt.\n",
    "\n",
    "**Knative Eventing** ist ein leistungsstarkes Framework innerhalb der Knative-Plattform, das es Entwicklern ermöglicht, ereignisgesteuerte Architekturen auf Kubernetes zu erstellen und zu verwalten.\n",
    "\n",
    "#### Vorteile\n",
    "\n",
    "* **Entkopplung**: Produzenten und Konsumenten von Ereignissen sind entkoppelt, was die Entwicklung und Wartung von Anwendungen vereinfacht.\n",
    "* **Skalierbarkeit**: Automatische Skalierung der Anwendungen basierend auf der Anzahl der eingehenden Ereignisse.\n",
    "* **Erweiterbarkeit**: Unterstützung für verschiedene Arten von Ereignisquellen und -senken, die leicht integriert werden können.\n",
    "* **Cloud-agnostisch**: Funktioniert auf jeder Kubernetes-Umgebung, unabhängig vom Cloud-Anbieter.\n",
    "\n",
    "\n",
    "- - -\n",
    "\n",
    "Zuerst erstellen wir den Kubernetes Namespace\n",
    "\n"
   ]
  },
  {
   "cell_type": "code",
   "execution_count": null,
   "id": "f14f856b",
   "metadata": {},
   "outputs": [],
   "source": [
    "import os\n",
    "os.environ['NS_EVNT']='ms-evnt'\n",
    "! kubectl create namespace ${NS_EVNT}\n",
    "! # kubectl label  namespace ${NS_EVNT} istio-injection=enabled"
   ]
  },
  {
   "cell_type": "code",
   "execution_count": null,
   "id": "e9a7b941",
   "metadata": {},
   "outputs": [],
   "source": [
    "%%bash\n",
    "kubectl apply --namespace ${NS_EVNT} -f https://gitlab.com/ch-mc-b/autoshop-ms/infra/kubernetes-templates/-/raw/main/3-2-0-deployment/catalog-deployment.yaml\n",
    "kubectl apply --namespace ${NS_EVNT} -f https://gitlab.com/ch-mc-b/autoshop-ms/infra/kubernetes-templates/-/raw/main/3-2-0-deployment/customer-deployment.yaml\n",
    "kubectl apply --namespace ${NS_EVNT} -f https://gitlab.com/ch-mc-b/autoshop-ms/infra/kubernetes-templates/-/raw/main/3-2-0-deployment/order-deployment.yaml\n",
    "kubectl apply --namespace ${NS_EVNT} -f https://gitlab.com/ch-mc-b/autoshop-ms/infra/kubernetes-templates/-/raw/main/3-2-0-deployment/webshop-deployment.yaml \n",
    "kubectl apply --namespace ${NS_EVNT} -f https://gitlab.com/ch-mc-b/autoshop-ms/infra/kubernetes-templates/-/raw/main/3-2-0-deployment/catalog-service.yaml\n",
    "kubectl apply --namespace ${NS_EVNT} -f https://gitlab.com/ch-mc-b/autoshop-ms/infra/kubernetes-templates/-/raw/main/3-2-0-deployment/customer-service.yaml\n",
    "kubectl apply --namespace ${NS_EVNT} -f https://gitlab.com/ch-mc-b/autoshop-ms/infra/kubernetes-templates/-/raw/main/3-2-0-deployment/order-service.yaml\n",
    "kubectl apply --namespace ${NS_EVNT} -f https://gitlab.com/ch-mc-b/autoshop-ms/infra/kubernetes-templates/-/raw/main/3-2-0-deployment/webshop-service.yaml\n",
    "kubectl get   --namespace ${NS_EVNT} pods,services"
   ]
  },
  {
   "cell_type": "code",
   "execution_count": null,
   "id": "ffb55aba",
   "metadata": {},
   "outputs": [],
   "source": [
    "! echo \"http://\"$(cat ~/work/server-ip)\":\"$(kubectl get service --namespace ${NS_EVNT} webshop -o=jsonpath='{ .spec.ports[0].nodePort }')/webshop"
   ]
  },
  {
   "cell_type": "markdown",
   "id": "2dcac05b",
   "metadata": {},
   "source": [
    "### Ereignisquelle\n",
    "\n",
    "Knative Eventing Sources sind Softwarekomponenten, die Ereignisse ausgeben. Die Aufgabe einer Quelle besteht darin, eine Verbindung zu Ereignissen herzustellen, diese abzuleiten, zu erfassen und ggf. zu puffern (häufig von einem externen System) und diese Ereignisse dann an den Sink weiterzuleiten .\n",
    "\n",
    "Knative Eventing Sources installiert die folgenden Quellen:"
   ]
  },
  {
   "cell_type": "code",
   "execution_count": null,
   "id": "03b39180",
   "metadata": {},
   "outputs": [],
   "source": [
    "! kubectl api-resources --api-group='sources.knative.dev'"
   ]
  },
  {
   "cell_type": "markdown",
   "id": "ec45d368",
   "metadata": {},
   "source": [
    "Sink(Empfänger)-Dienst bereitstellen"
   ]
  },
  {
   "cell_type": "code",
   "execution_count": null,
   "id": "133a7ef9",
   "metadata": {},
   "outputs": [],
   "source": [
    "%%bash\n",
    "kn service create eventinghello \\\n",
    "  --concurrency-target=1 \\\n",
    "  --port=8080\n",
    "  --image=quay.io/rhdevelopers/eventinghello:0.0.2"
   ]
  },
  {
   "cell_type": "markdown",
   "id": "2fdb7392",
   "metadata": {},
   "source": [
    "Ereignisquelle erstellen"
   ]
  },
  {
   "cell_type": "code",
   "execution_count": null,
   "id": "6a9e34b8",
   "metadata": {},
   "outputs": [],
   "source": [
    "%%bash\n",
    "kn source ping create eventinghello-ping-source \\\n",
    "  --schedule \"*/2 * * * *\" \\\n",
    "  --data '{\"message\": \"Thanks for doing Knative Tutorial\"}' \\\n",
    "  --sink ksvc:eventinghello"
   ]
  },
  {
   "cell_type": "markdown",
   "id": "4d8f39a8",
   "metadata": {},
   "source": []
  },
  {
   "cell_type": "code",
   "execution_count": null,
   "id": "ba9f070f",
   "metadata": {},
   "outputs": [],
   "source": [
    "! kn source ping list"
   ]
  },
  {
   "cell_type": "code",
   "execution_count": null,
   "id": "16b4977e",
   "metadata": {},
   "outputs": [],
   "source": [
    "! stern eventinghello -c user-container -n knativetutorial"
   ]
  },
  {
   "cell_type": "code",
   "execution_count": null,
   "id": "7b1dd8ce",
   "metadata": {},
   "outputs": [],
   "source": [
    "! kubectl logs deployment/eventinghello-00001-deployment"
   ]
  },
  {
   "cell_type": "markdown",
   "id": "b341c601",
   "metadata": {},
   "source": [
    "- - -\n",
    "Aufräumen"
   ]
  },
  {
   "cell_type": "code",
   "execution_count": null,
   "id": "1f113137",
   "metadata": {},
   "outputs": [],
   "source": [
    "%%bash\n",
    "kn source ping delete eventinghello-ping-source\n",
    "kn service delete eventinghello"
   ]
  },
  {
   "cell_type": "markdown",
   "id": "d0749542",
   "metadata": {},
   "source": [
    "**Sales** starten wie Serverless, weil dieser Microservice praktisch nie angesprochen wird."
   ]
  },
  {
   "cell_type": "code",
   "execution_count": null,
   "id": "cb5096d2",
   "metadata": {},
   "outputs": [],
   "source": [
    "%%bash\n",
    "kubectl patch configmap/config-domain --namespace knative-serving --type merge --patch '{\"data\":{\"dukmaster-10-default.mshome.net\":\"\"}}' \n",
    "kn service create sales  --image registry.gitlab.com/ch-mc-b/autoshop-ms/app/management/sales:3.2.0  --port 8080 --namespace ${NS_EVNT}"
   ]
  },
  {
   "cell_type": "markdown",
   "id": "1a46f315",
   "metadata": {},
   "source": [
    "Dann haben wir die klassischen Microservice wie **order**, **catalog** und **customer** welche als Standard Ressourcen (Pods, Services) in Kubernetes laufen und einen Serverless Microservice **sales**."
   ]
  },
  {
   "cell_type": "code",
   "execution_count": null,
   "id": "0aeb5607",
   "metadata": {},
   "outputs": [],
   "source": [
    "! kubectl get --namespace ${NS_EVNT} pods,services\n",
    "! kn service ls --namespace ${NS_EVNT} "
   ]
  },
  {
   "cell_type": "code",
   "execution_count": null,
   "id": "952de347",
   "metadata": {},
   "outputs": [],
   "source": [
    "%%bash\n",
    "PORT=$(kubectl get service --namespace kourier-system kourier -o=jsonpath='{ .spec.ports[0].nodePort }')\n",
    "curl -H \"Host: sales.${NS_EVNT}.dukmaster-10-default.mshome.net\" http://localhost:${PORT}/sales"
   ]
  },
  {
   "cell_type": "markdown",
   "id": "3271c374",
   "metadata": {},
   "source": [
    "Um die Services via Browser anzusprechen ist im Windows die Datei `C:\\Windows\\System32\\Drivers\\etc\\hosts` um folgende Einträge zu ergänzen."
   ]
  },
  {
   "cell_type": "code",
   "execution_count": null,
   "id": "8beea731",
   "metadata": {},
   "outputs": [],
   "source": [
    "%%bash\n",
    "PORT=$(kubectl get service --namespace kourier-system kourier -o=jsonpath='{ .spec.ports[0].nodePort }')\n",
    "echo $(cat ~/work/server-ip) shipment.${NS_EVNT}.dukmaster-10-default.mshome.net\n",
    "echo $(cat ~/work/server-ip) invoicing.${NS_EVNT}.dukmaster-10-default.mshome.net\n",
    "echo $(cat ~/work/server-ip) sales.${NS_EVNT}.dukmaster-10-default.mshome.net\n",
    "\n",
    "echo \"\"\n",
    "echo \"Browser URLs\"\n",
    "echo http://shipment.${NS_EVNT}.dukmaster-10-default.mshome.net:${PORT}/shipment\n",
    "echo http://invoicing.${NS_EVNT}.dukmaster-10-default.mshome.net:${PORT}/invoicing\n",
    "echo http://sales.${NS_EVNT}.dukmaster-10-default.mshome.net:${PORT}/sales\n"
   ]
  },
  {
   "cell_type": "markdown",
   "id": "a72679f7",
   "metadata": {},
   "source": [
    "Im Dashboard können wir das Verhalten beobachten. Nach einer gewissen Zeit werden die Pods **Shipment**, **Invoicing** und **Sales** beendet. Durch drücken von Refresh im Browser werden diese automatisch wieder gestartet."
   ]
  },
  {
   "cell_type": "code",
   "execution_count": null,
   "id": "737bece3",
   "metadata": {},
   "outputs": [],
   "source": [
    "! echo \"https://\"$(cat ~/work/server-ip)\":30443\""
   ]
  },
  {
   "cell_type": "markdown",
   "id": "79d0b734",
   "metadata": {},
   "source": [
    "---\n",
    "## Kiali — Observability\n",
    "\n",
    "\n",
    "Kiali vom, Projekt Istio, hilft die Struktur (= Service Mesh) der Applikation und deren Microservices und Schnittstellen zu verstehen.\n",
    "\n",
    "\n",
    "In der Oberfläche wechselt rechts auf \"Graph\" und wählt als Namespace **ms-faas** aus.\n",
    "\n",
    "Mittels Aktivierung der Option \"Traffic Animation\" im Pulldown \"Display\" wird die Kommunkation sichtbar"
   ]
  },
  {
   "cell_type": "code",
   "execution_count": null,
   "id": "321a5e2a",
   "metadata": {},
   "outputs": [],
   "source": [
    "! kubectl get service -n istio-system -l app=kiali  -o yaml | sed 's/ClusterIP/NodePort/g' | kubectl apply -f -\n",
    "! echo \"Kiali   UI: http://\"$(cat ~/work/server-ip)\":\"$(kubectl get -n istio-system service -l app=kiali -o=jsonpath='{ .items[0].spec.ports[0].nodePort }')"
   ]
  },
  {
   "cell_type": "markdown",
   "id": "fb34fb19",
   "metadata": {},
   "source": [
    "## Lasttest\n",
    "\n",
    "Um die Verbindungen sichtbar zu machen, erzeugen wir ein wenig Traffic.\n",
    "\n",
    "Dazu verwenden wir [hey](https://github.com/rakyll/hey) welche gleichzeitige parallele Request unterstützt."
   ]
  },
  {
   "cell_type": "code",
   "execution_count": null,
   "id": "fe739a74",
   "metadata": {},
   "outputs": [],
   "source": [
    "%%bash\n",
    "PORT=$(kubectl get service --namespace kourier-system kourier -o=jsonpath='{ .spec.ports[0].nodePort }')\n",
    "hey -n 10000 -c 10 -H \"Host: sales.${NS_EVNT}.dukmaster-10-default.mshome.net\" http://localhost:${PORT}/sales"
   ]
  },
  {
   "cell_type": "markdown",
   "id": "67f12541",
   "metadata": {},
   "source": [
    "- - -\n",
    "\n",
    "Aufräumen\n"
   ]
  },
  {
   "cell_type": "code",
   "execution_count": null,
   "id": "2d7419ae",
   "metadata": {},
   "outputs": [],
   "source": [
    "! # kubectl delete pod --all --namespace ${NS-FAAS} --grace-period=0 --force\n",
    "! kn service delete shipment  --namespace ${NS_EVNT}\n",
    "! kn service delete invoicing --namespace ${NS_EVNT}\n",
    "! kn service delete sales --namespace ${NS_EVNT}\n",
    "! kubectl delete namespace ${NS_EVNT}"
   ]
  },
  {
   "cell_type": "code",
   "execution_count": null,
   "id": "14b27223",
   "metadata": {},
   "outputs": [],
   "source": [
    "! kn service delete sales --namespace ${NS_EVNT}"
   ]
  },
  {
   "cell_type": "code",
   "execution_count": null,
   "id": "7a3b2d01",
   "metadata": {},
   "outputs": [],
   "source": []
  }
 ],
 "metadata": {
  "kernelspec": {
   "display_name": "Python 3 (ipykernel)",
   "language": "python",
   "name": "python3"
  },
  "language_info": {
   "codemirror_mode": {
    "name": "ipython",
    "version": 3
   },
   "file_extension": ".py",
   "mimetype": "text/x-python",
   "name": "python",
   "nbconvert_exporter": "python",
   "pygments_lexer": "ipython3",
   "version": "3.12.3"
  }
 },
 "nbformat": 4,
 "nbformat_minor": 5
}
