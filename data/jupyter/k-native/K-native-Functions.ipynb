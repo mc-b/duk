{
 "cells": [
  {
   "cell_type": "markdown",
   "id": "554581ce",
   "metadata": {},
   "source": [
    "Übung: K-native Functions\n",
    "-------------------------\n",
    "\n",
    "K-native ermöglicht das Entwickeln und Ausführen serverloser Anwendungen auf Kubernetes-Clustern. \n",
    "\n",
    "Sie bieten Entwicklern eine einheitliche und benutzerfreundliche Plattform für das Erstellen von Funktionen, die in Cloud-native Umgebungen nahtlos skaliert und verwaltet werden können. \n",
    "\n",
    "Knative Functions kombiniert die Flexibilität und Leistungsfähigkeit von Kubernetes mit der Effizienz und Einfachheit serverloser Architekturen, was es Entwicklern ermöglicht, sich stärker auf die Geschäftslogik und weniger auf die Infrastruktur zu konzentrieren.\n",
    "\n",
    "- - -\n",
    "\n",
    "Zuerst verschaffen wir uns eine Übersicht, welche Programmiersprachen und Templates vorhanden sind:"
   ]
  },
  {
   "cell_type": "code",
   "execution_count": null,
   "id": "ea1b5cb9",
   "metadata": {},
   "outputs": [],
   "source": [
    "! kn func create --help"
   ]
  },
  {
   "cell_type": "markdown",
   "id": "512b171c",
   "metadata": {},
   "source": [
    "Um uns dann für Python und eine Function welche eine HTML Seite zur Verfügung stellt, zu entscheiden:"
   ]
  },
  {
   "cell_type": "code",
   "execution_count": null,
   "id": "b1398652",
   "metadata": {},
   "outputs": [],
   "source": [
    "! kn func create -l python -t flask func-flask"
   ]
  },
  {
   "cell_type": "code",
   "execution_count": null,
   "id": "0fcc29f4",
   "metadata": {},
   "outputs": [],
   "source": [
    "! ls -l func-flask"
   ]
  },
  {
   "cell_type": "code",
   "execution_count": null,
   "id": "e5b0fa8c",
   "metadata": {},
   "outputs": [],
   "source": [
    "! cat func-flask/func.py"
   ]
  },
  {
   "cell_type": "code",
   "execution_count": null,
   "id": "c5966a59",
   "metadata": {},
   "outputs": [],
   "source": [
    "! kn func build -r docker.io/misegr --path test"
   ]
  },
  {
   "cell_type": "code",
   "execution_count": null,
   "id": "b6d937c2",
   "metadata": {},
   "outputs": [],
   "source": [
    "! docker image ls"
   ]
  }
 ],
 "metadata": {
  "kernelspec": {
   "display_name": "Python 3 (ipykernel)",
   "language": "python",
   "name": "python3"
  },
  "language_info": {
   "codemirror_mode": {
    "name": "ipython",
    "version": 3
   },
   "file_extension": ".py",
   "mimetype": "text/x-python",
   "name": "python",
   "nbconvert_exporter": "python",
   "pygments_lexer": "ipython3",
   "version": "3.12.3"
  }
 },
 "nbformat": 4,
 "nbformat_minor": 5
}
