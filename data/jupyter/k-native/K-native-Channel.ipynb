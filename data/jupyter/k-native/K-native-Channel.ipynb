{
 "cells": [
  {
   "cell_type": "markdown",
   "id": "b774f43f",
   "metadata": {},
   "source": [
    "Übung: Kanal und Abonnenten mit K-native\n",
    "-----------------------------\n",
    "\n",
    "**Kanäle**\n",
    "* Kanäle sind eine Ereignisweiterleitungs- und Persistenzschicht, wobei jeder Kanal eine separate benutzerdefinierte Kubernetes-Ressource ist. Ein Kanal kann von Apache Kafka oder InMemoryChannel unterstützt werden. Diese Übung verwendet InMemoryChannel.\n",
    "\n",
    "**Abonnements**\n",
    "* Mit Abonnements registrieren Sie Ihren Dienst, um einen bestimmten Kanal zu hören.\n",
    "\n",
    "- - -\n",
    "\n",
    "Zuerst erstellen wir den Kubernetes Namespace\n",
    "\n"
   ]
  },
  {
   "cell_type": "code",
   "execution_count": null,
   "id": "f14f856b",
   "metadata": {},
   "outputs": [],
   "source": [
    "import os\n",
    "os.environ['NS_CHNL']='ms-chnl'\n",
    "! kubectl create namespace ${NS_CHNL}\n",
    "! # kubectl label  namespace ${NS_CHNL} istio-injection=enabled"
   ]
  },
  {
   "cell_type": "code",
   "execution_count": null,
   "id": "e9a7b941",
   "metadata": {
    "scrolled": true
   },
   "outputs": [],
   "source": [
    "%%bash\n",
    "kubectl apply --namespace ${NS_CHNL} -f https://gitlab.com/ch-mc-b/autoshop-ms/infra/kubernetes-templates/-/raw/main/3-2-0-deployment/catalog-deployment.yaml\n",
    "kubectl apply --namespace ${NS_CHNL} -f https://gitlab.com/ch-mc-b/autoshop-ms/infra/kubernetes-templates/-/raw/main/3-2-0-deployment/customer-deployment.yaml\n",
    "kubectl apply --namespace ${NS_CHNL} -f https://gitlab.com/ch-mc-b/autoshop-ms/infra/kubernetes-templates/-/raw/main/3-2-0-deployment/order-deployment.yaml\n",
    "kubectl apply --namespace ${NS_CHNL} -f https://gitlab.com/ch-mc-b/autoshop-ms/infra/kubernetes-templates/-/raw/main/3-2-0-deployment/webshop-deployment.yaml \n",
    "kubectl apply --namespace ${NS_CHNL} -f https://gitlab.com/ch-mc-b/autoshop-ms/infra/kubernetes-templates/-/raw/main/3-2-0-deployment/catalog-service.yaml\n",
    "kubectl apply --namespace ${NS_CHNL} -f https://gitlab.com/ch-mc-b/autoshop-ms/infra/kubernetes-templates/-/raw/main/3-2-0-deployment/customer-service.yaml\n",
    "kubectl apply --namespace ${NS_CHNL} -f https://gitlab.com/ch-mc-b/autoshop-ms/infra/kubernetes-templates/-/raw/main/3-2-0-deployment/order-service.yaml\n",
    "kubectl apply --namespace ${NS_CHNL} -f https://gitlab.com/ch-mc-b/autoshop-ms/infra/kubernetes-templates/-/raw/main/3-2-0-deployment/webshop-service.yaml\n",
    "kubectl get   --namespace ${NS_CHNL} pods,services"
   ]
  },
  {
   "cell_type": "code",
   "execution_count": null,
   "id": "ffb55aba",
   "metadata": {},
   "outputs": [],
   "source": [
    "! echo \"http://\"$(cat ~/work/server-ip)\":\"$(kubectl get service --namespace ${NS_CHNL} webshop -o=jsonpath='{ .spec.ports[0].nodePort }')/webshop"
   ]
  },
  {
   "cell_type": "markdown",
   "id": "28e0b68d",
   "metadata": {},
   "source": [
    "**Sales** starten wir im Serverless Modus und **Shipment** und **Invoicing** mit genau einer Instanz."
   ]
  },
  {
   "cell_type": "code",
   "execution_count": null,
   "id": "696c6fc5",
   "metadata": {},
   "outputs": [],
   "source": [
    "%%bash\n",
    "kubectl patch configmap/config-domain --namespace knative-serving --type merge --patch '{\"data\":{\"dukmaster-10-default.mshome.net\":\"\"}}' \n",
    "#kn service create invoicing --scale 1 --image registry.gitlab.com/ch-mc-b/autoshop-ms/app/backoffice/invoicing:4.0.0 --port 8080 --namespace ${NS_CHNL}\n",
    "#kn service create shipment  --scale 1 --image registry.gitlab.com/ch-mc-b/autoshop-ms/app/backoffice/shipment:4.0.0  --port 8080 --namespace ${NS_CHNL}\n",
    "kn service create invoicing --scale 1 --image registry.gitlab.com/ch-mc-b/autoshop-ms/infra/kubernetes-templates/cloudevents --port 8080 --namespace ${NS_CHNL}\n",
    "kn service create shipment  --scale 1 --image registry.gitlab.com/ch-mc-b/autoshop-ms/infra/kubernetes-templates/cloudevents --namespace ${NS_CHNL}\n",
    "\n",
    "kn service create sales               --image registry.gitlab.com/ch-mc-b/autoshop-ms/app/management/sales:3.2.0  --port 8080 --namespace ${NS_CHNL}"
   ]
  },
  {
   "cell_type": "markdown",
   "id": "4f4d94e5",
   "metadata": {},
   "source": [
    "Um die Services via Browser anzusprechen ist im Windows die Datei `C:\\Windows\\System32\\Drivers\\etc\\hosts` um folgende Einträge zu ergänzen."
   ]
  },
  {
   "cell_type": "code",
   "execution_count": null,
   "id": "fe1832e9",
   "metadata": {
    "scrolled": true
   },
   "outputs": [],
   "source": [
    "%%bash\n",
    "PORT=$(kubectl get service --namespace kourier-system kourier -o=jsonpath='{ .spec.ports[0].nodePort }')\n",
    "echo $(cat ~/work/server-ip) shipment.${NS_CHNL}.dukmaster-10-default.mshome.net\n",
    "echo $(cat ~/work/server-ip) invoicing.${NS_CHNL}.dukmaster-10-default.mshome.net\n",
    "echo $(cat ~/work/server-ip) sales.${NS_CHNL}.dukmaster-10-default.mshome.net\n",
    "\n",
    "echo \"\"\n",
    "echo \"Browser URLs\"\n",
    "# echo http://shipment.${NS_CHNL}.dukmaster-10-default.mshome.net:${PORT}/shipment\n",
    "# echo http://invoicing.${NS_CHNL}.dukmaster-10-default.mshome.net:${PORT}/invoicing\n",
    "echo http://shipment.${NS_CHNL}.dukmaster-10-default.mshome.net:${PORT}/\n",
    "echo http://invoicing.${NS_CHNL}.dukmaster-10-default.mshome.net:${PORT}/\n",
    "\n",
    "echo http://sales.${NS_CHNL}.dukmaster-10-default.mshome.net:${PORT}/sales"
   ]
  },
  {
   "cell_type": "markdown",
   "id": "f7293d7a",
   "metadata": {},
   "source": [
    "### Kanal (Senke)\n",
    "\n",
    "Der Kanal oder die Senke ist eine Schnittstelle zwischen der Ereignisquelle und dem Abonnenten . \n",
    "\n",
    "Die Kanäle verarbeiten die eingehenden Ereignisse und verteilen die Ereignisdaten an die Abonnenten (Microservices).\n",
    "\n",
    "Beim Weiterleiten von Ereignissen an Abonnenten transformiert der Kanal die Ereignisdaten gemäss der [CloudEvent- Spezifikation](http://cloudevents.io/).\n",
    "\n",
    "- - -\n",
    "\n",
    "Um die Microservices mit den Serverless Microservices **Shipment** und **Invoicing** zu verbinden, brauchen wir zuerst einen Channel und dann die entsprechenden Verbindungen vom Channel zu den Microservices."
   ]
  },
  {
   "cell_type": "code",
   "execution_count": null,
   "id": "c3665782",
   "metadata": {},
   "outputs": [],
   "source": [
    "! kn channel create orders --namespace ${NS_CHNL}"
   ]
  },
  {
   "cell_type": "markdown",
   "id": "05761550",
   "metadata": {},
   "source": [
    "### Ereignisabonnent\n",
    "\n",
    "Das Ereignisabonnement  ist für die Verbindung des Kanals (Senke) mit dem Microservice (**Shipment** und **Invoicing**) verantwortlich. Sobald ein Microservice mit einem Kanal verbunden ist, beginnt er, die Ereignisse (Cloud-Ereignisse) zu empfangen."
   ]
  },
  {
   "cell_type": "code",
   "execution_count": null,
   "id": "d7e4e14f",
   "metadata": {},
   "outputs": [],
   "source": [
    "! kn channel list --namespace ${NS_CHNL}\n",
    "! echo \"\"\n",
    "! kn route list --namespace ${NS_CHNL}"
   ]
  },
  {
   "cell_type": "code",
   "execution_count": null,
   "id": "3304df41",
   "metadata": {},
   "outputs": [],
   "source": [
    "%%bash\n",
    "kn subscription create shipment-sub  --channel orders --sink shipment  --namespace ${NS_CHNL}\n",
    "kn subscription create invoicing-sub --channel orders --sink invoicing --namespace ${NS_CHNL}"
   ]
  },
  {
   "cell_type": "markdown",
   "id": "86b388a3",
   "metadata": {},
   "source": [
    "### Gesamtübersicht\n",
    "\n",
    "Die Subscriptions horchen auf den Channel `order` und leiten die Events weiter an die Microservices (**Shipment** und **Invoicing**) ."
   ]
  },
  {
   "cell_type": "code",
   "execution_count": null,
   "id": "a6f2ec19",
   "metadata": {},
   "outputs": [],
   "source": [
    "%%bash\n",
    "kn subscription list --namespace ${NS_CHNL}\n",
    "echo \"\"\n",
    "kn channel list --namespace ${NS_CHNL}\n",
    "echo \"\"\n",
    "kn service list --namespace ${NS_CHNL}"
   ]
  },
  {
   "cell_type": "markdown",
   "id": "46b331fe",
   "metadata": {},
   "source": [
    "Nun müssen wir **Shipment** und **Invoicing** umbauen, damit sie REST POST Events empfangen können"
   ]
  },
  {
   "cell_type": "code",
   "execution_count": null,
   "id": "d648f3c1",
   "metadata": {},
   "outputs": [],
   "source": [
    "%%bash\n",
    "kn source ping create orders-ping-source \\\n",
    "  --schedule '*/30 * * * * *' \\\n",
    "  --data '{\"message\": \"Hello order\"}' \\\n",
    "  --sink channel:orders \\\n",
    "  --namespace ${NS_CHNL} \n",
    "  "
   ]
  },
  {
   "cell_type": "code",
   "execution_count": null,
   "id": "45216f1b",
   "metadata": {},
   "outputs": [],
   "source": [
    "! kn source list --namespace ${NS_CHNL} "
   ]
  },
  {
   "cell_type": "code",
   "execution_count": null,
   "id": "ef9f100c",
   "metadata": {},
   "outputs": [],
   "source": []
  },
  {
   "cell_type": "code",
   "execution_count": null,
   "id": "f1bee096",
   "metadata": {},
   "outputs": [],
   "source": []
  },
  {
   "cell_type": "code",
   "execution_count": null,
   "id": "5682faa0",
   "metadata": {},
   "outputs": [],
   "source": []
  },
  {
   "cell_type": "code",
   "execution_count": null,
   "id": "913a3151",
   "metadata": {},
   "outputs": [],
   "source": [
    "%%bash\n",
    "PORT=$(kubectl get service --namespace kourier-system kourier -o=jsonpath='{ .spec.ports[0].nodePort }')\n",
    "curl -X POST -H \"Host: orders-kn-channel.ms-chnl.svc.cluster.local\" http://localhost:${PORT} \\\n",
    "-H \"Content-Type: application/json\" -H \"ce-id: orders\" -d '{\"message\": \"Hallo via POST local!\"}'"
   ]
  },
  {
   "cell_type": "code",
   "execution_count": null,
   "id": "ae947e28",
   "metadata": {},
   "outputs": [],
   "source": []
  },
  {
   "cell_type": "code",
   "execution_count": null,
   "id": "c35e1df2",
   "metadata": {},
   "outputs": [],
   "source": [
    "%%bash\n",
    "PORT=$(kubectl get service --namespace kourier-system kourier -o=jsonpath='{ .spec.ports[0].nodePort }')\n",
    "curl -X POST -H \"Host: orders-kn-channel.ms-chnl.dukmaster-10-default.mshome.net\" -H \"Content-Type: application/json\" \\\n",
    "-H \"ce-id: orders\" -d '{\"message\": \"Hallo, via POST dukmaster!\"}' http://localhost:${PORT}    \n",
    "    "
   ]
  },
  {
   "cell_type": "code",
   "execution_count": null,
   "id": "f8efcdcf",
   "metadata": {},
   "outputs": [],
   "source": [
    "%%bash\n",
    "PORT=$(kubectl get service --namespace kourier-system kourier -o=jsonpath='{ .spec.ports[0].nodePort }')\n",
    "curl -X POST -H \"Host: imc-dispatcher.knative-eventing.svc.cluster.local\" -H \"Content-Type: application/json\" \\\n",
    "-H \"ce-id: orders\" -d '{\"message\": \"Hallo, via POST imc dukmaster!\"}' http://localhost:${PORT}    "
   ]
  },
  {
   "cell_type": "code",
   "execution_count": null,
   "id": "6c68005b",
   "metadata": {},
   "outputs": [],
   "source": [
    "! stern invoicing -c user-container --namespace ${NS_CHNL} --tail 200 "
   ]
  },
  {
   "cell_type": "code",
   "execution_count": null,
   "id": "55cbf62a",
   "metadata": {},
   "outputs": [],
   "source": []
  },
  {
   "cell_type": "code",
   "execution_count": null,
   "id": "6febb2be",
   "metadata": {},
   "outputs": [],
   "source": []
  },
  {
   "cell_type": "code",
   "execution_count": null,
   "id": "7578e3df",
   "metadata": {},
   "outputs": [],
   "source": []
  },
  {
   "cell_type": "code",
   "execution_count": null,
   "id": "db4fdc2e",
   "metadata": {},
   "outputs": [],
   "source": []
  },
  {
   "cell_type": "markdown",
   "id": "551a0543",
   "metadata": {},
   "source": [
    "- - -\n",
    "### Dashboard\n",
    "\n",
    "Jetzt ist ein guter Zeitpunkt um das Kubernetes Dashboard zu starten und dort im Pulldownmenu den Namespace \"ms-chnl\" auszuwählen.\n",
    "\n",
    "Wählt nachfolgenden Link an und aktzeptiert das Zertifikat um dann ohne Token, drückt \"Überspringen\" oder \"Skip\", ins Dashboard zu wechseln."
   ]
  },
  {
   "cell_type": "code",
   "execution_count": null,
   "id": "737bece3",
   "metadata": {},
   "outputs": [],
   "source": [
    "! echo \"https://\"$(cat ~/work/server-ip)\":18443\""
   ]
  },
  {
   "cell_type": "markdown",
   "id": "79d0b734",
   "metadata": {},
   "source": [
    "---\n",
    "## Kiali — Observability\n",
    "\n",
    "\n",
    "Kiali vom, Projekt Istio, hilft die Struktur (= Service Mesh) der Applikation und deren Microservices und Schnittstellen zu verstehen.\n",
    "\n",
    "\n",
    "In der Oberfläche wechselt rechts auf \"Graph\" und wählt als Namespace **ms-faas** aus.\n",
    "\n",
    "Mittels Aktivierung der Option \"Traffic Animation\" im Pulldown \"Display\" wird die Kommunkation sichtbar"
   ]
  },
  {
   "cell_type": "code",
   "execution_count": null,
   "id": "321a5e2a",
   "metadata": {},
   "outputs": [],
   "source": [
    "! kubectl get service -n istio-system -l app=kiali  -o yaml | sed 's/ClusterIP/NodePort/g' | kubectl apply -f -\n",
    "! echo \"Kiali   UI: http://\"$(cat ~/work/server-ip)\":\"$(kubectl get -n istio-system service -l app=kiali -o=jsonpath='{ .items[0].spec.ports[0].nodePort }')"
   ]
  },
  {
   "cell_type": "markdown",
   "id": "fb34fb19",
   "metadata": {},
   "source": [
    "## Lasttest\n",
    "\n",
    "Um die Verbindungen sichtbar zu machen, erzeugen wir ein wenig Traffic.\n",
    "\n",
    "Dazu verwenden wir [hey](https://github.com/rakyll/hey) welche gleichzeitige parallele Request unterstützt."
   ]
  },
  {
   "cell_type": "code",
   "execution_count": null,
   "id": "fe739a74",
   "metadata": {},
   "outputs": [],
   "source": [
    "%%bash\n",
    "PORT=$(kubectl get service --namespace kourier-system kourier -o=jsonpath='{ .spec.ports[0].nodePort }')\n",
    "hey -n 10000 -c 10 -H \"Host: sales.${NS_CHNL}.dukmaster-10-default.mshome.net\" http://localhost:${PORT}/sales"
   ]
  },
  {
   "cell_type": "markdown",
   "id": "67f12541",
   "metadata": {},
   "source": [
    "- - -\n",
    "\n",
    "Aufräumen\n"
   ]
  },
  {
   "cell_type": "code",
   "execution_count": null,
   "id": "2d7419ae",
   "metadata": {},
   "outputs": [],
   "source": [
    "! # kubectl delete pod --all --namespace ${NS_CHNL} --grace-period=0 --force\n",
    "! kn service delete shipment  --namespace ${NS_CHNL}\n",
    "! kn service delete invoicing --namespace ${NS_CHNL}\n",
    "! kn service delete sales --namespace ${NS_CHNL}\n",
    "! kubectl delete namespace ${NS_CHNL}"
   ]
  },
  {
   "cell_type": "code",
   "execution_count": null,
   "id": "7a3b2d01",
   "metadata": {},
   "outputs": [],
   "source": []
  },
  {
   "cell_type": "code",
   "execution_count": null,
   "id": "0b7b7ae4",
   "metadata": {},
   "outputs": [],
   "source": [
    "%%bash\n",
    "kn source ping create shipment-ping-source \\\n",
    "  --schedule '*/2 * * * *' \\\n",
    "  --data '{\"message\": \"Hello shipment\"}' \\\n",
    "  --sink ksvc:shipment \\\n",
    "  --namespace ${NS_CHNL}  "
   ]
  },
  {
   "cell_type": "code",
   "execution_count": null,
   "id": "a081f321",
   "metadata": {},
   "outputs": [],
   "source": [
    "%%bash\n",
    "kn source ping create invoicing-ping-source \\\n",
    "  --schedule \"*/2 * * * *\" \\\n",
    "  --data '{\"message\": \"Hello invoicing\"}' \\\n",
    "  --sink ksvc:invoicing \\\n",
    "  --namespace ${NS_CHNL}  \n",
    "  "
   ]
  }
 ],
 "metadata": {
  "kernelspec": {
   "display_name": "Python 3 (ipykernel)",
   "language": "python",
   "name": "python3"
  },
  "language_info": {
   "codemirror_mode": {
    "name": "ipython",
    "version": 3
   },
   "file_extension": ".py",
   "mimetype": "text/x-python",
   "name": "python",
   "nbconvert_exporter": "python",
   "pygments_lexer": "ipython3",
   "version": "3.12.3"
  }
 },
 "nbformat": 4,
 "nbformat_minor": 5
}
