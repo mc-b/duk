{
 "cells": [
  {
   "cell_type": "markdown",
   "id": "b774f43f",
   "metadata": {},
   "source": [
    "Übung: Broker und Filter mit K-native\n",
    "-----------------------------\n",
    "\n",
    "![](https://user-images.githubusercontent.com/16281246/116248768-1fe56080-a73a-11eb-9a85-8bdccb82d16c.png)\n",
    "\n",
    "Quelle: K-native\n",
    "\n",
    "- - - \n",
    "\n",
    "**Broker**\n",
    "Ein Broker in Knative ist eine zentrale Komponente, die als Verteiler von Ereignissen (Events) fungiert. Er empfängt Ereignisse von verschiedenen Quellen und sorgt dafür, dass diese an die richtigen Abonnenten weitergeleitet werden. Ein Broker besteht aus zwei Hauptteilen:\n",
    "\n",
    "* Ingress: Hier kommen die Ereignisse an.\n",
    "* Channel: Ein internes Kommunikationssystem, das die Ereignisse an die Abonnenten weiterleitet.\n",
    "\n",
    "**Filter (Trigger)**\n",
    "Ein Filter, auch Trigger genannt, definiert eine Regel, die bestimmt, welche Ereignisse an eine bestimmte Knative-Services oder Endpunkte gesendet werden. Triggers filtern die Ereignisse basierend auf bestimmten Kriterien, wie z.B. dem Ereignistyp oder anderen Attributen, und leiten sie dann an den entsprechenden Empfänger weiter.\n",
    "\n",
    "**Zusammenspiel von Broker und Trigger**\n",
    "* Ereignisaufnahme (Source): Der Broker empfängt Ereignisse von verschiedenen Quellen.\n",
    "* Verteilung (Broker): Der Broker verteilt die Ereignisse an die entsprechenden Triggers.\n",
    "* Filterung (Trigger): Triggers filtern die Ereignisse gemäß den definierten Regeln.\n",
    "* Zustellung (Sink): Gefilterte Ereignisse werden an die entsprechenden Services oder Endpunkte zugestellt.\n",
    "\n",
    "Durch diese Architektur ermöglicht Knative eine lose Kopplung von Ereignisquellen und -empfängern, was die Skalierbarkeit und Flexibilität von serverlosen Anwendungen erhöht.\n",
    "\n",
    "- - -\n",
    "\n",
    "Zuerst erstellen wir den Kubernetes Namespace\n",
    "\n"
   ]
  },
  {
   "cell_type": "code",
   "execution_count": null,
   "id": "f14f856b",
   "metadata": {},
   "outputs": [],
   "source": [
    "import os\n",
    "os.environ['NS_BRKR']='ms-brkr'\n",
    "! kubectl create namespace ${NS_BRKR}\n",
    "! # kubectl label  namespace ${NS_BRKR} istio-injection=enabled"
   ]
  },
  {
   "cell_type": "markdown",
   "id": "551a0543",
   "metadata": {},
   "source": [
    "### Dashboard\n",
    "\n",
    "Jetzt ist ein guter Zeitpunkt um das Kubernetes Dashboard zu starten und dort im Pulldownmenu den Namespace \"ms-brkr\" auszuwählen.\n",
    "\n",
    "Wählt nachfolgenden Link an und aktzeptiert das Zertifikat um dann ohne Token, drückt \"Überspringen\" oder \"Skip\", ins Dashboard zu wechseln."
   ]
  },
  {
   "cell_type": "code",
   "execution_count": null,
   "id": "737bece3",
   "metadata": {},
   "outputs": [],
   "source": [
    "! echo \"https://\"$(cat ~/work/server-ip)\":8443\""
   ]
  },
  {
   "cell_type": "markdown",
   "id": "8459f2e4",
   "metadata": {},
   "source": [
    "Anschliessend folgen die Standard Microservices"
   ]
  },
  {
   "cell_type": "code",
   "execution_count": null,
   "id": "e9a7b941",
   "metadata": {
    "scrolled": true
   },
   "outputs": [],
   "source": [
    "%%bash\n",
    "kubectl apply --namespace ${NS_BRKR} -f https://gitlab.com/ch-mc-b/autoshop-ms/infra/kubernetes-templates/-/raw/main/3-2-0-deployment/catalog-deployment.yaml\n",
    "kubectl apply --namespace ${NS_BRKR} -f https://gitlab.com/ch-mc-b/autoshop-ms/infra/kubernetes-templates/-/raw/main/3-2-0-deployment/customer-deployment.yaml\n",
    "kubectl apply --namespace ${NS_BRKR} -f https://gitlab.com/ch-mc-b/autoshop-ms/infra/kubernetes-templates/-/raw/main/3-2-0-deployment/order-deployment.yaml\n",
    "kubectl apply --namespace ${NS_BRKR} -f https://gitlab.com/ch-mc-b/autoshop-ms/infra/kubernetes-templates/-/raw/main/3-2-0-deployment/webshop-deployment.yaml \n",
    "kubectl apply --namespace ${NS_BRKR} -f https://gitlab.com/ch-mc-b/autoshop-ms/infra/kubernetes-templates/-/raw/main/3-2-0-deployment/catalog-service.yaml\n",
    "kubectl apply --namespace ${NS_BRKR} -f https://gitlab.com/ch-mc-b/autoshop-ms/infra/kubernetes-templates/-/raw/main/3-2-0-deployment/customer-service.yaml\n",
    "kubectl apply --namespace ${NS_BRKR} -f https://gitlab.com/ch-mc-b/autoshop-ms/infra/kubernetes-templates/-/raw/main/3-2-0-deployment/order-service.yaml\n",
    "kubectl apply --namespace ${NS_BRKR} -f https://gitlab.com/ch-mc-b/autoshop-ms/infra/kubernetes-templates/-/raw/main/3-2-0-deployment/webshop-service.yaml"
   ]
  },
  {
   "cell_type": "code",
   "execution_count": null,
   "id": "ffb55aba",
   "metadata": {},
   "outputs": [],
   "source": [
    "! echo \"http://\"$(cat ~/work/server-ip)\":\"$(kubectl get service --namespace ${NS_BRKR} webshop -o=jsonpath='{ .spec.ports[0].nodePort }')/webshop"
   ]
  },
  {
   "cell_type": "markdown",
   "id": "28e0b68d",
   "metadata": {},
   "source": [
    "**Shipment** und **Invoicing** starten wir mit genau einer Instanz.\n",
    "\n",
    "**Sales** wird für diese Übung nicht benötigt und kann auch nicht angewählt werden."
   ]
  },
  {
   "cell_type": "code",
   "execution_count": null,
   "id": "696c6fc5",
   "metadata": {},
   "outputs": [],
   "source": [
    "%%bash\n",
    "kn service create kn-invoicing --scale 1 --image registry.gitlab.com/ch-mc-b/autoshop-ms/app/backoffice/invoicing:4.0.0 --port 8080 --namespace ${NS_BRKR}\n",
    "kn service create kn-shipment  --scale 1 --image registry.gitlab.com/ch-mc-b/autoshop-ms/app/backoffice/shipment:4.0.0  --port 8080 --namespace ${NS_BRKR}"
   ]
  },
  {
   "cell_type": "markdown",
   "id": "20257ed0",
   "metadata": {},
   "source": [
    "- - - \n",
    "\n",
    "### Hack\n",
    "\n",
    "Wir erstellen pro K-native Service eine Kubernetes Service Object.\n",
    "\n",
    "Dann sind die Microservices über das Menu ansprechbar."
   ]
  },
  {
   "cell_type": "code",
   "execution_count": null,
   "id": "0b3dd50e",
   "metadata": {},
   "outputs": [],
   "source": [
    "%%bash\n",
    "cat <<EOF | kubectl apply --namespace ${NS_BRKR} -f - \n",
    "apiVersion: v1\n",
    "kind: Service\n",
    "metadata:\n",
    "  name: shipment\n",
    "spec:\n",
    "  selector:\n",
    "    serving.knative.dev/service: kn-shipment\n",
    "  ports:\n",
    "  - port: 8080\n",
    "    protocol: TCP\n",
    "    targetPort: 8080    \n",
    "---\n",
    "apiVersion: v1\n",
    "kind: Service\n",
    "metadata:\n",
    "  name: invoicing\n",
    "spec:\n",
    "  selector:\n",
    "    serving.knative.dev/service: kn-invoicing\n",
    "  ports:\n",
    "  - port: 8080\n",
    "    protocol: TCP\n",
    "    targetPort: 8080     \n",
    "---      \n",
    "apiVersion: v1\n",
    "kind: Service\n",
    "metadata:\n",
    "  name: sales\n",
    "spec:\n",
    "  selector:\n",
    "    serving.knative.dev/service: kn-sales\n",
    "  ports:\n",
    "  - port: 8080\n",
    "    protocol: TCP\n",
    "    targetPort: 8080     \n",
    "EOF"
   ]
  },
  {
   "cell_type": "markdown",
   "id": "366d5d16",
   "metadata": {},
   "source": [
    "- - -\n",
    "### Broker\n",
    "\n",
    "Für die Kommunkation erstellen wir einen Default Broker und stellen sicher, dass der Brocker (Ingress) mittels Port von aussen erreichbar ist."
   ]
  },
  {
   "cell_type": "code",
   "execution_count": null,
   "id": "0a17382e",
   "metadata": {},
   "outputs": [],
   "source": [
    "! kn broker create default --namespace ${NS_BRKR}\n",
    "! kubectl patch service broker-ingress -n knative-eventing -p '{\"spec\": {\"type\": \"LoadBalancer\"}}'\n",
    "! kubectl patch service broker-ingress -n knative-eventing --type='json' -p '[{\"op\":\"replace\",\"path\":\"/spec/ports/0/nodePort\",\"value\":30080}]'"
   ]
  },
  {
   "cell_type": "markdown",
   "id": "08f5b950",
   "metadata": {},
   "source": [
    "- - -\n",
    "### Trigger\n",
    "\n",
    "Und drei Trigger welche gezielt die Nachrichten mit `type`: `shipment`, `invoicing` und `order` behandeln.\n",
    "\n",
    "`order` wird an beide Microservices gesendent die anderen nur an die entsprechenden Namensvetter."
   ]
  },
  {
   "cell_type": "code",
   "execution_count": null,
   "id": "49297a20",
   "metadata": {},
   "outputs": [],
   "source": [
    "%%bash\n",
    "cat <<EOF | kubectl apply --namespace ${NS_BRKR} -f -\n",
    "apiVersion: eventing.knative.dev/v1\n",
    "kind: Trigger\n",
    "metadata:\n",
    "  name: invoicing\n",
    "spec:\n",
    "  broker: default\n",
    "  filter:\n",
    "    attributes:\n",
    "      type: invoicing \n",
    "  subscriber:\n",
    "    ref:\n",
    "     apiVersion: serving.knative.dev/v1\n",
    "     kind: Service\n",
    "     name: kn-invoicing\n",
    "EOF"
   ]
  },
  {
   "cell_type": "code",
   "execution_count": null,
   "id": "dacff6ec",
   "metadata": {},
   "outputs": [],
   "source": [
    "%%bash\n",
    "cat <<EOF | kubectl apply --namespace ${NS_BRKR}  -f -\n",
    "apiVersion: eventing.knative.dev/v1\n",
    "kind: Trigger\n",
    "metadata:\n",
    "  name: shipment\n",
    "spec:\n",
    "  broker: default\n",
    "  filter:\n",
    "    attributes:\n",
    "      type: shipment\n",
    "  subscriber:\n",
    "    ref:\n",
    "     apiVersion: serving.knative.dev/v1\n",
    "     kind: Service\n",
    "     name: kn-shipment\n",
    "EOF"
   ]
  },
  {
   "cell_type": "code",
   "execution_count": null,
   "id": "f5efea10",
   "metadata": {},
   "outputs": [],
   "source": [
    "%%bash\n",
    "\n",
    "cat <<EOF | kubectl apply --namespace ${NS_BRKR}  -f -\n",
    "apiVersion: eventing.knative.dev/v1\n",
    "kind: Trigger\n",
    "metadata:\n",
    "  name: invoicing-order\n",
    "spec:\n",
    "  broker: default\n",
    "  filter:\n",
    "    attributes:\n",
    "      type: order \n",
    "  subscriber:\n",
    "    ref:\n",
    "     apiVersion: serving.knative.dev/v1\n",
    "     kind: Service\n",
    "     name: kn-invoicing\n",
    "---\n",
    "apiVersion: eventing.knative.dev/v1\n",
    "kind: Trigger\n",
    "metadata:\n",
    "  name: shipment-order\n",
    "spec:\n",
    "  broker: default\n",
    "  filter:\n",
    "    attributes:\n",
    "      type: order\n",
    "  subscriber:\n",
    "    ref:\n",
    "     apiVersion: serving.knative.dev/v1\n",
    "     kind: Service\n",
    "     name: kn-shipment\n",
    "EOF"
   ]
  },
  {
   "cell_type": "markdown",
   "id": "86b388a3",
   "metadata": {},
   "source": [
    "### Gesamtübersicht\n",
    "\n",
    "Die Subscriptions filtern `\"Ce-Type:` und leiten die Events weiter an die Microservices **Shipment** und/oder **Invoicing**."
   ]
  },
  {
   "cell_type": "code",
   "execution_count": null,
   "id": "d0862729",
   "metadata": {},
   "outputs": [],
   "source": [
    "%%bash\n",
    "echo \"Broker URL (intern)\"\n",
    "kubectl get broker default -o jsonpath='{.status.address.url}' --namespace ${NS_BRKR}\n",
    "echo \"\"\n",
    "echo \"------------------------\"\n",
    "echo \"Broker URL (extern)\"\n",
    "echo \"http://$(cat ~/work/server-ip):\"$(kubectl get svc broker-ingress -n knative-eventing -o jsonpath='{.spec.ports[?(@.port==80)].nodePort}')/${NS_BRKR}/default\n",
    "echo \"------------------------\"\n",
    "echo \"Triggers\"\n",
    "kn trigger list --namespace ${NS_BRKR}\n",
    "echo \"------------------------\"\n",
    "echo \"Microservice Menu\"\n",
    "echo \"http://\"$(cat ~/work/server-ip)\":\"$(kubectl get service --namespace ${NS_BRKR} webshop -o=jsonpath='{ .spec.ports[0].nodePort }')/webshop"
   ]
  },
  {
   "cell_type": "markdown",
   "id": "d8e85001",
   "metadata": {},
   "source": [
    "- - -\n",
    "### Testen\n",
    "\n",
    "Zuerst senden wir einen Event an den Container **shipment**"
   ]
  },
  {
   "cell_type": "code",
   "execution_count": null,
   "id": "44db7c59",
   "metadata": {},
   "outputs": [],
   "source": [
    "%%bash\n",
    "PORT=$(kubectl get svc broker-ingress -n knative-eventing -o jsonpath='{.spec.ports[?(@.port==80)].nodePort}')\n",
    "curl -s -X POST http://localhost:${PORT}/${NS_BRKR}/default \\\n",
    "-H \"Host: broker-ingress.knative-eventing.svc.cluster.local\" \\\n",
    "-H \"Ce-Id: K-native-Broker\" \\\n",
    "-H \"Ce-Specversion: 1.0\" \\\n",
    "-H \"Ce-Type: shipment\" \\\n",
    "-H \"Ce-Source: curl\" \\\n",
    "-H \"Content-Type: application/json\" \\\n",
    "-d '{ \"product_id\": 1, \"quantity\": 1, \"customer_id\": 1}'"
   ]
  },
  {
   "cell_type": "markdown",
   "id": "42ed6648",
   "metadata": {},
   "source": [
    "Nun sollten wir eine weitere Bestellung haben"
   ]
  },
  {
   "cell_type": "code",
   "execution_count": null,
   "id": "e93580ff",
   "metadata": {},
   "outputs": [],
   "source": [
    "! echo \"http://\"$(cat ~/work/server-ip)\":\"$(kubectl get service --namespace ${NS_BRKR} webshop -o=jsonpath='{ .spec.ports[0].nodePort }')/webshop/shipment/shipment"
   ]
  },
  {
   "cell_type": "markdown",
   "id": "cfd61fff",
   "metadata": {},
   "source": [
    "Dann senden wir einen Event an den Microservice **invoicing**"
   ]
  },
  {
   "cell_type": "code",
   "execution_count": null,
   "id": "23275ecf",
   "metadata": {},
   "outputs": [],
   "source": [
    "%%bash\n",
    "PORT=$(kubectl get svc broker-ingress -n knative-eventing -o jsonpath='{.spec.ports[?(@.port==80)].nodePort}')\n",
    "curl -s -X POST http://localhost:${PORT}/${NS_BRKR}/default \\\n",
    "-H \"Host: broker-ingress.knative-eventing.svc.cluster.local\" \\\n",
    "-H \"Ce-Id: K-native-Broker\" \\\n",
    "-H \"Ce-Specversion: 1.0\" \\\n",
    "-H \"Ce-Type: invoicing\" \\\n",
    "-H \"Ce-Source: curl\" \\\n",
    "-H \"Content-Type: application/json\" \\\n",
    "-d '{ \"product_id\": 1, \"quantity\": 1, \"customer_id\": 2}'\n",
    "\n",
    "echo \"http://\"$(cat ~/work/server-ip)\":\"$(kubectl get service --namespace ${NS_BRKR} webshop -o=jsonpath='{ .spec.ports[0].nodePort }')/webshop/invoicing/invoicing"
   ]
  },
  {
   "cell_type": "markdown",
   "id": "ab59a06f",
   "metadata": {},
   "source": [
    "Und zum Schluss an beide Microservices."
   ]
  },
  {
   "cell_type": "code",
   "execution_count": null,
   "id": "278495b2",
   "metadata": {},
   "outputs": [],
   "source": [
    "%%bash\n",
    "PORT=$(kubectl get svc broker-ingress -n knative-eventing -o jsonpath='{.spec.ports[?(@.port==80)].nodePort}')\n",
    "curl -s -X POST http://localhost:${PORT}/${NS_BRKR}/default \\\n",
    "-H \"Host: broker-ingress.knative-eventing.svc.cluster.local\" \\\n",
    "-H \"Ce-Id: K-native-Broker\" \\\n",
    "-H \"Ce-Specversion: 1.0\" \\\n",
    "-H \"Ce-Type: order\" \\\n",
    "-H \"Ce-Source: curl\" \\\n",
    "-H \"Content-Type: application/json\" \\\n",
    "-d '{ \"product_id\": 1, \"quantity\": 1, \"customer_id\": 3}'"
   ]
  },
  {
   "cell_type": "markdown",
   "id": "a531e041",
   "metadata": {},
   "source": [
    "- - -\n",
    "\n",
    "### Message Broker vs. K-native Eventing\n",
    "\n",
    "In einer Microservices-Architektur können Services direkt mit einem Message Broker wie Kafka kommunizieren, indem sie Nachrichten senden und empfangen. Dies ermöglicht eine robuste und skalierbare Kommunikation, erfordert jedoch, dass die Microservices die spezifischen APIs und Konfigurationen des Brokers kennen und verwalten.\n",
    "\n",
    "Mit K-native Eventing hingegen wird der Message Broker abstrahiert, wodurch die Microservices von den Details des Brokers entkoppelt werden. Knative Eventing bietet ein standardisiertes Eventing-Modell und erleichtert das Routing und Verwalten von Events. Dies ermöglicht eine flexiblere und einfacher zu verwaltende Architektur, da die Microservices sich auf das Verarbeiten von Events konzentrieren können, ohne sich um die Details der Broker-Implementierung kümmern zu müssen.\n",
    "\n",
    "Hier der gekürzte Code \n",
    "\n",
    "- - -\n",
    "\n",
    "    @app.route('/', methods=['POST'])\n",
    "    def add_order():\n",
    "        try:\n",
    "            data = request.get_json()\n",
    "            if not data or not all(key in data for key in (\"product_id\", \"quantity\", \"customer_id\")):\n",
    "                return jsonify({\"status\": \"error\", \"message\": \"Invalid request\"}), 400\n",
    "\n",
    "            new_order_id = max(order['id'] for order in orders) + 1 if orders else 1\n",
    "            new_order = {\n",
    "                \"id\": new_order_id,\n",
    "                \"product_id\": data[\"product_id\"],\n",
    "                \"quantity\": data[\"quantity\"],\n",
    "                \"customer_id\": data[\"customer_id\"]\n",
    "            }\n",
    "            orders.append(new_order)\n",
    "            return jsonify({\"status\": \"success\", \"data\": new_order}), 201\n"
   ]
  },
  {
   "cell_type": "markdown",
   "id": "67f12541",
   "metadata": {},
   "source": [
    "- - -\n",
    "\n",
    "Aufräumen\n"
   ]
  },
  {
   "cell_type": "code",
   "execution_count": null,
   "id": "2d7419ae",
   "metadata": {},
   "outputs": [],
   "source": [
    "! kn service delete kn-shipment  --namespace ${NS_BRKR}\n",
    "! kn service delete kn-invoicing --namespace ${NS_BRKR}\n",
    "! kn service delete kn-sales --namespace ${NS_BRKR}\n",
    "! kubectl delete namespace ${NS_BRKR}"
   ]
  },
  {
   "cell_type": "markdown",
   "id": "77eac1fe",
   "metadata": {},
   "source": [
    "- - -\n",
    "### Quellen\n",
    "\n",
    "* Sourcecode: https://gitlab.com/ch-mc-b/autoshop-ms/app\n",
    "* Kubernetes Deklarationen: https://gitlab.com/ch-mc-b/autoshop-ms/infra/kubernetes-templates\n",
    "* Container Registry: https://gitlab.com/ch-mc-b/autoshop-ms/app/shop/container_registry"
   ]
  },
  {
   "cell_type": "code",
   "execution_count": null,
   "id": "b80e6e4e",
   "metadata": {},
   "outputs": [],
   "source": []
  }
 ],
 "metadata": {
  "kernelspec": {
   "display_name": "Python 3 (ipykernel)",
   "language": "python",
   "name": "python3"
  },
  "language_info": {
   "codemirror_mode": {
    "name": "ipython",
    "version": 3
   },
   "file_extension": ".py",
   "mimetype": "text/x-python",
   "name": "python",
   "nbconvert_exporter": "python",
   "pygments_lexer": "ipython3",
   "version": "3.12.3"
  }
 },
 "nbformat": 4,
 "nbformat_minor": 5
}
