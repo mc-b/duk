{
 "cells": [
  {
   "cell_type": "markdown",
   "metadata": {},
   "source": [
    "Exercise: Functional overview\n",
    "--------------------------------------------\n",
    "\n",
    "For cri-o or containerd we don't have `docker` CLI, so we use `kubectl` from Kubernetes.\n",
    "\n",
    "Get the container image if it doesn't already exist and start it."
   ]
  },
  {
   "cell_type": "code",
   "execution_count": null,
   "metadata": {},
   "outputs": [],
   "source": [
    "%%bash\n",
    "kubectl run hello-world --image registry.gitlab.com/mc-b/misegr/hello-world --image-pull-policy=\"IfNotPresent\" \\\n",
    "                        --restart=Never --labels=\"name=hello,instance=first\""
   ]
  },
  {
   "cell_type": "markdown",
   "metadata": {},
   "source": [
    "The smallest unit in Kubernetes is a [Pod](https://kubernetes.io/docs/concepts/workloads/pods/). Flattens a group of containers.\n",
    "\n",
    "We can display the pod (with the container):"
   ]
  },
  {
   "cell_type": "code",
   "execution_count": null,
   "metadata": {},
   "outputs": [],
   "source": [
    "! kubectl get pod/hello-world "
   ]
  },
  {
   "cell_type": "markdown",
   "metadata": {},
   "source": [
    "With Kubernetes, the container is started in the background, which is why we don't see any output.\n",
    "\n",
    "In order to see this, we have to unlock the port of the container to the outside.\n",
    "\n",
    "This is done using:"
   ]
  },
  {
   "cell_type": "code",
   "execution_count": null,
   "metadata": {},
   "outputs": [],
   "source": [
    "! kubectl expose pod/hello-world --type=\"LoadBalancer\" --port 80 "
   ]
  },
  {
   "cell_type": "markdown",
   "metadata": {},
   "source": [
    "Since we don't have a load balancer, we have to prepare the IP of the cluster and the mapped port as a URL using a small shell script."
   ]
  },
  {
   "cell_type": "code",
   "execution_count": null,
   "metadata": {},
   "outputs": [],
   "source": [
    "! echo \"http://\"$(cat ~/work/server-ip)\":$(kubectl get service hello-world -o=jsonpath='{ .spec.ports[0].nodePort }')/\""
   ]
  },
  {
   "cell_type": "markdown",
   "metadata": {},
   "source": [
    "***\n",
    "\n",
    "For test purposes we start the container, again under a different name"
   ]
  },
  {
   "cell_type": "code",
   "execution_count": null,
   "metadata": {},
   "outputs": [],
   "source": [
    "! kubectl run hello-world1 --image registry.gitlab.com/mc-b/misegr/hello-world --image-pull-policy=\"IfNotPresent\" --restart=Never  --labels=\"name=hello,instance=second\"\n",
    "! kubectl expose pod/hello-world1 --type=\"LoadBalancer\" --port 80\n",
    "! echo \"http://\"$(cat ~/work/server-ip)\":$(kubectl get service hello-world1 -o=jsonpath='{ .spec.ports[0].nodePort }')/\""
   ]
  },
  {
   "cell_type": "markdown",
   "metadata": {},
   "source": [
    "We now have two containers (in one pod each) running, but still one image."
   ]
  },
  {
   "cell_type": "code",
   "execution_count": null,
   "metadata": {},
   "outputs": [],
   "source": [
    "! kubectl get pods,services -l name=hello -o wide"
   ]
  },
  {
   "cell_type": "code",
   "execution_count": null,
   "metadata": {
    "scrolled": true
   },
   "outputs": [],
   "source": [
    "! kubectl get pods -l name=hello -o jsonpath=\"{..image}\" | tr -s '[[:space:]]' '\\n' | sed 's/:latest//g' | sort | uniq -c"
   ]
  },
  {
   "cell_type": "markdown",
   "metadata": {},
   "source": [
    "***\n",
    "\n",
    "Clean up"
   ]
  },
  {
   "cell_type": "code",
   "execution_count": null,
   "metadata": {},
   "outputs": [],
   "source": [
    "! kubectl delete pod/hello-world\n",
    "! kubectl delete service/hello-world\n",
    "! kubectl delete pod/hello-world1\n",
    "! kubectl delete service/hello-world1"
   ]
  },
  {
   "cell_type": "markdown",
   "metadata": {},
   "source": [
    "The containers (pods) have been terminated, the image still exists.\n",
    "\n",
    "**Note**: to display the image, run `microk8s ctr image ls` in the VM."
   ]
  },
  {
   "cell_type": "code",
   "execution_count": null,
   "metadata": {},
   "outputs": [],
   "source": [
    "! kubectl get pods -l name=hello"
   ]
  },
  {
   "cell_type": "code",
   "execution_count": null,
   "metadata": {},
   "outputs": [],
   "source": []
  }
 ],
 "metadata": {
  "kernelspec": {
   "display_name": "Python 3 (ipykernel)",
   "language": "python",
   "name": "python3"
  },
  "language_info": {
   "codemirror_mode": {
    "name": "ipython",
    "version": 3
   },
   "file_extension": ".py",
   "mimetype": "text/x-python",
   "name": "python",
   "nbconvert_exporter": "python",
   "pygments_lexer": "ipython3",
   "version": "3.9.6"
  }
 },
 "nbformat": 4,
 "nbformat_minor": 2
}
