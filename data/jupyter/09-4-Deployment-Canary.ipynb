{
 "cells": [
  {
   "cell_type": "markdown",
   "metadata": {},
   "source": [
    "Übung: Canary Deployments\n",
    "-----------------\n",
    "\n",
    "In dieser Übung führen wir einen Canary Deployment durch.\n",
    "\n",
    "Dazu wird ein weiteres Deployment mit der neuen (Canary) Version vom Webshop erstellt. Der Service hat **keinen** Selector für die Version und steuert so beide Versionen an.\n",
    "\n",
    "Aus Einfachheitsgründen, verwenden wir die Blue/Green YAML Dateien mit einer neuen Service Datei.\n",
    "\n",
    "Das passiert in einer eigenen Namespace um die Resultate gezielt Darstellen zu können:"
   ]
  },
  {
   "cell_type": "code",
   "execution_count": null,
   "metadata": {},
   "outputs": [],
   "source": [
    "! kubectl create namespace canary"
   ]
  },
  {
   "cell_type": "markdown",
   "metadata": {},
   "source": [
    "Deployment und Services wurde in einzelne Dateien aufgeteilt. Die Ingress Ressource, aus Einfachheitsgründen weggelassen.\n",
    "\n",
    "Nur die Labels des Deploymments und natürlich das Image wurde um eine Version erweitert:\n",
    "\n",
    "    apiVersion: v1\n",
    "    kind: Service\n",
    "    metadata:\n",
    "      name: webshop\n",
    "      labels:\n",
    "        app: webshop\n",
    "    spec:\n",
    "      ...\n",
    "      selector:\n",
    "        app: webshop\n",
    "        \n",
    "- - -\n",
    "\n",
    "    apiVersion: apps/v1\n",
    "    kind: Deployment\n",
    "    metadata:\n",
    "      name: webshop-green\n",
    "      version: 0.2\n",
    "    ...\n",
    "    spec:\n",
    "      containers:\n",
    "      - name: webshop\n",
    "        image: registry.gitlab.com/mc-b/misegr/misegr/webshop:V0.2\n",
    "        imagePullPolicy: IfNotPresent   \n",
    "        \n",
    "- - -\n",
    "\n",
    "    apiVersion: apps/v1\n",
    "    kind: Deployment\n",
    "    metadata:\n",
    "      name: webshop-blue\n",
    "      version: 1.0\n",
    "    ...\n",
    "    spec:\n",
    "      containers:\n",
    "      - name: webshop\n",
    "        image: registry.gitlab.com/mc-b/misegr/misegr/webshop:V1.0\n",
    "        imagePullPolicy: IfNotPresent         \n",
    "\n",
    "Die Anzahl Pods pro Deployment steuern wir Ausnahmsweise mittels `kubectl`. "
   ]
  },
  {
   "cell_type": "code",
   "execution_count": null,
   "metadata": {
    "scrolled": true
   },
   "outputs": [],
   "source": [
    "! kubectl apply -f 09-4-Deployment/webshop-deployment-blue.yaml --namespace canary\n",
    "! kubectl apply -f 09-4-Deployment/webshop-deployment-green.yaml --namespace canary\n",
    "\n",
    "! kubectl scale --replicas=4 deployment/webshop-blue --namespace canary\n",
    "! kubectl scale --replicas=1 deployment/webshop-green --namespace canary\n",
    "\n",
    "! kubectl apply -f 09-4-Deployment/webshop-service-canary.yaml --namespace canary"
   ]
  },
  {
   "cell_type": "markdown",
   "metadata": {},
   "source": [
    "Als Ergebnis haben wir zwei Deployments mit fünf Pods. Vier mit der Version 0.2 und einer mit der Version 1."
   ]
  },
  {
   "cell_type": "code",
   "execution_count": null,
   "metadata": {},
   "outputs": [],
   "source": [
    "! kubectl get all --namespace canary -o wide\n",
    "! echo \"http://$(cat ~/work/server-ip):$(kubectl get service --namespace canary webshop -o=jsonpath='{ .spec.ports[0].nodePort }')\""
   ]
  },
  {
   "cell_type": "markdown",
   "metadata": {},
   "source": [
    "- - -\n",
    "\n",
    "Aufräumen"
   ]
  },
  {
   "cell_type": "code",
   "execution_count": null,
   "metadata": {},
   "outputs": [],
   "source": [
    "! kubectl delete namespace canary"
   ]
  },
  {
   "cell_type": "code",
   "execution_count": null,
   "metadata": {},
   "outputs": [],
   "source": []
  }
 ],
 "metadata": {
  "kernelspec": {
   "display_name": "Python 3 (ipykernel)",
   "language": "python",
   "name": "python3"
  },
  "language_info": {
   "codemirror_mode": {
    "name": "ipython",
    "version": 3
   },
   "file_extension": ".py",
   "mimetype": "text/x-python",
   "name": "python",
   "nbconvert_exporter": "python",
   "pygments_lexer": "ipython3",
   "version": "3.10.6"
  }
 },
 "nbformat": 4,
 "nbformat_minor": 2
}
