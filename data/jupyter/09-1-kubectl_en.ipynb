{
 "cells": [
  {
   "cell_type": "markdown",
   "metadata": {},
   "source": [
    "Exercise: kubectl CLI and base resources\n",
    "-------------------------------------------------------------\n",
    "\n",
    "The `kubectl` command represents one of the control centers of the K8s cluster for the administration of resources.\n",
    "\n",
    "In this exercise we will use the `kubectl` command to create a pod and service.\n",
    "\n",
    "This happens in a separate namespace to be able to display the results in a targeted manner:"
   ]
  },
  {
   "cell_type": "code",
   "execution_count": null,
   "metadata": {},
   "outputs": [],
   "source": [
    "! kubectl create namespace test"
   ]
  },
  {
   "cell_type": "markdown",
   "metadata": {},
   "source": [
    "Creating a pod, here the Apache Web Server.\n",
    "\n",
    "The `--restart=Never` option spawns only one pod. Otherwise a deployment is created."
   ]
  },
  {
   "cell_type": "code",
   "execution_count": null,
   "metadata": {},
   "outputs": [],
   "source": [
    "! kubectl run apache --image=registry.gitlab.com/mc-b/misegr/httpd --restart=Never --namespace test"
   ]
  },
  {
   "cell_type": "markdown",
   "metadata": {},
   "source": [
    "Output of the generated results and the YAML file describing the pod:"
   ]
  },
  {
   "cell_type": "code",
   "execution_count": null,
   "metadata": {},
   "outputs": [],
   "source": [
    "! kubectl get pods,services --namespace test"
   ]
  },
  {
   "cell_type": "code",
   "execution_count": null,
   "metadata": {},
   "outputs": [],
   "source": [
    "! kubectl get pod apache -o yaml --namespace test | kubectl-neat"
   ]
  },
  {
   "cell_type": "markdown",
   "metadata": {},
   "source": [
    "We create a service for the pod `apache`. This makes the web server visible from the outside.\n",
    "\n",
    "Port 80 is automatically mapped by Kubernetes to the next free port."
   ]
  },
  {
   "cell_type": "code",
   "execution_count": null,
   "metadata": {},
   "outputs": [],
   "source": [
    "! kubectl expose pod/apache --type=\"LoadBalancer\" --port 80 --namespace test"
   ]
  },
  {
   "cell_type": "code",
   "execution_count": null,
   "metadata": {},
   "outputs": [],
   "source": [
    "! kubectl get service apache -o yaml --namespace test | kubectl-neat"
   ]
  },
  {
   "cell_type": "markdown",
   "metadata": {},
   "source": [
    "We should now have a pod and a service apache"
   ]
  },
  {
   "cell_type": "code",
   "execution_count": null,
   "metadata": {},
   "outputs": [],
   "source": [
    "! kubectl get pods,service apache --namespace test"
   ]
  },
  {
   "cell_type": "markdown",
   "metadata": {},
   "source": [
    "Since we don't have a load balancer, we have to prepare the IP of the cluster and the mapped port (port-based-routing) as a URL using a small shell script.\n",
    "\n",
    "If this URL is opened in a new tab (right mouse button), `It works!` is displayed.\n",
    "\n",
    "**Before**: replace \"replace-with-server-ip\" with the IP address of this VM."
   ]
  },
  {
   "cell_type": "code",
   "execution_count": null,
   "metadata": {},
   "outputs": [],
   "source": [
    "! [ ! -f ~/work/server-ip ] && { echo \"replace-with-server-ip\" >~/work/server-ip; }\n",
    "! echo \"http://\"$(cat ~/work/server-ip)\":\"$(kubectl get service --namespace test apache -o=jsonpath='{ .spec.ports[0].nodePort }')"
   ]
  },
  {
   "cell_type": "markdown",
   "metadata": {},
   "source": [
    "- - -\n",
    "To clean it up, just delete the namespace"
   ]
  },
  {
   "cell_type": "code",
   "execution_count": null,
   "metadata": {},
   "outputs": [],
   "source": [
    "! kubectl delete namespace test"
   ]
  },
  {
   "cell_type": "markdown",
   "metadata": {},
   "source": [
    "***\n",
    "Questions\n",
    "======\n",
    "\n",
    "Answer the questions individually or in groups and compare them with the answers\n",
    "\n",
    "What is Kubernetes?\n",
    "<details><summary>Answer</summary><p>\n",
    "Launched in July 2014, Kubernetes (Greek: helmsman) is currently the most popular container clustering/orchestration solution.\n",
    "</p></details>\n",
    "\n",
    "---\n",
    "\n",
    "What is the main task of Kubernetes?\n",
    "<details><summary>Answer</summary><p>\n",
    "Kubernetes main task is the administration and orchestration of the containers within a cluster, which usually consists of at least one Kubernetes master and multiple worker nodes.\n",
    "</p></details>\n",
    "\n",
    "---\n",
    "\n",
    "Who is the owner of Kubernetes?\n",
    "<details><summary>Answer</summary><p>\n",
    "Kubernetes is now hosted at the Cloud Native Computing Foundation (http://cncf.io).\n",
    "</p></details>\n",
    "\n",
    "---"
   ]
  },
  {
   "cell_type": "code",
   "execution_count": null,
   "metadata": {},
   "outputs": [],
   "source": []
  }
 ],
 "metadata": {
  "kernelspec": {
   "display_name": "Python 3 (ipykernel)",
   "language": "python",
   "name": "python3"
  },
  "language_info": {
   "codemirror_mode": {
    "name": "ipython",
    "version": 3
   },
   "file_extension": ".py",
   "mimetype": "text/x-python",
   "name": "python",
   "nbconvert_exporter": "python",
   "pygments_lexer": "ipython3",
   "version": "3.9.6"
  }
 },
 "nbformat": 4,
 "nbformat_minor": 2
}
