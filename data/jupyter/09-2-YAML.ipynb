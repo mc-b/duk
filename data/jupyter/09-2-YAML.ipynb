{
 "cells": [
  {
   "cell_type": "markdown",
   "metadata": {},
   "source": [
    "Übung: kubectl-CLI und Basis Ressourcen (YAML Variante)\n",
    "-------------------------------------------------------\n",
    "\n",
    "Das `kubectl`-Kommando stellt, eine der Schaltzentralen des K8s Clusters zur Administration der Ressourcen dar.\n",
    "\n",
    "Die `YAML` Beschreiben die Ressourcen und Vereinfachen so die Verwendung des `kubectl` Kommandos.\n",
    "\n",
    "In dieser Übung verwenden wir das `kubectl`-Kommando mit `YAML` Dateien zur Erstellen eines Pods und Services.\n",
    "\n",
    "Das passiert in einer eigenen Namespace um die Resultate gezielt Darstellen zu können:"
   ]
  },
  {
   "cell_type": "code",
   "execution_count": null,
   "metadata": {},
   "outputs": [],
   "source": [
    "! kubectl create namespace yaml"
   ]
  },
  {
   "cell_type": "markdown",
   "metadata": {},
   "source": [
    "### Pod\n",
    "\n",
    "Für den Pod haben wir, die Ausgabe von `kubectl get pod apache -o test`, aus der vorherigen Übungen, übernommen und daraus eine YAML Datei erstellt:"
   ]
  },
  {
   "cell_type": "code",
   "execution_count": null,
   "metadata": {},
   "outputs": [],
   "source": [
    "%%bash\n",
    "cat <<%EOF% | kubectl apply -f -\n",
    "apiVersion: v1\n",
    "kind: Pod\n",
    "metadata:\n",
    "  labels:\n",
    "    app.kubernetes.io/name: apache\n",
    "  name: apache\n",
    "  namespace: yaml\n",
    "spec:\n",
    "  containers:\n",
    "  - image: registry.gitlab.com/mc-b/misegr/httpd\n",
    "    name: apache\n",
    "%EOF%"
   ]
  },
  {
   "cell_type": "markdown",
   "metadata": {},
   "source": [
    "- - -\n",
    "### Service\n",
    "\n",
    "Für den Service sind wir gleich Verfahren.\n",
    "\n",
    "Dabei ist es wichtig den Selector richtig zu setzen:\n",
    "\n",
    "\n",
    "`\n",
    "  selector:\n",
    "    app.kubernetes.io/name: apache\n",
    "`    "
   ]
  },
  {
   "cell_type": "code",
   "execution_count": null,
   "metadata": {},
   "outputs": [],
   "source": [
    "%%bash\n",
    "cat <<%EOF% | kubectl apply -f -\n",
    "apiVersion: v1\n",
    "kind: Service\n",
    "metadata:\n",
    "  labels:\n",
    "    app.kubernetes.io/name: apache\n",
    "  name: apache\n",
    "  namespace: yaml\n",
    "spec:\n",
    "  ports:\n",
    "  - port: 80\n",
    "    protocol: TCP\n",
    "    targetPort: 80\n",
    "  selector:\n",
    "    app.kubernetes.io/name: apache\n",
    "  type: LoadBalancer\n",
    "%EOF%"
   ]
  },
  {
   "cell_type": "markdown",
   "metadata": {},
   "source": [
    "Zur Kontrolle geben wir die erstellen Ressourcen aus:"
   ]
  },
  {
   "cell_type": "code",
   "execution_count": null,
   "metadata": {},
   "outputs": [],
   "source": [
    "! kubectl get pods,services --namespace yaml"
   ]
  },
  {
   "cell_type": "markdown",
   "metadata": {},
   "source": [
    "Wir sollten jetzt einen Pod und einen Service apache haben"
   ]
  },
  {
   "cell_type": "markdown",
   "metadata": {},
   "source": [
    "Da wir keinen LoadBalancer haben müssen wir mit einem kleinen Shellscript selber die IP des Clusters und der gemappte Port (port-based-routing) als URL aufbereiten.\n",
    "\n",
    "Wird dieser URL in einem neuen Tab (rechte Maustaste) geöffnet, wird `It works!` angezeigt.\n",
    "\n",
    "**Vorher**: ist \"replace-with-server-ip\" durch die IP-Adresse dieser VM zu ersetzen."
   ]
  },
  {
   "cell_type": "code",
   "execution_count": null,
   "metadata": {},
   "outputs": [],
   "source": [
    "! [ ! -f ~/work/server-ip ] && { echo \"replace-with-server-ip\" >~/work/server-ip; }\n",
    "! echo \"http://\"$(cat ~/work/server-ip)\":\"$(kubectl get service --namespace yaml apache -o=jsonpath='{ .spec.ports[0].nodePort }')"
   ]
  },
  {
   "cell_type": "markdown",
   "metadata": {},
   "source": [
    "- - -\n",
    "\n",
    "Zum Aufräumen genügt es den Namespace zu löschen"
   ]
  },
  {
   "cell_type": "code",
   "execution_count": null,
   "metadata": {},
   "outputs": [],
   "source": [
    "! kubectl delete namespace yaml"
   ]
  },
  {
   "cell_type": "markdown",
   "metadata": {},
   "source": [
    "Weglöschen der Datei mit der Server IP, um einen falschen Wert korrigieren zu können"
   ]
  },
  {
   "cell_type": "markdown",
   "metadata": {},
   "source": [
    "***\n",
    "Fragen\n",
    "======\n",
    "\n",
    "Beantwortet die Fragen einzeln oder in der Gruppe und vergleicht diese mit den Antworten\n",
    "\n",
    "---\n",
    "\n",
    "Was sind Pods?\n",
    "<details><summary>Antwort</summary><p>    \n",
    "     Kleine Gruppe von Containern welche eng verbunden sind. Kleinste Einheit für Replikation und Platzierung (auf Node). Logischer Host für Container. Jeder Pods erhält genau eine IP-Adresse\n",
    "</p></details>\n",
    "\n",
    "---\n",
    "\n",
    "Was sind Services?\n",
    "<details><summary>Antwort</summary><p>    \n",
    "     Eine Gruppe von Pods die zusammenarbeiten, Gruppiert mittels Label Selector. Erlaubt mittels unterschiedlichen Methoden auf den Service zuzugreifen, z.B. DNS Name. Definieren Zugriffsrichtlinien, z.B. Port Remapping für den Zugriff von ausserhalb des Clusters. \n",
    "</p></details>\n",
    "\n",
    "---\n",
    "\n",
    "Kubernetes Objekte (Ressourcen) werden im welchen Dateiformat beschrieben?\n",
    "<details><summary>Antwort</summary><p>    \n",
    "     YAML\n",
    "</p></details>\n",
    "\n",
    "---\n",
    "\n",
    "Kubernetes Objekte (Ressourcen) können mittels Dashboard und welche CLI Tool verwaltet werden?\n",
    "<details><summary>Antwort</summary><p>    \n",
    "     kubectl\n",
    "</p></details>\n",
    "\n",
    "---\n",
    "\n",
    "Mit was lassen sich Kubernetes Objekte (Ressourcen) gruppieren?\n",
    "<details><summary>Antwort</summary><p>    \n",
    "     Labels\n",
    "</p></details>\n",
    "\n",
    "---\n",
    "\n",
    "Was sind Namespaces bzw. deren Aufgabe?\n",
    "<details><summary>Antwort</summary><p>  \n",
    "    Sie Unterteilen den gesamten K8s Cluster in logische Partitionen bzw. Bereiche. Vergleichbar mit Subdomains.\n",
    "</p></details>\n",
    "\n",
    "---"
   ]
  },
  {
   "cell_type": "code",
   "execution_count": null,
   "metadata": {},
   "outputs": [],
   "source": []
  }
 ],
 "metadata": {
  "kernelspec": {
   "display_name": "Python 3 (ipykernel)",
   "language": "python",
   "name": "python3"
  },
  "language_info": {
   "codemirror_mode": {
    "name": "ipython",
    "version": 3
   },
   "file_extension": ".py",
   "mimetype": "text/x-python",
   "name": "python",
   "nbconvert_exporter": "python",
   "pygments_lexer": "ipython3",
   "version": "3.9.6"
  }
 },
 "nbformat": 4,
 "nbformat_minor": 2
}
