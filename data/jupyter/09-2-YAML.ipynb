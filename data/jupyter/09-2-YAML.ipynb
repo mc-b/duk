{
 "cells": [
  {
   "cell_type": "markdown",
   "metadata": {},
   "source": [
    "Übung: kubectl-CLI und Basis Ressourcen (YAML Variante)\n",
    "-------------------------------------------------------\n",
    "\n",
    "Das `kubectl`-Kommando stellt, eine der Schaltzentralen des K8s Clusters zur Administration der Ressourcen dar.\n",
    "\n",
    "Die `YAML` Beschreiben die Ressourcen und Vereinfachen so die Verwendung des `kubectl` Kommandos.\n",
    "\n",
    "In dieser Übung verwenden wir das `kubectl`-Kommando mit `YAML` Dateien zur Erstellen eines Pods und Services.\n",
    "\n",
    "Das passiert in einer eigenen Namespace um die Resultate gezielt Darstellen zu können:"
   ]
  },
  {
   "cell_type": "code",
   "execution_count": 3,
   "metadata": {},
   "outputs": [
    {
     "name": "stdout",
     "output_type": "stream",
     "text": [
      "namespace/yaml created\r\n"
     ]
    }
   ],
   "source": [
    "! kubectl create namespace yaml"
   ]
  },
  {
   "cell_type": "markdown",
   "metadata": {},
   "source": [
    "Für den Pod haben wir, die Ausgabe von `kubectl get pod apache -o yaml` genommen und eine abgespeckte Variante als YAML Datei erstellt:"
   ]
  },
  {
   "cell_type": "code",
   "execution_count": 15,
   "metadata": {},
   "outputs": [
    {
     "name": "stdout",
     "output_type": "stream",
     "text": [
      "apiVersion: v1\r\n",
      "kind: Pod\r\n",
      "metadata:\r\n",
      "  labels:\r\n",
      "    app.kubernetes.io/name: apache\r\n",
      "  name: apache\r\n",
      "  namespace: yaml\r\n",
      "spec:\r\n",
      "  containers:\r\n",
      "  - image: httpd\r\n",
      "    name: apache\r\n"
     ]
    }
   ],
   "source": [
    "! cat 09-2-YAML/apache-pod.yaml"
   ]
  },
  {
   "cell_type": "code",
   "execution_count": 16,
   "metadata": {},
   "outputs": [
    {
     "name": "stdout",
     "output_type": "stream",
     "text": [
      "pod/apache created\r\n"
     ]
    }
   ],
   "source": [
    "! kubectl create -f 09-2-YAML/apache-pod.yaml"
   ]
  },
  {
   "cell_type": "markdown",
   "metadata": {},
   "source": [
    "Zur Kontrolle geben wir den Pod aus:"
   ]
  },
  {
   "cell_type": "code",
   "execution_count": 18,
   "metadata": {},
   "outputs": [
    {
     "name": "stdout",
     "output_type": "stream",
     "text": [
      "NAME     READY   STATUS    RESTARTS   AGE\r\n",
      "apache   1/1     Running   0          66s\r\n"
     ]
    }
   ],
   "source": [
    "! kubectl get pods,services --namespace yaml"
   ]
  },
  {
   "cell_type": "markdown",
   "metadata": {},
   "source": [
    "Für den Service verfahren wir gleich. Ausgabe von `kubectl get service apache -o yaml` Analysieren und daraus eine YAML Datei erstellen.\n",
    "\n",
    "Durch den Selector \n",
    "\n",
    "`\n",
    "  selector:\n",
    "    app.kubernetes.io/name: apache\n",
    "`    \n",
    "\n",
    "werden Pod und Service verbunden.    \n"
   ]
  },
  {
   "cell_type": "code",
   "execution_count": 19,
   "metadata": {},
   "outputs": [
    {
     "name": "stdout",
     "output_type": "stream",
     "text": [
      "apiVersion: v1\r\n",
      "kind: Service\r\n",
      "metadata:\r\n",
      "  labels:\r\n",
      "    app.kubernetes.io/name: apache\r\n",
      "  name: apache\r\n",
      "  namespace: yaml\r\n",
      "spec:\r\n",
      "  ports:\r\n",
      "  - port: 80\r\n",
      "    protocol: TCP\r\n",
      "    targetPort: 80\r\n",
      "  selector:\r\n",
      "    app.kubernetes.io/name: apache\r\n",
      "  type: LoadBalancer\r\n"
     ]
    }
   ],
   "source": [
    "! cat 09-2-YAML/apache-service.yaml"
   ]
  },
  {
   "cell_type": "code",
   "execution_count": 20,
   "metadata": {},
   "outputs": [
    {
     "name": "stdout",
     "output_type": "stream",
     "text": [
      "service/apache created\r\n"
     ]
    }
   ],
   "source": [
    "! kubectl create -f 09-2-YAML/apache-service.yaml"
   ]
  },
  {
   "cell_type": "markdown",
   "metadata": {},
   "source": [
    "Wir sollten jetzt einen Pod und einen Service apache haben"
   ]
  },
  {
   "cell_type": "code",
   "execution_count": 21,
   "metadata": {},
   "outputs": [
    {
     "name": "stdout",
     "output_type": "stream",
     "text": [
      "NAME         READY   STATUS    RESTARTS   AGE\r\n",
      "pod/apache   1/1     Running   0          6m42s\r\n",
      "\r\n",
      "NAME             TYPE           CLUSTER-IP       EXTERNAL-IP   PORT(S)        AGE\r\n",
      "service/apache   LoadBalancer   10.102.199.129   <pending>     80:30122/TCP   32s\r\n"
     ]
    }
   ],
   "source": [
    "! kubectl get pods,service apache --namespace yaml"
   ]
  },
  {
   "cell_type": "markdown",
   "metadata": {},
   "source": [
    "Da wir keinen LoadBalancer haben müssen wir mit einem kleinen Shellscript selber die IP des Clusters und der gemappte Port als URL aufbereiten.\n",
    "\n",
    "Diese Shellscript ist im Script `startsvc` hinterlegt."
   ]
  },
  {
   "cell_type": "code",
   "execution_count": 23,
   "metadata": {},
   "outputs": [
    {
     "name": "stdout",
     "output_type": "stream",
     "text": [
      "http://192.168.178.200:30122"
     ]
    }
   ],
   "source": [
    "! kubectl config view -o=jsonpath='{ .clusters[0].cluster.server }' | sed -e 's/https:/http:/' -e \"s/6443/$(kubectl get service --namespace yaml apache -o=jsonpath='{ .spec.ports[0].nodePort }')/\"\n"
   ]
  },
  {
   "cell_type": "markdown",
   "metadata": {},
   "source": [
    "Zum Aufräumen genügt es den Namespace zu löschen"
   ]
  },
  {
   "cell_type": "code",
   "execution_count": 24,
   "metadata": {},
   "outputs": [
    {
     "name": "stdout",
     "output_type": "stream",
     "text": [
      "namespace \"yaml\" deleted\r\n"
     ]
    }
   ],
   "source": [
    "! kubectl delete namespace yaml"
   ]
  },
  {
   "cell_type": "code",
   "execution_count": null,
   "metadata": {},
   "outputs": [],
   "source": []
  }
 ],
 "metadata": {
  "kernelspec": {
   "display_name": "Python 3",
   "language": "python",
   "name": "python3"
  },
  "language_info": {
   "codemirror_mode": {
    "name": "ipython",
    "version": 3
   },
   "file_extension": ".py",
   "mimetype": "text/x-python",
   "name": "python",
   "nbconvert_exporter": "python",
   "pygments_lexer": "ipython3",
   "version": "3.6.5"
  }
 },
 "nbformat": 4,
 "nbformat_minor": 2
}
