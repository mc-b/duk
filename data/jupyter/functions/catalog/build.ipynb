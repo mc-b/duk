{
 "cells": [
  {
   "cell_type": "markdown",
   "id": "f645286d",
   "metadata": {},
   "source": [
    "# Microservice Catalog\n",
    "\n",
    "Zeigt die Produktdaten an.\n",
    "\n",
    "Diese Notebook erstellt aus dem Notebook `catalog` ein Container Image."
   ]
  },
  {
   "cell_type": "code",
   "execution_count": null,
   "id": "60b76b65",
   "metadata": {},
   "outputs": [],
   "source": [
    "import os\n",
    "MICROSERVICE=\"catalog\"\n",
    "os.environ['MICROSERVICE']=MICROSERVICE"
   ]
  },
  {
   "cell_type": "code",
   "execution_count": null,
   "id": "438fbddc",
   "metadata": {},
   "outputs": [],
   "source": [
    "%run ../export-notebook.py $MICROSERVICE\".ipynb\" $MICROSERVICE\".py\""
   ]
  },
  {
   "cell_type": "code",
   "execution_count": null,
   "id": "ba1c099a",
   "metadata": {},
   "outputs": [],
   "source": [
    "! cat $MICROSERVICE.py"
   ]
  },
  {
   "cell_type": "markdown",
   "id": "de763525",
   "metadata": {},
   "source": [
    "Zusätzlich brauchen wir ein `Dockerfile`. \n",
    "\n",
    "Das erstellen wir anhand eines Templates und ersetzen nur den Namen des Python Scripts.\n"
   ]
  },
  {
   "cell_type": "code",
   "execution_count": null,
   "id": "61ee1330",
   "metadata": {},
   "outputs": [],
   "source": [
    "%run ../generate_dockerfile.py $MICROSERVICE"
   ]
  },
  {
   "cell_type": "code",
   "execution_count": null,
   "id": "3b20fb94",
   "metadata": {},
   "outputs": [],
   "source": [
    "! cat Dockerfile"
   ]
  },
  {
   "cell_type": "code",
   "execution_count": null,
   "id": "86cdd637",
   "metadata": {},
   "outputs": [],
   "source": [
    "! docker build -t $MICROSERVICE ."
   ]
  },
  {
   "cell_type": "code",
   "execution_count": null,
   "id": "be4b9ec4",
   "metadata": {},
   "outputs": [],
   "source": [
    "! docker run -d --rm --name $MICROSERVICE -p8080:8080 $MICROSERVICE"
   ]
  },
  {
   "cell_type": "markdown",
   "id": "62ac74e8",
   "metadata": {},
   "source": [
    "Export des Images ins TAR-Format um des anschliessend wieder in microk8s importieren zu können"
   ]
  },
  {
   "cell_type": "code",
   "execution_count": null,
   "id": "1b137e2d",
   "metadata": {},
   "outputs": [],
   "source": [
    "! docker save $MICROSERVICE -o $MICROSERVICE.tar\n",
    "! microk8s ctr image import $MICROSERVICE.tar"
   ]
  },
  {
   "cell_type": "code",
   "execution_count": null,
   "id": "534e84aa",
   "metadata": {},
   "outputs": [],
   "source": [
    "! microk8s ctr image list | awk '{print $1, $4, $5, $6}' | grep $MICROSERVICE"
   ]
  },
  {
   "cell_type": "markdown",
   "id": "11c93d94",
   "metadata": {},
   "source": [
    "Und starten des Images in Kubernetes"
   ]
  },
  {
   "cell_type": "code",
   "execution_count": null,
   "id": "a22a414c",
   "metadata": {},
   "outputs": [],
   "source": [
    "! kubectl run catalog --image $MICROSERVICE --image-pull-policy=\"IfNotPresent\" --restart=Never \n",
    "! kubectl expose pod/$MICROSERVICE --type=\"LoadBalancer\" --port 8080 "
   ]
  },
  {
   "cell_type": "code",
   "execution_count": null,
   "id": "af61558d",
   "metadata": {},
   "outputs": [],
   "source": [
    "! echo \"http://\"$(cat ~/work/server-ip)\":$(kubectl get service $MICROSERVICE -o=jsonpath='{ .spec.ports[0].nodePort }')/\""
   ]
  },
  {
   "cell_type": "code",
   "execution_count": null,
   "id": "90200895",
   "metadata": {},
   "outputs": [],
   "source": [
    "! docker stop $MICROSERVICE\n",
    "! kubectl delete pod/$MICROSERVICE\n",
    "! kubectl delete service/$MICROSERVICE\n",
    "! rm -rf $MICROSERVICE.py Dockerfile $MICROSERVICE.tar"
   ]
  },
  {
   "cell_type": "code",
   "execution_count": null,
   "id": "59c65658",
   "metadata": {},
   "outputs": [],
   "source": []
  }
 ],
 "metadata": {
  "kernelspec": {
   "display_name": "Python 3 (ipykernel)",
   "language": "python",
   "name": "python3"
  },
  "language_info": {
   "codemirror_mode": {
    "name": "ipython",
    "version": 3
   },
   "file_extension": ".py",
   "mimetype": "text/x-python",
   "name": "python",
   "nbconvert_exporter": "python",
   "pygments_lexer": "ipython3",
   "version": "3.12.3"
  }
 },
 "nbformat": 4,
 "nbformat_minor": 5
}
