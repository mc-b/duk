{
 "cells": [
  {
   "cell_type": "code",
   "execution_count": null,
   "id": "fb7df604",
   "metadata": {},
   "outputs": [],
   "source": [
    "from flask import Flask, jsonify, render_template_string\n",
    "import socket\n",
    "import setproctitle\n",
    "import time\n",
    "\n",
    "# Setzen des Prozessnamens\n",
    "setproctitle.setproctitle(\"catalog\")\n",
    "\n",
    "app = Flask(__name__)"
   ]
  },
  {
   "cell_type": "code",
   "execution_count": null,
   "id": "dd1140d0",
   "metadata": {},
   "outputs": [],
   "source": [
    "products = [\n",
    "    {\"id\": 1, \"name\": \"Land Rover Range Rover\", \"price\": 150000},\n",
    "    {\"id\": 2, \"name\": \"Land Rover Discovery\", \"price\": 100000},\n",
    "    {\"id\": 3, \"name\": \"Land Rover Defender\", \"price\": 120000},\n",
    "    {\"id\": 4, \"name\": \"BMW 3er\", \"price\": 60000},\n",
    "    {\"id\": 5, \"name\": \"BMW X5\", \"price\": 100000},\n",
    "    {\"id\": 6, \"name\": \"BMW i4\", \"price\": 80000},\n",
    "    {\"id\": 7, \"name\": \"Audi A4\", \"price\": 60000},\n",
    "    {\"id\": 8, \"name\": \"Audi Q5\", \"price\": 70000},\n",
    "    {\"id\": 9, \"name\": \"Audi e-tron\", \"price\": 100000},\n",
    "    {\"id\": 10, \"name\": \"Mercedes-Benz C-Klasse\", \"price\": 70000},\n",
    "    {\"id\": 11, \"name\": \"Mercedes-Benz GLE\", \"price\": 100000},\n",
    "    {\"id\": 12, \"name\": \"Mercedes-Benz EQS\", \"price\": 140000},\n",
    "    {\"id\": 13, \"name\": \"Toyota Corolla\", \"price\": 35000},\n",
    "    {\"id\": 14, \"name\": \"Toyota RAV4\", \"price\": 45000},\n",
    "    {\"id\": 15, \"name\": \"Toyota Highlander\", \"price\": 60000},\n",
    "    {\"id\": 16, \"name\": \"Tesla Model 3\", \"price\": 55000},\n",
    "    {\"id\": 17, \"name\": \"Tesla Model Y\", \"price\": 70000},\n",
    "    {\"id\": 18, \"name\": \"Tesla Model S\", \"price\": 130000},\n",
    "    {\"id\": 19, \"name\": \"Ford Mustang\", \"price\": 60000},\n",
    "    {\"id\": 20, \"name\": \"Ford Explorer\", \"price\": 70000},\n",
    "    {\"id\": 21, \"name\": \"Ford F-150\", \"price\": 70000},\n",
    "    {\"id\": 22, \"name\": \"Volkswagen Golf\", \"price\": 45000},\n",
    "    {\"id\": 23, \"name\": \"Volkswagen Tiguan\", \"price\": 50000},\n",
    "    {\"id\": 24, \"name\": \"Volkswagen ID.4\", \"price\": 60000}\n",
    "]"
   ]
  },
  {
   "cell_type": "code",
   "execution_count": null,
   "id": "94cc1c26",
   "metadata": {},
   "outputs": [],
   "source": [
    "\n",
    "\n",
    "@app.route('/catalog/api', methods=['GET'])\n",
    "def get_products():\n",
    "    return jsonify(products)\n",
    "\n",
    "@app.route('/catalog/api/<int:id>')\n",
    "def get_product_by_id(id):\n",
    "    product = next((p for p in products if p['id'] == id), None)\n",
    "    if product:\n",
    "        return jsonify(product)\n",
    "    else:\n",
    "        return jsonify({\"error\": \"Product not found\"}), 404\n",
    "\n",
    "@app.route('/', methods=['GET'])\n",
    "def get_products_html():\n",
    "    hostname = socket.gethostname()\n",
    "    table_rows = ''.join([f'<tr><td>{product[\"id\"]}</td><td>{product[\"name\"]}</td><td>${product[\"price\"]}</td></tr>' for product in products])\n",
    "    return f'''\n",
    "    <html>\n",
    "    <head>\n",
    "        <title>Catalog Service on {hostname}</title>\n",
    "        <link href=\"https://stackpath.bootstrapcdn.com/bootstrap/4.3.1/css/bootstrap.min.css\" rel=\"stylesheet\">\n",
    "    </head>\n",
    "    <body>\n",
    "        <div class=\"container\">\n",
    "            <h1 class=\"mt-4\">Catalog Service on {hostname}</h1>\n",
    "            <p class=\"lead\">List of products</p>\n",
    "            <table class=\"table table-striped\">\n",
    "                <thead>\n",
    "                    <tr>\n",
    "                        <th>ID</th>\n",
    "                        <th>Name</th>\n",
    "                        <th>Price</th>\n",
    "                    </tr>\n",
    "                </thead>\n",
    "                <tbody>\n",
    "                    {table_rows}\n",
    "                </tbody>\n",
    "            </table>\n",
    "        </div>\n",
    "    </body>\n",
    "    </html>\n",
    "    '''\n"
   ]
  },
  {
   "cell_type": "code",
   "execution_count": null,
   "id": "d1860ea9",
   "metadata": {},
   "outputs": [],
   "source": [
    "\n",
    "if __name__ == '__main__':\n",
    "    app.run(host='0.0.0.0', port=8080)"
   ]
  },
  {
   "cell_type": "code",
   "execution_count": null,
   "id": "87794cb6",
   "metadata": {},
   "outputs": [],
   "source": []
  }
 ],
 "metadata": {
  "kernelspec": {
   "display_name": "Python 3 (ipykernel)",
   "language": "python",
   "name": "python3"
  },
  "language_info": {
   "codemirror_mode": {
    "name": "ipython",
    "version": 3
   },
   "file_extension": ".py",
   "mimetype": "text/x-python",
   "name": "python",
   "nbconvert_exporter": "python",
   "pygments_lexer": "ipython3",
   "version": "3.12.3"
  }
 },
 "nbformat": 4,
 "nbformat_minor": 5
}
