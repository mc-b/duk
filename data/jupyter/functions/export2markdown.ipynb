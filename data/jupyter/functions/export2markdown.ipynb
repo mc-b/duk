{
 "cells": [
  {
   "cell_type": "markdown",
   "id": "a0ebe7c0",
   "metadata": {},
   "source": [
    "Export to Markdown\n",
    "================\n",
    "\n",
    "Exportiert ein Jupyter Notebook in eine Standard Markdown Datei."
   ]
  },
  {
   "cell_type": "code",
   "execution_count": null,
   "id": "b576ff48",
   "metadata": {},
   "outputs": [],
   "source": [
    "%run export2markdown.py ../k-native/K-native-Broker-IoT.ipynb K-native-Broker-IoT.md"
   ]
  },
  {
   "cell_type": "code",
   "execution_count": null,
   "id": "f99059b2",
   "metadata": {},
   "outputs": [],
   "source": []
  }
 ],
 "metadata": {
  "kernelspec": {
   "display_name": "Python 3 (ipykernel)",
   "language": "python",
   "name": "python3"
  },
  "language_info": {
   "codemirror_mode": {
    "name": "ipython",
    "version": 3
   },
   "file_extension": ".py",
   "mimetype": "text/x-python",
   "name": "python",
   "nbconvert_exporter": "python",
   "pygments_lexer": "ipython3",
   "version": "3.12.3"
  }
 },
 "nbformat": 4,
 "nbformat_minor": 5
}
