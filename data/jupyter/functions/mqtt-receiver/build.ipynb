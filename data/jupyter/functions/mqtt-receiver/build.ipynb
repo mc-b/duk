{
 "cells": [
  {
   "cell_type": "markdown",
   "id": "f645286d",
   "metadata": {},
   "source": [
    "# MQTT Receiver \n",
    "\n",
    "Horcht auf MQTT Topics und leitet diese weiter mittels HTTP POST\n",
    "\n",
    "Diese Notebook erstellt aus dem Notebook `mqtt-receiver` ein Container Image."
   ]
  },
  {
   "cell_type": "code",
   "execution_count": null,
   "id": "438fbddc",
   "metadata": {},
   "outputs": [],
   "source": [
    "%run ../export-notebook.py mqtt-receiver.ipynb mqtt-receiver.py"
   ]
  },
  {
   "cell_type": "code",
   "execution_count": null,
   "id": "ba1c099a",
   "metadata": {},
   "outputs": [],
   "source": [
    "! cat mqtt-receiver.py"
   ]
  },
  {
   "cell_type": "markdown",
   "id": "de763525",
   "metadata": {},
   "source": [
    "Zusätzlich brauchen wir ein `Dockerfile`. \n",
    "\n",
    "Das erstellen wir anhand eines Templates und ersetzen nur den Namen des Python Scripts.\n"
   ]
  },
  {
   "cell_type": "code",
   "execution_count": null,
   "id": "61ee1330",
   "metadata": {},
   "outputs": [],
   "source": [
    "%run ../generate_dockerfile.py mqtt-receiver"
   ]
  },
  {
   "cell_type": "code",
   "execution_count": null,
   "id": "3b20fb94",
   "metadata": {},
   "outputs": [],
   "source": [
    "! cat Dockerfile"
   ]
  },
  {
   "cell_type": "code",
   "execution_count": null,
   "id": "86cdd637",
   "metadata": {},
   "outputs": [],
   "source": [
    "! docker build -t mqtt-receiver ."
   ]
  },
  {
   "cell_type": "code",
   "execution_count": null,
   "id": "be4b9ec4",
   "metadata": {},
   "outputs": [],
   "source": [
    "! docker run -d --rm --name mqtt-receiver -p8081:8080 mqtt-receiver"
   ]
  },
  {
   "cell_type": "markdown",
   "id": "56828f9d",
   "metadata": {},
   "source": [
    "Testen"
   ]
  },
  {
   "cell_type": "code",
   "execution_count": null,
   "id": "8c0e52ea",
   "metadata": {},
   "outputs": [],
   "source": [
    "import paho.mqtt.client as mqtt\n",
    "import argparse\n",
    "\n",
    "# MQTT Broker Informationen\n",
    "broker = \"cloud.tbz.ch\"\n",
    "port = 1883\n",
    "topic = \"default_topic\"\n",
    "\n",
    "# Erstelle einen neuen MQTT-Client\n",
    "client = mqtt.Client()\n",
    "\n",
    "# Verbindung herstellen\n",
    "client.connect(broker, port)\n",
    "\n",
    "# Nachricht veröffentlichen\n",
    "client.publish(topic, \"Testnachricht\")\n",
    "\n",
    "# Trennung vom Broker\n",
    "client.disconnect()\n",
    "\n",
    "print(f\"Nachricht wurde an {broker} auf Thema '{topic}' gesendet.\")"
   ]
  },
  {
   "cell_type": "markdown",
   "id": "c9d020d8",
   "metadata": {},
   "source": [
    "- - -\n",
    "Aufräumen"
   ]
  },
  {
   "cell_type": "code",
   "execution_count": null,
   "id": "b2371836",
   "metadata": {},
   "outputs": [],
   "source": [
    "! docker stop mqtt-receiver"
   ]
  },
  {
   "cell_type": "code",
   "execution_count": null,
   "id": "fb58705a",
   "metadata": {},
   "outputs": [],
   "source": []
  }
 ],
 "metadata": {
  "kernelspec": {
   "display_name": "Python 3 (ipykernel)",
   "language": "python",
   "name": "python3"
  },
  "language_info": {
   "codemirror_mode": {
    "name": "ipython",
    "version": 3
   },
   "file_extension": ".py",
   "mimetype": "text/x-python",
   "name": "python",
   "nbconvert_exporter": "python",
   "pygments_lexer": "ipython3",
   "version": "3.12.3"
  }
 },
 "nbformat": 4,
 "nbformat_minor": 5
}
