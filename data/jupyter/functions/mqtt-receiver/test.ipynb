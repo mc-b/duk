{
 "cells": [
  {
   "cell_type": "markdown",
   "id": "f645286d",
   "metadata": {},
   "source": [
    "# MQTT Receiver (Test)\n",
    "\n",
    "Dieses Notebook testet den `mqtt-receiver`."
   ]
  },
  {
   "cell_type": "code",
   "execution_count": null,
   "id": "8c0e52ea",
   "metadata": {},
   "outputs": [],
   "source": [
    "import paho.mqtt.client as mqtt\n",
    "import argparse\n",
    "\n",
    "# MQTT Broker Informationen\n",
    "broker = \"cloud.tbz.ch\"\n",
    "port = 1883\n",
    "topic = \"default_topic\"\n",
    "\n",
    "# Erstelle einen neuen MQTT-Client\n",
    "client = mqtt.Client()\n",
    "\n",
    "# Verbindung herstellen\n",
    "client.connect(broker, port)\n",
    "\n",
    "# Nachricht veröffentlichen\n",
    "client.publish(topic, \"Testnachricht\")\n",
    "\n",
    "# Trennung vom Broker\n",
    "client.disconnect()\n",
    "\n",
    "print(f\"Nachricht wurde an {broker} auf Thema '{topic}' gesendet.\")"
   ]
  },
  {
   "cell_type": "code",
   "execution_count": null,
   "id": "ea95e4f0",
   "metadata": {},
   "outputs": [],
   "source": []
  },
  {
   "cell_type": "code",
   "execution_count": null,
   "id": "fb58705a",
   "metadata": {},
   "outputs": [],
   "source": []
  }
 ],
 "metadata": {
  "kernelspec": {
   "display_name": "Python 3 (ipykernel)",
   "language": "python",
   "name": "python3"
  },
  "language_info": {
   "codemirror_mode": {
    "name": "ipython",
    "version": 3
   },
   "file_extension": ".py",
   "mimetype": "text/x-python",
   "name": "python",
   "nbconvert_exporter": "python",
   "pygments_lexer": "ipython3",
   "version": "3.12.3"
  }
 },
 "nbformat": 4,
 "nbformat_minor": 5
}
