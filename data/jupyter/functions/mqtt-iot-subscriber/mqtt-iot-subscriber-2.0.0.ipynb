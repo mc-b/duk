{
 "cells": [
  {
   "cell_type": "markdown",
   "id": "02c50c56",
   "metadata": {},
   "source": [
    "# MQTT IoT Subscriber V2.0.0\n",
    "\n",
    "Horcht auf MQTT Topics und leitet diese weiter mittels HTTP POST\n",
    "\n",
    "- - -\n",
    "\n",
    "Als erstes importieren wir die benötigten Libraries"
   ]
  },
  {
   "cell_type": "code",
   "execution_count": null,
   "id": "bebb0156",
   "metadata": {},
   "outputs": [],
   "source": [
    "import os\n",
    "import uuid\n",
    "import json\n",
    "import requests\n",
    "import re\n",
    "import csv\n",
    "import paho.mqtt.client as mqtt\n",
    "from flask import Flask, request, jsonify, render_template_string\n",
    "\n",
    "#  unique UUID per installation\n",
    "%run ~/work/uuid.py"
   ]
  },
  {
   "cell_type": "markdown",
   "id": "2cfc0f2c",
   "metadata": {},
   "source": [
    "Dann folgen die Funktionen um\n",
    "* sich mit dem MQTT Broker zu verbinden \n",
    "* die MQTT Messages via HTTP weiterzureichen"
   ]
  },
  {
   "cell_type": "code",
   "execution_count": null,
   "id": "8831a216",
   "metadata": {},
   "outputs": [],
   "source": [
    "app = Flask(__name__)\n",
    "\n",
    "# Environment variables for configuration\n",
    "MQTT_BROKER = os.getenv('MQTT_BROKER', 'cloud.tbz.ch')\n",
    "MQTT_PORT = int(os.getenv('MQTT_PORT', 1883))\n",
    "\n",
    "# Create a list of topics with UUID\n",
    "desired_topics = [\"iot-alert\", \"iot-pipe\", \"iot-consumer\", \"iot\"]\n",
    "MQTT_TOPICS = [f\"{topic}/{UUID}\" for topic in desired_topics]\n",
    "\n",
    "# List to store received messages\n",
    "received_messages = []\n",
    "\n",
    "# MQTT client setup\n",
    "client = mqtt.Client()\n",
    "\n",
    "def on_connect(client, userdata, flags, rc):\n",
    "    print(f\"Connected to MQTT broker with result code {rc}\")\n",
    "    for topic in MQTT_TOPICS:\n",
    "        client.subscribe(topic)\n",
    "        print(f\"Subscribed to topic: {topic}\")\n",
    "\n",
    "def on_message(client, userdata, msg):\n",
    "    payload = msg.payload.decode('utf-8')\n",
    "    print(f\"Received message on {msg.topic}: {payload}\")\n",
    "    event = {'topic': msg.topic, 'message': payload}\n",
    "    received_messages.insert(0, event)  # Insert at the beginning to keep the latest message on top\n",
    "    \n",
    "    with open('/data/jupyter/mlg/ml-data.csv', 'a', newline='') as csvfile:\n",
    "        csvwriter = csv.writer(csvfile, quoting=csv.QUOTE_NONE, escapechar=' ')\n",
    "        csvwriter.writerow([payload])\n",
    "        \n",
    "    forward_event(client, userdata, msg)\n",
    "\n",
    "client.on_connect = on_connect\n",
    "client.on_message = on_message\n",
    "\n",
    "client.connect(MQTT_BROKER, MQTT_PORT, 60)"
   ]
  },
  {
   "cell_type": "markdown",
   "id": "35c68446",
   "metadata": {},
   "source": [
    "### Broker einrichten\n",
    "\n",
    "Den Broker konfigurieren wir so, dass er fix auf Port 30080 unsere Forwards erwartet"
   ]
  },
  {
   "cell_type": "code",
   "execution_count": null,
   "id": "0105420b",
   "metadata": {},
   "outputs": [],
   "source": [
    "%%bash\n",
    "kubectl patch service broker-ingress -n knative-eventing -p '{\"spec\": {\"type\": \"LoadBalancer\"}}'\n",
    "kubectl patch service broker-ingress -n knative-eventing --type='json' -p '[{\"op\":\"replace\",\"path\":\"/spec/ports/0/nodePort\",\"value\":30080}]'\n",
    "kubectl get svc broker-ingress -n knative-eventing"
   ]
  },
  {
   "cell_type": "code",
   "execution_count": null,
   "id": "c4556124",
   "metadata": {},
   "outputs": [],
   "source": [
    "FORWARD_URL = \"http://localhost:30080/ms-iot/default\"\n",
    "\n",
    "def forward_event(client, userdata, msg):\n",
    "    print(f\"Message received: {msg.payload}\")\n",
    "    \n",
    "    # Split the topic to get the first part before '/'\n",
    "    parts = msg.topic.split('/')\n",
    "    if len(parts) > 1:\n",
    "        base_topic = parts[0]\n",
    "        uuid = parts[1]\n",
    "\n",
    "    headers = {\n",
    "        \"Content-Type\": \"text/plain\",\n",
    "        \"Ce-Id\": \"mqtt-iot.subscriber-2.0.0\",\n",
    "        \"Ce-Specversion\": \"1.0\",\n",
    "        \"Ce-Type\": base_topic,\n",
    "        \"Ce-Source\": \"mqtt-client\",\n",
    "        \"Host\": \"broker-ingress.knative-eventing.svc.cluster.local\"\n",
    "    }\n",
    "\n",
    "    response = requests.post(FORWARD_URL, data=msg.payload, headers=headers)\n",
    "    print(f\"FORWARD_URL: {FORWARD_URL}, topic {base_topic}, payload {msg.payload}, response: {response.status_code}\")"
   ]
  },
  {
   "cell_type": "markdown",
   "id": "60dd8764",
   "metadata": {},
   "source": [
    "Eine Weboberfläche vervollständigen den Microservice"
   ]
  },
  {
   "cell_type": "code",
   "execution_count": null,
   "id": "7e1a5d1c",
   "metadata": {},
   "outputs": [],
   "source": [
    "# HTML template for displaying messages\n",
    "HTML_TEMPLATE = \"\"\"\n",
    "<!DOCTYPE html>\n",
    "<html>\n",
    "<head>\n",
    "    <title>Received MQTT Messages</title>\n",
    "    <style>\n",
    "        body { font-family: Arial, sans-serif; }\n",
    "        h1 { color: #333; }\n",
    "        ul { list-style-type: none; padding: 0; }\n",
    "        li { padding: 10px; margin: 5px 0; background: #f9f9f9; border: 1px solid #ddd; }\n",
    "        li strong { color: #555; }\n",
    "    </style>\n",
    "</head>\n",
    "<body>\n",
    "    <h1>Received MQTT Messages</h1>\n",
    "    <ul>\n",
    "    {% for message in messages %}\n",
    "        <li><strong>{{ message.topic }}</strong>: {{ message.message }}</li>\n",
    "    {% endfor %}\n",
    "    </ul>\n",
    "</body>\n",
    "</html>\n",
    "\"\"\"\n",
    "\n",
    "# Endpoint to display received messages as HTML\n",
    "@app.route('/messages', methods=['GET'])\n",
    "def display_messages():\n",
    "    return render_template_string(HTML_TEMPLATE, messages=received_messages)"
   ]
  },
  {
   "cell_type": "markdown",
   "id": "fba477b1",
   "metadata": {},
   "source": [
    "Zum Schluss starten wir den Microservice auf Port 8080/messages und geben vorher den URL aus:"
   ]
  },
  {
   "cell_type": "code",
   "execution_count": null,
   "id": "e9e7ac30",
   "metadata": {},
   "outputs": [],
   "source": [
    "! echo \"http://$(cat ~/work/server-ip):8080/messages\"\n",
    "\n",
    "if __name__ == '__main__':\n",
    "    # Start the MQTT client loop in a separate thread\n",
    "    client.loop_start()\n",
    "\n",
    "    port = int(os.getenv('PORT', 8080))\n",
    "    app.run(host='0.0.0.0', port=port)"
   ]
  },
  {
   "cell_type": "code",
   "execution_count": null,
   "id": "9191e9fa",
   "metadata": {},
   "outputs": [],
   "source": []
  }
 ],
 "metadata": {
  "kernelspec": {
   "display_name": "Python 3 (ipykernel)",
   "language": "python",
   "name": "python3"
  },
  "language_info": {
   "codemirror_mode": {
    "name": "ipython",
    "version": 3
   },
   "file_extension": ".py",
   "mimetype": "text/x-python",
   "name": "python",
   "nbconvert_exporter": "python",
   "pygments_lexer": "ipython3",
   "version": "3.12.3"
  }
 },
 "nbformat": 4,
 "nbformat_minor": 5
}
