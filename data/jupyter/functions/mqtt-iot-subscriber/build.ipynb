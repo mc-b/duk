{
 "cells": [
  {
   "cell_type": "markdown",
   "id": "f645286d",
   "metadata": {},
   "source": [
    "# MQTT Subscriber Build Script \n",
    "\n",
    "Diese Notebook erstellt aus dem Notebook `mqtt-subscriber` ein Container Image."
   ]
  },
  {
   "cell_type": "code",
   "execution_count": null,
   "id": "438fbddc",
   "metadata": {},
   "outputs": [],
   "source": [
    "%run ../export-notebook.py mqtt-iot-subscriber-2.0.0.ipynb mqtt-iot-subscriber.py"
   ]
  },
  {
   "cell_type": "code",
   "execution_count": null,
   "id": "ba1c099a",
   "metadata": {},
   "outputs": [],
   "source": [
    "! cat mqtt-iot-subscriber.py"
   ]
  },
  {
   "cell_type": "markdown",
   "id": "de763525",
   "metadata": {},
   "source": [
    "Zusätzlich brauchen wir ein `Dockerfile`. \n",
    "\n",
    "Das erstellen wir anhand eines Templates und ersetzen nur den Namen des Python Scripts.\n"
   ]
  },
  {
   "cell_type": "code",
   "execution_count": null,
   "id": "61ee1330",
   "metadata": {},
   "outputs": [],
   "source": [
    "%run ../generate_dockerfile.py mqtt-iot-subscriber"
   ]
  },
  {
   "cell_type": "code",
   "execution_count": null,
   "id": "3b20fb94",
   "metadata": {},
   "outputs": [],
   "source": [
    "! cat Dockerfile"
   ]
  },
  {
   "cell_type": "code",
   "execution_count": null,
   "id": "86cdd637",
   "metadata": {},
   "outputs": [],
   "source": [
    "! docker build -t mqtt-iot-subscriber ."
   ]
  },
  {
   "cell_type": "code",
   "execution_count": null,
   "id": "be4b9ec4",
   "metadata": {},
   "outputs": [],
   "source": [
    "! docker run -d --rm --name mqtt-iot-subscriber -p8081:8080 mqtt-iot-subscriber"
   ]
  },
  {
   "cell_type": "markdown",
   "id": "c9d020d8",
   "metadata": {},
   "source": [
    "- - -\n",
    "Aufräumen"
   ]
  },
  {
   "cell_type": "code",
   "execution_count": null,
   "id": "b2371836",
   "metadata": {},
   "outputs": [],
   "source": [
    "! docker stop mqtt-iot-subscriber"
   ]
  },
  {
   "cell_type": "code",
   "execution_count": null,
   "id": "fb58705a",
   "metadata": {},
   "outputs": [],
   "source": []
  }
 ],
 "metadata": {
  "kernelspec": {
   "display_name": "Python 3 (ipykernel)",
   "language": "python",
   "name": "python3"
  },
  "language_info": {
   "codemirror_mode": {
    "name": "ipython",
    "version": 3
   },
   "file_extension": ".py",
   "mimetype": "text/x-python",
   "name": "python",
   "nbconvert_exporter": "python",
   "pygments_lexer": "ipython3",
   "version": "3.12.3"
  }
 },
 "nbformat": 4,
 "nbformat_minor": 5
}
