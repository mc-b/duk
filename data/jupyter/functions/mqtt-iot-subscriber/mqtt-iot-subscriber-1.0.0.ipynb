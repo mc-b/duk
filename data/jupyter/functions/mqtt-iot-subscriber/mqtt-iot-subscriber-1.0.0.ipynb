{
 "cells": [
  {
   "cell_type": "markdown",
   "id": "02c50c56",
   "metadata": {},
   "source": [
    "# MQTT IoT Subscriber V1.0.0\n",
    "\n",
    "Horcht auf MQTT Topics\n",
    "\n",
    "- - -\n",
    "\n",
    "Als erstes importieren wir die benötigten Libraries"
   ]
  },
  {
   "cell_type": "code",
   "execution_count": null,
   "id": "bebb0156",
   "metadata": {},
   "outputs": [],
   "source": [
    "import os\n",
    "import uuid\n",
    "import json\n",
    "import requests\n",
    "import paho.mqtt.client as mqtt\n",
    "from flask import Flask, request, jsonify, render_template_string\n",
    "\n",
    "#  unique UUID per installation\n",
    "%run ~/work/uuid.py"
   ]
  },
  {
   "cell_type": "markdown",
   "id": "2cfc0f2c",
   "metadata": {},
   "source": [
    "Dann folgen die Funktionen um\n",
    "* sich mit dem MQTT Broker zu verbinden"
   ]
  },
  {
   "cell_type": "code",
   "execution_count": null,
   "id": "8831a216",
   "metadata": {},
   "outputs": [],
   "source": [
    "app = Flask(__name__)\n",
    "\n",
    "# Environment variables for configuration\n",
    "MQTT_BROKER = os.getenv('MQTT_BROKER', 'cloud.tbz.ch')\n",
    "MQTT_PORT = int(os.getenv('MQTT_PORT', 11883))\n",
    "\n",
    "# Create a list of topics with UUID\n",
    "desired_topics = [\"iot-alert\", \"iot-pipe\", \"iot-consumer\"]\n",
    "MQTT_TOPICS = [f\"{topic}/{UUID}\" for topic in desired_topics]\n",
    "\n",
    "# List to store received messages\n",
    "received_messages = []\n",
    "\n",
    "# MQTT client setup\n",
    "client = mqtt.Client()\n",
    "\n",
    "def on_connect(client, userdata, flags, rc):\n",
    "    print(f\"Connected to MQTT broker with result code {rc}\")\n",
    "    for topic in MQTT_TOPICS:\n",
    "        client.subscribe(topic)\n",
    "        print(f\"Subscribed to topic: {topic}\")\n",
    "\n",
    "def on_message(client, userdata, msg):\n",
    "    payload = msg.payload.decode('utf-8')\n",
    "    print(f\"Received message on {msg.topic}: {payload}\")\n",
    "    event = {'topic': msg.topic, 'message': payload}\n",
    "    received_messages.insert(0, event)  # Insert at the beginning to keep the latest message on top\n",
    "\n",
    "client.on_connect = on_connect\n",
    "client.on_message = on_message\n",
    "\n",
    "client.connect(MQTT_BROKER, MQTT_PORT, 60)"
   ]
  },
  {
   "cell_type": "markdown",
   "id": "60dd8764",
   "metadata": {},
   "source": [
    "Eine Weboberfläche vervollständigen den Microservice"
   ]
  },
  {
   "cell_type": "code",
   "execution_count": null,
   "id": "7e1a5d1c",
   "metadata": {},
   "outputs": [],
   "source": [
    "# HTML template for displaying messages\n",
    "HTML_TEMPLATE = \"\"\"\n",
    "<!DOCTYPE html>\n",
    "<html>\n",
    "<head>\n",
    "    <title>Received MQTT Messages</title>\n",
    "    <style>\n",
    "        body { font-family: Arial, sans-serif; }\n",
    "        h1 { color: #333; }\n",
    "        ul { list-style-type: none; padding: 0; }\n",
    "        li { padding: 10px; margin: 5px 0; background: #f9f9f9; border: 1px solid #ddd; }\n",
    "        li strong { color: #555; }\n",
    "    </style>\n",
    "</head>\n",
    "<body>\n",
    "    <h1>Received MQTT Messages</h1>\n",
    "    <ul>\n",
    "    {% for message in messages %}\n",
    "        <li><strong>{{ message.topic }}</strong>: {{ message.message }}</li>\n",
    "    {% endfor %}\n",
    "    </ul>\n",
    "</body>\n",
    "</html>\n",
    "\"\"\"\n",
    "\n",
    "# Endpoint to display received messages as HTML\n",
    "@app.route('/messages', methods=['GET'])\n",
    "def display_messages():\n",
    "    return render_template_string(HTML_TEMPLATE, messages=received_messages)"
   ]
  },
  {
   "cell_type": "markdown",
   "id": "fba477b1",
   "metadata": {},
   "source": [
    "Zum Schluss starten wir den Microservice auf Port 8080/messages und geben vorher den URL aus:"
   ]
  },
  {
   "cell_type": "code",
   "execution_count": null,
   "id": "e9e7ac30",
   "metadata": {},
   "outputs": [],
   "source": [
    "! echo \"http://$(cat ~/work/server-ip):8080/messages\""
   ]
  },
  {
   "cell_type": "code",
   "execution_count": null,
   "id": "b5d24838",
   "metadata": {},
   "outputs": [],
   "source": [
    "if __name__ == '__main__':\n",
    "    # Start the MQTT client loop in a separate thread\n",
    "    client.loop_start()\n",
    "\n",
    "    port = int(os.getenv('PORT', 8080))\n",
    "    app.run(host='0.0.0.0', port=port)"
   ]
  },
  {
   "cell_type": "code",
   "execution_count": null,
   "id": "9191e9fa",
   "metadata": {},
   "outputs": [],
   "source": []
  }
 ],
 "metadata": {
  "kernelspec": {
   "display_name": "Python 3 (ipykernel)",
   "language": "python",
   "name": "python3"
  },
  "language_info": {
   "codemirror_mode": {
    "name": "ipython",
    "version": 3
   },
   "file_extension": ".py",
   "mimetype": "text/x-python",
   "name": "python",
   "nbconvert_exporter": "python",
   "pygments_lexer": "ipython3",
   "version": "3.12.3"
  }
 },
 "nbformat": 4,
 "nbformat_minor": 5
}
