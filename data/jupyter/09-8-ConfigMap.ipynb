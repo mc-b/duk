{
 "cells": [
  {
   "cell_type": "markdown",
   "metadata": {},
   "source": [
    "Übung: ConfigMap\n",
    "---------------------------\n",
    "\n",
    "Am Beispiel von Apache Web Server soll der Einsatz von ConfigMap Demonstriert werden.\n",
    "\n",
    "Zuerst müssen die ConfigMaps mittels `kubectl` erstellt werden. Vorher erstellen wir eine neue Namespace `configmap` um Erstellen Ressourcen von den anderen zu trennen:"
   ]
  },
  {
   "cell_type": "code",
   "execution_count": null,
   "metadata": {},
   "outputs": [],
   "source": [
    "! kubectl create namespace configmap\n",
    "! kubectl create configmap web2 --from-file=index=09-8-ConfigMap/index-2.html -n configmap\n",
    "! kubectl create configmap web1 --from-file=index=09-8-ConfigMap/index-1.html -n configmap\n"
   ]
  },
  {
   "cell_type": "markdown",
   "metadata": {},
   "source": [
    "Die so erstellen ConfigMaps, hätten wir auch im YAML Format beschreiben können. Deshalb geben wir uns diese im YAML Format aus:"
   ]
  },
  {
   "cell_type": "code",
   "execution_count": null,
   "metadata": {},
   "outputs": [],
   "source": [
    "! kubectl get configmap -o yaml"
   ]
  },
  {
   "cell_type": "markdown",
   "metadata": {},
   "source": [
    "Anschliessend sind die Volumes in der YAML Datei so zu setzen, dass sie auf die ConfigMap Keys zugreifen\n",
    "\n",
    "- - -\n",
    "\n",
    "    apiVersion: v1\n",
    "    kind: Pod\n",
    "    metadata:\n",
    "      labels:\n",
    "        app.kubernetes.io/name: web1\n",
    "      name: web1\n",
    "      namespace: configmap  \n",
    "    spec:\n",
    "      containers:\n",
    "      - image: httpd\n",
    "        name: apache\n",
    "        volumeMounts:    \n",
    "         - name: config-volume\n",
    "           mountPath: /usr/local/apache2/htdocs\n",
    "      volumes:\n",
    "        - name: config-volume\n",
    "          configMap:\n",
    "            name: web1\n",
    "            items:\n",
    "            - key: index\n",
    "              path: index.html\n",
    "\n",
    "- - -\n",
    "\n",
    "Dann können wir die Pods und Services erstellen:"
   ]
  },
  {
   "cell_type": "code",
   "execution_count": null,
   "metadata": {},
   "outputs": [],
   "source": [
    "! kubectl apply -f 09-8-ConfigMap"
   ]
  },
  {
   "cell_type": "markdown",
   "metadata": {},
   "source": [
    "Die Ausgaben der Web Server mit den jeweiligen `index.html` Dateien bzw. ConfigMap schauen wir uns an:"
   ]
  },
  {
   "cell_type": "code",
   "execution_count": null,
   "metadata": {},
   "outputs": [],
   "source": [
    "! echo \"Web Server 1: \" $(kubectl config view -o=jsonpath='{ .clusters[0].cluster.server }' | sed -e 's/https:/http:/' -e \"s/6443/$(kubectl get service web1 -n configmap -o=jsonpath='{ .spec.ports[0].nodePort }')/\")\n",
    "! echo \"Web Server 2: \" $(kubectl config view -o=jsonpath='{ .clusters[0].cluster.server }' | sed -e 's/https:/http:/' -e \"s/6443/$(kubectl get service web2 -n configmap -o=jsonpath='{ .spec.ports[0].nodePort }')/\")\n"
   ]
  },
  {
   "cell_type": "markdown",
   "metadata": {},
   "source": [
    "Und wir schauen uns Verzeichnis und Dateiinhalt an, wie die Pods diese sehen:"
   ]
  },
  {
   "cell_type": "code",
   "execution_count": null,
   "metadata": {},
   "outputs": [],
   "source": [
    "! kubectl exec -n configmap web1 -- ls -la /usr/local/apache2/htdocs"
   ]
  },
  {
   "cell_type": "code",
   "execution_count": null,
   "metadata": {},
   "outputs": [],
   "source": [
    "! kubectl exec -n configmap web1 -- cat /usr/local/apache2/htdocs/index.html"
   ]
  },
  {
   "cell_type": "markdown",
   "metadata": {},
   "source": [
    "Aufräumen"
   ]
  },
  {
   "cell_type": "code",
   "execution_count": null,
   "metadata": {},
   "outputs": [],
   "source": [
    "! kubectl delete namespace configmap"
   ]
  },
  {
   "cell_type": "code",
   "execution_count": null,
   "metadata": {},
   "outputs": [],
   "source": []
  }
 ],
 "metadata": {
  "kernelspec": {
   "display_name": "Python 3",
   "language": "python",
   "name": "python3"
  },
  "language_info": {
   "codemirror_mode": {
    "name": "ipython",
    "version": 3
   },
   "file_extension": ".py",
   "mimetype": "text/x-python",
   "name": "python",
   "nbconvert_exporter": "python",
   "pygments_lexer": "ipython3",
   "version": "3.7.3"
  }
 },
 "nbformat": 4,
 "nbformat_minor": 2
}
