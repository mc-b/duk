{
 "cells": [
  {
   "cell_type": "markdown",
   "metadata": {},
   "source": [
    "Übung: Secrets\n",
    "----------------------\n",
    "\n",
    "Am Beispiel von MySQL soll der Einsatz von Secrets Demonstriert werden.\n",
    "\n",
    "Zuerst müssen die Secrets mittels `kubectl` erstellt werden:"
   ]
  },
  {
   "cell_type": "code",
   "execution_count": 13,
   "metadata": {},
   "outputs": [
    {
     "name": "stdout",
     "output_type": "stream",
     "text": [
      "secret/mysql-pass created\n",
      "secret/mysql-user-pass created\n"
     ]
    }
   ],
   "source": [
    "! kubectl create secret generic mysql-pass --from-literal=password=admin\n",
    "! kubectl create secret generic mysql-user-pass --from-literal=password=secret"
   ]
  },
  {
   "cell_type": "code",
   "execution_count": 14,
   "metadata": {},
   "outputs": [
    {
     "name": "stdout",
     "output_type": "stream",
     "text": [
      "NAME                  TYPE                                  DATA   AGE\r\n",
      "default-token-dtkgr   kubernetes.io/service-account-token   3      8d\r\n",
      "mysql-pass            Opaque                                1      1s\r\n",
      "mysql-user-pass       Opaque                                1      0s\r\n"
     ]
    }
   ],
   "source": [
    "! kubectl get secrets"
   ]
  },
  {
   "cell_type": "markdown",
   "metadata": {},
   "source": [
    "Anschliessend sind die Umgebungsvariablen in der YAML Datei so zu setzen, dass sie auf die Secret Werte zugreifen\n",
    "\n",
    "        env:\n",
    "        - name: MYSQL_ROOT_PASSWORD\n",
    "          valueFrom:\n",
    "           secretKeyRef:\n",
    "            name: mysql-pass\n",
    "            key: password\n",
    "            \n",
    "        - name: MYSQL_PASSWORD\n",
    "          valueFrom:\n",
    "           secretKeyRef:\n",
    "            name: mysql-user-pass\n",
    "            key: password\n",
    "\n",
    "Die anderen Werte, wie Username können fix in der YAML Datei gesetzt werden:\n",
    "\n",
    "        env:\n",
    "        - name: MYSQL_USER\n",
    "          value: test\n",
    "        - name: MYSQL_DATABASE\n",
    "          value: test "
   ]
  },
  {
   "cell_type": "code",
   "execution_count": 15,
   "metadata": {},
   "outputs": [
    {
     "name": "stdout",
     "output_type": "stream",
     "text": [
      "service/mysql created\r\n",
      "deployment.apps/mysql created\r\n"
     ]
    }
   ],
   "source": [
    "! kubectl create -f 09-7-Secrets/mysql.yaml"
   ]
  },
  {
   "cell_type": "markdown",
   "metadata": {},
   "source": [
    "Zum Testen verwenden wir [adminer](https://www.adminer.org/de/).\n",
    "\n",
    "Der Server (Hostname) ist `mysql`, Username, Password und Datenbank ergibt sich aus vorheriger Konfiguration."
   ]
  },
  {
   "cell_type": "code",
   "execution_count": 17,
   "metadata": {},
   "outputs": [
    {
     "name": "stdout",
     "output_type": "stream",
     "text": [
      "Error from server (AlreadyExists): error when creating \"https://raw.githubusercontent.com/mc-b/duk/master/mysql/adminer.yaml\": services \"adminer\" already exists\n",
      "Error from server (AlreadyExists): error when creating \"https://raw.githubusercontent.com/mc-b/duk/master/mysql/adminer.yaml\": deployments.apps \"adminer\" already exists\n",
      "http://192.168.178.200:31929"
     ]
    }
   ],
   "source": [
    "! kubectl create -f https://raw.githubusercontent.com/mc-b/duk/master/mysql/adminer.yaml\n",
    "! kubectl config view -o=jsonpath='{ .clusters[0].cluster.server }' | sed -e 's/https:/http:/' -e \"s/6443/$(kubectl get service adminer -o=jsonpath='{ .spec.ports[0].nodePort }')/\"\n"
   ]
  },
  {
   "cell_type": "markdown",
   "metadata": {},
   "source": [
    "Aufräumen"
   ]
  },
  {
   "cell_type": "code",
   "execution_count": 18,
   "metadata": {},
   "outputs": [
    {
     "name": "stdout",
     "output_type": "stream",
     "text": [
      "service \"mysql\" deleted\n",
      "deployment.apps \"mysql\" deleted\n",
      "service \"adminer\" deleted\n",
      "deployment.apps \"adminer\" deleted\n",
      "secret \"mysql-pass\" deleted\n",
      "secret \"mysql-user-pass\" deleted\n"
     ]
    }
   ],
   "source": [
    "! kubectl delete -f 09-7-Secrets/mysql.yaml\n",
    "! kubectl delete -f https://raw.githubusercontent.com/mc-b/duk/master/mysql/adminer.yaml\n",
    "! kubectl delete secret mysql-pass\n",
    "! kubectl delete secret mysql-user-pass"
   ]
  },
  {
   "cell_type": "code",
   "execution_count": null,
   "metadata": {},
   "outputs": [],
   "source": []
  }
 ],
 "metadata": {
  "kernelspec": {
   "display_name": "Python 3",
   "language": "python",
   "name": "python3"
  },
  "language_info": {
   "codemirror_mode": {
    "name": "ipython",
    "version": 3
   },
   "file_extension": ".py",
   "mimetype": "text/x-python",
   "name": "python",
   "nbconvert_exporter": "python",
   "pygments_lexer": "ipython3",
   "version": "3.6.5"
  }
 },
 "nbformat": 4,
 "nbformat_minor": 2
}
