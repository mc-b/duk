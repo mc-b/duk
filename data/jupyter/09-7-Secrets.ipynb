{
 "cells": [
  {
   "cell_type": "markdown",
   "metadata": {},
   "source": [
    "Übung: Secrets\n",
    "----------------------\n",
    "\n",
    "Am Beispiel von MySQL soll der Einsatz von Secrets Demonstriert werden.\n",
    "\n",
    "Zuerst müssen die Secrets mittels `kubectl` erstellt werden:"
   ]
  },
  {
   "cell_type": "code",
   "execution_count": null,
   "metadata": {},
   "outputs": [],
   "source": [
    "! kubectl create secret generic mysql-pass --from-literal=password=admin\n",
    "! kubectl create secret generic mysql-user-pass --from-literal=password=secret"
   ]
  },
  {
   "cell_type": "code",
   "execution_count": null,
   "metadata": {},
   "outputs": [],
   "source": [
    "! kubectl get secrets"
   ]
  },
  {
   "cell_type": "markdown",
   "metadata": {},
   "source": [
    "Anschliessend sind die Umgebungsvariablen in der YAML Datei so zu setzen, dass sie auf die Secret Werte zugreifen\n",
    "\n",
    "        env:\n",
    "        - name: MYSQL_ROOT_PASSWORD\n",
    "          valueFrom:\n",
    "           secretKeyRef:\n",
    "            name: mysql-pass\n",
    "            key: password\n",
    "            \n",
    "        - name: MYSQL_PASSWORD\n",
    "          valueFrom:\n",
    "           secretKeyRef:\n",
    "            name: mysql-user-pass\n",
    "            key: password\n",
    "\n",
    "Die anderen Werte, wie Username können fix in der YAML Datei gesetzt werden:\n",
    "\n",
    "        env:\n",
    "        - name: MYSQL_USER\n",
    "          value: test\n",
    "        - name: MYSQL_DATABASE\n",
    "          value: test \n",
    "          \n",
    "**Hinweis**: Die Informationen, welche Umgebungsvariablen wir setzen können, steht in der Dokumentation des Container Images [mysql](https://hub.docker.com/_/mysql)"
   ]
  },
  {
   "cell_type": "code",
   "execution_count": null,
   "metadata": {},
   "outputs": [],
   "source": [
    "! kubectl apply -f 09-7-Secrets/mysql.yaml"
   ]
  },
  {
   "cell_type": "markdown",
   "metadata": {},
   "source": [
    "Zum Testen verwenden wir [adminer](https://www.adminer.org/de/).\n",
    "\n",
    "Der Server (Hostname) ist `mysql`, Username, Password und Datenbank ergibt sich aus vorheriger Konfiguration."
   ]
  },
  {
   "cell_type": "code",
   "execution_count": null,
   "metadata": {},
   "outputs": [],
   "source": [
    "! kubectl apply -f https://raw.githubusercontent.com/mc-b/duk/master/mysql/adminer.yaml\n",
    "! echo \"http://$(cat ~/work/server-ip):$(kubectl get service adminer -o=jsonpath='{ .spec.ports[0].nodePort }')/adminer\""
   ]
  },
  {
   "cell_type": "markdown",
   "metadata": {},
   "source": [
    "- - -\n",
    "\n",
    "### Security (Sicherheit)\n",
    "\n",
    "Das es sich bei [Secrets](https://kubernetes.io/docs/concepts/configuration/secret/) um eine eigene Resource handelt, können wir diese separat Absichern. Z.B. Das Operating darf diese, trotz Zugriff auf das Dashbard, nicht sehen.\n",
    "\n",
    "Wenn aber die Applikation/Datenbank diese als Klartext Umgebungvariablen braucht ist die Sicherheit, spätestens beim Wechseln in den Container, nicht mehr gegeben.\n"
   ]
  },
  {
   "cell_type": "code",
   "execution_count": null,
   "metadata": {},
   "outputs": [],
   "source": [
    "! kubectl exec deployment/mysql -- printenv | grep MYSQL"
   ]
  },
  {
   "attachments": {},
   "cell_type": "markdown",
   "metadata": {},
   "source": [
    "#### Alternativen\n",
    "\n",
    "Dann sind Alternativen gefragt, z.B.\n",
    "\n",
    "* [Hashicorp Vault](https://www.vaultproject.io/)\n",
    "* [Bitnami Sealed Secrets](https://github.com/bitnami-labs/sealed-secrets)\n",
    "\n",
    "Quelle: [5 GitOps Best Practices](https://blog.argoproj.io/5-gitops-best-practices-d95cb0cbe9ff)"
   ]
  },
  {
   "cell_type": "markdown",
   "metadata": {},
   "source": [
    "- - - \n",
    "\n",
    "Aufräumen"
   ]
  },
  {
   "cell_type": "code",
   "execution_count": null,
   "metadata": {},
   "outputs": [],
   "source": [
    "! kubectl delete -f 09-7-Secrets/mysql.yaml\n",
    "! kubectl delete -f https://raw.githubusercontent.com/mc-b/duk/master/mysql/adminer.yaml\n",
    "! kubectl delete secret mysql-pass\n",
    "! kubectl delete secret mysql-user-pass"
   ]
  },
  {
   "cell_type": "code",
   "execution_count": null,
   "metadata": {},
   "outputs": [],
   "source": []
  }
 ],
 "metadata": {
  "kernelspec": {
   "display_name": "Python 3 (ipykernel)",
   "language": "python",
   "name": "python3"
  },
  "language_info": {
   "codemirror_mode": {
    "name": "ipython",
    "version": 3
   },
   "file_extension": ".py",
   "mimetype": "text/x-python",
   "name": "python",
   "nbconvert_exporter": "python",
   "pygments_lexer": "ipython3",
   "version": "3.10.6"
  }
 },
 "nbformat": 4,
 "nbformat_minor": 2
}
