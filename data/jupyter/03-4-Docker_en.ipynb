{
 "cells": [
  {
   "cell_type": "markdown",
   "metadata": {},
   "source": [
    "Exercise: Build and manage dedicated Docker Image booths\n",
    "----------------------------------------------------------------------------------------\n",
    "\n",
    "Now we want to create a Docker image, for this we need a Dockerfile:"
   ]
  },
  {
   "cell_type": "code",
   "execution_count": null,
   "metadata": {},
   "outputs": [],
   "source": [
    "%%bash\n",
    "cat <<%EOF% >Dockerfile\n",
    "#\n",
    "#   Einfache MySQL Umgebung - veraltet nur zu Schulungszwecken!\n",
    "#\n",
    "FROM ubuntu:14.04\n",
    "\n",
    "# root Password setzen, damit kein Dialog erscheint und die Installation haengt!\n",
    "# Security Problem, besser: https://12factor.net/de/config\n",
    "RUN echo 'mysql-server mysql-server/root_password password S3cr3tp4ssw0rd' | debconf-set-selections \n",
    "RUN echo 'mysql-server mysql-server/root_password_again password S3cr3tp4ssw0rd' | debconf-set-selections \n",
    "\n",
    "# Installation\n",
    "RUN apt-get update && apt-get install -y mysql-server\n",
    "\n",
    "# mysql config - Port fuer alle Hosts oeffnen \n",
    "# Wiederspricht Linux Logik alle Ports zu schliessen. Geht aber nicht anders weil jeder Container seine eigene IP-Adresse hat.\n",
    "RUN sed -i -e\"s/^bind-address\\s*=\\s*127.0.0.1/bind-address = 0.0.0.0/\" /etc/mysql/my.cnf\n",
    "\n",
    "# Obsolet, siehe Kubernetes Health Probe Pattern\n",
    "HEALTHCHECK --interval=5m --timeout=3s CMD curl -f localhost:3306 || exit 1\n",
    "\n",
    "# Obsolet, siehe Kubernetes Ressource: Service\n",
    "EXPOSE 3306\n",
    "\n",
    "# Obsolet, siehe Kubernetes PersistenVolumeClaims\n",
    "VOLUME /var/lib/mysql\n",
    "\n",
    "CMD [\"mysqld\"]\n",
    "%EOF%"
   ]
  },
  {
   "cell_type": "markdown",
   "metadata": {},
   "source": [
    "To then build the Docker image"
   ]
  },
  {
   "cell_type": "code",
   "execution_count": null,
   "metadata": {},
   "outputs": [],
   "source": [
    "! docker build -t mysql ."
   ]
  },
  {
   "cell_type": "markdown",
   "metadata": {},
   "source": [
    "We can see the result with `docker image ls`"
   ]
  },
  {
   "cell_type": "code",
   "execution_count": null,
   "metadata": {},
   "outputs": [],
   "source": [
    "! docker image ls"
   ]
  },
  {
   "cell_type": "markdown",
   "metadata": {},
   "source": [
    "The individual build steps can also be made visible"
   ]
  },
  {
   "cell_type": "code",
   "execution_count": null,
   "metadata": {},
   "outputs": [],
   "source": [
    "! docker history mysql"
   ]
  },
  {
   "cell_type": "markdown",
   "metadata": {},
   "source": [
    "***\n",
    "Questions\n",
    "======\n",
    "\n",
    "Answer the questions individually or in groups and compare them with the answers\n",
    "\n",
    "\n",
    "How do I create a container image\n",
    "<details><summary>Answer</summary>\n",
    "docker build\n",
    "</p></details>\n",
    "\n",
    "---\n",
    "\n",
    "Which file contains the contents of the container image?\n",
    "<details><summary>Answer</summary>\n",
    "Dockerfile\n",
    "</p></details>\n",
    "\n",
    "---\n",
    "\n",
    "Which statement is better (see also [The Twelve-Factor App](https://12factor.net/))?\n",
    "* a) Dockerfile should preferably include building (CI) and running services, so everything is in one place and the developer can do everything.\n",
    "* b) The building and execution of services must be strictly separated. So that clean and comprehensible services are created using the CI/CD process.\n",
    "<details><summary>Answer</summary>\n",
    "b)\n",
    "</p></details>\n",
    "\n",
    "---\n",
    "\n",
    "Why should versions `tag` of images always be specified?\n",
    "<details><summary>Answer</summary>\n",
    "Otherwise `latest` is used and so not sure which version is actually used.\n",
    "</p></details>\n",
    "\n",
    "---\n",
    "\n",
    "What is the difference between `docker save`/`docker load` and `docker export`/`docker import`?\n",
    "<details><summary>Answer</summary>\n",
    "save/load ist fÃ¼r Images, export/import fÃ¼r Container.\n",
    "This makes it possible to exchange container images without Docker Registry, e.g. in a bank.\n",
    "</p></details>\n",
    "\n",
    "---"
   ]
  },
  {
   "cell_type": "code",
   "execution_count": null,
   "metadata": {},
   "outputs": [],
   "source": []
  }
 ],
 "metadata": {
  "kernelspec": {
   "display_name": "Python 3",
   "language": "python",
   "name": "python3"
  },
  "language_info": {
   "codemirror_mode": {
    "name": "ipython",
    "version": 3
   },
   "file_extension": ".py",
   "mimetype": "text/x-python",
   "name": "python",
   "nbconvert_exporter": "python",
   "pygments_lexer": "ipython3",
   "version": "3.7.3"
  }
 },
 "nbformat": 4,
 "nbformat_minor": 2
}
