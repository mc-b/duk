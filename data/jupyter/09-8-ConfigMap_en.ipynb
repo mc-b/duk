{
 "cells": [
  {
   "cell_type": "markdown",
   "metadata": {},
   "source": [
    "Exercise: ConfigMap\n",
    "---------------------------\n",
    "\n",
    "The use of ConfigMap is to be demonstrated using the Apache Web Server as an example.\n",
    "\n",
    "First the ConfigMaps have to be created using `kubectl`. Before that, let's create a new namespace `configmap` to separate build resources from the others:"
   ]
  },
  {
   "cell_type": "code",
   "execution_count": null,
   "metadata": {},
   "outputs": [],
   "source": [
    "! kubectl create namespace configmap\n",
    "! kubectl create configmap web2 --from-file=index=09-8-ConfigMap/index-2.html -n configmap\n",
    "! kubectl create configmap web1 --from-file=index=09-8-ConfigMap/index-1.html -n configmap\n"
   ]
  },
  {
   "cell_type": "markdown",
   "metadata": {},
   "source": [
    "We could also have described the ConfigMaps created in this way in YAML format. Therefore we output them in YAML format:"
   ]
  },
  {
   "cell_type": "code",
   "execution_count": null,
   "metadata": {},
   "outputs": [],
   "source": [
    "! kubectl get configmap/web1 -o yaml -n configmap\n",
    "! kubectl get configmap/web2 -o yaml -n configmap"
   ]
  },
  {
   "cell_type": "markdown",
   "metadata": {},
   "source": [
    "The volumes in the YAML file must then be set in such a way that they access the ConfigMap keys\n",
    "\n",
    "- - -\n",
    "\n",
    "    apiVersion: v1\n",
    "    kind: Pod\n",
    "    metadata:\n",
    "      labels:\n",
    "        app.kubernetes.io/name: web1\n",
    "      name: web1\n",
    "      namespace: configmap  \n",
    "    spec:\n",
    "      containers:\n",
    "      - image: httpd\n",
    "        name: apache\n",
    "        volumeMounts:    \n",
    "         - name: config-volume\n",
    "           mountPath: /usr/local/apache2/htdocs\n",
    "      volumes:\n",
    "        - name: config-volume\n",
    "          configMap:\n",
    "            name: web1\n",
    "            items:\n",
    "            - key: index\n",
    "              path: index.html\n",
    "\n",
    "- - -\n",
    "\n",
    "Then we can create the pods and services:"
   ]
  },
  {
   "cell_type": "code",
   "execution_count": null,
   "metadata": {},
   "outputs": [],
   "source": [
    "! kubectl apply -f 09-8-ConfigMap -n configmap\n",
    "! kubectl get services --namespace configmap"
   ]
  },
  {
   "cell_type": "markdown",
   "metadata": {},
   "source": [
    "We look at the output of the web server with the respective index.html files or ConfigMap"
   ]
  },
  {
   "cell_type": "code",
   "execution_count": null,
   "metadata": {},
   "outputs": [],
   "source": [
    "! echo \"Web Server 1: http://$(cat ~/work/server-ip):$(kubectl get service web1 -n configmap -o=jsonpath='{ .spec.ports[0].nodePort }')\"\n",
    "! echo \"Web Server 2: http://$(cat ~/work/server-ip):$(kubectl get service web2 -n configmap -o=jsonpath='{ .spec.ports[0].nodePort }')\""
   ]
  },
  {
   "cell_type": "markdown",
   "metadata": {},
   "source": [
    "And we look at the directory and file contents as the pods see them:"
   ]
  },
  {
   "cell_type": "code",
   "execution_count": null,
   "metadata": {},
   "outputs": [],
   "source": [
    "! kubectl exec -n configmap web1 -- ls -la /usr/local/apache2/htdocs"
   ]
  },
  {
   "cell_type": "code",
   "execution_count": null,
   "metadata": {},
   "outputs": [],
   "source": [
    "! kubectl exec -n configmap web1 -- cat /usr/local/apache2/htdocs/index.html"
   ]
  },
  {
   "cell_type": "code",
   "execution_count": null,
   "metadata": {},
   "outputs": [],
   "source": []
  },
  {
   "cell_type": "markdown",
   "metadata": {},
   "source": [
    "- - -\n",
    "Clean up"
   ]
  },
  {
   "cell_type": "code",
   "execution_count": null,
   "metadata": {},
   "outputs": [],
   "source": [
    "! kubectl delete namespace configmap"
   ]
  },
  {
   "cell_type": "code",
   "execution_count": null,
   "metadata": {},
   "outputs": [],
   "source": []
  }
 ],
 "metadata": {
  "kernelspec": {
   "display_name": "Python 3 (ipykernel)",
   "language": "python",
   "name": "python3"
  },
  "language_info": {
   "codemirror_mode": {
    "name": "ipython",
    "version": 3
   },
   "file_extension": ".py",
   "mimetype": "text/x-python",
   "name": "python",
   "nbconvert_exporter": "python",
   "pygments_lexer": "ipython3",
   "version": "3.9.6"
  }
 },
 "nbformat": 4,
 "nbformat_minor": 2
}
