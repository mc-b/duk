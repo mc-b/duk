{
 "cells": [
  {
   "cell_type": "markdown",
   "metadata": {},
   "source": [
    "Übung: Rolling Update \n",
    "-----------------\n",
    "\n",
    "In dieser Übung erstellen wir mehrere Pods ab dem gleichen Image mit jeweils einem ReplicaSet, Deployment, Service und **Ingress**.\n",
    "\n",
    "Das passiert in einer eigenen Namespace um die Resultate gezielt Darstellen zu können:"
   ]
  },
  {
   "cell_type": "code",
   "execution_count": null,
   "metadata": {},
   "outputs": [],
   "source": [
    "! kubectl create namespace depl"
   ]
  },
  {
   "cell_type": "markdown",
   "metadata": {},
   "source": [
    "Wir Erzeugen den Pod, ReplicaSet, Deployment und Service.\n",
    "\n",
    "Für das `Replica-Set` genügt eine Angabe `replica: 5`.\n",
    "\n",
    "Die Pods folgen ab `spec.containers`.\n",
    "\n",
    "Mittels `---` können mehrere Ressourcen in einer Datei zusammengefasst werden. Hier Deployment und Service."
   ]
  },
  {
   "cell_type": "code",
   "execution_count": null,
   "metadata": {
    "scrolled": true
   },
   "outputs": [],
   "source": [
    "%%bash\n",
    "cat <<%EOF% | kubectl --namespace depl apply -f -\n",
    "apiVersion: v1\n",
    "kind: Service\n",
    "metadata:\n",
    "  name: webshop\n",
    "  labels:\n",
    "    app: webshop\n",
    "    group: web\n",
    "    tier: frontend\n",
    "spec:\n",
    "  ports:\n",
    "  - port: 80\n",
    "    targetPort: 80  \n",
    "    protocol: TCP\n",
    "  selector:\n",
    "    app: webshop\n",
    "  type: LoadBalancer          \n",
    "---\n",
    "apiVersion: apps/v1\n",
    "kind: Deployment\n",
    "metadata:\n",
    "  name: webshop\n",
    "spec:\n",
    "  replicas: 5\n",
    "  selector:\n",
    "    matchLabels:\n",
    "      app: webshop\n",
    "  template:\n",
    "    metadata:\n",
    "      labels:\n",
    "        app: webshop\n",
    "        group: web\n",
    "        tier: frontend\n",
    "    spec:\n",
    "      containers:\n",
    "      - name: webshop\n",
    "        image: registry.gitlab.com/ch-mc-b/autoshop/shop:1.0.0\n",
    "        imagePullPolicy: IfNotPresent        \n",
    "        ports:\n",
    "        - containerPort: 80\n",
    "          name: webshop\n",
    "%EOF%"
   ]
  },
  {
   "cell_type": "markdown",
   "metadata": {},
   "source": [
    "Zur Kontrolle geben wir die Erzeugten Ressourcen aus:"
   ]
  },
  {
   "cell_type": "code",
   "execution_count": null,
   "metadata": {},
   "outputs": [],
   "source": [
    "# ! kubectl get pod,deployment,replicaset,service --namespace depl -o wide\n",
    "! kube-lineage --namespace depl deployment webshop -d 2 --exclude-types events "
   ]
  },
  {
   "cell_type": "markdown",
   "metadata": {},
   "source": [
    "Schauen wir uns zuerst die Ausgabe des laufenden Pods an, diesmal über den URL des Kubernetes API Servers und den via Ingress Ressourcen angehängten Prefix.\n",
    "\n",
    "Der Prefix `frontend` ist fix in der Ingress Ressource hinterlegt, `index.html` ergibt sich wie der Container aufgebaut ist (Apache Server mit einer HTML Datei)."
   ]
  },
  {
   "cell_type": "code",
   "execution_count": null,
   "metadata": {},
   "outputs": [],
   "source": [
    "! echo \"BPMN Frontend: http://$(cat ~/work/server-ip):$(kubectl get service --namespace depl webshop -o=jsonpath='{ .spec.ports[0].nodePort }')/frontend/index.html\""
   ]
  },
  {
   "cell_type": "markdown",
   "metadata": {},
   "source": [
    "Wir wollen jedoch nicht die letzte (`1.0.0`) Version von `webshop` sondern die Version `2.0.0`, deshalb führen wir einen Rolling Update durch, bzw. Ändern die Versionsnummer hinter dem Imagenamen."
   ]
  },
  {
   "cell_type": "code",
   "execution_count": null,
   "metadata": {},
   "outputs": [],
   "source": [
    "! kubectl set image deployment/webshop webshop=registry.gitlab.com/ch-mc-b/autoshop/shop:1.0.0 --namespace depl"
   ]
  },
  {
   "cell_type": "markdown",
   "metadata": {},
   "source": [
    "Die Änderungen können wir uns Anzeigen lassen:"
   ]
  },
  {
   "cell_type": "code",
   "execution_count": null,
   "metadata": {},
   "outputs": [],
   "source": [
    "#! kubectl get pod,deployment,replicaset,service --namespace depl -o wide   # Unuebersichtlich!\n",
    "#! kubectl describe deployment/webshop --namespace depl\n",
    "! kube-lineage --namespace depl deployment webshop -d 2  "
   ]
  },
  {
   "cell_type": "code",
   "execution_count": null,
   "metadata": {},
   "outputs": [],
   "source": [
    "! echo \"BPMN Frontend: http://$(cat ~/work/server-ip):$(kubectl get service --namespace depl webshop -o=jsonpath='{ .spec.ports[0].nodePort }')/frontend/index.html\""
   ]
  },
  {
   "cell_type": "markdown",
   "metadata": {},
   "source": [
    "Neu sollte im Titel die Versionnummer `2.0.0` angezeigt werden."
   ]
  },
  {
   "cell_type": "markdown",
   "metadata": {},
   "source": [
    "- - -\n",
    "\n",
    "RollOut\n",
    "-----------\n",
    "\n",
    "Wenn die neue Version der Software nicht wie erwartet funktoniert, können wir zur vorherigen Version zurückkehren.\n",
    "\n",
    "Dies ist möglich, weil Kubernetes den Rollout-Verlauf von Deployment in Form von Revisionen speichert .\n"
   ]
  },
  {
   "cell_type": "code",
   "execution_count": null,
   "metadata": {},
   "outputs": [],
   "source": [
    "! kubectl rollout history deployment/webshop --namespace depl"
   ]
  },
  {
   "cell_type": "markdown",
   "metadata": {},
   "source": [
    "Es sollten zwei Revisionen angezeigt werden. Die aktuelle ist die Revision 2.\n",
    "\n",
    "Um auf die vorherige Revision zurück zu kehren, verwenden wir:"
   ]
  },
  {
   "cell_type": "code",
   "execution_count": null,
   "metadata": {},
   "outputs": [],
   "source": [
    "! kubectl rollout undo deployment/webshop --namespace depl"
   ]
  },
  {
   "cell_type": "code",
   "execution_count": null,
   "metadata": {},
   "outputs": [],
   "source": [
    "! kubectl rollout history deployment/webshop --namespace depl"
   ]
  },
  {
   "cell_type": "markdown",
   "metadata": {},
   "source": [
    "Aufräumen"
   ]
  },
  {
   "cell_type": "code",
   "execution_count": null,
   "metadata": {},
   "outputs": [],
   "source": [
    "! kubectl delete namespace depl"
   ]
  },
  {
   "cell_type": "markdown",
   "metadata": {},
   "source": [
    "***\n",
    "Fragen\n",
    "======\n",
    "\n",
    "Beantwortet die Fragen einzeln oder in der Gruppe und vergleicht diese mit den Antworten\n",
    "\n",
    "---\n",
    "\n",
    "Was ist die Aufgabe eines ReplicaSets?\n",
    "<details><summary>Antwort</summary><p>  \n",
    "Stellt sicher, dass N Pods laufen sind es zu wenig, werden neue gestartet, sind es zu viele werden Pods beendet, gruppiert durch den Label Selector\n",
    "</p></details>\n",
    "\n",
    "---\n",
    "\n",
    "Für was können Deployments verwendet werden?\n",
    "<details><summary>Antwort</summary><p>  \n",
    "Ermöglichen Deklarative Updates von Container Images in Pods. \n",
    "</p></details>\n",
    "\n",
    "---"
   ]
  },
  {
   "cell_type": "code",
   "execution_count": null,
   "metadata": {},
   "outputs": [],
   "source": []
  }
 ],
 "metadata": {
  "kernelspec": {
   "display_name": "Python 3 (ipykernel)",
   "language": "python",
   "name": "python3"
  },
  "language_info": {
   "codemirror_mode": {
    "name": "ipython",
    "version": 3
   },
   "file_extension": ".py",
   "mimetype": "text/x-python",
   "name": "python",
   "nbconvert_exporter": "python",
   "pygments_lexer": "ipython3",
   "version": "3.10.6"
  }
 },
 "nbformat": 4,
 "nbformat_minor": 4
}
