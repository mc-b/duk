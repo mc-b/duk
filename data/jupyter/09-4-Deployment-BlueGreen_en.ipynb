{
 "cells": [
  {
   "cell_type": "markdown",
   "metadata": {},
   "source": [
    "Exercise: Blue/Green Deployments\n",
    "-----------------\n",
    "\n",
    "In this exercise we will perform a blue/green deployment.\n",
    "\n",
    "For this purpose, another deployment is created with the new version of the BPMN frontend and switched back and forth between the versions by changing the control of the service.\n",
    "\n",
    "This happens in a separate namespace to be able to display the results in a targeted manner:"
   ]
  },
  {
   "cell_type": "code",
   "execution_count": null,
   "metadata": {},
   "outputs": [],
   "source": [
    "! kubectl create namespace bluegreen"
   ]
  },
  {
   "cell_type": "markdown",
   "metadata": {},
   "source": [
    "Deployment and Services has been split into separate files. The Ingress resource, omitted for simplicity.\n",
    "\n",
    "A version specification has been added to the labels and the image:\n",
    "\n",
    "    apiVersion: v1\n",
    "    kind: Service\n",
    "    metadata:\n",
    "      name: bpmn-frontend\n",
    "      labels:\n",
    "        app: bpmn-frontend\n",
    "    spec:\n",
    "      ...\n",
    "      selector:\n",
    "        app: bpmn-frontend\n",
    "        version: \"0.2\"    \n",
    "        \n",
    "- - -\n",
    "\n",
    "    apiVersion: apps/v1\n",
    "    kind: Deployment\n",
    "    metadata:\n",
    "      name: bpmn-frontend\n",
    "      version: 0.2\n",
    "    ...\n",
    "    spec:\n",
    "      containers:\n",
    "      - name: bpmn-frontend\n",
    "        image: registry.gitlab.com/mc-b/misegr/misegr/bpmn-frontend:V0.2\n",
    "        imagePullPolicy: IfNotPresent       \n",
    "\n"
   ]
  },
  {
   "cell_type": "code",
   "execution_count": null,
   "metadata": {
    "scrolled": true
   },
   "outputs": [],
   "source": [
    "! kubectl apply -f 09-4-Deployment/bpmn-frontend-deployment-green.yaml --namespace bluegreen\n",
    "! kubectl apply -f 09-4-Deployment/bpmn-frontend-service-green.yaml --namespace bluegreen"
   ]
  },
  {
   "cell_type": "markdown",
   "metadata": {},
   "source": [
    "The result, for the time being, does not differ from a normal deployment"
   ]
  },
  {
   "cell_type": "code",
   "execution_count": null,
   "metadata": {},
   "outputs": [],
   "source": [
    "! kubectl get all --namespace bluegreen\n",
    "! echo \"BPMN Frontend: http://$(cat ~/work/server-ip):$(kubectl get service --namespace bluegreen bpmn-frontend -o=jsonpath='{ .spec.ports[0].nodePort }')/frontend/index.html\""
   ]
  },
  {
   "cell_type": "markdown",
   "metadata": {},
   "source": [
    "- - -\n",
    "\n",
    "For the **blue** deployment we only create a deployment but no service:"
   ]
  },
  {
   "cell_type": "code",
   "execution_count": null,
   "metadata": {},
   "outputs": [],
   "source": [
    "! kubectl apply -f 09-4-Deployment/bpmn-frontend-deployment-blue.yaml --namespace bluegreen\n",
    "! kubectl get all --namespace bluegreen -o wide"
   ]
  },
  {
   "cell_type": "markdown",
   "metadata": {},
   "source": [
    "The service is heading towards the **green** pods.\n",
    "\n",
    "Only after changing the selector to the **blue** version will this be visible to the user\n",
    "\n",
    "        apiVersion: v1\n",
    "        kind: Service\n",
    "        metadata:\n",
    "          name: bpmn-frontend\n",
    "          labels:\n",
    "            app: bpmn-frontend\n",
    "        spec:\n",
    "          ...\n",
    "          selector:\n",
    "            app: bpmn-frontend\n",
    "            version: \"1.0\"\n",
    "        "
   ]
  },
  {
   "cell_type": "code",
   "execution_count": null,
   "metadata": {},
   "outputs": [],
   "source": [
    "! kubectl apply -f 09-4-Deployment/bpmn-frontend-service-blue.yaml --namespace bluegreen"
   ]
  },
  {
   "cell_type": "markdown",
   "metadata": {},
   "source": [
    "The selector does not change anything about the number of resources"
   ]
  },
  {
   "cell_type": "code",
   "execution_count": null,
   "metadata": {},
   "outputs": [],
   "source": [
    "! kubectl get all --namespace bluegreen -o wide"
   ]
  },
  {
   "cell_type": "markdown",
   "metadata": {},
   "source": [
    "- - -\n",
    "After the successful tests of the new version we can delete the **green** deployment."
   ]
  },
  {
   "cell_type": "code",
   "execution_count": null,
   "metadata": {},
   "outputs": [],
   "source": [
    "! kubectl delete -f 09-4-Deployment/bpmn-frontend-deployment-green.yaml --namespace bluegreen\n",
    "! kubectl get all --namespace bluegreen"
   ]
  },
  {
   "cell_type": "markdown",
   "metadata": {},
   "source": [
    "- - -\n",
    "\n",
    "Clean up"
   ]
  },
  {
   "cell_type": "code",
   "execution_count": null,
   "metadata": {},
   "outputs": [],
   "source": [
    "! kubectl delete namespace bluegreen"
   ]
  },
  {
   "cell_type": "code",
   "execution_count": null,
   "metadata": {},
   "outputs": [],
   "source": []
  }
 ],
 "metadata": {
  "kernelspec": {
   "display_name": "Python 3 (ipykernel)",
   "language": "python",
   "name": "python3"
  },
  "language_info": {
   "codemirror_mode": {
    "name": "ipython",
    "version": 3
   },
   "file_extension": ".py",
   "mimetype": "text/x-python",
   "name": "python",
   "nbconvert_exporter": "python",
   "pygments_lexer": "ipython3",
   "version": "3.9.6"
  }
 },
 "nbformat": 4,
 "nbformat_minor": 2
}
