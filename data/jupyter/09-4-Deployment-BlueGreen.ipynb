{
 "cells": [
  {
   "cell_type": "markdown",
   "metadata": {},
   "source": [
    "Übung: Blue/Green Deployments\n",
    "-----------------\n",
    "\n",
    "In dieser Übung führen wir einen Blue/Green Deployment durch.\n",
    "\n",
    "Dazu wird ein weiteres Deployment mit der neuen Version vom BPMN Frontend erstellt und mittels Veränderung der Zusteuerung des Service zwischen den Version hin und her geschaltet.\n",
    "\n",
    "Das passiert in einer eigenen Namespace um die Resultate gezielt Darstellen zu können:"
   ]
  },
  {
   "cell_type": "code",
   "execution_count": null,
   "metadata": {},
   "outputs": [],
   "source": [
    "! kubectl create namespace bluegreen"
   ]
  },
  {
   "cell_type": "markdown",
   "metadata": {},
   "source": [
    "Deployment und Services wurde in einzelne Dateien aufgeteilt. Die Ingress Ressource, aus Einfachheitsgründen weggelassen.\n",
    "\n",
    "Die Labels und das Image wurden um eine Version Angabe erweitert:\n",
    "\n",
    "    apiVersion: v1\n",
    "    kind: Service\n",
    "    metadata:\n",
    "      name: bpmn-frontend\n",
    "      labels:\n",
    "        app: bpmn-frontend\n",
    "    spec:\n",
    "      ...\n",
    "      selector:\n",
    "        app: bpmn-frontend\n",
    "        version: \"0.2\"    \n",
    "        \n",
    "- - -\n",
    "\n",
    "    apiVersion: apps/v1\n",
    "    kind: Deployment\n",
    "    metadata:\n",
    "      name: bpmn-frontend\n",
    "      version: 0.2\n",
    "    ...\n",
    "    spec:\n",
    "      containers:\n",
    "      - name: bpmn-frontend\n",
    "        image: registry.gitlab.com/mc-b/misegr/misegr/bpmn-frontend:V0.2\n",
    "        imagePullPolicy: IfNotPresent       \n",
    "\n"
   ]
  },
  {
   "cell_type": "code",
   "execution_count": null,
   "metadata": {
    "scrolled": true
   },
   "outputs": [],
   "source": [
    "! kubectl apply -f 09-4-Deployment/bpmn-frontend-deployment-green.yaml --namespace bluegreen\n",
    "! kubectl apply -f 09-4-Deployment/bpmn-frontend-service-green.yaml --namespace bluegreen"
   ]
  },
  {
   "cell_type": "markdown",
   "metadata": {},
   "source": [
    "Das Ergebnis unterscheidet sich, vorerst, nicht von einem normalen Deployment"
   ]
  },
  {
   "cell_type": "code",
   "execution_count": null,
   "metadata": {},
   "outputs": [],
   "source": [
    "! kubectl get all --namespace bluegreen\n",
    "! echo \"BPMN Frontend: http://$(cat ~/work/server-ip):$(kubectl get service --namespace bluegreen bpmn-frontend -o=jsonpath='{ .spec.ports[0].nodePort }')/frontend/index.html\""
   ]
  },
  {
   "cell_type": "markdown",
   "metadata": {},
   "source": [
    "- - -\n",
    "\n",
    "Für das **blue** Deployment erstellen wir nur ein Deployment aber kein Service:"
   ]
  },
  {
   "cell_type": "code",
   "execution_count": null,
   "metadata": {},
   "outputs": [],
   "source": [
    "! kubectl apply -f 09-4-Deployment/bpmn-frontend-deployment-blue.yaml --namespace bluegreen\n",
    "! kubectl get all --namespace bluegreen -o wide"
   ]
  },
  {
   "cell_type": "markdown",
   "metadata": {},
   "source": [
    "Der Service steuert auf die **green** Pods zu.\n",
    "\n",
    "Erst nach Ändern des selectors auf die **blue** Version wird diese für den Anwender sichtbar\n",
    "\n",
    "        apiVersion: v1\n",
    "        kind: Service\n",
    "        metadata:\n",
    "          name: bpmn-frontend\n",
    "          labels:\n",
    "            app: bpmn-frontend\n",
    "        spec:\n",
    "          ...\n",
    "          selector:\n",
    "            app: bpmn-frontend\n",
    "            version: \"1.0\"\n",
    "        "
   ]
  },
  {
   "cell_type": "code",
   "execution_count": null,
   "metadata": {},
   "outputs": [],
   "source": [
    "! kubectl apply -f 09-4-Deployment/bpmn-frontend-service-blue.yaml --namespace bluegreen"
   ]
  },
  {
   "cell_type": "markdown",
   "metadata": {},
   "source": [
    "An den Anzahl Ressourcen ändert der Selector nichts"
   ]
  },
  {
   "cell_type": "code",
   "execution_count": null,
   "metadata": {},
   "outputs": [],
   "source": [
    "! kubectl get all --namespace bluegreen -o wide"
   ]
  },
  {
   "cell_type": "markdown",
   "metadata": {},
   "source": [
    "- - -\n",
    "Nach den erfolgreichen Tests der neuen Version können wir das **green** Deployment löschen."
   ]
  },
  {
   "cell_type": "code",
   "execution_count": null,
   "metadata": {},
   "outputs": [],
   "source": [
    "! kubectl delete -f 09-4-Deployment/bpmn-frontend-deployment-green.yaml --namespace bluegreen\n",
    "! kubectl get all --namespace bluegreen"
   ]
  },
  {
   "cell_type": "markdown",
   "metadata": {},
   "source": [
    "- - -\n",
    "\n",
    "Aufräumen"
   ]
  },
  {
   "cell_type": "code",
   "execution_count": null,
   "metadata": {},
   "outputs": [],
   "source": [
    "! kubectl delete namespace bluegreen"
   ]
  },
  {
   "cell_type": "code",
   "execution_count": null,
   "metadata": {},
   "outputs": [],
   "source": []
  }
 ],
 "metadata": {
  "kernelspec": {
   "display_name": "Python 3 (ipykernel)",
   "language": "python",
   "name": "python3"
  },
  "language_info": {
   "codemirror_mode": {
    "name": "ipython",
    "version": 3
   },
   "file_extension": ".py",
   "mimetype": "text/x-python",
   "name": "python",
   "nbconvert_exporter": "python",
   "pygments_lexer": "ipython3",
   "version": "3.9.6"
  }
 },
 "nbformat": 4,
 "nbformat_minor": 2
}
