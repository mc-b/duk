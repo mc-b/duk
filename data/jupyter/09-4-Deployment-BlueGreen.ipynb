{
 "cells": [
  {
   "cell_type": "markdown",
   "metadata": {},
   "source": [
    "Übung: Blue/Green Deployments\n",
    "-----------------\n",
    "\n",
    "In dieser Übung führen wir einen Blue/Green Deployment durch.\n",
    "\n",
    "Dazu werden zwei Deployments von Webshop erstellt und mittels Veränderung der Zusteuerung des Service zwischen den Version hin und her geschaltet.\n",
    "\n",
    "Das passiert in einer eigenen Namespace um die Resultate gezielt Darstellen zu können:"
   ]
  },
  {
   "cell_type": "code",
   "execution_count": null,
   "metadata": {},
   "outputs": [],
   "source": [
    "! kubectl create namespace bluegreen"
   ]
  },
  {
   "cell_type": "markdown",
   "metadata": {},
   "source": [
    "Deployment und Services wurde in einzelne Dateien aufgeteilt. Die Ingress Ressource, aus Einfachheitsgründen weggelassen.\n",
    "\n",
    "Die Labels und das Image wurden um eine Version Angabe erweitert:\n",
    "\n",
    "    apiVersion: v1\n",
    "    kind: Service\n",
    "    metadata:\n",
    "      name: webshop\n",
    "      labels:\n",
    "        app: webshop\n",
    "    spec:\n",
    "      ...\n",
    "      selector:\n",
    "        app: webshop\n",
    "        version: \"1.0.0\"    \n",
    "        \n",
    "- - -\n",
    "\n",
    "    apiVersion: apps/v1\n",
    "    kind: Deployment\n",
    "    metadata:\n",
    "      name: webshop\n",
    "      version: 1.0.0\n",
    "    ...\n",
    "    spec:\n",
    "      containers:\n",
    "      - name: webshop\n",
    "        image: registry.gitlab.com/mc-b/misegr/misegr/webshop:1.0.0\n",
    "        imagePullPolicy: IfNotPresent       \n",
    "\n"
   ]
  },
  {
   "cell_type": "code",
   "execution_count": null,
   "metadata": {
    "scrolled": true
   },
   "outputs": [],
   "source": [
    "! kubectl apply -f 09-4-Deployment/webshop-deployment-blue.yaml --namespace bluegreen\n",
    "! kubectl apply -f 09-4-Deployment/webshop-service-blue.yaml --namespace bluegreen"
   ]
  },
  {
   "cell_type": "markdown",
   "metadata": {},
   "source": [
    "Das Ergebnis unterscheidet sich, vorerst, nicht von einem normalen Deployment"
   ]
  },
  {
   "cell_type": "code",
   "execution_count": null,
   "metadata": {},
   "outputs": [],
   "source": [
    "! kubectl get all --namespace bluegreen\n",
    "! echo \"http://$(cat ~/work/server-ip):$(kubectl get service --namespace bluegreen webshop -o=jsonpath='{ .spec.ports[0].nodePort }')\""
   ]
  },
  {
   "cell_type": "markdown",
   "metadata": {},
   "source": [
    "- - -\n",
    "\n",
    "Für das **green** Deployment erstellen wir nur ein Deployment aber kein Service:"
   ]
  },
  {
   "cell_type": "code",
   "execution_count": null,
   "metadata": {},
   "outputs": [],
   "source": [
    "! kubectl apply -f 09-4-Deployment/webshop-deployment-green.yaml --namespace bluegreen\n",
    "! kubectl get all --namespace bluegreen -o wide"
   ]
  },
  {
   "cell_type": "markdown",
   "metadata": {},
   "source": [
    "Der Service steuert auf die **green** Pods zu.\n",
    "\n",
    "Erst nach Ändern des selectors auf die **green** Version wird diese für den Anwender sichtbar\n",
    "\n",
    "        apiVersion: v1\n",
    "        kind: Service\n",
    "        metadata:\n",
    "          name: webshop\n",
    "          labels:\n",
    "            app: webshop\n",
    "        spec:\n",
    "          ...\n",
    "          selector:\n",
    "            app: webshop\n",
    "            version: \"2.0.0\"\n",
    "        "
   ]
  },
  {
   "cell_type": "code",
   "execution_count": null,
   "metadata": {},
   "outputs": [],
   "source": [
    "! kubectl apply -f 09-4-Deployment/webshop-service-green.yaml --namespace bluegreen"
   ]
  },
  {
   "cell_type": "markdown",
   "metadata": {},
   "source": [
    "An den Anzahl Ressourcen ändert der Selector nichts"
   ]
  },
  {
   "cell_type": "code",
   "execution_count": null,
   "metadata": {},
   "outputs": [],
   "source": [
    "! kubectl get all --namespace bluegreen -o wide"
   ]
  },
  {
   "cell_type": "markdown",
   "metadata": {},
   "source": [
    "- - -\n",
    "Nach den erfolgreichen Tests der neuen Version können wir das **blue** Deployment löschen."
   ]
  },
  {
   "cell_type": "code",
   "execution_count": null,
   "metadata": {},
   "outputs": [],
   "source": [
    "! kubectl delete -f 09-4-Deployment/webshop-deployment-blue.yaml --namespace bluegreen\n",
    "! kubectl get all --namespace bluegreen"
   ]
  },
  {
   "cell_type": "markdown",
   "metadata": {},
   "source": [
    "- - -\n",
    "\n",
    "Aufräumen"
   ]
  },
  {
   "cell_type": "code",
   "execution_count": null,
   "metadata": {},
   "outputs": [],
   "source": [
    "! kubectl delete namespace bluegreen"
   ]
  },
  {
   "cell_type": "code",
   "execution_count": null,
   "metadata": {},
   "outputs": [],
   "source": []
  }
 ],
 "metadata": {
  "kernelspec": {
   "display_name": "Python 3 (ipykernel)",
   "language": "python",
   "name": "python3"
  },
  "language_info": {
   "codemirror_mode": {
    "name": "ipython",
    "version": 3
   },
   "file_extension": ".py",
   "mimetype": "text/x-python",
   "name": "python",
   "nbconvert_exporter": "python",
   "pygments_lexer": "ipython3",
   "version": "3.10.12"
  }
 },
 "nbformat": 4,
 "nbformat_minor": 4
}
