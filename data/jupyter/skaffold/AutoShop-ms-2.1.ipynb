{
 "cells": [
  {
   "cell_type": "markdown",
   "id": "ff219777",
   "metadata": {},
   "source": [
    "Skaffold.dev\n",
    "==========\n",
    "\n",
    "![](https://skaffold.dev/images/architecture.png)\n",
    "\n",
    "Quelle: https://skaffold.dev/docs/design/\n",
    "\n",
    "- - - \n",
    "\n",
    "[Skaffold](https://skaffold.dev) ist ein Open-Source-Tool von Google, das den Entwicklungsprozess für Kubernetes-native Anwendungen vereinfacht. Es übernimmt den gesamten Workflow für das Erstellen, Pushen und Bereitstellen deiner Anwendung, sodass du dich auf das Wesentliche konzentrieren kannst: das Schreiben von Code.\n",
    "\n",
    "Mit Skaffold kannst du deine Projekte schnell und wiederholbar entwickeln und bereitstellen, ohne dass eine aufwendige Konfiguration erforderlich ist. Es unterstützt verschiedene Entwicklungsumgebungen und bietet zahlreiche Funktionen wie policy-basierte Image-Tagging, Port-Forwarding, Logging und Dateisynchronisation.\n",
    "\n",
    "- - -\n",
    "\n",
    "Um zu beginnen, müssen wir zuerst die Container Image Registry in microk8s enablen:"
   ]
  },
  {
   "cell_type": "code",
   "execution_count": null,
   "id": "ca7af5b0",
   "metadata": {},
   "outputs": [],
   "source": [
    "! microk8s enable registry"
   ]
  },
  {
   "cell_type": "markdown",
   "id": "8b22d8fb",
   "metadata": {},
   "source": [
    "Kontrollieren ob alles sauber gestartet wurde:"
   ]
  },
  {
   "cell_type": "code",
   "execution_count": null,
   "id": "4bc563ea",
   "metadata": {},
   "outputs": [],
   "source": [
    "! kubectl get pods,service --namespace container-registry"
   ]
  },
  {
   "cell_type": "markdown",
   "id": "2f067c00",
   "metadata": {},
   "source": [
    "Anschliessend stellen wir die Software zusammen.\n",
    "\n",
    "* [autoshop-ms](https://gitlab.com/ch-mc-b/autoshop-ms/app/shop) - im Verzeichnis `shop`\n",
    "* [Kubernetes Deklarationen](https://gitlab.com/ch-mc-b/autoshop-ms/infra/kubernetes-templates) im Verzeichnis `shop/k8s` "
   ]
  },
  {
   "cell_type": "code",
   "execution_count": null,
   "id": "4f3c69c9",
   "metadata": {},
   "outputs": [],
   "source": [
    "%%bash\n",
    "# Clean\n",
    "sudo rm -rf shop/ kubernetes-templates/\n",
    "# Sourcecode\n",
    "git clone --branch v2.1.0 https://gitlab.com/ch-mc-b/autoshop-ms/app/shop.git\n",
    "# Kubernetes Deklarationen\n",
    "git clone https://gitlab.com/ch-mc-b/autoshop-ms/infra/kubernetes-templates.git\n",
    "cp -r kubernetes-templates/2.1.0-deployment/ shop/k8s/\n",
    "cp kubernetes-templates/*-service.yaml kubernetes-templates/*-ingress.yaml shop/k8s/\n",
    "# Registry von Gitlab auf lokale Registry umstellen\n",
    "for yaml in shop/k8s/*-deployment.yaml\n",
    "do\n",
    "    sed -i -e 's;registry.gitlab.com/ch-mc-b/autoshop-ms/app/;localhost:32000/;g' ${yaml}\n",
    "done\n",
    "sudo rm -rf kubernetes-templates shop/.git shop/docker-compose.yml shop/m1\n",
    "ls -l shop\n",
    "cat shop/k8s/order-deployment.yaml"
   ]
  },
  {
   "cell_type": "markdown",
   "id": "f84df692",
   "metadata": {},
   "source": [
    "### Skaffold\n",
    "\n",
    "Als letztes bereiten wie die Deklaration für Skaffold vor.\n",
    "\n",
    "Diese erstellt automatisch \n",
    "* die Container Images, mit `docker`\n",
    "* legt diese in der lokalen Container Registry `localhost:32000` ab\n",
    "* deployt die Container Images nach Kubernetes"
   ]
  },
  {
   "cell_type": "code",
   "execution_count": null,
   "id": "74e68f67",
   "metadata": {},
   "outputs": [],
   "source": [
    "%%bash\n",
    "cat <<EOF >shop/skaffold.yaml\n",
    "apiVersion: skaffold/v4beta11\n",
    "kind: Config\n",
    "metadata:\n",
    "  name: shop-skaffold\n",
    "build:\n",
    "  artifacts:\n",
    "    - image: localhost:32000/shop/catalog\n",
    "      context: catalog\n",
    "      docker:\n",
    "        dockerfile: Dockerfile\n",
    "    - image: localhost:32000/shop/customer\n",
    "      context: customer\n",
    "      docker:\n",
    "        dockerfile: Dockerfile\n",
    "    - image: localhost:32000/shop/order\n",
    "      context: order\n",
    "      docker:\n",
    "        dockerfile: Dockerfile\n",
    "    - image: localhost:32000/shop/shop\n",
    "      context: webshop\n",
    "      docker:\n",
    "        dockerfile: Dockerfile\n",
    "manifests:\n",
    "  rawYaml:\n",
    "    - k8s/catalog-deployment.yaml\n",
    "    - k8s/catalog-service.yaml\n",
    "    - k8s/customer-deployment.yaml\n",
    "    - k8s/customer-service.yaml\n",
    "    - k8s/order-deployment.yaml\n",
    "    - k8s/order-service.yaml\n",
    "    - k8s/webshop-deployment.yaml\n",
    "    - k8s/webshop-ingress.yaml\n",
    "    - k8s/webshop-service.yaml\n",
    "EOF\n"
   ]
  },
  {
   "cell_type": "markdown",
   "id": "03eddf0b",
   "metadata": {},
   "source": [
    "Zuerst lassen wir `skaffold` die Container Images bauen.\n",
    "\n",
    "Diese stehen dann als Container Images in Docker und der Registry (leider nicht durchsuchbar) zur Verfügung:"
   ]
  },
  {
   "cell_type": "code",
   "execution_count": null,
   "id": "b35a5feb",
   "metadata": {},
   "outputs": [],
   "source": [
    "%%bash\n",
    "cd shop; skaffold build --namespace=shop-skaffold\n",
    "docker image ls | grep localhost:32000"
   ]
  },
  {
   "cell_type": "markdown",
   "id": "e215f618",
   "metadata": {},
   "source": [
    "Anschliessend Deployen wir die Container Images in Kubernetes"
   ]
  },
  {
   "cell_type": "code",
   "execution_count": null,
   "id": "c063b61c",
   "metadata": {},
   "outputs": [],
   "source": [
    "%%bash\n",
    "kubectl create namespace shop-skaffold\n",
    "cd shop; skaffold run --namespace=shop-skaffold\n",
    "kubectl get pods,services --namespace=shop-skaffold\n",
    "echo \"http://\"$(cat ~/work/server-ip)\":$(kubectl get service webshop --namespace=shop-skaffold -o=jsonpath='{ .spec.ports[0].nodePort }')/webshop\""
   ]
  },
  {
   "cell_type": "markdown",
   "id": "126a6d72",
   "metadata": {},
   "source": [
    "- - -\n",
    "\n",
    "### Aufräumen"
   ]
  },
  {
   "cell_type": "code",
   "execution_count": null,
   "id": "b4f6c7b8",
   "metadata": {},
   "outputs": [],
   "source": [
    "%%bash\n",
    "cd shop; skaffold delete --namespace=shop-skaffold\n",
    "kubectl delete namespace shop-skaffold"
   ]
  },
  {
   "cell_type": "code",
   "execution_count": null,
   "id": "6b17c940",
   "metadata": {},
   "outputs": [],
   "source": []
  }
 ],
 "metadata": {
  "kernelspec": {
   "display_name": "Python 3 (ipykernel)",
   "language": "python",
   "name": "python3"
  },
  "language_info": {
   "codemirror_mode": {
    "name": "ipython",
    "version": 3
   },
   "file_extension": ".py",
   "mimetype": "text/x-python",
   "name": "python",
   "nbconvert_exporter": "python",
   "pygments_lexer": "ipython3",
   "version": "3.12.3"
  }
 },
 "nbformat": 4,
 "nbformat_minor": 5
}
