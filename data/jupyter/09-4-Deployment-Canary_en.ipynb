{
 "cells": [
  {
   "cell_type": "markdown",
   "metadata": {},
   "source": [
    "Ãœbung: Canary Deployments\n",
    "-----------------\n",
    "\n",
    "In this exercise we will perform a canary deployment.\n",
    "\n",
    "For this purpose, another deployment is created with the new (Canary) version of the BPMN frontend. The service **doesn't** have a selector for the version, so it controls both versions.\n",
    "\n",
    "For simplicity, let's use the Blue/Green YAML files with a new service file.\n",
    "\n",
    "This happens in a separate namespace to be able to display the results in a targeted manner:"
   ]
  },
  {
   "cell_type": "code",
   "execution_count": null,
   "metadata": {},
   "outputs": [],
   "source": [
    "! kubectl create namespace canary"
   ]
  },
  {
   "cell_type": "markdown",
   "metadata": {},
   "source": [
    "Deployment and Services has been split into separate files. The Ingress resource, omitted for simplicity.\n",
    "\n",
    "Only the labels of the deployment and of course the image have been extended by one version:\n",
    "\n",
    "    apiVersion: v1\n",
    "    kind: Service\n",
    "    metadata:\n",
    "      name: bpmn-frontend\n",
    "      labels:\n",
    "        app: bpmn-frontend\n",
    "    spec:\n",
    "      ...\n",
    "      selector:\n",
    "        app: bpmn-frontend\n",
    "        \n",
    "- - -\n",
    "\n",
    "    apiVersion: apps/v1\n",
    "    kind: Deployment\n",
    "    metadata:\n",
    "      name: bpmn-frontend-green\n",
    "      version: 0.2\n",
    "    ...\n",
    "    spec:\n",
    "      containers:\n",
    "      - name: bpmn-frontend\n",
    "        image: registry.gitlab.com/mc-b/misegr/misegr/bpmn-frontend:V0.2\n",
    "        imagePullPolicy: IfNotPresent   \n",
    "        \n",
    "- - -\n",
    "\n",
    "    apiVersion: apps/v1\n",
    "    kind: Deployment\n",
    "    metadata:\n",
    "      name: bpmn-frontend-blue\n",
    "      version: 1.0\n",
    "    ...\n",
    "    spec:\n",
    "      containers:\n",
    "      - name: bpmn-frontend\n",
    "        image: registry.gitlab.com/mc-b/misegr/misegr/bpmn-frontend:V1.0\n",
    "        imagePullPolicy: IfNotPresent         \n",
    "\n",
    "As an exception, we control the number of pods per deployment using `kubectl`."
   ]
  },
  {
   "cell_type": "code",
   "execution_count": null,
   "metadata": {
    "scrolled": true
   },
   "outputs": [],
   "source": [
    "! kubectl apply -f 09-4-Deployment/bpmn-frontend-deployment-green.yaml --namespace canary\n",
    "! kubectl apply -f 09-4-Deployment/bpmn-frontend-deployment-blue.yaml --namespace canary\n",
    "\n",
    "! kubectl scale --replicas=4 deployment/bpmn-frontend-green --namespace canary\n",
    "! kubectl scale --replicas=1 deployment/bpmn-frontend-blue --namespace canary\n",
    "\n",
    "! kubectl apply -f 09-4-Deployment/bpmn-frontend-service-canary.yaml --namespace canary"
   ]
  },
  {
   "cell_type": "markdown",
   "metadata": {},
   "source": [
    "As a result we have two deployments with five pods. Four with version 0.2 and one with version 1."
   ]
  },
  {
   "cell_type": "code",
   "execution_count": null,
   "metadata": {},
   "outputs": [],
   "source": [
    "! kubectl get all --namespace canary -o wide\n",
    "! echo \"BPMN Frontend: http://$(cat ~/work/server-ip):$(kubectl get service --namespace canary bpmn-frontend -o=jsonpath='{ .spec.ports[0].nodePort }')/frontend/index.html\""
   ]
  },
  {
   "cell_type": "markdown",
   "metadata": {},
   "source": [
    "- - -\n",
    "\n",
    "Clean up"
   ]
  },
  {
   "cell_type": "code",
   "execution_count": null,
   "metadata": {},
   "outputs": [],
   "source": [
    "! kubectl delete namespace canary"
   ]
  },
  {
   "cell_type": "code",
   "execution_count": null,
   "metadata": {},
   "outputs": [],
   "source": []
  }
 ],
 "metadata": {
  "kernelspec": {
   "display_name": "Python 3 (ipykernel)",
   "language": "python",
   "name": "python3"
  },
  "language_info": {
   "codemirror_mode": {
    "name": "ipython",
    "version": 3
   },
   "file_extension": ".py",
   "mimetype": "text/x-python",
   "name": "python",
   "nbconvert_exporter": "python",
   "pygments_lexer": "ipython3",
   "version": "3.10.6"
  }
 },
 "nbformat": 4,
 "nbformat_minor": 2
}
