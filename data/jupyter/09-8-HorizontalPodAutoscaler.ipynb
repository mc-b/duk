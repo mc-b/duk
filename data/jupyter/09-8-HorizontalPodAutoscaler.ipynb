{
 "cells": [
  {
   "cell_type": "markdown",
   "metadata": {},
   "source": [
    "Übung Horizontal Pod Autoscaler\n",
    "============================\n",
    "\n",
    "![](https://d33wubrfki0l68.cloudfront.net/4fe1ef7265a93f5f564bd3fbb0269ebd10b73b4e/1775d/images/docs/horizontal-pod-autoscaler.svg)\n",
    "\n",
    "Quelle [Horizontal Pod Autoscaler](https://kubernetes.io/docs/tasks/run-application/horizontal-pod-autoscale/)\n",
    "- - -\n",
    "\n",
    "Der horizontale Pod-Autoscaler skaliert automatisch die Anzahl der Pods in einem ReplicaSet, einem Deployment oder einem StatefulSet.\n",
    "\n",
    "Die Skalierung kann anhand der beobachteten CPU-Auslastung oder mittels benutzerdefinierten Metriken erfolgen. Für Details siehe [hier](https://kubernetes.io/docs/tasks/run-application/horizontal-pod-autoscale/#algorithm-details).\n",
    "\n",
    "Die Metriken kommen von einem separat gestarteten [Metric Server](https://github.com/kubernetes-sigs/metrics-server)."
   ]
  },
  {
   "cell_type": "code",
   "execution_count": null,
   "metadata": {},
   "outputs": [],
   "source": [
    "! kubectl get pods --namespace metrics"
   ]
  },
  {
   "cell_type": "markdown",
   "metadata": {},
   "source": [
    "***\n",
    "Test Image \n",
    "---------------\n",
    "\n",
    "Um den horizontalen Pod-Autoscaler zu demonstrieren, verwenden wir ein benutzerdefiniertes Docker-Image, das auf dem PHP-Apache-Image basiert. Die Docker-Datei hat folgenden Inhalt:\n",
    "\n",
    "    FROM php:5-apache\n",
    "    COPY index.php /var/www/html/index.php\n",
    "    RUN chmod a+rx index.php\n",
    "    \n",
    "Es definiert eine index.php-Seite, die einige CPU-intensive Berechnungen durchführt:\n",
    "\n",
    "    <?php\n",
    "      $x = 0.0001;\n",
    "      for ($i = 0; $i <= 1000000; $i++) {\n",
    "        $x += sqrt($x);\n",
    "      }\n",
    "      echo \"OK!\";\n",
    "    ?>\n",
    "    \n",
    "Zunächst starten wir den Pod, in der das Image ausgeführt wird, und stellen es als Dienst bereit:    "
   ]
  },
  {
   "cell_type": "code",
   "execution_count": null,
   "metadata": {},
   "outputs": [],
   "source": [
    "%%bash\n",
    "cat <<%EOF% | kubectl apply -f -\n",
    "apiVersion: v1\n",
    "kind: Namespace\n",
    "metadata:\n",
    "  name: hpa\n",
    "%EOF%\n",
    "\n",
    "cat <<%EOF% | kubectl apply --namespace hpa -f -\n",
    "apiVersion: apps/v1\n",
    "kind: Deployment\n",
    "metadata:\n",
    "  name: php-apache\n",
    "spec:\n",
    "  selector:\n",
    "    matchLabels:\n",
    "      run: php-apache\n",
    "  replicas: 1\n",
    "  template:\n",
    "    metadata:\n",
    "      labels:\n",
    "        run: php-apache\n",
    "    spec:\n",
    "      containers:\n",
    "      - name: php-apache\n",
    "        image: k8s.gcr.io/hpa-example\n",
    "        ports:\n",
    "        - containerPort: 80\n",
    "        resources:\n",
    "          limits:\n",
    "            cpu: 500m\n",
    "          requests:\n",
    "            cpu: 200m\n",
    "---\n",
    "apiVersion: v1\n",
    "kind: Service\n",
    "metadata:\n",
    "  name: php-apache\n",
    "  labels:\n",
    "    run: php-apache\n",
    "spec:\n",
    "  ports:\n",
    "  - port: 80\n",
    "  selector:\n",
    "    run: php-apache\n",
    "%EOF%\n"
   ]
  },
  {
   "cell_type": "markdown",
   "metadata": {},
   "source": [
    "### Erstellung horizontalen Pod-Autoscaler\n",
    "\n",
    "Nachdem der Server ausgeführt wurde, erstellen wir den Autoscaler. \n",
    "\n",
    "Mit dem folgenden Befehl wird ein horizontaler Pod-Autoscaler erstellt, der zwischen 1 und 10 Instanzen des obigen Pods verwaltet.\n",
    "\n",
    "Grob gesagt wird der HPA die Anzahl der Replikate (via Deployment) erhöhen und verringern, um eine durchschnittliche CPU-Auslastung über alle Pods von 50% aufrechtzuerhalten. "
   ]
  },
  {
   "cell_type": "code",
   "execution_count": null,
   "metadata": {},
   "outputs": [],
   "source": [
    "! kubectl autoscale deployment php-apache --namespace hpa --cpu-percent=50 --min=1 --max=10"
   ]
  },
  {
   "cell_type": "markdown",
   "metadata": {},
   "source": [
    "Wir schauen uns den aktuellen Status unserer Ressourcen an:"
   ]
  },
  {
   "cell_type": "code",
   "execution_count": null,
   "metadata": {},
   "outputs": [],
   "source": [
    "! kubectl get pods --namespace hpa --show-kind=true\n",
    "! kubectl get hpa  --namespace hpa --show-kind=true "
   ]
  },
  {
   "cell_type": "markdown",
   "metadata": {},
   "source": [
    "### Last erhöhen\n",
    "\n",
    "Nun werden wir sehen, wie der Autoscaler auf erhöhte Last reagiert. Wir werden einen Container starten und eine Endlosschleife von Abfragen an den PHP-Apache-Dienst senden."
   ]
  },
  {
   "cell_type": "code",
   "execution_count": null,
   "metadata": {},
   "outputs": [],
   "source": [
    "%%bash\n",
    "cat <<%EOF% | kubectl apply --namespace hpa -f -\n",
    "apiVersion: v1\n",
    "kind: Pod\n",
    "metadata:\n",
    "  labels:\n",
    "    app.kubernetes.io/name: load-generator\n",
    "  name: load-generator\n",
    "spec:\n",
    "  containers:\n",
    "  - image: busybox\n",
    "    name: busybox\n",
    "    command: [ \"/bin/sh\", \"-c\", \"--\" ]\n",
    "    args: [ \"while true; do wget -q -O- http://php-apache; done\" ]\n",
    "%EOF%\n"
   ]
  },
  {
   "cell_type": "markdown",
   "metadata": {},
   "source": [
    "Beim Horizontal Pod Autoscaler sollten wir jetzt eine Last > 50% sehen. Die anzeigte `Last / 50` ergibt die Anzahl Pods die am Schluss laufen müssen."
   ]
  },
  {
   "cell_type": "code",
   "execution_count": null,
   "metadata": {},
   "outputs": [],
   "source": [
    "! kubectl get pods --namespace hpa --show-kind=true\n",
    "! kubectl get hpa  --namespace hpa --show-kind=true "
   ]
  },
  {
   "cell_type": "markdown",
   "metadata": {},
   "source": [
    "Wird der Pods `load-generator` gelöscht, verringert sich die Last und die Anzahl `php-apache` Pods werden wieder zurückgefahren."
   ]
  },
  {
   "cell_type": "code",
   "execution_count": null,
   "metadata": {},
   "outputs": [],
   "source": [
    "! kubectl delete --namespace hpa pod/load-generator"
   ]
  },
  {
   "cell_type": "code",
   "execution_count": null,
   "metadata": {},
   "outputs": [],
   "source": [
    "! kubectl get all,hpa --namespace hpa "
   ]
  },
  {
   "cell_type": "markdown",
   "metadata": {},
   "source": [
    "***\n",
    "Aufräumen"
   ]
  },
  {
   "cell_type": "code",
   "execution_count": null,
   "metadata": {},
   "outputs": [],
   "source": [
    "! kubectl delete namespace hpa"
   ]
  },
  {
   "cell_type": "code",
   "execution_count": null,
   "metadata": {},
   "outputs": [],
   "source": []
  }
 ],
 "metadata": {
  "kernelspec": {
   "display_name": "Python 3",
   "language": "python",
   "name": "python3"
  },
  "language_info": {
   "codemirror_mode": {
    "name": "ipython",
    "version": 3
   },
   "file_extension": ".py",
   "mimetype": "text/x-python",
   "name": "python",
   "nbconvert_exporter": "python",
   "pygments_lexer": "ipython3",
   "version": "3.8.5"
  }
 },
 "nbformat": 4,
 "nbformat_minor": 4
}
