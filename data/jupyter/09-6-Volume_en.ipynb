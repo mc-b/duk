{
 "cells": [
  {
   "cell_type": "markdown",
   "metadata": {},
   "source": [
    "Exercise: Volume and multiple containers in Pod\n",
    "------------------------------------------------------------------\n",
    "\n",
    "![](images/PodContainers.png)\n",
    "\n",
    "Source K8's slides Core primitives and Running Microservices: (https://www.youtube.com/watch?v=A4A7ybtQujA)\n",
    "- - -\n",
    "\n",
    "This exercise demonstrates how two containers within a pod share the `/usr/local/apache2/htdocs` directory.\n",
    "\n",
    "The `apache` container contains the web server and the `file-puller` container writes the `index.html` file to the `/usr/local/apache2/htdocs` directory every 30 seconds.\n",
    "\n",
    "For simplicity, we'll use `emptyDir` as the volume.\n",
    "\n",
    "**Explanations `emptyDir`**\n",
    "\n",
    "The emptyDir volume is created when a pod is assigned to a node.\n",
    "All containers in the pod on this (worker) node can use this emptyDir (simple\n",
    "an empty directory) read and write.\n",
    "\n",
    "The path with which the emptyDir is mounted inside a container can\n",
    "differ within the pod's containers.\n",
    "\n",
    "As soon as a pod is deleted from a node, the contents of the emptyDir\n",
    "completely and irretrievably deleted. Even if the same pod on the same\n",
    "Worker Node is recreated, it can no longer access the volume of its predecessor\n",
    "access. This does not refer to a pod's container crash.\n",
    "\n",
    "Typical use cases for emptyDir volumes could be:\n",
    "* Runtime data of an application (caches), which are saved anyway when the pod is created\n",
    "would have to be regenerated\n",
    "* Passing (runtime) configuration data to all containers within the\n",
    "Pods\n",
    "\n",
    "First we look at the content of the YAML file and then start the resources"
   ]
  },
  {
   "cell_type": "code",
   "execution_count": null,
   "metadata": {},
   "outputs": [],
   "source": [
    "! cat 09-5-Volume/web.yaml"
   ]
  },
  {
   "cell_type": "code",
   "execution_count": null,
   "metadata": {},
   "outputs": [],
   "source": [
    "! kubectl apply -f 09-5-Volume/web.yaml\n",
    "! kubectl get service/web"
   ]
  },
  {
   "cell_type": "markdown",
   "metadata": {},
   "source": [
    "Since we don't have a load balancer, port 80 is simply mapped to 3XXXX (port-based routing).\n",
    "\n",
    "If this URL is opened in a new tab, the time is displayed."
   ]
  },
  {
   "cell_type": "code",
   "execution_count": null,
   "metadata": {},
   "outputs": [],
   "source": [
    "! echo \"http://\"$(cat ~/work/server-ip)\":\"$(kubectl get service web -o=jsonpath='{ .spec.ports[0].nodePort }')"
   ]
  },
  {
   "cell_type": "markdown",
   "metadata": {},
   "source": [
    "And output the generated resources:"
   ]
  },
  {
   "cell_type": "code",
   "execution_count": null,
   "metadata": {},
   "outputs": [],
   "source": [
    "! kubectl get pods,services\n",
    "! echo \"-------- Container -------\"\n",
    "! kubectl get pods -o=jsonpath='{range .items[*]}{\"\\n\"}{.metadata.name}{\":\\t\"}{range .spec.containers[*]}{.image}{\", \"}{end}{end}' |\\\n",
    "sort"
   ]
  },
  {
   "cell_type": "markdown",
   "metadata": {},
   "source": [
    "- - -\n",
    "\n",
    "Clean up"
   ]
  },
  {
   "cell_type": "code",
   "execution_count": null,
   "metadata": {},
   "outputs": [],
   "source": [
    "! kubectl delete -f 09-5-Volume/web.yaml"
   ]
  },
  {
   "cell_type": "code",
   "execution_count": null,
   "metadata": {},
   "outputs": [],
   "source": []
  }
 ],
 "metadata": {
  "kernelspec": {
   "display_name": "Python 3 (ipykernel)",
   "language": "python",
   "name": "python3"
  },
  "language_info": {
   "codemirror_mode": {
    "name": "ipython",
    "version": 3
   },
   "file_extension": ".py",
   "mimetype": "text/x-python",
   "name": "python",
   "nbconvert_exporter": "python",
   "pygments_lexer": "ipython3",
   "version": "3.9.6"
  }
 },
 "nbformat": 4,
 "nbformat_minor": 2
}
