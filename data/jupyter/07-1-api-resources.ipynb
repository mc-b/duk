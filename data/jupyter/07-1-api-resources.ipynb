{
 "cells": [
  {
   "cell_type": "markdown",
   "id": "c4a584c8",
   "metadata": {},
   "source": [
    "# kubectl api-resources\n",
    "\n",
    "\n",
    "Der Befehl `kubectl api-resources` ist ein nützliches Werkzeug innerhalb der Kubernetes-Befehlszeilenschnittstelle (CLI), das Administratoren und Entwicklern hilft, die verschiedenen verfügbaren API-Ressourcen in einem Kubernetes-Cluster zu identifizieren.\n",
    "\n",
    "Mit `kubectl api-resources` können Benutzer eine Liste aller Ressourcenarten abrufen, die im aktuellen Cluster unterstützt werden, einschliesslich ihrer Namen, Kurzformen, API-Gruppen und ob sie namespacespezifisch sind oder nicht. \n",
    "\n",
    "Dies erleichtert die Navigation und Verwaltung der komplexen Kubernetes-API und unterstützt bei der effizienten Steuerung und Überwachung der Clusterressourcen.\n",
    "\n",
    "- - -\n",
    "\n",
    "Zuerst schauen wir uns alle Kubernetes Ressourcen an:"
   ]
  },
  {
   "cell_type": "code",
   "execution_count": null,
   "id": "b574e5b8",
   "metadata": {},
   "outputs": [],
   "source": [
    "! kubectl api-resources"
   ]
  },
  {
   "cell_type": "markdown",
   "id": "ad5d2d32",
   "metadata": {},
   "source": [
    "Die einzelnen Felder haben folgende Bedeutung:\n",
    "\n",
    "* **NAME**: Diese Spalte gibt den vollständigen Namen der API-Ressource an. Beispiele hierfür sind \"pods\", \"services\" oder \"deployments\". Der Name ist der Hauptidentifikator für die Ressource innerhalb von Kubernetes.\n",
    "\n",
    "* **SHORTNAMES**: Dies sind die Kurzformen oder Abkürzungen, die für die API-Ressourcen verwendet werden können, um die Eingabe in der Befehlszeile zu verkürzen. Zum Beispiel kann \"pods\" auch mit \"po\" abgekürzt werden. Diese Kurzformen erleichtern die Arbeit mit `kubectl`.\n",
    "\n",
    "* **APIVERSION**: Diese Spalte zeigt die API-Version, unter der die Ressource definiert ist. Die API-Version besteht aus einer Gruppennamen und einer Versionsnummer, z. B. \"v1\" oder \"apps/v1\". Die API-Version gibt an, welche Version des Kubernetes-API-Standards verwendet wird und zu welcher API-Gruppe die Ressource gehört.\n",
    "\n",
    "* **NAMESPACED**: Diese Spalte zeigt an, ob die Ressource innerhalb eines Namespaces existiert oder nicht. Ressourcen, die als \"true\" markiert sind, sind namespacespezifisch, das heißt, sie existieren innerhalb eines bestimmten Namespaces. Ressourcen, die als \"false\" markiert sind, existieren clusterweit und sind nicht an einen bestimmten Namespace gebunden.\n",
    "\n",
    "* **KIND**: Diese Spalte gibt den Typ der Ressource an, wie er im Kubernetes-API-Objektmodell definiert ist. Beispiele hierfür sind \"Pod\", \"Service\", \"Deployment\" oder \"ConfigMap\". Der Typ beschreibt die Art der Ressource und definiert ihre Struktur und ihr Verhalten im Cluster.\n",
    "\n",
    "- - -\n",
    "\n",
    "Mit diesem Wissen können wir die einzelnen Ressourcen besser zuordnen:"
   ]
  },
  {
   "cell_type": "code",
   "execution_count": null,
   "id": "e5bfad36",
   "metadata": {},
   "outputs": [],
   "source": [
    "%%bash\n",
    "# Kubernetes Core Ressourcen\n",
    "kubectl api-resources | awk 'NR == 1 || $3 == \"v1\"'"
   ]
  },
  {
   "cell_type": "code",
   "execution_count": null,
   "id": "d475cb20",
   "metadata": {},
   "outputs": [],
   "source": [
    "%%bash\n",
    "# Kubernetes Applikation Ressourcen\n",
    "kubectl api-resources | awk 'NR == 1 || $3 == \"apps/v1\"'"
   ]
  },
  {
   "cell_type": "code",
   "execution_count": null,
   "id": "9cc9a179",
   "metadata": {},
   "outputs": [],
   "source": [
    "%%bash\n",
    "# Kubernetes Batch Programme Ressourcen\n",
    "kubectl api-resources | grep batch"
   ]
  },
  {
   "cell_type": "code",
   "execution_count": null,
   "id": "bd45faa4",
   "metadata": {},
   "outputs": [],
   "source": [
    "%%bash\n",
    "# Kubernetes Extension Istio\n",
    "kubectl api-resources | grep istio"
   ]
  },
  {
   "cell_type": "code",
   "execution_count": null,
   "id": "cfc96d6c",
   "metadata": {},
   "outputs": [],
   "source": [
    "%%bash\n",
    "# Kubernetes Extension K-native\n",
    "kubectl api-resources | grep knative"
   ]
  },
  {
   "cell_type": "code",
   "execution_count": null,
   "id": "5be186c2",
   "metadata": {},
   "outputs": [],
   "source": [
    "%%bash\n",
    "# Kubernetes Extension ArgoCD\n",
    "kubectl api-resources | grep argo"
   ]
  },
  {
   "cell_type": "code",
   "execution_count": null,
   "id": "ad4eb343",
   "metadata": {},
   "outputs": [],
   "source": []
  }
 ],
 "metadata": {
  "kernelspec": {
   "display_name": "Python 3 (ipykernel)",
   "language": "python",
   "name": "python3"
  },
  "language_info": {
   "codemirror_mode": {
    "name": "ipython",
    "version": 3
   },
   "file_extension": ".py",
   "mimetype": "text/x-python",
   "name": "python",
   "nbconvert_exporter": "python",
   "pygments_lexer": "ipython3",
   "version": "3.12.3"
  }
 },
 "nbformat": 4,
 "nbformat_minor": 5
}
