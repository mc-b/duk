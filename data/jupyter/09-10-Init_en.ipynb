{
 "cells": [
  {
   "cell_type": "markdown",
   "metadata": {},
   "source": [
    "Init Container\n",
    "==============\n",
    "\n",
    "Init containers are special containers that run in front of app containers in a pod.\n",
    "\n",
    "The example below defines a simple pod with two init containers.\n",
    "\n",
    "The first is waiting for `myservice` and the second is waiting for `mydb`. Once both init containers complete, the pod runs the app container in its `spec` section."
   ]
  },
  {
   "cell_type": "code",
   "execution_count": null,
   "metadata": {},
   "outputs": [],
   "source": [
    "%%bash\n",
    "cat <<%EOF% | kubectl apply -f -\n",
    "apiVersion: v1\n",
    "kind: Pod\n",
    "metadata:\n",
    "  name: myapp-pod\n",
    "  labels:\n",
    "    app: myapp\n",
    "spec:\n",
    "  containers:\n",
    "  - name: myapp-container\n",
    "    image: busybox:1.28\n",
    "    command: ['sh', '-c', 'echo The app is running! && sleep 3600']\n",
    "  initContainers:\n",
    "  - name: init-myservice\n",
    "    image: busybox:1.28\n",
    "    command: ['sh', '-c', 'until nslookup myservice; do echo waiting for myservice; sleep 2; done;']\n",
    "  - name: init-mydb\n",
    "    image: busybox:1.28\n",
    "    command: ['sh', '-c', 'until nslookup mydb; do echo waiting for mydb; sleep 2; done;']\n",
    "%EOF%"
   ]
  },
  {
   "cell_type": "markdown",
   "metadata": {},
   "source": [
    "Status display"
   ]
  },
  {
   "cell_type": "code",
   "execution_count": null,
   "metadata": {},
   "outputs": [],
   "source": [
    "! kubectl get pods/myapp-pod\n",
    "! kubectl describe pods/myapp-pod"
   ]
  },
  {
   "cell_type": "markdown",
   "metadata": {},
   "source": [
    "By creating the service `myservices` the first init container is executed"
   ]
  },
  {
   "cell_type": "code",
   "execution_count": null,
   "metadata": {},
   "outputs": [],
   "source": [
    "%%bash\n",
    "cat <<%EOF% | kubectl apply -f -\n",
    "apiVersion: v1\n",
    "kind: Service\n",
    "metadata:\n",
    "  name: myservice\n",
    "spec:\n",
    "  ports:\n",
    "  - protocol: TCP\n",
    "    port: 80\n",
    "    targetPort: 9376\n",
    "%EOF%"
   ]
  },
  {
   "cell_type": "code",
   "execution_count": null,
   "metadata": {},
   "outputs": [],
   "source": [
    "! kubectl get pods/myapp-pod"
   ]
  },
  {
   "cell_type": "markdown",
   "metadata": {},
   "source": [
    "And when we set up the second service, the second init container and then My-App are started."
   ]
  },
  {
   "cell_type": "code",
   "execution_count": null,
   "metadata": {},
   "outputs": [],
   "source": [
    "%%bash\n",
    "cat <<%EOF% | kubectl apply -f -\n",
    "apiVersion: v1\n",
    "kind: Service\n",
    "metadata:\n",
    "  name: mydb\n",
    "spec:\n",
    "  ports:\n",
    "  - protocol: TCP\n",
    "    port: 80\n",
    "    targetPort: 9377\n",
    "%EOF%"
   ]
  },
  {
   "cell_type": "code",
   "execution_count": null,
   "metadata": {},
   "outputs": [],
   "source": [
    "! kubectl get pods/myapp-pod\n",
    "! kubectl logs pods/myapp-pod"
   ]
  }
 ],
 "metadata": {
  "kernelspec": {
   "display_name": "Python 3",
   "language": "python",
   "name": "python3"
  },
  "language_info": {
   "codemirror_mode": {
    "name": "ipython",
    "version": 3
   },
   "file_extension": ".py",
   "mimetype": "text/x-python",
   "name": "python",
   "nbconvert_exporter": "python",
   "pygments_lexer": "ipython3",
   "version": "3.7.3"
  }
 },
 "nbformat": 4,
 "nbformat_minor": 2
}
