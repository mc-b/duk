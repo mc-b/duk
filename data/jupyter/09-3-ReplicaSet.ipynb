{
 "cells": [
  {
   "cell_type": "markdown",
   "metadata": {},
   "source": [
    "Übung: Verteilung \n",
    "-----------------\n",
    "\n",
    "In dieser Übung erstellen wir mehrere Pods (Instanzen) ab dem gleichen Image (Applikation) mit jeweils einem ReplicaSet, Deployment und Service.\n",
    "\n",
    "Das passiert in einer eigenen Namespace um die Resultate gezielt Darstellen zu können:"
   ]
  },
  {
   "cell_type": "code",
   "execution_count": null,
   "metadata": {},
   "outputs": [],
   "source": [
    "! kubectl create namespace rs"
   ]
  },
  {
   "cell_type": "markdown",
   "metadata": {},
   "source": [
    "Erzeugen eines Deployments, hier der das Beispiel von Docker mit einem Web Server welche die aktuelle IP-Adresse ausgibt."
   ]
  },
  {
   "cell_type": "code",
   "execution_count": null,
   "metadata": {},
   "outputs": [],
   "source": [
    "! # kubectl run apache --image=registry.gitlab.com/mc-b/misegr/hello-world --namespace rs\",\n",
    "! kubectl create deployment apache --image=registry.gitlab.com/mc-b/misegr/hello-world --namespace rs"
   ]
  },
  {
   "cell_type": "markdown",
   "metadata": {},
   "source": [
    "Ausgabe der Erzeugten Ergebnisse und die YAML Datei welche den Erzeugten Ressourcen beschreibt.\n",
    "\n",
    "Ab `spec.containers` kommt erst der Pod."
   ]
  },
  {
   "cell_type": "code",
   "execution_count": null,
   "metadata": {},
   "outputs": [],
   "source": [
    "! kubectl get pod,deployment,replicaset,service --namespace rs"
   ]
  },
  {
   "cell_type": "code",
   "execution_count": null,
   "metadata": {},
   "outputs": [],
   "source": [
    "! kubectl get deployment apache -o yaml --namespace rs | kubectl-neat"
   ]
  },
  {
   "cell_type": "markdown",
   "metadata": {},
   "source": [
    "Um die ReplicaSet Funktionalität zu Demonstrieren, setzen wir die Anzahl der laufenden Pods auf 3 und schauen uns das Ergebnis an"
   ]
  },
  {
   "cell_type": "code",
   "execution_count": null,
   "metadata": {},
   "outputs": [],
   "source": [
    "! kubectl --namespace rs scale --replicas=3 deployment/apache  \n",
    "! kubectl get pod,deployment,replicaset,service --namespace rs"
   ]
  },
  {
   "cell_type": "markdown",
   "metadata": {},
   "source": [
    "Zu dem **Deployment** `apache` Erzeugen wir einen Service. Dadurch wird der Web Server von aussen sichtbar.\n",
    "\n",
    "Der Port 80 wird von Kubernetes automatisch auf den nächsten freien Port gemappt.\n",
    "\n",
    "Das Ergebnis schauen wir uns wieder an."
   ]
  },
  {
   "cell_type": "code",
   "execution_count": null,
   "metadata": {},
   "outputs": [],
   "source": [
    "! kubectl expose deployment/apache --type=\"LoadBalancer\" --port 80 --namespace rs\n",
    "! kubectl get pod,deployment,replicaset,service,endpoints -o wide --namespace rs"
   ]
  },
  {
   "cell_type": "markdown",
   "metadata": {},
   "source": [
    "Da wir keinen LoadBalancer haben müssen wir mit einem kleinen Shellscript selber die IP des Clusters und der gemappte Port als URL aufbereiten."
   ]
  },
  {
   "cell_type": "code",
   "execution_count": null,
   "metadata": {},
   "outputs": [],
   "source": [
    "! kubectl config view -o=jsonpath='{ .clusters[0].cluster.server }' | sed -e 's/https:/http:/' -e \"s/6443/$(kubectl get service --namespace rs apache -o=jsonpath='{ .spec.ports[0].nodePort }')/\"\n"
   ]
  },
  {
   "cell_type": "markdown",
   "metadata": {},
   "source": [
    "Wird der obige Link in mehreren Browsern geöffnet sollte jeweils ein anderer Hostname erscheinen. \n",
    "\n",
    "**Erklärung**: Kubernetes verteilt die Anfragen auf die laufenden Pods."
   ]
  },
  {
   "cell_type": "markdown",
   "metadata": {},
   "source": [
    "Zum Aufräumen genügt es den Namespace zu löschen"
   ]
  },
  {
   "cell_type": "code",
   "execution_count": null,
   "metadata": {},
   "outputs": [],
   "source": [
    "! kubectl delete namespace rs"
   ]
  },
  {
   "cell_type": "code",
   "execution_count": null,
   "metadata": {},
   "outputs": [],
   "source": []
  }
 ],
 "metadata": {
  "kernelspec": {
   "display_name": "Python 3",
   "language": "python",
   "name": "python3"
  },
  "language_info": {
   "codemirror_mode": {
    "name": "ipython",
    "version": 3
   },
   "file_extension": ".py",
   "mimetype": "text/x-python",
   "name": "python",
   "nbconvert_exporter": "python",
   "pygments_lexer": "ipython3",
   "version": "3.8.6"
  }
 },
 "nbformat": 4,
 "nbformat_minor": 2
}
