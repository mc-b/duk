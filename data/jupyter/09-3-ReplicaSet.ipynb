{
 "cells": [
  {
   "cell_type": "markdown",
   "metadata": {},
   "source": [
    "Übung: Verteilung \n",
    "-----------------\n",
    "\n",
    "In dieser Übung erstellen wir mehrere Pods ab dem gleichen Image mit jeweils einem ReplicaSet, Deployment und Service.\n",
    "\n",
    "Das passiert in einer eigenen Namespace um die Resultate gezielt Darstellen zu können:"
   ]
  },
  {
   "cell_type": "code",
   "execution_count": 40,
   "metadata": {},
   "outputs": [
    {
     "name": "stdout",
     "output_type": "stream",
     "text": [
      "namespace/rs created\r\n"
     ]
    }
   ],
   "source": [
    "! kubectl create namespace rs"
   ]
  },
  {
   "cell_type": "markdown",
   "metadata": {},
   "source": [
    "Erzeugen eines Deployments, hier der das Beispiel von Docker mit einem Web Server welche die aktuelle IP-Adresse ausgibt."
   ]
  },
  {
   "cell_type": "code",
   "execution_count": 41,
   "metadata": {},
   "outputs": [
    {
     "name": "stdout",
     "output_type": "stream",
     "text": [
      "kubectl run --generator=deployment/apps.v1beta1 is DEPRECATED and will be removed in a future version. Use kubectl create instead.\r\n",
      "deployment.apps/apache created\r\n"
     ]
    }
   ],
   "source": [
    "! kubectl run apache --image=dockercloud/hello-world --namespace rs"
   ]
  },
  {
   "cell_type": "markdown",
   "metadata": {},
   "source": [
    "Ausgabe der Erzeugten Ergebnisse und die YAML Datei welche den Erzeugten Ressourcen beschreibt.\n",
    "\n",
    "Ab `spec.containers` kommt erst der Pod."
   ]
  },
  {
   "cell_type": "code",
   "execution_count": 42,
   "metadata": {},
   "outputs": [
    {
     "name": "stdout",
     "output_type": "stream",
     "text": [
      "NAME                          READY   STATUS    RESTARTS   AGE\n",
      "pod/apache-7d79f75fd4-z99n6   1/1     Running   0          3s\n",
      "\n",
      "NAME                           DESIRED   CURRENT   UP-TO-DATE   AVAILABLE   AGE\n",
      "deployment.extensions/apache   1         1         1            1           3s\n",
      "\n",
      "NAME                                      DESIRED   CURRENT   READY   AGE\n",
      "replicaset.extensions/apache-7d79f75fd4   1         1         1       3s\n"
     ]
    }
   ],
   "source": [
    "! kubectl get pod,deployment,replicaset,service --namespace rs"
   ]
  },
  {
   "cell_type": "code",
   "execution_count": 43,
   "metadata": {},
   "outputs": [
    {
     "name": "stdout",
     "output_type": "stream",
     "text": [
      "apiVersion: extensions/v1beta1\r\n",
      "kind: Deployment\r\n",
      "metadata:\r\n",
      "  annotations:\r\n",
      "    deployment.kubernetes.io/revision: \"1\"\r\n",
      "  creationTimestamp: 2018-10-25T11:42:49Z\r\n",
      "  generation: 1\r\n",
      "  labels:\r\n",
      "    run: apache\r\n",
      "  name: apache\r\n",
      "  namespace: rs\r\n",
      "  resourceVersion: \"843793\"\r\n",
      "  selfLink: /apis/extensions/v1beta1/namespaces/rs/deployments/apache\r\n",
      "  uid: 19761b9f-d84b-11e8-9739-02fba84c29d0\r\n",
      "spec:\r\n",
      "  progressDeadlineSeconds: 600\r\n",
      "  replicas: 1\r\n",
      "  revisionHistoryLimit: 2\r\n",
      "  selector:\r\n",
      "    matchLabels:\r\n",
      "      run: apache\r\n",
      "  strategy:\r\n",
      "    rollingUpdate:\r\n",
      "      maxSurge: 25%\r\n",
      "      maxUnavailable: 25%\r\n",
      "    type: RollingUpdate\r\n",
      "  template:\r\n",
      "    metadata:\r\n",
      "      creationTimestamp: null\r\n",
      "      labels:\r\n",
      "        run: apache\r\n",
      "    spec:\r\n",
      "      containers:\r\n",
      "      - image: dockercloud/hello-world\r\n",
      "        imagePullPolicy: Always\r\n",
      "        name: apache\r\n",
      "        resources: {}\r\n",
      "        terminationMessagePath: /dev/termination-log\r\n",
      "        terminationMessagePolicy: File\r\n"
     ]
    }
   ],
   "source": [
    "! kubectl get deployment apache -o yaml --namespace rs | head -39"
   ]
  },
  {
   "cell_type": "markdown",
   "metadata": {},
   "source": [
    "Um die ReplicaSet Funktionalität zu Demonstrieren, setzen wir die Anzahl der laufenden Pods auf 3 und schauen uns das Ergebnis an"
   ]
  },
  {
   "cell_type": "code",
   "execution_count": 44,
   "metadata": {},
   "outputs": [
    {
     "name": "stdout",
     "output_type": "stream",
     "text": [
      "deployment.extensions/apache scaled\n",
      "NAME                          READY   STATUS              RESTARTS   AGE\n",
      "pod/apache-7d79f75fd4-xbbgl   0/1     ContainerCreating   0          1s\n",
      "pod/apache-7d79f75fd4-xcfz6   0/1     ContainerCreating   0          1s\n",
      "pod/apache-7d79f75fd4-z99n6   1/1     Running             0          20s\n",
      "\n",
      "NAME                           DESIRED   CURRENT   UP-TO-DATE   AVAILABLE   AGE\n",
      "deployment.extensions/apache   3         3         3            1           20s\n",
      "\n",
      "NAME                                      DESIRED   CURRENT   READY   AGE\n",
      "replicaset.extensions/apache-7d79f75fd4   3         3         1       20s\n"
     ]
    }
   ],
   "source": [
    "! kubectl --namespace rs scale --replicas=3 deployment/apache  \n",
    "! kubectl get pod,deployment,replicaset,service --namespace rs"
   ]
  },
  {
   "cell_type": "markdown",
   "metadata": {},
   "source": [
    "Zu dem **Deployment** `apache` Erzeugen wir einen Service. Dadurch wird der Web Server von aussen sichtbar.\n",
    "\n",
    "Der Port 80 wird von Kubernetes automatisch auf den nächsten freien Port gemappt.\n",
    "\n",
    "Das Ergebnis schauen wir uns wieder an."
   ]
  },
  {
   "cell_type": "code",
   "execution_count": 45,
   "metadata": {},
   "outputs": [
    {
     "name": "stdout",
     "output_type": "stream",
     "text": [
      "service/apache exposed\n",
      "NAME                          READY   STATUS    RESTARTS   AGE\n",
      "pod/apache-7d79f75fd4-xbbgl   1/1     Running   0          6s\n",
      "pod/apache-7d79f75fd4-xcfz6   1/1     Running   0          6s\n",
      "pod/apache-7d79f75fd4-z99n6   1/1     Running   0          25s\n",
      "\n",
      "NAME                           DESIRED   CURRENT   UP-TO-DATE   AVAILABLE   AGE\n",
      "deployment.extensions/apache   3         3         3            3           25s\n",
      "\n",
      "NAME                                      DESIRED   CURRENT   READY   AGE\n",
      "replicaset.extensions/apache-7d79f75fd4   3         3         3       25s\n",
      "\n",
      "NAME             TYPE           CLUSTER-IP     EXTERNAL-IP   PORT(S)        AGE\n",
      "service/apache   LoadBalancer   10.98.81.103   <pending>     80:32441/TCP   1s\n"
     ]
    }
   ],
   "source": [
    "! kubectl expose deployment/apache --type=\"LoadBalancer\" --port 80 --namespace rs\n",
    "! kubectl get pod,deployment,replicaset,service --namespace rs"
   ]
  },
  {
   "cell_type": "markdown",
   "metadata": {},
   "source": [
    "Da wir keinen LoadBalancer haben müssen wir mit einem kleinen Shellscript selber die IP des Clusters und der gemappte Port als URL aufbereiten.\n",
    "\n",
    "Diese Shellscript ist im Script `startsvc` hinterlegt."
   ]
  },
  {
   "cell_type": "code",
   "execution_count": 46,
   "metadata": {},
   "outputs": [
    {
     "name": "stdout",
     "output_type": "stream",
     "text": [
      "http://192.168.178.200:32441"
     ]
    }
   ],
   "source": [
    "! kubectl config view -o=jsonpath='{ .clusters[0].cluster.server }' | sed -e 's/https:/http:/' -e \"s/6443/$(kubectl get service --namespace rs apache -o=jsonpath='{ .spec.ports[0].nodePort }')/\"\n"
   ]
  },
  {
   "cell_type": "markdown",
   "metadata": {},
   "source": [
    "Wird der obige Link in mehreren Browsern geöffnet sollte jeweils ein anderer Hostname erscheinen. \n",
    "\n",
    "**Erklärung**: Kubernetes verteilt die Anfragen auf die laufenden Pods."
   ]
  },
  {
   "cell_type": "markdown",
   "metadata": {},
   "source": [
    "Zum Aufräumen genügt es den Namespace zu löschen"
   ]
  },
  {
   "cell_type": "code",
   "execution_count": null,
   "metadata": {},
   "outputs": [],
   "source": [
    "! kubectl delete namespace rs"
   ]
  },
  {
   "cell_type": "code",
   "execution_count": null,
   "metadata": {},
   "outputs": [],
   "source": []
  }
 ],
 "metadata": {
  "kernelspec": {
   "display_name": "Python 3",
   "language": "python",
   "name": "python3"
  },
  "language_info": {
   "codemirror_mode": {
    "name": "ipython",
    "version": 3
   },
   "file_extension": ".py",
   "mimetype": "text/x-python",
   "name": "python",
   "nbconvert_exporter": "python",
   "pygments_lexer": "ipython3",
   "version": "3.6.5"
  }
 },
 "nbformat": 4,
 "nbformat_minor": 2
}
