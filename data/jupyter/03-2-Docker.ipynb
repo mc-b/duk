{
 "cells": [
  {
   "cell_type": "markdown",
   "metadata": {},
   "source": [
    "Übung : Einfaches Image-Management\n",
    "-------------------------------------------------------\n",
    "\n",
    "Wir wollen ein Image mit unseren eigene Usernamen auf https://hub.docker.com/ ablegen.\n",
    "\n",
    "Dazu sind folgende Schritte notwendig:\n",
    "* Erstellen eines Accounts auf https://hub.docker.com/.\n",
    "* Username und Password als Umgebungsveriablen setzen (als Python Script)\n",
    "* `docker login` ausführen\n",
    "* Container Image `taggen` und auf https://hub.docker.com/ pushen\n"
   ]
  },
  {
   "cell_type": "code",
   "execution_count": null,
   "metadata": {},
   "outputs": [],
   "source": [
    "import os\n",
    "name = input(\"Username: \")\n",
    "os.environ[\"USER\"] = name\n",
    "\n",
    "from getpass import getpass\n",
    "password = getpass(\"Password: \")\n",
    "os.environ[\"PW\"] = password"
   ]
  },
  {
   "cell_type": "code",
   "execution_count": null,
   "metadata": {},
   "outputs": [],
   "source": [
    "! docker login -u ${USER} -p ${PW}\n",
    "! docker tag hello-world ${USER}/hello-world\n",
    "! docker push ${USER}/hello-world"
   ]
  },
  {
   "cell_type": "markdown",
   "metadata": {},
   "source": [
    "- - -\n",
    "\n",
    "### Container Image im `tar` Format speichern\n",
    "\n",
    "Nicht immer steht einen Registry zur Verfügung.\n",
    "\n",
    "Alternativ kann man Container Images auch von/nach dem [tar](https://wiki.ubuntuusers.de/tar/) Format speichern und laden"
   ]
  },
  {
   "cell_type": "code",
   "execution_count": null,
   "metadata": {},
   "outputs": [],
   "source": [
    "! docker save hello-world -o hello-world.tar\n",
    "! docker rmi hello-world\n",
    "! docker image ls"
   ]
  },
  {
   "cell_type": "code",
   "execution_count": null,
   "metadata": {},
   "outputs": [],
   "source": [
    "! ls -ls *.tar"
   ]
  },
  {
   "cell_type": "code",
   "execution_count": null,
   "metadata": {},
   "outputs": [],
   "source": [
    "! docker load -i hello-world.tar\n",
    "! docker image ls"
   ]
  },
  {
   "cell_type": "code",
   "execution_count": null,
   "metadata": {},
   "outputs": [],
   "source": []
  }
 ],
 "metadata": {
  "kernelspec": {
   "display_name": "Python 3",
   "language": "python",
   "name": "python3"
  },
  "language_info": {
   "codemirror_mode": {
    "name": "ipython",
    "version": 3
   },
   "file_extension": ".py",
   "mimetype": "text/x-python",
   "name": "python",
   "nbconvert_exporter": "python",
   "pygments_lexer": "ipython3",
   "version": "3.7.3"
  }
 },
 "nbformat": 4,
 "nbformat_minor": 2
}
