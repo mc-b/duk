{
 "cells": [
  {
   "cell_type": "markdown",
   "metadata": {},
   "source": [
    "Übung : Container-Images und Layers\n",
    "------------------------------------------------------\n",
    "\n",
    "Wir wollen das Apache Web Server Image auf docker.io finden.\n",
    "\n",
    "Dieses Image pullen wir von verschiedenen Registries auf unsere lokale Maschine und analysieren den Inhalt.\n"
   ]
  },
  {
   "cell_type": "code",
   "execution_count": null,
   "metadata": {},
   "outputs": [],
   "source": [
    "! docker search apache"
   ]
  },
  {
   "cell_type": "markdown",
   "metadata": {},
   "source": [
    "`docker search` Funktioniert leider nicht mit anderen Registries, darum müssen wir dort die Suche via Web Oberfläche durchführen.\n",
    "\n",
    "Andere öffentliche Registries sind u.a.\n",
    "* [AWS Public Registry](https://public.ecr.aws)\n",
    "* [RedHat](https://quay.io)\n",
    "\n",
    "Um die Docker \"Pull-Raten-Limits\" zu umgehen, holen wir den Apache Web Server nicht von `docker.io` sondern von der AWS Public Registry. Dort finden wir, mit den Prefix `docker/library`, praktisch alle \"Docker Official Images\"."
   ]
  },
  {
   "cell_type": "code",
   "execution_count": null,
   "metadata": {},
   "outputs": [],
   "source": [
    "! docker pull public.ecr.aws/docker/library/httpd\n",
    "! docker image ls"
   ]
  },
  {
   "cell_type": "markdown",
   "metadata": {},
   "source": [
    "- - -\n",
    "\n",
    "### Container Image im `tar` Format speichern\n",
    "\n",
    "Nicht immer steht eine Image Registry zur Verfügung.\n",
    "\n",
    "Alternativ kann man Container Images auch von/nach dem [tar](https://wiki.ubuntuusers.de/tar/) Format speichern und laden"
   ]
  },
  {
   "cell_type": "code",
   "execution_count": null,
   "metadata": {},
   "outputs": [],
   "source": [
    "! docker save public.ecr.aws/docker/library/httpd -o httpd.tar\n",
    "! ls -ls *.tar"
   ]
  },
  {
   "cell_type": "markdown",
   "metadata": {},
   "source": [
    "Die Datei lässt sich dann, z.B. via USB Stick, auf unsere Zielumgebung transportieren und kann dort wieder importiert werden.\n",
    "\n",
    "Um diese zu Demonstrieren löschen wir zuerst das gecachte Image weg und importieren dann unser [tar](https://wiki.ubuntuusers.de/tar/) Export."
   ]
  },
  {
   "cell_type": "code",
   "execution_count": null,
   "metadata": {},
   "outputs": [],
   "source": [
    "%%bash\n",
    "docker rmi public.ecr.aws/docker/library/httpd\n",
    "docker image ls\n",
    "echo \"--------------------\"\n",
    "docker load -i httpd.tar\n",
    "docker image ls"
   ]
  },
  {
   "cell_type": "markdown",
   "metadata": {},
   "source": [
    "Die erstellte [tar](https://wiki.ubuntuusers.de/tar/)-Datei kann extrahiert werden und so die erstellen Layer analysiert werden."
   ]
  },
  {
   "cell_type": "code",
   "execution_count": null,
   "metadata": {},
   "outputs": [],
   "source": [
    "! tar xvf httpd.tar\n",
    "! cat manifest.json | jq"
   ]
  },
  {
   "cell_type": "markdown",
   "metadata": {},
   "source": [
    "Weitere `tar xvf <uuid>/layer.tar` und `cat <uuid>/json liefern weitere Informationen über das Image.\n",
    "\n",
    "Probiert es aus, in dem Ihr `[uuid]` durch eine UUID von oben ersetzt:"
   ]
  },
  {
   "cell_type": "code",
   "execution_count": null,
   "metadata": {},
   "outputs": [],
   "source": [
    "! tar xvf [uuid]/layer.tar\n",
    "! cat [uuid]/json | jq"
   ]
  },
  {
   "cell_type": "markdown",
   "metadata": {},
   "source": [
    "- - - \n",
    "\n",
    "### Container Dateisystem entpacken\n",
    "\n",
    "Ab und zu, will man nur das Dateisystem des Container erkunden ohne den Container selber zu starten.\n",
    "\n",
    "Das funktioniert mittels `docker create` statt `run` und Export des Dateisystems:"
   ]
  },
  {
   "cell_type": "code",
   "execution_count": null,
   "metadata": {},
   "outputs": [],
   "source": [
    "! mkdir apache\n",
    "! docker export $(docker create public.ecr.aws/docker/library/httpd) | tar -C apache -xvf -"
   ]
  },
  {
   "cell_type": "markdown",
   "metadata": {},
   "source": [
    "Damit wurde ein Verzeichnis `apache` angelegt und dort der Inhalt des Container Images extrahiert.\n",
    "\n",
    "Mittels `cat` oder `ls -l apache` können wir den Inhalt analysieren"
   ]
  },
  {
   "cell_type": "code",
   "execution_count": null,
   "metadata": {},
   "outputs": [],
   "source": [
    "! cat apache/etc/issue\n",
    "! echo \"-----httpd.conf -------\"\n",
    "! cat apache/usr/local/apache2/conf/httpd.conf"
   ]
  },
  {
   "cell_type": "markdown",
   "metadata": {},
   "source": [
    "***\n",
    "Fragen\n",
    "======\n",
    "\n",
    "Beantwortet die Fragen einzeln oder in der Gruppe und vergleicht diese mit den Antworten\n",
    "\n",
    "Was ist der Unterschied zwischen einer Docker Registry und einem Repository\n",
    "<details><summary>Antwort</summary>\n",
    "        In der Docker Registry werden die Container Images gespeichert. Ein Repository speichert pro Container Image verschiedene Versionen von Images.\n",
    "</p></details>\n",
    "\n",
    "---\n",
    "\n",
    "Was ist Docker Hub?\n",
    "<details><summary>Antwort</summary>\n",
    "        Ein Container Registry, wo Container Image gespeichert werden. Docker Hub wird durch die Firma Docker zur Verfügung gestellt wird.\n",
    "</p></details>\n",
    "\n",
    "---\n",
    "\n",
    "Welches sind die Alternativen?\n",
    "<details><summary>Antwort</summary>\n",
    "        Praktisch jeder Cloud Anbieter stellt eine Container Registry zur Verfügung. Auch die Anbieter für die Verwaltung von Build Artefakten (z.B. Sonatype Nexus) stellen Docker Registries zur Verfügung oder haben deren Funktionalität integriert. \n",
    "</p></details>\n",
    "\n",
    "---\n",
    "\n",
    "Warum sollte eine eigene Container Registry im Unternehmen verwendet werden?\n",
    "<details><summary>Antwort</summary>\n",
    "        Sicherheit, bzw. das mögliche Fehlen davon. Es kann nicht Sichergestellt werden, dass alle Container Images auf Docker Hub sicher sind.\n",
    "</p></details>\n"
   ]
  },
  {
   "cell_type": "code",
   "execution_count": null,
   "metadata": {},
   "outputs": [],
   "source": []
  },
  {
   "cell_type": "code",
   "execution_count": null,
   "metadata": {},
   "outputs": [],
   "source": []
  }
 ],
 "metadata": {
  "kernelspec": {
   "display_name": "Python 3 (ipykernel)",
   "language": "python",
   "name": "python3"
  },
  "language_info": {
   "codemirror_mode": {
    "name": "ipython",
    "version": 3
   },
   "file_extension": ".py",
   "mimetype": "text/x-python",
   "name": "python",
   "nbconvert_exporter": "python",
   "pygments_lexer": "ipython3",
   "version": "3.10.6"
  }
 },
 "nbformat": 4,
 "nbformat_minor": 2
}
