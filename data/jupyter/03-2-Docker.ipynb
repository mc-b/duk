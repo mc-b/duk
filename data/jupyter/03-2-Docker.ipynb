{
 "cells": [
  {
   "cell_type": "markdown",
   "metadata": {},
   "source": [
    "Übung : Einfaches Image-Management\n",
    "-------------------------------------------------------\n",
    "\n",
    "Erstellt einen Account auf https://hub.docker.com/.\n",
    "\n",
    "Erstellt, auf http://localhost:32188/ ein neues `Terminal` rechts oben mit `New` und logt Euch auf Docker Hub ein:\n",
    "\n",
    "    docker login"
   ]
  },
  {
   "cell_type": "markdown",
   "metadata": {},
   "source": [
    "Tagt die zwei vorhanden Images mit Eurem Namen und pusht diese in auf Docker Hub\n",
    "\n",
    "z.B.:\n",
    "\n",
    "    docker tag hello-world <username>/hello-world\n",
    "    docker push <username>/hello-world\n"
   ]
  },
  {
   "cell_type": "code",
   "execution_count": null,
   "metadata": {},
   "outputs": [],
   "source": [
    "! docker ..."
   ]
  },
  {
   "cell_type": "markdown",
   "metadata": {},
   "source": [
    "Docker Images als im «tar»-Format speichern und laden"
   ]
  },
  {
   "cell_type": "code",
   "execution_count": null,
   "metadata": {},
   "outputs": [],
   "source": [
    "! docker save hello-world -o hello-world.tar\n",
    "! docker rmi hello-world\n",
    "! docker image ls"
   ]
  },
  {
   "cell_type": "code",
   "execution_count": null,
   "metadata": {},
   "outputs": [],
   "source": [
    "! ls -ls *.tar"
   ]
  },
  {
   "cell_type": "code",
   "execution_count": null,
   "metadata": {},
   "outputs": [],
   "source": [
    "! docker load -i hello-world.tar\n",
    "! docker image ls"
   ]
  },
  {
   "cell_type": "code",
   "execution_count": null,
   "metadata": {},
   "outputs": [],
   "source": []
  }
 ],
 "metadata": {
  "kernelspec": {
   "display_name": "Python 3",
   "language": "python",
   "name": "python3"
  },
  "language_info": {
   "codemirror_mode": {
    "name": "ipython",
    "version": 3
   },
   "file_extension": ".py",
   "mimetype": "text/x-python",
   "name": "python",
   "nbconvert_exporter": "python",
   "pygments_lexer": "ipython3",
   "version": "3.6.6"
  }
 },
 "nbformat": 4,
 "nbformat_minor": 2
}
