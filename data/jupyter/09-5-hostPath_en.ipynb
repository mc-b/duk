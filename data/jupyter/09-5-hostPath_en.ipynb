{
 "cells": [
  {
   "cell_type": "markdown",
   "metadata": {},
   "source": [
    "Exercise: Volume and Claims\n",
    "------------------------\n",
    "\n",
    "First we need a `PersistentVolume` to which the `Claims` are headed.\n",
    "\n",
    "In the example below, the `hostPath` is made available as a volume:\n",
    "\n",
    "    kind: PersistentVolume\n",
    "    apiVersion: v1\n",
    "    metadata:\n",
    "      name: data-volume\n",
    "      labels:\n",
    "        type: local\n",
    "    spec:\n",
    "      storageClassName: manual\n",
    "      capacity:\n",
    "        storage: 10Gi\n",
    "      accessModes:\n",
    "        - ReadWriteMany\n",
    "      hostPath:\n",
    "        path: \"/data\"\n",
    "\n",
    "\n",
    "This is followed by the `Claims`:\n",
    "\n",
    "    kind: PersistentVolumeClaim\n",
    "    apiVersion: v1\n",
    "    metadata:\n",
    "      name: data-claim\n",
    "    spec:\n",
    "      storageClassName: manual\n",
    "      accessModes:\n",
    "        - ReadWriteMany\n",
    "      resources:\n",
    "        requests:\n",
    "          storage: 10Gi\n",
    "\n",
    "The pod itself points to the `Claims`:\n",
    "\n",
    "      volumes:\n",
    "      - name: web-storage\n",
    "        persistentVolumeClaim:\n",
    "        claimName: data-claim    \n",
    "\n",
    "The pod, however, must first release its directories using `volumeMounts`:\n",
    "\n",
    "    volumeMounts:\n",
    "    - mountPath: \"/usr/local/apache2/htdocs\"\n",
    "      subPath: htdocs       \n",
    "      name: \"web-storage\"\n",
    "\n",
    "The complete example of a web server storing its files on the host looks like this:\n"
   ]
  },
  {
   "cell_type": "code",
   "execution_count": null,
   "metadata": {},
   "outputs": [],
   "source": [
    "! cat 09-5-Volume/apache.yaml "
   ]
  },
  {
   "cell_type": "code",
   "execution_count": null,
   "metadata": {},
   "outputs": [],
   "source": [
    "! kubectl apply -f 09-5-Volume/apache.yaml"
   ]
  },
  {
   "cell_type": "markdown",
   "metadata": {},
   "source": [
    "In order to display more than one blank page, an `index.html` file must now be created in the `/data/htdocs` directory on the **in the VM**.\n",
    "\n",
    "The content can be created as follows:\n",
    "\n",
    "    cat <<%EOF% >/data/htdocs/index.html\n",
    "        <html>\n",
    "            <body>\n",
    "                <h1>Hello Host</h1>\n",
    "            </body>\n",
    "        </html>\n",
    "    %EOF%\n",
    "    ls -l /data/htdocs\n"
   ]
  },
  {
   "cell_type": "code",
   "execution_count": null,
   "metadata": {},
   "outputs": [],
   "source": [
    "! kubectl get service/apache"
   ]
  },
  {
   "cell_type": "markdown",
   "metadata": {},
   "source": [
    "Since we don't have a load balancer, we have to prepare the IP of the cluster and the mapped port (port-based-routing) as a URL using a small shell script\n",
    "\n",
    "Opening this URL in a new tab will show `Hello Host`."
   ]
  },
  {
   "cell_type": "code",
   "execution_count": null,
   "metadata": {},
   "outputs": [],
   "source": [
    "! echo \"http://\"$(cat ~/work/server-ip)\":\"$(kubectl get service apache -o=jsonpath='{ .spec.ports[0].nodePort }')"
   ]
  },
  {
   "cell_type": "markdown",
   "metadata": {},
   "source": [
    "- - -\n",
    "\n",
    "Clean up.\n",
    "\n",
    "The file `lernkube/data/htdocs/index.html` is retained because it is stored on `PersistentVolume`."
   ]
  },
  {
   "cell_type": "code",
   "execution_count": null,
   "metadata": {},
   "outputs": [],
   "source": [
    "! kubectl delete -f 09-5-Volume/apache.yaml"
   ]
  }
 ],
 "metadata": {
  "kernelspec": {
   "display_name": "Python 3 (ipykernel)",
   "language": "python",
   "name": "python3"
  },
  "language_info": {
   "codemirror_mode": {
    "name": "ipython",
    "version": 3
   },
   "file_extension": ".py",
   "mimetype": "text/x-python",
   "name": "python",
   "nbconvert_exporter": "python",
   "pygments_lexer": "ipython3",
   "version": "3.10.6"
  }
 },
 "nbformat": 4,
 "nbformat_minor": 2
}
