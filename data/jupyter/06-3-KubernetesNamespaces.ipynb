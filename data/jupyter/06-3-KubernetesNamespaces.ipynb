{
 "cells": [
  {
   "cell_type": "markdown",
   "id": "f73a41be-9ad7-4908-a344-de3e70797db7",
   "metadata": {},
   "source": [
    "Übung: Kubernetes Namespaces und Verschiedene Mandanten (Tenants)\n",
    "-----------------------------------------------------------------\n",
    "\n",
    "Kubernetes Namespaces sind ein zentrales Konzept in der Verwaltung und Organisation von Ressourcen innerhalb eines Kubernetes-Clusters. Sie bieten eine logische Trennung, die es ermöglicht, z.B. verschiedene Mandanten (Tenants) unabhängig voneinander zu betreiben.\n",
    "\n",
    "Die Verwendung von Namespaces bringt mehrere Vorteile mit sich:\n",
    "\n",
    "* Ressourcentrennung: Namespaces isolieren die Ressourcen verschiedener Anwendungen oder Teams. Dies bedeutet, dass Konflikte vermieden werden, beispielsweise wenn mehrere Anwendungen den gleichen Ressourcennamen verwenden.\n",
    "\n",
    "* Zugriffskontrolle: Durch die Verwendung von Role-Based Access Control (RBAC) in Kombination mit Namespaces können Administratoren den Zugriff auf Ressourcen spezifisch für jeden Namespace regeln. So kann sichergestellt werden, dass ein Team nur auf seine eigenen Ressourcen zugreifen kann.\n",
    "\n",
    "* Ressourcenquoten: Namespaces ermöglichen es, Ressourcenquoten (z.B. für Memory, Anzahl Container etc.) festzulegen, die sicherstellen, dass ein Team oder eine Anwendung nicht mehr Ressourcen als vorgesehen verbraucht. Dies hilft, eine faire Ressourcennutzung im Cluster zu gewährleisten.\n",
    "\n",
    "* Einfache Verwaltung: Namespaces vereinfachen die Verwaltung und Überwachung von Ressourcen, indem sie eine klare Trennung und Strukturierung bieten. Dies ist besonders in großen Clustern mit vielen Anwendungen und Teams von Vorteil.\n",
    "\n",
    "- - -\n",
    "\n",
    "In nachfolgenden Beispiel erstellen wir drei Namespaces, für jeden Mandanten einen und Starten den Webshop in unterschiedlichen Versionen.\n",
    "\n",
    "Zuerst erste Mandant mit der Version 2.1.0 im Kubernetes Namespace `m01`"
   ]
  },
  {
   "cell_type": "code",
   "execution_count": null,
   "id": "fe9a94dc-de00-4ff8-bde1-8fa74f8e8c77",
   "metadata": {},
   "outputs": [],
   "source": [
    "%%bash\n",
    "export MANDANT=m01\n",
    "kubectl create namespace ${MANDANT}\n",
    "kubectl apply --namespace ${MANDANT} -f https://gitlab.com/ch-mc-b/autoshop-ms/infra/kubernetes-templates/-/raw/main/2.1.0-pod/catalog-pod.yaml\n",
    "kubectl apply --namespace ${MANDANT} -f https://gitlab.com/ch-mc-b/autoshop-ms/infra/kubernetes-templates/-/raw/main/2.1.0-pod/customer-pod.yaml\n",
    "kubectl apply --namespace ${MANDANT} -f https://gitlab.com/ch-mc-b/autoshop-ms/infra/kubernetes-templates/-/raw/main/2.1.0-pod/order-pod.yaml\n",
    "kubectl apply --namespace ${MANDANT} -f https://gitlab.com/ch-mc-b/autoshop-ms/infra/kubernetes-templates/-/raw/main/2.1.0-pod/webshop-pod.yaml \n",
    "kubectl apply --namespace ${MANDANT} -f https://gitlab.com/ch-mc-b/autoshop-ms/infra/kubernetes-templates/-/raw/main/catalog-service.yaml\n",
    "kubectl apply --namespace ${MANDANT} -f https://gitlab.com/ch-mc-b/autoshop-ms/infra/kubernetes-templates/-/raw/main/customer-service.yaml\n",
    "kubectl apply --namespace ${MANDANT} -f https://gitlab.com/ch-mc-b/autoshop-ms/infra/kubernetes-templates/-/raw/main/order-service.yaml\n",
    "kubectl apply --namespace ${MANDANT} -f https://gitlab.com/ch-mc-b/autoshop-ms/infra/kubernetes-templates/-/raw/main/webshop-service.yaml\n",
    "kubectl get all --namespace ${MANDANT} -o wide\n",
    "echo \"http://\"$(cat ~/work/server-ip)\":\"$(kubectl get service --namespace ${MANDANT} webshop -o=jsonpath='{ .spec.ports[0].nodePort }')/webshop"
   ]
  },
  {
   "cell_type": "markdown",
   "id": "37d3c920-b078-46a1-a5d2-4170f7a91f82",
   "metadata": {},
   "source": [
    "- - -\n",
    "\n",
    "Dann der zweite Mandant mit der Version 2.0.0 im Kuberentes Namespace `m02`"
   ]
  },
  {
   "cell_type": "code",
   "execution_count": null,
   "id": "d79cc808-449c-4b96-9d8e-a1c483347792",
   "metadata": {},
   "outputs": [],
   "source": [
    "%%bash\n",
    "export MANDANT=m02\n",
    "kubectl create namespace ${MANDANT}\n",
    "kubectl apply --namespace ${MANDANT} -f https://gitlab.com/ch-mc-b/autoshop-ms/infra/kubernetes-templates/-/raw/main/2.0.0-pod/catalog-pod.yaml\n",
    "kubectl apply --namespace ${MANDANT} -f https://gitlab.com/ch-mc-b/autoshop-ms/infra/kubernetes-templates/-/raw/main/2.0.0-pod/customer-pod.yaml\n",
    "kubectl apply --namespace ${MANDANT} -f https://gitlab.com/ch-mc-b/autoshop-ms/infra/kubernetes-templates/-/raw/main/2.0.0-pod/order-pod.yaml\n",
    "kubectl apply --namespace ${MANDANT} -f https://gitlab.com/ch-mc-b/autoshop-ms/infra/kubernetes-templates/-/raw/main/2.0.0-pod/webshop-pod.yaml \n",
    "kubectl apply --namespace ${MANDANT} -f https://gitlab.com/ch-mc-b/autoshop-ms/infra/kubernetes-templates/-/raw/main/catalog-service.yaml\n",
    "kubectl apply --namespace ${MANDANT} -f https://gitlab.com/ch-mc-b/autoshop-ms/infra/kubernetes-templates/-/raw/main/customer-service.yaml\n",
    "kubectl apply --namespace ${MANDANT} -f https://gitlab.com/ch-mc-b/autoshop-ms/infra/kubernetes-templates/-/raw/main/order-service.yaml\n",
    "kubectl apply --namespace ${MANDANT} -f https://gitlab.com/ch-mc-b/autoshop-ms/infra/kubernetes-templates/-/raw/main/webshop-service.yaml\n",
    "kubectl get all --namespace ${MANDANT} -o wide\n",
    "echo \"http://\"$(cat ~/work/server-ip)\":\"$(kubectl get service --namespace ${MANDANT} webshop -o=jsonpath='{ .spec.ports[0].nodePort }')/webshop"
   ]
  },
  {
   "cell_type": "markdown",
   "id": "4d93eebc-a221-4bb4-9bf3-4968af958966",
   "metadata": {},
   "source": [
    "- - -\n",
    "\n",
    "Und der dritte Mandant mit der Version 1.0.0 im Kubernetes Namespace `m03`"
   ]
  },
  {
   "cell_type": "code",
   "execution_count": null,
   "id": "4a891911-f803-4645-a146-2895bd87130f",
   "metadata": {},
   "outputs": [],
   "source": [
    "%%bash\n",
    "export MANDANT=m03\n",
    "kubectl create namespace ${MANDANT}\n",
    "kubectl apply --namespace ${MANDANT} -f https://gitlab.com/ch-mc-b/autoshop-ms/infra/kubernetes-templates/-/raw/main/1.0.0-pod/catalog-pod.yaml\n",
    "kubectl apply --namespace ${MANDANT} -f https://gitlab.com/ch-mc-b/autoshop-ms/infra/kubernetes-templates/-/raw/main/1.0.0-pod/customer-pod.yaml\n",
    "kubectl apply --namespace ${MANDANT} -f https://gitlab.com/ch-mc-b/autoshop-ms/infra/kubernetes-templates/-/raw/main/1.0.0-pod/order-pod.yaml\n",
    "kubectl apply --namespace ${MANDANT} -f https://gitlab.com/ch-mc-b/autoshop-ms/infra/kubernetes-templates/-/raw/main/1.0.0-pod/webshop-pod.yaml \n",
    "kubectl apply --namespace ${MANDANT} -f https://gitlab.com/ch-mc-b/autoshop-ms/infra/kubernetes-templates/-/raw/main/catalog-service.yaml\n",
    "kubectl apply --namespace ${MANDANT} -f https://gitlab.com/ch-mc-b/autoshop-ms/infra/kubernetes-templates/-/raw/main/customer-service.yaml\n",
    "kubectl apply --namespace ${MANDANT} -f https://gitlab.com/ch-mc-b/autoshop-ms/infra/kubernetes-templates/-/raw/main/order-service.yaml\n",
    "kubectl apply --namespace ${MANDANT} -f https://gitlab.com/ch-mc-b/autoshop-ms/infra/kubernetes-templates/-/raw/main/webshop-service.yaml\n",
    "kubectl get all --namespace ${MANDANT} -o wide\n",
    "echo \"http://\"$(cat ~/work/server-ip)\":\"$(kubectl get service --namespace ${MANDANT} webshop -o=jsonpath='{ .spec.ports[0].nodePort }')/webshop"
   ]
  },
  {
   "cell_type": "markdown",
   "id": "df7560af-e214-4bed-8647-b15597f72c58",
   "metadata": {},
   "source": [
    "- - -\n",
    "\n",
    "**Aufräumen**\n",
    "\n",
    "Dazu genügt es die Kubernetes Namespaces zu löschen. Dies löscht automatisch alle darin befindlichen Ressourcen."
   ]
  },
  {
   "cell_type": "code",
   "execution_count": null,
   "id": "18f3fc57-bb8c-40fd-aa3a-f54e9d747b4f",
   "metadata": {},
   "outputs": [],
   "source": [
    "%%bash\n",
    "kubectl delete namespace m01\n",
    "kubectl delete namespace m02\n",
    "kubectl delete namespace m03\n"
   ]
  },
  {
   "cell_type": "code",
   "execution_count": null,
   "id": "322d81c0-6059-4873-975a-d94874aa9495",
   "metadata": {},
   "outputs": [],
   "source": []
  }
 ],
 "metadata": {
  "kernelspec": {
   "display_name": "Python 3 (ipykernel)",
   "language": "python",
   "name": "python3"
  },
  "language_info": {
   "codemirror_mode": {
    "name": "ipython",
    "version": 3
   },
   "file_extension": ".py",
   "mimetype": "text/x-python",
   "name": "python",
   "nbconvert_exporter": "python",
   "pygments_lexer": "ipython3",
   "version": "3.10.12"
  }
 },
 "nbformat": 4,
 "nbformat_minor": 5
}
