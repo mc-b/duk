{
 "cells": [
  {
   "cell_type": "markdown",
   "id": "c65604c2",
   "metadata": {},
   "source": [
    "# Longhorn.io\n",
    "\n",
    "Voraussetzungen \n",
    "- isccsi aktiveren\n",
    "- multipathd (für SAN) deaktiveren"
   ]
  },
  {
   "cell_type": "code",
   "execution_count": null,
   "id": "f457833a",
   "metadata": {},
   "outputs": [],
   "source": [
    "%%bash\n",
    "sudo apt-get install open-iscsi\n",
    "sudo modprobe iscsi_tcp\n",
    "lsmod | grep iscsi_tcp"
   ]
  },
  {
   "cell_type": "code",
   "execution_count": null,
   "id": "5e4f6beb",
   "metadata": {},
   "outputs": [],
   "source": [
    "%%bash\n",
    "sudo systemctl stop multipathd\n",
    "sudo systemctl disable multipathd\n",
    "sudo systemctl mask multipathd\n"
   ]
  },
  {
   "cell_type": "code",
   "execution_count": null,
   "id": "42ec040c",
   "metadata": {},
   "outputs": [],
   "source": [
    "%%bash\n",
    "curl -sSfL https://raw.githubusercontent.com/longhorn/longhorn/v1.8.0/scripts/environment_check.sh | bash"
   ]
  },
  {
   "cell_type": "code",
   "execution_count": null,
   "id": "0dca0d4f",
   "metadata": {},
   "outputs": [],
   "source": []
  },
  {
   "cell_type": "markdown",
   "id": "4bedc1d4",
   "metadata": {},
   "source": [
    "### Installation\n",
    "\n",
    "**Links**\n",
    "* [Quick Installation](https://longhorn.io/docs/1.8.0/deploy/install/)"
   ]
  },
  {
   "cell_type": "code",
   "execution_count": null,
   "id": "292ce97c",
   "metadata": {},
   "outputs": [],
   "source": [
    "%%bash\n",
    "kubectl apply -f https://raw.githubusercontent.com/longhorn/longhorn/v1.8.0/deploy/longhorn.yaml"
   ]
  },
  {
   "cell_type": "code",
   "execution_count": null,
   "id": "f88f1569",
   "metadata": {},
   "outputs": [],
   "source": [
    "%%bash\n",
    "kubectl get pods --namespace longhorn-system --watch"
   ]
  },
  {
   "cell_type": "code",
   "execution_count": null,
   "id": "55fc8260",
   "metadata": {},
   "outputs": [],
   "source": []
  },
  {
   "cell_type": "code",
   "execution_count": null,
   "id": "8094d4b0",
   "metadata": {},
   "outputs": [],
   "source": [
    "%%bash\n",
    "kubectl apply -f - <<EOF\n",
    "apiVersion: v1\n",
    "kind: PersistentVolumeClaim\n",
    "metadata:\n",
    "  name: my-longhorn-pvc\n",
    "spec:\n",
    "  accessModes:\n",
    "    - ReadWriteOnce\n",
    "  resources:\n",
    "    requests:\n",
    "      storage: 5Gi\n",
    "  storageClassName: longhorn\n",
    "EOF"
   ]
  },
  {
   "cell_type": "code",
   "execution_count": null,
   "id": "791c0fc7",
   "metadata": {},
   "outputs": [],
   "source": [
    "%%bash\n",
    "kubectl get sc,pv,pvc"
   ]
  },
  {
   "cell_type": "code",
   "execution_count": null,
   "id": "32135f72",
   "metadata": {},
   "outputs": [],
   "source": [
    "%%bash\n",
    "kubectl apply -f - <<EOF\n",
    "apiVersion: v1\n",
    "kind: Pod\n",
    "metadata:\n",
    "  name: my-longhorn-pod\n",
    "spec:\n",
    "  containers:\n",
    "    - name: my-app\n",
    "      image: nginx\n",
    "      volumeMounts:\n",
    "        - mountPath: \"/data\"\n",
    "          name: my-storage\n",
    "  volumes:\n",
    "    - name: my-storage\n",
    "      persistentVolumeClaim:\n",
    "        claimName: my-longhorn-pvc\n",
    "EOF\n"
   ]
  },
  {
   "cell_type": "code",
   "execution_count": null,
   "id": "75759b82",
   "metadata": {},
   "outputs": [],
   "source": []
  }
 ],
 "metadata": {
  "kernelspec": {
   "display_name": "Python 3 (ipykernel)",
   "language": "python",
   "name": "python3"
  },
  "language_info": {
   "codemirror_mode": {
    "name": "ipython",
    "version": 3
   },
   "file_extension": ".py",
   "mimetype": "text/x-python",
   "name": "python",
   "nbconvert_exporter": "python",
   "pygments_lexer": "ipython3",
   "version": "3.12.3"
  }
 },
 "nbformat": 4,
 "nbformat_minor": 5
}
