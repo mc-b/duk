{
 "cells": [
  {
   "cell_type": "markdown",
   "id": "c65604c2",
   "metadata": {},
   "source": [
    "# Longhorn.io - nur für microk8s\n",
    "\n",
    "Voraussetzungen \n",
    "- isccsi aktiveren\n",
    "- multipathd (für SAN) deaktiveren\n",
    "- K8s Label für master setzen"
   ]
  },
  {
   "cell_type": "code",
   "execution_count": null,
   "id": "f457833a",
   "metadata": {},
   "outputs": [],
   "source": [
    "%%bash\n",
    "sudo apt-get install open-iscsi\n",
    "sudo modprobe iscsi_tcp\n",
    "lsmod | grep iscsi_tcp"
   ]
  },
  {
   "cell_type": "code",
   "execution_count": null,
   "id": "5e4f6beb",
   "metadata": {},
   "outputs": [],
   "source": [
    "%%bash\n",
    "sudo systemctl stop multipathd\n",
    "sudo systemctl disable multipathd\n",
    "sudo systemctl mask multipathd\n"
   ]
  },
  {
   "cell_type": "code",
   "execution_count": null,
   "id": "0dca0d4f",
   "metadata": {},
   "outputs": [],
   "source": [
    "%%bash\n",
    "kubectl label nodes $(kubectl get nodes -o custom-columns=NAME:.metadata.name | awk 'NR==2') node-role.kubernetes.io/master=\n",
    "kubectl label nodes $(kubectl get nodes -o custom-columns=NAME:.metadata.name | awk 'NR==2') node-role.kubernetes.io/control-plane=      "
   ]
  },
  {
   "cell_type": "markdown",
   "id": "9bf60430",
   "metadata": {},
   "source": [
    "Prüfen ob alle Bedinungen erfüllt sind:"
   ]
  },
  {
   "cell_type": "code",
   "execution_count": null,
   "id": "42ec040c",
   "metadata": {},
   "outputs": [],
   "source": [
    "%%bash\n",
    "curl -sSfL https://raw.githubusercontent.com/longhorn/longhorn/v1.8.0/scripts/environment_check.sh | bash"
   ]
  },
  {
   "cell_type": "markdown",
   "id": "4bedc1d4",
   "metadata": {},
   "source": [
    "### Installation\n",
    "\n",
    "Mit `helm` weil wichtige Variablen überschrieben werden können.\n",
    "\n",
    "**Links**\n",
    "* [Quick Installation](https://longhorn.io/docs/1.8.0/deploy/install/)"
   ]
  },
  {
   "cell_type": "code",
   "execution_count": null,
   "id": "d767626d",
   "metadata": {},
   "outputs": [],
   "source": [
    "%%bash\n",
    "helm repo add longhorn https://charts.longhorn.io\n",
    "helm repo update"
   ]
  },
  {
   "cell_type": "code",
   "execution_count": null,
   "id": "9ff88da1",
   "metadata": {},
   "outputs": [],
   "source": [
    "%%bash\n",
    "helm install longhorn longhorn/longhorn \\\n",
    "  --namespace longhorn-system --create-namespace \\\n",
    "  --set defaultSettings.kubernetesClusterAutodetectionMethod=\"custom\" \\\n",
    "  --set defaultSettings.kubeletRootDir=\"/var/snap/microk8s/common/var/lib/kubelet\" \\\n",
    "  --set csi.kubeletRootDir=\"/var/snap/microk8s/common/var/lib/kubelet\"\n"
   ]
  },
  {
   "cell_type": "markdown",
   "id": "62eed3df",
   "metadata": {},
   "source": [
    "Zum Testen erstellen wir zwei PVC"
   ]
  },
  {
   "cell_type": "code",
   "execution_count": null,
   "id": "8094d4b0",
   "metadata": {},
   "outputs": [],
   "source": [
    "%%bash\n",
    "kubectl apply -f - <<EOF\n",
    "apiVersion: v1\n",
    "kind: PersistentVolumeClaim\n",
    "metadata:\n",
    "  name: longhorn-rwo\n",
    "spec:\n",
    "  accessModes:\n",
    "    - ReadWriteOnce\n",
    "  resources:\n",
    "    requests:\n",
    "      storage: 5Gi\n",
    "  storageClassName: longhorn\n",
    "EOF"
   ]
  },
  {
   "cell_type": "code",
   "execution_count": null,
   "id": "ca5c596c",
   "metadata": {},
   "outputs": [],
   "source": [
    "%%bash\n",
    "kubectl apply -f - <<EOF\n",
    "apiVersion: v1\n",
    "kind: PersistentVolumeClaim\n",
    "metadata:\n",
    "  name: longhorn-rwx\n",
    "spec:\n",
    "  accessModes:\n",
    "    - ReadWriteMany\n",
    "  resources:\n",
    "    requests:\n",
    "      storage: 5Gi\n",
    "  storageClassName: longhorn\n",
    "EOF"
   ]
  },
  {
   "cell_type": "code",
   "execution_count": null,
   "id": "791c0fc7",
   "metadata": {},
   "outputs": [],
   "source": [
    "%%bash\n",
    "kubectl get sc,pv,pvc"
   ]
  },
  {
   "cell_type": "code",
   "execution_count": null,
   "id": "32135f72",
   "metadata": {},
   "outputs": [],
   "source": [
    "%%bash\n",
    "kubectl apply -f - <<EOF\n",
    "apiVersion: v1\n",
    "kind: Pod\n",
    "metadata:\n",
    "  name: my-longhorn-pod\n",
    "spec:\n",
    "  containers:\n",
    "    - name: my-app\n",
    "      image: nginx\n",
    "      volumeMounts:\n",
    "        - mountPath: \"/data\"\n",
    "          name: my-storage\n",
    "  volumes:\n",
    "    - name: my-storage\n",
    "      persistentVolumeClaim:\n",
    "        claimName: longhorn-rwx\n",
    "EOF\n"
   ]
  },
  {
   "cell_type": "code",
   "execution_count": null,
   "id": "dee94437",
   "metadata": {},
   "outputs": [],
   "source": [
    "%%bash\n",
    "kubectl apply -f - <<EOF\n",
    "apiVersion: v1\n",
    "kind: Pod\n",
    "metadata:\n",
    "  name: my-longhorn-pod-2\n",
    "spec:\n",
    "  containers:\n",
    "    - name: my-app\n",
    "      image: nginx\n",
    "      volumeMounts:\n",
    "        - mountPath: \"/data\"\n",
    "          name: my-storage\n",
    "  volumes:\n",
    "    - name: my-storage\n",
    "      persistentVolumeClaim:\n",
    "        claimName: longhorn-rwx\n",
    "EOF"
   ]
  },
  {
   "cell_type": "code",
   "execution_count": null,
   "id": "75759b82",
   "metadata": {},
   "outputs": [],
   "source": [
    "%%bash\n",
    "kubectl describe pod my-longhorn-pod"
   ]
  },
  {
   "cell_type": "code",
   "execution_count": null,
   "id": "33f5810a",
   "metadata": {},
   "outputs": [],
   "source": [
    "%%bash\n",
    "kubectl exec my-longhorn-pod -- mkdir -p /data/t1\n",
    "kubectl exec my-longhorn-pod -- touch /data/t1/t1.txt\n",
    "kubectl exec my-longhorn-pod -- find /data\n"
   ]
  },
  {
   "cell_type": "markdown",
   "id": "3a49bbf1",
   "metadata": {},
   "source": [
    "### Longhorn UI\n"
   ]
  },
  {
   "cell_type": "code",
   "execution_count": null,
   "id": "2c286b8d",
   "metadata": {},
   "outputs": [],
   "source": [
    "%%bash\n",
    "kubectl patch svc longhorn-frontend -n longhorn-system -p '{\"spec\": {\"type\": \"NodePort\"}}'"
   ]
  },
  {
   "cell_type": "code",
   "execution_count": null,
   "id": "2d65866c",
   "metadata": {},
   "outputs": [],
   "source": [
    "! echo \"http://\"$(cat ~/work/server-ip)\":$(kubectl get -n longhorn-system service longhorn-frontend -o=jsonpath='{ .spec.ports[0].nodePort }')/\""
   ]
  },
  {
   "cell_type": "code",
   "execution_count": null,
   "id": "46acf2ab",
   "metadata": {},
   "outputs": [],
   "source": []
  }
 ],
 "metadata": {
  "kernelspec": {
   "display_name": "Python 3 (ipykernel)",
   "language": "python",
   "name": "python3"
  },
  "language_info": {
   "codemirror_mode": {
    "name": "ipython",
    "version": 3
   },
   "file_extension": ".py",
   "mimetype": "text/x-python",
   "name": "python",
   "nbconvert_exporter": "python",
   "pygments_lexer": "ipython3",
   "version": "3.12.3"
  }
 },
 "nbformat": 4,
 "nbformat_minor": 5
}
