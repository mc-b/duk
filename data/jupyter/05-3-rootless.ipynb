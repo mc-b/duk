{
 "cells": [
  {
   "cell_type": "markdown",
   "id": "bb6bf734-7a05-4cd7-a6f1-ff42403280b6",
   "metadata": {},
   "source": [
    "Übung: Rootless Container\n",
    "-------------------------\n",
    " \n",
    "### Was bedeutet \"Rootless\"?\n",
    "\n",
    "\"Rootless\" Docker bezieht sich auf das Ausführen von Docker-Containern ohne Root-Privilegien auf dem Host-System. Standardmäßig laufen Docker-Container als Root-Benutzer, was bedeutet, dass sie vollständigen Zugriff auf das Host-Betriebssystem haben könnten, wenn es zu einem Sicherheitsvorfall kommt. Dies kann zu schwerwiegenden Sicherheitslücken führen, da ein kompromittierter Container potenziell das gesamte Host-System gefährden kann.\n",
    "\n",
    "Sicherheitsrisiken der Ausführung als Root\n",
    "* Erhöhtes Angriffspotenzial: Container, die als Root ausgeführt werden, können bei einer Kompromittierung des Containers oder einer Schwachstelle in der Container-Software den Angreifern weitreichenden Zugriff auf das Host-System gewähren.\n",
    "* Seitliche Bewegungen: Ein kompromittierter Root-Container könnte möglicherweise auf andere Container und Ressourcen im gleichen Host zugreifen, was das Risiko für die gesamte Container-Infrastruktur erhöht.\n",
    "* Host-Exploit: Exploits, die Root-Zugriff benötigen, können direkt auf dem Host-Betriebssystem ausgeführt werden, was die Angriffsfläche erheblich vergrößert.\n",
    "\n",
    "- - - \n",
    "\n",
    "Die Datei `/etc/sudoers` steuert die Berechtigungen und Regeln, die festlegen, welche Benutzer und Gruppen auf einem Linux-System das sudo-Kommando (Erlangen von Administratoren-Rechten) verwenden dürfen und welche Befehle sie mit erhöhten Rechten ausführen können.\n",
    "\n",
    "Zu Demonstrationszwecken wollen wir versuchen die `/etc/sudoers` zu komprimitieren.\n",
    "\n",
    "Dazu mounten wir das Filesystem `/` der VMs als Verzeichnis `/homeroot` in einem Container. Ein korrekt ausgeführter Container darf diese Datei nicht anzeigen können.\n",
    "\n",
    "Zuerst mit Docker"
   ]
  },
  {
   "cell_type": "code",
   "execution_count": null,
   "id": "3dfa5b6f-7e7e-414e-9998-40ca55500824",
   "metadata": {},
   "outputs": [],
   "source": [
    "! docker run --rm -v /:/homeroot registry.gitlab.com/ch-mc-b/autoshop/shop:2.0.0 cat /homeroot/etc/sudoers"
   ]
  },
  {
   "cell_type": "markdown",
   "id": "975950ce-1f9b-417e-866e-a076c8c7bb4c",
   "metadata": {},
   "source": [
    "- - -\n",
    "\n",
    "**Das sollte nicht möglich sein und ist ein Sicherheitsrisiko.**\n",
    "\n",
    "Deshalb versuchen wir das gleiche mit `podman`"
   ]
  },
  {
   "cell_type": "code",
   "execution_count": null,
   "id": "1637db96-ef60-4de1-95f0-c891d9d3a09c",
   "metadata": {},
   "outputs": [],
   "source": [
    "! podman run --rm -v /:/homeroot registry.gitlab.com/ch-mc-b/autoshop/shop:2.0.0 cat /homeroot/etc/sudoers"
   ]
  },
  {
   "cell_type": "markdown",
   "id": "e10eacb0-4cd4-421f-9999-0b46915f6527",
   "metadata": {},
   "source": [
    "Hier bekommen wir die richtige Fehlermeldung **Permission denied**. Weil in Podman die Container nicht mit ROOT Rechten ausgeführt werden.\n",
    "\n",
    "### Links\n",
    "\n",
    "* [Container Security: A Look at Rootless Containers](https://www.alibabacloud.com/blog/container-security-a-look-at-rootless-containers_595153)"
   ]
  },
  {
   "cell_type": "code",
   "execution_count": null,
   "id": "4893e562-d3dd-4a47-911d-e6dc0408c934",
   "metadata": {},
   "outputs": [],
   "source": []
  }
 ],
 "metadata": {
  "kernelspec": {
   "display_name": "Python 3 (ipykernel)",
   "language": "python",
   "name": "python3"
  },
  "language_info": {
   "codemirror_mode": {
    "name": "ipython",
    "version": 3
   },
   "file_extension": ".py",
   "mimetype": "text/x-python",
   "name": "python",
   "nbconvert_exporter": "python",
   "pygments_lexer": "ipython3",
   "version": "3.12.3"
  }
 },
 "nbformat": 4,
 "nbformat_minor": 5
}
