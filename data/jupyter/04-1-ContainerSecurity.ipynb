{
 "cells": [
  {
   "cell_type": "markdown",
   "metadata": {},
   "source": [
    "# Übung: Container Security\n",
    "--------------------------------------\n",
    "\n",
    "Vertrauenswürdigkeit von externen Quellen/Repos/Registries\n",
    "\n",
    "Verwendung von Docker Content Trust\n",
    "* schlägt bei den unsignierten Images fehl\n",
    "* Funktioniert mit den Offiziellen Images von Docker Hub, wie z.B. postgres"
   ]
  },
  {
   "cell_type": "code",
   "execution_count": null,
   "metadata": {},
   "outputs": [],
   "source": [
    "! docker pull --disable-content-trust=false marcel1691/fhem"
   ]
  },
  {
   "cell_type": "code",
   "execution_count": null,
   "metadata": {},
   "outputs": [],
   "source": [
    "! (export DOCKER_CONTENT_TRUST=1 && docker pull marcel1691/fhem)"
   ]
  },
  {
   "cell_type": "code",
   "execution_count": null,
   "metadata": {},
   "outputs": [],
   "source": [
    "! docker pull --disable-content-trust=false postgres\n",
    "! docker image ls"
   ]
  },
  {
   "cell_type": "markdown",
   "metadata": {},
   "source": [
    "### Docker-Berechtigungen == Root-Berechtigungen\n",
    "\n",
    "* Startet die Git/Bash Umgebung und wechselt in das Verzeichnis `lernkube`.\n",
    "* Wechselt in die VM mittels `vagrant ssh`\n",
    "* Startet `docker run -v /:/homeroot -it ubuntu bash` und legt ein paar Verzeichnisse im Verzeichnis `/homeroot` an, z.B.\n",
    "\n",
    "\n",
    "    cd /homeroot\n",
    "    mkdir t1 t2 t3\n",
    "\n",
    "\n",
    "* Beendet den Container mittels `exit`\n",
    "* Überprüft die anlegten Verzeichnis mittels `ls -l /`\n"
   ]
  },
  {
   "cell_type": "code",
   "execution_count": null,
   "metadata": {},
   "outputs": [],
   "source": []
  }
 ],
 "metadata": {
  "kernelspec": {
   "display_name": "Python 3",
   "language": "python",
   "name": "python3"
  },
  "language_info": {
   "codemirror_mode": {
    "name": "ipython",
    "version": 3
   },
   "file_extension": ".py",
   "mimetype": "text/x-python",
   "name": "python",
   "nbconvert_exporter": "python",
   "pygments_lexer": "ipython3",
   "version": "3.6.6"
  }
 },
 "nbformat": 4,
 "nbformat_minor": 2
}
