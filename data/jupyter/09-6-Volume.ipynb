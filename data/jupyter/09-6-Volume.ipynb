{
 "cells": [
  {
   "cell_type": "markdown",
   "metadata": {},
   "source": [
    "Übung: Volume und mehrere Container in Pod\n",
    "------------------------------------------------------------------\n",
    "\n",
    "Diese Übung Demonstriert wie sich zwei Container innerhalb eines Pods das Verzeichnis `/usr/local/apache2/htdocs` teilen.\n",
    "\n",
    "Der Container `apache` beinhaltet den Web Server und der Container `file-puller` schreibt alle 30 Sekunden die Datei `index.html` in das Verzeichnis `/usr/local/apache2/htdocs`.\n",
    "\n",
    "Aus Einfachheitsgründen verwenden wir `emptyDir` als Volume.\n",
    "\n",
    "**Erläuterungen `emptyDir`**\n",
    "\n",
    "Das emptyDir-Volume wird angelegt, wenn ein Pod einem Node zugewiesen wird.\n",
    "Alle Container in dem Pod auf diesem (Worker-)Node können dieses emptyDir (einfach\n",
    "ein leeres Verzeichnis) lesen und schreiben.\n",
    "\n",
    "Der Pfad, mit dem das emptyDir innerhalb eines Containers eingehängt wird, kann\n",
    "sich innerhalb der Container des Pods unterscheiden.\n",
    "\n",
    "Sobald ein Pod von einem Node gelöscht wird, wird auch der Inhalt des emptyDir\n",
    "komplett und unwiederbringlich gelöscht. Selbst wenn der gleiche Pod auf dem gleichen\n",
    "Worker Node neu erstellt wird, kann er nicht mehr auf das Volume seines Vorgängers\n",
    "zugreifen. Dies bezieht sich nicht auf den Crash eines Containers des Pods.\n",
    "\n",
    "Typische Anwendungsfälle für emptyDir-Volumes könnten sein:\n",
    "* Laufzeitdaten einer Applikation (Caches), die bei der Neuerstellung des Pods ohnehin\n",
    "neu erzeugt werden müssten\n",
    "* Übergabe von (Laufzeit-)Konfigurationsdaten an alle Container innerhalb des\n",
    "Pods\n",
    "\n",
    "Zuerst schauen wir den Inhalt der YAML Datei an und starten dann die Ressourcen"
   ]
  },
  {
   "cell_type": "code",
   "execution_count": 34,
   "metadata": {},
   "outputs": [
    {
     "name": "stdout",
     "output_type": "stream",
     "text": [
      "apiVersion: v1\r\n",
      "kind: Pod\r\n",
      "metadata:\r\n",
      "  labels:\r\n",
      "    app.kubernetes.io/name: web\r\n",
      "  name: web\r\n",
      "spec:\r\n",
      "  containers:\r\n",
      "  - image: httpd\r\n",
      "    name: apache\r\n",
      "    # Volumes im Container\r\n",
      "    volumeMounts:\r\n",
      "    - mountPath: \"/usr/local/apache2/htdocs\"\r\n",
      "      name: \"web-storage\"    \r\n",
      "  - image: debian:jessie\r\n",
      "    name: file-puller\r\n",
      "    # Just spin & wait forever\r\n",
      "    command: [ \"/bin/bash\", \"-c\", \"--\" ]\r\n",
      "    args: [ \"while true; do echo \\\"<html><body><h1>Hallo es ist $(date)</h1></body></html>\\\" >/usr/local/apache2/htdocs/index.html; sleep 30; done;\" ]    \r\n",
      "    # Volumes im Container\r\n",
      "    volumeMounts:\r\n",
      "    - mountPath: \"/usr/local/apache2/htdocs\"\r\n",
      "      name: \"web-storage\"\r\n",
      "  # Volumes in Host      \r\n",
      "  volumes:\r\n",
      "  - name: \"web-storage\"\r\n",
      "    emptyDir: {}   \r\n",
      "---\r\n",
      "apiVersion: v1\r\n",
      "kind: Service\r\n",
      "metadata:\r\n",
      "  labels:\r\n",
      "    app.kubernetes.io/name: web\r\n",
      "  name: web\r\n",
      "spec:\r\n",
      "  ports:\r\n",
      "  - port: 80\r\n",
      "    protocol: TCP\r\n",
      "    targetPort: 80\r\n",
      "  selector:\r\n",
      "    app.kubernetes.io/name: web\r\n",
      "  type: LoadBalancer\r\n"
     ]
    }
   ],
   "source": [
    "! cat 09-5-Volume/web.yaml"
   ]
  },
  {
   "cell_type": "code",
   "execution_count": 35,
   "metadata": {},
   "outputs": [
    {
     "name": "stdout",
     "output_type": "stream",
     "text": [
      "pod/web created\n",
      "service/web created\n"
     ]
    }
   ],
   "source": [
    "! kubectl apply -f 09-5-Volume/web.yaml"
   ]
  },
  {
   "cell_type": "markdown",
   "metadata": {},
   "source": [
    "Um das Ergebnis anschauen, holen wir uns die IP-Adresse des Loadbalancer und des Services"
   ]
  },
  {
   "cell_type": "code",
   "execution_count": 37,
   "metadata": {},
   "outputs": [
    {
     "name": "stdout",
     "output_type": "stream",
     "text": [
      "http://192.168.178.200:31371"
     ]
    }
   ],
   "source": [
    "! kubectl config view -o=jsonpath='{ .clusters[0].cluster.server }' | sed -e 's/https:/http:/' -e \"s/6443/$(kubectl get service web -o=jsonpath='{ .spec.ports[0].nodePort }')/\""
   ]
  },
  {
   "cell_type": "markdown",
   "metadata": {},
   "source": [
    "Und geben die Erzeugten Ressourcen aus:"
   ]
  },
  {
   "cell_type": "code",
   "execution_count": 42,
   "metadata": {},
   "outputs": [
    {
     "name": "stdout",
     "output_type": "stream",
     "text": [
      "NAME                                READY   STATUS    RESTARTS   AGE\n",
      "pod/jupyter-base-57c55b7fc8-d9l85   1/1     Running   0          2d15h\n",
      "pod/nginxpod1                       1/1     Running   0          2d15h\n",
      "pod/web                             2/2     Running   0          3m24s\n",
      "\n",
      "NAME                   TYPE           CLUSTER-IP      EXTERNAL-IP   PORT(S)          AGE\n",
      "service/jupyter-base   LoadBalancer   10.109.197.23   <pending>     8888:32188/TCP   2d15h\n",
      "service/kubernetes     ClusterIP      10.96.0.1       <none>        443/TCP          8d\n",
      "service/web            LoadBalancer   10.98.166.25    <pending>     80:31371/TCP     3m24s\n",
      "\n",
      "\n",
      "Container\n",
      "\n",
      "jupyter-base-57c55b7fc8-d9l85:\tjupyter/base-notebook, \n",
      "nginxpod1:\tnginx, \n",
      "web:\thttpd, debian:jessie, \n"
     ]
    }
   ],
   "source": [
    "! kubectl get pods,services\n",
    "! echo \"\\n\\nContainer\"\n",
    "! kubectl get pods -o=jsonpath='{range .items[*]}{\"\\n\"}{.metadata.name}{\":\\t\"}{range .spec.containers[*]}{.image}{\", \"}{end}{end}' |\\\n",
    "sort"
   ]
  },
  {
   "cell_type": "markdown",
   "metadata": {},
   "source": [
    "Aufräumen"
   ]
  },
  {
   "cell_type": "code",
   "execution_count": 43,
   "metadata": {},
   "outputs": [
    {
     "name": "stdout",
     "output_type": "stream",
     "text": [
      "pod \"web\" deleted\r\n",
      "service \"web\" deleted\r\n"
     ]
    }
   ],
   "source": [
    "! kubectl delete -f 09-5-Volume/web.yaml"
   ]
  },
  {
   "cell_type": "code",
   "execution_count": null,
   "metadata": {},
   "outputs": [],
   "source": []
  }
 ],
 "metadata": {
  "kernelspec": {
   "display_name": "Python 3",
   "language": "python",
   "name": "python3"
  },
  "language_info": {
   "codemirror_mode": {
    "name": "ipython",
    "version": 3
   },
   "file_extension": ".py",
   "mimetype": "text/x-python",
   "name": "python",
   "nbconvert_exporter": "python",
   "pygments_lexer": "ipython3",
   "version": "3.6.5"
  }
 },
 "nbformat": 4,
 "nbformat_minor": 2
}
