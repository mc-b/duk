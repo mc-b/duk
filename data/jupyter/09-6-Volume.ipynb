{
 "cells": [
  {
   "cell_type": "markdown",
   "metadata": {},
   "source": [
    "Übung: Volume und mehrere Container in Pod\n",
    "------------------------------------------------------------------\n",
    "\n",
    "![](images/PodContainers.png)\n",
    "\n",
    "Quelle K8s Folien Core primitives und Running Microservices: (https://www.youtube.com/watch?v=A4A7ybtQujA) \n",
    "- - - \n",
    "\n",
    "Diese Übung Demonstriert wie sich zwei Container innerhalb eines Pods das Verzeichnis `/usr/local/apache2/htdocs` teilen.\n",
    "\n",
    "Der Container `apache` beinhaltet den Web Server und der Container `file-puller` schreibt alle 30 Sekunden die Datei `index.html` in das Verzeichnis `/usr/local/apache2/htdocs`.\n",
    "\n",
    "Aus Einfachheitsgründen verwenden wir `emptyDir` als Volume.\n",
    "\n",
    "**Erläuterungen `emptyDir`**\n",
    "\n",
    "Das emptyDir-Volume wird angelegt, wenn ein Pod einem Node zugewiesen wird.\n",
    "Alle Container in dem Pod auf diesem (Worker-)Node können dieses emptyDir (einfach\n",
    "ein leeres Verzeichnis) lesen und schreiben.\n",
    "\n",
    "Der Pfad, mit dem das emptyDir innerhalb eines Containers eingehängt wird, kann\n",
    "sich innerhalb der Container des Pods unterscheiden.\n",
    "\n",
    "Sobald ein Pod von einem Node gelöscht wird, wird auch der Inhalt des emptyDir\n",
    "komplett und unwiederbringlich gelöscht. Selbst wenn der gleiche Pod auf dem gleichen\n",
    "Worker Node neu erstellt wird, kann er nicht mehr auf das Volume seines Vorgängers\n",
    "zugreifen. Dies bezieht sich nicht auf den Crash eines Containers des Pods.\n",
    "\n",
    "Typische Anwendungsfälle für emptyDir-Volumes könnten sein:\n",
    "* Laufzeitdaten einer Applikation (Caches), die bei der Neuerstellung des Pods ohnehin\n",
    "neu erzeugt werden müssten\n",
    "* Übergabe von (Laufzeit-)Konfigurationsdaten an alle Container innerhalb des\n",
    "Pods\n",
    "\n",
    "Zuerst schauen wir den Inhalt der YAML Datei an und starten dann die Ressourcen"
   ]
  },
  {
   "cell_type": "code",
   "execution_count": null,
   "metadata": {},
   "outputs": [],
   "source": [
    "! cat 09-5-Volume/web.yaml"
   ]
  },
  {
   "cell_type": "code",
   "execution_count": null,
   "metadata": {},
   "outputs": [],
   "source": [
    "! kubectl apply -f 09-5-Volume/web.yaml\n",
    "! kubectl get service/web"
   ]
  },
  {
   "cell_type": "markdown",
   "metadata": {},
   "source": [
    "Da wir keinen LoadBalancer wird einfach nur der Port 80 auf 3XXXX gemappt (port-based-routing).\n",
    "\n",
    "Wird dieser URL in einem neuen Tab geöffnet, wird die Zeit angezeigt."
   ]
  },
  {
   "cell_type": "code",
   "execution_count": null,
   "metadata": {},
   "outputs": [],
   "source": [
    "! echo \"http://\"$(cat ~/work/server-ip)\":\"$(kubectl get service web -o=jsonpath='{ .spec.ports[0].nodePort }')"
   ]
  },
  {
   "cell_type": "markdown",
   "metadata": {},
   "source": [
    "Und geben die Erzeugten Ressourcen aus:"
   ]
  },
  {
   "cell_type": "code",
   "execution_count": null,
   "metadata": {},
   "outputs": [],
   "source": [
    "! kubectl get pods,services\n",
    "! echo \"-------- Container -------\"\n",
    "! kubectl get pods -o=jsonpath='{range .items[*]}{\"\\n\"}{.metadata.name}{\":\\t\"}{range .spec.containers[*]}{.image}{\", \"}{end}{end}' |\\\n",
    "sort"
   ]
  },
  {
   "cell_type": "markdown",
   "metadata": {},
   "source": [
    "- - -\n",
    "\n",
    "Aufräumen"
   ]
  },
  {
   "cell_type": "code",
   "execution_count": null,
   "metadata": {},
   "outputs": [],
   "source": [
    "! kubectl delete -f 09-5-Volume/web.yaml"
   ]
  },
  {
   "cell_type": "code",
   "execution_count": null,
   "metadata": {},
   "outputs": [],
   "source": []
  }
 ],
 "metadata": {
  "kernelspec": {
   "display_name": "Python 3 (ipykernel)",
   "language": "python",
   "name": "python3"
  },
  "language_info": {
   "codemirror_mode": {
    "name": "ipython",
    "version": 3
   },
   "file_extension": ".py",
   "mimetype": "text/x-python",
   "name": "python",
   "nbconvert_exporter": "python",
   "pygments_lexer": "ipython3",
   "version": "3.9.6"
  }
 },
 "nbformat": 4,
 "nbformat_minor": 2
}
