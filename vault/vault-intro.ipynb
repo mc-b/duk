{
 "cells": [
  {
   "cell_type": "markdown",
   "id": "01b592f8",
   "metadata": {},
   "source": [
    "## Vault - Einleitung\n",
    "\n",
    "![](https://developer.hashicorp.com/_next/image?url=https%3A%2F%2Fcontent.hashicorp.com%2Fapi%2Fassets%3Fproduct%3Dtutorials%26version%3Dmain%26asset%3Dpublic%252Fimg%252Fvault%252Fvault-triangle.png%26width%3D1641%26height%3D973&w=3840&q=75&dpl=dpl_E98cvL5t1rSXaCY5Xn5VomU2dFq3)\n",
    "\n",
    "Quelle: https://developer.hashicorp.com/vault\n",
    "\n",
    "- - -\n",
    "\n",
    "HashiCorp Vault ist eine Open-Source-Lösung zur sicheren Verwaltung von Geheimnissen wie Passwörtern, API-Schlüsseln und Zertifikaten. \n",
    "\n",
    "Es ermöglicht die zentrale Speicherung, Verschlüsselung und den kontrollierten Zugriff auf sensible Daten, während dynamische, zeitlich begrenzte Anmeldeinformationen die Sicherheitsrisiken minimieren. \n",
    "\n",
    "Vault integriert sich nahtlos mit Cloud-Plattformen, Identitätsdiensten und DevOps-Tools, um eine sichere, automatisierte Geheimnisverwaltung zu gewährleisten.\n",
    "\n",
    "- - -\n",
    "\n",
    "### Installation\n",
    "\n",
    "Die Installation von `vault` wurde beim Installieren der VMs durchgeführt. Siehe Script [vault.sh](https://raw.githubusercontent.com/mc-b/lerncloud/main/services/vault.sh).\n",
    "\n",
    "Das Script kann in `cloud-init` wie folgt eingebunden werden:\n",
    "\n",
    "    runcmd:\n",
    "    - sudo su - ubuntu -c \"curl -sfL https://raw.githubusercontent.com/mc-b/lerncloud/main/services/vault.sh | bash -\"  \n",
    "\n",
    "- - -\n",
    "\n",
    "Deshalb müssen wir dem `vault` CLI nur noch die Zugriffsinformationen mitteilen:"
   ]
  },
  {
   "cell_type": "code",
   "execution_count": null,
   "id": "ca9e7d1e",
   "metadata": {},
   "outputs": [],
   "source": [
    "import os\n",
    "os.environ['VAULT_DEV_ROOT_TOKEN_ID']='insecure'\n",
    "os.environ['VAULT_ADDR']='http://127.0.0.1:8200'"
   ]
  },
  {
   "cell_type": "markdown",
   "id": "160e2711",
   "metadata": {},
   "source": [
    "### Vault UI\n",
    "\n",
    "Das **Vault UI** (User Interface) ist eine benutzerfreundliche grafische Oberfläche für **HashiCorp Vault**, ein Tool zur sicheren Verwaltung von Geheimnissen, Tokens, Passwörtern und Zertifikaten. Über das UI können Benutzer sensible Daten zentral speichern, Richtlinien verwalten und Zugriffsrechte steuern – alles ohne Kommandozeile. Mit klaren Dashboards und intuitiver Navigation ermöglicht es eine einfache Konfiguration, Überwachung und Verwaltung von Sicherheitsressourcen.\n",
    "\n",
    "- - -\n",
    "\n",
    "Der Zugriffstoken ist `insecure`"
   ]
  },
  {
   "cell_type": "code",
   "execution_count": null,
   "id": "285cba9d",
   "metadata": {},
   "outputs": [],
   "source": [
    "! echo \"http://\"$(cat ~/work/server-ip)\":8200\""
   ]
  },
  {
   "cell_type": "markdown",
   "id": "a3a2f8de",
   "metadata": {},
   "source": [
    "### Vault Status\n",
    "\n",
    "Die Ausgabe von `vault status` gibt einen Überblick über den aktuellen Zustand der Vault-Instanz. Hier ist eine kurze Erklärung der einzelnen Felder:\n",
    "\n",
    "1. **Seal Type**: Gibt an, welcher Verschlüsselungstyp verwendet wird, um die Vault-Daten zu versiegeln. In diesem Fall wird der **Shamir's Secret Sharing**-Algorithmus verwendet.\n",
    "\n",
    "2. **Initialized**: Zeigt, ob die Vault-Instanz initialisiert wurde. **true** bedeutet, dass die Vault mit den benötigten Entschlüsselungsschlüsseln initialisiert wurde.\n",
    "\n",
    "3. **Sealed**: Gibt an, ob die Vault derzeit versiegelt (gesperrt) ist. **false** bedeutet, dass die Vault entsiegelt und einsatzbereit ist.\n",
    "\n",
    "4. **Total Shares**: Die Gesamtzahl der Unseal-Schlüssel-Shares, die während der Initialisierung generiert wurden. In diesem Fall gibt es **1 Share**.\n",
    "\n",
    "5. **Threshold**: Die minimale Anzahl der Shares, die zum Entsiegeln der Vault erforderlich sind. Hier wird **1** Share benötigt, was typisch für Testumgebungen ist.\n",
    "\n",
    "6. **Version**: Die installierte Version von Vault. In diesem Fall ist es **1.18.2**.\n",
    "\n",
    "7. **Build Date**: Das Datum, an dem diese Vault-Version kompiliert wurde (**2024-11-20**).\n",
    "\n",
    "8. **Storage Type**: Gibt den Speichertyp an, der zur Speicherung von Geheimnissen verwendet wird. Hier ist der Typ **inmem** (in-memory), was oft in Entwicklungs- oder Testumgebungen verwendet wird, da die Daten nach einem Neustart verloren gehen.\n",
    "\n",
    "9. **Cluster Name**: Der Name des Clusters, zu dem diese Vault-Instanz gehört (**vault-cluster-34571a99**). Dieser Name wird verwendet, um verschiedene Vault-Instanzen in einem Cluster zu identifizieren.\n",
    "\n",
    "10. **Cluster ID**: Eine eindeutige Kennung (UUID) für die Vault-Instanz in einem Cluster.\n",
    "\n",
    "11. **HA Enabled**: Gibt an, ob der High-Availability-Modus (HA) aktiviert ist. **false** bedeutet, dass keine Hochverfügbarkeit konfiguriert wurde.\n",
    "\n",
    "Diese Informationen geben Einblick in die aktuelle Konfiguration, den Betriebsstatus und die Sicherheitsmerkmale der Vault-Instanz."
   ]
  },
  {
   "cell_type": "code",
   "execution_count": null,
   "id": "a83c2bfa",
   "metadata": {},
   "outputs": [],
   "source": [
    "! vault status"
   ]
  },
  {
   "cell_type": "markdown",
   "id": "c80aeeb3",
   "metadata": {},
   "source": [
    "## Paths\n",
    "\n",
    "| **Path**       | **Type**         | **Bedeutung**  |\n",
    "|----------------|-----------------|----------------|\n",
    "| **cubbyhole/** | cubbyhole        | Temporärer, privater Speicherbereich, der nur für den aktuellen Token zugänglich ist. |\n",
    "| **sys/**       | system           | Systeminterne Operationen (z. B. Metriken, Status, Debugging). |\n",
    "| **identity/**  | identity         | Verwaltung von Identitäten und Gruppen in Vault. |\n",
    "| **secrets/**        | kv               | Key-Value-Speicher, in dem Benutzer beliebige Secrets speichern können (z. B. Passwörter, API-Keys). |\n",
    "\n",
    "Das Cubbyhole in HashiCorp Vault ist ein spezieller, temporärer Speicherbereich, der nur dem aktuellen Token zugeordnet ist. Der Name \"Cubbyhole\" (wörtlich \"Schliessfach\" oder \"Versteck\") verdeutlicht das Konzept: Es handelt sich um einen privaten, isolierten Speicherbereich, der für niemanden ausser dem Besitzer des Tokens zugänglich ist – nicht einmal für den Administrator.\n",
    "\n",
    "\n",
    "Um die Paths (**mounts**) in HashiCorp Vault über die **CLI** anzuzeigen, kannst du den folgenden Befehl verwenden:"
   ]
  },
  {
   "cell_type": "code",
   "execution_count": null,
   "id": "8a0bb1e2",
   "metadata": {},
   "outputs": [],
   "source": [
    "! vault secrets list"
   ]
  }
 ],
 "metadata": {
  "kernelspec": {
   "display_name": "Python 3 (ipykernel)",
   "language": "python",
   "name": "python3"
  },
  "language_info": {
   "codemirror_mode": {
    "name": "ipython",
    "version": 3
   },
   "file_extension": ".py",
   "mimetype": "text/x-python",
   "name": "python",
   "nbconvert_exporter": "python",
   "pygments_lexer": "ipython3",
   "version": "3.12.3"
  }
 },
 "nbformat": 4,
 "nbformat_minor": 5
}
